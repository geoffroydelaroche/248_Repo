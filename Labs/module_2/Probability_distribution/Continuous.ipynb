{
 "cells": [
  {
   "cell_type": "markdown",
   "metadata": {},
   "source": [
    "# Before your start:\n",
    "\n",
    "    Read the README.md file\n",
    "    Comment as much as you can and use the resources (README.md file)\n",
    "    Happy learning!"
   ]
  },
  {
   "cell_type": "markdown",
   "metadata": {},
   "source": [
    "In this exercise, we  will generate random numbers from the continuous disributions we learned in the lesson. There are two ways to generate random numbers:\n",
    "\n",
    "1. Using the numpy library \n",
    "1. using the Scipy library \n",
    "\n",
    "Use either or both of the lbraries in this exercise."
   ]
  },
  {
   "cell_type": "markdown",
   "metadata": {},
   "source": [
    "## Uniform Distribution\n",
    "\n",
    "To generate uniform random numbers between any two given values using scipy, we can either use the following code or the code that we have\n",
    "discussed in class:"
   ]
  },
  {
   "cell_type": "code",
   "execution_count": 1,
   "metadata": {},
   "outputs": [
    {
     "name": "stdout",
     "output_type": "stream",
     "text": [
      "[2.11593036 2.93618624 2.0875374  2.26720689 2.04445167 2.05395196\n",
      " 2.54053178 2.88837266 2.36226955 2.04149984]\n"
     ]
    }
   ],
   "source": [
    "from scipy.stats import uniform\n",
    "x = uniform.rvs(size=10)\n",
    "a = 2\n",
    "b = 3\n",
    "randoms  = a + (b-a)*x\n",
    "print(randoms)"
   ]
  },
  {
   "cell_type": "markdown",
   "metadata": {},
   "source": [
    "**Your task:**\n",
    "\n",
    "1. Based on the code above, write a function that generates uniformly distributed random numbers. There are several requirements for your function:\n",
    "    * It should accept 3 parameters: \n",
    "        * `bottom` - the lower boundary of the generated numbers\n",
    "        * `ceiling` - the upper boundary of the generated numbers\n",
    "        * `count` - how many numbers to generate\n",
    "    * It should return an array of uniformly distributed random numbers\n",
    "\n",
    "1. Call your function with 2 sets of params below:\n",
    "    * bottom=10, ceiling=15, count=100\n",
    "    * bottom=10, ceiling=60, count=1,000\n",
    "\n",
    "1. Plot the uniform distributions generated above using histograms, where x axis is the value and y axis is the count. Let the histogram's number of bins be 10.\n",
    "\n",
    "Your output should look like below:\n",
    "\n",
    "![uniform distribution](ud.png)"
   ]
  },
  {
   "cell_type": "code",
   "execution_count": 2,
   "metadata": {},
   "outputs": [],
   "source": [
    "# your code here\n",
    "def rangeee (bottom, ceiling, count):\n",
    "    x=uniform.rvs(size=count)\n",
    "    return bottom+(ceiling-bottom)*x"
   ]
  },
  {
   "cell_type": "code",
   "execution_count": 3,
   "metadata": {},
   "outputs": [
    {
     "data": {
      "text/plain": [
       "array([13.34712173, 12.39882305, 14.08344129, 13.46758164, 14.81965463,\n",
       "       12.60594091, 11.08582033, 13.30739726, 11.13112486, 10.24771733,\n",
       "       14.61911552, 13.08413512, 14.37873581, 14.99903925, 14.28362023,\n",
       "       12.21580343, 14.82261875, 13.88782393, 11.08099678, 14.8247204 ,\n",
       "       12.10287819, 10.90107148, 12.98728957, 14.82669843, 14.09913908,\n",
       "       10.71337338, 10.26430773, 13.28099065, 11.98665488, 13.95314388,\n",
       "       13.88157989, 13.83119185, 14.06611755, 11.33353112, 10.38307026,\n",
       "       13.75941661, 14.08896249, 14.35476523, 11.72699442, 10.28571744,\n",
       "       10.54780967, 14.42751958, 10.93337626, 12.28637234, 13.00785299,\n",
       "       14.0912693 , 14.5343582 , 13.76725631, 13.96483446, 14.41166273,\n",
       "       11.8975216 , 11.92003695, 11.4748012 , 12.72772472, 14.77136611,\n",
       "       12.16649291, 14.20444437, 10.01703681, 14.17576657, 13.53956854,\n",
       "       10.74551446, 10.94708576, 11.76066142, 14.61929888, 14.65936503,\n",
       "       14.94084509, 11.12890508, 12.85171771, 13.01503986, 10.83125874,\n",
       "       12.72361113, 11.11358877, 10.35838372, 14.79174317, 10.08437316,\n",
       "       12.28616275, 13.64311834, 13.02497705, 12.80964041, 11.40376703,\n",
       "       11.0345575 , 12.21994835, 11.77813645, 11.53895635, 10.78737223,\n",
       "       13.05806841, 13.06287785, 14.33336799, 10.3706849 , 11.39923078,\n",
       "       13.48690585, 13.5128145 , 12.57737665, 10.1756304 , 13.32379145,\n",
       "       12.56410827, 14.64307028, 13.13448587, 11.9727261 , 12.59963142])"
      ]
     },
     "execution_count": 3,
     "metadata": {},
     "output_type": "execute_result"
    }
   ],
   "source": [
    "rangeee(10,15,100)"
   ]
  },
  {
   "cell_type": "code",
   "execution_count": 5,
   "metadata": {},
   "outputs": [
    {
     "data": {
      "text/plain": [
       "(array([ 7.,  7.,  8., 10., 10., 14.,  5., 14., 12., 13.]),\n",
       " array([10.00409524, 10.50095313, 10.99781102, 11.49466891, 11.99152681,\n",
       "        12.4883847 , 12.98524259, 13.48210048, 13.97895837, 14.47581627,\n",
       "        14.97267416]),\n",
       " <BarContainer object of 10 artists>)"
      ]
     },
     "execution_count": 5,
     "metadata": {},
     "output_type": "execute_result"
    },
    {
     "data": {
      "image/png": "[encoded data removed]",
      "text/plain": [
       "<Figure size 432x288 with 1 Axes>"
      ]
     },
     "metadata": {
      "needs_background": "light"
     },
     "output_type": "display_data"
    }
   ],
   "source": [
    "import matplotlib.pyplot as plt\n",
    "plt.hist(rangeee(10,15,100))"
   ]
  },
  {
   "cell_type": "code",
   "execution_count": 6,
   "metadata": {},
   "outputs": [
    {
     "data": {
      "text/plain": [
       "(array([102.,  95., 106., 105., 103.,  73., 100., 110.,  88., 118.]),\n",
       " array([10.00249833, 10.50203916, 11.00157998, 11.50112081, 12.00066163,\n",
       "        12.50020246, 12.99974328, 13.49928411, 13.99882494, 14.49836576,\n",
       "        14.99790659]),\n",
       " <BarContainer object of 10 artists>)"
      ]
     },
     "execution_count": 6,
     "metadata": {},
     "output_type": "execute_result"
    },
    {
     "data": {
      "image/png": "[encoded data removed]",
      "text/plain": [
       "<Figure size 432x288 with 1 Axes>"
      ]
     },
     "metadata": {
      "needs_background": "light"
     },
     "output_type": "display_data"
    }
   ],
   "source": [
    "import matplotlib.pyplot as plt\n",
    "plt.hist(rangeee(10,15,1000))"
   ]
  },
  {
   "cell_type": "markdown",
   "metadata": {},
   "source": [
    "How are the two distributions different?"
   ]
  },
  {
   "cell_type": "code",
   "execution_count": null,
   "metadata": {},
   "outputs": [],
   "source": [
    "# your answer below"
   ]
  },
  {
   "cell_type": "markdown",
   "metadata": {},
   "source": [
    "## Normal Distribution\n",
    "\n",
    "1. In the same way in the Uniform Distribution challenge, write a function that generates normally distributed random numbers.\n",
    "1. Generate 1,000 normally distributed numbers with the average of 10 and standard deviation of 1\n",
    "1. Generate 1,000 normally distributed numbers with the average of 10 and standard deviation of 50\n",
    "2. Plot the distributions of the data generated.\n",
    "\n",
    "Expected output:\n",
    "\n",
    "![normal distribution](nd.png)"
   ]
  },
  {
   "cell_type": "code",
   "execution_count": 9,
   "metadata": {},
   "outputs": [
    {
     "data": {
      "text/plain": [
       "array([ 9.7864292 , 10.03786158,  9.49508128,  9.22622361, 10.56174969,\n",
       "        9.98861923, 10.08973537,  8.79060399,  9.15761974,  9.63139928,\n",
       "        9.98779634,  8.81076663, 10.37972856, 10.48700104,  8.95776225,\n",
       "        9.75442054,  8.27375122,  9.10931281, 10.59719325, 11.81214535,\n",
       "        7.98849177, 10.0200335 ,  8.039212  ,  9.54510629,  7.63136099,\n",
       "        9.91786097,  9.88546105, 10.28526191,  8.04166796, 11.98764925,\n",
       "        7.95439174, 10.80422904, 10.61811558,  9.89156438, 10.08099123,\n",
       "       11.67752917, 10.36873817,  7.47658215,  9.09521099,  7.43123878,\n",
       "       10.42869287, 10.7616723 , 10.05246151, 10.05777768, 10.27202854,\n",
       "        9.35476881, 10.53813311, 11.21705591, 10.96007281, 10.03588595,\n",
       "       10.10640724, 11.06266264,  8.87492229, 10.57252623, 10.55657412,\n",
       "        9.9087113 ,  9.31060528, 10.76649429, 10.28117662,  9.39124931,\n",
       "        9.69746054, 10.3706389 , 10.86881841,  9.93354818,  9.4814798 ,\n",
       "       10.70641031,  9.52813104,  9.36061211,  9.08601422,  9.58981201,\n",
       "       11.65099001,  9.51908601, 10.93692095, 10.55424873,  9.10225986,\n",
       "       11.6513935 ,  7.73877346, 11.21834928, 12.13004239,  8.93049876,\n",
       "        9.48473371,  9.94008637,  9.73026289,  8.7284374 ,  9.52679045,\n",
       "       10.10445255, 10.81854703, 11.24942749,  8.18988238,  9.91341698,\n",
       "       11.85908235, 10.86195202, 10.18032824,  8.47405831,  8.75244888,\n",
       "        9.39356299,  9.8631959 , 10.54557773,  9.66525802, 10.44691416,\n",
       "        8.75186231,  7.95825761,  9.80364992,  7.96979695,  9.44556284,\n",
       "       11.39560228,  9.11207051,  9.40043426, 10.48713629,  9.71939041,\n",
       "       10.27852825, 11.17827146, 11.25139424,  8.78824744, 10.04089394,\n",
       "       11.67004826, 10.85739584,  9.8811513 , 11.64647733, 10.43357384,\n",
       "        9.05194865,  9.91221293, 11.14803644, 10.15349815, 10.37960335,\n",
       "        9.79346321,  9.05537915,  7.94287538,  9.15493917,  8.49955015,\n",
       "        8.67834119,  8.9300822 , 10.56430418, 10.53616133,  9.97219116,\n",
       "       10.17093127,  9.42630276, 10.91418251,  9.84595872,  9.1674325 ,\n",
       "       11.1215916 ,  8.93174379, 10.28840058,  9.14548885, 10.25558299,\n",
       "        9.42093328, 10.69314524, 10.98558017,  8.62264874,  9.57241632,\n",
       "        9.97562559, 10.1168623 ,  9.99554616, 10.09976556, 10.79392654,\n",
       "       11.51514922, 12.40446754, 10.55398426, 11.32457381, 10.23627945,\n",
       "        9.97489793, 11.69459505, 10.28212043,  8.61223552,  9.90663815,\n",
       "        9.79411067,  9.3418625 ,  9.53390779, 11.66236783, 10.30070023,\n",
       "        8.53913456, 10.88718149,  8.96702475, 11.82864295,  9.98382284,\n",
       "        9.38078993, 10.35080167,  9.63024298, 10.25631561,  9.56677367,\n",
       "       11.329855  ,  9.86098356, 10.24990741, 11.8557024 ,  9.03513531,\n",
       "       10.03286935, 10.0255535 ,  9.80601075,  9.90757802,  9.3938744 ,\n",
       "       10.13929197, 10.51310606,  9.48840086, 10.55145324,  9.20726367,\n",
       "       10.63039434,  9.32892826, 10.21465392,  9.68895209, 10.4766163 ,\n",
       "        8.54562401, 10.42936436, 12.58779293,  9.94319682,  9.35726664,\n",
       "        8.49398801, 10.91053525,  9.30496509, 10.75216688,  9.790537  ,\n",
       "        9.41213641,  8.7786953 , 10.4051446 , 10.44418481,  9.36041255,\n",
       "        9.65696273, 10.97199245,  9.21652381, 10.48709636, 10.89674503,\n",
       "        8.83898961, 10.82832725, 10.51991335, 10.33439559,  9.20053669,\n",
       "        8.96199541,  9.1802481 ,  9.61816078,  9.72058848,  9.23792103,\n",
       "        9.00179301, 10.11281672,  9.62965788, 10.2185679 , 10.73590676,\n",
       "       10.31367935,  8.7904902 , 11.5354499 , 11.40225026,  9.56571032,\n",
       "       11.53511886,  9.15734446,  9.46017448,  7.64550275,  9.56223761,\n",
       "        9.58942252, 10.00674557,  9.36387759, 11.06528517, 10.97277149,\n",
       "       10.41860114,  9.94472001,  8.12729314,  8.77754258,  9.08085051,\n",
       "       10.95459761,  9.39411303, 11.40985073, 10.23565235,  9.81947407,\n",
       "       11.49136553,  8.20198488,  9.1860265 , 10.66301161, 10.69562312,\n",
       "       11.70036657, 10.46868471, 10.62655719,  7.17614098, 10.66647333,\n",
       "       11.30470662,  9.84353954,  8.70906256, 10.63626075, 11.31483216,\n",
       "        9.66416368, 10.25441375, 10.06926841, 10.06301723, 10.30878519,\n",
       "       11.97721602,  9.67888334, 10.27858341,  7.53927622, 11.01382194,\n",
       "        9.98279017,  9.27722006,  9.6874489 ,  9.14612163, 10.94116645,\n",
       "       10.33906648, 10.78828311, 10.46192226, 13.14304139,  9.56922547,\n",
       "        9.47043899, 10.19258166,  9.53302326, 10.6736279 , 10.98973229,\n",
       "       10.0529705 ,  9.13893452,  7.974826  , 10.23246009, 10.4809034 ,\n",
       "       11.52126373,  9.80147707,  8.94403523,  9.97186748, 10.84990015,\n",
       "        7.5838638 , 10.57698628, 11.15677981, 10.22052058,  9.32027723,\n",
       "       10.44728499,  9.71158584,  9.15076295,  6.83782216,  9.6354959 ,\n",
       "        9.34246565, 11.49197099, 11.13520229,  9.99052608, 10.57283564,\n",
       "       10.08809614,  8.79982561, 10.26978706, 10.16430106, 10.67945428,\n",
       "        9.11940185,  9.01024736, 11.34781629, 10.13331126, 10.14559215,\n",
       "       10.87472634, 10.75476903,  9.31137475, 11.19324069, 11.21533874,\n",
       "       10.56258918,  7.84481269, 10.3346512 , 10.22191576, 10.61918826,\n",
       "        8.72331502,  9.30634821, 10.39745607,  9.55950789, 11.52003293,\n",
       "       10.19130045,  9.46901214,  8.55280756, 10.81700231, 10.01721523,\n",
       "       10.26156849, 11.56851337, 10.27120282, 10.30368734, 10.71301089,\n",
       "       10.94538489, 10.04599524, 10.84152128,  9.25226894, 10.51214119,\n",
       "       11.03184528,  9.43247126, 11.2458878 ,  8.7150334 , 10.75214221,\n",
       "       11.27590161,  9.80895295, 11.85829763, 10.48544553, 11.07806573,\n",
       "        9.26210484,  8.4405718 ,  8.56457965,  9.53442076,  9.85055779,\n",
       "        9.83637642,  8.58187692,  9.64774138, 10.00263692,  9.32191219,\n",
       "       11.2743851 ,  9.97874301,  9.75603714,  7.98244087, 10.31514707,\n",
       "       10.36132239,  8.4508534 , 10.18158697, 10.80927307, 11.49071422,\n",
       "        9.9896777 , 10.44285685, 10.17504644, 11.05318019,  9.93882537,\n",
       "        9.68789785, 11.31113855, 10.51949108,  8.84296452,  9.97400289,\n",
       "        9.08210503,  9.59443221,  8.37994302,  9.67824687, 10.53629803,\n",
       "        9.31547117,  9.61593047,  9.18314972,  9.41445464,  9.4476323 ,\n",
       "       10.25326486,  8.29034742,  9.64888834,  9.31570645,  7.79731253,\n",
       "        8.34742743,  9.50913048,  9.51949178, 10.74987985, 10.63768063,\n",
       "       10.00557892,  9.16580856,  9.49563824, 10.62472262,  9.17848928,\n",
       "       11.04022711,  8.24893071,  9.42241274, 12.16374451,  8.59701429,\n",
       "       11.64593289,  9.03305549, 11.11485239, 10.24935058,  9.36032464,\n",
       "       10.41245152, 10.13044279, 11.3627953 , 10.8637349 , 11.36498959,\n",
       "       10.09069216, 10.03924576, 10.46672023,  9.46043496, 10.16163871,\n",
       "        8.78722326, 10.37284002,  8.82679398,  8.32192872,  9.13215408,\n",
       "        9.38961441,  9.46960146,  9.1676909 , 10.25482777, 11.24608947,\n",
       "        9.97831159,  9.9650699 ,  9.56147661,  9.00531498,  9.94997534,\n",
       "        9.39527186,  9.66037453, 10.14274867,  8.68696853, 12.64974296,\n",
       "       11.01022997,  9.92000301,  9.12837345,  8.47454394,  8.54358139,\n",
       "       11.02877265, 10.31915677, 11.44885555,  8.42570185, 10.29559162,\n",
       "        9.09304922,  9.58616867,  9.55646043,  9.04176623, 10.13626778,\n",
       "        8.58699123,  9.41365615, 10.66841108,  8.8431368 ,  8.95183585,\n",
       "       11.22892425, 10.57881078, 10.88168925, 12.16146073,  8.07777025,\n",
       "        9.8720536 , 10.05061401, 10.18188959, 10.57111815,  8.55572011,\n",
       "       11.49859529,  9.10395613, 11.2197377 ,  8.95078211, 11.17770925,\n",
       "        8.78747462, 11.02923481, 10.5292806 ,  9.53459827,  8.92314065,\n",
       "        9.06967865,  8.6278133 ,  9.53488057,  9.08915876, 10.52704129,\n",
       "       10.755008  ,  9.25971599,  8.72738505, 10.62445396,  9.53116926,\n",
       "        9.11884361,  9.97437675, 10.39713056, 10.42346579, 10.31183267,\n",
       "        9.24657805, 10.27639177,  9.40328457, 11.11426087, 11.41873675,\n",
       "        9.26387793,  9.99223705, 10.58278484, 10.34173489,  9.65410658,\n",
       "        9.03447825, 10.07521166, 10.15643679, 10.19837664, 10.57233094,\n",
       "        9.02820508, 10.64963864,  8.62855777, 10.37241086,  9.59835252,\n",
       "       11.22485942,  9.70818871, 11.06886259,  8.10977185,  9.75459891,\n",
       "        9.4405622 , 10.35628392, 10.11993815, 10.42133363,  8.13584143,\n",
       "       10.97120066,  8.51255304, 10.62248073,  9.7790986 ,  9.6066961 ,\n",
       "       10.62099358,  9.78118484,  8.86880843,  9.90508383,  9.94981113,\n",
       "       11.49610941, 11.2189236 , 10.21577587, 11.35132649, 12.07439799,\n",
       "       11.63156702,  9.28632106,  9.6355858 , 10.36667893,  9.50224336,\n",
       "       10.6586548 ,  9.36658668, 10.46709607,  9.84653609, 10.43763537,\n",
       "        9.82329702, 10.04837399, 12.51159867,  9.67197482,  8.85170564,\n",
       "        9.38259298, 10.9630878 , 10.79360097,  9.17894394, 10.61031417,\n",
       "       10.20709915,  9.74708651,  9.78049619, 10.7019523 , 11.37864353,\n",
       "        8.48889834,  9.45483537,  9.89884357,  9.71655253,  8.47636922,\n",
       "       10.94378364, 11.93319547, 10.52648983, 11.20536497, 11.501222  ,\n",
       "        9.94043765,  9.43593497, 10.58940052,  9.77599012,  8.28878317,\n",
       "       10.70870152,  9.97907419, 10.15986792,  9.41700082, 10.56153786,\n",
       "        9.61285733, 10.52509149,  9.56387595, 11.84940849,  9.90934025,\n",
       "       12.91594048,  9.51202189,  9.47873836, 10.53141646,  8.02961094,\n",
       "        8.78965369, 10.32893708,  8.37714955, 10.08385403, 11.24996123,\n",
       "       11.35864373, 11.24409552,  9.41943285,  8.83336577, 10.58396635,\n",
       "       10.01989618, 11.63607287,  8.64066119,  9.97216795,  9.41665886,\n",
       "        9.89256865, 11.26655514, 10.18104517,  9.11721383,  9.33930072,\n",
       "        9.9276803 , 10.5208249 , 10.45384719, 11.94005143, 10.46769874,\n",
       "        9.17107187,  9.56331463, 10.87595469, 10.09871451, 10.54025628,\n",
       "        8.5932609 ,  8.17649702,  8.41101777,  9.17293848, 10.0657193 ,\n",
       "       11.17274862, 10.23781518,  9.70682551,  9.81803643, 10.49214002,\n",
       "        8.79020619, 11.8711719 , 10.93904165,  9.17692748, 10.19751203,\n",
       "       11.00298034, 10.47870471,  8.68136345,  9.53488036,  8.33370214,\n",
       "       10.35075824, 10.06297412, 10.29756114, 10.56027389, 11.36391153,\n",
       "        9.97731238,  8.92780971, 11.60364405, 10.12092374,  9.61541613,\n",
       "       10.24765452, 11.15141042, 11.32266957, 10.17991437, 10.64522925,\n",
       "       13.14096622,  8.58562526,  7.98456483,  8.045364  , 10.75797296,\n",
       "        8.53290786, 10.45492282,  8.90423235, 10.59708043, 10.82882885,\n",
       "       10.16763376,  9.68645156,  9.14809164,  9.77967529, 10.46203795,\n",
       "       11.02635304,  7.27998273,  8.9716793 ,  9.8554586 ,  8.0205379 ,\n",
       "        8.83852103,  8.98414452, 10.2509252 ,  9.44882977,  9.47182447,\n",
       "        9.25674508,  8.56036495, 10.54337824, 11.92810381, 10.05483305,\n",
       "        9.80220287,  9.60656571,  9.57319273,  9.80389536, 10.60217189,\n",
       "        9.46935147, 10.27207141, 12.50800862,  9.16658431, 11.17064294,\n",
       "        8.90671973, 10.55084375,  7.95898323,  9.83434244,  9.05957585,\n",
       "        8.31040875, 10.52922266, 11.30378214, 10.52078135,  8.79803582,\n",
       "       10.01081727, 11.53064662, 11.13488748, 10.21542606, 10.29410942,\n",
       "        8.20507808, 11.39609224,  8.4289309 , 10.97963381, 10.58054332,\n",
       "        9.24024874, 11.63397063,  8.67418598,  8.97301406,  9.32241939,\n",
       "       11.62194917, 10.09140475,  9.60631937,  9.75142746,  9.25913091,\n",
       "       10.52001722, 10.66373642, 11.25506276, 10.8106161 ,  7.70854424,\n",
       "        9.32678857, 11.11885254,  9.82721314,  9.08237659, 10.18674471,\n",
       "        9.71155954,  8.495674  ,  9.89730529, 10.15634262,  9.37860215,\n",
       "       10.15196097,  9.13211399,  9.29186531,  9.87432759, 10.59367736,\n",
       "       10.43537379, 10.95894065, 10.24838209, 10.6483547 ,  9.62440603,\n",
       "       10.50790807,  9.81887872,  8.81406074,  9.89767672, 11.06601501,\n",
       "       10.08250907,  8.2617132 , 11.21979014, 10.0382654 ,  7.23827725,\n",
       "       11.99150877, 10.25113545,  9.65013738,  7.63556275, 10.33372758,\n",
       "       10.59887388, 11.12868965, 11.53983712, 10.96410093,  8.34419169,\n",
       "       10.57624572,  9.71880519,  8.27313617,  9.91061652,  9.67597085,\n",
       "        8.822871  ,  9.78142304,  7.62268505,  9.41250107,  9.94639951,\n",
       "       10.19185466, 10.76172951, 10.57361955,  9.41900387,  9.04868359,\n",
       "       11.62031199,  9.99930006,  9.87080167,  9.44811408,  9.14712691,\n",
       "       10.38697822,  9.96241198,  9.9905786 , 10.20198297,  9.94583013,\n",
       "       10.8484817 ,  9.75580462,  9.88747088, 11.25928228, 10.5090419 ,\n",
       "       10.86251468,  9.96596274, 11.27117317,  9.56910376, 10.1693504 ,\n",
       "        8.27960921, 12.6857472 , 10.39850312,  9.78567188,  9.79804771,\n",
       "        9.10765081,  8.49152357,  8.38616432, 10.8431793 ,  9.43043   ,\n",
       "        9.62563662, 10.79072204, 10.25497887, 10.38146443,  8.17393635,\n",
       "        9.75109364,  9.60768916,  9.25076274, 10.77465363,  9.55168683,\n",
       "        9.11906895,  7.91616445, 10.04144472, 10.84139622, 11.96615733,\n",
       "        9.61184479, 10.13845583,  9.93106793, 10.34012892, 10.51366849,\n",
       "       10.13472458,  9.00094357, 10.32267809, 11.1298712 ,  9.757944  ,\n",
       "        8.68233063, 10.35985618, 11.38375421,  9.955482  , 10.01866406,\n",
       "        9.38801832,  9.37870974, 10.87151517,  9.38095147,  9.98146441,\n",
       "        8.29301802, 10.13599982,  9.40021825,  8.70161497,  9.57610639,\n",
       "        9.83677987, 11.90054507, 10.06551087, 11.26065417, 11.77564298,\n",
       "       10.8609992 , 12.69644012,  7.81249527,  9.10494562, 10.52323277,\n",
       "        8.34576196,  8.88929467,  9.8921218 ,  9.58135677, 10.49449511,\n",
       "        7.83811424, 11.58571515, 10.84263438,  9.44608911,  9.56825322,\n",
       "       10.23887795, 11.07749578,  8.10235597,  9.04695297, 10.01980785,\n",
       "       10.45140576,  9.6275772 ,  9.27557352, 10.35210816, 11.29393325,\n",
       "       12.022579  ,  9.7569258 , 10.32832318,  9.49445598, 10.58668227,\n",
       "        9.77968829,  9.89323995, 10.80519733,  8.78001768, 10.01671289,\n",
       "       11.5056258 ,  8.89281971,  9.30091574, 11.66776592,  7.79777992,\n",
       "       11.06086491,  9.71148415, 11.0770219 ,  8.86437026,  9.42972259,\n",
       "        9.49686938,  9.28726586,  8.95164568,  9.89093487, 10.28696456,\n",
       "        8.7578606 ,  8.40130938,  9.27489711,  9.19511728, 10.2606426 ,\n",
       "        8.28004219, 10.56117884,  9.81779678,  7.23401167, 10.37406674,\n",
       "       11.51015116,  9.6925021 ,  9.61285235,  8.35031895, 10.232625  ,\n",
       "       10.82290189, 10.95757735,  6.70592427,  7.83253941, 10.74106647,\n",
       "       11.49296299, 10.47300214, 10.16911567,  9.91184879,  8.37944364,\n",
       "        9.88101574,  9.14672419, 10.90503404, 10.01592096,  9.20008791,\n",
       "        9.43982845, 11.87349918,  9.1547148 , 10.77091514, 10.72159782,\n",
       "        7.29978155, 10.07967528,  8.77125597,  8.41474465,  8.42630583,\n",
       "       10.04502714,  9.81894726, 10.60826456,  8.60318879, 10.69409292,\n",
       "        9.88344976, 10.81107308, 11.04244442,  9.79923182,  9.72105592,\n",
       "        9.77804755, 10.69203869,  9.70992247, 10.83980403, 10.47978235])"
      ]
     },
     "execution_count": 9,
     "metadata": {},
     "output_type": "execute_result"
    }
   ],
   "source": [
    "# your code here\n",
    "from scipy.stats import norm\n",
    "norm.rvs(size=1000, loc=10, scale=1)"
   ]
  },
  {
   "cell_type": "code",
   "execution_count": 10,
   "metadata": {},
   "outputs": [
    {
     "data": {
      "text/plain": [
       "(array([  8.,  21.,  70., 170., 237., 205., 181.,  76.,  21.,  11.]),\n",
       " array([ 6.84460285,  7.46342357,  8.08224428,  8.701065  ,  9.31988572,\n",
       "         9.93870644, 10.55752716, 11.17634787, 11.79516859, 12.41398931,\n",
       "        13.03281003]),\n",
       " <BarContainer object of 10 artists>)"
      ]
     },
     "execution_count": 10,
     "metadata": {},
     "output_type": "execute_result"
    },
    {
     "data": {
      "image/png": "[encoded data removed]",
      "text/plain": [
       "<Figure size 432x288 with 1 Axes>"
      ]
     },
     "metadata": {
      "needs_background": "light"
     },
     "output_type": "display_data"
    }
   ],
   "source": [
    "plt.hist(norm.rvs(size=1000, loc=10, scale=1))"
   ]
  },
  {
   "cell_type": "code",
   "execution_count": 11,
   "metadata": {},
   "outputs": [],
   "source": [
    "def foo(x,y,z):\n",
    "    return norm.rvs(size=x, loc=y, scale=1)"
   ]
  },
  {
   "cell_type": "code",
   "execution_count": 12,
   "metadata": {},
   "outputs": [
    {
     "data": {
      "text/plain": [
       "(array([1., 2., 1., 0., 0., 1., 2., 0., 1., 2.]),\n",
       " array([49.46333976, 49.67893673, 49.8945337 , 50.11013067, 50.32572765,\n",
       "        50.54132462, 50.75692159, 50.97251856, 51.18811553, 51.4037125 ,\n",
       "        51.61930947]),\n",
       " <BarContainer object of 10 artists>)"
      ]
     },
     "execution_count": 12,
     "metadata": {},
     "output_type": "execute_result"
    },
    {
     "data": {
      "image/png": "[encoded data removed]",
      "text/plain": [
       "<Figure size 432x288 with 1 Axes>"
      ]
     },
     "metadata": {
      "needs_background": "light"
     },
     "output_type": "display_data"
    }
   ],
   "source": [
    "plt.hist(foo(10,50,1000))"
   ]
  },
  {
   "cell_type": "markdown",
   "metadata": {},
   "source": [
    "How are the two distributions different?"
   ]
  },
  {
   "cell_type": "code",
   "execution_count": null,
   "metadata": {},
   "outputs": [],
   "source": [
    "# your answer below"
   ]
  },
  {
   "cell_type": "markdown",
   "metadata": {},
   "source": [
    "## Normal Distribution of Real Data\n",
    "\n",
    "In this challenge we are going to take a look the real data. We will use vehicles.csv file for this exercise"
   ]
  },
  {
   "cell_type": "markdown",
   "metadata": {},
   "source": [
    "First import vehicles.csv.\n",
    "Then plot the histograms for the following variables:\n",
    "\n",
    "1. Fuel Barrels/Year"
   ]
  },
  {
   "cell_type": "code",
   "execution_count": 13,
   "metadata": {},
   "outputs": [
    {
     "data": {
      "text/plain": [
       "'/Users/Jeff/248_Repo/Labs/module_2/Probability_distribution'"
      ]
     },
     "execution_count": 13,
     "metadata": {},
     "output_type": "execute_result"
    }
   ],
   "source": [
    "# your code here\n",
    "import os\n",
    "os.getcwd()"
   ]
  },
  {
   "cell_type": "code",
   "execution_count": 15,
   "metadata": {},
   "outputs": [],
   "source": [
    "import pandas as pd\n",
    "df=pd.read_csv('/Users/Jeff/Downloads/vehicles/vehicles.csv')"
   ]
  },
  {
   "cell_type": "code",
   "execution_count": 19,
   "metadata": {},
   "outputs": [
    {
     "data": {
      "text/plain": [
       "<AxesSubplot:>"
      ]
     },
     "execution_count": 19,
     "metadata": {},
     "output_type": "execute_result"
    },
    {
     "data": {
      "image/png": "[encoded data removed]",
      "text/plain": [
       "<Figure size 432x288 with 1 Axes>"
      ]
     },
     "metadata": {
      "needs_background": "light"
     },
     "output_type": "display_data"
    }
   ],
   "source": [
    "df['Fuel Barrels/Year'].hist(bins=20)"
   ]
  },
  {
   "cell_type": "markdown",
   "metadata": {},
   "source": [
    "2. CO2 Emission Grams/Mile "
   ]
  },
  {
   "cell_type": "code",
   "execution_count": 20,
   "metadata": {},
   "outputs": [
    {
     "data": {
      "text/plain": [
       "<AxesSubplot:>"
      ]
     },
     "execution_count": 20,
     "metadata": {},
     "output_type": "execute_result"
    },
    {
     "data": {
      "image/png": "[encoded data removed]",
      "text/plain": [
       "<Figure size 432x288 with 1 Axes>"
      ]
     },
     "metadata": {
      "needs_background": "light"
     },
     "output_type": "display_data"
    }
   ],
   "source": [
    "# your code here\n",
    "df['CO2 Emission Grams/Mile'].hist(bins=20)"
   ]
  },
  {
   "cell_type": "markdown",
   "metadata": {},
   "source": [
    "3. Combined MPG"
   ]
  },
  {
   "cell_type": "code",
   "execution_count": 21,
   "metadata": {},
   "outputs": [
    {
     "data": {
      "text/plain": [
       "<AxesSubplot:>"
      ]
     },
     "execution_count": 21,
     "metadata": {},
     "output_type": "execute_result"
    },
    {
     "data": {
      "image/png": "[encoded data removed]",
      "text/plain": [
       "<Figure size 432x288 with 1 Axes>"
      ]
     },
     "metadata": {
      "needs_background": "light"
     },
     "output_type": "display_data"
    }
   ],
   "source": [
    "# your code here\n",
    "df['Combined MPG'].hist(bins=20)"
   ]
  },
  {
   "cell_type": "markdown",
   "metadata": {},
   "source": [
    "Which one(s) of the variables are nearly normally distributed? How do you know?"
   ]
  },
  {
   "cell_type": "raw",
   "metadata": {},
   "source": [
    "# your answer here\n",
    "The first one"
   ]
  },
  {
   "cell_type": "markdown",
   "metadata": {},
   "source": [
    "## Exponential Distribution"
   ]
  },
  {
   "cell_type": "markdown",
   "metadata": {},
   "source": [
    "1. Using `numpy.random.exponential`, create a function that returns a list of numbers exponentially distributed with the mean of 10. \n",
    "\n",
    "1. Use the function to generate two number sequences with the size of 1 and 100.\n",
    "\n",
    "1. Plot the distributions as histograms with the nubmer of bins as 100.\n",
    "\n",
    "Your output should look like below:\n",
    "\n",
    "![exponential distribution](ed.png)"
   ]
  },
  {
   "cell_type": "code",
   "execution_count": 27,
   "metadata": {},
   "outputs": [],
   "source": [
    "# your code here\n",
    "import numpy as np\n",
    "\n",
    "def eoo(size):\n",
    "    return np.random.exponential(10, size)"
   ]
  },
  {
   "cell_type": "code",
   "execution_count": 31,
   "metadata": {},
   "outputs": [
    {
     "data": {
      "image/png": "[encoded data removed]",
      "text/plain": [
       "<Figure size 432x288 with 1 Axes>"
      ]
     },
     "metadata": {
      "needs_background": "light"
     },
     "output_type": "display_data"
    }
   ],
   "source": [
    "plt.hist(eoo(1000));"
   ]
  },
  {
   "cell_type": "code",
   "execution_count": 30,
   "metadata": {},
   "outputs": [
    {
     "data": {
      "image/png": "[encoded data removed]",
      "text/plain": [
       "<Figure size 432x288 with 1 Axes>"
      ]
     },
     "metadata": {
      "needs_background": "light"
     },
     "output_type": "display_data"
    }
   ],
   "source": [
    "plt.hist(eoo(1000), bins=100);"
   ]
  },
  {
   "cell_type": "code",
   "execution_count": 33,
   "metadata": {},
   "outputs": [
    {
     "data": {
      "image/png": "[encoded data removed]",
      "text/plain": [
       "<Figure size 432x288 with 1 Axes>"
      ]
     },
     "metadata": {
      "needs_background": "light"
     },
     "output_type": "display_data"
    }
   ],
   "source": [
    "plt.hist(eoo(100), bins=10);"
   ]
  },
  {
   "cell_type": "markdown",
   "metadata": {},
   "source": [
    "How are the two distributions different?"
   ]
  },
  {
   "cell_type": "code",
   "execution_count": null,
   "metadata": {},
   "outputs": [],
   "source": [
    "# your answer here"
   ]
  },
  {
   "cell_type": "markdown",
   "metadata": {},
   "source": [
    "## Exponential Distribution of Real Data\n",
    "\n",
    "Suppose that the amount of time one spends in a bank is exponentially distributed with mean as 10 minutes (i.e. λ = 1/10). What is the probability that a customer will spend less than fifteen minutes in the bank? \n",
    "\n",
    "Write a code in python to solve this problem"
   ]
  },
  {
   "cell_type": "code",
   "execution_count": 38,
   "metadata": {},
   "outputs": [
    {
     "data": {
      "text/plain": [
       "0.9932620530009145"
      ]
     },
     "execution_count": 38,
     "metadata": {},
     "output_type": "execute_result"
    }
   ],
   "source": [
    "# your answer here\n",
    "# Hint: This is same as saying P(x<15)\n",
    "from scipy.stats import expon\n",
    "\n",
    "expon.cdf(15, loc=10)"
   ]
  },
  {
   "cell_type": "code",
   "execution_count": null,
   "metadata": {},
   "outputs": [],
   "source": []
  },
  {
   "cell_type": "markdown",
   "metadata": {},
   "source": [
    "What is the probability that the customer will spend more than 15 minutes"
   ]
  },
  {
   "cell_type": "code",
   "execution_count": 40,
   "metadata": {},
   "outputs": [
    {
     "data": {
      "text/plain": [
       "0.006737946999085476"
      ]
     },
     "execution_count": 40,
     "metadata": {},
     "output_type": "execute_result"
    }
   ],
   "source": [
    "# your answer here\n",
    "1 - expon.cdf(15, loc=10)"
   ]
  },
  {
   "cell_type": "code",
   "execution_count": null,
   "metadata": {},
   "outputs": [],
   "source": []
  }
 ],
 "metadata": {
  "kernelspec": {
   "display_name": "Python 3",
   "language": "python",
   "name": "python3"
  },
  "language_info": {
   "codemirror_mode": {
    "name": "ipython",
    "version": 3
   },
   "file_extension": ".py",
   "mimetype": "text/x-python",
   "name": "python",
   "nbconvert_exporter": "python",
   "pygments_lexer": "ipython3",
   "version": "3.8.5"
  }
 },
 "nbformat": 4,
 "nbformat_minor": 2
}
