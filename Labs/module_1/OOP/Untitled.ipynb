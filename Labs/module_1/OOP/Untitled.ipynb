{
 "cells": [
  {
   "cell_type": "code",
   "execution_count": 3,
   "metadata": {},
   "outputs": [
    {
     "name": "stdout",
     "output_type": "stream",
     "text": [
      "Press 1 to convert from Fahrenheit to Celsius or Press 2 to convert from Celsius to Fahrenheit.2\n",
      "What is the number you want to convert?20\n",
      "68.0\n"
     ]
    }
   ],
   "source": [
    "x = int(input(\"Press 1 to convert from Fahrenheit to Celsius or Press 2 to convert from Celsius to Fahrenheit.\"))\n",
    "y = input(\"What is the number you want to convert?\")\n",
    "z = float(x)\n",
    "\n",
    "if z == 1:\n",
    "    y=(float(y)-32)*5/9\n",
    "    print(y)\n",
    "elif z == 2:\n",
    "    y=float(y)*9/5+32\n",
    "    print(y)\n",
    "else:\n",
    "    print(\"Please enter either 1 or 2\")"
   ]
  },
  {
   "cell_type": "code",
   "execution_count": null,
   "metadata": {},
   "outputs": [],
   "source": [
    "x=int(input('Press 1 to convert F to C or Press 2 to convert C to F'))\n",
    "y=input('Number?')\n",
    "\n",
    "if x==1:\n",
    "    y=(y)-32)*5/9\n",
    "    print(y)"
   ]
  }
 ],
 "metadata": {
  "kernelspec": {
   "display_name": "Python 3",
   "language": "python",
   "name": "python3"
  },
  "language_info": {
   "codemirror_mode": {
    "name": "ipython",
    "version": 3
   },
   "file_extension": ".py",
   "mimetype": "text/x-python",
   "name": "python",
   "nbconvert_exporter": "python",
   "pygments_lexer": "ipython3",
   "version": "3.8.5"
  }
 },
 "nbformat": 4,
 "nbformat_minor": 4
}
