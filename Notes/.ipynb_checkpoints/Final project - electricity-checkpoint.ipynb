{
 "cells": [
  {
   "cell_type": "code",
   "execution_count": 1,
   "metadata": {},
   "outputs": [],
   "source": [
    "import pandas as pd"
   ]
  },
  {
   "cell_type": "code",
   "execution_count": 55,
   "metadata": {},
   "outputs": [],
   "source": [
    "df_2009=pd.read_csv('/Users/Jeff/Downloads/donnees-electricite-2017 (1)/donnees_elec_2009.csv', encoding = \"ISO-8859-1\", sep=';')"
   ]
  },
  {
   "cell_type": "code",
   "execution_count": 56,
   "metadata": {},
   "outputs": [
    {
     "data": {
      "text/plain": [
       "(63, 20)"
      ]
     },
     "execution_count": 56,
     "metadata": {},
     "output_type": "execute_result"
    }
   ],
   "source": [
    "df_2009.shape"
   ]
  },
  {
   "cell_type": "code",
   "execution_count": 33,
   "metadata": {},
   "outputs": [],
   "source": [
    "df_2008=pd.read_csv('/Users/Jeff/Downloads/donnees-electricite-2017 (1)/donnees_elec_2008.csv', encoding = \"ISO-8859-1\", sep=';')"
   ]
  },
  {
   "cell_type": "code",
   "execution_count": 34,
   "metadata": {},
   "outputs": [
    {
     "data": {
      "text/plain": [
       "(56, 20)"
      ]
     },
     "execution_count": 34,
     "metadata": {},
     "output_type": "execute_result"
    }
   ],
   "source": [
    "df_2008.shape"
   ]
  },
  {
   "cell_type": "code",
   "execution_count": 35,
   "metadata": {},
   "outputs": [],
   "source": [
    "df_2010=pd.read_csv('/Users/Jeff/Downloads/donnees-electricite-2017 (1)/donnees_elec_2010.csv', encoding = \"ISO-8859-1\", sep=';')"
   ]
  },
  {
   "cell_type": "code",
   "execution_count": 36,
   "metadata": {},
   "outputs": [
    {
     "data": {
      "text/plain": [
       "(65, 20)"
      ]
     },
     "execution_count": 36,
     "metadata": {},
     "output_type": "execute_result"
    }
   ],
   "source": [
    "df_2010.shape"
   ]
  },
  {
   "cell_type": "code",
   "execution_count": 37,
   "metadata": {},
   "outputs": [],
   "source": [
    "df_2011=pd.read_csv('/Users/Jeff/Downloads/donnees-electricite-2017 (1)/donnees_elec_2011.csv', encoding = \"ISO-8859-1\", sep=';')"
   ]
  },
  {
   "cell_type": "code",
   "execution_count": 38,
   "metadata": {},
   "outputs": [
    {
     "data": {
      "text/plain": [
       "(48774, 20)"
      ]
     },
     "execution_count": 38,
     "metadata": {},
     "output_type": "execute_result"
    }
   ],
   "source": [
    "df_2011.shape"
   ]
  },
  {
   "cell_type": "code",
   "execution_count": 39,
   "metadata": {},
   "outputs": [
    {
     "data": {
      "text/html": [
       "<div>\n",
       "<style scoped>\n",
       "    .dataframe tbody tr th:only-of-type {\n",
       "        vertical-align: middle;\n",
       "    }\n",
       "\n",
       "    .dataframe tbody tr th {\n",
       "        vertical-align: top;\n",
       "    }\n",
       "\n",
       "    .dataframe thead th {\n",
       "        text-align: right;\n",
       "    }\n",
       "</style>\n",
       "<table border=\"1\" class=\"dataframe\">\n",
       "  <thead>\n",
       "    <tr style=\"text-align: right;\">\n",
       "      <th></th>\n",
       "      <th>OPERATEUR</th>\n",
       "      <th>ANNEE</th>\n",
       "      <th>FILIERE</th>\n",
       "      <th>TYPE</th>\n",
       "      <th>CODE</th>\n",
       "      <th>CONSOA</th>\n",
       "      <th>PDLA</th>\n",
       "      <th>INDQUALA</th>\n",
       "      <th>CONSOI</th>\n",
       "      <th>PDLI</th>\n",
       "      <th>INDQUALI</th>\n",
       "      <th>CONSOT</th>\n",
       "      <th>PDLT</th>\n",
       "      <th>INDQUALT</th>\n",
       "      <th>CONSOR</th>\n",
       "      <th>PDLR</th>\n",
       "      <th>INDQUALR</th>\n",
       "      <th>CONSONA</th>\n",
       "      <th>PDLNA</th>\n",
       "      <th>INDQUALNA</th>\n",
       "    </tr>\n",
       "  </thead>\n",
       "  <tbody>\n",
       "    <tr>\n",
       "      <th>0</th>\n",
       "      <td>Enedis</td>\n",
       "      <td>2011</td>\n",
       "      <td>E</td>\n",
       "      <td>InterCom</td>\n",
       "      <td>0</td>\n",
       "      <td>0,00</td>\n",
       "      <td>0</td>\n",
       "      <td>0,000000</td>\n",
       "      <td>0,00</td>\n",
       "      <td>0</td>\n",
       "      <td>0,000000</td>\n",
       "      <td>0,00</td>\n",
       "      <td>0</td>\n",
       "      <td>0,000000</td>\n",
       "      <td>1682,00</td>\n",
       "      <td>176</td>\n",
       "      <td>0,372100</td>\n",
       "      <td>0,00</td>\n",
       "      <td>0</td>\n",
       "      <td>0,000000</td>\n",
       "    </tr>\n",
       "    <tr>\n",
       "      <th>1</th>\n",
       "      <td>Enedis</td>\n",
       "      <td>2011</td>\n",
       "      <td>E</td>\n",
       "      <td>Region</td>\n",
       "      <td>11</td>\n",
       "      <td>0,00</td>\n",
       "      <td>0</td>\n",
       "      <td>0,000000</td>\n",
       "      <td>0,00</td>\n",
       "      <td>0</td>\n",
       "      <td>0,000000</td>\n",
       "      <td>0,00</td>\n",
       "      <td>0</td>\n",
       "      <td>0,000000</td>\n",
       "      <td>2964,78</td>\n",
       "      <td>285</td>\n",
       "      <td>0,356390</td>\n",
       "      <td>0,00</td>\n",
       "      <td>0</td>\n",
       "      <td>0,000000</td>\n",
       "    </tr>\n",
       "    <tr>\n",
       "      <th>2</th>\n",
       "      <td>Enedis</td>\n",
       "      <td>2011</td>\n",
       "      <td>E</td>\n",
       "      <td>InterCom</td>\n",
       "      <td>200023414</td>\n",
       "      <td>0,00</td>\n",
       "      <td>0</td>\n",
       "      <td>0,000000</td>\n",
       "      <td>0,00</td>\n",
       "      <td>0</td>\n",
       "      <td>0,000000</td>\n",
       "      <td>0,00</td>\n",
       "      <td>0</td>\n",
       "      <td>0,000000</td>\n",
       "      <td>333,32</td>\n",
       "      <td>32</td>\n",
       "      <td>0,506710</td>\n",
       "      <td>0,00</td>\n",
       "      <td>0</td>\n",
       "      <td>0,000000</td>\n",
       "    </tr>\n",
       "    <tr>\n",
       "      <th>3</th>\n",
       "      <td>Enedis</td>\n",
       "      <td>2011</td>\n",
       "      <td>E</td>\n",
       "      <td>Region</td>\n",
       "      <td>21</td>\n",
       "      <td>0,00</td>\n",
       "      <td>0</td>\n",
       "      <td>0,000000</td>\n",
       "      <td>0,00</td>\n",
       "      <td>0</td>\n",
       "      <td>0,000000</td>\n",
       "      <td>0,00</td>\n",
       "      <td>0</td>\n",
       "      <td>0,000000</td>\n",
       "      <td>278,42</td>\n",
       "      <td>51</td>\n",
       "      <td>0,331370</td>\n",
       "      <td>0,00</td>\n",
       "      <td>0</td>\n",
       "      <td>0,000000</td>\n",
       "    </tr>\n",
       "    <tr>\n",
       "      <th>4</th>\n",
       "      <td>Enedis</td>\n",
       "      <td>2011</td>\n",
       "      <td>E</td>\n",
       "      <td>Region</td>\n",
       "      <td>22</td>\n",
       "      <td>0,00</td>\n",
       "      <td>0</td>\n",
       "      <td>0,000000</td>\n",
       "      <td>0,00</td>\n",
       "      <td>0</td>\n",
       "      <td>0,000000</td>\n",
       "      <td>0,00</td>\n",
       "      <td>0</td>\n",
       "      <td>0,000000</td>\n",
       "      <td>164,48</td>\n",
       "      <td>24</td>\n",
       "      <td>0,671570</td>\n",
       "      <td>0,00</td>\n",
       "      <td>0</td>\n",
       "      <td>0,000000</td>\n",
       "    </tr>\n",
       "  </tbody>\n",
       "</table>\n",
       "</div>"
      ],
      "text/plain": [
       "  OPERATEUR  ANNEE FILIERE      TYPE       CODE CONSOA  PDLA  INDQUALA CONSOI  \\\n",
       "0    Enedis   2011       E  InterCom          0   0,00     0  0,000000   0,00   \n",
       "1    Enedis   2011       E    Region         11   0,00     0  0,000000   0,00   \n",
       "2    Enedis   2011       E  InterCom  200023414   0,00     0  0,000000   0,00   \n",
       "3    Enedis   2011       E    Region         21   0,00     0  0,000000   0,00   \n",
       "4    Enedis   2011       E    Region         22   0,00     0  0,000000   0,00   \n",
       "\n",
       "   PDLI  INDQUALI CONSOT  PDLT  INDQUALT   CONSOR  PDLR  INDQUALR CONSONA  \\\n",
       "0     0  0,000000   0,00     0  0,000000  1682,00   176  0,372100    0,00   \n",
       "1     0  0,000000   0,00     0  0,000000  2964,78   285  0,356390    0,00   \n",
       "2     0  0,000000   0,00     0  0,000000   333,32    32  0,506710    0,00   \n",
       "3     0  0,000000   0,00     0  0,000000   278,42    51  0,331370    0,00   \n",
       "4     0  0,000000   0,00     0  0,000000   164,48    24  0,671570    0,00   \n",
       "\n",
       "   PDLNA INDQUALNA  \n",
       "0      0  0,000000  \n",
       "1      0  0,000000  \n",
       "2      0  0,000000  \n",
       "3      0  0,000000  \n",
       "4      0  0,000000  "
      ]
     },
     "execution_count": 39,
     "metadata": {},
     "output_type": "execute_result"
    }
   ],
   "source": [
    "df_2011.head()"
   ]
  },
  {
   "cell_type": "code",
   "execution_count": 42,
   "metadata": {},
   "outputs": [
    {
     "name": "stderr",
     "output_type": "stream",
     "text": [
      "/usr/local/Cellar/jupyterlab/2.2.0/libexec/lib/python3.8/site-packages/IPython/core/interactiveshell.py:3071: DtypeWarning: Columns (4) have mixed types.Specify dtype option on import or set low_memory=False.\n",
      "  has_raised = await self.run_ast_nodes(code_ast.body, cell_name,\n"
     ]
    }
   ],
   "source": [
    "df_2012=pd.read_csv('/Users/Jeff/Downloads/donnees-electricite-2017 (1)/donnees_elec_2012.csv', encoding = \"ISO-8859-1\", sep=';')"
   ]
  },
  {
   "cell_type": "code",
   "execution_count": 43,
   "metadata": {},
   "outputs": [
    {
     "data": {
      "text/plain": [
       "(50394, 20)"
      ]
     },
     "execution_count": 43,
     "metadata": {},
     "output_type": "execute_result"
    }
   ],
   "source": [
    "df_2012.shape"
   ]
  },
  {
   "cell_type": "code",
   "execution_count": 44,
   "metadata": {},
   "outputs": [],
   "source": [
    "df_2013=pd.read_csv('/Users/Jeff/Downloads/donnees-electricite-2017 (1)/donnees_elec_2013.csv', encoding = \"ISO-8859-1\", sep=';')"
   ]
  },
  {
   "cell_type": "code",
   "execution_count": 45,
   "metadata": {},
   "outputs": [
    {
     "data": {
      "text/plain": [
       "(50877, 20)"
      ]
     },
     "execution_count": 45,
     "metadata": {},
     "output_type": "execute_result"
    }
   ],
   "source": [
    "df_2013.shape"
   ]
  },
  {
   "cell_type": "code",
   "execution_count": 46,
   "metadata": {},
   "outputs": [],
   "source": [
    "df_2014=pd.read_csv('/Users/Jeff/Downloads/donnees-electricite-2017 (1)/donnees_elec_2014.csv', encoding = \"ISO-8859-1\", sep=';')"
   ]
  },
  {
   "cell_type": "code",
   "execution_count": 47,
   "metadata": {},
   "outputs": [
    {
     "data": {
      "text/plain": [
       "(50904, 20)"
      ]
     },
     "execution_count": 47,
     "metadata": {},
     "output_type": "execute_result"
    }
   ],
   "source": [
    "df_2014.shape"
   ]
  },
  {
   "cell_type": "code",
   "execution_count": 48,
   "metadata": {},
   "outputs": [],
   "source": [
    "df_2015=pd.read_csv('/Users/Jeff/Downloads/donnees-electricite-2017 (1)/donnees_elec_2015.csv', encoding = \"ISO-8859-1\", sep=';')"
   ]
  },
  {
   "cell_type": "code",
   "execution_count": 49,
   "metadata": {},
   "outputs": [
    {
     "data": {
      "text/plain": [
       "(52516, 20)"
      ]
     },
     "execution_count": 49,
     "metadata": {},
     "output_type": "execute_result"
    }
   ],
   "source": [
    "df_2015.shape"
   ]
  },
  {
   "cell_type": "code",
   "execution_count": 50,
   "metadata": {},
   "outputs": [],
   "source": [
    "df_2016=pd.read_csv('/Users/Jeff/Downloads/donnees-electricite-2017 (1)/donnees_elec_2016.csv', encoding = \"ISO-8859-1\", sep=';')"
   ]
  },
  {
   "cell_type": "code",
   "execution_count": 51,
   "metadata": {},
   "outputs": [
    {
     "data": {
      "text/plain": [
       "(52585, 20)"
      ]
     },
     "execution_count": 51,
     "metadata": {},
     "output_type": "execute_result"
    }
   ],
   "source": [
    "df_2016.shape"
   ]
  },
  {
   "cell_type": "code",
   "execution_count": 52,
   "metadata": {},
   "outputs": [],
   "source": [
    "df_2017=pd.read_csv('/Users/Jeff/Downloads/donnees-electricite-2017 (1)/donnees_elec_2017.csv', encoding = \"ISO-8859-1\", sep=';')"
   ]
  },
  {
   "cell_type": "code",
   "execution_count": 53,
   "metadata": {},
   "outputs": [
    {
     "data": {
      "text/plain": [
       "(51905, 22)"
      ]
     },
     "execution_count": 53,
     "metadata": {},
     "output_type": "execute_result"
    }
   ],
   "source": [
    "df_2017.shape"
   ]
  },
  {
   "cell_type": "code",
   "execution_count": 57,
   "metadata": {},
   "outputs": [],
   "source": [
    "frames=[df_2008, df_2009, df_2010, df_2011, df_2012, df_2013, df_2014, df_2015, df_2016, df_2017]"
   ]
  },
  {
   "cell_type": "code",
   "execution_count": 58,
   "metadata": {},
   "outputs": [],
   "source": [
    "df_electricity=pd.concat(frames)"
   ]
  },
  {
   "cell_type": "code",
   "execution_count": 60,
   "metadata": {},
   "outputs": [
    {
     "data": {
      "text/plain": [
       "(358139, 22)"
      ]
     },
     "execution_count": 60,
     "metadata": {},
     "output_type": "execute_result"
    }
   ],
   "source": [
    "df_electricity.shape"
   ]
  },
  {
   "cell_type": "code",
   "execution_count": null,
   "metadata": {},
   "outputs": [],
   "source": []
  }
 ],
 "metadata": {
  "kernelspec": {
   "display_name": "Python 3",
   "language": "python",
   "name": "python3"
  },
  "language_info": {
   "codemirror_mode": {
    "name": "ipython",
    "version": 3
   },
   "file_extension": ".py",
   "mimetype": "text/x-python",
   "name": "python",
   "nbconvert_exporter": "python",
   "pygments_lexer": "ipython3",
   "version": "3.8.5"
  },
  "toc": {
   "base_numbering": 1,
   "nav_menu": {},
   "number_sections": true,
   "sideBar": true,
   "skip_h1_title": false,
   "title_cell": "Table of Contents",
   "title_sidebar": "Contents",
   "toc_cell": false,
   "toc_position": {},
   "toc_section_display": true,
   "toc_window_display": false
  }
 },
 "nbformat": 4,
 "nbformat_minor": 4
}
