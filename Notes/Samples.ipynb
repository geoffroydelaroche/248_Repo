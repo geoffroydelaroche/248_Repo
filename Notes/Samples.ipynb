{
 "cells": [
  {
   "cell_type": "markdown",
   "metadata": {},
   "source": [
    "# Samples"
   ]
  },
  {
   "cell_type": "markdown",
   "metadata": {},
   "source": [
    "* Part of the population\n",
    "* Allows to estimate some parameters\n",
    "* Varies from sample to sample\n",
    "* Random part of population\n",
    "* Can be big or small\n",
    "* Can be biased or representative\n",
    "* Can be probabilistic or not\n",
    "* Can be random or not\n",
    "* Can follow some rules or not"
   ]
  },
  {
   "cell_type": "markdown",
   "metadata": {},
   "source": [
    "Different types of samples:\n",
    "1. Probabilistic samples\n",
    "    * Simple random samples - doesn't exist\n",
    "    * Mechanic (Systematic) sample - can bring biases due to absence of willingness or motivation\n",
    "    * Stratify sample\n",
    "    * Cluster sample\n",
    "2. Non-probabilistic samples\n",
    "    * Quote sample\n",
    "    * Snowball sample\n",
    "    * Chaotic sample"
   ]
  },
  {
   "cell_type": "code",
   "execution_count": 1,
   "metadata": {},
   "outputs": [
    {
     "ename": "ModuleNotFoundError",
     "evalue": "No module named 'kaggle'",
     "output_type": "error",
     "traceback": [
      "\u001b[0;31m---------------------------------------------------------------------------\u001b[0m",
      "\u001b[0;31mModuleNotFoundError\u001b[0m                       Traceback (most recent call last)",
      "\u001b[0;32m<ipython-input-1-b7ef0df8da55>\u001b[0m in \u001b[0;36m<module>\u001b[0;34m\u001b[0m\n\u001b[0;32m----> 1\u001b[0;31m \u001b[0;32mimport\u001b[0m \u001b[0mkaggle\u001b[0m\u001b[0;34m\u001b[0m\u001b[0;34m\u001b[0m\u001b[0m\n\u001b[0m\u001b[1;32m      2\u001b[0m \u001b[0mkaggle\u001b[0m\u001b[0;34m.\u001b[0m\u001b[0mapi\u001b[0m\u001b[0;34m.\u001b[0m\u001b[0mdataset_download_files\u001b[0m\u001b[0;34m(\u001b[0m\u001b[0;34m'rtatman/chocolate-bar-ratings'\u001b[0m\u001b[0;34m)\u001b[0m\u001b[0;34m\u001b[0m\u001b[0;34m\u001b[0m\u001b[0m\n\u001b[1;32m      3\u001b[0m \u001b[0;32mimport\u001b[0m \u001b[0mzipfile\u001b[0m\u001b[0;34m\u001b[0m\u001b[0;34m\u001b[0m\u001b[0m\n\u001b[1;32m      4\u001b[0m \u001b[0mname\u001b[0m\u001b[0;34m=\u001b[0m\u001b[0mzipfile\u001b[0m\u001b[0;34m.\u001b[0m\u001b[0mZipFile\u001b[0m\u001b[0;34m(\u001b[0m\u001b[0;34m'./chocolate-bar-ratings.zip'\u001b[0m\u001b[0;34m)\u001b[0m\u001b[0;34m.\u001b[0m\u001b[0mfilelist\u001b[0m\u001b[0;34m[\u001b[0m\u001b[0;36m0\u001b[0m\u001b[0;34m]\u001b[0m\u001b[0;34m.\u001b[0m\u001b[0mfilename\u001b[0m\u001b[0;34m\u001b[0m\u001b[0;34m\u001b[0m\u001b[0m\n\u001b[1;32m      5\u001b[0m \u001b[0;32mimport\u001b[0m \u001b[0mpandas\u001b[0m \u001b[0;32mas\u001b[0m \u001b[0mpd\u001b[0m\u001b[0;34m\u001b[0m\u001b[0;34m\u001b[0m\u001b[0m\n",
      "\u001b[0;31mModuleNotFoundError\u001b[0m: No module named 'kaggle'"
     ]
    }
   ],
   "source": [
    "import kaggle\n",
    "kaggle.api.dataset_download_files('rtatman/chocolate-bar-ratings')\n",
    "import zipfile\n",
    "name=zipfile.ZipFile('./chocolate-bar-ratings.zip').filelist[0].filename\n",
    "import pandas as pd\n",
    "df=pd.read_csv(zipfile.ZipFile('./chocolate-bar-ratings.zip').open(name))"
   ]
  },
  {
   "cell_type": "code",
   "execution_count": 2,
   "metadata": {},
   "outputs": [
    {
     "name": "stdout",
     "output_type": "stream",
     "text": [
      "Collecting kaggle\n",
      "  Downloading kaggle-1.5.8.tar.gz (59 kB)\n",
      "\u001b[K     |████████████████████████████████| 59 kB 1.3 MB/s eta 0:00:011\n",
      "\u001b[?25hCollecting urllib3<1.25,>=1.21.1\n",
      "  Downloading urllib3-1.24.3-py2.py3-none-any.whl (118 kB)\n",
      "\u001b[K     |████████████████████████████████| 118 kB 4.9 MB/s eta 0:00:01\n",
      "\u001b[?25hRequirement already satisfied: six>=1.10 in /usr/local/Cellar/jupyterlab/2.2.0/libexec/lib/python3.8/site-packages (from kaggle) (1.15.0)\n",
      "Requirement already satisfied: certifi in /usr/local/Cellar/jupyterlab/2.2.0/libexec/lib/python3.8/site-packages (from kaggle) (2020.6.20)\n",
      "Requirement already satisfied: python-dateutil in /usr/local/Cellar/jupyterlab/2.2.0/libexec/lib/python3.8/site-packages (from kaggle) (2.8.1)\n",
      "Requirement already satisfied: requests in /usr/local/Cellar/jupyterlab/2.2.0/libexec/lib/python3.8/site-packages (from kaggle) (2.24.0)\n",
      "Collecting tqdm\n",
      "  Downloading tqdm-4.49.0-py2.py3-none-any.whl (69 kB)\n",
      "\u001b[K     |████████████████████████████████| 69 kB 11.7 MB/s eta 0:00:01\n",
      "\u001b[?25hCollecting python-slugify\n",
      "  Downloading python-slugify-4.0.1.tar.gz (11 kB)\n",
      "Collecting slugify\n",
      "  Downloading slugify-0.0.1.tar.gz (1.2 kB)\n",
      "Requirement already satisfied: chardet<4,>=3.0.2 in /usr/local/Cellar/jupyterlab/2.2.0/libexec/lib/python3.8/site-packages (from requests->kaggle) (3.0.4)\n",
      "Requirement already satisfied: idna<3,>=2.5 in /usr/local/Cellar/jupyterlab/2.2.0/libexec/lib/python3.8/site-packages (from requests->kaggle) (2.10)\n",
      "Collecting text-unidecode>=1.3\n",
      "  Downloading text_unidecode-1.3-py2.py3-none-any.whl (78 kB)\n",
      "\u001b[K     |████████████████████████████████| 78 kB 6.9 MB/s  eta 0:00:01\n",
      "\u001b[?25hBuilding wheels for collected packages: kaggle, python-slugify, slugify\n",
      "  Building wheel for kaggle (setup.py) ... \u001b[?25ldone\n",
      "\u001b[?25h  Created wheel for kaggle: filename=kaggle-1.5.8-py3-none-any.whl size=73274 sha256=3c32e90d05115aea79543acf3822f2e1c22455acb0384d684a74456486e4c817\n",
      "  Stored in directory: /Users/Jeff/Library/Caches/pip/wheels/f3/67/7b/a6d668747974998471d29b230e7221dd01330ac34faebe4af4\n",
      "  Building wheel for python-slugify (setup.py) ... \u001b[?25ldone\n",
      "\u001b[?25h  Created wheel for python-slugify: filename=python_slugify-4.0.1-py2.py3-none-any.whl size=6767 sha256=1c069f08a2f8d0db4eabd0fc254fef6af1d6a988ade938b06076dec61228a390\n",
      "  Stored in directory: /Users/Jeff/Library/Caches/pip/wheels/91/4d/4f/e740a68c215791688c46c4d6251770a570e8dfea91af1acb5c\n",
      "  Building wheel for slugify (setup.py) ... \u001b[?25ldone\n",
      "\u001b[?25h  Created wheel for slugify: filename=slugify-0.0.1-py3-none-any.whl size=1908 sha256=ff85d0232e345d9e41c6fcf6446a324e12642e878a272c27338a8c0b0b330683\n",
      "  Stored in directory: /Users/Jeff/Library/Caches/pip/wheels/a2/49/ff/b5d3130b393f908f0faebf7b4069b259e97d23821826553a76\n",
      "Successfully built kaggle python-slugify slugify\n",
      "Installing collected packages: urllib3, tqdm, text-unidecode, python-slugify, slugify, kaggle\n",
      "  Attempting uninstall: urllib3\n",
      "    Found existing installation: urllib3 1.25.9\n",
      "    Uninstalling urllib3-1.25.9:\n",
      "      Successfully uninstalled urllib3-1.25.9\n",
      "Successfully installed kaggle-1.5.8 python-slugify-4.0.1 slugify-0.0.1 text-unidecode-1.3 tqdm-4.49.0 urllib3-1.24.3\n",
      "\u001b[33mWARNING: You are using pip version 20.1.1; however, version 20.2.3 is available.\n",
      "You should consider upgrading via the '/usr/local/Cellar/jupyterlab/2.2.0/libexec/bin/python3.8 -m pip install --upgrade pip' command.\u001b[0m\n",
      "Note: you may need to restart the kernel to use updated packages.\n"
     ]
    }
   ],
   "source": [
    "pip install kaggle"
   ]
  },
  {
   "cell_type": "code",
   "execution_count": 1,
   "metadata": {},
   "outputs": [
    {
     "ename": "OSError",
     "evalue": "Could not find kaggle.json. Make sure it's located in /Users/Jeff/.kaggle. Or use the environment method.",
     "output_type": "error",
     "traceback": [
      "\u001b[0;31m---------------------------------------------------------------------------\u001b[0m",
      "\u001b[0;31mOSError\u001b[0m                                   Traceback (most recent call last)",
      "\u001b[0;32m<ipython-input-1-b7ef0df8da55>\u001b[0m in \u001b[0;36m<module>\u001b[0;34m\u001b[0m\n\u001b[0;32m----> 1\u001b[0;31m \u001b[0;32mimport\u001b[0m \u001b[0mkaggle\u001b[0m\u001b[0;34m\u001b[0m\u001b[0;34m\u001b[0m\u001b[0m\n\u001b[0m\u001b[1;32m      2\u001b[0m \u001b[0mkaggle\u001b[0m\u001b[0;34m.\u001b[0m\u001b[0mapi\u001b[0m\u001b[0;34m.\u001b[0m\u001b[0mdataset_download_files\u001b[0m\u001b[0;34m(\u001b[0m\u001b[0;34m'rtatman/chocolate-bar-ratings'\u001b[0m\u001b[0;34m)\u001b[0m\u001b[0;34m\u001b[0m\u001b[0;34m\u001b[0m\u001b[0m\n\u001b[1;32m      3\u001b[0m \u001b[0;32mimport\u001b[0m \u001b[0mzipfile\u001b[0m\u001b[0;34m\u001b[0m\u001b[0;34m\u001b[0m\u001b[0m\n\u001b[1;32m      4\u001b[0m \u001b[0mname\u001b[0m\u001b[0;34m=\u001b[0m\u001b[0mzipfile\u001b[0m\u001b[0;34m.\u001b[0m\u001b[0mZipFile\u001b[0m\u001b[0;34m(\u001b[0m\u001b[0;34m'./chocolate-bar-ratings.zip'\u001b[0m\u001b[0;34m)\u001b[0m\u001b[0;34m.\u001b[0m\u001b[0mfilelist\u001b[0m\u001b[0;34m[\u001b[0m\u001b[0;36m0\u001b[0m\u001b[0;34m]\u001b[0m\u001b[0;34m.\u001b[0m\u001b[0mfilename\u001b[0m\u001b[0;34m\u001b[0m\u001b[0;34m\u001b[0m\u001b[0m\n\u001b[1;32m      5\u001b[0m \u001b[0;32mimport\u001b[0m \u001b[0mpandas\u001b[0m \u001b[0;32mas\u001b[0m \u001b[0mpd\u001b[0m\u001b[0;34m\u001b[0m\u001b[0;34m\u001b[0m\u001b[0m\n",
      "\u001b[0;32m/usr/local/Cellar/jupyterlab/2.2.0/libexec/lib/python3.8/site-packages/kaggle/__init__.py\u001b[0m in \u001b[0;36m<module>\u001b[0;34m\u001b[0m\n\u001b[1;32m     21\u001b[0m \u001b[0;34m\u001b[0m\u001b[0m\n\u001b[1;32m     22\u001b[0m \u001b[0mapi\u001b[0m \u001b[0;34m=\u001b[0m \u001b[0mKaggleApi\u001b[0m\u001b[0;34m(\u001b[0m\u001b[0mApiClient\u001b[0m\u001b[0;34m(\u001b[0m\u001b[0;34m)\u001b[0m\u001b[0;34m)\u001b[0m\u001b[0;34m\u001b[0m\u001b[0;34m\u001b[0m\u001b[0m\n\u001b[0;32m---> 23\u001b[0;31m \u001b[0mapi\u001b[0m\u001b[0;34m.\u001b[0m\u001b[0mauthenticate\u001b[0m\u001b[0;34m(\u001b[0m\u001b[0;34m)\u001b[0m\u001b[0;34m\u001b[0m\u001b[0;34m\u001b[0m\u001b[0m\n\u001b[0m",
      "\u001b[0;32m/usr/local/Cellar/jupyterlab/2.2.0/libexec/lib/python3.8/site-packages/kaggle/api/kaggle_api_extended.py\u001b[0m in \u001b[0;36mauthenticate\u001b[0;34m(self)\u001b[0m\n\u001b[1;32m    162\u001b[0m                 \u001b[0mconfig_data\u001b[0m \u001b[0;34m=\u001b[0m \u001b[0mself\u001b[0m\u001b[0;34m.\u001b[0m\u001b[0mread_config_file\u001b[0m\u001b[0;34m(\u001b[0m\u001b[0mconfig_data\u001b[0m\u001b[0;34m)\u001b[0m\u001b[0;34m\u001b[0m\u001b[0;34m\u001b[0m\u001b[0m\n\u001b[1;32m    163\u001b[0m             \u001b[0;32melse\u001b[0m\u001b[0;34m:\u001b[0m\u001b[0;34m\u001b[0m\u001b[0;34m\u001b[0m\u001b[0m\n\u001b[0;32m--> 164\u001b[0;31m                 raise IOError('Could not find {}. Make sure it\\'s located in'\n\u001b[0m\u001b[1;32m    165\u001b[0m                               ' {}. Or use the environment method.'.format(\n\u001b[1;32m    166\u001b[0m                                   self.config_file, self.config_dir))\n",
      "\u001b[0;31mOSError\u001b[0m: Could not find kaggle.json. Make sure it's located in /Users/Jeff/.kaggle. Or use the environment method."
     ]
    }
   ],
   "source": [
    "import kaggle\n",
    "kaggle.api.dataset_download_files('rtatman/chocolate-bar-ratings')\n",
    "import zipfile\n",
    "name=zipfile.ZipFile('./chocolate-bar-ratings.zip').filelist[0].filename\n",
    "import pandas as pd\n",
    "df=pd.read_csv(zipfile.ZipFile('./chocolate-bar-ratings.zip').open(name))"
   ]
  },
  {
   "cell_type": "code",
   "execution_count": 2,
   "metadata": {},
   "outputs": [],
   "source": [
    "import os"
   ]
  },
  {
   "cell_type": "code",
   "execution_count": 3,
   "metadata": {},
   "outputs": [],
   "source": [
    "import pandas as pd\n",
    "df=pd.read_csv('/Users/Jeff/Downloads/chocolate-bar-ratings.zip')"
   ]
  },
  {
   "cell_type": "code",
   "execution_count": 4,
   "metadata": {},
   "outputs": [
    {
     "data": {
      "text/html": [
       "<div>\n",
       "<style scoped>\n",
       "    .dataframe tbody tr th:only-of-type {\n",
       "        vertical-align: middle;\n",
       "    }\n",
       "\n",
       "    .dataframe tbody tr th {\n",
       "        vertical-align: top;\n",
       "    }\n",
       "\n",
       "    .dataframe thead th {\n",
       "        text-align: right;\n",
       "    }\n",
       "</style>\n",
       "<table border=\"1\" class=\"dataframe\">\n",
       "  <thead>\n",
       "    <tr style=\"text-align: right;\">\n",
       "      <th></th>\n",
       "      <th>Company \\n(Maker-if known)</th>\n",
       "      <th>Specific Bean Origin\\nor Bar Name</th>\n",
       "      <th>REF</th>\n",
       "      <th>Review\\nDate</th>\n",
       "      <th>Cocoa\\nPercent</th>\n",
       "      <th>Company\\nLocation</th>\n",
       "      <th>Rating</th>\n",
       "      <th>Bean\\nType</th>\n",
       "      <th>Broad Bean\\nOrigin</th>\n",
       "    </tr>\n",
       "  </thead>\n",
       "  <tbody>\n",
       "    <tr>\n",
       "      <th>0</th>\n",
       "      <td>A. Morin</td>\n",
       "      <td>Agua Grande</td>\n",
       "      <td>1876</td>\n",
       "      <td>2016</td>\n",
       "      <td>63%</td>\n",
       "      <td>France</td>\n",
       "      <td>3.75</td>\n",
       "      <td></td>\n",
       "      <td>Sao Tome</td>\n",
       "    </tr>\n",
       "    <tr>\n",
       "      <th>1</th>\n",
       "      <td>A. Morin</td>\n",
       "      <td>Kpime</td>\n",
       "      <td>1676</td>\n",
       "      <td>2015</td>\n",
       "      <td>70%</td>\n",
       "      <td>France</td>\n",
       "      <td>2.75</td>\n",
       "      <td></td>\n",
       "      <td>Togo</td>\n",
       "    </tr>\n",
       "    <tr>\n",
       "      <th>2</th>\n",
       "      <td>A. Morin</td>\n",
       "      <td>Atsane</td>\n",
       "      <td>1676</td>\n",
       "      <td>2015</td>\n",
       "      <td>70%</td>\n",
       "      <td>France</td>\n",
       "      <td>3.00</td>\n",
       "      <td></td>\n",
       "      <td>Togo</td>\n",
       "    </tr>\n",
       "    <tr>\n",
       "      <th>3</th>\n",
       "      <td>A. Morin</td>\n",
       "      <td>Akata</td>\n",
       "      <td>1680</td>\n",
       "      <td>2015</td>\n",
       "      <td>70%</td>\n",
       "      <td>France</td>\n",
       "      <td>3.50</td>\n",
       "      <td></td>\n",
       "      <td>Togo</td>\n",
       "    </tr>\n",
       "    <tr>\n",
       "      <th>4</th>\n",
       "      <td>A. Morin</td>\n",
       "      <td>Quilla</td>\n",
       "      <td>1704</td>\n",
       "      <td>2015</td>\n",
       "      <td>70%</td>\n",
       "      <td>France</td>\n",
       "      <td>3.50</td>\n",
       "      <td></td>\n",
       "      <td>Peru</td>\n",
       "    </tr>\n",
       "  </tbody>\n",
       "</table>\n",
       "</div>"
      ],
      "text/plain": [
       "  Company \\n(Maker-if known) Specific Bean Origin\\nor Bar Name   REF  \\\n",
       "0                   A. Morin                       Agua Grande  1876   \n",
       "1                   A. Morin                             Kpime  1676   \n",
       "2                   A. Morin                            Atsane  1676   \n",
       "3                   A. Morin                             Akata  1680   \n",
       "4                   A. Morin                            Quilla  1704   \n",
       "\n",
       "   Review\\nDate Cocoa\\nPercent Company\\nLocation  Rating Bean\\nType  \\\n",
       "0          2016            63%            France    3.75              \n",
       "1          2015            70%            France    2.75              \n",
       "2          2015            70%            France    3.00              \n",
       "3          2015            70%            France    3.50              \n",
       "4          2015            70%            France    3.50              \n",
       "\n",
       "  Broad Bean\\nOrigin  \n",
       "0           Sao Tome  \n",
       "1               Togo  \n",
       "2               Togo  \n",
       "3               Togo  \n",
       "4               Peru  "
      ]
     },
     "execution_count": 4,
     "metadata": {},
     "output_type": "execute_result"
    }
   ],
   "source": [
    "df.head()"
   ]
  },
  {
   "cell_type": "code",
   "execution_count": 5,
   "metadata": {},
   "outputs": [],
   "source": [
    "df.columns=df.columns.str.replace('\\n','_')"
   ]
  },
  {
   "cell_type": "code",
   "execution_count": 7,
   "metadata": {},
   "outputs": [],
   "source": [
    "df.columns=df.columns.str.replace(' ','_')"
   ]
  },
  {
   "cell_type": "code",
   "execution_count": 8,
   "metadata": {},
   "outputs": [
    {
     "data": {
      "text/html": [
       "<div>\n",
       "<style scoped>\n",
       "    .dataframe tbody tr th:only-of-type {\n",
       "        vertical-align: middle;\n",
       "    }\n",
       "\n",
       "    .dataframe tbody tr th {\n",
       "        vertical-align: top;\n",
       "    }\n",
       "\n",
       "    .dataframe thead th {\n",
       "        text-align: right;\n",
       "    }\n",
       "</style>\n",
       "<table border=\"1\" class=\"dataframe\">\n",
       "  <thead>\n",
       "    <tr style=\"text-align: right;\">\n",
       "      <th></th>\n",
       "      <th>Company _(Maker-if_known)</th>\n",
       "      <th>Specific_Bean_Origin_or_Bar_Name</th>\n",
       "      <th>REF</th>\n",
       "      <th>Review_Date</th>\n",
       "      <th>Cocoa_Percent</th>\n",
       "      <th>Company_Location</th>\n",
       "      <th>Rating</th>\n",
       "      <th>Bean_Type</th>\n",
       "      <th>Broad_Bean_Origin</th>\n",
       "    </tr>\n",
       "  </thead>\n",
       "  <tbody>\n",
       "    <tr>\n",
       "      <th>0</th>\n",
       "      <td>A. Morin</td>\n",
       "      <td>Agua Grande</td>\n",
       "      <td>1876</td>\n",
       "      <td>2016</td>\n",
       "      <td>63%</td>\n",
       "      <td>France</td>\n",
       "      <td>3.75</td>\n",
       "      <td></td>\n",
       "      <td>Sao Tome</td>\n",
       "    </tr>\n",
       "    <tr>\n",
       "      <th>1</th>\n",
       "      <td>A. Morin</td>\n",
       "      <td>Kpime</td>\n",
       "      <td>1676</td>\n",
       "      <td>2015</td>\n",
       "      <td>70%</td>\n",
       "      <td>France</td>\n",
       "      <td>2.75</td>\n",
       "      <td></td>\n",
       "      <td>Togo</td>\n",
       "    </tr>\n",
       "    <tr>\n",
       "      <th>2</th>\n",
       "      <td>A. Morin</td>\n",
       "      <td>Atsane</td>\n",
       "      <td>1676</td>\n",
       "      <td>2015</td>\n",
       "      <td>70%</td>\n",
       "      <td>France</td>\n",
       "      <td>3.00</td>\n",
       "      <td></td>\n",
       "      <td>Togo</td>\n",
       "    </tr>\n",
       "    <tr>\n",
       "      <th>3</th>\n",
       "      <td>A. Morin</td>\n",
       "      <td>Akata</td>\n",
       "      <td>1680</td>\n",
       "      <td>2015</td>\n",
       "      <td>70%</td>\n",
       "      <td>France</td>\n",
       "      <td>3.50</td>\n",
       "      <td></td>\n",
       "      <td>Togo</td>\n",
       "    </tr>\n",
       "    <tr>\n",
       "      <th>4</th>\n",
       "      <td>A. Morin</td>\n",
       "      <td>Quilla</td>\n",
       "      <td>1704</td>\n",
       "      <td>2015</td>\n",
       "      <td>70%</td>\n",
       "      <td>France</td>\n",
       "      <td>3.50</td>\n",
       "      <td></td>\n",
       "      <td>Peru</td>\n",
       "    </tr>\n",
       "    <tr>\n",
       "      <th>...</th>\n",
       "      <td>...</td>\n",
       "      <td>...</td>\n",
       "      <td>...</td>\n",
       "      <td>...</td>\n",
       "      <td>...</td>\n",
       "      <td>...</td>\n",
       "      <td>...</td>\n",
       "      <td>...</td>\n",
       "      <td>...</td>\n",
       "    </tr>\n",
       "    <tr>\n",
       "      <th>1790</th>\n",
       "      <td>Zotter</td>\n",
       "      <td>Peru</td>\n",
       "      <td>647</td>\n",
       "      <td>2011</td>\n",
       "      <td>70%</td>\n",
       "      <td>Austria</td>\n",
       "      <td>3.75</td>\n",
       "      <td></td>\n",
       "      <td>Peru</td>\n",
       "    </tr>\n",
       "    <tr>\n",
       "      <th>1791</th>\n",
       "      <td>Zotter</td>\n",
       "      <td>Congo</td>\n",
       "      <td>749</td>\n",
       "      <td>2011</td>\n",
       "      <td>65%</td>\n",
       "      <td>Austria</td>\n",
       "      <td>3.00</td>\n",
       "      <td>Forastero</td>\n",
       "      <td>Congo</td>\n",
       "    </tr>\n",
       "    <tr>\n",
       "      <th>1792</th>\n",
       "      <td>Zotter</td>\n",
       "      <td>Kerala State</td>\n",
       "      <td>749</td>\n",
       "      <td>2011</td>\n",
       "      <td>65%</td>\n",
       "      <td>Austria</td>\n",
       "      <td>3.50</td>\n",
       "      <td>Forastero</td>\n",
       "      <td>India</td>\n",
       "    </tr>\n",
       "    <tr>\n",
       "      <th>1793</th>\n",
       "      <td>Zotter</td>\n",
       "      <td>Kerala State</td>\n",
       "      <td>781</td>\n",
       "      <td>2011</td>\n",
       "      <td>62%</td>\n",
       "      <td>Austria</td>\n",
       "      <td>3.25</td>\n",
       "      <td></td>\n",
       "      <td>India</td>\n",
       "    </tr>\n",
       "    <tr>\n",
       "      <th>1794</th>\n",
       "      <td>Zotter</td>\n",
       "      <td>Brazil, Mitzi Blue</td>\n",
       "      <td>486</td>\n",
       "      <td>2010</td>\n",
       "      <td>65%</td>\n",
       "      <td>Austria</td>\n",
       "      <td>3.00</td>\n",
       "      <td></td>\n",
       "      <td>Brazil</td>\n",
       "    </tr>\n",
       "  </tbody>\n",
       "</table>\n",
       "<p>1795 rows × 9 columns</p>\n",
       "</div>"
      ],
      "text/plain": [
       "     Company _(Maker-if_known) Specific_Bean_Origin_or_Bar_Name   REF  \\\n",
       "0                     A. Morin                      Agua Grande  1876   \n",
       "1                     A. Morin                            Kpime  1676   \n",
       "2                     A. Morin                           Atsane  1676   \n",
       "3                     A. Morin                            Akata  1680   \n",
       "4                     A. Morin                           Quilla  1704   \n",
       "...                        ...                              ...   ...   \n",
       "1790                    Zotter                             Peru   647   \n",
       "1791                    Zotter                            Congo   749   \n",
       "1792                    Zotter                     Kerala State   749   \n",
       "1793                    Zotter                     Kerala State   781   \n",
       "1794                    Zotter               Brazil, Mitzi Blue   486   \n",
       "\n",
       "      Review_Date Cocoa_Percent Company_Location  Rating  Bean_Type  \\\n",
       "0            2016           63%           France    3.75              \n",
       "1            2015           70%           France    2.75              \n",
       "2            2015           70%           France    3.00              \n",
       "3            2015           70%           France    3.50              \n",
       "4            2015           70%           France    3.50              \n",
       "...           ...           ...              ...     ...        ...   \n",
       "1790         2011           70%          Austria    3.75              \n",
       "1791         2011           65%          Austria    3.00  Forastero   \n",
       "1792         2011           65%          Austria    3.50  Forastero   \n",
       "1793         2011           62%          Austria    3.25              \n",
       "1794         2010           65%          Austria    3.00              \n",
       "\n",
       "     Broad_Bean_Origin  \n",
       "0             Sao Tome  \n",
       "1                 Togo  \n",
       "2                 Togo  \n",
       "3                 Togo  \n",
       "4                 Peru  \n",
       "...                ...  \n",
       "1790              Peru  \n",
       "1791             Congo  \n",
       "1792             India  \n",
       "1793             India  \n",
       "1794            Brazil  \n",
       "\n",
       "[1795 rows x 9 columns]"
      ]
     },
     "execution_count": 8,
     "metadata": {},
     "output_type": "execute_result"
    }
   ],
   "source": [
    "df"
   ]
  },
  {
   "cell_type": "code",
   "execution_count": 9,
   "metadata": {},
   "outputs": [
    {
     "data": {
      "text/plain": [
       "0    70%\n",
       "dtype: object"
      ]
     },
     "execution_count": 9,
     "metadata": {},
     "output_type": "execute_result"
    }
   ],
   "source": [
    "df.Cocoa_Percent.mode()"
   ]
  },
  {
   "cell_type": "code",
   "execution_count": 10,
   "metadata": {},
   "outputs": [
    {
     "data": {
      "text/plain": [
       "'70%'"
      ]
     },
     "execution_count": 10,
     "metadata": {},
     "output_type": "execute_result"
    }
   ],
   "source": [
    "df.Cocoa_Percent.mode()[0]"
   ]
  },
  {
   "cell_type": "code",
   "execution_count": 11,
   "metadata": {},
   "outputs": [],
   "source": [
    "mode=df.Cocoa_Percent.mode()[0]"
   ]
  },
  {
   "cell_type": "code",
   "execution_count": 14,
   "metadata": {},
   "outputs": [
    {
     "data": {
      "text/html": [
       "<div>\n",
       "<style scoped>\n",
       "    .dataframe tbody tr th:only-of-type {\n",
       "        vertical-align: middle;\n",
       "    }\n",
       "\n",
       "    .dataframe tbody tr th {\n",
       "        vertical-align: top;\n",
       "    }\n",
       "\n",
       "    .dataframe thead th {\n",
       "        text-align: right;\n",
       "    }\n",
       "</style>\n",
       "<table border=\"1\" class=\"dataframe\">\n",
       "  <thead>\n",
       "    <tr style=\"text-align: right;\">\n",
       "      <th></th>\n",
       "      <th>Company _(Maker-if_known)</th>\n",
       "      <th>Specific_Bean_Origin_or_Bar_Name</th>\n",
       "      <th>REF</th>\n",
       "      <th>Review_Date</th>\n",
       "      <th>Cocoa_Percent</th>\n",
       "      <th>Company_Location</th>\n",
       "      <th>Rating</th>\n",
       "      <th>Bean_Type</th>\n",
       "      <th>Broad_Bean_Origin</th>\n",
       "    </tr>\n",
       "  </thead>\n",
       "  <tbody>\n",
       "    <tr>\n",
       "      <th>1</th>\n",
       "      <td>A. Morin</td>\n",
       "      <td>Kpime</td>\n",
       "      <td>1676</td>\n",
       "      <td>2015</td>\n",
       "      <td>70%</td>\n",
       "      <td>France</td>\n",
       "      <td>2.75</td>\n",
       "      <td></td>\n",
       "      <td>Togo</td>\n",
       "    </tr>\n",
       "    <tr>\n",
       "      <th>2</th>\n",
       "      <td>A. Morin</td>\n",
       "      <td>Atsane</td>\n",
       "      <td>1676</td>\n",
       "      <td>2015</td>\n",
       "      <td>70%</td>\n",
       "      <td>France</td>\n",
       "      <td>3.00</td>\n",
       "      <td></td>\n",
       "      <td>Togo</td>\n",
       "    </tr>\n",
       "    <tr>\n",
       "      <th>3</th>\n",
       "      <td>A. Morin</td>\n",
       "      <td>Akata</td>\n",
       "      <td>1680</td>\n",
       "      <td>2015</td>\n",
       "      <td>70%</td>\n",
       "      <td>France</td>\n",
       "      <td>3.50</td>\n",
       "      <td></td>\n",
       "      <td>Togo</td>\n",
       "    </tr>\n",
       "    <tr>\n",
       "      <th>4</th>\n",
       "      <td>A. Morin</td>\n",
       "      <td>Quilla</td>\n",
       "      <td>1704</td>\n",
       "      <td>2015</td>\n",
       "      <td>70%</td>\n",
       "      <td>France</td>\n",
       "      <td>3.50</td>\n",
       "      <td></td>\n",
       "      <td>Peru</td>\n",
       "    </tr>\n",
       "    <tr>\n",
       "      <th>5</th>\n",
       "      <td>A. Morin</td>\n",
       "      <td>Carenero</td>\n",
       "      <td>1315</td>\n",
       "      <td>2014</td>\n",
       "      <td>70%</td>\n",
       "      <td>France</td>\n",
       "      <td>2.75</td>\n",
       "      <td>Criollo</td>\n",
       "      <td>Venezuela</td>\n",
       "    </tr>\n",
       "    <tr>\n",
       "      <th>...</th>\n",
       "      <td>...</td>\n",
       "      <td>...</td>\n",
       "      <td>...</td>\n",
       "      <td>...</td>\n",
       "      <td>...</td>\n",
       "      <td>...</td>\n",
       "      <td>...</td>\n",
       "      <td>...</td>\n",
       "      <td>...</td>\n",
       "    </tr>\n",
       "    <tr>\n",
       "      <th>1771</th>\n",
       "      <td>Zart Pralinen</td>\n",
       "      <td>Kakao Kamili, Kilombero Valley</td>\n",
       "      <td>1824</td>\n",
       "      <td>2016</td>\n",
       "      <td>70%</td>\n",
       "      <td>Austria</td>\n",
       "      <td>3.50</td>\n",
       "      <td>Criollo, Trinitario</td>\n",
       "      <td>Tanzania</td>\n",
       "    </tr>\n",
       "    <tr>\n",
       "      <th>1781</th>\n",
       "      <td>Zotter</td>\n",
       "      <td>Satipo Pangoa region, 16hr conche</td>\n",
       "      <td>875</td>\n",
       "      <td>2012</td>\n",
       "      <td>70%</td>\n",
       "      <td>Austria</td>\n",
       "      <td>3.00</td>\n",
       "      <td>Criollo (Amarru)</td>\n",
       "      <td>Peru</td>\n",
       "    </tr>\n",
       "    <tr>\n",
       "      <th>1782</th>\n",
       "      <td>Zotter</td>\n",
       "      <td>Satipo Pangoa region, 20hr conche</td>\n",
       "      <td>875</td>\n",
       "      <td>2012</td>\n",
       "      <td>70%</td>\n",
       "      <td>Austria</td>\n",
       "      <td>3.50</td>\n",
       "      <td>Criollo (Amarru)</td>\n",
       "      <td>Peru</td>\n",
       "    </tr>\n",
       "    <tr>\n",
       "      <th>1787</th>\n",
       "      <td>Zotter</td>\n",
       "      <td>Santo Domingo</td>\n",
       "      <td>879</td>\n",
       "      <td>2012</td>\n",
       "      <td>70%</td>\n",
       "      <td>Austria</td>\n",
       "      <td>3.75</td>\n",
       "      <td></td>\n",
       "      <td>Dominican Republic</td>\n",
       "    </tr>\n",
       "    <tr>\n",
       "      <th>1790</th>\n",
       "      <td>Zotter</td>\n",
       "      <td>Peru</td>\n",
       "      <td>647</td>\n",
       "      <td>2011</td>\n",
       "      <td>70%</td>\n",
       "      <td>Austria</td>\n",
       "      <td>3.75</td>\n",
       "      <td></td>\n",
       "      <td>Peru</td>\n",
       "    </tr>\n",
       "  </tbody>\n",
       "</table>\n",
       "<p>672 rows × 9 columns</p>\n",
       "</div>"
      ],
      "text/plain": [
       "     Company _(Maker-if_known)   Specific_Bean_Origin_or_Bar_Name   REF  \\\n",
       "1                     A. Morin                              Kpime  1676   \n",
       "2                     A. Morin                             Atsane  1676   \n",
       "3                     A. Morin                              Akata  1680   \n",
       "4                     A. Morin                             Quilla  1704   \n",
       "5                     A. Morin                           Carenero  1315   \n",
       "...                        ...                                ...   ...   \n",
       "1771             Zart Pralinen     Kakao Kamili, Kilombero Valley  1824   \n",
       "1781                    Zotter  Satipo Pangoa region, 16hr conche   875   \n",
       "1782                    Zotter  Satipo Pangoa region, 20hr conche   875   \n",
       "1787                    Zotter                      Santo Domingo   879   \n",
       "1790                    Zotter                               Peru   647   \n",
       "\n",
       "      Review_Date Cocoa_Percent Company_Location  Rating            Bean_Type  \\\n",
       "1            2015           70%           France    2.75                        \n",
       "2            2015           70%           France    3.00                        \n",
       "3            2015           70%           France    3.50                        \n",
       "4            2015           70%           France    3.50                        \n",
       "5            2014           70%           France    2.75              Criollo   \n",
       "...           ...           ...              ...     ...                  ...   \n",
       "1771         2016           70%          Austria    3.50  Criollo, Trinitario   \n",
       "1781         2012           70%          Austria    3.00     Criollo (Amarru)   \n",
       "1782         2012           70%          Austria    3.50     Criollo (Amarru)   \n",
       "1787         2012           70%          Austria    3.75                        \n",
       "1790         2011           70%          Austria    3.75                        \n",
       "\n",
       "       Broad_Bean_Origin  \n",
       "1                   Togo  \n",
       "2                   Togo  \n",
       "3                   Togo  \n",
       "4                   Peru  \n",
       "5              Venezuela  \n",
       "...                  ...  \n",
       "1771            Tanzania  \n",
       "1781                Peru  \n",
       "1782                Peru  \n",
       "1787  Dominican Republic  \n",
       "1790                Peru  \n",
       "\n",
       "[672 rows x 9 columns]"
      ]
     },
     "execution_count": 14,
     "metadata": {},
     "output_type": "execute_result"
    }
   ],
   "source": [
    "df[df.Cocoa_Percent==mode]"
   ]
  },
  {
   "cell_type": "code",
   "execution_count": 18,
   "metadata": {},
   "outputs": [],
   "source": [
    "df1=df[df.Cocoa_Percent==mode].copy()"
   ]
  },
  {
   "cell_type": "markdown",
   "metadata": {},
   "source": [
    "df1 is my popylation"
   ]
  },
  {
   "cell_type": "code",
   "execution_count": 20,
   "metadata": {},
   "outputs": [
    {
     "data": {
      "text/plain": [
       "count    672.000000\n",
       "mean       3.276042\n",
       "std        0.452957\n",
       "min        1.000000\n",
       "25%        3.000000\n",
       "50%        3.250000\n",
       "75%        3.500000\n",
       "max        5.000000\n",
       "Name: Rating, dtype: float64"
      ]
     },
     "execution_count": 20,
     "metadata": {},
     "output_type": "execute_result"
    }
   ],
   "source": [
    "df1.Rating.describe()"
   ]
  },
  {
   "cell_type": "markdown",
   "metadata": {},
   "source": [
    "## Samples"
   ]
  },
  {
   "cell_type": "code",
   "execution_count": 21,
   "metadata": {},
   "outputs": [
    {
     "data": {
      "text/html": [
       "<div>\n",
       "<style scoped>\n",
       "    .dataframe tbody tr th:only-of-type {\n",
       "        vertical-align: middle;\n",
       "    }\n",
       "\n",
       "    .dataframe tbody tr th {\n",
       "        vertical-align: top;\n",
       "    }\n",
       "\n",
       "    .dataframe thead th {\n",
       "        text-align: right;\n",
       "    }\n",
       "</style>\n",
       "<table border=\"1\" class=\"dataframe\">\n",
       "  <thead>\n",
       "    <tr style=\"text-align: right;\">\n",
       "      <th></th>\n",
       "      <th>Company _(Maker-if_known)</th>\n",
       "      <th>Specific_Bean_Origin_or_Bar_Name</th>\n",
       "      <th>REF</th>\n",
       "      <th>Review_Date</th>\n",
       "      <th>Cocoa_Percent</th>\n",
       "      <th>Company_Location</th>\n",
       "      <th>Rating</th>\n",
       "      <th>Bean_Type</th>\n",
       "      <th>Broad_Bean_Origin</th>\n",
       "    </tr>\n",
       "  </thead>\n",
       "  <tbody>\n",
       "    <tr>\n",
       "      <th>399</th>\n",
       "      <td>Chocolate Con Amor</td>\n",
       "      <td>Ecuador</td>\n",
       "      <td>1764</td>\n",
       "      <td>2016</td>\n",
       "      <td>70%</td>\n",
       "      <td>U.S.A.</td>\n",
       "      <td>3.25</td>\n",
       "      <td></td>\n",
       "      <td>Ecuador</td>\n",
       "    </tr>\n",
       "    <tr>\n",
       "      <th>1761</th>\n",
       "      <td>Zak's</td>\n",
       "      <td>Papua New Guinea, Batch 2</td>\n",
       "      <td>1574</td>\n",
       "      <td>2015</td>\n",
       "      <td>70%</td>\n",
       "      <td>U.S.A.</td>\n",
       "      <td>3.00</td>\n",
       "      <td></td>\n",
       "      <td>Papua New Guinea</td>\n",
       "    </tr>\n",
       "    <tr>\n",
       "      <th>1167</th>\n",
       "      <td>Na�ve</td>\n",
       "      <td>Barinas</td>\n",
       "      <td>1399</td>\n",
       "      <td>2014</td>\n",
       "      <td>70%</td>\n",
       "      <td>Lithuania</td>\n",
       "      <td>3.00</td>\n",
       "      <td></td>\n",
       "      <td>Venezuela</td>\n",
       "    </tr>\n",
       "    <tr>\n",
       "      <th>796</th>\n",
       "      <td>Heirloom Cacao Preservation (Millcreek)</td>\n",
       "      <td>Los Rios, Hacienda Limon, Orecao, 2015</td>\n",
       "      <td>1744</td>\n",
       "      <td>2016</td>\n",
       "      <td>70%</td>\n",
       "      <td>U.S.A.</td>\n",
       "      <td>3.50</td>\n",
       "      <td>EET</td>\n",
       "      <td>Ecuador</td>\n",
       "    </tr>\n",
       "    <tr>\n",
       "      <th>960</th>\n",
       "      <td>Letterpress</td>\n",
       "      <td>Liberia</td>\n",
       "      <td>1728</td>\n",
       "      <td>2016</td>\n",
       "      <td>70%</td>\n",
       "      <td>U.S.A.</td>\n",
       "      <td>3.25</td>\n",
       "      <td></td>\n",
       "      <td>Liberia</td>\n",
       "    </tr>\n",
       "    <tr>\n",
       "      <th>...</th>\n",
       "      <td>...</td>\n",
       "      <td>...</td>\n",
       "      <td>...</td>\n",
       "      <td>...</td>\n",
       "      <td>...</td>\n",
       "      <td>...</td>\n",
       "      <td>...</td>\n",
       "      <td>...</td>\n",
       "      <td>...</td>\n",
       "    </tr>\n",
       "    <tr>\n",
       "      <th>1753</th>\n",
       "      <td>Woodblock</td>\n",
       "      <td>Ecuador</td>\n",
       "      <td>825</td>\n",
       "      <td>2012</td>\n",
       "      <td>70%</td>\n",
       "      <td>U.S.A.</td>\n",
       "      <td>2.50</td>\n",
       "      <td></td>\n",
       "      <td>Ecuador</td>\n",
       "    </tr>\n",
       "    <tr>\n",
       "      <th>1401</th>\n",
       "      <td>Rogue</td>\n",
       "      <td>Sambirano, 2008</td>\n",
       "      <td>213</td>\n",
       "      <td>2008</td>\n",
       "      <td>70%</td>\n",
       "      <td>U.S.A.</td>\n",
       "      <td>2.75</td>\n",
       "      <td>Trinitario</td>\n",
       "      <td>Madagascar</td>\n",
       "    </tr>\n",
       "    <tr>\n",
       "      <th>1038</th>\n",
       "      <td>Map Chocolate</td>\n",
       "      <td>Ecuador</td>\n",
       "      <td>1478</td>\n",
       "      <td>2015</td>\n",
       "      <td>70%</td>\n",
       "      <td>U.S.A.</td>\n",
       "      <td>3.50</td>\n",
       "      <td>Trinitario</td>\n",
       "      <td>Ecuador</td>\n",
       "    </tr>\n",
       "    <tr>\n",
       "      <th>681</th>\n",
       "      <td>Fresco</td>\n",
       "      <td>Maranon, #229, MR, LC</td>\n",
       "      <td>1383</td>\n",
       "      <td>2014</td>\n",
       "      <td>70%</td>\n",
       "      <td>U.S.A.</td>\n",
       "      <td>3.50</td>\n",
       "      <td>Forastero (Nacional)</td>\n",
       "      <td>Peru</td>\n",
       "    </tr>\n",
       "    <tr>\n",
       "      <th>1708</th>\n",
       "      <td>Vao Vao (Chocolaterie Robert)</td>\n",
       "      <td>Madagascar</td>\n",
       "      <td>404</td>\n",
       "      <td>2009</td>\n",
       "      <td>70%</td>\n",
       "      <td>Madagascar</td>\n",
       "      <td>3.00</td>\n",
       "      <td>Trinitario</td>\n",
       "      <td>Madagascar</td>\n",
       "    </tr>\n",
       "  </tbody>\n",
       "</table>\n",
       "<p>150 rows × 9 columns</p>\n",
       "</div>"
      ],
      "text/plain": [
       "                    Company _(Maker-if_known)  \\\n",
       "399                        Chocolate Con Amor   \n",
       "1761                                    Zak's   \n",
       "1167                                    Na�ve   \n",
       "796   Heirloom Cacao Preservation (Millcreek)   \n",
       "960                               Letterpress   \n",
       "...                                       ...   \n",
       "1753                                Woodblock   \n",
       "1401                                    Rogue   \n",
       "1038                            Map Chocolate   \n",
       "681                                    Fresco   \n",
       "1708            Vao Vao (Chocolaterie Robert)   \n",
       "\n",
       "            Specific_Bean_Origin_or_Bar_Name   REF  Review_Date Cocoa_Percent  \\\n",
       "399                                  Ecuador  1764         2016           70%   \n",
       "1761               Papua New Guinea, Batch 2  1574         2015           70%   \n",
       "1167                                 Barinas  1399         2014           70%   \n",
       "796   Los Rios, Hacienda Limon, Orecao, 2015  1744         2016           70%   \n",
       "960                                  Liberia  1728         2016           70%   \n",
       "...                                      ...   ...          ...           ...   \n",
       "1753                                 Ecuador   825         2012           70%   \n",
       "1401                         Sambirano, 2008   213         2008           70%   \n",
       "1038                                 Ecuador  1478         2015           70%   \n",
       "681                    Maranon, #229, MR, LC  1383         2014           70%   \n",
       "1708                              Madagascar   404         2009           70%   \n",
       "\n",
       "     Company_Location  Rating             Bean_Type Broad_Bean_Origin  \n",
       "399            U.S.A.    3.25                                 Ecuador  \n",
       "1761           U.S.A.    3.00                        Papua New Guinea  \n",
       "1167        Lithuania    3.00                               Venezuela  \n",
       "796            U.S.A.    3.50                   EET           Ecuador  \n",
       "960            U.S.A.    3.25                                 Liberia  \n",
       "...               ...     ...                   ...               ...  \n",
       "1753           U.S.A.    2.50                                 Ecuador  \n",
       "1401           U.S.A.    2.75            Trinitario        Madagascar  \n",
       "1038           U.S.A.    3.50            Trinitario           Ecuador  \n",
       "681            U.S.A.    3.50  Forastero (Nacional)              Peru  \n",
       "1708       Madagascar    3.00            Trinitario        Madagascar  \n",
       "\n",
       "[150 rows x 9 columns]"
      ]
     },
     "execution_count": 21,
     "metadata": {},
     "output_type": "execute_result"
    }
   ],
   "source": [
    "df1.sample(150)"
   ]
  },
  {
   "cell_type": "code",
   "execution_count": 23,
   "metadata": {},
   "outputs": [],
   "source": [
    "samples=[df1.sample(150) for i in range(250)]"
   ]
  },
  {
   "cell_type": "code",
   "execution_count": 24,
   "metadata": {},
   "outputs": [
    {
     "data": {
      "text/plain": [
       "3.2466666666666666"
      ]
     },
     "execution_count": 24,
     "metadata": {},
     "output_type": "execute_result"
    }
   ],
   "source": [
    "(lambda x: x.Rating.mean())(samples[1])"
   ]
  },
  {
   "cell_type": "code",
   "execution_count": 25,
   "metadata": {},
   "outputs": [],
   "source": [
    "means=list(map(lambda x: x.Rating.mean(), samples))"
   ]
  },
  {
   "cell_type": "code",
   "execution_count": 26,
   "metadata": {},
   "outputs": [
    {
     "data": {
      "text/plain": [
       "[3.3233333333333333,\n",
       " 3.2466666666666666,\n",
       " 3.3,\n",
       " 3.31,\n",
       " 3.2266666666666666,\n",
       " 3.34,\n",
       " 3.276666666666667,\n",
       " 3.243333333333333,\n",
       " 3.29,\n",
       " 3.235,\n",
       " 3.1983333333333333,\n",
       " 3.295,\n",
       " 3.2733333333333334,\n",
       " 3.315,\n",
       " 3.2266666666666666,\n",
       " 3.335,\n",
       " 3.243333333333333,\n",
       " 3.2483333333333335,\n",
       " 3.236666666666667,\n",
       " 3.2733333333333334,\n",
       " 3.2916666666666665,\n",
       " 3.3383333333333334,\n",
       " 3.3033333333333332,\n",
       " 3.2783333333333333,\n",
       " 3.26,\n",
       " 3.305,\n",
       " 3.2933333333333334,\n",
       " 3.25,\n",
       " 3.2316666666666665,\n",
       " 3.265,\n",
       " 3.2866666666666666,\n",
       " 3.2616666666666667,\n",
       " 3.2816666666666667,\n",
       " 3.25,\n",
       " 3.2466666666666666,\n",
       " 3.27,\n",
       " 3.2583333333333333,\n",
       " 3.3033333333333332,\n",
       " 3.3066666666666666,\n",
       " 3.275,\n",
       " 3.223333333333333,\n",
       " 3.2866666666666666,\n",
       " 3.243333333333333,\n",
       " 3.2816666666666667,\n",
       " 3.255,\n",
       " 3.3183333333333334,\n",
       " 3.31,\n",
       " 3.2916666666666665,\n",
       " 3.26,\n",
       " 3.2933333333333334,\n",
       " 3.2616666666666667,\n",
       " 3.2483333333333335,\n",
       " 3.2883333333333336,\n",
       " 3.2916666666666665,\n",
       " 3.3066666666666666,\n",
       " 3.308333333333333,\n",
       " 3.2866666666666666,\n",
       " 3.2583333333333333,\n",
       " 3.3116666666666665,\n",
       " 3.3033333333333332,\n",
       " 3.3066666666666666,\n",
       " 3.256666666666667,\n",
       " 3.31,\n",
       " 3.29,\n",
       " 3.265,\n",
       " 3.3033333333333332,\n",
       " 3.245,\n",
       " 3.2583333333333333,\n",
       " 3.2583333333333333,\n",
       " 3.29,\n",
       " 3.2783333333333333,\n",
       " 3.275,\n",
       " 3.29,\n",
       " 3.32,\n",
       " 3.31,\n",
       " 3.295,\n",
       " 3.308333333333333,\n",
       " 3.23,\n",
       " 3.285,\n",
       " 3.2466666666666666,\n",
       " 3.265,\n",
       " 3.29,\n",
       " 3.255,\n",
       " 3.3066666666666666,\n",
       " 3.35,\n",
       " 3.235,\n",
       " 3.2733333333333334,\n",
       " 3.328333333333333,\n",
       " 3.26,\n",
       " 3.2483333333333335,\n",
       " 3.2816666666666667,\n",
       " 3.2866666666666666,\n",
       " 3.2516666666666665,\n",
       " 3.3333333333333335,\n",
       " 3.308333333333333,\n",
       " 3.2866666666666666,\n",
       " 3.1816666666666666,\n",
       " 3.263333333333333,\n",
       " 3.2783333333333333,\n",
       " 3.256666666666667,\n",
       " 3.3116666666666665,\n",
       " 3.236666666666667,\n",
       " 3.2333333333333334,\n",
       " 3.236666666666667,\n",
       " 3.263333333333333,\n",
       " 3.2933333333333334,\n",
       " 3.2533333333333334,\n",
       " 3.2733333333333334,\n",
       " 3.28,\n",
       " 3.24,\n",
       " 3.276666666666667,\n",
       " 3.32,\n",
       " 3.2516666666666665,\n",
       " 3.3333333333333335,\n",
       " 3.2816666666666667,\n",
       " 3.255,\n",
       " 3.275,\n",
       " 3.2933333333333334,\n",
       " 3.26,\n",
       " 3.235,\n",
       " 3.3116666666666665,\n",
       " 3.285,\n",
       " 3.265,\n",
       " 3.26,\n",
       " 3.2266666666666666,\n",
       " 3.2483333333333335,\n",
       " 3.2883333333333336,\n",
       " 3.3033333333333332,\n",
       " 3.243333333333333,\n",
       " 3.3016666666666667,\n",
       " 3.225,\n",
       " 3.2933333333333334,\n",
       " 3.2866666666666666,\n",
       " 3.275,\n",
       " 3.2733333333333334,\n",
       " 3.2783333333333333,\n",
       " 3.3066666666666666,\n",
       " 3.3183333333333334,\n",
       " 3.29,\n",
       " 3.2533333333333334,\n",
       " 3.2466666666666666,\n",
       " 3.3333333333333335,\n",
       " 3.256666666666667,\n",
       " 3.263333333333333,\n",
       " 3.32,\n",
       " 3.276666666666667,\n",
       " 3.2783333333333333,\n",
       " 3.2316666666666665,\n",
       " 3.2616666666666667,\n",
       " 3.2333333333333334,\n",
       " 3.27,\n",
       " 3.2716666666666665,\n",
       " 3.2666666666666666,\n",
       " 3.2333333333333334,\n",
       " 3.2716666666666665,\n",
       " 3.3033333333333332,\n",
       " 3.223333333333333,\n",
       " 3.2316666666666665,\n",
       " 3.2616666666666667,\n",
       " 3.2783333333333333,\n",
       " 3.341666666666667,\n",
       " 3.295,\n",
       " 3.2666666666666666,\n",
       " 3.316666666666667,\n",
       " 3.276666666666667,\n",
       " 3.2583333333333333,\n",
       " 3.3316666666666666,\n",
       " 3.3033333333333332,\n",
       " 3.265,\n",
       " 3.2533333333333334,\n",
       " 3.27,\n",
       " 3.3266666666666667,\n",
       " 3.2716666666666665,\n",
       " 3.2266666666666666,\n",
       " 3.2666666666666666,\n",
       " 3.29,\n",
       " 3.3183333333333334,\n",
       " 3.1866666666666665,\n",
       " 3.28,\n",
       " 3.316666666666667,\n",
       " 3.263333333333333,\n",
       " 3.296666666666667,\n",
       " 3.2933333333333334,\n",
       " 3.243333333333333,\n",
       " 3.27,\n",
       " 3.2616666666666667,\n",
       " 3.29,\n",
       " 3.3433333333333333,\n",
       " 3.223333333333333,\n",
       " 3.23,\n",
       " 3.3066666666666666,\n",
       " 3.263333333333333,\n",
       " 3.3366666666666664,\n",
       " 3.2216666666666667,\n",
       " 3.25,\n",
       " 3.3016666666666667,\n",
       " 3.3066666666666666,\n",
       " 3.27,\n",
       " 3.2716666666666665,\n",
       " 3.2383333333333333,\n",
       " 3.2933333333333334,\n",
       " 3.2866666666666666,\n",
       " 3.29,\n",
       " 3.3066666666666666,\n",
       " 3.315,\n",
       " 3.2783333333333333,\n",
       " 3.3,\n",
       " 3.26,\n",
       " 3.275,\n",
       " 3.2583333333333333,\n",
       " 3.2883333333333336,\n",
       " 3.2866666666666666,\n",
       " 3.33,\n",
       " 3.2733333333333334,\n",
       " 3.32,\n",
       " 3.315,\n",
       " 3.2716666666666665,\n",
       " 3.3216666666666668,\n",
       " 3.27,\n",
       " 3.2133333333333334,\n",
       " 3.308333333333333,\n",
       " 3.243333333333333,\n",
       " 3.3383333333333334,\n",
       " 3.2733333333333334,\n",
       " 3.2383333333333333,\n",
       " 3.2783333333333333,\n",
       " 3.295,\n",
       " 3.2816666666666667,\n",
       " 3.296666666666667,\n",
       " 3.2866666666666666,\n",
       " 3.2316666666666665,\n",
       " 3.2533333333333334,\n",
       " 3.2466666666666666,\n",
       " 3.2516666666666665,\n",
       " 3.18,\n",
       " 3.25,\n",
       " 3.328333333333333,\n",
       " 3.2683333333333335,\n",
       " 3.316666666666667,\n",
       " 3.3016666666666667,\n",
       " 3.256666666666667,\n",
       " 3.245,\n",
       " 3.2133333333333334,\n",
       " 3.2333333333333334,\n",
       " 3.276666666666667,\n",
       " 3.3433333333333333,\n",
       " 3.295,\n",
       " 3.27,\n",
       " 3.2866666666666666,\n",
       " 3.2683333333333335]"
      ]
     },
     "execution_count": 26,
     "metadata": {},
     "output_type": "execute_result"
    }
   ],
   "source": [
    "means"
   ]
  },
  {
   "cell_type": "code",
   "execution_count": 28,
   "metadata": {},
   "outputs": [],
   "source": [
    "import matplotlib.pyplot as plt\n",
    "%matplotlib inline"
   ]
  },
  {
   "cell_type": "code",
   "execution_count": 29,
   "metadata": {},
   "outputs": [
    {
     "data": {
      "text/plain": [
       "[<matplotlib.lines.Line2D at 0x1189cbd00>]"
      ]
     },
     "execution_count": 29,
     "metadata": {},
     "output_type": "execute_result"
    },
    {
     "data": {
      "image/png": "[encoded data removed]",
      "text/plain": [
       "<Figure size 432x288 with 1 Axes>"
      ]
     },
     "metadata": {
      "needs_background": "light"
     },
     "output_type": "display_data"
    }
   ],
   "source": [
    "plt.plot(means, 'o')"
   ]
  },
  {
   "cell_type": "code",
   "execution_count": 30,
   "metadata": {},
   "outputs": [
    {
     "data": {
      "text/plain": [
       "[<matplotlib.lines.Line2D at 0x118abb220>]"
      ]
     },
     "execution_count": 30,
     "metadata": {},
     "output_type": "execute_result"
    },
    {
     "data": {
      "image/png": "[encoded data removed]",
      "text/plain": [
       "<Figure size 432x288 with 1 Axes>"
      ]
     },
     "metadata": {
      "needs_background": "light"
     },
     "output_type": "display_data"
    }
   ],
   "source": [
    "plt.plot(means, 'o') #Sample averages\n",
    "\n",
    "plt.plot(range(250), [df1.Rating.mean()]*250) #Population mean"
   ]
  },
  {
   "cell_type": "code",
   "execution_count": 31,
   "metadata": {},
   "outputs": [
    {
     "data": {
      "text/plain": [
       "(array([ 3.,  3., 11., 30., 44., 54., 41., 35., 17., 12.]),\n",
       " array([3.18 , 3.197, 3.214, 3.231, 3.248, 3.265, 3.282, 3.299, 3.316,\n",
       "        3.333, 3.35 ]),\n",
       " <BarContainer object of 10 artists>)"
      ]
     },
     "execution_count": 31,
     "metadata": {},
     "output_type": "execute_result"
    },
    {
     "data": {
      "image/png": "[encoded data removed]",
      "text/plain": [
       "<Figure size 432x288 with 1 Axes>"
      ]
     },
     "metadata": {
      "needs_background": "light"
     },
     "output_type": "display_data"
    }
   ],
   "source": [
    "plt.hist(means)"
   ]
  },
  {
   "cell_type": "code",
   "execution_count": 32,
   "metadata": {},
   "outputs": [],
   "source": [
    "import numpy as np"
   ]
  },
  {
   "cell_type": "code",
   "execution_count": 33,
   "metadata": {},
   "outputs": [
    {
     "data": {
      "text/plain": [
       "3.2763466666666674"
      ]
     },
     "execution_count": 33,
     "metadata": {},
     "output_type": "execute_result"
    }
   ],
   "source": [
    "np.mean(means)"
   ]
  },
  {
   "cell_type": "code",
   "execution_count": 34,
   "metadata": {},
   "outputs": [
    {
     "data": {
      "text/plain": [
       "3.2760416666666665"
      ]
     },
     "execution_count": 34,
     "metadata": {},
     "output_type": "execute_result"
    }
   ],
   "source": [
    "df1.Rating.mean()"
   ]
  },
  {
   "cell_type": "code",
   "execution_count": 35,
   "metadata": {},
   "outputs": [
    {
     "data": {
      "text/plain": [
       "{'whiskers': [<matplotlib.lines.Line2D at 0x118b9e490>,\n",
       "  <matplotlib.lines.Line2D at 0x118b9e7f0>],\n",
       " 'caps': [<matplotlib.lines.Line2D at 0x118b9eb50>,\n",
       "  <matplotlib.lines.Line2D at 0x118b9eeb0>],\n",
       " 'boxes': [<matplotlib.lines.Line2D at 0x118b9e130>],\n",
       " 'medians': [<matplotlib.lines.Line2D at 0x118ba7250>],\n",
       " 'fliers': [<matplotlib.lines.Line2D at 0x118ba75b0>],\n",
       " 'means': []}"
      ]
     },
     "execution_count": 35,
     "metadata": {},
     "output_type": "execute_result"
    },
    {
     "data": {
      "image/png": "[encoded data removed]",
      "text/plain": [
       "<Figure size 432x288 with 1 Axes>"
      ]
     },
     "metadata": {
      "needs_background": "light"
     },
     "output_type": "display_data"
    }
   ],
   "source": [
    "plt.boxplot(means)"
   ]
  },
  {
   "cell_type": "markdown",
   "metadata": {},
   "source": [
    "## Confidence Intervals"
   ]
  },
  {
   "cell_type": "code",
   "execution_count": 36,
   "metadata": {},
   "outputs": [],
   "source": [
    "from scipy.stats import norm, t"
   ]
  },
  {
   "cell_type": "code",
   "execution_count": 37,
   "metadata": {},
   "outputs": [
    {
     "data": {
      "text/plain": [
       "(-0.034246855434542756, 0.034246855434542756)"
      ]
     },
     "execution_count": 37,
     "metadata": {},
     "output_type": "execute_result"
    }
   ],
   "source": [
    "norm.interval(0.95, scale=df1.Rating.std()/(df1.shape[0])**0.5)"
   ]
  },
  {
   "cell_type": "code",
   "execution_count": 38,
   "metadata": {},
   "outputs": [
    {
     "data": {
      "text/plain": [
       "(3.2890864778987905, 3.357580188767876)"
      ]
     },
     "execution_count": 38,
     "metadata": {},
     "output_type": "execute_result"
    }
   ],
   "source": [
    "norm.interval(0.95, loc=means[0], scale=df1.Rating.std()/(df1.shape[0])**0.5)"
   ]
  },
  {
   "cell_type": "markdown",
   "metadata": {},
   "source": [
    "I will build confidence interval for each sample. Then I will check wether population mean is inside of confidence interval of each sample. This will tell me how many cases out of 250 are not really useful. And it will indicate me the quality of this approach"
   ]
  },
  {
   "cell_type": "code",
   "execution_count": 41,
   "metadata": {},
   "outputs": [],
   "source": [
    "ss=np.var(df1.Rating)"
   ]
  },
  {
   "cell_type": "code",
   "execution_count": 42,
   "metadata": {},
   "outputs": [],
   "source": [
    "def ci_norm(x, sigma_squared=ss):\n",
    "    sample_mean = x.Rating.mean()\n",
    "    standard_error = (sigma_squared / x.shape[0])**0.5\n",
    "    return norm.interval(0.05, scale = standard_error)"
   ]
  },
  {
   "cell_type": "code",
   "execution_count": 43,
   "metadata": {},
   "outputs": [
    {
     "data": {
      "text/plain": [
       "False    232\n",
       "True      18\n",
       "Name: inside, dtype: int64"
      ]
     },
     "execution_count": 43,
     "metadata": {},
     "output_type": "execute_result"
    }
   ],
   "source": [
    "dd=pd.DataFrame(map(ci_norm, samples), columns=['lower','upper'])\n",
    "dd['means']=means\n",
    "dd['population_mean']=df1.Rating.mean()\n",
    "dd['inside']=dd.eval('lower<(population_mean-means)<upper')\n",
    "dd.inside.value_counts()"
   ]
  },
  {
   "cell_type": "code",
   "execution_count": 44,
   "metadata": {},
   "outputs": [
    {
     "data": {
      "image/png": "[encoded data removed]",
      "text/plain": [
       "<Figure size 1440x576 with 1 Axes>"
      ]
     },
     "metadata": {
      "needs_background": "light"
     },
     "output_type": "display_data"
    }
   ],
   "source": [
    "plt.figure(figsize=(20,8))\n",
    "for inside,x in dd.groupby('inside'):\n",
    "    plt.errorbar(x.index, x.means, yerr=x.iloc[:,1].T.values, fmt='o', uplims=True, lolims=True)\n",
    "plt.plot(range(len(samples)), dd.population_mean)\n",
    "plt.show()"
   ]
  },
  {
   "cell_type": "code",
   "execution_count": 45,
   "metadata": {},
   "outputs": [],
   "source": [
    "ss=np.var(df1.Rating)\n",
    "def ci_norm(x, sigma_squared=ss):\n",
    "    sample_mean = x.Rating.mean()\n",
    "    standard_error=(sigma_squared/x.shape[0])**0.5\n",
    "    return norm.interval(0.95, scale=standard_error)"
   ]
  },
  {
   "cell_type": "code",
   "execution_count": 46,
   "metadata": {},
   "outputs": [
    {
     "data": {
      "text/plain": [
       "True     245\n",
       "False      5\n",
       "Name: inside, dtype: int64"
      ]
     },
     "execution_count": 46,
     "metadata": {},
     "output_type": "execute_result"
    }
   ],
   "source": [
    "dd=pd.DataFrame(map(ci_norm, samples), columns=['lower','upper'])\n",
    "dd['means']=means\n",
    "dd['population_mean']=df1.Rating.mean()\n",
    "dd['inside']=dd.eval('lower<(population_mean-means)<upper')\n",
    "dd.inside.value_counts()"
   ]
  },
  {
   "cell_type": "code",
   "execution_count": 47,
   "metadata": {},
   "outputs": [
    {
     "data": {
      "image/png": "[encoded data removed]",
      "text/plain": [
       "<Figure size 1440x576 with 1 Axes>"
      ]
     },
     "metadata": {
      "needs_background": "light"
     },
     "output_type": "display_data"
    }
   ],
   "source": [
    "plt.figure(figsize=(20,8))\n",
    "for inside,x in dd.groupby('inside'):\n",
    "    plt.errorbar(x.index, x.means, yerr=x.iloc[:,1].T.values, fmt='o', uplims=True, lolims=True)\n",
    "plt.plot(range(len(samples)), dd.population_mean)\n",
    "plt.show()"
   ]
  },
  {
   "cell_type": "code",
   "execution_count": null,
   "metadata": {},
   "outputs": [],
   "source": []
  }
 ],
 "metadata": {
  "kernelspec": {
   "display_name": "Python 3",
   "language": "python",
   "name": "python3"
  },
  "language_info": {
   "codemirror_mode": {
    "name": "ipython",
    "version": 3
   },
   "file_extension": ".py",
   "mimetype": "text/x-python",
   "name": "python",
   "nbconvert_exporter": "python",
   "pygments_lexer": "ipython3",
   "version": "3.8.5"
  }
 },
 "nbformat": 4,
 "nbformat_minor": 4
}
