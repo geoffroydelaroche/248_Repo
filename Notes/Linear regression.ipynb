{
 "cells": [
  {
   "cell_type": "code",
   "execution_count": 1,
   "metadata": {},
   "outputs": [],
   "source": [
    "import pandas as pd\n",
    "import numpy as np\n",
    "import matplotlib as plt\n",
    "import seaborn as sns\n",
    "%matplotlib inline\n",
    "sns.set()"
   ]
  },
  {
   "cell_type": "code",
   "execution_count": 2,
   "metadata": {},
   "outputs": [],
   "source": [
    "df=pd.read_csv('/Users/Jeff/Downloads/Fitbit.csv')"
   ]
  },
  {
   "cell_type": "code",
   "execution_count": 3,
   "metadata": {},
   "outputs": [
    {
     "data": {
      "text/html": [
       "<div>\n",
       "<style scoped>\n",
       "    .dataframe tbody tr th:only-of-type {\n",
       "        vertical-align: middle;\n",
       "    }\n",
       "\n",
       "    .dataframe tbody tr th {\n",
       "        vertical-align: top;\n",
       "    }\n",
       "\n",
       "    .dataframe thead th {\n",
       "        text-align: right;\n",
       "    }\n",
       "</style>\n",
       "<table border=\"1\" class=\"dataframe\">\n",
       "  <thead>\n",
       "    <tr style=\"text-align: right;\">\n",
       "      <th></th>\n",
       "      <th>Date</th>\n",
       "      <th>Calorie burned</th>\n",
       "      <th>Steps</th>\n",
       "      <th>Distance</th>\n",
       "      <th>Floors</th>\n",
       "      <th>Minutes Sedentary</th>\n",
       "      <th>Minutes Lightly Active</th>\n",
       "      <th>Minutes Fairly Active</th>\n",
       "      <th>Minutes Very Active</th>\n",
       "      <th>Activity Calories</th>\n",
       "      <th>MinutesOfSleep</th>\n",
       "      <th>MinutesOfBeingAwake</th>\n",
       "      <th>NumberOfAwakings</th>\n",
       "      <th>LengthOfRestInMinutes</th>\n",
       "    </tr>\n",
       "  </thead>\n",
       "  <tbody>\n",
       "    <tr>\n",
       "      <th>0</th>\n",
       "      <td>08-05-2015</td>\n",
       "      <td>1934</td>\n",
       "      <td>905</td>\n",
       "      <td>0.65</td>\n",
       "      <td>0</td>\n",
       "      <td>1.355</td>\n",
       "      <td>46</td>\n",
       "      <td>0</td>\n",
       "      <td>0</td>\n",
       "      <td>1680</td>\n",
       "      <td>384</td>\n",
       "      <td>26</td>\n",
       "      <td>23</td>\n",
       "      <td>417</td>\n",
       "    </tr>\n",
       "    <tr>\n",
       "      <th>1</th>\n",
       "      <td>09-05-2015</td>\n",
       "      <td>3631</td>\n",
       "      <td>18925</td>\n",
       "      <td>14.11</td>\n",
       "      <td>4</td>\n",
       "      <td>611.000</td>\n",
       "      <td>316</td>\n",
       "      <td>61</td>\n",
       "      <td>60</td>\n",
       "      <td>2248</td>\n",
       "      <td>454</td>\n",
       "      <td>35</td>\n",
       "      <td>21</td>\n",
       "      <td>491</td>\n",
       "    </tr>\n",
       "    <tr>\n",
       "      <th>2</th>\n",
       "      <td>10-05-2015</td>\n",
       "      <td>3204</td>\n",
       "      <td>14228</td>\n",
       "      <td>10.57</td>\n",
       "      <td>1</td>\n",
       "      <td>602.000</td>\n",
       "      <td>226</td>\n",
       "      <td>14</td>\n",
       "      <td>77</td>\n",
       "      <td>1719</td>\n",
       "      <td>387</td>\n",
       "      <td>46</td>\n",
       "      <td>25</td>\n",
       "      <td>436</td>\n",
       "    </tr>\n",
       "    <tr>\n",
       "      <th>3</th>\n",
       "      <td>11-05-2015</td>\n",
       "      <td>2673</td>\n",
       "      <td>6756</td>\n",
       "      <td>5.02</td>\n",
       "      <td>8</td>\n",
       "      <td>749.000</td>\n",
       "      <td>190</td>\n",
       "      <td>23</td>\n",
       "      <td>4</td>\n",
       "      <td>9620</td>\n",
       "      <td>311</td>\n",
       "      <td>31</td>\n",
       "      <td>21</td>\n",
       "      <td>350</td>\n",
       "    </tr>\n",
       "    <tr>\n",
       "      <th>4</th>\n",
       "      <td>12-05-2015</td>\n",
       "      <td>2495</td>\n",
       "      <td>502</td>\n",
       "      <td>3.73</td>\n",
       "      <td>1</td>\n",
       "      <td>876.000</td>\n",
       "      <td>171</td>\n",
       "      <td>0</td>\n",
       "      <td>0</td>\n",
       "      <td>7360</td>\n",
       "      <td>407</td>\n",
       "      <td>65</td>\n",
       "      <td>44</td>\n",
       "      <td>491</td>\n",
       "    </tr>\n",
       "  </tbody>\n",
       "</table>\n",
       "</div>"
      ],
      "text/plain": [
       "         Date  Calorie burned  Steps  Distance  Floors  Minutes Sedentary  \\\n",
       "0  08-05-2015            1934    905      0.65       0              1.355   \n",
       "1  09-05-2015            3631  18925     14.11       4            611.000   \n",
       "2  10-05-2015            3204  14228     10.57       1            602.000   \n",
       "3  11-05-2015            2673   6756      5.02       8            749.000   \n",
       "4  12-05-2015            2495    502      3.73       1            876.000   \n",
       "\n",
       "   Minutes Lightly Active  Minutes Fairly Active  Minutes Very Active  \\\n",
       "0                      46                      0                    0   \n",
       "1                     316                     61                   60   \n",
       "2                     226                     14                   77   \n",
       "3                     190                     23                    4   \n",
       "4                     171                      0                    0   \n",
       "\n",
       "   Activity Calories  MinutesOfSleep  MinutesOfBeingAwake  NumberOfAwakings  \\\n",
       "0               1680             384                   26                23   \n",
       "1               2248             454                   35                21   \n",
       "2               1719             387                   46                25   \n",
       "3               9620             311                   31                21   \n",
       "4               7360             407                   65                44   \n",
       "\n",
       "   LengthOfRestInMinutes  \n",
       "0                    417  \n",
       "1                    491  \n",
       "2                    436  \n",
       "3                    350  \n",
       "4                    491  "
      ]
     },
     "execution_count": 3,
     "metadata": {},
     "output_type": "execute_result"
    }
   ],
   "source": [
    "df.head()"
   ]
  },
  {
   "cell_type": "code",
   "execution_count": 4,
   "metadata": {},
   "outputs": [
    {
     "data": {
      "text/plain": [
       "<AxesSubplot:xlabel='NumberOfAwakings', ylabel='MinutesOfBeingAwake'>"
      ]
     },
     "execution_count": 4,
     "metadata": {},
     "output_type": "execute_result"
    },
    {
     "data": {
      "image/png": "[encoded data removed]",
      "text/plain": [
       "<Figure size 432x288 with 1 Axes>"
      ]
     },
     "metadata": {},
     "output_type": "display_data"
    }
   ],
   "source": [
    "sns.regplot(x='NumberOfAwakings', y='MinutesOfBeingAwake', data=df)"
   ]
  },
  {
   "cell_type": "markdown",
   "metadata": {},
   "source": [
    "From this viz, I see that there is a strong relationship between two columns. Let's built a linear regression for the MinutesOfBeingAwake:\n",
    "y = alpha + beta * x"
   ]
  },
  {
   "cell_type": "code",
   "execution_count": 5,
   "metadata": {},
   "outputs": [],
   "source": [
    "from statsmodels.formula.api import ols"
   ]
  },
  {
   "cell_type": "code",
   "execution_count": 6,
   "metadata": {},
   "outputs": [],
   "source": [
    "model=ols('MinutesOfBeingAwake ~ NumberOfAwakings', data=df)"
   ]
  },
  {
   "cell_type": "code",
   "execution_count": 8,
   "metadata": {},
   "outputs": [],
   "source": [
    "model_fit=model.fit()"
   ]
  },
  {
   "cell_type": "code",
   "execution_count": 9,
   "metadata": {},
   "outputs": [
    {
     "data": {
      "text/html": [
       "<table class=\"simpletable\">\n",
       "<caption>OLS Regression Results</caption>\n",
       "<tr>\n",
       "  <th>Dep. Variable:</th>    <td>MinutesOfBeingAwake</td> <th>  R-squared:         </th> <td>   0.906</td> \n",
       "</tr>\n",
       "<tr>\n",
       "  <th>Model:</th>                    <td>OLS</td>         <th>  Adj. R-squared:    </th> <td>   0.906</td> \n",
       "</tr>\n",
       "<tr>\n",
       "  <th>Method:</th>              <td>Least Squares</td>    <th>  F-statistic:       </th> <td>   3516.</td> \n",
       "</tr>\n",
       "<tr>\n",
       "  <th>Date:</th>              <td>Mon, 28 Sep 2020</td>   <th>  Prob (F-statistic):</th> <td>1.89e-189</td>\n",
       "</tr>\n",
       "<tr>\n",
       "  <th>Time:</th>                  <td>10:59:38</td>       <th>  Log-Likelihood:    </th> <td> -1158.1</td> \n",
       "</tr>\n",
       "<tr>\n",
       "  <th>No. Observations:</th>       <td>   367</td>        <th>  AIC:               </th> <td>   2320.</td> \n",
       "</tr>\n",
       "<tr>\n",
       "  <th>Df Residuals:</th>           <td>   365</td>        <th>  BIC:               </th> <td>   2328.</td> \n",
       "</tr>\n",
       "<tr>\n",
       "  <th>Df Model:</th>               <td>     1</td>        <th>                     </th>     <td> </td>    \n",
       "</tr>\n",
       "<tr>\n",
       "  <th>Covariance Type:</th>       <td>nonrobust</td>      <th>                     </th>     <td> </td>    \n",
       "</tr>\n",
       "</table>\n",
       "<table class=\"simpletable\">\n",
       "<tr>\n",
       "          <td></td>            <th>coef</th>     <th>std err</th>      <th>t</th>      <th>P>|t|</th>  <th>[0.025</th>    <th>0.975]</th>  \n",
       "</tr>\n",
       "<tr>\n",
       "  <th>Intercept</th>        <td>    1.4381</td> <td>    0.538</td> <td>    2.675</td> <td> 0.008</td> <td>    0.381</td> <td>    2.495</td>\n",
       "</tr>\n",
       "<tr>\n",
       "  <th>NumberOfAwakings</th> <td>    1.6405</td> <td>    0.028</td> <td>   59.297</td> <td> 0.000</td> <td>    1.586</td> <td>    1.695</td>\n",
       "</tr>\n",
       "</table>\n",
       "<table class=\"simpletable\">\n",
       "<tr>\n",
       "  <th>Omnibus:</th>       <td>17.535</td> <th>  Durbin-Watson:     </th> <td>   1.830</td>\n",
       "</tr>\n",
       "<tr>\n",
       "  <th>Prob(Omnibus):</th> <td> 0.000</td> <th>  Jarque-Bera (JB):  </th> <td>  31.142</td>\n",
       "</tr>\n",
       "<tr>\n",
       "  <th>Skew:</th>          <td> 0.290</td> <th>  Prob(JB):          </th> <td>1.73e-07</td>\n",
       "</tr>\n",
       "<tr>\n",
       "  <th>Kurtosis:</th>      <td> 4.304</td> <th>  Cond. No.          </th> <td>    35.2</td>\n",
       "</tr>\n",
       "</table><br/><br/>Notes:<br/>[1] Standard Errors assume that the covariance matrix of the errors is correctly specified."
      ],
      "text/plain": [
       "<class 'statsmodels.iolib.summary.Summary'>\n",
       "\"\"\"\n",
       "                             OLS Regression Results                            \n",
       "===============================================================================\n",
       "Dep. Variable:     MinutesOfBeingAwake   R-squared:                       0.906\n",
       "Model:                             OLS   Adj. R-squared:                  0.906\n",
       "Method:                  Least Squares   F-statistic:                     3516.\n",
       "Date:                 Mon, 28 Sep 2020   Prob (F-statistic):          1.89e-189\n",
       "Time:                         10:59:38   Log-Likelihood:                -1158.1\n",
       "No. Observations:                  367   AIC:                             2320.\n",
       "Df Residuals:                      365   BIC:                             2328.\n",
       "Df Model:                            1                                         \n",
       "Covariance Type:             nonrobust                                         \n",
       "====================================================================================\n",
       "                       coef    std err          t      P>|t|      [0.025      0.975]\n",
       "------------------------------------------------------------------------------------\n",
       "Intercept            1.4381      0.538      2.675      0.008       0.381       2.495\n",
       "NumberOfAwakings     1.6405      0.028     59.297      0.000       1.586       1.695\n",
       "==============================================================================\n",
       "Omnibus:                       17.535   Durbin-Watson:                   1.830\n",
       "Prob(Omnibus):                  0.000   Jarque-Bera (JB):               31.142\n",
       "Skew:                           0.290   Prob(JB):                     1.73e-07\n",
       "Kurtosis:                       4.304   Cond. No.                         35.2\n",
       "==============================================================================\n",
       "\n",
       "Notes:\n",
       "[1] Standard Errors assume that the covariance matrix of the errors is correctly specified.\n",
       "\"\"\""
      ]
     },
     "execution_count": 9,
     "metadata": {},
     "output_type": "execute_result"
    }
   ],
   "source": [
    "model_fit.summary()"
   ]
  },
  {
   "cell_type": "code",
   "execution_count": 11,
   "metadata": {},
   "outputs": [
    {
     "data": {
      "text/plain": [
       "array([39.16992866, 35.88890037, 42.45095694, 35.88890037, 73.62072567,\n",
       "       52.2940418 , 21.12427308, 27.68632965, 30.96735794, 19.48375893,\n",
       "       14.5622165 , 45.73198523, 37.52941451, 44.09147109, 44.09147109,\n",
       "       40.8104428 , 32.60787208,  1.43810335, 47.37249937, 29.32684379,\n",
       "       53.93455595, 44.09147109, 42.45095694, 55.57507009, 44.09147109,\n",
       "       57.21558424, 49.01301352, 26.04581551, 57.21558424, 45.73198523,\n",
       "       32.60787208, 50.65352766, 42.45095694, 24.40530136, 50.65352766,\n",
       "        6.35964578, 35.88890037, 24.40530136, 24.40530136, 29.32684379,\n",
       "       22.76478722, 19.48375893,  1.43810335, 16.20273064, 50.65352766,\n",
       "       39.16992866, 44.09147109, 37.52941451, 49.01301352, 40.8104428 ,\n",
       "       47.37249937, 26.04581551, 26.04581551, 35.88890037, 12.92170236,\n",
       "       32.60787208, 37.52941451, 26.04581551, 29.32684379, 24.40530136,\n",
       "       22.76478722, 19.48375893, 32.60787208, 45.73198523, 22.76478722,\n",
       "       12.92170236, 30.96735794, 12.92170236, 45.73198523, 27.68632965,\n",
       "       29.32684379, 26.04581551, 24.40530136, 19.48375893, 19.48375893,\n",
       "       27.68632965, 40.8104428 , 17.84324479, 40.8104428 , 22.76478722,\n",
       "        1.43810335, 27.68632965, 27.68632965, 35.88890037, 42.45095694,\n",
       "       12.92170236, 52.2940418 , 39.16992866, 32.60787208, 52.2940418 ,\n",
       "        1.43810335, 63.77764081, 30.96735794, 27.68632965, 34.24838622,\n",
       "       21.12427308, 21.12427308, 29.32684379, 40.8104428 ,  1.43810335,\n",
       "        9.64067407,  1.43810335, 29.32684379, 19.48375893, 45.73198523,\n",
       "       27.68632965, 22.76478722, 63.77764081, 26.04581551, 22.76478722,\n",
       "       55.57507009, 39.16992866, 32.60787208, 55.57507009, 11.28118821,\n",
       "       24.40530136, 62.13712667,  1.43810335, 14.5622165 ,  6.35964578,\n",
       "        1.43810335, 16.20273064, 34.24838622,  1.43810335, 30.96735794,\n",
       "       35.88890037, 30.96735794,  1.43810335, 16.20273064, 55.57507009,\n",
       "       14.5622165 , 26.04581551, 75.26123982, 57.21558424,  1.43810335,\n",
       "       19.48375893, 45.73198523, 49.01301352, 50.65352766, 40.8104428 ,\n",
       "        1.43810335,  1.43810335, 29.32684379, 29.32684379,  1.43810335,\n",
       "       27.68632965, 50.65352766, 17.84324479, 39.16992866, 44.09147109,\n",
       "       27.68632965, 45.73198523, 47.37249937,  1.43810335,  9.64067407,\n",
       "        4.71913164, 58.85609838, 14.5622165 ,  1.43810335, 55.57507009,\n",
       "       11.28118821,  1.43810335,  1.43810335,  1.43810335,  1.43810335,\n",
       "        1.43810335, 27.68632965, 55.57507009, 11.28118821, 49.01301352,\n",
       "        1.43810335,  1.43810335, 17.84324479, 11.28118821, 24.40530136,\n",
       "       17.84324479, 26.04581551, 39.16992866, 24.40530136,  1.43810335,\n",
       "        9.64067407, 39.16992866, 12.92170236,  1.43810335,  1.43810335,\n",
       "       35.88890037, 47.37249937, 19.48375893, 26.04581551, 29.32684379,\n",
       "       62.13712667, 44.09147109,  9.64067407, 52.2940418 ,  1.43810335,\n",
       "       24.40530136, 35.88890037,  1.43810335, 39.16992866, 40.8104428 ,\n",
       "       44.09147109, 42.45095694,  1.43810335,  1.43810335, 27.68632965,\n",
       "        1.43810335,  3.0786175 ,  1.43810335, 29.32684379, 53.93455595,\n",
       "       37.52941451, 40.8104428 , 24.40530136, 55.57507009, 35.88890037,\n",
       "        1.43810335,  8.00015993, 12.92170236, 11.28118821,  1.43810335,\n",
       "       52.2940418 ,  1.43810335,  1.43810335, 58.85609838, 34.24838622,\n",
       "       35.88890037, 11.28118821,  4.71913164,  8.00015993,  1.43810335,\n",
       "       37.52941451, 47.37249937, 17.84324479, 19.48375893,  1.43810335,\n",
       "        1.43810335, 45.73198523, 45.73198523, 40.8104428 , 30.96735794,\n",
       "       11.28118821, 55.57507009, 22.76478722, 24.40530136, 32.60787208,\n",
       "        1.43810335, 52.2940418 , 32.60787208, 37.52941451, 14.5622165 ,\n",
       "       17.84324479, 17.84324479,  1.43810335, 19.48375893, 30.96735794,\n",
       "       12.92170236, 32.60787208, 37.52941451, 45.73198523, 44.09147109,\n",
       "        9.64067407,  1.43810335, 40.8104428 , 50.65352766, 60.49661252,\n",
       "       47.37249937, 52.2940418 ,  1.43810335, 37.52941451, 35.88890037,\n",
       "       45.73198523, 34.24838622, 24.40530136, 47.37249937, 24.40530136,\n",
       "       32.60787208, 12.92170236, 50.65352766, 35.88890037,  1.43810335,\n",
       "       26.04581551, 24.40530136, 49.01301352, 34.24838622,  1.43810335,\n",
       "       27.68632965, 12.92170236,  1.43810335, 16.20273064, 52.2940418 ,\n",
       "       53.93455595,  1.43810335, 16.20273064, 16.20273064, 35.88890037,\n",
       "        1.43810335,  1.43810335, 27.68632965, 12.92170236, 44.09147109,\n",
       "       37.52941451, 47.37249937,  9.64067407, 26.04581551,  1.43810335,\n",
       "       39.16992866, 30.96735794,  1.43810335, 30.96735794,  1.43810335,\n",
       "       17.84324479,  1.43810335,  1.43810335,  9.64067407, 37.52941451,\n",
       "       17.84324479, 29.32684379, 52.2940418 , 39.16992866, 22.76478722,\n",
       "       44.09147109, 22.76478722, 22.76478722,  9.64067407,  8.00015993,\n",
       "       58.85609838,  1.43810335,  1.43810335, 35.88890037, 26.04581551,\n",
       "       39.16992866,  6.35964578, 39.16992866, 27.68632965, 14.5622165 ,\n",
       "       26.04581551, 12.92170236, 40.8104428 , 17.84324479, 37.52941451,\n",
       "       44.09147109, 35.88890037, 52.2940418 , 30.96735794, 34.24838622,\n",
       "       42.45095694,  1.43810335, 21.12427308,  1.43810335, 29.32684379,\n",
       "       29.32684379, 65.41815495, 47.37249937, 52.2940418 , 24.40530136,\n",
       "       17.84324479, 45.73198523, 57.21558424, 16.20273064, 45.73198523,\n",
       "       34.24838622, 39.16992866, 30.96735794, 14.5622165 , 26.04581551,\n",
       "       37.52941451, 52.2940418 ])"
      ]
     },
     "execution_count": 11,
     "metadata": {},
     "output_type": "execute_result"
    }
   ],
   "source": [
    "y_pred=model_fit.predict()\n",
    "y_pred"
   ]
  },
  {
   "cell_type": "code",
   "execution_count": 12,
   "metadata": {},
   "outputs": [],
   "source": [
    "df['y_pred']=y_pred"
   ]
  },
  {
   "cell_type": "code",
   "execution_count": 13,
   "metadata": {},
   "outputs": [
    {
     "data": {
      "text/plain": [
       "<AxesSubplot:xlabel='NumberOfAwakings', ylabel='y_pred'>"
      ]
     },
     "execution_count": 13,
     "metadata": {},
     "output_type": "execute_result"
    },
    {
     "data": {
      "image/png": "[encoded data removed]",
      "text/plain": [
       "<Figure size 432x288 with 1 Axes>"
      ]
     },
     "metadata": {},
     "output_type": "display_data"
    }
   ],
   "source": [
    "sns.scatterplot(data=df, x='NumberOfAwakings', y='MinutesOfBeingAwake')\n",
    "sns.scatterplot(data=df, x='NumberOfAwakings', y='y_pred')\n"
   ]
  },
  {
   "cell_type": "code",
   "execution_count": 14,
   "metadata": {},
   "outputs": [
    {
     "data": {
      "text/plain": [
       "<AxesSubplot:xlabel='y_pred', ylabel='MinutesOfBeingAwake'>"
      ]
     },
     "execution_count": 14,
     "metadata": {},
     "output_type": "execute_result"
    },
    {
     "data": {
      "image/png": "[encoded data removed]",
      "text/plain": [
       "<Figure size 432x288 with 1 Axes>"
      ]
     },
     "metadata": {},
     "output_type": "display_data"
    }
   ],
   "source": [
    "sns.scatterplot(data=df, x='y_pred', y='MinutesOfBeingAwake')"
   ]
  },
  {
   "cell_type": "code",
   "execution_count": 16,
   "metadata": {},
   "outputs": [
    {
     "data": {
      "text/plain": [
       "0     -13.169929\n",
       "1      -0.888900\n",
       "2       3.549043\n",
       "3      -4.888900\n",
       "4      -8.620726\n",
       "         ...    \n",
       "362     2.032642\n",
       "363     6.437783\n",
       "364     8.954184\n",
       "365     4.470585\n",
       "366     4.705958\n",
       "Length: 367, dtype: float64"
      ]
     },
     "execution_count": 16,
     "metadata": {},
     "output_type": "execute_result"
    }
   ],
   "source": [
    "model_fit.resid"
   ]
  },
  {
   "cell_type": "code",
   "execution_count": 17,
   "metadata": {},
   "outputs": [
    {
     "data": {
      "text/plain": [
       "<AxesSubplot:>"
      ]
     },
     "execution_count": 17,
     "metadata": {},
     "output_type": "execute_result"
    },
    {
     "data": {
      "image/png": "[encoded data removed]",
      "text/plain": [
       "<Figure size 432x288 with 1 Axes>"
      ]
     },
     "metadata": {},
     "output_type": "display_data"
    }
   ],
   "source": [
    "model_fit.resid.plot()"
   ]
  },
  {
   "cell_type": "code",
   "execution_count": 18,
   "metadata": {},
   "outputs": [
    {
     "data": {
      "text/plain": [
       "<AxesSubplot:>"
      ]
     },
     "execution_count": 18,
     "metadata": {},
     "output_type": "execute_result"
    },
    {
     "data": {
      "image/png": "[encoded data removed]",
      "text/plain": [
       "<Figure size 432x288 with 1 Axes>"
      ]
     },
     "metadata": {},
     "output_type": "display_data"
    }
   ],
   "source": [
    "model_fit.resid.hist()"
   ]
  },
  {
   "cell_type": "markdown",
   "metadata": {},
   "source": [
    "So, we have built the model and we see that the MinutesOfBeingAwake is actually dependent of NumberOfAwakings. The best fit line model is:\n",
    "y = 1.4381 + 1.6405 NumberOfAwakings"
   ]
  },
  {
   "cell_type": "markdown",
   "metadata": {},
   "source": [
    "Now lets add the distance into calculations"
   ]
  },
  {
   "cell_type": "code",
   "execution_count": 22,
   "metadata": {},
   "outputs": [
    {
     "data": {
      "text/html": [
       "<table class=\"simpletable\">\n",
       "<caption>OLS Regression Results</caption>\n",
       "<tr>\n",
       "  <th>Dep. Variable:</th>    <td>MinutesOfBeingAwake</td> <th>  R-squared:         </th> <td>   0.908</td> \n",
       "</tr>\n",
       "<tr>\n",
       "  <th>Model:</th>                    <td>OLS</td>         <th>  Adj. R-squared:    </th> <td>   0.907</td> \n",
       "</tr>\n",
       "<tr>\n",
       "  <th>Method:</th>              <td>Least Squares</td>    <th>  F-statistic:       </th> <td>   1794.</td> \n",
       "</tr>\n",
       "<tr>\n",
       "  <th>Date:</th>              <td>Mon, 28 Sep 2020</td>   <th>  Prob (F-statistic):</th> <td>3.22e-189</td>\n",
       "</tr>\n",
       "<tr>\n",
       "  <th>Time:</th>                  <td>11:27:10</td>       <th>  Log-Likelihood:    </th> <td> -1154.3</td> \n",
       "</tr>\n",
       "<tr>\n",
       "  <th>No. Observations:</th>       <td>   367</td>        <th>  AIC:               </th> <td>   2315.</td> \n",
       "</tr>\n",
       "<tr>\n",
       "  <th>Df Residuals:</th>           <td>   364</td>        <th>  BIC:               </th> <td>   2326.</td> \n",
       "</tr>\n",
       "<tr>\n",
       "  <th>Df Model:</th>               <td>     2</td>        <th>                     </th>     <td> </td>    \n",
       "</tr>\n",
       "<tr>\n",
       "  <th>Covariance Type:</th>       <td>nonrobust</td>      <th>                     </th>     <td> </td>    \n",
       "</tr>\n",
       "</table>\n",
       "<table class=\"simpletable\">\n",
       "<tr>\n",
       "          <td></td>            <th>coef</th>     <th>std err</th>      <th>t</th>      <th>P>|t|</th>  <th>[0.025</th>    <th>0.975]</th>  \n",
       "</tr>\n",
       "<tr>\n",
       "  <th>Intercept</th>        <td>   -0.5001</td> <td>    0.881</td> <td>   -0.567</td> <td> 0.571</td> <td>   -2.233</td> <td>    1.233</td>\n",
       "</tr>\n",
       "<tr>\n",
       "  <th>NumberOfAwakings</th> <td>    1.6336</td> <td>    0.028</td> <td>   59.332</td> <td> 0.000</td> <td>    1.579</td> <td>    1.688</td>\n",
       "</tr>\n",
       "<tr>\n",
       "  <th>Distance</th>         <td>    0.2398</td> <td>    0.087</td> <td>    2.761</td> <td> 0.006</td> <td>    0.069</td> <td>    0.411</td>\n",
       "</tr>\n",
       "</table>\n",
       "<table class=\"simpletable\">\n",
       "<tr>\n",
       "  <th>Omnibus:</th>       <td>17.462</td> <th>  Durbin-Watson:     </th> <td>   1.879</td>\n",
       "</tr>\n",
       "<tr>\n",
       "  <th>Prob(Omnibus):</th> <td> 0.000</td> <th>  Jarque-Bera (JB):  </th> <td>  32.472</td>\n",
       "</tr>\n",
       "<tr>\n",
       "  <th>Skew:</th>          <td> 0.270</td> <th>  Prob(JB):          </th> <td>8.89e-08</td>\n",
       "</tr>\n",
       "<tr>\n",
       "  <th>Kurtosis:</th>      <td> 4.353</td> <th>  Cond. No.          </th> <td>    62.7</td>\n",
       "</tr>\n",
       "</table><br/><br/>Notes:<br/>[1] Standard Errors assume that the covariance matrix of the errors is correctly specified."
      ],
      "text/plain": [
       "<class 'statsmodels.iolib.summary.Summary'>\n",
       "\"\"\"\n",
       "                             OLS Regression Results                            \n",
       "===============================================================================\n",
       "Dep. Variable:     MinutesOfBeingAwake   R-squared:                       0.908\n",
       "Model:                             OLS   Adj. R-squared:                  0.907\n",
       "Method:                  Least Squares   F-statistic:                     1794.\n",
       "Date:                 Mon, 28 Sep 2020   Prob (F-statistic):          3.22e-189\n",
       "Time:                         11:27:10   Log-Likelihood:                -1154.3\n",
       "No. Observations:                  367   AIC:                             2315.\n",
       "Df Residuals:                      364   BIC:                             2326.\n",
       "Df Model:                            2                                         \n",
       "Covariance Type:             nonrobust                                         \n",
       "====================================================================================\n",
       "                       coef    std err          t      P>|t|      [0.025      0.975]\n",
       "------------------------------------------------------------------------------------\n",
       "Intercept           -0.5001      0.881     -0.567      0.571      -2.233       1.233\n",
       "NumberOfAwakings     1.6336      0.028     59.332      0.000       1.579       1.688\n",
       "Distance             0.2398      0.087      2.761      0.006       0.069       0.411\n",
       "==============================================================================\n",
       "Omnibus:                       17.462   Durbin-Watson:                   1.879\n",
       "Prob(Omnibus):                  0.000   Jarque-Bera (JB):               32.472\n",
       "Skew:                           0.270   Prob(JB):                     8.89e-08\n",
       "Kurtosis:                       4.353   Cond. No.                         62.7\n",
       "==============================================================================\n",
       "\n",
       "Notes:\n",
       "[1] Standard Errors assume that the covariance matrix of the errors is correctly specified.\n",
       "\"\"\""
      ]
     },
     "execution_count": 22,
     "metadata": {},
     "output_type": "execute_result"
    }
   ],
   "source": [
    "model=ols('MinutesOfBeingAwake ~ NumberOfAwakings + Distance', data=df)\n",
    "model_fit=model.fit()\n",
    "model_fit.summary()"
   ]
  },
  {
   "cell_type": "code",
   "execution_count": 25,
   "metadata": {},
   "outputs": [],
   "source": [
    "df=df.rename({'Calorie burned':'CalorieBurned'}, axis=1)"
   ]
  },
  {
   "cell_type": "code",
   "execution_count": 27,
   "metadata": {},
   "outputs": [
    {
     "data": {
      "text/plain": [
       "Activity Calories         0.010859\n",
       "CalorieBurned             0.041999\n",
       "Floors                    0.064587\n",
       "Minutes Lightly Active    0.096107\n",
       "Minutes Fairly Active     0.104303\n",
       "Minutes Very Active       0.116559\n",
       "Steps                     0.124846\n",
       "Distance                  0.130447\n",
       "Minutes Sedentary         0.200589\n",
       "MinutesOfSleep            0.779595\n",
       "LengthOfRestInMinutes     0.820110\n",
       "NumberOfAwakings          0.951817\n",
       "y_pred                    0.951817\n",
       "MinutesOfBeingAwake       1.000000\n",
       "Name: MinutesOfBeingAwake, dtype: float64"
      ]
     },
     "execution_count": 27,
     "metadata": {},
     "output_type": "execute_result"
    }
   ],
   "source": [
    "df.corr().MinutesOfBeingAwake.sort_values()"
   ]
  },
  {
   "cell_type": "code",
   "execution_count": 28,
   "metadata": {},
   "outputs": [
    {
     "data": {
      "text/html": [
       "<table class=\"simpletable\">\n",
       "<caption>OLS Regression Results</caption>\n",
       "<tr>\n",
       "  <th>Dep. Variable:</th>    <td>MinutesOfBeingAwake</td> <th>  R-squared:         </th> <td>   0.911</td> \n",
       "</tr>\n",
       "<tr>\n",
       "  <th>Model:</th>                    <td>OLS</td>         <th>  Adj. R-squared:    </th> <td>   0.911</td> \n",
       "</tr>\n",
       "<tr>\n",
       "  <th>Method:</th>              <td>Least Squares</td>    <th>  F-statistic:       </th> <td>   1870.</td> \n",
       "</tr>\n",
       "<tr>\n",
       "  <th>Date:</th>              <td>Mon, 28 Sep 2020</td>   <th>  Prob (F-statistic):</th> <td>3.25e-192</td>\n",
       "</tr>\n",
       "<tr>\n",
       "  <th>Time:</th>                  <td>11:36:50</td>       <th>  Log-Likelihood:    </th> <td> -1147.3</td> \n",
       "</tr>\n",
       "<tr>\n",
       "  <th>No. Observations:</th>       <td>   367</td>        <th>  AIC:               </th> <td>   2301.</td> \n",
       "</tr>\n",
       "<tr>\n",
       "  <th>Df Residuals:</th>           <td>   364</td>        <th>  BIC:               </th> <td>   2312.</td> \n",
       "</tr>\n",
       "<tr>\n",
       "  <th>Df Model:</th>               <td>     2</td>        <th>                     </th>     <td> </td>    \n",
       "</tr>\n",
       "<tr>\n",
       "  <th>Covariance Type:</th>       <td>nonrobust</td>      <th>                     </th>     <td> </td>    \n",
       "</tr>\n",
       "</table>\n",
       "<table class=\"simpletable\">\n",
       "<tr>\n",
       "            <td></td>               <th>coef</th>     <th>std err</th>      <th>t</th>      <th>P>|t|</th>  <th>[0.025</th>    <th>0.975]</th>  \n",
       "</tr>\n",
       "<tr>\n",
       "  <th>Intercept</th>             <td>   -0.0950</td> <td>    0.617</td> <td>   -0.154</td> <td> 0.878</td> <td>   -1.308</td> <td>    1.118</td>\n",
       "</tr>\n",
       "<tr>\n",
       "  <th>NumberOfAwakings</th>      <td>    1.4616</td> <td>    0.047</td> <td>   31.302</td> <td> 0.000</td> <td>    1.370</td> <td>    1.553</td>\n",
       "</tr>\n",
       "<tr>\n",
       "  <th>LengthOfRestInMinutes</th> <td>    0.0138</td> <td>    0.003</td> <td>    4.688</td> <td> 0.000</td> <td>    0.008</td> <td>    0.020</td>\n",
       "</tr>\n",
       "</table>\n",
       "<table class=\"simpletable\">\n",
       "<tr>\n",
       "  <th>Omnibus:</th>       <td>17.655</td> <th>  Durbin-Watson:     </th> <td>   1.881</td>\n",
       "</tr>\n",
       "<tr>\n",
       "  <th>Prob(Omnibus):</th> <td> 0.000</td> <th>  Jarque-Bera (JB):  </th> <td>  31.592</td>\n",
       "</tr>\n",
       "<tr>\n",
       "  <th>Skew:</th>          <td> 0.290</td> <th>  Prob(JB):          </th> <td>1.38e-07</td>\n",
       "</tr>\n",
       "<tr>\n",
       "  <th>Kurtosis:</th>      <td> 4.315</td> <th>  Cond. No.          </th> <td>    777.</td>\n",
       "</tr>\n",
       "</table><br/><br/>Notes:<br/>[1] Standard Errors assume that the covariance matrix of the errors is correctly specified."
      ],
      "text/plain": [
       "<class 'statsmodels.iolib.summary.Summary'>\n",
       "\"\"\"\n",
       "                             OLS Regression Results                            \n",
       "===============================================================================\n",
       "Dep. Variable:     MinutesOfBeingAwake   R-squared:                       0.911\n",
       "Model:                             OLS   Adj. R-squared:                  0.911\n",
       "Method:                  Least Squares   F-statistic:                     1870.\n",
       "Date:                 Mon, 28 Sep 2020   Prob (F-statistic):          3.25e-192\n",
       "Time:                         11:36:50   Log-Likelihood:                -1147.3\n",
       "No. Observations:                  367   AIC:                             2301.\n",
       "Df Residuals:                      364   BIC:                             2312.\n",
       "Df Model:                            2                                         \n",
       "Covariance Type:             nonrobust                                         \n",
       "=========================================================================================\n",
       "                            coef    std err          t      P>|t|      [0.025      0.975]\n",
       "-----------------------------------------------------------------------------------------\n",
       "Intercept                -0.0950      0.617     -0.154      0.878      -1.308       1.118\n",
       "NumberOfAwakings          1.4616      0.047     31.302      0.000       1.370       1.553\n",
       "LengthOfRestInMinutes     0.0138      0.003      4.688      0.000       0.008       0.020\n",
       "==============================================================================\n",
       "Omnibus:                       17.655   Durbin-Watson:                   1.881\n",
       "Prob(Omnibus):                  0.000   Jarque-Bera (JB):               31.592\n",
       "Skew:                           0.290   Prob(JB):                     1.38e-07\n",
       "Kurtosis:                       4.315   Cond. No.                         777.\n",
       "==============================================================================\n",
       "\n",
       "Notes:\n",
       "[1] Standard Errors assume that the covariance matrix of the errors is correctly specified.\n",
       "\"\"\""
      ]
     },
     "execution_count": 28,
     "metadata": {},
     "output_type": "execute_result"
    }
   ],
   "source": [
    "model=ols('MinutesOfBeingAwake ~ NumberOfAwakings + LengthOfRestInMinutes', data=df)\n",
    "model_fit=model.fit()\n",
    "model_fit.summary()"
   ]
  },
  {
   "cell_type": "markdown",
   "metadata": {},
   "source": [
    "Based on the correlogram, we concluded that the only feature apart from NumberOfAwakings that is highly correlated with the output is LenghtOfRestInMinutes.\n",
    "\n",
    "After building the model we can see that our Intercept became insignificant, which is not the best situation, so we reject this model and come back to original one"
   ]
  },
  {
   "cell_type": "code",
   "execution_count": 29,
   "metadata": {},
   "outputs": [
    {
     "data": {
      "text/plain": [
       "CalorieBurned             0.030490\n",
       "Steps                     0.106591\n",
       "Distance                  0.091095\n",
       "Floors                    0.043459\n",
       "Minutes Sedentary         0.178387\n",
       "Minutes Lightly Active    0.087150\n",
       "Minutes Fairly Active     0.100498\n",
       "Minutes Very Active       0.099859\n",
       "Activity Calories         0.022757\n",
       "MinutesOfSleep            0.780512\n",
       "MinutesOfBeingAwake       0.951817\n",
       "NumberOfAwakings          1.000000\n",
       "LengthOfRestInMinutes     0.817326\n",
       "y_pred                    1.000000\n",
       "Name: NumberOfAwakings, dtype: float64"
      ]
     },
     "execution_count": 29,
     "metadata": {},
     "output_type": "execute_result"
    }
   ],
   "source": [
    "df.corr()['NumberOfAwakings']"
   ]
  },
  {
   "cell_type": "code",
   "execution_count": null,
   "metadata": {},
   "outputs": [],
   "source": []
  }
 ],
 "metadata": {
  "kernelspec": {
   "display_name": "Python 3",
   "language": "python",
   "name": "python3"
  },
  "language_info": {
   "codemirror_mode": {
    "name": "ipython",
    "version": 3
   },
   "file_extension": ".py",
   "mimetype": "text/x-python",
   "name": "python",
   "nbconvert_exporter": "python",
   "pygments_lexer": "ipython3",
   "version": "3.8.5"
  }
 },
 "nbformat": 4,
 "nbformat_minor": 4
}
