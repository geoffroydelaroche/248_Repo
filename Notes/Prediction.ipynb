{
 "cells": [
  {
   "cell_type": "code",
   "execution_count": 1,
   "metadata": {},
   "outputs": [],
   "source": [
    "import pandas as pd\n",
    "import numpy as np\n",
    "import matplotlib.pyplot as plt\n",
    "%matplotlib inline\n",
    "import seaborn as sns"
   ]
  },
  {
   "cell_type": "markdown",
   "metadata": {},
   "source": [
    "# Data preparation"
   ]
  },
  {
   "cell_type": "code",
   "execution_count": 2,
   "metadata": {},
   "outputs": [],
   "source": [
    "df=pd.read_csv('/Users/Jeff/Downloads/acs2015_county_data.csv')"
   ]
  },
  {
   "cell_type": "code",
   "execution_count": 3,
   "metadata": {},
   "outputs": [
    {
     "data": {
      "text/html": [
       "<div>\n",
       "<style scoped>\n",
       "    .dataframe tbody tr th:only-of-type {\n",
       "        vertical-align: middle;\n",
       "    }\n",
       "\n",
       "    .dataframe tbody tr th {\n",
       "        vertical-align: top;\n",
       "    }\n",
       "\n",
       "    .dataframe thead th {\n",
       "        text-align: right;\n",
       "    }\n",
       "</style>\n",
       "<table border=\"1\" class=\"dataframe\">\n",
       "  <thead>\n",
       "    <tr style=\"text-align: right;\">\n",
       "      <th></th>\n",
       "      <th>CensusId</th>\n",
       "      <th>State</th>\n",
       "      <th>County</th>\n",
       "      <th>TotalPop</th>\n",
       "      <th>Men</th>\n",
       "      <th>Women</th>\n",
       "      <th>Hispanic</th>\n",
       "      <th>White</th>\n",
       "      <th>Black</th>\n",
       "      <th>Native</th>\n",
       "      <th>...</th>\n",
       "      <th>Walk</th>\n",
       "      <th>OtherTransp</th>\n",
       "      <th>WorkAtHome</th>\n",
       "      <th>MeanCommute</th>\n",
       "      <th>Employed</th>\n",
       "      <th>PrivateWork</th>\n",
       "      <th>PublicWork</th>\n",
       "      <th>SelfEmployed</th>\n",
       "      <th>FamilyWork</th>\n",
       "      <th>Unemployment</th>\n",
       "    </tr>\n",
       "  </thead>\n",
       "  <tbody>\n",
       "    <tr>\n",
       "      <th>0</th>\n",
       "      <td>1001</td>\n",
       "      <td>Alabama</td>\n",
       "      <td>Autauga</td>\n",
       "      <td>55221</td>\n",
       "      <td>26745</td>\n",
       "      <td>28476</td>\n",
       "      <td>2.6</td>\n",
       "      <td>75.8</td>\n",
       "      <td>18.5</td>\n",
       "      <td>0.4</td>\n",
       "      <td>...</td>\n",
       "      <td>0.5</td>\n",
       "      <td>1.3</td>\n",
       "      <td>1.8</td>\n",
       "      <td>26.5</td>\n",
       "      <td>23986</td>\n",
       "      <td>73.6</td>\n",
       "      <td>20.9</td>\n",
       "      <td>5.5</td>\n",
       "      <td>0.0</td>\n",
       "      <td>7.6</td>\n",
       "    </tr>\n",
       "    <tr>\n",
       "      <th>1</th>\n",
       "      <td>1003</td>\n",
       "      <td>Alabama</td>\n",
       "      <td>Baldwin</td>\n",
       "      <td>195121</td>\n",
       "      <td>95314</td>\n",
       "      <td>99807</td>\n",
       "      <td>4.5</td>\n",
       "      <td>83.1</td>\n",
       "      <td>9.5</td>\n",
       "      <td>0.6</td>\n",
       "      <td>...</td>\n",
       "      <td>1.0</td>\n",
       "      <td>1.4</td>\n",
       "      <td>3.9</td>\n",
       "      <td>26.4</td>\n",
       "      <td>85953</td>\n",
       "      <td>81.5</td>\n",
       "      <td>12.3</td>\n",
       "      <td>5.8</td>\n",
       "      <td>0.4</td>\n",
       "      <td>7.5</td>\n",
       "    </tr>\n",
       "    <tr>\n",
       "      <th>2</th>\n",
       "      <td>1005</td>\n",
       "      <td>Alabama</td>\n",
       "      <td>Barbour</td>\n",
       "      <td>26932</td>\n",
       "      <td>14497</td>\n",
       "      <td>12435</td>\n",
       "      <td>4.6</td>\n",
       "      <td>46.2</td>\n",
       "      <td>46.7</td>\n",
       "      <td>0.2</td>\n",
       "      <td>...</td>\n",
       "      <td>1.8</td>\n",
       "      <td>1.5</td>\n",
       "      <td>1.6</td>\n",
       "      <td>24.1</td>\n",
       "      <td>8597</td>\n",
       "      <td>71.8</td>\n",
       "      <td>20.8</td>\n",
       "      <td>7.3</td>\n",
       "      <td>0.1</td>\n",
       "      <td>17.6</td>\n",
       "    </tr>\n",
       "    <tr>\n",
       "      <th>3</th>\n",
       "      <td>1007</td>\n",
       "      <td>Alabama</td>\n",
       "      <td>Bibb</td>\n",
       "      <td>22604</td>\n",
       "      <td>12073</td>\n",
       "      <td>10531</td>\n",
       "      <td>2.2</td>\n",
       "      <td>74.5</td>\n",
       "      <td>21.4</td>\n",
       "      <td>0.4</td>\n",
       "      <td>...</td>\n",
       "      <td>0.6</td>\n",
       "      <td>1.5</td>\n",
       "      <td>0.7</td>\n",
       "      <td>28.8</td>\n",
       "      <td>8294</td>\n",
       "      <td>76.8</td>\n",
       "      <td>16.1</td>\n",
       "      <td>6.7</td>\n",
       "      <td>0.4</td>\n",
       "      <td>8.3</td>\n",
       "    </tr>\n",
       "    <tr>\n",
       "      <th>4</th>\n",
       "      <td>1009</td>\n",
       "      <td>Alabama</td>\n",
       "      <td>Blount</td>\n",
       "      <td>57710</td>\n",
       "      <td>28512</td>\n",
       "      <td>29198</td>\n",
       "      <td>8.6</td>\n",
       "      <td>87.9</td>\n",
       "      <td>1.5</td>\n",
       "      <td>0.3</td>\n",
       "      <td>...</td>\n",
       "      <td>0.9</td>\n",
       "      <td>0.4</td>\n",
       "      <td>2.3</td>\n",
       "      <td>34.9</td>\n",
       "      <td>22189</td>\n",
       "      <td>82.0</td>\n",
       "      <td>13.5</td>\n",
       "      <td>4.2</td>\n",
       "      <td>0.4</td>\n",
       "      <td>7.7</td>\n",
       "    </tr>\n",
       "  </tbody>\n",
       "</table>\n",
       "<p>5 rows × 37 columns</p>\n",
       "</div>"
      ],
      "text/plain": [
       "   CensusId    State   County  TotalPop    Men  Women  Hispanic  White  Black  \\\n",
       "0      1001  Alabama  Autauga     55221  26745  28476       2.6   75.8   18.5   \n",
       "1      1003  Alabama  Baldwin    195121  95314  99807       4.5   83.1    9.5   \n",
       "2      1005  Alabama  Barbour     26932  14497  12435       4.6   46.2   46.7   \n",
       "3      1007  Alabama     Bibb     22604  12073  10531       2.2   74.5   21.4   \n",
       "4      1009  Alabama   Blount     57710  28512  29198       8.6   87.9    1.5   \n",
       "\n",
       "   Native  ...  Walk  OtherTransp  WorkAtHome  MeanCommute  Employed  \\\n",
       "0     0.4  ...   0.5          1.3         1.8         26.5     23986   \n",
       "1     0.6  ...   1.0          1.4         3.9         26.4     85953   \n",
       "2     0.2  ...   1.8          1.5         1.6         24.1      8597   \n",
       "3     0.4  ...   0.6          1.5         0.7         28.8      8294   \n",
       "4     0.3  ...   0.9          0.4         2.3         34.9     22189   \n",
       "\n",
       "   PrivateWork  PublicWork  SelfEmployed  FamilyWork  Unemployment  \n",
       "0         73.6        20.9           5.5         0.0           7.6  \n",
       "1         81.5        12.3           5.8         0.4           7.5  \n",
       "2         71.8        20.8           7.3         0.1          17.6  \n",
       "3         76.8        16.1           6.7         0.4           8.3  \n",
       "4         82.0        13.5           4.2         0.4           7.7  \n",
       "\n",
       "[5 rows x 37 columns]"
      ]
     },
     "execution_count": 3,
     "metadata": {},
     "output_type": "execute_result"
    }
   ],
   "source": [
    "df.head()"
   ]
  },
  {
   "cell_type": "code",
   "execution_count": 4,
   "metadata": {},
   "outputs": [
    {
     "data": {
      "text/plain": [
       "Index(['CensusId', 'State', 'County', 'TotalPop', 'Men', 'Women', 'Hispanic',\n",
       "       'White', 'Black', 'Native', 'Asian', 'Pacific', 'Citizen', 'Income',\n",
       "       'IncomeErr', 'IncomePerCap', 'IncomePerCapErr', 'Poverty',\n",
       "       'ChildPoverty', 'Professional', 'Service', 'Office', 'Construction',\n",
       "       'Production', 'Drive', 'Carpool', 'Transit', 'Walk', 'OtherTransp',\n",
       "       'WorkAtHome', 'MeanCommute', 'Employed', 'PrivateWork', 'PublicWork',\n",
       "       'SelfEmployed', 'FamilyWork', 'Unemployment'],\n",
       "      dtype='object')"
      ]
     },
     "execution_count": 4,
     "metadata": {},
     "output_type": "execute_result"
    }
   ],
   "source": [
    "df.columns"
   ]
  },
  {
   "cell_type": "markdown",
   "metadata": {},
   "source": [
    "1. We will predict Unemployment\n",
    "2. CensudId, State, County will be dropped since they don't bring any useful information\n",
    "3. TotalPopulation is kept we normalize the gender"
   ]
  },
  {
   "cell_type": "code",
   "execution_count": 5,
   "metadata": {},
   "outputs": [],
   "source": [
    "df.drop(['CensusId','State','County'], axis=1, inplace=True)"
   ]
  },
  {
   "cell_type": "code",
   "execution_count": 6,
   "metadata": {},
   "outputs": [],
   "source": [
    "df.drop('Men', axis=1, inplace=True)"
   ]
  },
  {
   "cell_type": "code",
   "execution_count": 7,
   "metadata": {},
   "outputs": [],
   "source": [
    "df.Women=df.Women/df.TotalPop"
   ]
  },
  {
   "cell_type": "code",
   "execution_count": 8,
   "metadata": {},
   "outputs": [],
   "source": [
    "df.Citizen=df.Citizen/df.TotalPop"
   ]
  },
  {
   "cell_type": "code",
   "execution_count": 9,
   "metadata": {},
   "outputs": [],
   "source": [
    "df.Employed=df.Employed/df.TotalPop"
   ]
  },
  {
   "cell_type": "code",
   "execution_count": 10,
   "metadata": {},
   "outputs": [
    {
     "data": {
      "text/plain": [
       "TotalPop           0\n",
       "Women              0\n",
       "Hispanic           0\n",
       "White              0\n",
       "Black              0\n",
       "Native             0\n",
       "Asian              0\n",
       "Pacific            0\n",
       "Citizen            0\n",
       "Income             1\n",
       "IncomeErr          1\n",
       "IncomePerCap       0\n",
       "IncomePerCapErr    0\n",
       "Poverty            0\n",
       "ChildPoverty       1\n",
       "Professional       0\n",
       "Service            0\n",
       "Office             0\n",
       "Construction       0\n",
       "Production         0\n",
       "Drive              0\n",
       "Carpool            0\n",
       "Transit            0\n",
       "Walk               0\n",
       "OtherTransp        0\n",
       "WorkAtHome         0\n",
       "MeanCommute        0\n",
       "Employed           0\n",
       "PrivateWork        0\n",
       "PublicWork         0\n",
       "SelfEmployed       0\n",
       "FamilyWork         0\n",
       "Unemployment       0\n",
       "dtype: int64"
      ]
     },
     "execution_count": 10,
     "metadata": {},
     "output_type": "execute_result"
    }
   ],
   "source": [
    "df.isna().sum()"
   ]
  },
  {
   "cell_type": "code",
   "execution_count": 11,
   "metadata": {},
   "outputs": [
    {
     "data": {
      "text/plain": [
       "(3220, 33)"
      ]
     },
     "execution_count": 11,
     "metadata": {},
     "output_type": "execute_result"
    }
   ],
   "source": [
    "df.shape"
   ]
  },
  {
   "cell_type": "code",
   "execution_count": 12,
   "metadata": {},
   "outputs": [],
   "source": [
    "df.dropna(inplace=True)"
   ]
  },
  {
   "cell_type": "code",
   "execution_count": 13,
   "metadata": {},
   "outputs": [
    {
     "data": {
      "text/plain": [
       "TotalPop           0\n",
       "Women              0\n",
       "Hispanic           0\n",
       "White              0\n",
       "Black              0\n",
       "Native             0\n",
       "Asian              0\n",
       "Pacific            0\n",
       "Citizen            0\n",
       "Income             0\n",
       "IncomeErr          0\n",
       "IncomePerCap       0\n",
       "IncomePerCapErr    0\n",
       "Poverty            0\n",
       "ChildPoverty       0\n",
       "Professional       0\n",
       "Service            0\n",
       "Office             0\n",
       "Construction       0\n",
       "Production         0\n",
       "Drive              0\n",
       "Carpool            0\n",
       "Transit            0\n",
       "Walk               0\n",
       "OtherTransp        0\n",
       "WorkAtHome         0\n",
       "MeanCommute        0\n",
       "Employed           0\n",
       "PrivateWork        0\n",
       "PublicWork         0\n",
       "SelfEmployed       0\n",
       "FamilyWork         0\n",
       "Unemployment       0\n",
       "dtype: int64"
      ]
     },
     "execution_count": 13,
     "metadata": {},
     "output_type": "execute_result"
    }
   ],
   "source": [
    "df.isna().sum()"
   ]
  },
  {
   "cell_type": "code",
   "execution_count": 14,
   "metadata": {},
   "outputs": [
    {
     "data": {
      "text/html": [
       "<div>\n",
       "<style scoped>\n",
       "    .dataframe tbody tr th:only-of-type {\n",
       "        vertical-align: middle;\n",
       "    }\n",
       "\n",
       "    .dataframe tbody tr th {\n",
       "        vertical-align: top;\n",
       "    }\n",
       "\n",
       "    .dataframe thead th {\n",
       "        text-align: right;\n",
       "    }\n",
       "</style>\n",
       "<table border=\"1\" class=\"dataframe\">\n",
       "  <thead>\n",
       "    <tr style=\"text-align: right;\">\n",
       "      <th></th>\n",
       "      <th>count</th>\n",
       "      <th>mean</th>\n",
       "      <th>std</th>\n",
       "      <th>min</th>\n",
       "      <th>25%</th>\n",
       "      <th>50%</th>\n",
       "      <th>75%</th>\n",
       "      <th>max</th>\n",
       "    </tr>\n",
       "  </thead>\n",
       "  <tbody>\n",
       "    <tr>\n",
       "      <th>TotalPop</th>\n",
       "      <td>3218.0</td>\n",
       "      <td>99471.0</td>\n",
       "      <td>319395.0</td>\n",
       "      <td>267.0</td>\n",
       "      <td>11225.0</td>\n",
       "      <td>26080.0</td>\n",
       "      <td>66458.0</td>\n",
       "      <td>10038388.0</td>\n",
       "    </tr>\n",
       "    <tr>\n",
       "      <th>Women</th>\n",
       "      <td>3218.0</td>\n",
       "      <td>0.0</td>\n",
       "      <td>0.0</td>\n",
       "      <td>0.0</td>\n",
       "      <td>0.0</td>\n",
       "      <td>1.0</td>\n",
       "      <td>1.0</td>\n",
       "      <td>1.0</td>\n",
       "    </tr>\n",
       "    <tr>\n",
       "      <th>Hispanic</th>\n",
       "      <td>3218.0</td>\n",
       "      <td>11.0</td>\n",
       "      <td>19.0</td>\n",
       "      <td>0.0</td>\n",
       "      <td>2.0</td>\n",
       "      <td>4.0</td>\n",
       "      <td>10.0</td>\n",
       "      <td>100.0</td>\n",
       "    </tr>\n",
       "    <tr>\n",
       "      <th>White</th>\n",
       "      <td>3218.0</td>\n",
       "      <td>75.0</td>\n",
       "      <td>23.0</td>\n",
       "      <td>0.0</td>\n",
       "      <td>64.0</td>\n",
       "      <td>84.0</td>\n",
       "      <td>93.0</td>\n",
       "      <td>100.0</td>\n",
       "    </tr>\n",
       "    <tr>\n",
       "      <th>Black</th>\n",
       "      <td>3218.0</td>\n",
       "      <td>9.0</td>\n",
       "      <td>14.0</td>\n",
       "      <td>0.0</td>\n",
       "      <td>0.0</td>\n",
       "      <td>2.0</td>\n",
       "      <td>10.0</td>\n",
       "      <td>86.0</td>\n",
       "    </tr>\n",
       "    <tr>\n",
       "      <th>Native</th>\n",
       "      <td>3218.0</td>\n",
       "      <td>2.0</td>\n",
       "      <td>7.0</td>\n",
       "      <td>0.0</td>\n",
       "      <td>0.0</td>\n",
       "      <td>0.0</td>\n",
       "      <td>1.0</td>\n",
       "      <td>92.0</td>\n",
       "    </tr>\n",
       "    <tr>\n",
       "      <th>Asian</th>\n",
       "      <td>3218.0</td>\n",
       "      <td>1.0</td>\n",
       "      <td>3.0</td>\n",
       "      <td>0.0</td>\n",
       "      <td>0.0</td>\n",
       "      <td>0.0</td>\n",
       "      <td>1.0</td>\n",
       "      <td>42.0</td>\n",
       "    </tr>\n",
       "    <tr>\n",
       "      <th>Pacific</th>\n",
       "      <td>3218.0</td>\n",
       "      <td>0.0</td>\n",
       "      <td>0.0</td>\n",
       "      <td>0.0</td>\n",
       "      <td>0.0</td>\n",
       "      <td>0.0</td>\n",
       "      <td>0.0</td>\n",
       "      <td>11.0</td>\n",
       "    </tr>\n",
       "    <tr>\n",
       "      <th>Citizen</th>\n",
       "      <td>3218.0</td>\n",
       "      <td>1.0</td>\n",
       "      <td>0.0</td>\n",
       "      <td>0.0</td>\n",
       "      <td>1.0</td>\n",
       "      <td>1.0</td>\n",
       "      <td>1.0</td>\n",
       "      <td>1.0</td>\n",
       "    </tr>\n",
       "    <tr>\n",
       "      <th>Income</th>\n",
       "      <td>3218.0</td>\n",
       "      <td>46124.0</td>\n",
       "      <td>12908.0</td>\n",
       "      <td>10499.0</td>\n",
       "      <td>38191.0</td>\n",
       "      <td>44748.0</td>\n",
       "      <td>52059.0</td>\n",
       "      <td>123453.0</td>\n",
       "    </tr>\n",
       "    <tr>\n",
       "      <th>IncomeErr</th>\n",
       "      <td>3218.0</td>\n",
       "      <td>2848.0</td>\n",
       "      <td>1915.0</td>\n",
       "      <td>270.0</td>\n",
       "      <td>1635.0</td>\n",
       "      <td>2406.0</td>\n",
       "      <td>3444.0</td>\n",
       "      <td>21355.0</td>\n",
       "    </tr>\n",
       "    <tr>\n",
       "      <th>IncomePerCap</th>\n",
       "      <td>3218.0</td>\n",
       "      <td>23974.0</td>\n",
       "      <td>6193.0</td>\n",
       "      <td>5878.0</td>\n",
       "      <td>20236.0</td>\n",
       "      <td>23458.0</td>\n",
       "      <td>27051.0</td>\n",
       "      <td>65600.0</td>\n",
       "    </tr>\n",
       "    <tr>\n",
       "      <th>IncomePerCapErr</th>\n",
       "      <td>3218.0</td>\n",
       "      <td>1359.0</td>\n",
       "      <td>1039.0</td>\n",
       "      <td>113.0</td>\n",
       "      <td>755.0</td>\n",
       "      <td>1096.0</td>\n",
       "      <td>1631.0</td>\n",
       "      <td>15266.0</td>\n",
       "    </tr>\n",
       "    <tr>\n",
       "      <th>Poverty</th>\n",
       "      <td>3218.0</td>\n",
       "      <td>17.0</td>\n",
       "      <td>8.0</td>\n",
       "      <td>1.0</td>\n",
       "      <td>12.0</td>\n",
       "      <td>16.0</td>\n",
       "      <td>21.0</td>\n",
       "      <td>64.0</td>\n",
       "    </tr>\n",
       "    <tr>\n",
       "      <th>ChildPoverty</th>\n",
       "      <td>3218.0</td>\n",
       "      <td>24.0</td>\n",
       "      <td>12.0</td>\n",
       "      <td>0.0</td>\n",
       "      <td>16.0</td>\n",
       "      <td>23.0</td>\n",
       "      <td>30.0</td>\n",
       "      <td>82.0</td>\n",
       "    </tr>\n",
       "    <tr>\n",
       "      <th>Professional</th>\n",
       "      <td>3218.0</td>\n",
       "      <td>31.0</td>\n",
       "      <td>6.0</td>\n",
       "      <td>14.0</td>\n",
       "      <td>27.0</td>\n",
       "      <td>30.0</td>\n",
       "      <td>34.0</td>\n",
       "      <td>74.0</td>\n",
       "    </tr>\n",
       "    <tr>\n",
       "      <th>Service</th>\n",
       "      <td>3218.0</td>\n",
       "      <td>18.0</td>\n",
       "      <td>4.0</td>\n",
       "      <td>5.0</td>\n",
       "      <td>16.0</td>\n",
       "      <td>18.0</td>\n",
       "      <td>20.0</td>\n",
       "      <td>38.0</td>\n",
       "    </tr>\n",
       "    <tr>\n",
       "      <th>Office</th>\n",
       "      <td>3218.0</td>\n",
       "      <td>22.0</td>\n",
       "      <td>3.0</td>\n",
       "      <td>4.0</td>\n",
       "      <td>20.0</td>\n",
       "      <td>22.0</td>\n",
       "      <td>24.0</td>\n",
       "      <td>35.0</td>\n",
       "    </tr>\n",
       "    <tr>\n",
       "      <th>Construction</th>\n",
       "      <td>3218.0</td>\n",
       "      <td>13.0</td>\n",
       "      <td>4.0</td>\n",
       "      <td>2.0</td>\n",
       "      <td>10.0</td>\n",
       "      <td>12.0</td>\n",
       "      <td>15.0</td>\n",
       "      <td>40.0</td>\n",
       "    </tr>\n",
       "    <tr>\n",
       "      <th>Production</th>\n",
       "      <td>3218.0</td>\n",
       "      <td>16.0</td>\n",
       "      <td>6.0</td>\n",
       "      <td>0.0</td>\n",
       "      <td>12.0</td>\n",
       "      <td>15.0</td>\n",
       "      <td>19.0</td>\n",
       "      <td>56.0</td>\n",
       "    </tr>\n",
       "    <tr>\n",
       "      <th>Drive</th>\n",
       "      <td>3218.0</td>\n",
       "      <td>79.0</td>\n",
       "      <td>8.0</td>\n",
       "      <td>5.0</td>\n",
       "      <td>77.0</td>\n",
       "      <td>81.0</td>\n",
       "      <td>84.0</td>\n",
       "      <td>95.0</td>\n",
       "    </tr>\n",
       "    <tr>\n",
       "      <th>Carpool</th>\n",
       "      <td>3218.0</td>\n",
       "      <td>10.0</td>\n",
       "      <td>3.0</td>\n",
       "      <td>0.0</td>\n",
       "      <td>8.0</td>\n",
       "      <td>10.0</td>\n",
       "      <td>12.0</td>\n",
       "      <td>30.0</td>\n",
       "    </tr>\n",
       "    <tr>\n",
       "      <th>Transit</th>\n",
       "      <td>3218.0</td>\n",
       "      <td>1.0</td>\n",
       "      <td>3.0</td>\n",
       "      <td>0.0</td>\n",
       "      <td>0.0</td>\n",
       "      <td>0.0</td>\n",
       "      <td>1.0</td>\n",
       "      <td>62.0</td>\n",
       "    </tr>\n",
       "    <tr>\n",
       "      <th>Walk</th>\n",
       "      <td>3218.0</td>\n",
       "      <td>3.0</td>\n",
       "      <td>4.0</td>\n",
       "      <td>0.0</td>\n",
       "      <td>1.0</td>\n",
       "      <td>2.0</td>\n",
       "      <td>4.0</td>\n",
       "      <td>71.0</td>\n",
       "    </tr>\n",
       "    <tr>\n",
       "      <th>OtherTransp</th>\n",
       "      <td>3218.0</td>\n",
       "      <td>2.0</td>\n",
       "      <td>2.0</td>\n",
       "      <td>0.0</td>\n",
       "      <td>1.0</td>\n",
       "      <td>1.0</td>\n",
       "      <td>2.0</td>\n",
       "      <td>39.0</td>\n",
       "    </tr>\n",
       "    <tr>\n",
       "      <th>WorkAtHome</th>\n",
       "      <td>3218.0</td>\n",
       "      <td>5.0</td>\n",
       "      <td>3.0</td>\n",
       "      <td>0.0</td>\n",
       "      <td>3.0</td>\n",
       "      <td>4.0</td>\n",
       "      <td>6.0</td>\n",
       "      <td>37.0</td>\n",
       "    </tr>\n",
       "    <tr>\n",
       "      <th>MeanCommute</th>\n",
       "      <td>3218.0</td>\n",
       "      <td>23.0</td>\n",
       "      <td>6.0</td>\n",
       "      <td>5.0</td>\n",
       "      <td>20.0</td>\n",
       "      <td>23.0</td>\n",
       "      <td>27.0</td>\n",
       "      <td>44.0</td>\n",
       "    </tr>\n",
       "    <tr>\n",
       "      <th>Employed</th>\n",
       "      <td>3218.0</td>\n",
       "      <td>0.0</td>\n",
       "      <td>0.0</td>\n",
       "      <td>0.0</td>\n",
       "      <td>0.0</td>\n",
       "      <td>0.0</td>\n",
       "      <td>0.0</td>\n",
       "      <td>1.0</td>\n",
       "    </tr>\n",
       "    <tr>\n",
       "      <th>PrivateWork</th>\n",
       "      <td>3218.0</td>\n",
       "      <td>74.0</td>\n",
       "      <td>8.0</td>\n",
       "      <td>30.0</td>\n",
       "      <td>70.0</td>\n",
       "      <td>76.0</td>\n",
       "      <td>80.0</td>\n",
       "      <td>88.0</td>\n",
       "    </tr>\n",
       "    <tr>\n",
       "      <th>PublicWork</th>\n",
       "      <td>3218.0</td>\n",
       "      <td>18.0</td>\n",
       "      <td>6.0</td>\n",
       "      <td>6.0</td>\n",
       "      <td>13.0</td>\n",
       "      <td>16.0</td>\n",
       "      <td>20.0</td>\n",
       "      <td>66.0</td>\n",
       "    </tr>\n",
       "    <tr>\n",
       "      <th>SelfEmployed</th>\n",
       "      <td>3218.0</td>\n",
       "      <td>8.0</td>\n",
       "      <td>4.0</td>\n",
       "      <td>0.0</td>\n",
       "      <td>5.0</td>\n",
       "      <td>7.0</td>\n",
       "      <td>9.0</td>\n",
       "      <td>37.0</td>\n",
       "    </tr>\n",
       "    <tr>\n",
       "      <th>FamilyWork</th>\n",
       "      <td>3218.0</td>\n",
       "      <td>0.0</td>\n",
       "      <td>0.0</td>\n",
       "      <td>0.0</td>\n",
       "      <td>0.0</td>\n",
       "      <td>0.0</td>\n",
       "      <td>0.0</td>\n",
       "      <td>10.0</td>\n",
       "    </tr>\n",
       "    <tr>\n",
       "      <th>Unemployment</th>\n",
       "      <td>3218.0</td>\n",
       "      <td>8.0</td>\n",
       "      <td>4.0</td>\n",
       "      <td>0.0</td>\n",
       "      <td>6.0</td>\n",
       "      <td>8.0</td>\n",
       "      <td>10.0</td>\n",
       "      <td>36.0</td>\n",
       "    </tr>\n",
       "  </tbody>\n",
       "</table>\n",
       "</div>"
      ],
      "text/plain": [
       "                  count     mean       std      min      25%      50%  \\\n",
       "TotalPop         3218.0  99471.0  319395.0    267.0  11225.0  26080.0   \n",
       "Women            3218.0      0.0       0.0      0.0      0.0      1.0   \n",
       "Hispanic         3218.0     11.0      19.0      0.0      2.0      4.0   \n",
       "White            3218.0     75.0      23.0      0.0     64.0     84.0   \n",
       "Black            3218.0      9.0      14.0      0.0      0.0      2.0   \n",
       "Native           3218.0      2.0       7.0      0.0      0.0      0.0   \n",
       "Asian            3218.0      1.0       3.0      0.0      0.0      0.0   \n",
       "Pacific          3218.0      0.0       0.0      0.0      0.0      0.0   \n",
       "Citizen          3218.0      1.0       0.0      0.0      1.0      1.0   \n",
       "Income           3218.0  46124.0   12908.0  10499.0  38191.0  44748.0   \n",
       "IncomeErr        3218.0   2848.0    1915.0    270.0   1635.0   2406.0   \n",
       "IncomePerCap     3218.0  23974.0    6193.0   5878.0  20236.0  23458.0   \n",
       "IncomePerCapErr  3218.0   1359.0    1039.0    113.0    755.0   1096.0   \n",
       "Poverty          3218.0     17.0       8.0      1.0     12.0     16.0   \n",
       "ChildPoverty     3218.0     24.0      12.0      0.0     16.0     23.0   \n",
       "Professional     3218.0     31.0       6.0     14.0     27.0     30.0   \n",
       "Service          3218.0     18.0       4.0      5.0     16.0     18.0   \n",
       "Office           3218.0     22.0       3.0      4.0     20.0     22.0   \n",
       "Construction     3218.0     13.0       4.0      2.0     10.0     12.0   \n",
       "Production       3218.0     16.0       6.0      0.0     12.0     15.0   \n",
       "Drive            3218.0     79.0       8.0      5.0     77.0     81.0   \n",
       "Carpool          3218.0     10.0       3.0      0.0      8.0     10.0   \n",
       "Transit          3218.0      1.0       3.0      0.0      0.0      0.0   \n",
       "Walk             3218.0      3.0       4.0      0.0      1.0      2.0   \n",
       "OtherTransp      3218.0      2.0       2.0      0.0      1.0      1.0   \n",
       "WorkAtHome       3218.0      5.0       3.0      0.0      3.0      4.0   \n",
       "MeanCommute      3218.0     23.0       6.0      5.0     20.0     23.0   \n",
       "Employed         3218.0      0.0       0.0      0.0      0.0      0.0   \n",
       "PrivateWork      3218.0     74.0       8.0     30.0     70.0     76.0   \n",
       "PublicWork       3218.0     18.0       6.0      6.0     13.0     16.0   \n",
       "SelfEmployed     3218.0      8.0       4.0      0.0      5.0      7.0   \n",
       "FamilyWork       3218.0      0.0       0.0      0.0      0.0      0.0   \n",
       "Unemployment     3218.0      8.0       4.0      0.0      6.0      8.0   \n",
       "\n",
       "                     75%         max  \n",
       "TotalPop         66458.0  10038388.0  \n",
       "Women                1.0         1.0  \n",
       "Hispanic            10.0       100.0  \n",
       "White               93.0       100.0  \n",
       "Black               10.0        86.0  \n",
       "Native               1.0        92.0  \n",
       "Asian                1.0        42.0  \n",
       "Pacific              0.0        11.0  \n",
       "Citizen              1.0         1.0  \n",
       "Income           52059.0    123453.0  \n",
       "IncomeErr         3444.0     21355.0  \n",
       "IncomePerCap     27051.0     65600.0  \n",
       "IncomePerCapErr   1631.0     15266.0  \n",
       "Poverty             21.0        64.0  \n",
       "ChildPoverty        30.0        82.0  \n",
       "Professional        34.0        74.0  \n",
       "Service             20.0        38.0  \n",
       "Office              24.0        35.0  \n",
       "Construction        15.0        40.0  \n",
       "Production          19.0        56.0  \n",
       "Drive               84.0        95.0  \n",
       "Carpool             12.0        30.0  \n",
       "Transit              1.0        62.0  \n",
       "Walk                 4.0        71.0  \n",
       "OtherTransp          2.0        39.0  \n",
       "WorkAtHome           6.0        37.0  \n",
       "MeanCommute         27.0        44.0  \n",
       "Employed             0.0         1.0  \n",
       "PrivateWork         80.0        88.0  \n",
       "PublicWork          20.0        66.0  \n",
       "SelfEmployed         9.0        37.0  \n",
       "FamilyWork           0.0        10.0  \n",
       "Unemployment        10.0        36.0  "
      ]
     },
     "execution_count": 14,
     "metadata": {},
     "output_type": "execute_result"
    }
   ],
   "source": [
    "df.describe().T.round()"
   ]
  },
  {
   "cell_type": "code",
   "execution_count": 15,
   "metadata": {},
   "outputs": [
    {
     "data": {
      "text/plain": [
       "Employed          -0.698771\n",
       "IncomePerCap      -0.547239\n",
       "White             -0.540146\n",
       "Income            -0.509054\n",
       "WorkAtHome        -0.309747\n",
       "Professional      -0.300318\n",
       "SelfEmployed      -0.293592\n",
       "IncomePerCapErr   -0.251561\n",
       "IncomeErr         -0.226349\n",
       "FamilyWork        -0.123187\n",
       "PrivateWork       -0.104118\n",
       "Construction      -0.091779\n",
       "Walk              -0.080272\n",
       "Asian             -0.055315\n",
       "Pacific           -0.015888\n",
       "Citizen            0.005613\n",
       "TotalPop           0.030313\n",
       "Transit            0.030784\n",
       "Production         0.079907\n",
       "Carpool            0.088236\n",
       "Drive              0.096529\n",
       "Women              0.105154\n",
       "OtherTransp        0.117109\n",
       "Office             0.161331\n",
       "Native             0.187386\n",
       "MeanCommute        0.292585\n",
       "PublicWork         0.312533\n",
       "Hispanic           0.321536\n",
       "Black              0.352943\n",
       "Service            0.365371\n",
       "ChildPoverty       0.678441\n",
       "Poverty            0.712419\n",
       "Unemployment       1.000000\n",
       "Name: Unemployment, dtype: float64"
      ]
     },
     "execution_count": 15,
     "metadata": {},
     "output_type": "execute_result"
    }
   ],
   "source": [
    "df.corr().Unemployment.sort_values()"
   ]
  },
  {
   "cell_type": "code",
   "execution_count": 16,
   "metadata": {},
   "outputs": [
    {
     "data": {
      "text/plain": [
       "<AxesSubplot:>"
      ]
     },
     "execution_count": 16,
     "metadata": {},
     "output_type": "execute_result"
    },
    {
     "data": {
      "image/png": "[encoded data removed]",
      "text/plain": [
       "<Figure size 432x288 with 1 Axes>"
      ]
     },
     "metadata": {
      "needs_background": "light"
     },
     "output_type": "display_data"
    }
   ],
   "source": [
    "df.TotalPop.hist(bins=100)"
   ]
  },
  {
   "cell_type": "code",
   "execution_count": 17,
   "metadata": {},
   "outputs": [
    {
     "data": {
      "text/plain": [
       "<AxesSubplot:>"
      ]
     },
     "execution_count": 17,
     "metadata": {},
     "output_type": "execute_result"
    },
    {
     "data": {
      "image/png": "[encoded data removed]",
      "text/plain": [
       "<Figure size 432x288 with 1 Axes>"
      ]
     },
     "metadata": {
      "needs_background": "light"
     },
     "output_type": "display_data"
    }
   ],
   "source": [
    "df.TotalPop.apply(np.log).hist(bins=50)"
   ]
  },
  {
   "cell_type": "code",
   "execution_count": 18,
   "metadata": {},
   "outputs": [],
   "source": [
    "df.TotalPop=df.TotalPop.apply(np.log)"
   ]
  },
  {
   "cell_type": "code",
   "execution_count": 19,
   "metadata": {},
   "outputs": [
    {
     "data": {
      "text/plain": [
       "<AxesSubplot:>"
      ]
     },
     "execution_count": 19,
     "metadata": {},
     "output_type": "execute_result"
    },
    {
     "data": {
      "image/png": "[encoded data removed]",
      "text/plain": [
       "<Figure size 432x288 with 1 Axes>"
      ]
     },
     "metadata": {
      "needs_background": "light"
     },
     "output_type": "display_data"
    }
   ],
   "source": [
    "df.Unemployment.hist(bins=100)"
   ]
  },
  {
   "cell_type": "code",
   "execution_count": 20,
   "metadata": {},
   "outputs": [
    {
     "data": {
      "text/plain": [
       "<AxesSubplot:>"
      ]
     },
     "execution_count": 20,
     "metadata": {},
     "output_type": "execute_result"
    },
    {
     "data": {
      "image/png": "[encoded data removed]",
      "text/plain": [
       "<Figure size 432x288 with 1 Axes>"
      ]
     },
     "metadata": {
      "needs_background": "light"
     },
     "output_type": "display_data"
    }
   ],
   "source": [
    "df.Income.hist(bins=100)"
   ]
  },
  {
   "cell_type": "code",
   "execution_count": 21,
   "metadata": {},
   "outputs": [
    {
     "data": {
      "text/plain": [
       "<AxesSubplot:>"
      ]
     },
     "execution_count": 21,
     "metadata": {},
     "output_type": "execute_result"
    },
    {
     "data": {
      "image/png": "[encoded data removed]",
      "text/plain": [
       "<Figure size 432x288 with 1 Axes>"
      ]
     },
     "metadata": {
      "needs_background": "light"
     },
     "output_type": "display_data"
    }
   ],
   "source": [
    "((df.Income-df.Income.mean())/df.Income.std()).hist(bins=100)"
   ]
  },
  {
   "cell_type": "code",
   "execution_count": 22,
   "metadata": {},
   "outputs": [],
   "source": [
    "from sklearn.preprocessing import StandardScaler"
   ]
  },
  {
   "cell_type": "code",
   "execution_count": 23,
   "metadata": {},
   "outputs": [],
   "source": [
    "scaler=StandardScaler()"
   ]
  },
  {
   "cell_type": "code",
   "execution_count": 24,
   "metadata": {},
   "outputs": [
    {
     "data": {
      "text/plain": [
       "StandardScaler()"
      ]
     },
     "execution_count": 24,
     "metadata": {},
     "output_type": "execute_result"
    }
   ],
   "source": [
    "scaler.fit(df[['Income']])"
   ]
  },
  {
   "cell_type": "code",
   "execution_count": 25,
   "metadata": {},
   "outputs": [
    {
     "data": {
      "text/plain": [
       "array([[ 0.39959818],\n",
       "       [ 0.3200254 ],\n",
       "       [-1.01961757],\n",
       "       ...,\n",
       "       [-2.19314171],\n",
       "       [-2.36290214],\n",
       "       [-2.43410699]])"
      ]
     },
     "execution_count": 25,
     "metadata": {},
     "output_type": "execute_result"
    }
   ],
   "source": [
    "scaler.transform(df[['Income']])"
   ]
  },
  {
   "cell_type": "code",
   "execution_count": 26,
   "metadata": {},
   "outputs": [
    {
     "data": {
      "text/plain": [
       "(array([  1.,   3.,   4.,  11.,  14.,   8.,  11.,  11.,   6.,   9.,   4.,\n",
       "         11.,   8.,  10.,  17.,  18.,  28.,  49.,  63.,  83.,  70.,  86.,\n",
       "        109., 105., 118., 128., 137., 159., 141., 146., 135., 121., 119.,\n",
       "        132., 111., 143., 109.,  82.,  84.,  66.,  66.,  54.,  43.,  30.,\n",
       "         41.,  35.,  18.,  21.,  19.,  26.,  14.,  11.,  10.,  25.,  13.,\n",
       "         14.,   6.,   8.,   8.,   7.,   6.,   8.,   4.,   4.,   3.,   8.,\n",
       "          8.,   4.,   4.,   4.,   2.,   2.,   1.,   2.,   0.,   3.,   2.,\n",
       "          0.,   3.,   2.,   1.,   1.,   0.,   1.,   2.,   0.,   0.,   0.,\n",
       "          1.,   0.,   1.,   0.,   0.,   0.,   0.,   0.,   0.,   1.,   0.,\n",
       "          1.]),\n",
       " array([-2.76022366, -2.672706  , -2.58518834, -2.49767069, -2.41015303,\n",
       "        -2.32263537, -2.23511771, -2.14760005, -2.06008239, -1.97256473,\n",
       "        -1.88504707, -1.79752942, -1.71001176, -1.6224941 , -1.53497644,\n",
       "        -1.44745878, -1.35994112, -1.27242346, -1.1849058 , -1.09738814,\n",
       "        -1.00987049, -0.92235283, -0.83483517, -0.74731751, -0.65979985,\n",
       "        -0.57228219, -0.48476453, -0.39724687, -0.30972922, -0.22221156,\n",
       "        -0.1346939 , -0.04717624,  0.04034142,  0.12785908,  0.21537674,\n",
       "         0.3028944 ,  0.39041206,  0.47792971,  0.56544737,  0.65296503,\n",
       "         0.74048269,  0.82800035,  0.91551801,  1.00303567,  1.09055333,\n",
       "         1.17807098,  1.26558864,  1.3531063 ,  1.44062396,  1.52814162,\n",
       "         1.61565928,  1.70317694,  1.7906946 ,  1.87821226,  1.96572991,\n",
       "         2.05324757,  2.14076523,  2.22828289,  2.31580055,  2.40331821,\n",
       "         2.49083587,  2.57835353,  2.66587118,  2.75338884,  2.8409065 ,\n",
       "         2.92842416,  3.01594182,  3.10345948,  3.19097714,  3.2784948 ,\n",
       "         3.36601246,  3.45353011,  3.54104777,  3.62856543,  3.71608309,\n",
       "         3.80360075,  3.89111841,  3.97863607,  4.06615373,  4.15367138,\n",
       "         4.24118904,  4.3287067 ,  4.41622436,  4.50374202,  4.59125968,\n",
       "         4.67877734,  4.766295  ,  4.85381266,  4.94133031,  5.02884797,\n",
       "         5.11636563,  5.20388329,  5.29140095,  5.37891861,  5.46643627,\n",
       "         5.55395393,  5.64147158,  5.72898924,  5.8165069 ,  5.90402456,\n",
       "         5.99154222]),\n",
       " <BarContainer object of 100 artists>)"
      ]
     },
     "execution_count": 26,
     "metadata": {},
     "output_type": "execute_result"
    },
    {
     "data": {
      "image/png": "[encoded data removed]",
      "text/plain": [
       "<Figure size 432x288 with 1 Axes>"
      ]
     },
     "metadata": {
      "needs_background": "light"
     },
     "output_type": "display_data"
    }
   ],
   "source": [
    "plt.hist(scaler.transform(df[['Income']]), bins=100)"
   ]
  },
  {
   "cell_type": "code",
   "execution_count": 27,
   "metadata": {},
   "outputs": [],
   "source": [
    "scaler=StandardScaler()"
   ]
  },
  {
   "cell_type": "code",
   "execution_count": 28,
   "metadata": {},
   "outputs": [],
   "source": [
    "df.loc[:, 'Income':'IncomePerCapErr']=scaler.fit_transform(df.loc[:, 'Income':'IncomePerCapErr'])"
   ]
  },
  {
   "cell_type": "markdown",
   "metadata": {},
   "source": [
    "# Feature Selection"
   ]
  },
  {
   "cell_type": "markdown",
   "metadata": {
    "heading_collapsed": true
   },
   "source": [
    "## Filters"
   ]
  },
  {
   "cell_type": "code",
   "execution_count": 29,
   "metadata": {
    "hidden": true
   },
   "outputs": [],
   "source": [
    "from sklearn.feature_selection import SelectKBest, f_regression"
   ]
  },
  {
   "cell_type": "code",
   "execution_count": 30,
   "metadata": {
    "hidden": true
   },
   "outputs": [],
   "source": [
    "y=df.Unemployment\n",
    "X=df.drop('Unemployment', axis=1)"
   ]
  },
  {
   "cell_type": "code",
   "execution_count": 31,
   "metadata": {
    "hidden": true
   },
   "outputs": [
    {
     "data": {
      "text/plain": [
       "(3218, 32)"
      ]
     },
     "execution_count": 31,
     "metadata": {},
     "output_type": "execute_result"
    }
   ],
   "source": [
    "X.shape"
   ]
  },
  {
   "cell_type": "code",
   "execution_count": 32,
   "metadata": {
    "hidden": true
   },
   "outputs": [],
   "source": [
    "selector=SelectKBest(f_regression, k=6)"
   ]
  },
  {
   "cell_type": "code",
   "execution_count": 33,
   "metadata": {
    "hidden": true
   },
   "outputs": [],
   "source": [
    "selection=selector.fit_transform(X,y)"
   ]
  },
  {
   "cell_type": "code",
   "execution_count": 34,
   "metadata": {
    "hidden": true
   },
   "outputs": [
    {
     "data": {
      "text/html": [
       "<div>\n",
       "<style scoped>\n",
       "    .dataframe tbody tr th:only-of-type {\n",
       "        vertical-align: middle;\n",
       "    }\n",
       "\n",
       "    .dataframe tbody tr th {\n",
       "        vertical-align: top;\n",
       "    }\n",
       "\n",
       "    .dataframe thead th {\n",
       "        text-align: right;\n",
       "    }\n",
       "</style>\n",
       "<table border=\"1\" class=\"dataframe\">\n",
       "  <thead>\n",
       "    <tr style=\"text-align: right;\">\n",
       "      <th></th>\n",
       "      <th>0</th>\n",
       "      <th>1</th>\n",
       "      <th>2</th>\n",
       "      <th>3</th>\n",
       "      <th>4</th>\n",
       "      <th>5</th>\n",
       "    </tr>\n",
       "  </thead>\n",
       "  <tbody>\n",
       "    <tr>\n",
       "      <th>0</th>\n",
       "      <td>75.8</td>\n",
       "      <td>0.399598</td>\n",
       "      <td>0.161477</td>\n",
       "      <td>12.9</td>\n",
       "      <td>18.6</td>\n",
       "      <td>0.434364</td>\n",
       "    </tr>\n",
       "    <tr>\n",
       "      <th>1</th>\n",
       "      <td>83.1</td>\n",
       "      <td>0.320025</td>\n",
       "      <td>0.539857</td>\n",
       "      <td>13.4</td>\n",
       "      <td>19.2</td>\n",
       "      <td>0.440511</td>\n",
       "    </tr>\n",
       "    <tr>\n",
       "      <th>2</th>\n",
       "      <td>46.2</td>\n",
       "      <td>-1.019618</td>\n",
       "      <td>-1.154696</td>\n",
       "      <td>26.7</td>\n",
       "      <td>45.3</td>\n",
       "      <td>0.319211</td>\n",
       "    </tr>\n",
       "    <tr>\n",
       "      <th>3</th>\n",
       "      <td>74.5</td>\n",
       "      <td>-0.576892</td>\n",
       "      <td>-0.895176</td>\n",
       "      <td>16.8</td>\n",
       "      <td>27.9</td>\n",
       "      <td>0.366926</td>\n",
       "    </tr>\n",
       "    <tr>\n",
       "      <th>4</th>\n",
       "      <td>87.9</td>\n",
       "      <td>-0.024067</td>\n",
       "      <td>-0.555878</td>\n",
       "      <td>16.7</td>\n",
       "      <td>27.2</td>\n",
       "      <td>0.384491</td>\n",
       "    </tr>\n",
       "  </tbody>\n",
       "</table>\n",
       "</div>"
      ],
      "text/plain": [
       "      0         1         2     3     4         5\n",
       "0  75.8  0.399598  0.161477  12.9  18.6  0.434364\n",
       "1  83.1  0.320025  0.539857  13.4  19.2  0.440511\n",
       "2  46.2 -1.019618 -1.154696  26.7  45.3  0.319211\n",
       "3  74.5 -0.576892 -0.895176  16.8  27.9  0.366926\n",
       "4  87.9 -0.024067 -0.555878  16.7  27.2  0.384491"
      ]
     },
     "execution_count": 34,
     "metadata": {},
     "output_type": "execute_result"
    }
   ],
   "source": [
    "pd.DataFrame(selection).head()"
   ]
  },
  {
   "cell_type": "code",
   "execution_count": 35,
   "metadata": {
    "hidden": true
   },
   "outputs": [
    {
     "data": {
      "text/html": [
       "<div>\n",
       "<style scoped>\n",
       "    .dataframe tbody tr th:only-of-type {\n",
       "        vertical-align: middle;\n",
       "    }\n",
       "\n",
       "    .dataframe tbody tr th {\n",
       "        vertical-align: top;\n",
       "    }\n",
       "\n",
       "    .dataframe thead th {\n",
       "        text-align: right;\n",
       "    }\n",
       "</style>\n",
       "<table border=\"1\" class=\"dataframe\">\n",
       "  <thead>\n",
       "    <tr style=\"text-align: right;\">\n",
       "      <th></th>\n",
       "      <th>TotalPop</th>\n",
       "      <th>Women</th>\n",
       "      <th>Hispanic</th>\n",
       "      <th>White</th>\n",
       "      <th>Black</th>\n",
       "      <th>Native</th>\n",
       "      <th>Asian</th>\n",
       "      <th>Pacific</th>\n",
       "      <th>Citizen</th>\n",
       "      <th>Income</th>\n",
       "      <th>...</th>\n",
       "      <th>Transit</th>\n",
       "      <th>Walk</th>\n",
       "      <th>OtherTransp</th>\n",
       "      <th>WorkAtHome</th>\n",
       "      <th>MeanCommute</th>\n",
       "      <th>Employed</th>\n",
       "      <th>PrivateWork</th>\n",
       "      <th>PublicWork</th>\n",
       "      <th>SelfEmployed</th>\n",
       "      <th>FamilyWork</th>\n",
       "    </tr>\n",
       "  </thead>\n",
       "  <tbody>\n",
       "    <tr>\n",
       "      <th>0</th>\n",
       "      <td>10.919099</td>\n",
       "      <td>0.515673</td>\n",
       "      <td>2.6</td>\n",
       "      <td>75.8</td>\n",
       "      <td>18.5</td>\n",
       "      <td>0.4</td>\n",
       "      <td>1.0</td>\n",
       "      <td>0.0</td>\n",
       "      <td>0.737491</td>\n",
       "      <td>0.399598</td>\n",
       "      <td>...</td>\n",
       "      <td>0.1</td>\n",
       "      <td>0.5</td>\n",
       "      <td>1.3</td>\n",
       "      <td>1.8</td>\n",
       "      <td>26.5</td>\n",
       "      <td>0.434364</td>\n",
       "      <td>73.6</td>\n",
       "      <td>20.9</td>\n",
       "      <td>5.5</td>\n",
       "      <td>0.0</td>\n",
       "    </tr>\n",
       "    <tr>\n",
       "      <th>1</th>\n",
       "      <td>12.181375</td>\n",
       "      <td>0.511513</td>\n",
       "      <td>4.5</td>\n",
       "      <td>83.1</td>\n",
       "      <td>9.5</td>\n",
       "      <td>0.6</td>\n",
       "      <td>0.7</td>\n",
       "      <td>0.0</td>\n",
       "      <td>0.756941</td>\n",
       "      <td>0.320025</td>\n",
       "      <td>...</td>\n",
       "      <td>0.1</td>\n",
       "      <td>1.0</td>\n",
       "      <td>1.4</td>\n",
       "      <td>3.9</td>\n",
       "      <td>26.4</td>\n",
       "      <td>0.440511</td>\n",
       "      <td>81.5</td>\n",
       "      <td>12.3</td>\n",
       "      <td>5.8</td>\n",
       "      <td>0.4</td>\n",
       "    </tr>\n",
       "    <tr>\n",
       "      <th>2</th>\n",
       "      <td>10.201070</td>\n",
       "      <td>0.461718</td>\n",
       "      <td>4.6</td>\n",
       "      <td>46.2</td>\n",
       "      <td>46.7</td>\n",
       "      <td>0.2</td>\n",
       "      <td>0.4</td>\n",
       "      <td>0.0</td>\n",
       "      <td>0.769122</td>\n",
       "      <td>-1.019618</td>\n",
       "      <td>...</td>\n",
       "      <td>0.4</td>\n",
       "      <td>1.8</td>\n",
       "      <td>1.5</td>\n",
       "      <td>1.6</td>\n",
       "      <td>24.1</td>\n",
       "      <td>0.319211</td>\n",
       "      <td>71.8</td>\n",
       "      <td>20.8</td>\n",
       "      <td>7.3</td>\n",
       "      <td>0.1</td>\n",
       "    </tr>\n",
       "    <tr>\n",
       "      <th>3</th>\n",
       "      <td>10.025882</td>\n",
       "      <td>0.465891</td>\n",
       "      <td>2.2</td>\n",
       "      <td>74.5</td>\n",
       "      <td>21.4</td>\n",
       "      <td>0.4</td>\n",
       "      <td>0.1</td>\n",
       "      <td>0.0</td>\n",
       "      <td>0.773978</td>\n",
       "      <td>-0.576892</td>\n",
       "      <td>...</td>\n",
       "      <td>0.5</td>\n",
       "      <td>0.6</td>\n",
       "      <td>1.5</td>\n",
       "      <td>0.7</td>\n",
       "      <td>28.8</td>\n",
       "      <td>0.366926</td>\n",
       "      <td>76.8</td>\n",
       "      <td>16.1</td>\n",
       "      <td>6.7</td>\n",
       "      <td>0.4</td>\n",
       "    </tr>\n",
       "    <tr>\n",
       "      <th>4</th>\n",
       "      <td>10.963186</td>\n",
       "      <td>0.505944</td>\n",
       "      <td>8.6</td>\n",
       "      <td>87.9</td>\n",
       "      <td>1.5</td>\n",
       "      <td>0.3</td>\n",
       "      <td>0.1</td>\n",
       "      <td>0.0</td>\n",
       "      <td>0.733755</td>\n",
       "      <td>-0.024067</td>\n",
       "      <td>...</td>\n",
       "      <td>0.4</td>\n",
       "      <td>0.9</td>\n",
       "      <td>0.4</td>\n",
       "      <td>2.3</td>\n",
       "      <td>34.9</td>\n",
       "      <td>0.384491</td>\n",
       "      <td>82.0</td>\n",
       "      <td>13.5</td>\n",
       "      <td>4.2</td>\n",
       "      <td>0.4</td>\n",
       "    </tr>\n",
       "  </tbody>\n",
       "</table>\n",
       "<p>5 rows × 32 columns</p>\n",
       "</div>"
      ],
      "text/plain": [
       "    TotalPop     Women  Hispanic  White  Black  Native  Asian  Pacific  \\\n",
       "0  10.919099  0.515673       2.6   75.8   18.5     0.4    1.0      0.0   \n",
       "1  12.181375  0.511513       4.5   83.1    9.5     0.6    0.7      0.0   \n",
       "2  10.201070  0.461718       4.6   46.2   46.7     0.2    0.4      0.0   \n",
       "3  10.025882  0.465891       2.2   74.5   21.4     0.4    0.1      0.0   \n",
       "4  10.963186  0.505944       8.6   87.9    1.5     0.3    0.1      0.0   \n",
       "\n",
       "    Citizen    Income  ...  Transit  Walk  OtherTransp  WorkAtHome  \\\n",
       "0  0.737491  0.399598  ...      0.1   0.5          1.3         1.8   \n",
       "1  0.756941  0.320025  ...      0.1   1.0          1.4         3.9   \n",
       "2  0.769122 -1.019618  ...      0.4   1.8          1.5         1.6   \n",
       "3  0.773978 -0.576892  ...      0.5   0.6          1.5         0.7   \n",
       "4  0.733755 -0.024067  ...      0.4   0.9          0.4         2.3   \n",
       "\n",
       "   MeanCommute  Employed  PrivateWork  PublicWork  SelfEmployed  FamilyWork  \n",
       "0         26.5  0.434364         73.6        20.9           5.5         0.0  \n",
       "1         26.4  0.440511         81.5        12.3           5.8         0.4  \n",
       "2         24.1  0.319211         71.8        20.8           7.3         0.1  \n",
       "3         28.8  0.366926         76.8        16.1           6.7         0.4  \n",
       "4         34.9  0.384491         82.0        13.5           4.2         0.4  \n",
       "\n",
       "[5 rows x 32 columns]"
      ]
     },
     "execution_count": 35,
     "metadata": {},
     "output_type": "execute_result"
    }
   ],
   "source": [
    "X.head()"
   ]
  },
  {
   "cell_type": "markdown",
   "metadata": {
    "hidden": true
   },
   "source": [
    "This selection selected White, Income, IncomePerCap, employed, poverty and childpoverty"
   ]
  },
  {
   "cell_type": "code",
   "execution_count": 36,
   "metadata": {
    "hidden": true
   },
   "outputs": [
    {
     "data": {
      "text/plain": [
       "Income          0.509054\n",
       "White           0.540146\n",
       "IncomePerCap    0.547239\n",
       "ChildPoverty    0.678441\n",
       "Employed        0.698771\n",
       "Poverty         0.712419\n",
       "Unemployment    1.000000\n",
       "Name: Unemployment, dtype: float64"
      ]
     },
     "execution_count": 36,
     "metadata": {},
     "output_type": "execute_result"
    }
   ],
   "source": [
    "df.corr().Unemployment.map(abs).sort_values().tail(7)"
   ]
  },
  {
   "cell_type": "code",
   "execution_count": 37,
   "metadata": {
    "hidden": true
   },
   "outputs": [],
   "source": [
    "from statsmodels.api import OLS, add_constant"
   ]
  },
  {
   "cell_type": "code",
   "execution_count": 38,
   "metadata": {
    "hidden": true
   },
   "outputs": [
    {
     "data": {
      "text/html": [
       "<table class=\"simpletable\">\n",
       "<caption>OLS Regression Results</caption>\n",
       "<tr>\n",
       "  <th>Dep. Variable:</th>      <td>Unemployment</td>   <th>  R-squared:         </th> <td>   0.603</td> \n",
       "</tr>\n",
       "<tr>\n",
       "  <th>Model:</th>                   <td>OLS</td>       <th>  Adj. R-squared:    </th> <td>   0.602</td> \n",
       "</tr>\n",
       "<tr>\n",
       "  <th>Method:</th>             <td>Least Squares</td>  <th>  F-statistic:       </th> <td>   813.6</td> \n",
       "</tr>\n",
       "<tr>\n",
       "  <th>Date:</th>             <td>Tue, 06 Oct 2020</td> <th>  Prob (F-statistic):</th>  <td>  0.00</td>  \n",
       "</tr>\n",
       "<tr>\n",
       "  <th>Time:</th>                 <td>11:45:36</td>     <th>  Log-Likelihood:    </th> <td> -7613.4</td> \n",
       "</tr>\n",
       "<tr>\n",
       "  <th>No. Observations:</th>      <td>  3218</td>      <th>  AIC:               </th> <td>1.524e+04</td>\n",
       "</tr>\n",
       "<tr>\n",
       "  <th>Df Residuals:</th>          <td>  3211</td>      <th>  BIC:               </th> <td>1.528e+04</td>\n",
       "</tr>\n",
       "<tr>\n",
       "  <th>Df Model:</th>              <td>     6</td>      <th>                     </th>     <td> </td>    \n",
       "</tr>\n",
       "<tr>\n",
       "  <th>Covariance Type:</th>      <td>nonrobust</td>    <th>                     </th>     <td> </td>    \n",
       "</tr>\n",
       "</table>\n",
       "<table class=\"simpletable\">\n",
       "<tr>\n",
       "    <td></td>       <th>coef</th>     <th>std err</th>      <th>t</th>      <th>P>|t|</th>  <th>[0.025</th>    <th>0.975]</th>  \n",
       "</tr>\n",
       "<tr>\n",
       "  <th>const</th> <td>   17.4132</td> <td>    0.653</td> <td>   26.684</td> <td> 0.000</td> <td>   16.134</td> <td>   18.693</td>\n",
       "</tr>\n",
       "<tr>\n",
       "  <th>x1</th>    <td>   -0.0209</td> <td>    0.003</td> <td>   -7.440</td> <td> 0.000</td> <td>   -0.026</td> <td>   -0.015</td>\n",
       "</tr>\n",
       "<tr>\n",
       "  <th>x2</th>    <td>    0.5813</td> <td>    0.114</td> <td>    5.086</td> <td> 0.000</td> <td>    0.357</td> <td>    0.805</td>\n",
       "</tr>\n",
       "<tr>\n",
       "  <th>x3</th>    <td>    0.2835</td> <td>    0.111</td> <td>    2.556</td> <td> 0.011</td> <td>    0.066</td> <td>    0.501</td>\n",
       "</tr>\n",
       "<tr>\n",
       "  <th>x4</th>    <td>    0.2337</td> <td>    0.017</td> <td>   13.432</td> <td> 0.000</td> <td>    0.200</td> <td>    0.268</td>\n",
       "</tr>\n",
       "<tr>\n",
       "  <th>x5</th>    <td>   -0.0058</td> <td>    0.011</td> <td>   -0.516</td> <td> 0.606</td> <td>   -0.028</td> <td>    0.016</td>\n",
       "</tr>\n",
       "<tr>\n",
       "  <th>x6</th>    <td>  -27.2099</td> <td>    1.120</td> <td>  -24.304</td> <td> 0.000</td> <td>  -29.405</td> <td>  -25.015</td>\n",
       "</tr>\n",
       "</table>\n",
       "<table class=\"simpletable\">\n",
       "<tr>\n",
       "  <th>Omnibus:</th>       <td>310.476</td> <th>  Durbin-Watson:     </th> <td>   1.655</td>\n",
       "</tr>\n",
       "<tr>\n",
       "  <th>Prob(Omnibus):</th> <td> 0.000</td>  <th>  Jarque-Bera (JB):  </th> <td>1940.676</td>\n",
       "</tr>\n",
       "<tr>\n",
       "  <th>Skew:</th>          <td>-0.215</td>  <th>  Prob(JB):          </th> <td>    0.00</td>\n",
       "</tr>\n",
       "<tr>\n",
       "  <th>Kurtosis:</th>      <td> 6.780</td>  <th>  Cond. No.          </th> <td>2.29e+03</td>\n",
       "</tr>\n",
       "</table><br/><br/>Notes:<br/>[1] Standard Errors assume that the covariance matrix of the errors is correctly specified.<br/>[2] The condition number is large, 2.29e+03. This might indicate that there are<br/>strong multicollinearity or other numerical problems."
      ],
      "text/plain": [
       "<class 'statsmodels.iolib.summary.Summary'>\n",
       "\"\"\"\n",
       "                            OLS Regression Results                            \n",
       "==============================================================================\n",
       "Dep. Variable:           Unemployment   R-squared:                       0.603\n",
       "Model:                            OLS   Adj. R-squared:                  0.602\n",
       "Method:                 Least Squares   F-statistic:                     813.6\n",
       "Date:                Tue, 06 Oct 2020   Prob (F-statistic):               0.00\n",
       "Time:                        11:45:36   Log-Likelihood:                -7613.4\n",
       "No. Observations:                3218   AIC:                         1.524e+04\n",
       "Df Residuals:                    3211   BIC:                         1.528e+04\n",
       "Df Model:                           6                                         \n",
       "Covariance Type:            nonrobust                                         \n",
       "==============================================================================\n",
       "                 coef    std err          t      P>|t|      [0.025      0.975]\n",
       "------------------------------------------------------------------------------\n",
       "const         17.4132      0.653     26.684      0.000      16.134      18.693\n",
       "x1            -0.0209      0.003     -7.440      0.000      -0.026      -0.015\n",
       "x2             0.5813      0.114      5.086      0.000       0.357       0.805\n",
       "x3             0.2835      0.111      2.556      0.011       0.066       0.501\n",
       "x4             0.2337      0.017     13.432      0.000       0.200       0.268\n",
       "x5            -0.0058      0.011     -0.516      0.606      -0.028       0.016\n",
       "x6           -27.2099      1.120    -24.304      0.000     -29.405     -25.015\n",
       "==============================================================================\n",
       "Omnibus:                      310.476   Durbin-Watson:                   1.655\n",
       "Prob(Omnibus):                  0.000   Jarque-Bera (JB):             1940.676\n",
       "Skew:                          -0.215   Prob(JB):                         0.00\n",
       "Kurtosis:                       6.780   Cond. No.                     2.29e+03\n",
       "==============================================================================\n",
       "\n",
       "Notes:\n",
       "[1] Standard Errors assume that the covariance matrix of the errors is correctly specified.\n",
       "[2] The condition number is large, 2.29e+03. This might indicate that there are\n",
       "strong multicollinearity or other numerical problems.\n",
       "\"\"\""
      ]
     },
     "execution_count": 38,
     "metadata": {},
     "output_type": "execute_result"
    }
   ],
   "source": [
    "OLS(y, add_constant(selection)).fit().summary()"
   ]
  },
  {
   "cell_type": "markdown",
   "metadata": {},
   "source": [
    "## Wrappers"
   ]
  },
  {
   "cell_type": "code",
   "execution_count": 40,
   "metadata": {},
   "outputs": [],
   "source": [
    "pip install mlxtend"
   ]
  },
  {
   "cell_type": "markdown",
   "metadata": {},
   "source": [
    "### RFE"
   ]
  },
  {
   "cell_type": "code",
   "execution_count": 42,
   "metadata": {},
   "outputs": [],
   "source": [
    "from sklearn.feature_selection import RFE\n",
    "from mlxtend.feature_selection import SequentialFeatureSelector as sfs"
   ]
  },
  {
   "cell_type": "code",
   "execution_count": 43,
   "metadata": {},
   "outputs": [],
   "source": [
    "from sklearn.linear_model import LinearRegression"
   ]
  },
  {
   "cell_type": "code",
   "execution_count": 45,
   "metadata": {},
   "outputs": [
    {
     "data": {
      "text/plain": [
       "RFE(estimator=LinearRegression(), n_features_to_select=6)"
      ]
     },
     "execution_count": 45,
     "metadata": {},
     "output_type": "execute_result"
    }
   ],
   "source": [
    "estimator=LinearRegression()\n",
    "selector_w1=RFE(estimator, n_features_to_select=6)\n",
    "selector_w1.fit(X,y)"
   ]
  },
  {
   "cell_type": "code",
   "execution_count": 46,
   "metadata": {},
   "outputs": [
    {
     "data": {
      "text/plain": [
       "array([ 1,  1, 24, 27, 23, 21, 26, 25,  1,  1, 19, 17, 18,  5, 22, 16, 14,\n",
       "       12, 15, 13,  6,  9,  7, 10, 11,  8, 20,  1,  3,  4,  1,  2])"
      ]
     },
     "execution_count": 46,
     "metadata": {},
     "output_type": "execute_result"
    }
   ],
   "source": [
    "selector_w1.ranking_"
   ]
  },
  {
   "cell_type": "code",
   "execution_count": 47,
   "metadata": {},
   "outputs": [
    {
     "data": {
      "text/plain": [
       "array([ True,  True, False, False, False, False, False, False,  True,\n",
       "        True, False, False, False, False, False, False, False, False,\n",
       "       False, False, False, False, False, False, False, False, False,\n",
       "        True, False, False,  True, False])"
      ]
     },
     "execution_count": 47,
     "metadata": {},
     "output_type": "execute_result"
    }
   ],
   "source": [
    "selector_w1.support_"
   ]
  },
  {
   "cell_type": "code",
   "execution_count": 48,
   "metadata": {},
   "outputs": [
    {
     "data": {
      "text/plain": [
       "Index(['TotalPop', 'Women', 'Citizen', 'Income', 'Employed', 'SelfEmployed'], dtype='object')"
      ]
     },
     "execution_count": 48,
     "metadata": {},
     "output_type": "execute_result"
    }
   ],
   "source": [
    "X.columns[selector_w1.support_]"
   ]
  },
  {
   "cell_type": "code",
   "execution_count": 51,
   "metadata": {},
   "outputs": [
    {
     "data": {
      "text/plain": [
       "TotalPop           10.28\n",
       "Women               0.50\n",
       "Hispanic           11.01\n",
       "White              75.45\n",
       "Black               8.67\n",
       "Native              1.72\n",
       "Asian               1.22\n",
       "Pacific             0.07\n",
       "Citizen             0.75\n",
       "Income             -0.00\n",
       "IncomeErr           0.00\n",
       "IncomePerCap        0.00\n",
       "IncomePerCapErr     0.00\n",
       "Poverty            17.49\n",
       "ChildPoverty       24.19\n",
       "Professional       30.99\n",
       "Service            18.34\n",
       "Office             22.21\n",
       "Construction       12.72\n",
       "Production         15.73\n",
       "Drive              79.20\n",
       "Carpool            10.28\n",
       "Transit             0.97\n",
       "Walk                3.31\n",
       "OtherTransp         1.61\n",
       "WorkAtHome          4.63\n",
       "MeanCommute        23.28\n",
       "Employed            0.43\n",
       "PrivateWork        74.24\n",
       "PublicWork         17.54\n",
       "SelfEmployed        7.93\n",
       "FamilyWork          0.29\n",
       "dtype: float64"
      ]
     },
     "execution_count": 51,
     "metadata": {},
     "output_type": "execute_result"
    }
   ],
   "source": [
    "X.mean().round(2)"
   ]
  },
  {
   "cell_type": "code",
   "execution_count": 53,
   "metadata": {},
   "outputs": [],
   "source": [
    "selection_2=X.columns[selector_w1.support_]"
   ]
  },
  {
   "cell_type": "code",
   "execution_count": 54,
   "metadata": {},
   "outputs": [
    {
     "data": {
      "text/html": [
       "<table class=\"simpletable\">\n",
       "<caption>OLS Regression Results</caption>\n",
       "<tr>\n",
       "  <th>Dep. Variable:</th>      <td>Unemployment</td>   <th>  R-squared:         </th> <td>   0.579</td> \n",
       "</tr>\n",
       "<tr>\n",
       "  <th>Model:</th>                   <td>OLS</td>       <th>  Adj. R-squared:    </th> <td>   0.578</td> \n",
       "</tr>\n",
       "<tr>\n",
       "  <th>Method:</th>             <td>Least Squares</td>  <th>  F-statistic:       </th> <td>   736.4</td> \n",
       "</tr>\n",
       "<tr>\n",
       "  <th>Date:</th>             <td>Tue, 06 Oct 2020</td> <th>  Prob (F-statistic):</th>  <td>  0.00</td>  \n",
       "</tr>\n",
       "<tr>\n",
       "  <th>Time:</th>                 <td>12:03:02</td>     <th>  Log-Likelihood:    </th> <td> -7708.2</td> \n",
       "</tr>\n",
       "<tr>\n",
       "  <th>No. Observations:</th>      <td>  3218</td>      <th>  AIC:               </th> <td>1.543e+04</td>\n",
       "</tr>\n",
       "<tr>\n",
       "  <th>Df Residuals:</th>          <td>  3211</td>      <th>  BIC:               </th> <td>1.547e+04</td>\n",
       "</tr>\n",
       "<tr>\n",
       "  <th>Df Model:</th>              <td>     6</td>      <th>                     </th>     <td> </td>    \n",
       "</tr>\n",
       "<tr>\n",
       "  <th>Covariance Type:</th>      <td>nonrobust</td>    <th>                     </th>     <td> </td>    \n",
       "</tr>\n",
       "</table>\n",
       "<table class=\"simpletable\">\n",
       "<tr>\n",
       "        <td></td>          <th>coef</th>     <th>std err</th>      <th>t</th>      <th>P>|t|</th>  <th>[0.025</th>    <th>0.975]</th>  \n",
       "</tr>\n",
       "<tr>\n",
       "  <th>const</th>        <td>    8.8500</td> <td>    1.271</td> <td>    6.966</td> <td> 0.000</td> <td>    6.359</td> <td>   11.341</td>\n",
       "</tr>\n",
       "<tr>\n",
       "  <th>TotalPop</th>     <td>    0.5124</td> <td>    0.043</td> <td>   11.853</td> <td> 0.000</td> <td>    0.428</td> <td>    0.597</td>\n",
       "</tr>\n",
       "<tr>\n",
       "  <th>Women</th>        <td>   24.3809</td> <td>    2.148</td> <td>   11.352</td> <td> 0.000</td> <td>   20.170</td> <td>   28.592</td>\n",
       "</tr>\n",
       "<tr>\n",
       "  <th>Citizen</th>      <td>   -1.3783</td> <td>    0.934</td> <td>   -1.475</td> <td> 0.140</td> <td>   -3.211</td> <td>    0.454</td>\n",
       "</tr>\n",
       "<tr>\n",
       "  <th>Income</th>       <td>   -0.4448</td> <td>    0.076</td> <td>   -5.862</td> <td> 0.000</td> <td>   -0.594</td> <td>   -0.296</td>\n",
       "</tr>\n",
       "<tr>\n",
       "  <th>Employed</th>     <td>  -38.3847</td> <td>    1.050</td> <td>  -36.566</td> <td> 0.000</td> <td>  -40.443</td> <td>  -36.326</td>\n",
       "</tr>\n",
       "<tr>\n",
       "  <th>SelfEmployed</th> <td>   -0.0867</td> <td>    0.015</td> <td>   -5.800</td> <td> 0.000</td> <td>   -0.116</td> <td>   -0.057</td>\n",
       "</tr>\n",
       "</table>\n",
       "<table class=\"simpletable\">\n",
       "<tr>\n",
       "  <th>Omnibus:</th>       <td>1028.037</td> <th>  Durbin-Watson:     </th> <td>   1.607</td>\n",
       "</tr>\n",
       "<tr>\n",
       "  <th>Prob(Omnibus):</th>  <td> 0.000</td>  <th>  Jarque-Bera (JB):  </th> <td>7112.695</td>\n",
       "</tr>\n",
       "<tr>\n",
       "  <th>Skew:</th>           <td> 1.337</td>  <th>  Prob(JB):          </th> <td>    0.00</td>\n",
       "</tr>\n",
       "<tr>\n",
       "  <th>Kurtosis:</th>       <td> 9.775</td>  <th>  Cond. No.          </th> <td>    664.</td>\n",
       "</tr>\n",
       "</table><br/><br/>Notes:<br/>[1] Standard Errors assume that the covariance matrix of the errors is correctly specified."
      ],
      "text/plain": [
       "<class 'statsmodels.iolib.summary.Summary'>\n",
       "\"\"\"\n",
       "                            OLS Regression Results                            \n",
       "==============================================================================\n",
       "Dep. Variable:           Unemployment   R-squared:                       0.579\n",
       "Model:                            OLS   Adj. R-squared:                  0.578\n",
       "Method:                 Least Squares   F-statistic:                     736.4\n",
       "Date:                Tue, 06 Oct 2020   Prob (F-statistic):               0.00\n",
       "Time:                        12:03:02   Log-Likelihood:                -7708.2\n",
       "No. Observations:                3218   AIC:                         1.543e+04\n",
       "Df Residuals:                    3211   BIC:                         1.547e+04\n",
       "Df Model:                           6                                         \n",
       "Covariance Type:            nonrobust                                         \n",
       "================================================================================\n",
       "                   coef    std err          t      P>|t|      [0.025      0.975]\n",
       "--------------------------------------------------------------------------------\n",
       "const            8.8500      1.271      6.966      0.000       6.359      11.341\n",
       "TotalPop         0.5124      0.043     11.853      0.000       0.428       0.597\n",
       "Women           24.3809      2.148     11.352      0.000      20.170      28.592\n",
       "Citizen         -1.3783      0.934     -1.475      0.140      -3.211       0.454\n",
       "Income          -0.4448      0.076     -5.862      0.000      -0.594      -0.296\n",
       "Employed       -38.3847      1.050    -36.566      0.000     -40.443     -36.326\n",
       "SelfEmployed    -0.0867      0.015     -5.800      0.000      -0.116      -0.057\n",
       "==============================================================================\n",
       "Omnibus:                     1028.037   Durbin-Watson:                   1.607\n",
       "Prob(Omnibus):                  0.000   Jarque-Bera (JB):             7112.695\n",
       "Skew:                           1.337   Prob(JB):                         0.00\n",
       "Kurtosis:                       9.775   Cond. No.                         664.\n",
       "==============================================================================\n",
       "\n",
       "Notes:\n",
       "[1] Standard Errors assume that the covariance matrix of the errors is correctly specified.\n",
       "\"\"\""
      ]
     },
     "execution_count": 54,
     "metadata": {},
     "output_type": "execute_result"
    }
   ],
   "source": [
    "OLS(y, add_constant(X[selection_2])).fit().summary()"
   ]
  },
  {
   "cell_type": "markdown",
   "metadata": {},
   "source": [
    "### SFS"
   ]
  },
  {
   "cell_type": "code",
   "execution_count": 56,
   "metadata": {},
   "outputs": [],
   "source": [
    "estimator=LinearRegression()\n",
    "sfs1=sfs(estimator, \n",
    "         k_features=6, \n",
    "         forward=True, \n",
    "         floating=False, \n",
    "         scoring='neg_mean_squared_error', #default R2\n",
    "        )"
   ]
  },
  {
   "cell_type": "code",
   "execution_count": 57,
   "metadata": {},
   "outputs": [
    {
     "data": {
      "text/plain": [
       "SequentialFeatureSelector(estimator=LinearRegression(), k_features=6,\n",
       "                          scoring='neg_mean_squared_error')"
      ]
     },
     "execution_count": 57,
     "metadata": {},
     "output_type": "execute_result"
    }
   ],
   "source": [
    "sfs1.fit(X,y)"
   ]
  },
  {
   "cell_type": "code",
   "execution_count": 58,
   "metadata": {},
   "outputs": [
    {
     "data": {
      "text/plain": [
       "{1: {'feature_idx': (13,),\n",
       "  'cv_scores': array([-10.35341613,  -4.78443041,  -8.1074134 ,  -7.84937545,\n",
       "         -11.27085145]),\n",
       "  'avg_score': -8.473097368177344,\n",
       "  'feature_names': ('Poverty',),\n",
       "  'ci_bound': 2.902142738630842,\n",
       "  'std_dev': 2.2579656459821114,\n",
       "  'std_err': 1.128982822991056},\n",
       " 2: {'feature_idx': (13, 27),\n",
       "  'cv_scores': array([ -8.6057062 ,  -3.98359448,  -6.48919243,  -6.80429779,\n",
       "         -10.70745268]),\n",
       "  'avg_score': -7.3180487172668975,\n",
       "  'feature_names': ('Poverty', 'Employed'),\n",
       "  'ci_bound': 2.8863667304168494,\n",
       "  'std_dev': 2.245691375628776,\n",
       "  'std_err': 1.1228456878143878},\n",
       " 3: {'feature_idx': (0, 13, 27),\n",
       "  'cv_scores': array([ -8.15512306,  -3.20630653,  -5.0489789 ,  -5.68453784,\n",
       "         -10.19491027]),\n",
       "  'avg_score': -6.457971318338669,\n",
       "  'feature_names': ('TotalPop', 'Poverty', 'Employed'),\n",
       "  'ci_bound': 3.148402397066505,\n",
       "  'std_dev': 2.4495640264950373,\n",
       "  'std_err': 1.2247820132475187},\n",
       " 4: {'feature_idx': (0, 5, 13, 27),\n",
       "  'cv_scores': array([ -7.55522414,  -3.13691447,  -5.12150355,  -5.60344859,\n",
       "         -10.26959416]),\n",
       "  'avg_score': -6.3373369829840245,\n",
       "  'feature_names': ('TotalPop', 'Native', 'Poverty', 'Employed'),\n",
       "  'ci_bound': 3.1063353275281558,\n",
       "  'std_dev': 2.4168344172375877,\n",
       "  'std_err': 1.2084172086187939},\n",
       " 5: {'feature_idx': (0, 5, 13, 26, 27),\n",
       "  'cv_scores': array([-7.58978657, -3.09342982, -4.90325045, -5.38914412, -9.75481512]),\n",
       "  'avg_score': -6.146085218380838,\n",
       "  'feature_names': ('TotalPop',\n",
       "   'Native',\n",
       "   'Poverty',\n",
       "   'MeanCommute',\n",
       "   'Employed'),\n",
       "  'ci_bound': 2.961389945644419,\n",
       "  'std_dev': 2.304061985861025,\n",
       "  'std_err': 1.1520309929305126},\n",
       " 6: {'feature_idx': (0, 5, 13, 24, 26, 27),\n",
       "  'cv_scores': array([-7.32684721, -3.20885038, -4.87185587, -5.15006366, -9.72125297]),\n",
       "  'avg_score': -6.055774018024157,\n",
       "  'feature_names': ('TotalPop',\n",
       "   'Native',\n",
       "   'Poverty',\n",
       "   'OtherTransp',\n",
       "   'MeanCommute',\n",
       "   'Employed'),\n",
       "  'ci_bound': 2.895661493123759,\n",
       "  'std_dev': 2.25292301678839,\n",
       "  'std_err': 1.126461508394195}}"
      ]
     },
     "execution_count": 58,
     "metadata": {},
     "output_type": "execute_result"
    }
   ],
   "source": [
    "sfs1.get_metric_dict()"
   ]
  },
  {
   "cell_type": "code",
   "execution_count": 59,
   "metadata": {},
   "outputs": [],
   "source": [
    "from mlxtend.plotting import plot_sequential_feature_selection as plot_sfs"
   ]
  },
  {
   "cell_type": "code",
   "execution_count": 61,
   "metadata": {},
   "outputs": [
    {
     "data": {
      "image/png": "[encoded data removed]",
      "text/plain": [
       "<Figure size 432x288 with 1 Axes>"
      ]
     },
     "metadata": {
      "needs_background": "light"
     },
     "output_type": "display_data"
    }
   ],
   "source": [
    "fig=plot_sfs(sfs1.get_metric_dict(), kind='std_err')\n",
    "plt.title('Sequential Forward Selection (w. StandardError)')\n",
    "plt.show()"
   ]
  },
  {
   "cell_type": "code",
   "execution_count": 62,
   "metadata": {},
   "outputs": [
    {
     "data": {
      "text/plain": [
       "(0, 5, 13, 24, 26, 27)"
      ]
     },
     "execution_count": 62,
     "metadata": {},
     "output_type": "execute_result"
    }
   ],
   "source": [
    "sfs1.k_feature_idx_"
   ]
  },
  {
   "cell_type": "code",
   "execution_count": 63,
   "metadata": {},
   "outputs": [
    {
     "data": {
      "text/plain": [
       "('TotalPop', 'Native', 'Poverty', 'OtherTransp', 'MeanCommute', 'Employed')"
      ]
     },
     "execution_count": 63,
     "metadata": {},
     "output_type": "execute_result"
    }
   ],
   "source": [
    "sfs1.k_feature_names_"
   ]
  },
  {
   "cell_type": "code",
   "execution_count": 64,
   "metadata": {},
   "outputs": [
    {
     "data": {
      "text/plain": [
       "-6.055774018024157"
      ]
     },
     "execution_count": 64,
     "metadata": {},
     "output_type": "execute_result"
    }
   ],
   "source": [
    "sfs1.k_score_"
   ]
  },
  {
   "cell_type": "code",
   "execution_count": 66,
   "metadata": {},
   "outputs": [
    {
     "data": {
      "text/html": [
       "<table class=\"simpletable\">\n",
       "<caption>OLS Regression Results</caption>\n",
       "<tr>\n",
       "  <th>Dep. Variable:</th>      <td>Unemployment</td>   <th>  R-squared:         </th> <td>   0.653</td> \n",
       "</tr>\n",
       "<tr>\n",
       "  <th>Model:</th>                   <td>OLS</td>       <th>  Adj. R-squared:    </th> <td>   0.653</td> \n",
       "</tr>\n",
       "<tr>\n",
       "  <th>Method:</th>             <td>Least Squares</td>  <th>  F-statistic:       </th> <td>   1008.</td> \n",
       "</tr>\n",
       "<tr>\n",
       "  <th>Date:</th>             <td>Tue, 06 Oct 2020</td> <th>  Prob (F-statistic):</th>  <td>  0.00</td>  \n",
       "</tr>\n",
       "<tr>\n",
       "  <th>Time:</th>                 <td>12:18:59</td>     <th>  Log-Likelihood:    </th> <td> -7396.5</td> \n",
       "</tr>\n",
       "<tr>\n",
       "  <th>No. Observations:</th>      <td>  3218</td>      <th>  AIC:               </th> <td>1.481e+04</td>\n",
       "</tr>\n",
       "<tr>\n",
       "  <th>Df Residuals:</th>          <td>  3211</td>      <th>  BIC:               </th> <td>1.485e+04</td>\n",
       "</tr>\n",
       "<tr>\n",
       "  <th>Df Model:</th>              <td>     6</td>      <th>                     </th>     <td> </td>    \n",
       "</tr>\n",
       "<tr>\n",
       "  <th>Covariance Type:</th>      <td>nonrobust</td>    <th>                     </th>     <td> </td>    \n",
       "</tr>\n",
       "</table>\n",
       "<table class=\"simpletable\">\n",
       "<tr>\n",
       "       <td></td>          <th>coef</th>     <th>std err</th>      <th>t</th>      <th>P>|t|</th>  <th>[0.025</th>    <th>0.975]</th>  \n",
       "</tr>\n",
       "<tr>\n",
       "  <th>const</th>       <td>    5.3546</td> <td>    0.612</td> <td>    8.743</td> <td> 0.000</td> <td>    4.154</td> <td>    6.555</td>\n",
       "</tr>\n",
       "<tr>\n",
       "  <th>TotalPop</th>    <td>    0.5462</td> <td>    0.031</td> <td>   17.501</td> <td> 0.000</td> <td>    0.485</td> <td>    0.607</td>\n",
       "</tr>\n",
       "<tr>\n",
       "  <th>Native</th>      <td>    0.0615</td> <td>    0.006</td> <td>    9.516</td> <td> 0.000</td> <td>    0.049</td> <td>    0.074</td>\n",
       "</tr>\n",
       "<tr>\n",
       "  <th>Poverty</th>     <td>    0.2039</td> <td>    0.008</td> <td>   26.328</td> <td> 0.000</td> <td>    0.189</td> <td>    0.219</td>\n",
       "</tr>\n",
       "<tr>\n",
       "  <th>OtherTransp</th> <td>    0.1987</td> <td>    0.028</td> <td>    7.174</td> <td> 0.000</td> <td>    0.144</td> <td>    0.253</td>\n",
       "</tr>\n",
       "<tr>\n",
       "  <th>MeanCommute</th> <td>    0.1034</td> <td>    0.009</td> <td>   12.004</td> <td> 0.000</td> <td>    0.086</td> <td>    0.120</td>\n",
       "</tr>\n",
       "<tr>\n",
       "  <th>Employed</th>    <td>  -21.5788</td> <td>    0.965</td> <td>  -22.351</td> <td> 0.000</td> <td>  -23.472</td> <td>  -19.686</td>\n",
       "</tr>\n",
       "</table>\n",
       "<table class=\"simpletable\">\n",
       "<tr>\n",
       "  <th>Omnibus:</th>       <td>410.723</td> <th>  Durbin-Watson:     </th> <td>   1.766</td>\n",
       "</tr>\n",
       "<tr>\n",
       "  <th>Prob(Omnibus):</th> <td> 0.000</td>  <th>  Jarque-Bera (JB):  </th> <td>3116.961</td>\n",
       "</tr>\n",
       "<tr>\n",
       "  <th>Skew:</th>          <td> 0.354</td>  <th>  Prob(JB):          </th> <td>    0.00</td>\n",
       "</tr>\n",
       "<tr>\n",
       "  <th>Kurtosis:</th>      <td> 7.769</td>  <th>  Cond. No.          </th> <td>    824.</td>\n",
       "</tr>\n",
       "</table><br/><br/>Notes:<br/>[1] Standard Errors assume that the covariance matrix of the errors is correctly specified."
      ],
      "text/plain": [
       "<class 'statsmodels.iolib.summary.Summary'>\n",
       "\"\"\"\n",
       "                            OLS Regression Results                            \n",
       "==============================================================================\n",
       "Dep. Variable:           Unemployment   R-squared:                       0.653\n",
       "Model:                            OLS   Adj. R-squared:                  0.653\n",
       "Method:                 Least Squares   F-statistic:                     1008.\n",
       "Date:                Tue, 06 Oct 2020   Prob (F-statistic):               0.00\n",
       "Time:                        12:18:59   Log-Likelihood:                -7396.5\n",
       "No. Observations:                3218   AIC:                         1.481e+04\n",
       "Df Residuals:                    3211   BIC:                         1.485e+04\n",
       "Df Model:                           6                                         \n",
       "Covariance Type:            nonrobust                                         \n",
       "===============================================================================\n",
       "                  coef    std err          t      P>|t|      [0.025      0.975]\n",
       "-------------------------------------------------------------------------------\n",
       "const           5.3546      0.612      8.743      0.000       4.154       6.555\n",
       "TotalPop        0.5462      0.031     17.501      0.000       0.485       0.607\n",
       "Native          0.0615      0.006      9.516      0.000       0.049       0.074\n",
       "Poverty         0.2039      0.008     26.328      0.000       0.189       0.219\n",
       "OtherTransp     0.1987      0.028      7.174      0.000       0.144       0.253\n",
       "MeanCommute     0.1034      0.009     12.004      0.000       0.086       0.120\n",
       "Employed      -21.5788      0.965    -22.351      0.000     -23.472     -19.686\n",
       "==============================================================================\n",
       "Omnibus:                      410.723   Durbin-Watson:                   1.766\n",
       "Prob(Omnibus):                  0.000   Jarque-Bera (JB):             3116.961\n",
       "Skew:                           0.354   Prob(JB):                         0.00\n",
       "Kurtosis:                       7.769   Cond. No.                         824.\n",
       "==============================================================================\n",
       "\n",
       "Notes:\n",
       "[1] Standard Errors assume that the covariance matrix of the errors is correctly specified.\n",
       "\"\"\""
      ]
     },
     "execution_count": 66,
     "metadata": {},
     "output_type": "execute_result"
    }
   ],
   "source": [
    "OLS(y, add_constant(X[list(sfs1.k_feature_names_)])).fit().summary()"
   ]
  },
  {
   "cell_type": "code",
   "execution_count": 67,
   "metadata": {},
   "outputs": [],
   "source": [
    "estimator=LinearRegression()\n",
    "sfs1=sfs(estimator, \n",
    "         k_features=6, \n",
    "         forward=False, \n",
    "         floating=True, \n",
    "        )"
   ]
  },
  {
   "cell_type": "code",
   "execution_count": 68,
   "metadata": {},
   "outputs": [
    {
     "data": {
      "text/plain": [
       "{32: {'feature_idx': (0,\n",
       "   1,\n",
       "   2,\n",
       "   3,\n",
       "   4,\n",
       "   5,\n",
       "   6,\n",
       "   7,\n",
       "   8,\n",
       "   9,\n",
       "   10,\n",
       "   11,\n",
       "   12,\n",
       "   13,\n",
       "   14,\n",
       "   15,\n",
       "   16,\n",
       "   17,\n",
       "   18,\n",
       "   19,\n",
       "   20,\n",
       "   21,\n",
       "   22,\n",
       "   23,\n",
       "   24,\n",
       "   25,\n",
       "   26,\n",
       "   27,\n",
       "   28,\n",
       "   29,\n",
       "   30,\n",
       "   31),\n",
       "  'cv_scores': array([0.42137685, 0.65571364, 0.69207244, 0.65715899, 0.65607133]),\n",
       "  'avg_score': 0.616478650080081,\n",
       "  'feature_names': ('TotalPop',\n",
       "   'Women',\n",
       "   'Hispanic',\n",
       "   'White',\n",
       "   'Black',\n",
       "   'Native',\n",
       "   'Asian',\n",
       "   'Pacific',\n",
       "   'Citizen',\n",
       "   'Income',\n",
       "   'IncomeErr',\n",
       "   'IncomePerCap',\n",
       "   'IncomePerCapErr',\n",
       "   'Poverty',\n",
       "   'ChildPoverty',\n",
       "   'Professional',\n",
       "   'Service',\n",
       "   'Office',\n",
       "   'Construction',\n",
       "   'Production',\n",
       "   'Drive',\n",
       "   'Carpool',\n",
       "   'Transit',\n",
       "   'Walk',\n",
       "   'OtherTransp',\n",
       "   'WorkAtHome',\n",
       "   'MeanCommute',\n",
       "   'Employed',\n",
       "   'PrivateWork',\n",
       "   'PublicWork',\n",
       "   'SelfEmployed',\n",
       "   'FamilyWork'),\n",
       "  'ci_bound': 0.12663995399345263,\n",
       "  'std_dev': 0.09853018658237142,\n",
       "  'std_err': 0.0492650932911857},\n",
       " 31: {'feature_idx': (0,\n",
       "   1,\n",
       "   2,\n",
       "   4,\n",
       "   5,\n",
       "   6,\n",
       "   7,\n",
       "   8,\n",
       "   9,\n",
       "   10,\n",
       "   11,\n",
       "   12,\n",
       "   13,\n",
       "   14,\n",
       "   15,\n",
       "   16,\n",
       "   17,\n",
       "   18,\n",
       "   19,\n",
       "   20,\n",
       "   21,\n",
       "   22,\n",
       "   23,\n",
       "   24,\n",
       "   25,\n",
       "   26,\n",
       "   27,\n",
       "   28,\n",
       "   29,\n",
       "   30,\n",
       "   31),\n",
       "  'cv_scores': array([0.43707846, 0.65655993, 0.69219104, 0.70022899, 0.65825986]),\n",
       "  'avg_score': 0.6288636531401899,\n",
       "  'feature_names': ('TotalPop',\n",
       "   'Women',\n",
       "   'Hispanic',\n",
       "   'Black',\n",
       "   'Native',\n",
       "   'Asian',\n",
       "   'Pacific',\n",
       "   'Citizen',\n",
       "   'Income',\n",
       "   'IncomeErr',\n",
       "   'IncomePerCap',\n",
       "   'IncomePerCapErr',\n",
       "   'Poverty',\n",
       "   'ChildPoverty',\n",
       "   'Professional',\n",
       "   'Service',\n",
       "   'Office',\n",
       "   'Construction',\n",
       "   'Production',\n",
       "   'Drive',\n",
       "   'Carpool',\n",
       "   'Transit',\n",
       "   'Walk',\n",
       "   'OtherTransp',\n",
       "   'WorkAtHome',\n",
       "   'MeanCommute',\n",
       "   'Employed',\n",
       "   'PrivateWork',\n",
       "   'PublicWork',\n",
       "   'SelfEmployed',\n",
       "   'FamilyWork'),\n",
       "  'ci_bound': 0.12529595883280864,\n",
       "  'std_dev': 0.09748451268745748,\n",
       "  'std_err': 0.04874225634372873},\n",
       " 30: {'feature_idx': (0,\n",
       "   1,\n",
       "   2,\n",
       "   4,\n",
       "   5,\n",
       "   7,\n",
       "   8,\n",
       "   9,\n",
       "   10,\n",
       "   11,\n",
       "   12,\n",
       "   13,\n",
       "   14,\n",
       "   15,\n",
       "   16,\n",
       "   17,\n",
       "   18,\n",
       "   19,\n",
       "   20,\n",
       "   21,\n",
       "   22,\n",
       "   23,\n",
       "   24,\n",
       "   25,\n",
       "   26,\n",
       "   27,\n",
       "   28,\n",
       "   29,\n",
       "   30,\n",
       "   31),\n",
       "  'cv_scores': array([0.44027034, 0.65657611, 0.69236891, 0.70023617, 0.65847059]),\n",
       "  'avg_score': 0.6295844230252234,\n",
       "  'feature_names': ('TotalPop',\n",
       "   'Women',\n",
       "   'Hispanic',\n",
       "   'Black',\n",
       "   'Native',\n",
       "   'Pacific',\n",
       "   'Citizen',\n",
       "   'Income',\n",
       "   'IncomeErr',\n",
       "   'IncomePerCap',\n",
       "   'IncomePerCapErr',\n",
       "   'Poverty',\n",
       "   'ChildPoverty',\n",
       "   'Professional',\n",
       "   'Service',\n",
       "   'Office',\n",
       "   'Construction',\n",
       "   'Production',\n",
       "   'Drive',\n",
       "   'Carpool',\n",
       "   'Transit',\n",
       "   'Walk',\n",
       "   'OtherTransp',\n",
       "   'WorkAtHome',\n",
       "   'MeanCommute',\n",
       "   'Employed',\n",
       "   'PrivateWork',\n",
       "   'PublicWork',\n",
       "   'SelfEmployed',\n",
       "   'FamilyWork'),\n",
       "  'ci_bound': 0.1237306581593398,\n",
       "  'std_dev': 0.09626665558509016,\n",
       "  'std_err': 0.048133327792545075},\n",
       " 29: {'feature_idx': (0,\n",
       "   1,\n",
       "   2,\n",
       "   4,\n",
       "   5,\n",
       "   7,\n",
       "   8,\n",
       "   9,\n",
       "   11,\n",
       "   12,\n",
       "   13,\n",
       "   14,\n",
       "   15,\n",
       "   16,\n",
       "   17,\n",
       "   18,\n",
       "   19,\n",
       "   20,\n",
       "   21,\n",
       "   22,\n",
       "   23,\n",
       "   24,\n",
       "   25,\n",
       "   26,\n",
       "   27,\n",
       "   28,\n",
       "   29,\n",
       "   30,\n",
       "   31),\n",
       "  'cv_scores': array([0.4412841 , 0.65749893, 0.69109311, 0.69992733, 0.66054659]),\n",
       "  'avg_score': 0.6300700131066056,\n",
       "  'feature_names': ('TotalPop',\n",
       "   'Women',\n",
       "   'Hispanic',\n",
       "   'Black',\n",
       "   'Native',\n",
       "   'Pacific',\n",
       "   'Citizen',\n",
       "   'Income',\n",
       "   'IncomePerCap',\n",
       "   'IncomePerCapErr',\n",
       "   'Poverty',\n",
       "   'ChildPoverty',\n",
       "   'Professional',\n",
       "   'Service',\n",
       "   'Office',\n",
       "   'Construction',\n",
       "   'Production',\n",
       "   'Drive',\n",
       "   'Carpool',\n",
       "   'Transit',\n",
       "   'Walk',\n",
       "   'OtherTransp',\n",
       "   'WorkAtHome',\n",
       "   'MeanCommute',\n",
       "   'Employed',\n",
       "   'PrivateWork',\n",
       "   'PublicWork',\n",
       "   'SelfEmployed',\n",
       "   'FamilyWork'),\n",
       "  'ci_bound': 0.12318043564203253,\n",
       "  'std_dev': 0.09583856377375775,\n",
       "  'std_err': 0.04791928188687888},\n",
       " 28: {'feature_idx': (0,\n",
       "   1,\n",
       "   2,\n",
       "   4,\n",
       "   5,\n",
       "   7,\n",
       "   8,\n",
       "   9,\n",
       "   11,\n",
       "   12,\n",
       "   13,\n",
       "   14,\n",
       "   15,\n",
       "   16,\n",
       "   17,\n",
       "   18,\n",
       "   19,\n",
       "   20,\n",
       "   21,\n",
       "   22,\n",
       "   23,\n",
       "   24,\n",
       "   26,\n",
       "   27,\n",
       "   28,\n",
       "   29,\n",
       "   30,\n",
       "   31),\n",
       "  'cv_scores': array([0.44231625, 0.65749679, 0.69107704, 0.7002917 , 0.66073543]),\n",
       "  'avg_score': 0.6303834404754113,\n",
       "  'feature_names': ('TotalPop',\n",
       "   'Women',\n",
       "   'Hispanic',\n",
       "   'Black',\n",
       "   'Native',\n",
       "   'Pacific',\n",
       "   'Citizen',\n",
       "   'Income',\n",
       "   'IncomePerCap',\n",
       "   'IncomePerCapErr',\n",
       "   'Poverty',\n",
       "   'ChildPoverty',\n",
       "   'Professional',\n",
       "   'Service',\n",
       "   'Office',\n",
       "   'Construction',\n",
       "   'Production',\n",
       "   'Drive',\n",
       "   'Carpool',\n",
       "   'Transit',\n",
       "   'Walk',\n",
       "   'OtherTransp',\n",
       "   'MeanCommute',\n",
       "   'Employed',\n",
       "   'PrivateWork',\n",
       "   'PublicWork',\n",
       "   'SelfEmployed',\n",
       "   'FamilyWork'),\n",
       "  'ci_bound': 0.12273892213587329,\n",
       "  'std_dev': 0.09549505126630094,\n",
       "  'std_err': 0.04774752563315047},\n",
       " 27: {'feature_idx': (0,\n",
       "   1,\n",
       "   2,\n",
       "   4,\n",
       "   5,\n",
       "   7,\n",
       "   8,\n",
       "   9,\n",
       "   11,\n",
       "   12,\n",
       "   13,\n",
       "   14,\n",
       "   15,\n",
       "   16,\n",
       "   17,\n",
       "   18,\n",
       "   19,\n",
       "   21,\n",
       "   22,\n",
       "   23,\n",
       "   24,\n",
       "   26,\n",
       "   27,\n",
       "   28,\n",
       "   29,\n",
       "   30,\n",
       "   31),\n",
       "  'cv_scores': array([0.44277544, 0.65960232, 0.69104883, 0.69823481, 0.66728322]),\n",
       "  'avg_score': 0.6317889218847761,\n",
       "  'feature_names': ('TotalPop',\n",
       "   'Women',\n",
       "   'Hispanic',\n",
       "   'Black',\n",
       "   'Native',\n",
       "   'Pacific',\n",
       "   'Citizen',\n",
       "   'Income',\n",
       "   'IncomePerCap',\n",
       "   'IncomePerCapErr',\n",
       "   'Poverty',\n",
       "   'ChildPoverty',\n",
       "   'Professional',\n",
       "   'Service',\n",
       "   'Office',\n",
       "   'Construction',\n",
       "   'Production',\n",
       "   'Carpool',\n",
       "   'Transit',\n",
       "   'Walk',\n",
       "   'OtherTransp',\n",
       "   'MeanCommute',\n",
       "   'Employed',\n",
       "   'PrivateWork',\n",
       "   'PublicWork',\n",
       "   'SelfEmployed',\n",
       "   'FamilyWork'),\n",
       "  'ci_bound': 0.12285971927462033,\n",
       "  'std_dev': 0.09558903554412197,\n",
       "  'std_err': 0.047794517772060986},\n",
       " 26: {'feature_idx': (0,\n",
       "   1,\n",
       "   2,\n",
       "   4,\n",
       "   5,\n",
       "   7,\n",
       "   8,\n",
       "   9,\n",
       "   11,\n",
       "   12,\n",
       "   13,\n",
       "   14,\n",
       "   15,\n",
       "   16,\n",
       "   17,\n",
       "   18,\n",
       "   19,\n",
       "   21,\n",
       "   23,\n",
       "   24,\n",
       "   26,\n",
       "   27,\n",
       "   28,\n",
       "   29,\n",
       "   30,\n",
       "   31),\n",
       "  'cv_scores': array([0.44536802, 0.65985812, 0.70320067, 0.69849522, 0.66811241]),\n",
       "  'avg_score': 0.6350068844498937,\n",
       "  'feature_names': ('TotalPop',\n",
       "   'Women',\n",
       "   'Hispanic',\n",
       "   'Black',\n",
       "   'Native',\n",
       "   'Pacific',\n",
       "   'Citizen',\n",
       "   'Income',\n",
       "   'IncomePerCap',\n",
       "   'IncomePerCapErr',\n",
       "   'Poverty',\n",
       "   'ChildPoverty',\n",
       "   'Professional',\n",
       "   'Service',\n",
       "   'Office',\n",
       "   'Construction',\n",
       "   'Production',\n",
       "   'Carpool',\n",
       "   'Walk',\n",
       "   'OtherTransp',\n",
       "   'MeanCommute',\n",
       "   'Employed',\n",
       "   'PrivateWork',\n",
       "   'PublicWork',\n",
       "   'SelfEmployed',\n",
       "   'FamilyWork'),\n",
       "  'ci_bound': 0.12375905954857355,\n",
       "  'std_dev': 0.09628875283080256,\n",
       "  'std_err': 0.04814437641540127},\n",
       " 25: {'feature_idx': (0,\n",
       "   1,\n",
       "   2,\n",
       "   4,\n",
       "   5,\n",
       "   8,\n",
       "   9,\n",
       "   11,\n",
       "   12,\n",
       "   13,\n",
       "   14,\n",
       "   15,\n",
       "   16,\n",
       "   17,\n",
       "   18,\n",
       "   19,\n",
       "   21,\n",
       "   23,\n",
       "   24,\n",
       "   26,\n",
       "   27,\n",
       "   28,\n",
       "   29,\n",
       "   30,\n",
       "   31),\n",
       "  'cv_scores': array([0.44496568, 0.65985768, 0.70328711, 0.69859038, 0.66891768]),\n",
       "  'avg_score': 0.6351237086102752,\n",
       "  'feature_names': ('TotalPop',\n",
       "   'Women',\n",
       "   'Hispanic',\n",
       "   'Black',\n",
       "   'Native',\n",
       "   'Citizen',\n",
       "   'Income',\n",
       "   'IncomePerCap',\n",
       "   'IncomePerCapErr',\n",
       "   'Poverty',\n",
       "   'ChildPoverty',\n",
       "   'Professional',\n",
       "   'Service',\n",
       "   'Office',\n",
       "   'Construction',\n",
       "   'Production',\n",
       "   'Carpool',\n",
       "   'Walk',\n",
       "   'OtherTransp',\n",
       "   'MeanCommute',\n",
       "   'Employed',\n",
       "   'PrivateWork',\n",
       "   'PublicWork',\n",
       "   'SelfEmployed',\n",
       "   'FamilyWork'),\n",
       "  'ci_bound': 0.12406639025210438,\n",
       "  'std_dev': 0.09652786655918365,\n",
       "  'std_err': 0.04826393327959182},\n",
       " 24: {'feature_idx': (0,\n",
       "   1,\n",
       "   2,\n",
       "   4,\n",
       "   5,\n",
       "   8,\n",
       "   9,\n",
       "   11,\n",
       "   12,\n",
       "   13,\n",
       "   14,\n",
       "   15,\n",
       "   16,\n",
       "   17,\n",
       "   18,\n",
       "   19,\n",
       "   21,\n",
       "   23,\n",
       "   24,\n",
       "   26,\n",
       "   27,\n",
       "   28,\n",
       "   29,\n",
       "   30),\n",
       "  'cv_scores': array([0.44493775, 0.65974965, 0.70323809, 0.69870161, 0.66947732]),\n",
       "  'avg_score': 0.6352208861948115,\n",
       "  'feature_names': ('TotalPop',\n",
       "   'Women',\n",
       "   'Hispanic',\n",
       "   'Black',\n",
       "   'Native',\n",
       "   'Citizen',\n",
       "   'Income',\n",
       "   'IncomePerCap',\n",
       "   'IncomePerCapErr',\n",
       "   'Poverty',\n",
       "   'ChildPoverty',\n",
       "   'Professional',\n",
       "   'Service',\n",
       "   'Office',\n",
       "   'Construction',\n",
       "   'Production',\n",
       "   'Carpool',\n",
       "   'Walk',\n",
       "   'OtherTransp',\n",
       "   'MeanCommute',\n",
       "   'Employed',\n",
       "   'PrivateWork',\n",
       "   'PublicWork',\n",
       "   'SelfEmployed'),\n",
       "  'ci_bound': 0.1241340566083654,\n",
       "  'std_dev': 0.09658051328320325,\n",
       "  'std_err': 0.048290256641601616},\n",
       " 23: {'feature_idx': (0,\n",
       "   1,\n",
       "   2,\n",
       "   4,\n",
       "   5,\n",
       "   8,\n",
       "   9,\n",
       "   11,\n",
       "   12,\n",
       "   13,\n",
       "   14,\n",
       "   15,\n",
       "   16,\n",
       "   17,\n",
       "   18,\n",
       "   19,\n",
       "   21,\n",
       "   23,\n",
       "   24,\n",
       "   26,\n",
       "   27,\n",
       "   28,\n",
       "   29),\n",
       "  'cv_scores': array([0.44659146, 0.65909641, 0.709713  , 0.69953524, 0.67018929]),\n",
       "  'avg_score': 0.6370250784693454,\n",
       "  'feature_names': ('TotalPop',\n",
       "   'Women',\n",
       "   'Hispanic',\n",
       "   'Black',\n",
       "   'Native',\n",
       "   'Citizen',\n",
       "   'Income',\n",
       "   'IncomePerCap',\n",
       "   'IncomePerCapErr',\n",
       "   'Poverty',\n",
       "   'ChildPoverty',\n",
       "   'Professional',\n",
       "   'Service',\n",
       "   'Office',\n",
       "   'Construction',\n",
       "   'Production',\n",
       "   'Carpool',\n",
       "   'Walk',\n",
       "   'OtherTransp',\n",
       "   'MeanCommute',\n",
       "   'Employed',\n",
       "   'PrivateWork',\n",
       "   'PublicWork'),\n",
       "  'ci_bound': 0.12467060035822788,\n",
       "  'std_dev': 0.0969979625487509,\n",
       "  'std_err': 0.04849898127437544},\n",
       " 22: {'feature_idx': (0,\n",
       "   1,\n",
       "   2,\n",
       "   4,\n",
       "   5,\n",
       "   8,\n",
       "   9,\n",
       "   12,\n",
       "   13,\n",
       "   14,\n",
       "   15,\n",
       "   16,\n",
       "   17,\n",
       "   18,\n",
       "   19,\n",
       "   21,\n",
       "   23,\n",
       "   24,\n",
       "   26,\n",
       "   27,\n",
       "   28,\n",
       "   29),\n",
       "  'cv_scores': array([0.44117805, 0.65932656, 0.71137225, 0.70439573, 0.67011251]),\n",
       "  'avg_score': 0.6372770173677115,\n",
       "  'feature_names': ('TotalPop',\n",
       "   'Women',\n",
       "   'Hispanic',\n",
       "   'Black',\n",
       "   'Native',\n",
       "   'Citizen',\n",
       "   'Income',\n",
       "   'IncomePerCapErr',\n",
       "   'Poverty',\n",
       "   'ChildPoverty',\n",
       "   'Professional',\n",
       "   'Service',\n",
       "   'Office',\n",
       "   'Construction',\n",
       "   'Production',\n",
       "   'Carpool',\n",
       "   'Walk',\n",
       "   'OtherTransp',\n",
       "   'MeanCommute',\n",
       "   'Employed',\n",
       "   'PrivateWork',\n",
       "   'PublicWork'),\n",
       "  'ci_bound': 0.12854731857742835,\n",
       "  'std_dev': 0.10001418102814838,\n",
       "  'std_err': 0.05000709051407419},\n",
       " 21: {'feature_idx': (0,\n",
       "   1,\n",
       "   2,\n",
       "   4,\n",
       "   5,\n",
       "   8,\n",
       "   9,\n",
       "   12,\n",
       "   13,\n",
       "   14,\n",
       "   15,\n",
       "   16,\n",
       "   17,\n",
       "   18,\n",
       "   21,\n",
       "   23,\n",
       "   24,\n",
       "   26,\n",
       "   27,\n",
       "   28,\n",
       "   29),\n",
       "  'cv_scores': array([0.44117786, 0.65936775, 0.7116242 , 0.7045474 , 0.67011463]),\n",
       "  'avg_score': 0.6373663689088603,\n",
       "  'feature_names': ('TotalPop',\n",
       "   'Women',\n",
       "   'Hispanic',\n",
       "   'Black',\n",
       "   'Native',\n",
       "   'Citizen',\n",
       "   'Income',\n",
       "   'IncomePerCapErr',\n",
       "   'Poverty',\n",
       "   'ChildPoverty',\n",
       "   'Professional',\n",
       "   'Service',\n",
       "   'Office',\n",
       "   'Construction',\n",
       "   'Carpool',\n",
       "   'Walk',\n",
       "   'OtherTransp',\n",
       "   'MeanCommute',\n",
       "   'Employed',\n",
       "   'PrivateWork',\n",
       "   'PublicWork'),\n",
       "  'ci_bound': 0.12862411312921243,\n",
       "  'std_dev': 0.10007392979839971,\n",
       "  'std_err': 0.05003696489919986},\n",
       " 20: {'feature_idx': (0,\n",
       "   1,\n",
       "   2,\n",
       "   4,\n",
       "   5,\n",
       "   8,\n",
       "   9,\n",
       "   12,\n",
       "   13,\n",
       "   14,\n",
       "   15,\n",
       "   17,\n",
       "   18,\n",
       "   21,\n",
       "   23,\n",
       "   24,\n",
       "   26,\n",
       "   27,\n",
       "   28,\n",
       "   29),\n",
       "  'cv_scores': array([0.43917728, 0.65981491, 0.7117357 , 0.704917  , 0.67314021]),\n",
       "  'avg_score': 0.6377570200749807,\n",
       "  'feature_names': ('TotalPop',\n",
       "   'Women',\n",
       "   'Hispanic',\n",
       "   'Black',\n",
       "   'Native',\n",
       "   'Citizen',\n",
       "   'Income',\n",
       "   'IncomePerCapErr',\n",
       "   'Poverty',\n",
       "   'ChildPoverty',\n",
       "   'Professional',\n",
       "   'Office',\n",
       "   'Construction',\n",
       "   'Carpool',\n",
       "   'Walk',\n",
       "   'OtherTransp',\n",
       "   'MeanCommute',\n",
       "   'Employed',\n",
       "   'PrivateWork',\n",
       "   'PublicWork'),\n",
       "  'ci_bound': 0.1300060727942953,\n",
       "  'std_dev': 0.10114914136754612,\n",
       "  'std_err': 0.05057457068377306},\n",
       " 19: {'feature_idx': (0,\n",
       "   1,\n",
       "   2,\n",
       "   4,\n",
       "   5,\n",
       "   8,\n",
       "   9,\n",
       "   12,\n",
       "   13,\n",
       "   14,\n",
       "   15,\n",
       "   18,\n",
       "   21,\n",
       "   23,\n",
       "   24,\n",
       "   26,\n",
       "   27,\n",
       "   28,\n",
       "   29),\n",
       "  'cv_scores': array([0.44117215, 0.65950971, 0.7118888 , 0.70483953, 0.67312569]),\n",
       "  'avg_score': 0.638107175643766,\n",
       "  'feature_names': ('TotalPop',\n",
       "   'Women',\n",
       "   'Hispanic',\n",
       "   'Black',\n",
       "   'Native',\n",
       "   'Citizen',\n",
       "   'Income',\n",
       "   'IncomePerCapErr',\n",
       "   'Poverty',\n",
       "   'ChildPoverty',\n",
       "   'Professional',\n",
       "   'Construction',\n",
       "   'Carpool',\n",
       "   'Walk',\n",
       "   'OtherTransp',\n",
       "   'MeanCommute',\n",
       "   'Employed',\n",
       "   'PrivateWork',\n",
       "   'PublicWork'),\n",
       "  'ci_bound': 0.1289969873545133,\n",
       "  'std_dev': 0.10036403861344674,\n",
       "  'std_err': 0.05018201930672337},\n",
       " 18: {'feature_idx': (0,\n",
       "   1,\n",
       "   3,\n",
       "   5,\n",
       "   8,\n",
       "   11,\n",
       "   12,\n",
       "   13,\n",
       "   14,\n",
       "   15,\n",
       "   16,\n",
       "   18,\n",
       "   21,\n",
       "   23,\n",
       "   24,\n",
       "   26,\n",
       "   27,\n",
       "   30),\n",
       "  'cv_scores': array([0.45525343, 0.67707169, 0.705565  , 0.69298198, 0.679099  ]),\n",
       "  'avg_score': 0.6419942209204663,\n",
       "  'feature_names': ('TotalPop',\n",
       "   'Women',\n",
       "   'White',\n",
       "   'Native',\n",
       "   'Citizen',\n",
       "   'IncomePerCap',\n",
       "   'IncomePerCapErr',\n",
       "   'Poverty',\n",
       "   'ChildPoverty',\n",
       "   'Professional',\n",
       "   'Service',\n",
       "   'Construction',\n",
       "   'Carpool',\n",
       "   'Walk',\n",
       "   'OtherTransp',\n",
       "   'MeanCommute',\n",
       "   'Employed',\n",
       "   'SelfEmployed'),\n",
       "  'ci_bound': 0.12073570836460636,\n",
       "  'std_dev': 0.0939364828964995,\n",
       "  'std_err': 0.046968241448249744},\n",
       " 17: {'feature_idx': (0,\n",
       "   1,\n",
       "   3,\n",
       "   5,\n",
       "   8,\n",
       "   11,\n",
       "   12,\n",
       "   13,\n",
       "   15,\n",
       "   16,\n",
       "   18,\n",
       "   21,\n",
       "   23,\n",
       "   24,\n",
       "   26,\n",
       "   27,\n",
       "   30),\n",
       "  'cv_scores': array([0.45158596, 0.67868116, 0.70741991, 0.69468707, 0.67700873]),\n",
       "  'avg_score': 0.6418765674306322,\n",
       "  'feature_names': ('TotalPop',\n",
       "   'Women',\n",
       "   'White',\n",
       "   'Native',\n",
       "   'Citizen',\n",
       "   'IncomePerCap',\n",
       "   'IncomePerCapErr',\n",
       "   'Poverty',\n",
       "   'Professional',\n",
       "   'Service',\n",
       "   'Construction',\n",
       "   'Carpool',\n",
       "   'Walk',\n",
       "   'OtherTransp',\n",
       "   'MeanCommute',\n",
       "   'Employed',\n",
       "   'SelfEmployed'),\n",
       "  'ci_bound': 0.12312555878066433,\n",
       "  'std_dev': 0.09579586771126596,\n",
       "  'std_err': 0.04789793385563298},\n",
       " 16: {'feature_idx': (0,\n",
       "   1,\n",
       "   3,\n",
       "   5,\n",
       "   8,\n",
       "   11,\n",
       "   12,\n",
       "   13,\n",
       "   15,\n",
       "   16,\n",
       "   18,\n",
       "   23,\n",
       "   24,\n",
       "   26,\n",
       "   27,\n",
       "   30),\n",
       "  'cv_scores': array([0.44891691, 0.68145338, 0.70508439, 0.69622434, 0.67578612]),\n",
       "  'avg_score': 0.6414930269110394,\n",
       "  'feature_names': ('TotalPop',\n",
       "   'Women',\n",
       "   'White',\n",
       "   'Native',\n",
       "   'Citizen',\n",
       "   'IncomePerCap',\n",
       "   'IncomePerCapErr',\n",
       "   'Poverty',\n",
       "   'Professional',\n",
       "   'Service',\n",
       "   'Construction',\n",
       "   'Walk',\n",
       "   'OtherTransp',\n",
       "   'MeanCommute',\n",
       "   'Employed',\n",
       "   'SelfEmployed'),\n",
       "  'ci_bound': 0.12447800236601457,\n",
       "  'std_dev': 0.09684811476762213,\n",
       "  'std_err': 0.04842405738381106},\n",
       " 15: {'feature_idx': (0, 1, 3, 5, 8, 11, 12, 13, 15, 18, 23, 24, 26, 27, 30),\n",
       "  'cv_scores': array([0.44650816, 0.68179661, 0.70504185, 0.69623607, 0.67667758]),\n",
       "  'avg_score': 0.6412520549113477,\n",
       "  'feature_names': ('TotalPop',\n",
       "   'Women',\n",
       "   'White',\n",
       "   'Native',\n",
       "   'Citizen',\n",
       "   'IncomePerCap',\n",
       "   'IncomePerCapErr',\n",
       "   'Poverty',\n",
       "   'Professional',\n",
       "   'Construction',\n",
       "   'Walk',\n",
       "   'OtherTransp',\n",
       "   'MeanCommute',\n",
       "   'Employed',\n",
       "   'SelfEmployed'),\n",
       "  'ci_bound': 0.12582255457314656,\n",
       "  'std_dev': 0.09789422206362842,\n",
       "  'std_err': 0.04894711103181421},\n",
       " 14: {'feature_idx': (0, 1, 3, 5, 8, 9, 13, 15, 18, 23, 24, 26, 27, 30),\n",
       "  'cv_scores': array([0.44593638, 0.68004305, 0.70566408, 0.70008764, 0.67297552]),\n",
       "  'avg_score': 0.6409413349452204,\n",
       "  'feature_names': ('TotalPop',\n",
       "   'Women',\n",
       "   'White',\n",
       "   'Native',\n",
       "   'Citizen',\n",
       "   'Income',\n",
       "   'Poverty',\n",
       "   'Professional',\n",
       "   'Construction',\n",
       "   'Walk',\n",
       "   'OtherTransp',\n",
       "   'MeanCommute',\n",
       "   'Employed',\n",
       "   'SelfEmployed'),\n",
       "  'ci_bound': 0.12628515691693307,\n",
       "  'std_dev': 0.0982541424032164,\n",
       "  'std_err': 0.0491270712016082},\n",
       " 13: {'feature_idx': (0, 1, 3, 5, 8, 13, 15, 18, 23, 24, 26, 27, 30),\n",
       "  'cv_scores': array([0.43840349, 0.67964048, 0.70258617, 0.70122064, 0.67412758]),\n",
       "  'avg_score': 0.6391956709040889,\n",
       "  'feature_names': ('TotalPop',\n",
       "   'Women',\n",
       "   'White',\n",
       "   'Native',\n",
       "   'Citizen',\n",
       "   'Poverty',\n",
       "   'Professional',\n",
       "   'Construction',\n",
       "   'Walk',\n",
       "   'OtherTransp',\n",
       "   'MeanCommute',\n",
       "   'Employed',\n",
       "   'SelfEmployed'),\n",
       "  'ci_bound': 0.12985760738648755,\n",
       "  'std_dev': 0.1010336302364138,\n",
       "  'std_err': 0.0505168151182069},\n",
       " 12: {'feature_idx': (0, 1, 3, 5, 8, 13, 15, 18, 23, 26, 27, 30),\n",
       "  'cv_scores': array([0.42390131, 0.68418839, 0.70144197, 0.69968806, 0.67257125]),\n",
       "  'avg_score': 0.6363581960765103,\n",
       "  'feature_names': ('TotalPop',\n",
       "   'Women',\n",
       "   'White',\n",
       "   'Native',\n",
       "   'Citizen',\n",
       "   'Poverty',\n",
       "   'Professional',\n",
       "   'Construction',\n",
       "   'Walk',\n",
       "   'MeanCommute',\n",
       "   'Employed',\n",
       "   'SelfEmployed'),\n",
       "  'ci_bound': 0.13721178596944592,\n",
       "  'std_dev': 0.10675543101957291,\n",
       "  'std_err': 0.05337771550978645},\n",
       " 11: {'feature_idx': (0, 1, 3, 5, 13, 15, 18, 23, 26, 27, 30),\n",
       "  'cv_scores': array([0.42451339, 0.68218988, 0.69754214, 0.70220468, 0.66660509]),\n",
       "  'avg_score': 0.6346110360938975,\n",
       "  'feature_names': ('TotalPop',\n",
       "   'Women',\n",
       "   'White',\n",
       "   'Native',\n",
       "   'Poverty',\n",
       "   'Professional',\n",
       "   'Construction',\n",
       "   'Walk',\n",
       "   'MeanCommute',\n",
       "   'Employed',\n",
       "   'SelfEmployed'),\n",
       "  'ci_bound': 0.13597091440515346,\n",
       "  'std_dev': 0.10578999078606795,\n",
       "  'std_err': 0.052894995393033974},\n",
       " 10: {'feature_idx': (0, 1, 3, 5, 13, 15, 18, 23, 26, 27),\n",
       "  'cv_scores': array([0.41594902, 0.68200993, 0.69465809, 0.6989511 , 0.66565801]),\n",
       "  'avg_score': 0.6314452317825565,\n",
       "  'feature_names': ('TotalPop',\n",
       "   'Women',\n",
       "   'White',\n",
       "   'Native',\n",
       "   'Poverty',\n",
       "   'Professional',\n",
       "   'Construction',\n",
       "   'Walk',\n",
       "   'MeanCommute',\n",
       "   'Employed'),\n",
       "  'ci_bound': 0.13928525061937805,\n",
       "  'std_dev': 0.10836865695962912,\n",
       "  'std_err': 0.05418432847981456},\n",
       " 9: {'feature_idx': (0, 1, 3, 5, 15, 18, 23, 26, 27),\n",
       "  'cv_scores': array([0.45814943, 0.66961637, 0.68433256, 0.67455243, 0.63789315]),\n",
       "  'avg_score': 0.6249087900803072,\n",
       "  'feature_names': ('TotalPop',\n",
       "   'Women',\n",
       "   'White',\n",
       "   'Native',\n",
       "   'Professional',\n",
       "   'Construction',\n",
       "   'Walk',\n",
       "   'MeanCommute',\n",
       "   'Employed'),\n",
       "  'ci_bound': 0.10901770657672105,\n",
       "  'std_dev': 0.08481947940649037,\n",
       "  'std_err': 0.042409739703245186},\n",
       " 8: {'feature_idx': (0, 1, 3, 15, 18, 23, 26, 27),\n",
       "  'cv_scores': array([0.43370449, 0.66770975, 0.67961376, 0.65417628, 0.63588323]),\n",
       "  'avg_score': 0.6142175041221608,\n",
       "  'feature_names': ('TotalPop',\n",
       "   'Women',\n",
       "   'White',\n",
       "   'Professional',\n",
       "   'Construction',\n",
       "   'Walk',\n",
       "   'MeanCommute',\n",
       "   'Employed'),\n",
       "  'ci_bound': 0.11750279185988549,\n",
       "  'std_dev': 0.09142116402302736,\n",
       "  'std_err': 0.04571058201151367},\n",
       " 7: {'feature_idx': (1, 3, 15, 18, 23, 26, 27),\n",
       "  'cv_scores': array([0.40347656, 0.65454066, 0.66838917, 0.64947237, 0.63234429]),\n",
       "  'avg_score': 0.6016446115830201,\n",
       "  'feature_names': ('Women',\n",
       "   'White',\n",
       "   'Professional',\n",
       "   'Construction',\n",
       "   'Walk',\n",
       "   'MeanCommute',\n",
       "   'Employed'),\n",
       "  'ci_bound': 0.12821170880454674,\n",
       "  'std_dev': 0.09975306522307946,\n",
       "  'std_err': 0.04987653261153972},\n",
       " 6: {'feature_idx': (3, 15, 18, 23, 26, 27),\n",
       "  'cv_scores': array([0.44398772, 0.62458122, 0.65928449, 0.60355549, 0.60265617]),\n",
       "  'avg_score': 0.586813018236904,\n",
       "  'feature_names': ('White',\n",
       "   'Professional',\n",
       "   'Construction',\n",
       "   'Walk',\n",
       "   'MeanCommute',\n",
       "   'Employed'),\n",
       "  'ci_bound': 0.0955083323837636,\n",
       "  'std_dev': 0.07430872732652682,\n",
       "  'std_err': 0.03715436366326341}}"
      ]
     },
     "execution_count": 68,
     "metadata": {},
     "output_type": "execute_result"
    }
   ],
   "source": [
    "sfs1.fit(X,y)\n",
    "sfs1.get_metric_dict()"
   ]
  },
  {
   "cell_type": "code",
   "execution_count": 69,
   "metadata": {},
   "outputs": [
    {
     "data": {
      "image/png": "[encoded data removed]",
      "text/plain": [
       "<Figure size 432x288 with 1 Axes>"
      ]
     },
     "metadata": {
      "needs_background": "light"
     },
     "output_type": "display_data"
    }
   ],
   "source": [
    "fig=plot_sfs(sfs1.get_metric_dict(), kind='std_err')\n",
    "plt.title('Sequential Forward Selection (w. StandardError)')\n",
    "plt.show()"
   ]
  },
  {
   "cell_type": "code",
   "execution_count": 70,
   "metadata": {},
   "outputs": [
    {
     "data": {
      "text/plain": [
       "('White', 'Professional', 'Construction', 'Walk', 'MeanCommute', 'Employed')"
      ]
     },
     "execution_count": 70,
     "metadata": {},
     "output_type": "execute_result"
    }
   ],
   "source": [
    "sfs1.k_feature_names_"
   ]
  },
  {
   "cell_type": "code",
   "execution_count": 91,
   "metadata": {},
   "outputs": [
    {
     "data": {
      "text/html": [
       "<table class=\"simpletable\">\n",
       "<caption>OLS Regression Results</caption>\n",
       "<tr>\n",
       "  <th>Dep. Variable:</th>      <td>Unemployment</td>   <th>  R-squared:         </th> <td>   0.618</td> \n",
       "</tr>\n",
       "<tr>\n",
       "  <th>Model:</th>                   <td>OLS</td>       <th>  Adj. R-squared:    </th> <td>   0.618</td> \n",
       "</tr>\n",
       "<tr>\n",
       "  <th>Method:</th>             <td>Least Squares</td>  <th>  F-statistic:       </th> <td>   867.6</td> \n",
       "</tr>\n",
       "<tr>\n",
       "  <th>Date:</th>             <td>Tue, 06 Oct 2020</td> <th>  Prob (F-statistic):</th>  <td>  0.00</td>  \n",
       "</tr>\n",
       "<tr>\n",
       "  <th>Time:</th>                 <td>12:47:50</td>     <th>  Log-Likelihood:    </th> <td> -7550.3</td> \n",
       "</tr>\n",
       "<tr>\n",
       "  <th>No. Observations:</th>      <td>  3218</td>      <th>  AIC:               </th> <td>1.511e+04</td>\n",
       "</tr>\n",
       "<tr>\n",
       "  <th>Df Residuals:</th>          <td>  3211</td>      <th>  BIC:               </th> <td>1.516e+04</td>\n",
       "</tr>\n",
       "<tr>\n",
       "  <th>Df Model:</th>              <td>     6</td>      <th>                     </th>     <td> </td>    \n",
       "</tr>\n",
       "<tr>\n",
       "  <th>Covariance Type:</th>      <td>nonrobust</td>    <th>                     </th>     <td> </td>    \n",
       "</tr>\n",
       "</table>\n",
       "<table class=\"simpletable\">\n",
       "<tr>\n",
       "        <td></td>          <th>coef</th>     <th>std err</th>      <th>t</th>      <th>P>|t|</th>  <th>[0.025</th>    <th>0.975]</th>  \n",
       "</tr>\n",
       "<tr>\n",
       "  <th>const</th>        <td>   27.2226</td> <td>    0.472</td> <td>   57.695</td> <td> 0.000</td> <td>   26.298</td> <td>   28.148</td>\n",
       "</tr>\n",
       "<tr>\n",
       "  <th>White</th>        <td>   -0.0488</td> <td>    0.002</td> <td>  -22.113</td> <td> 0.000</td> <td>   -0.053</td> <td>   -0.045</td>\n",
       "</tr>\n",
       "<tr>\n",
       "  <th>Professional</th> <td>   -0.0736</td> <td>    0.009</td> <td>   -8.503</td> <td> 0.000</td> <td>   -0.091</td> <td>   -0.057</td>\n",
       "</tr>\n",
       "<tr>\n",
       "  <th>Construction</th> <td>   -0.2140</td> <td>    0.012</td> <td>  -18.232</td> <td> 0.000</td> <td>   -0.237</td> <td>   -0.191</td>\n",
       "</tr>\n",
       "<tr>\n",
       "  <th>Walk</th>         <td>    0.1353</td> <td>    0.014</td> <td>    9.816</td> <td> 0.000</td> <td>    0.108</td> <td>    0.162</td>\n",
       "</tr>\n",
       "<tr>\n",
       "  <th>MeanCommute</th>  <td>    0.1197</td> <td>    0.009</td> <td>   13.362</td> <td> 0.000</td> <td>    0.102</td> <td>    0.137</td>\n",
       "</tr>\n",
       "<tr>\n",
       "  <th>Employed</th>     <td>  -31.8322</td> <td>    0.835</td> <td>  -38.103</td> <td> 0.000</td> <td>  -33.470</td> <td>  -30.194</td>\n",
       "</tr>\n",
       "</table>\n",
       "<table class=\"simpletable\">\n",
       "<tr>\n",
       "  <th>Omnibus:</th>       <td>433.659</td> <th>  Durbin-Watson:     </th> <td>   1.726</td>\n",
       "</tr>\n",
       "<tr>\n",
       "  <th>Prob(Omnibus):</th> <td> 0.000</td>  <th>  Jarque-Bera (JB):  </th> <td>4872.785</td>\n",
       "</tr>\n",
       "<tr>\n",
       "  <th>Skew:</th>          <td> 0.197</td>  <th>  Prob(JB):          </th> <td>    0.00</td>\n",
       "</tr>\n",
       "<tr>\n",
       "  <th>Kurtosis:</th>      <td> 9.015</td>  <th>  Cond. No.          </th> <td>1.72e+03</td>\n",
       "</tr>\n",
       "</table><br/><br/>Notes:<br/>[1] Standard Errors assume that the covariance matrix of the errors is correctly specified.<br/>[2] The condition number is large, 1.72e+03. This might indicate that there are<br/>strong multicollinearity or other numerical problems."
      ],
      "text/plain": [
       "<class 'statsmodels.iolib.summary.Summary'>\n",
       "\"\"\"\n",
       "                            OLS Regression Results                            \n",
       "==============================================================================\n",
       "Dep. Variable:           Unemployment   R-squared:                       0.618\n",
       "Model:                            OLS   Adj. R-squared:                  0.618\n",
       "Method:                 Least Squares   F-statistic:                     867.6\n",
       "Date:                Tue, 06 Oct 2020   Prob (F-statistic):               0.00\n",
       "Time:                        12:47:50   Log-Likelihood:                -7550.3\n",
       "No. Observations:                3218   AIC:                         1.511e+04\n",
       "Df Residuals:                    3211   BIC:                         1.516e+04\n",
       "Df Model:                           6                                         \n",
       "Covariance Type:            nonrobust                                         \n",
       "================================================================================\n",
       "                   coef    std err          t      P>|t|      [0.025      0.975]\n",
       "--------------------------------------------------------------------------------\n",
       "const           27.2226      0.472     57.695      0.000      26.298      28.148\n",
       "White           -0.0488      0.002    -22.113      0.000      -0.053      -0.045\n",
       "Professional    -0.0736      0.009     -8.503      0.000      -0.091      -0.057\n",
       "Construction    -0.2140      0.012    -18.232      0.000      -0.237      -0.191\n",
       "Walk             0.1353      0.014      9.816      0.000       0.108       0.162\n",
       "MeanCommute      0.1197      0.009     13.362      0.000       0.102       0.137\n",
       "Employed       -31.8322      0.835    -38.103      0.000     -33.470     -30.194\n",
       "==============================================================================\n",
       "Omnibus:                      433.659   Durbin-Watson:                   1.726\n",
       "Prob(Omnibus):                  0.000   Jarque-Bera (JB):             4872.785\n",
       "Skew:                           0.197   Prob(JB):                         0.00\n",
       "Kurtosis:                       9.015   Cond. No.                     1.72e+03\n",
       "==============================================================================\n",
       "\n",
       "Notes:\n",
       "[1] Standard Errors assume that the covariance matrix of the errors is correctly specified.\n",
       "[2] The condition number is large, 1.72e+03. This might indicate that there are\n",
       "strong multicollinearity or other numerical problems.\n",
       "\"\"\""
      ]
     },
     "execution_count": 91,
     "metadata": {},
     "output_type": "execute_result"
    }
   ],
   "source": [
    "model_3=OLS(y, add_constant(X[list(sfs1.k_feature_names_)])).fit().summary()\n",
    "model_3"
   ]
  },
  {
   "cell_type": "markdown",
   "metadata": {},
   "source": [
    "# Embeded"
   ]
  },
  {
   "cell_type": "code",
   "execution_count": 72,
   "metadata": {},
   "outputs": [],
   "source": [
    "from sklearn.linear_model import RidgeCV, LassoCV"
   ]
  },
  {
   "cell_type": "code",
   "execution_count": 73,
   "metadata": {},
   "outputs": [
    {
     "data": {
      "text/plain": [
       "LassoCV()"
      ]
     },
     "execution_count": 73,
     "metadata": {},
     "output_type": "execute_result"
    }
   ],
   "source": [
    "selector4=LassoCV()\n",
    "selector4.fit(X,y)"
   ]
  },
  {
   "cell_type": "code",
   "execution_count": 74,
   "metadata": {},
   "outputs": [
    {
     "name": "stdout",
     "output_type": "stream",
     "text": [
      "best alpha is 0.09493082767478582\n",
      "best R2 is 0.6333230887766529\n"
     ]
    }
   ],
   "source": [
    "print('best alpha is', selector4.alpha_)\n",
    "print('best R2 is', selector4.score(X,y))"
   ]
  },
  {
   "cell_type": "code",
   "execution_count": 75,
   "metadata": {},
   "outputs": [],
   "source": [
    "coef=pd.Series(selector4.coef_, index=X.columns)"
   ]
  },
  {
   "cell_type": "code",
   "execution_count": 76,
   "metadata": {},
   "outputs": [],
   "source": [
    "sns.set()"
   ]
  },
  {
   "cell_type": "code",
   "execution_count": 77,
   "metadata": {},
   "outputs": [
    {
     "data": {
      "text/plain": [
       "<AxesSubplot:>"
      ]
     },
     "execution_count": 77,
     "metadata": {},
     "output_type": "execute_result"
    },
    {
     "data": {
      "image/png": "[encoded data removed]",
      "text/plain": [
       "<Figure size 864x864 with 1 Axes>"
      ]
     },
     "metadata": {},
     "output_type": "display_data"
    }
   ],
   "source": [
    "coef.sort_values().plot.barh(figsize=(12,12))"
   ]
  },
  {
   "cell_type": "code",
   "execution_count": 78,
   "metadata": {},
   "outputs": [
    {
     "data": {
      "text/plain": [
       "-0.0"
      ]
     },
     "execution_count": 78,
     "metadata": {},
     "output_type": "execute_result"
    }
   ],
   "source": [
    "coef.Pacific"
   ]
  },
  {
   "cell_type": "code",
   "execution_count": 79,
   "metadata": {},
   "outputs": [],
   "source": [
    "selector5=RidgeCV()"
   ]
  },
  {
   "cell_type": "code",
   "execution_count": 81,
   "metadata": {},
   "outputs": [
    {
     "data": {
      "text/plain": [
       "RidgeCV(alphas=array([ 0.1,  1. , 10. ]))"
      ]
     },
     "execution_count": 81,
     "metadata": {},
     "output_type": "execute_result"
    }
   ],
   "source": [
    "selector5.fit(X,y)"
   ]
  },
  {
   "cell_type": "code",
   "execution_count": 82,
   "metadata": {},
   "outputs": [
    {
     "name": "stdout",
     "output_type": "stream",
     "text": [
      "best alpha is 0.1\n",
      "best R2 is 0.6888126632027126\n"
     ]
    }
   ],
   "source": [
    "print('best alpha is', selector5.alpha_)\n",
    "print('best R2 is', selector5.score(X,y))"
   ]
  },
  {
   "cell_type": "code",
   "execution_count": 83,
   "metadata": {},
   "outputs": [],
   "source": [
    "coef=pd.Series(selector5.coef_, index=X.columns)"
   ]
  },
  {
   "cell_type": "code",
   "execution_count": 84,
   "metadata": {},
   "outputs": [
    {
     "data": {
      "text/plain": [
       "<AxesSubplot:>"
      ]
     },
     "execution_count": 84,
     "metadata": {},
     "output_type": "execute_result"
    },
    {
     "data": {
      "image/png": "[encoded data removed]",
      "text/plain": [
       "<Figure size 864x864 with 1 Axes>"
      ]
     },
     "metadata": {},
     "output_type": "display_data"
    }
   ],
   "source": [
    "coef.sort_values().plot.barh(figsize=(12,12))"
   ]
  },
  {
   "cell_type": "code",
   "execution_count": 85,
   "metadata": {},
   "outputs": [
    {
     "data": {
      "text/plain": [
       "array([ 7.97142939,  8.19673103, 12.38209633, ..., 18.91393149,\n",
       "       20.71380373, 20.17808198])"
      ]
     },
     "execution_count": 85,
     "metadata": {},
     "output_type": "execute_result"
    }
   ],
   "source": [
    "selector5.predict(X)"
   ]
  },
  {
   "cell_type": "code",
   "execution_count": 86,
   "metadata": {},
   "outputs": [
    {
     "data": {
      "text/plain": [
       "<matplotlib.collections.PathCollection at 0x11ebeea00>"
      ]
     },
     "execution_count": 86,
     "metadata": {},
     "output_type": "execute_result"
    },
    {
     "data": {
      "image/png": "[encoded data removed]",
      "text/plain": [
       "<Figure size 432x288 with 1 Axes>"
      ]
     },
     "metadata": {},
     "output_type": "display_data"
    }
   ],
   "source": [
    "plt.scatter(y, selector5.predict(X))"
   ]
  },
  {
   "cell_type": "code",
   "execution_count": 87,
   "metadata": {},
   "outputs": [
    {
     "data": {
      "text/plain": [
       "<matplotlib.collections.PathCollection at 0x11ec44cd0>"
      ]
     },
     "execution_count": 87,
     "metadata": {},
     "output_type": "execute_result"
    },
    {
     "data": {
      "image/png": "[encoded data removed]",
      "text/plain": [
       "<Figure size 432x288 with 1 Axes>"
      ]
     },
     "metadata": {},
     "output_type": "display_data"
    }
   ],
   "source": [
    "plt.scatter(y, selector4.predict(X))"
   ]
  },
  {
   "cell_type": "code",
   "execution_count": 88,
   "metadata": {},
   "outputs": [],
   "source": [
    "def rmse(actual, pred):\n",
    "    return ((actual-pred)**2).mean()**0.5"
   ]
  },
  {
   "cell_type": "code",
   "execution_count": 89,
   "metadata": {},
   "outputs": [
    {
     "data": {
      "text/plain": [
       "2.282912384869487"
      ]
     },
     "execution_count": 89,
     "metadata": {},
     "output_type": "execute_result"
    }
   ],
   "source": [
    "rmse(y, selector5.predict(X))"
   ]
  },
  {
   "cell_type": "code",
   "execution_count": 90,
   "metadata": {},
   "outputs": [
    {
     "data": {
      "text/plain": [
       "2.478107079544108"
      ]
     },
     "execution_count": 90,
     "metadata": {},
     "output_type": "execute_result"
    }
   ],
   "source": [
    "rmse(y, selector4.predict(X))"
   ]
  },
  {
   "cell_type": "code",
   "execution_count": null,
   "metadata": {},
   "outputs": [],
   "source": []
  },
  {
   "cell_type": "code",
   "execution_count": null,
   "metadata": {},
   "outputs": [],
   "source": []
  }
 ],
 "metadata": {
  "kernelspec": {
   "display_name": "Python 3",
   "language": "python",
   "name": "python3"
  },
  "language_info": {
   "codemirror_mode": {
    "name": "ipython",
    "version": 3
   },
   "file_extension": ".py",
   "mimetype": "text/x-python",
   "name": "python",
   "nbconvert_exporter": "python",
   "pygments_lexer": "ipython3",
   "version": "3.8.5"
  },
  "toc": {
   "base_numbering": 1,
   "nav_menu": {},
   "number_sections": true,
   "sideBar": true,
   "skip_h1_title": false,
   "title_cell": "Table of Contents",
   "title_sidebar": "Contents",
   "toc_cell": false,
   "toc_position": {},
   "toc_section_display": true,
   "toc_window_display": false
  }
 },
 "nbformat": 4,
 "nbformat_minor": 4
}
