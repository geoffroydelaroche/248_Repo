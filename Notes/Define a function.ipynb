{
 "cells": [
  {
   "cell_type": "code",
   "execution_count": 1,
   "metadata": {},
   "outputs": [
    {
     "name": "stdout",
     "output_type": "stream",
     "text": [
      "1\n"
     ]
    }
   ],
   "source": [
    "x=1\n",
    "for i in range(5):\n",
    "    if x == 1:\n",
    "        print(x)\n",
    "    x +=1"
   ]
  },
  {
   "cell_type": "code",
   "execution_count": 2,
   "metadata": {},
   "outputs": [],
   "source": [
    "def foo():\n",
    "    pass"
   ]
  },
  {
   "cell_type": "code",
   "execution_count": 3,
   "metadata": {},
   "outputs": [],
   "source": [
    "foo()"
   ]
  },
  {
   "cell_type": "code",
   "execution_count": 4,
   "metadata": {},
   "outputs": [],
   "source": [
    "def foo():\n",
    "    return 'something'"
   ]
  },
  {
   "cell_type": "code",
   "execution_count": 5,
   "metadata": {},
   "outputs": [
    {
     "data": {
      "text/plain": [
       "'something'"
      ]
     },
     "execution_count": 5,
     "metadata": {},
     "output_type": "execute_result"
    }
   ],
   "source": [
    "foo()"
   ]
  },
  {
   "cell_type": "code",
   "execution_count": 6,
   "metadata": {},
   "outputs": [],
   "source": [
    "x=foo()"
   ]
  },
  {
   "cell_type": "code",
   "execution_count": 7,
   "metadata": {},
   "outputs": [
    {
     "data": {
      "text/plain": [
       "'something'"
      ]
     },
     "execution_count": 7,
     "metadata": {},
     "output_type": "execute_result"
    }
   ],
   "source": [
    "x"
   ]
  },
  {
   "cell_type": "code",
   "execution_count": 8,
   "metadata": {},
   "outputs": [],
   "source": [
    "def foo():\n",
    "    print('something')"
   ]
  },
  {
   "cell_type": "code",
   "execution_count": 9,
   "metadata": {},
   "outputs": [
    {
     "name": "stdout",
     "output_type": "stream",
     "text": [
      "something\n"
     ]
    }
   ],
   "source": [
    "foo()"
   ]
  },
  {
   "cell_type": "code",
   "execution_count": 12,
   "metadata": {},
   "outputs": [
    {
     "name": "stdout",
     "output_type": "stream",
     "text": [
      "something\n"
     ]
    }
   ],
   "source": [
    "x=foo()"
   ]
  },
  {
   "cell_type": "code",
   "execution_count": 13,
   "metadata": {},
   "outputs": [],
   "source": [
    "def power(x,order):\n",
    "    return x**order"
   ]
  },
  {
   "cell_type": "code",
   "execution_count": 14,
   "metadata": {},
   "outputs": [
    {
     "data": {
      "text/plain": [
       "4"
      ]
     },
     "execution_count": 14,
     "metadata": {},
     "output_type": "execute_result"
    }
   ],
   "source": [
    "power(2,2)"
   ]
  },
  {
   "cell_type": "code",
   "execution_count": 15,
   "metadata": {},
   "outputs": [],
   "source": [
    "def power(x,order=2):\n",
    "    return x**order"
   ]
  },
  {
   "cell_type": "code",
   "execution_count": 16,
   "metadata": {},
   "outputs": [
    {
     "data": {
      "text/plain": [
       "4"
      ]
     },
     "execution_count": 16,
     "metadata": {},
     "output_type": "execute_result"
    }
   ],
   "source": [
    "power(2)"
   ]
  },
  {
   "cell_type": "code",
   "execution_count": 17,
   "metadata": {},
   "outputs": [
    {
     "data": {
      "text/plain": [
       "1296"
      ]
     },
     "execution_count": 17,
     "metadata": {},
     "output_type": "execute_result"
    }
   ],
   "source": [
    "power(6,4)"
   ]
  },
  {
   "cell_type": "code",
   "execution_count": 18,
   "metadata": {},
   "outputs": [],
   "source": [
    "def foo(x,a=2,b=3):\n",
    "    return x**a+b"
   ]
  },
  {
   "cell_type": "code",
   "execution_count": 19,
   "metadata": {},
   "outputs": [
    {
     "data": {
      "text/plain": [
       "19"
      ]
     },
     "execution_count": 19,
     "metadata": {},
     "output_type": "execute_result"
    }
   ],
   "source": [
    "foo(4)"
   ]
  },
  {
   "cell_type": "code",
   "execution_count": 20,
   "metadata": {},
   "outputs": [
    {
     "data": {
      "text/plain": [
       "7"
      ]
     },
     "execution_count": 20,
     "metadata": {},
     "output_type": "execute_result"
    }
   ],
   "source": [
    "foo(4,1)"
   ]
  },
  {
   "cell_type": "code",
   "execution_count": 21,
   "metadata": {},
   "outputs": [
    {
     "data": {
      "text/plain": [
       "5"
      ]
     },
     "execution_count": 21,
     "metadata": {},
     "output_type": "execute_result"
    }
   ],
   "source": [
    "foo(4,1,1)"
   ]
  },
  {
   "cell_type": "code",
   "execution_count": 22,
   "metadata": {},
   "outputs": [
    {
     "data": {
      "text/plain": [
       "21"
      ]
     },
     "execution_count": 22,
     "metadata": {},
     "output_type": "execute_result"
    }
   ],
   "source": [
    "foo(4,b=5)"
   ]
  },
  {
   "cell_type": "code",
   "execution_count": 24,
   "metadata": {},
   "outputs": [],
   "source": [
    "?len"
   ]
  },
  {
   "cell_type": "code",
   "execution_count": 25,
   "metadata": {},
   "outputs": [],
   "source": [
    "?foo"
   ]
  },
  {
   "cell_type": "code",
   "execution_count": 26,
   "metadata": {},
   "outputs": [],
   "source": [
    "def power(x,order=2):\n",
    "    \n",
    "    \"\"\"\n",
    "    This function is calculating the value of a X^order.\n",
    "    By default value of order is 2.\n",
    "    \n",
    "    X - integer/float\n",
    "    power - integer/float\n",
    "    \"\"\"\n",
    "    \n",
    "    return x**order"
   ]
  },
  {
   "cell_type": "code",
   "execution_count": 27,
   "metadata": {},
   "outputs": [],
   "source": [
    "?power"
   ]
  },
  {
   "cell_type": "code",
   "execution_count": 28,
   "metadata": {},
   "outputs": [],
   "source": [
    "#progamming paradigmas"
   ]
  },
  {
   "cell_type": "code",
   "execution_count": 30,
   "metadata": {},
   "outputs": [
    {
     "name": "stdout",
     "output_type": "stream",
     "text": [
      "8\n"
     ]
    }
   ],
   "source": [
    "word='computer'\n",
    "length= 0\n",
    "\n",
    "for i in word:\n",
    "    length+=1\n",
    "    \n",
    "print (length)"
   ]
  },
  {
   "cell_type": "code",
   "execution_count": 31,
   "metadata": {},
   "outputs": [],
   "source": [
    "def func (x,y):\n",
    "    return 'boo'"
   ]
  },
  {
   "cell_type": "code",
   "execution_count": 33,
   "metadata": {},
   "outputs": [
    {
     "data": {
      "text/plain": [
       "'boo'"
      ]
     },
     "execution_count": 33,
     "metadata": {},
     "output_type": "execute_result"
    }
   ],
   "source": [
    "func(1,2)"
   ]
  },
  {
   "cell_type": "code",
   "execution_count": 35,
   "metadata": {},
   "outputs": [],
   "source": [
    "def length_of_the_word(word):\n",
    "    length=0\n",
    "    \n",
    "    for i in word:\n",
    "        length+=1\n",
    "    return length\n"
   ]
  },
  {
   "cell_type": "code",
   "execution_count": 36,
   "metadata": {},
   "outputs": [
    {
     "data": {
      "text/plain": [
       "6"
      ]
     },
     "execution_count": 36,
     "metadata": {},
     "output_type": "execute_result"
    }
   ],
   "source": [
    "length_of_the_word('aaabbb')"
   ]
  },
  {
   "cell_type": "code",
   "execution_count": 38,
   "metadata": {},
   "outputs": [],
   "source": [
    "# List of attributes\n",
    "\n",
    "contact_list={'Huey':3376111111,'Dewey':3372222222,'Louie':33373333333}\n",
    "received_calls=[]\n",
    "made_calls=[]\n",
    "received_sms={}\n",
    "sent_sms={}\n",
    "library_of_photos=[]"
   ]
  },
  {
   "cell_type": "code",
   "execution_count": 39,
   "metadata": {},
   "outputs": [],
   "source": [
    "# List of functions for our phone\n",
    "\n",
    "def add_contact(name, number, contact_list=contact_list):\n",
    "    if name in contact_list.keys():\n",
    "        print('Sorry, this name is already occupied. Please choose a different name')\n",
    "    else:\n",
    "        contact_list[name]=number\n",
    "    return contact_list"
   ]
  },
  {
   "cell_type": "code",
   "execution_count": 40,
   "metadata": {},
   "outputs": [
    {
     "name": "stdout",
     "output_type": "stream",
     "text": [
      "{'Huey': 3376111111, 'Dewey': 3372222222, 'Louie': 33373333333}\n",
      "{'Huey': 3376111111, 'Dewey': 3372222222, 'Louie': 33373333333, 'Launchpad McQuack': 333444444444}\n"
     ]
    }
   ],
   "source": [
    "print (contact_list)\n",
    "contact_list=add_contact('Launchpad McQuack', 333444444444)\n",
    "print(contact_list)"
   ]
  },
  {
   "cell_type": "code",
   "execution_count": 41,
   "metadata": {},
   "outputs": [],
   "source": [
    "def unfriend(name, contact_list=contact_list):\n",
    "    if name in contact_list:\n",
    "        del contact_list[name]\n",
    "    else:\n",
    "        print('Sorry, you don\\'t know this person. I can\\'t perform this operation')\n",
    "    return contact_list\n"
   ]
  },
  {
   "cell_type": "code",
   "execution_count": 42,
   "metadata": {},
   "outputs": [
    {
     "name": "stdout",
     "output_type": "stream",
     "text": [
      "{'Huey': 3376111111, 'Dewey': 3372222222, 'Louie': 33373333333, 'Launchpad McQuack': 333444444444}\n",
      "{'Huey': 3376111111, 'Dewey': 3372222222, 'Louie': 33373333333}\n"
     ]
    }
   ],
   "source": [
    "print(contact_list)\n",
    "contact_list=unfriend('Launchpad McQuack')\n",
    "print(contact_list)"
   ]
  },
  {
   "cell_type": "code",
   "execution_count": 49,
   "metadata": {},
   "outputs": [],
   "source": [
    "def make_a_call (number, made_calls=made_calls, contact_list=contact_list):\n",
    "    import time\n",
    "    if number in contact_list.values():\n",
    "        name=[x for x in contact_list.keys() if number==contact_list[x]]\n",
    "    else:\n",
    "        name=str(number)\n",
    "    print('Dialing', name,'...')\n",
    "    time.sleep(2)\n",
    "    \n",
    "    made_calls.append(name)\n",
    "    return made_calls"
   ]
  },
  {
   "cell_type": "code",
   "execution_count": 50,
   "metadata": {},
   "outputs": [
    {
     "name": "stdout",
     "output_type": "stream",
     "text": [
      "[['Huey']]\n",
      "Dialing ['Dewey'] ...\n",
      "[['Huey'], ['Dewey']]\n"
     ]
    }
   ],
   "source": [
    "print(made_calls)\n",
    "made_calls=make_a_call(3372222222)\n",
    "print(made_calls)"
   ]
  },
  {
   "cell_type": "code",
   "execution_count": 45,
   "metadata": {},
   "outputs": [],
   "source": [
    "def receive_a_call (number, received_calls=made_calls, contact_list=contact_list):\n",
    "    import time\n",
    "    if number in contact_list.values():\n",
    "        name=[x for x in contact_list.keys() if number==contact_list[x]]\n",
    "    else:\n",
    "        name=str(number)\n",
    "    print(name,'is calling...')\n",
    "    time.sleep(2)\n",
    "    \n",
    "    received_calls.append(name)\n",
    "    return received_calls"
   ]
  },
  {
   "cell_type": "code",
   "execution_count": 46,
   "metadata": {},
   "outputs": [
    {
     "name": "stdout",
     "output_type": "stream",
     "text": [
      "[]\n",
      "['Huey'] is calling...\n",
      "[['Huey']]\n"
     ]
    }
   ],
   "source": [
    "print(received_calls)\n",
    "received_calls=receive_a_call(3376111111)\n",
    "print(received_calls)"
   ]
  },
  {
   "cell_type": "code",
   "execution_count": 59,
   "metadata": {},
   "outputs": [],
   "source": [
    "def send_an_sms(number, text, sent_sms=sent_sms, contact_list=contact_list):\n",
    "    import time\n",
    "    from datetime import datetime\n",
    "\n",
    "    if number in contact_list.values():\n",
    "        name=[x for x in contact_list.keys() if number==contact_list[x]][0]\n",
    "    else:\n",
    "        name=str(number)\n",
    "    print(f'Sending an SMS to {name}...')\n",
    "    time.sleep(2)\n",
    "    \n",
    "    now=datetime.now().strftime(\"%d/%m/%Y %H:%M:%S\")\n",
    "    \n",
    "    sent_sms[name+'_'+now]=text\n",
    "    return sent_sms"
   ]
  },
  {
   "cell_type": "code",
   "execution_count": 56,
   "metadata": {},
   "outputs": [],
   "source": [
    "def make_a_photo():\n",
    "    global library_of_photos\n",
    "    from datetime import datetime\n",
    "    now=datetime.now().strftime(\"%d/%m/%Y %H:%M:%S\")\n",
    "    library_of_photos.append(f'{now}.jpeg')\n",
    "    return None"
   ]
  },
  {
   "cell_type": "code",
   "execution_count": 57,
   "metadata": {},
   "outputs": [
    {
     "name": "stdout",
     "output_type": "stream",
     "text": [
      "['27/08/2020 12:44:05.jpeg']\n"
     ]
    }
   ],
   "source": [
    "make_a_photo()\n",
    "print(library_of_photos)"
   ]
  },
  {
   "cell_type": "code",
   "execution_count": 60,
   "metadata": {},
   "outputs": [
    {
     "name": "stdout",
     "output_type": "stream",
     "text": [
      "{}\n",
      "Sending an SMS to Louie...\n",
      "{'Louie_27/08/2020 12:53:24': 'Hello'}\n"
     ]
    }
   ],
   "source": [
    "print(sent_sms)\n",
    "sent_sms=send_an_sms(33373333333,'Hello')\n",
    "print(sent_sms)"
   ]
  },
  {
   "cell_type": "markdown",
   "metadata": {},
   "source": [
    "# Object_oriented programming (OOP)"
   ]
  },
  {
   "cell_type": "code",
   "execution_count": 62,
   "metadata": {},
   "outputs": [
    {
     "data": {
      "text/plain": [
       "\"python\\nclass class_name:\\n    \\n    definition of global attributes\\n    \\n    def_init_(self, mandatory_argument1, mandatory_argument2, optional_argument1=default_value):\\n        There goes the initialization of the object. All local attributes of the object should be specified here.\\n        You could notice the 'self' argument in the function. It indicates the object itself.\\n        It is not required to return anything in classes\\n        \\n    def all_other_functions (self,argument):\\n        body of the function\\n\""
      ]
     },
     "execution_count": 62,
     "metadata": {},
     "output_type": "execute_result"
    }
   ],
   "source": [
    "'''python\n",
    "class class_name:\n",
    "    \n",
    "    definition of global attributes\n",
    "    \n",
    "    def_init_(self, mandatory_argument1, mandatory_argument2, optional_argument1=default_value):\n",
    "        There goes the initialization of the object. All local attributes of the object should be specified here.\n",
    "        You could notice the 'self' argument in the function. It indicates the object itself.\n",
    "        It is not required to return anything in classes\n",
    "        \n",
    "    def all_other_functions (self,argument):\n",
    "        body of the function\n",
    "'''"
   ]
  },
  {
   "cell_type": "code",
   "execution_count": 63,
   "metadata": {},
   "outputs": [],
   "source": [
    "class MobilePhone:\n",
    "    \n",
    "    #global attributes\n",
    "    operating_system='DuckOS'\n",
    "    brand='McDuck Inc'\n",
    "    "
   ]
  },
  {
   "cell_type": "code",
   "execution_count": 64,
   "metadata": {},
   "outputs": [],
   "source": [
    "Phone1=MobilePhone()"
   ]
  },
  {
   "cell_type": "code",
   "execution_count": 65,
   "metadata": {},
   "outputs": [
    {
     "data": {
      "text/plain": [
       "<__main__.MobilePhone at 0x10969f5b0>"
      ]
     },
     "execution_count": 65,
     "metadata": {},
     "output_type": "execute_result"
    }
   ],
   "source": [
    "Phone1"
   ]
  },
  {
   "cell_type": "code",
   "execution_count": 66,
   "metadata": {},
   "outputs": [
    {
     "data": {
      "text/plain": [
       "'McDuck Inc'"
      ]
     },
     "execution_count": 66,
     "metadata": {},
     "output_type": "execute_result"
    }
   ],
   "source": [
    "Phone1.brand"
   ]
  },
  {
   "cell_type": "code",
   "execution_count": 67,
   "metadata": {},
   "outputs": [
    {
     "data": {
      "text/plain": [
       "'DuckOS'"
      ]
     },
     "execution_count": 67,
     "metadata": {},
     "output_type": "execute_result"
    }
   ],
   "source": [
    "Phone2=MobilePhone()\n",
    "Phone2.operating_system"
   ]
  },
  {
   "cell_type": "code",
   "execution_count": 73,
   "metadata": {},
   "outputs": [],
   "source": [
    "class MobilePhone:\n",
    "    \n",
    "    #global attributes\n",
    "    operating_system='DuckOS'\n",
    "    brand='McDuck Inc'\n",
    "    \n",
    "    def __init__(self, owners_name, phone_number):\n",
    "        self.owner=owners_name\n",
    "        self.number=phone_number\n",
    "        self.contact_list=dict()\n",
    "        self.received_calls=list()\n",
    "        self.made_calls=list()\n",
    "        self.received_sms=dict()\n",
    "        self.sent_sms=dict()\n",
    "        self.library_of_photos=list()\n",
    "        \n",
    "    \n",
    "    "
   ]
  },
  {
   "cell_type": "code",
   "execution_count": 74,
   "metadata": {},
   "outputs": [
    {
     "data": {
      "text/plain": [
       "'Scrooge McDuck'"
      ]
     },
     "execution_count": 74,
     "metadata": {},
     "output_type": "execute_result"
    }
   ],
   "source": [
    "Phone1=MobilePhone('Scrooge McDuck', 33376000000)\n",
    "Phone1.owner"
   ]
  },
  {
   "cell_type": "code",
   "execution_count": 75,
   "metadata": {},
   "outputs": [
    {
     "data": {
      "text/plain": [
       "'Huey'"
      ]
     },
     "execution_count": 75,
     "metadata": {},
     "output_type": "execute_result"
    }
   ],
   "source": [
    "Phone2=MobilePhone('Huey', 3459000000)\n",
    "Phone2.owner"
   ]
  },
  {
   "cell_type": "code",
   "execution_count": 80,
   "metadata": {},
   "outputs": [],
   "source": [
    "class MobilePhone:\n",
    "    \n",
    "    #global attributes\n",
    "    operating_system='DuckOS'\n",
    "    brand='McDuck Inc'\n",
    "    \n",
    "    #self attributes\n",
    "    def __init__(self, owners_name, phone_number):\n",
    "        self.owner=owners_name\n",
    "        self.number=phone_number\n",
    "        self.contact_list=dict()\n",
    "        self.received_calls=list()\n",
    "        self.made_calls=list()\n",
    "        self.received_sms=dict()\n",
    "        self.sent_sms=dict()\n",
    "        self.library_of_photos=list()\n",
    "        \n",
    "    def add_contact(self,recipient):\n",
    "        if recipient.owner in self.contact_list.keys():\n",
    "            print('Sorry, this name is already occupied. Please choose a different name')\n",
    "        else:\n",
    "            self.contact_list[recipient.owner]=recipient.number\n",
    "        print('Operation is finished')"
   ]
  },
  {
   "cell_type": "code",
   "execution_count": 77,
   "metadata": {},
   "outputs": [],
   "source": [
    "Phone1=MobilePhone('Scrooge McDuck', 33376000000)\n",
    "Phone2=MobilePhone('Huey', 3459000000)"
   ]
  },
  {
   "cell_type": "code",
   "execution_count": 78,
   "metadata": {},
   "outputs": [
    {
     "name": "stdout",
     "output_type": "stream",
     "text": [
      "Operation is finished\n"
     ]
    }
   ],
   "source": [
    "Phone1.add_contact(Phone2)"
   ]
  },
  {
   "cell_type": "code",
   "execution_count": 79,
   "metadata": {},
   "outputs": [
    {
     "data": {
      "text/plain": [
       "{'Huey': 3459000000}"
      ]
     },
     "execution_count": 79,
     "metadata": {},
     "output_type": "execute_result"
    }
   ],
   "source": [
    "Phone1.contact_list"
   ]
  },
  {
   "cell_type": "code",
   "execution_count": 85,
   "metadata": {},
   "outputs": [],
   "source": [
    "class MobilePhone:\n",
    "    \n",
    "    #global attributes\n",
    "    operating_system='DuckOS'\n",
    "    brand='McDuck Inc'\n",
    "    \n",
    "    #self attributes\n",
    "    def __init__(self, owners_name, phone_number):\n",
    "        self.owner=owners_name\n",
    "        self.number=phone_number\n",
    "        self.contact_list=dict()\n",
    "        self.received_calls=list()\n",
    "        self.made_calls=list()\n",
    "        self.received_sms=dict()\n",
    "        self.sent_sms=dict()\n",
    "        self.library_of_photos=list()\n",
    "        \n",
    "    def add_contact(self,recipient):\n",
    "        if recipient.owner in self.contact_list.keys():\n",
    "            print('Sorry, this name is already occupied. Please choose a different name')\n",
    "        else:\n",
    "            self.contact_list[recipient.owner]=recipient.number\n",
    "        print('Operation is finished')\n",
    "        \n",
    "    def unfriend(self,recipient):\n",
    "        if recipient.owner in self.contact_list:\n",
    "            del self.contact_list[recipient.owner]\n",
    "            print('Operation is finished')\n",
    "        else:\n",
    "            print ('Sorry, you don\\'t know this person. I can\\'t perform this operation')\n",
    "            \n",
    "          "
   ]
  },
  {
   "cell_type": "code",
   "execution_count": 86,
   "metadata": {},
   "outputs": [],
   "source": [
    "Phone1=MobilePhone('Scrooge McDuck', 33376000000)\n",
    "Phone2=MobilePhone('Huey', 3459000000)"
   ]
  },
  {
   "cell_type": "code",
   "execution_count": 87,
   "metadata": {},
   "outputs": [
    {
     "name": "stdout",
     "output_type": "stream",
     "text": [
      "Operation is finished\n"
     ]
    }
   ],
   "source": [
    "Phone1.add_contact(Phone2)"
   ]
  },
  {
   "cell_type": "code",
   "execution_count": 88,
   "metadata": {},
   "outputs": [
    {
     "name": "stdout",
     "output_type": "stream",
     "text": [
      "Operation is finished\n"
     ]
    }
   ],
   "source": [
    "Phone1.unfriend(Phone2)"
   ]
  },
  {
   "cell_type": "code",
   "execution_count": 90,
   "metadata": {},
   "outputs": [],
   "source": [
    "class MobilePhone:\n",
    "    \n",
    "    #global attributes\n",
    "    operating_system='DuckOS'\n",
    "    brand='McDuck Inc'\n",
    "    \n",
    "    #self attributes\n",
    "    def __init__(self, owners_name, phone_number):\n",
    "        self.owner=owners_name\n",
    "        self.number=phone_number\n",
    "        self.contact_list=dict()\n",
    "        self.received_calls=list()\n",
    "        self.made_calls=list()\n",
    "        self.received_sms=dict()\n",
    "        self.sent_sms=dict()\n",
    "        self.library_of_photos=list()\n",
    "        \n",
    "    def add_contact(self,recipient):\n",
    "        if recipient.owner in self.contact_list.keys():\n",
    "            print('Sorry, this name is already occupied. Please choose a different name')\n",
    "        else:\n",
    "            self.contact_list[recipient.owner]=recipient.number\n",
    "        print('Operation is finished')\n",
    "        \n",
    "    def unfriend(self,recipient):\n",
    "        if recipient.owner in self.contact_list:\n",
    "            del self.contact_list[recipient.owner]\n",
    "            print('Operation is finished')\n",
    "        else:\n",
    "            print ('Sorry, you don\\'t know this person. I can\\'t perform this operation')\n",
    "            \n",
    "    def make_a_call(self,recipient):\n",
    "        if recipient.number in self.contact_list.values():\n",
    "            name=recipient.owner\n",
    "        else:\n",
    "            name=str(recipient.number)\n",
    "        print('Dialing', name+'...')\n",
    "        self.made_calls.append(name)\n",
    "        \n",
    "        if self.number in recipient.contact_list.values():\n",
    "            name_r=self.owner\n",
    "        else:\n",
    "            name_r=str(self.number)\n",
    "        recipient.received_calls.append(name_r)"
   ]
  },
  {
   "cell_type": "code",
   "execution_count": 91,
   "metadata": {},
   "outputs": [],
   "source": [
    "Phone1=MobilePhone('Scrooge McDuck', 33376000000)\n",
    "Phone2=MobilePhone('Huey', 3459000000)"
   ]
  },
  {
   "cell_type": "code",
   "execution_count": 92,
   "metadata": {},
   "outputs": [
    {
     "data": {
      "text/plain": [
       "[]"
      ]
     },
     "execution_count": 92,
     "metadata": {},
     "output_type": "execute_result"
    }
   ],
   "source": [
    "Phone1.made_calls"
   ]
  },
  {
   "cell_type": "code",
   "execution_count": 93,
   "metadata": {},
   "outputs": [
    {
     "name": "stdout",
     "output_type": "stream",
     "text": [
      "Dialing 3459000000...\n"
     ]
    }
   ],
   "source": [
    "Phone1.make_a_call(Phone2)"
   ]
  },
  {
   "cell_type": "code",
   "execution_count": 94,
   "metadata": {},
   "outputs": [
    {
     "data": {
      "text/plain": [
       "['3459000000']"
      ]
     },
     "execution_count": 94,
     "metadata": {},
     "output_type": "execute_result"
    }
   ],
   "source": [
    "Phone1.made_calls"
   ]
  },
  {
   "cell_type": "code",
   "execution_count": 95,
   "metadata": {},
   "outputs": [
    {
     "data": {
      "text/plain": [
       "['33376000000']"
      ]
     },
     "execution_count": 95,
     "metadata": {},
     "output_type": "execute_result"
    }
   ],
   "source": [
    "Phone2.received_calls"
   ]
  },
  {
   "cell_type": "code",
   "execution_count": 100,
   "metadata": {},
   "outputs": [],
   "source": [
    "class MobilePhone:\n",
    "    \n",
    "    #global attributes\n",
    "    operating_system='DuckOS'\n",
    "    brand='McDuck Inc'\n",
    "    \n",
    "    #self attributes\n",
    "    def __init__(self, owners_name, phone_number):\n",
    "        self.owner=owners_name\n",
    "        self.number=phone_number\n",
    "        self.contact_list=dict()\n",
    "        self.received_calls=list()\n",
    "        self.made_calls=list()\n",
    "        self.received_sms=dict()\n",
    "        self.sent_sms=dict()\n",
    "        self.library_of_photos=list()\n",
    "        \n",
    "    def add_contact(self,recipient):\n",
    "        if recipient.owner in self.contact_list.keys():\n",
    "            print('Sorry, this name is already occupied. Please choose a different name')\n",
    "        else:\n",
    "            self.contact_list[recipient.owner]=recipient.number\n",
    "        print('Operation is finished')\n",
    "        \n",
    "    def unfriend(self,recipient):\n",
    "        if recipient.owner in self.contact_list:\n",
    "            del self.contact_list[recipient.owner]\n",
    "            print('Operation is finished')\n",
    "        else:\n",
    "            print ('Sorry, you don\\'t know this person. I can\\'t perform this operation')\n",
    "            \n",
    "    def make_a_call(self,recipient):\n",
    "        if recipient.number in self.contact_list.values():\n",
    "            name=recipient.owner\n",
    "        else:\n",
    "            name=str(recipient.number)\n",
    "        print('Dialing', name+'...')\n",
    "        self.made_calls.append(name)\n",
    "        \n",
    "        if self.number in recipient.contact_list.values():\n",
    "            name_r=self.owner\n",
    "        else:\n",
    "            name_r=str(self.number)\n",
    "        recipient.received_calls.append(name_r)\n",
    "     \n",
    "    def send_a_sms(self,recipient, text):\n",
    "        import time\n",
    "        from datetime import datetime\n",
    "        \n",
    "        if recipient.number in self.contact_list.values():\n",
    "            name=recipient.owner\n",
    "        else:\n",
    "            name=str(recipient.number)\n",
    "        print('Sending an sms to', name+'...')\n",
    "        \n",
    "        now= datetime.now().strftime(\"%d/%m/%Y %H:%M:%S\")\n",
    "        self.sent_sms[name+'_'+now]=text\n",
    "        \n",
    "        if self.number in recipient.contact_list.values():\n",
    "            name_r=self.owner\n",
    "        else:\n",
    "            name_r=str(self.number)\n",
    "        recipient.received_sms[name_r+'_'+now]=text\n",
    "    "
   ]
  },
  {
   "cell_type": "code",
   "execution_count": 101,
   "metadata": {},
   "outputs": [],
   "source": [
    "Phone1=MobilePhone('Scrooge McDuck', 33376000000)\n",
    "Phone2=MobilePhone('Huey', 3459000000)"
   ]
  },
  {
   "cell_type": "code",
   "execution_count": 102,
   "metadata": {},
   "outputs": [
    {
     "name": "stdout",
     "output_type": "stream",
     "text": [
      "Operation is finished\n"
     ]
    }
   ],
   "source": [
    "Phone1.add_contact(Phone2)"
   ]
  },
  {
   "cell_type": "code",
   "execution_count": 104,
   "metadata": {},
   "outputs": [
    {
     "name": "stdout",
     "output_type": "stream",
     "text": [
      "Sending an sms to Huey...\n"
     ]
    }
   ],
   "source": [
    "Phone1.send_a_sms(Phone2, 'Hi')"
   ]
  },
  {
   "cell_type": "code",
   "execution_count": 105,
   "metadata": {},
   "outputs": [
    {
     "data": {
      "text/plain": [
       "{'Huey_27/08/2020 15:09:13': 'Hi'}"
      ]
     },
     "execution_count": 105,
     "metadata": {},
     "output_type": "execute_result"
    }
   ],
   "source": [
    "Phone1.sent_sms"
   ]
  },
  {
   "cell_type": "code",
   "execution_count": 106,
   "metadata": {},
   "outputs": [
    {
     "data": {
      "text/plain": [
       "{'33376000000_27/08/2020 15:09:13': 'Hi'}"
      ]
     },
     "execution_count": 106,
     "metadata": {},
     "output_type": "execute_result"
    }
   ],
   "source": [
    "Phone2.received_sms"
   ]
  },
  {
   "cell_type": "code",
   "execution_count": 119,
   "metadata": {},
   "outputs": [],
   "source": [
    "class CameraPhone(MobilePhone):\n",
    "    \n",
    "    OSVersion=2.0\n",
    "    name='Quack Quack 3000'\n",
    "    \n",
    "    def make_a_photo(self):\n",
    "        from datetime import datetime\n",
    "        now=datetime.now().strftime(\"%d/%m/%Y %H:%M:%S\")\n",
    "        \n",
    "        self.library_of_photos.append(f'{now}.jpeg')"
   ]
  },
  {
   "cell_type": "code",
   "execution_count": 108,
   "metadata": {},
   "outputs": [
    {
     "data": {
      "text/plain": [
       "'Scrooge McDuck'"
      ]
     },
     "execution_count": 108,
     "metadata": {},
     "output_type": "execute_result"
    }
   ],
   "source": [
    "Phone1.owner"
   ]
  },
  {
   "cell_type": "code",
   "execution_count": 111,
   "metadata": {},
   "outputs": [],
   "source": [
    "Phone3=CameraPhone('Dewey', 33376222290)"
   ]
  },
  {
   "cell_type": "code",
   "execution_count": 112,
   "metadata": {},
   "outputs": [
    {
     "data": {
      "text/plain": [
       "'Dewey'"
      ]
     },
     "execution_count": 112,
     "metadata": {},
     "output_type": "execute_result"
    }
   ],
   "source": [
    "Phone3.owner"
   ]
  },
  {
   "cell_type": "code",
   "execution_count": 114,
   "metadata": {},
   "outputs": [
    {
     "data": {
      "text/plain": [
       "'DuckOS'"
      ]
     },
     "execution_count": 114,
     "metadata": {},
     "output_type": "execute_result"
    }
   ],
   "source": [
    "Phone3.operating_system"
   ]
  },
  {
   "cell_type": "code",
   "execution_count": 115,
   "metadata": {},
   "outputs": [
    {
     "data": {
      "text/plain": [
       "2.0"
      ]
     },
     "execution_count": 115,
     "metadata": {},
     "output_type": "execute_result"
    }
   ],
   "source": [
    "Phone3.OSVersion"
   ]
  },
  {
   "cell_type": "code",
   "execution_count": 120,
   "metadata": {},
   "outputs": [
    {
     "ename": "NameError",
     "evalue": "name 'date' is not defined",
     "output_type": "error",
     "traceback": [
      "\u001b[0;31m---------------------------------------------------------------------------\u001b[0m",
      "\u001b[0;31mNameError\u001b[0m                                 Traceback (most recent call last)",
      "\u001b[0;32m<ipython-input-120-114cd615a066>\u001b[0m in \u001b[0;36m<module>\u001b[0;34m\u001b[0m\n\u001b[0;32m----> 1\u001b[0;31m \u001b[0mPhone3\u001b[0m\u001b[0;34m.\u001b[0m\u001b[0mmake_a_photo\u001b[0m\u001b[0;34m(\u001b[0m\u001b[0;34m)\u001b[0m\u001b[0;34m\u001b[0m\u001b[0;34m\u001b[0m\u001b[0m\n\u001b[0m",
      "\u001b[0;32m<ipython-input-107-f0e7448a9a16>\u001b[0m in \u001b[0;36mmake_a_photo\u001b[0;34m(self)\u001b[0m\n\u001b[1;32m      6\u001b[0m     \u001b[0;32mdef\u001b[0m \u001b[0mmake_a_photo\u001b[0m\u001b[0;34m(\u001b[0m\u001b[0mself\u001b[0m\u001b[0;34m)\u001b[0m\u001b[0;34m:\u001b[0m\u001b[0;34m\u001b[0m\u001b[0;34m\u001b[0m\u001b[0m\n\u001b[1;32m      7\u001b[0m         \u001b[0;32mfrom\u001b[0m \u001b[0mdatetime\u001b[0m \u001b[0;32mimport\u001b[0m \u001b[0mdatetime\u001b[0m\u001b[0;34m\u001b[0m\u001b[0;34m\u001b[0m\u001b[0m\n\u001b[0;32m----> 8\u001b[0;31m         \u001b[0mnow\u001b[0m\u001b[0;34m=\u001b[0m\u001b[0mdate\u001b[0m\u001b[0;34m.\u001b[0m\u001b[0mtime\u001b[0m\u001b[0;34m.\u001b[0m\u001b[0mnow\u001b[0m\u001b[0;34m(\u001b[0m\u001b[0;34m)\u001b[0m\u001b[0;34m.\u001b[0m\u001b[0mstrftime\u001b[0m\u001b[0;34m(\u001b[0m\u001b[0;34m\"%d/%m/%Y %H:%M:%S\"\u001b[0m\u001b[0;34m)\u001b[0m\u001b[0;34m\u001b[0m\u001b[0;34m\u001b[0m\u001b[0m\n\u001b[0m\u001b[1;32m      9\u001b[0m \u001b[0;34m\u001b[0m\u001b[0m\n\u001b[1;32m     10\u001b[0m         \u001b[0mself\u001b[0m\u001b[0;34m.\u001b[0m\u001b[0mlibrary_of_photos\u001b[0m\u001b[0;34m.\u001b[0m\u001b[0mappend\u001b[0m\u001b[0;34m(\u001b[0m\u001b[0;34mf'{now}.jpeg'\u001b[0m\u001b[0;34m)\u001b[0m\u001b[0;34m\u001b[0m\u001b[0;34m\u001b[0m\u001b[0m\n",
      "\u001b[0;31mNameError\u001b[0m: name 'date' is not defined"
     ]
    }
   ],
   "source": [
    "Phone3.make_a_photo()"
   ]
  },
  {
   "cell_type": "code",
   "execution_count": null,
   "metadata": {},
   "outputs": [],
   "source": []
  }
 ],
 "metadata": {
  "kernelspec": {
   "display_name": "Python 3",
   "language": "python",
   "name": "python3"
  },
  "language_info": {
   "codemirror_mode": {
    "name": "ipython",
    "version": 3
   },
   "file_extension": ".py",
   "mimetype": "text/x-python",
   "name": "python",
   "nbconvert_exporter": "python",
   "pygments_lexer": "ipython3",
   "version": "3.8.5"
  }
 },
 "nbformat": 4,
 "nbformat_minor": 4
}
