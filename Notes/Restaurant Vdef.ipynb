{
 "cells": [
  {
   "cell_type": "code",
   "execution_count": 1,
   "metadata": {},
   "outputs": [],
   "source": [
    "class restaurant:\n",
    "    \n",
    "    #global attributes\n",
    "    name='miam miam'\n",
    "    \n",
    "    def __init__(self, rst_number, rst_address):\n",
    "        self.rst_number=rst_number\n",
    "        self.rest_address=rst_address\n",
    "        self.menu=dict()\n",
    "        self.revenue=0\n",
    "        self.dish_sold=list()\n",
    "        \n",
    "    def add_menu(self,dish_name, dish_price):\n",
    "        if dish_name in self.menu.keys():\n",
    "            print('This dish already exists')\n",
    "        else:\n",
    "            self.menu[dish_name]=dish_price\n",
    "            print('The dish has been added to the menu')\n",
    "            \n",
    "    def order (self):\n",
    "        cust_choice = input('What do you want to eat?')\n",
    "        if cust_choice in self.menu:\n",
    "            print(f'I will bring you the {cust_choice} in 5 min')\n",
    "            self.dish_sold.append(cust_choice)\n",
    "            self.revenue+=self.menu[cust_choice]\n",
    "        else:\n",
    "            print('We don\\'t have this dish on the menu, could you please choose another dish or get out of my restaurant?')"
   ]
  },
  {
   "cell_type": "code",
   "execution_count": 2,
   "metadata": {},
   "outputs": [],
   "source": [
    "rst1=restaurant(1, '7 rue de Montholon')\n",
    "rst2=restaurant(2, '6 rue Barye')"
   ]
  },
  {
   "cell_type": "code",
   "execution_count": 3,
   "metadata": {},
   "outputs": [
    {
     "name": "stdout",
     "output_type": "stream",
     "text": [
      "The dish has been added to the menu\n",
      "The dish has been added to the menu\n",
      "The dish has been added to the menu\n",
      "This dish already exists\n"
     ]
    }
   ],
   "source": [
    "rst1.add_menu('Pasta', 10)\n",
    "rst1.add_menu('Beef', 15)\n",
    "rst1.add_menu('Chicken', 12)\n",
    "rst1.add_menu('Beef', 15)"
   ]
  },
  {
   "cell_type": "code",
   "execution_count": 4,
   "metadata": {},
   "outputs": [
    {
     "data": {
      "text/plain": [
       "{'Pasta': 10, 'Beef': 15, 'Chicken': 12}"
      ]
     },
     "execution_count": 4,
     "metadata": {},
     "output_type": "execute_result"
    }
   ],
   "source": [
    "rst1.menu"
   ]
  },
  {
   "cell_type": "code",
   "execution_count": 5,
   "metadata": {},
   "outputs": [
    {
     "name": "stdout",
     "output_type": "stream",
     "text": [
      "What do you want to eat?Pasta\n",
      "I will bring you the Pasta in 5 min\n"
     ]
    }
   ],
   "source": [
    "rst1.order()"
   ]
  },
  {
   "cell_type": "code",
   "execution_count": 6,
   "metadata": {},
   "outputs": [
    {
     "name": "stdout",
     "output_type": "stream",
     "text": [
      "What do you want to eat?Chicken\n",
      "I will bring you the Chicken in 5 min\n"
     ]
    }
   ],
   "source": [
    "rst1.order()"
   ]
  },
  {
   "cell_type": "code",
   "execution_count": 7,
   "metadata": {},
   "outputs": [
    {
     "name": "stdout",
     "output_type": "stream",
     "text": [
      "What do you want to eat?Beef\n",
      "I will bring you the Beef in 5 min\n"
     ]
    }
   ],
   "source": [
    "rst1.order()"
   ]
  },
  {
   "cell_type": "code",
   "execution_count": 8,
   "metadata": {},
   "outputs": [
    {
     "data": {
      "text/plain": [
       "{'Pasta': 10, 'Beef': 15, 'Chicken': 12}"
      ]
     },
     "execution_count": 8,
     "metadata": {},
     "output_type": "execute_result"
    }
   ],
   "source": [
    "rst1.menu"
   ]
  },
  {
   "cell_type": "code",
   "execution_count": 9,
   "metadata": {},
   "outputs": [
    {
     "data": {
      "text/plain": [
       "37"
      ]
     },
     "execution_count": 9,
     "metadata": {},
     "output_type": "execute_result"
    }
   ],
   "source": [
    "rst1.revenue"
   ]
  },
  {
   "cell_type": "code",
   "execution_count": null,
   "metadata": {},
   "outputs": [],
   "source": []
  }
 ],
 "metadata": {
  "kernelspec": {
   "display_name": "Python 3",
   "language": "python",
   "name": "python3"
  },
  "language_info": {
   "codemirror_mode": {
    "name": "ipython",
    "version": 3
   },
   "file_extension": ".py",
   "mimetype": "text/x-python",
   "name": "python",
   "nbconvert_exporter": "python",
   "pygments_lexer": "ipython3",
   "version": "3.8.5"
  }
 },
 "nbformat": 4,
 "nbformat_minor": 4
}
