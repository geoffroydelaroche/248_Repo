{
 "cells": [
  {
   "cell_type": "markdown",
   "metadata": {},
   "source": [
    "# Get the Data & Libraries"
   ]
  },
  {
   "cell_type": "code",
   "execution_count": 173,
   "metadata": {},
   "outputs": [],
   "source": [
    "#Import Libraries\n",
    "import pandas as pd\n",
    "import numpy as np\n",
    "import matplotlib.pyplot as plt\n",
    "%matplotlib inline\n",
    "import seaborn as sns"
   ]
  },
  {
   "cell_type": "code",
   "execution_count": 2,
   "metadata": {},
   "outputs": [],
   "source": [
    "#Import the dataset\n",
    "df=pd.read_csv('/Users/Jeff/Downloads/bank/bank-full.csv', sep=';')"
   ]
  },
  {
   "cell_type": "code",
   "execution_count": 3,
   "metadata": {},
   "outputs": [
    {
     "data": {
      "text/html": [
       "<div>\n",
       "<style scoped>\n",
       "    .dataframe tbody tr th:only-of-type {\n",
       "        vertical-align: middle;\n",
       "    }\n",
       "\n",
       "    .dataframe tbody tr th {\n",
       "        vertical-align: top;\n",
       "    }\n",
       "\n",
       "    .dataframe thead th {\n",
       "        text-align: right;\n",
       "    }\n",
       "</style>\n",
       "<table border=\"1\" class=\"dataframe\">\n",
       "  <thead>\n",
       "    <tr style=\"text-align: right;\">\n",
       "      <th></th>\n",
       "      <th>age</th>\n",
       "      <th>job</th>\n",
       "      <th>marital</th>\n",
       "      <th>education</th>\n",
       "      <th>default</th>\n",
       "      <th>balance</th>\n",
       "      <th>housing</th>\n",
       "      <th>loan</th>\n",
       "      <th>contact</th>\n",
       "      <th>day</th>\n",
       "      <th>month</th>\n",
       "      <th>duration</th>\n",
       "      <th>campaign</th>\n",
       "      <th>pdays</th>\n",
       "      <th>previous</th>\n",
       "      <th>poutcome</th>\n",
       "      <th>y</th>\n",
       "    </tr>\n",
       "  </thead>\n",
       "  <tbody>\n",
       "    <tr>\n",
       "      <th>0</th>\n",
       "      <td>58</td>\n",
       "      <td>management</td>\n",
       "      <td>married</td>\n",
       "      <td>tertiary</td>\n",
       "      <td>no</td>\n",
       "      <td>2143</td>\n",
       "      <td>yes</td>\n",
       "      <td>no</td>\n",
       "      <td>unknown</td>\n",
       "      <td>5</td>\n",
       "      <td>may</td>\n",
       "      <td>261</td>\n",
       "      <td>1</td>\n",
       "      <td>-1</td>\n",
       "      <td>0</td>\n",
       "      <td>unknown</td>\n",
       "      <td>no</td>\n",
       "    </tr>\n",
       "    <tr>\n",
       "      <th>1</th>\n",
       "      <td>44</td>\n",
       "      <td>technician</td>\n",
       "      <td>single</td>\n",
       "      <td>secondary</td>\n",
       "      <td>no</td>\n",
       "      <td>29</td>\n",
       "      <td>yes</td>\n",
       "      <td>no</td>\n",
       "      <td>unknown</td>\n",
       "      <td>5</td>\n",
       "      <td>may</td>\n",
       "      <td>151</td>\n",
       "      <td>1</td>\n",
       "      <td>-1</td>\n",
       "      <td>0</td>\n",
       "      <td>unknown</td>\n",
       "      <td>no</td>\n",
       "    </tr>\n",
       "    <tr>\n",
       "      <th>2</th>\n",
       "      <td>33</td>\n",
       "      <td>entrepreneur</td>\n",
       "      <td>married</td>\n",
       "      <td>secondary</td>\n",
       "      <td>no</td>\n",
       "      <td>2</td>\n",
       "      <td>yes</td>\n",
       "      <td>yes</td>\n",
       "      <td>unknown</td>\n",
       "      <td>5</td>\n",
       "      <td>may</td>\n",
       "      <td>76</td>\n",
       "      <td>1</td>\n",
       "      <td>-1</td>\n",
       "      <td>0</td>\n",
       "      <td>unknown</td>\n",
       "      <td>no</td>\n",
       "    </tr>\n",
       "    <tr>\n",
       "      <th>3</th>\n",
       "      <td>47</td>\n",
       "      <td>blue-collar</td>\n",
       "      <td>married</td>\n",
       "      <td>unknown</td>\n",
       "      <td>no</td>\n",
       "      <td>1506</td>\n",
       "      <td>yes</td>\n",
       "      <td>no</td>\n",
       "      <td>unknown</td>\n",
       "      <td>5</td>\n",
       "      <td>may</td>\n",
       "      <td>92</td>\n",
       "      <td>1</td>\n",
       "      <td>-1</td>\n",
       "      <td>0</td>\n",
       "      <td>unknown</td>\n",
       "      <td>no</td>\n",
       "    </tr>\n",
       "    <tr>\n",
       "      <th>4</th>\n",
       "      <td>33</td>\n",
       "      <td>unknown</td>\n",
       "      <td>single</td>\n",
       "      <td>unknown</td>\n",
       "      <td>no</td>\n",
       "      <td>1</td>\n",
       "      <td>no</td>\n",
       "      <td>no</td>\n",
       "      <td>unknown</td>\n",
       "      <td>5</td>\n",
       "      <td>may</td>\n",
       "      <td>198</td>\n",
       "      <td>1</td>\n",
       "      <td>-1</td>\n",
       "      <td>0</td>\n",
       "      <td>unknown</td>\n",
       "      <td>no</td>\n",
       "    </tr>\n",
       "  </tbody>\n",
       "</table>\n",
       "</div>"
      ],
      "text/plain": [
       "   age           job  marital  education default  balance housing loan  \\\n",
       "0   58    management  married   tertiary      no     2143     yes   no   \n",
       "1   44    technician   single  secondary      no       29     yes   no   \n",
       "2   33  entrepreneur  married  secondary      no        2     yes  yes   \n",
       "3   47   blue-collar  married    unknown      no     1506     yes   no   \n",
       "4   33       unknown   single    unknown      no        1      no   no   \n",
       "\n",
       "   contact  day month  duration  campaign  pdays  previous poutcome   y  \n",
       "0  unknown    5   may       261         1     -1         0  unknown  no  \n",
       "1  unknown    5   may       151         1     -1         0  unknown  no  \n",
       "2  unknown    5   may        76         1     -1         0  unknown  no  \n",
       "3  unknown    5   may        92         1     -1         0  unknown  no  \n",
       "4  unknown    5   may       198         1     -1         0  unknown  no  "
      ]
     },
     "execution_count": 3,
     "metadata": {},
     "output_type": "execute_result"
    }
   ],
   "source": [
    "#See what df looks like\n",
    "df.head()"
   ]
  },
  {
   "cell_type": "code",
   "execution_count": 4,
   "metadata": {},
   "outputs": [
    {
     "data": {
      "text/plain": [
       "(45211, 17)"
      ]
     },
     "execution_count": 4,
     "metadata": {},
     "output_type": "execute_result"
    }
   ],
   "source": [
    "#See the shape\n",
    "df.shape"
   ]
  },
  {
   "cell_type": "markdown",
   "metadata": {},
   "source": [
    "# Data cleaning"
   ]
  },
  {
   "cell_type": "code",
   "execution_count": 5,
   "metadata": {},
   "outputs": [
    {
     "data": {
      "text/plain": [
       "age          0\n",
       "job          0\n",
       "marital      0\n",
       "education    0\n",
       "default      0\n",
       "balance      0\n",
       "housing      0\n",
       "loan         0\n",
       "contact      0\n",
       "day          0\n",
       "month        0\n",
       "duration     0\n",
       "campaign     0\n",
       "pdays        0\n",
       "previous     0\n",
       "poutcome     0\n",
       "y            0\n",
       "dtype: int64"
      ]
     },
     "execution_count": 5,
     "metadata": {},
     "output_type": "execute_result"
    }
   ],
   "source": [
    "#Identify missing value\n",
    "df.isna().sum()"
   ]
  },
  {
   "cell_type": "markdown",
   "metadata": {},
   "source": [
    "As we can see there is no missing value"
   ]
  },
  {
   "cell_type": "code",
   "execution_count": 6,
   "metadata": {},
   "outputs": [
    {
     "name": "stdout",
     "output_type": "stream",
     "text": [
      "<class 'pandas.core.frame.DataFrame'>\n",
      "RangeIndex: 45211 entries, 0 to 45210\n",
      "Data columns (total 17 columns):\n",
      " #   Column     Non-Null Count  Dtype \n",
      "---  ------     --------------  ----- \n",
      " 0   age        45211 non-null  int64 \n",
      " 1   job        45211 non-null  object\n",
      " 2   marital    45211 non-null  object\n",
      " 3   education  45211 non-null  object\n",
      " 4   default    45211 non-null  object\n",
      " 5   balance    45211 non-null  int64 \n",
      " 6   housing    45211 non-null  object\n",
      " 7   loan       45211 non-null  object\n",
      " 8   contact    45211 non-null  object\n",
      " 9   day        45211 non-null  int64 \n",
      " 10  month      45211 non-null  object\n",
      " 11  duration   45211 non-null  int64 \n",
      " 12  campaign   45211 non-null  int64 \n",
      " 13  pdays      45211 non-null  int64 \n",
      " 14  previous   45211 non-null  int64 \n",
      " 15  poutcome   45211 non-null  object\n",
      " 16  y          45211 non-null  object\n",
      "dtypes: int64(7), object(10)\n",
      "memory usage: 5.9+ MB\n"
     ]
    }
   ],
   "source": [
    "df.info()"
   ]
  },
  {
   "cell_type": "markdown",
   "metadata": {},
   "source": [
    "As we can see there are 10 columns with object type"
   ]
  },
  {
   "cell_type": "markdown",
   "metadata": {},
   "source": [
    "**1. Job**"
   ]
  },
  {
   "cell_type": "code",
   "execution_count": 7,
   "metadata": {},
   "outputs": [
    {
     "data": {
      "text/plain": [
       "blue-collar      9732\n",
       "management       9458\n",
       "technician       7597\n",
       "admin.           5171\n",
       "services         4154\n",
       "retired          2264\n",
       "self-employed    1579\n",
       "entrepreneur     1487\n",
       "unemployed       1303\n",
       "housemaid        1240\n",
       "student           938\n",
       "unknown           288\n",
       "Name: job, dtype: int64"
      ]
     },
     "execution_count": 7,
     "metadata": {},
     "output_type": "execute_result"
    }
   ],
   "source": [
    "df.job.value_counts()"
   ]
  },
  {
   "cell_type": "markdown",
   "metadata": {},
   "source": [
    "As we can see, even if we didn't identify missing value, there are some with the value \"unknown\". \\\n",
    "So we decide to drop rows with the value unknown"
   ]
  },
  {
   "cell_type": "code",
   "execution_count": 8,
   "metadata": {},
   "outputs": [],
   "source": [
    "df.drop(df[df.job == 'unknown'].index, inplace=True)"
   ]
  },
  {
   "cell_type": "markdown",
   "metadata": {},
   "source": [
    "There are 12 differents type of job, as there are too many category we decide to drop this column."
   ]
  },
  {
   "cell_type": "code",
   "execution_count": 9,
   "metadata": {},
   "outputs": [],
   "source": [
    "df.drop('job', axis=1, inplace=True)"
   ]
  },
  {
   "cell_type": "markdown",
   "metadata": {},
   "source": [
    "**2. Marital**"
   ]
  },
  {
   "cell_type": "code",
   "execution_count": 10,
   "metadata": {},
   "outputs": [
    {
     "data": {
      "text/plain": [
       "married     27011\n",
       "single      12722\n",
       "divorced     5190\n",
       "Name: marital, dtype: int64"
      ]
     },
     "execution_count": 10,
     "metadata": {},
     "output_type": "execute_result"
    }
   ],
   "source": [
    "df.marital.value_counts()"
   ]
  },
  {
   "cell_type": "markdown",
   "metadata": {},
   "source": [
    "There are 3 types of values, we will use one-hot encoding for the logistic regression and label encoder for the rest"
   ]
  },
  {
   "cell_type": "code",
   "execution_count": 11,
   "metadata": {},
   "outputs": [],
   "source": [
    "# Create dummies (One-hot encoding)\n",
    "dummies=[]\n",
    "dummies.append('marital')"
   ]
  },
  {
   "cell_type": "code",
   "execution_count": 12,
   "metadata": {},
   "outputs": [],
   "source": [
    "# Label encoder\n",
    "dct={'single':1,\n",
    "    'married':2,\n",
    "    'divorced':3}\n",
    "\n",
    "df.marital=df.marital.map(dct)"
   ]
  },
  {
   "cell_type": "code",
   "execution_count": 13,
   "metadata": {},
   "outputs": [
    {
     "data": {
      "text/plain": [
       "2    27011\n",
       "1    12722\n",
       "3     5190\n",
       "Name: marital, dtype: int64"
      ]
     },
     "execution_count": 13,
     "metadata": {},
     "output_type": "execute_result"
    }
   ],
   "source": [
    "df.marital.value_counts()"
   ]
  },
  {
   "cell_type": "markdown",
   "metadata": {},
   "source": [
    "**3. Education**"
   ]
  },
  {
   "cell_type": "code",
   "execution_count": 14,
   "metadata": {},
   "outputs": [
    {
     "data": {
      "text/plain": [
       "secondary    23131\n",
       "tertiary     13262\n",
       "primary       6800\n",
       "unknown       1730\n",
       "Name: education, dtype: int64"
      ]
     },
     "execution_count": 14,
     "metadata": {},
     "output_type": "execute_result"
    }
   ],
   "source": [
    "df.education.value_counts()"
   ]
  },
  {
   "cell_type": "markdown",
   "metadata": {},
   "source": [
    "We will first drop unknown value rows"
   ]
  },
  {
   "cell_type": "code",
   "execution_count": 15,
   "metadata": {},
   "outputs": [],
   "source": [
    "df.drop(df[df.education == 'unknown'].index, inplace=True)"
   ]
  },
  {
   "cell_type": "code",
   "execution_count": 16,
   "metadata": {},
   "outputs": [
    {
     "data": {
      "text/plain": [
       "secondary    23131\n",
       "tertiary     13262\n",
       "primary       6800\n",
       "Name: education, dtype: int64"
      ]
     },
     "execution_count": 16,
     "metadata": {},
     "output_type": "execute_result"
    }
   ],
   "source": [
    "df.education.value_counts()"
   ]
  },
  {
   "cell_type": "markdown",
   "metadata": {},
   "source": [
    "As this is an ordinal column, we will transform this column into numeric"
   ]
  },
  {
   "cell_type": "code",
   "execution_count": 17,
   "metadata": {},
   "outputs": [],
   "source": [
    "dct={'primary':1,\n",
    "    'secondary':2,\n",
    "    'tertiary':3}"
   ]
  },
  {
   "cell_type": "code",
   "execution_count": 18,
   "metadata": {},
   "outputs": [],
   "source": [
    "df.education=df.education.map(dct)"
   ]
  },
  {
   "cell_type": "code",
   "execution_count": 19,
   "metadata": {},
   "outputs": [
    {
     "data": {
      "text/plain": [
       "2    23131\n",
       "3    13262\n",
       "1     6800\n",
       "Name: education, dtype: int64"
      ]
     },
     "execution_count": 19,
     "metadata": {},
     "output_type": "execute_result"
    }
   ],
   "source": [
    "df.education.value_counts()"
   ]
  },
  {
   "cell_type": "markdown",
   "metadata": {},
   "source": [
    "**4. Default**"
   ]
  },
  {
   "cell_type": "code",
   "execution_count": 20,
   "metadata": {},
   "outputs": [
    {
     "data": {
      "text/plain": [
       "no     42411\n",
       "yes      782\n",
       "Name: default, dtype: int64"
      ]
     },
     "execution_count": 20,
     "metadata": {},
     "output_type": "execute_result"
    }
   ],
   "source": [
    "df.default.value_counts()"
   ]
  },
  {
   "cell_type": "markdown",
   "metadata": {},
   "source": [
    "As this is a boolean column, we will transform it as numerical"
   ]
  },
  {
   "cell_type": "code",
   "execution_count": 21,
   "metadata": {},
   "outputs": [],
   "source": [
    "df.default=df.default.map({'yes': True, 'no': False})"
   ]
  },
  {
   "cell_type": "markdown",
   "metadata": {},
   "source": [
    "**5. Housing**"
   ]
  },
  {
   "cell_type": "code",
   "execution_count": 22,
   "metadata": {},
   "outputs": [
    {
     "data": {
      "text/plain": [
       "yes    24292\n",
       "no     18901\n",
       "Name: housing, dtype: int64"
      ]
     },
     "execution_count": 22,
     "metadata": {},
     "output_type": "execute_result"
    }
   ],
   "source": [
    "df.housing.value_counts()"
   ]
  },
  {
   "cell_type": "markdown",
   "metadata": {},
   "source": [
    "Same as default column"
   ]
  },
  {
   "cell_type": "code",
   "execution_count": 23,
   "metadata": {},
   "outputs": [],
   "source": [
    "df.housing=df.housing.map({'yes': True, 'no': False})"
   ]
  },
  {
   "cell_type": "markdown",
   "metadata": {},
   "source": [
    "**6. Loan**"
   ]
  },
  {
   "cell_type": "code",
   "execution_count": 24,
   "metadata": {},
   "outputs": [
    {
     "data": {
      "text/plain": [
       "no     36086\n",
       "yes     7107\n",
       "Name: loan, dtype: int64"
      ]
     },
     "execution_count": 24,
     "metadata": {},
     "output_type": "execute_result"
    }
   ],
   "source": [
    "df.loan.value_counts()"
   ]
  },
  {
   "cell_type": "markdown",
   "metadata": {},
   "source": [
    "Same as default column"
   ]
  },
  {
   "cell_type": "code",
   "execution_count": 25,
   "metadata": {},
   "outputs": [],
   "source": [
    "df.loan=df.loan.map({'yes': True, 'no': False})"
   ]
  },
  {
   "cell_type": "markdown",
   "metadata": {},
   "source": [
    "**7. Contact**"
   ]
  },
  {
   "cell_type": "code",
   "execution_count": 26,
   "metadata": {},
   "outputs": [
    {
     "data": {
      "text/plain": [
       "cellular     28213\n",
       "unknown      12286\n",
       "telephone     2694\n",
       "Name: contact, dtype: int64"
      ]
     },
     "execution_count": 26,
     "metadata": {},
     "output_type": "execute_result"
    }
   ],
   "source": [
    "df.contact.value_counts()"
   ]
  },
  {
   "cell_type": "markdown",
   "metadata": {},
   "source": [
    "We don't consider that contact has a significant impact on the decision. So we decide to drop the column"
   ]
  },
  {
   "cell_type": "code",
   "execution_count": 27,
   "metadata": {},
   "outputs": [],
   "source": [
    "df.drop('contact', axis=1, inplace=True)"
   ]
  },
  {
   "cell_type": "markdown",
   "metadata": {},
   "source": [
    "**8. Month**"
   ]
  },
  {
   "cell_type": "code",
   "execution_count": 28,
   "metadata": {},
   "outputs": [
    {
     "data": {
      "text/plain": [
       "may    13192\n",
       "jul     6601\n",
       "aug     6037\n",
       "jun     4980\n",
       "nov     3842\n",
       "apr     2820\n",
       "feb     2533\n",
       "jan     1318\n",
       "oct      690\n",
       "sep      532\n",
       "mar      448\n",
       "dec      200\n",
       "Name: month, dtype: int64"
      ]
     },
     "execution_count": 28,
     "metadata": {},
     "output_type": "execute_result"
    }
   ],
   "source": [
    "df.month.value_counts()"
   ]
  },
  {
   "cell_type": "markdown",
   "metadata": {},
   "source": [
    "As this is an ordinal column, we will transform this column into numeric"
   ]
  },
  {
   "cell_type": "code",
   "execution_count": 29,
   "metadata": {},
   "outputs": [],
   "source": [
    "dct={'jan':1,\n",
    "    'feb':2,\n",
    "    'mar':3,\n",
    "    'apr':4,\n",
    "    'may':5,\n",
    "    'jun':6,\n",
    "    'jul':7,\n",
    "    'aug':8,\n",
    "    'sep':9,\n",
    "    'oct':10,\n",
    "    'nov':11,\n",
    "    'dec':12}"
   ]
  },
  {
   "cell_type": "code",
   "execution_count": 30,
   "metadata": {},
   "outputs": [],
   "source": [
    "df.month=df.month.map(dct)"
   ]
  },
  {
   "cell_type": "code",
   "execution_count": 31,
   "metadata": {},
   "outputs": [
    {
     "data": {
      "text/plain": [
       "5     13192\n",
       "7      6601\n",
       "8      6037\n",
       "6      4980\n",
       "11     3842\n",
       "4      2820\n",
       "2      2533\n",
       "1      1318\n",
       "10      690\n",
       "9       532\n",
       "3       448\n",
       "12      200\n",
       "Name: month, dtype: int64"
      ]
     },
     "execution_count": 31,
     "metadata": {},
     "output_type": "execute_result"
    }
   ],
   "source": [
    "df.month.value_counts()"
   ]
  },
  {
   "cell_type": "markdown",
   "metadata": {},
   "source": [
    "**9. poutcome**"
   ]
  },
  {
   "cell_type": "code",
   "execution_count": 32,
   "metadata": {},
   "outputs": [
    {
     "data": {
      "text/plain": [
       "unknown    35286\n",
       "failure     4709\n",
       "other       1774\n",
       "success     1424\n",
       "Name: poutcome, dtype: int64"
      ]
     },
     "execution_count": 32,
     "metadata": {},
     "output_type": "execute_result"
    }
   ],
   "source": [
    "df.poutcome.value_counts()"
   ]
  },
  {
   "cell_type": "markdown",
   "metadata": {},
   "source": [
    "As we can see there is a very high amount of unknown value, we decide to drop this column as there are too many missing values."
   ]
  },
  {
   "cell_type": "code",
   "execution_count": 33,
   "metadata": {},
   "outputs": [],
   "source": [
    "df.drop('poutcome', axis=1, inplace=True)"
   ]
  },
  {
   "cell_type": "markdown",
   "metadata": {},
   "source": [
    "**10. y**"
   ]
  },
  {
   "cell_type": "code",
   "execution_count": 34,
   "metadata": {},
   "outputs": [
    {
     "data": {
      "text/plain": [
       "no     38172\n",
       "yes     5021\n",
       "Name: y, dtype: int64"
      ]
     },
     "execution_count": 34,
     "metadata": {},
     "output_type": "execute_result"
    }
   ],
   "source": [
    "df.y.value_counts()"
   ]
  },
  {
   "cell_type": "markdown",
   "metadata": {},
   "source": [
    "As this is a boolean column, we will transform it as numerical"
   ]
  },
  {
   "cell_type": "code",
   "execution_count": 35,
   "metadata": {},
   "outputs": [],
   "source": [
    "df.y=df.y.map({'yes': True, 'no': False})"
   ]
  },
  {
   "cell_type": "markdown",
   "metadata": {},
   "source": [
    "**11. pdays**"
   ]
  },
  {
   "cell_type": "markdown",
   "metadata": {},
   "source": [
    "This columns corresponds to the number of days number of days that passed by after the client was last contacted from a previous campaign. \\\n",
    "As we can see there are some rows with the value -1 which correponds to the client not contacted.\n",
    "We will assign the value 999 to the client who haven't been contacted"
   ]
  },
  {
   "cell_type": "code",
   "execution_count": 36,
   "metadata": {},
   "outputs": [],
   "source": [
    "df['pdays']=np.where(df['pdays']==-1, 999, df['pdays'])"
   ]
  },
  {
   "cell_type": "markdown",
   "metadata": {},
   "source": [
    "**12. Other manipulation**"
   ]
  },
  {
   "cell_type": "markdown",
   "metadata": {},
   "source": [
    "Now, we need to run dummies function"
   ]
  },
  {
   "cell_type": "code",
   "execution_count": 37,
   "metadata": {},
   "outputs": [],
   "source": [
    "df_dum=pd.get_dummies(data=df, columns=dummies)"
   ]
  },
  {
   "cell_type": "markdown",
   "metadata": {},
   "source": [
    "Let's check if there is no more non-numeric features"
   ]
  },
  {
   "cell_type": "code",
   "execution_count": 38,
   "metadata": {},
   "outputs": [
    {
     "name": "stdout",
     "output_type": "stream",
     "text": [
      "<class 'pandas.core.frame.DataFrame'>\n",
      "Int64Index: 43193 entries, 0 to 45210\n",
      "Data columns (total 14 columns):\n",
      " #   Column     Non-Null Count  Dtype\n",
      "---  ------     --------------  -----\n",
      " 0   age        43193 non-null  int64\n",
      " 1   marital    43193 non-null  int64\n",
      " 2   education  43193 non-null  int64\n",
      " 3   default    43193 non-null  bool \n",
      " 4   balance    43193 non-null  int64\n",
      " 5   housing    43193 non-null  bool \n",
      " 6   loan       43193 non-null  bool \n",
      " 7   day        43193 non-null  int64\n",
      " 8   month      43193 non-null  int64\n",
      " 9   duration   43193 non-null  int64\n",
      " 10  campaign   43193 non-null  int64\n",
      " 11  pdays      43193 non-null  int64\n",
      " 12  previous   43193 non-null  int64\n",
      " 13  y          43193 non-null  bool \n",
      "dtypes: bool(4), int64(10)\n",
      "memory usage: 3.8 MB\n"
     ]
    }
   ],
   "source": [
    "df.info()"
   ]
  },
  {
   "cell_type": "code",
   "execution_count": 39,
   "metadata": {},
   "outputs": [
    {
     "name": "stdout",
     "output_type": "stream",
     "text": [
      "<class 'pandas.core.frame.DataFrame'>\n",
      "Int64Index: 43193 entries, 0 to 45210\n",
      "Data columns (total 16 columns):\n",
      " #   Column     Non-Null Count  Dtype\n",
      "---  ------     --------------  -----\n",
      " 0   age        43193 non-null  int64\n",
      " 1   education  43193 non-null  int64\n",
      " 2   default    43193 non-null  bool \n",
      " 3   balance    43193 non-null  int64\n",
      " 4   housing    43193 non-null  bool \n",
      " 5   loan       43193 non-null  bool \n",
      " 6   day        43193 non-null  int64\n",
      " 7   month      43193 non-null  int64\n",
      " 8   duration   43193 non-null  int64\n",
      " 9   campaign   43193 non-null  int64\n",
      " 10  pdays      43193 non-null  int64\n",
      " 11  previous   43193 non-null  int64\n",
      " 12  y          43193 non-null  bool \n",
      " 13  marital_1  43193 non-null  uint8\n",
      " 14  marital_2  43193 non-null  uint8\n",
      " 15  marital_3  43193 non-null  uint8\n",
      "dtypes: bool(4), int64(9), uint8(3)\n",
      "memory usage: 3.6 MB\n"
     ]
    }
   ],
   "source": [
    "df_dum.info()"
   ]
  },
  {
   "cell_type": "markdown",
   "metadata": {},
   "source": [
    "We will rescale our dataframes"
   ]
  },
  {
   "cell_type": "code",
   "execution_count": 40,
   "metadata": {},
   "outputs": [],
   "source": [
    "from sklearn.preprocessing import MinMaxScaler"
   ]
  },
  {
   "cell_type": "code",
   "execution_count": 41,
   "metadata": {},
   "outputs": [],
   "source": [
    "scaler=MinMaxScaler()"
   ]
  },
  {
   "cell_type": "code",
   "execution_count": 42,
   "metadata": {},
   "outputs": [],
   "source": [
    "df_sca=df.copy()\n",
    "df_dum_sca=df_dum.copy()\n",
    "\n",
    "df_sca[['age','balance','duration','day','month','campaign','pdays']]=scaler.fit_transform(df[['age','balance','duration','day','month','campaign','pdays']])\n",
    "df_dum_sca[['age','balance','duration','day','month','campaign','pdays']]=scaler.transform(df_dum[['age','balance','duration','day','month','campaign','pdays']])"
   ]
  },
  {
   "cell_type": "markdown",
   "metadata": {},
   "source": [
    "# Features selection"
   ]
  },
  {
   "cell_type": "markdown",
   "metadata": {
    "heading_collapsed": true
   },
   "source": [
    "## Correlation threshold"
   ]
  },
  {
   "cell_type": "markdown",
   "metadata": {
    "hidden": true
   },
   "source": [
    "We will create a new dataframe without correlation between columns above 90%"
   ]
  },
  {
   "cell_type": "markdown",
   "metadata": {
    "heading_collapsed": true,
    "hidden": true
   },
   "source": [
    "### Original df"
   ]
  },
  {
   "cell_type": "code",
   "execution_count": 43,
   "metadata": {
    "hidden": true
   },
   "outputs": [
    {
     "data": {
      "text/html": [
       "<div>\n",
       "<style scoped>\n",
       "    .dataframe tbody tr th:only-of-type {\n",
       "        vertical-align: middle;\n",
       "    }\n",
       "\n",
       "    .dataframe tbody tr th {\n",
       "        vertical-align: top;\n",
       "    }\n",
       "\n",
       "    .dataframe thead th {\n",
       "        text-align: right;\n",
       "    }\n",
       "</style>\n",
       "<table border=\"1\" class=\"dataframe\">\n",
       "  <thead>\n",
       "    <tr style=\"text-align: right;\">\n",
       "      <th></th>\n",
       "      <th>age</th>\n",
       "      <th>marital</th>\n",
       "      <th>education</th>\n",
       "      <th>default</th>\n",
       "      <th>balance</th>\n",
       "      <th>housing</th>\n",
       "      <th>loan</th>\n",
       "      <th>day</th>\n",
       "      <th>month</th>\n",
       "      <th>duration</th>\n",
       "      <th>campaign</th>\n",
       "      <th>pdays</th>\n",
       "      <th>previous</th>\n",
       "      <th>y</th>\n",
       "    </tr>\n",
       "  </thead>\n",
       "  <tbody>\n",
       "    <tr>\n",
       "      <th>age</th>\n",
       "      <td>1.000000</td>\n",
       "      <td>0.403288</td>\n",
       "      <td>-0.167092</td>\n",
       "      <td>-0.016245</td>\n",
       "      <td>0.097602</td>\n",
       "      <td>-0.185152</td>\n",
       "      <td>-0.010029</td>\n",
       "      <td>-0.008451</td>\n",
       "      <td>0.094109</td>\n",
       "      <td>-0.004953</td>\n",
       "      <td>0.004050</td>\n",
       "      <td>-0.008504</td>\n",
       "      <td>0.001099</td>\n",
       "      <td>0.024760</td>\n",
       "    </tr>\n",
       "    <tr>\n",
       "      <th>marital</th>\n",
       "      <td>0.403288</td>\n",
       "      <td>1.000000</td>\n",
       "      <td>-0.122251</td>\n",
       "      <td>0.006891</td>\n",
       "      <td>-0.002058</td>\n",
       "      <td>0.013112</td>\n",
       "      <td>0.046938</td>\n",
       "      <td>0.005032</td>\n",
       "      <td>0.049605</td>\n",
       "      <td>-0.013029</td>\n",
       "      <td>0.007872</td>\n",
       "      <td>0.025740</td>\n",
       "      <td>-0.014967</td>\n",
       "      <td>-0.045749</td>\n",
       "    </tr>\n",
       "    <tr>\n",
       "      <th>education</th>\n",
       "      <td>-0.167092</td>\n",
       "      <td>-0.122251</td>\n",
       "      <td>1.000000</td>\n",
       "      <td>-0.012011</td>\n",
       "      <td>0.069432</td>\n",
       "      <td>-0.080456</td>\n",
       "      <td>-0.028293</td>\n",
       "      <td>0.025957</td>\n",
       "      <td>0.073334</td>\n",
       "      <td>0.002482</td>\n",
       "      <td>0.004201</td>\n",
       "      <td>-0.050801</td>\n",
       "      <td>0.024938</td>\n",
       "      <td>0.070920</td>\n",
       "    </tr>\n",
       "    <tr>\n",
       "      <th>default</th>\n",
       "      <td>-0.016245</td>\n",
       "      <td>0.006891</td>\n",
       "      <td>-0.012011</td>\n",
       "      <td>1.000000</td>\n",
       "      <td>-0.066458</td>\n",
       "      <td>-0.009031</td>\n",
       "      <td>0.076025</td>\n",
       "      <td>0.008823</td>\n",
       "      <td>0.015964</td>\n",
       "      <td>-0.011040</td>\n",
       "      <td>0.016441</td>\n",
       "      <td>0.040092</td>\n",
       "      <td>-0.017893</td>\n",
       "      <td>-0.023244</td>\n",
       "    </tr>\n",
       "    <tr>\n",
       "      <th>balance</th>\n",
       "      <td>0.097602</td>\n",
       "      <td>-0.002058</td>\n",
       "      <td>0.069432</td>\n",
       "      <td>-0.066458</td>\n",
       "      <td>1.000000</td>\n",
       "      <td>-0.067037</td>\n",
       "      <td>-0.084378</td>\n",
       "      <td>0.004118</td>\n",
       "      <td>0.094138</td>\n",
       "      <td>0.020051</td>\n",
       "      <td>-0.016251</td>\n",
       "      <td>-0.037482</td>\n",
       "      <td>0.016564</td>\n",
       "      <td>0.051386</td>\n",
       "    </tr>\n",
       "    <tr>\n",
       "      <th>housing</th>\n",
       "      <td>-0.185152</td>\n",
       "      <td>0.013112</td>\n",
       "      <td>-0.080456</td>\n",
       "      <td>-0.009031</td>\n",
       "      <td>-0.067037</td>\n",
       "      <td>1.000000</td>\n",
       "      <td>0.037004</td>\n",
       "      <td>-0.029826</td>\n",
       "      <td>-0.175594</td>\n",
       "      <td>0.004017</td>\n",
       "      <td>-0.025554</td>\n",
       "      <td>-0.040879</td>\n",
       "      <td>0.036803</td>\n",
       "      <td>-0.138300</td>\n",
       "    </tr>\n",
       "    <tr>\n",
       "      <th>loan</th>\n",
       "      <td>-0.010029</td>\n",
       "      <td>0.046938</td>\n",
       "      <td>-0.028293</td>\n",
       "      <td>0.076025</td>\n",
       "      <td>-0.084378</td>\n",
       "      <td>0.037004</td>\n",
       "      <td>1.000000</td>\n",
       "      <td>0.010957</td>\n",
       "      <td>0.020067</td>\n",
       "      <td>-0.013230</td>\n",
       "      <td>0.010447</td>\n",
       "      <td>0.032856</td>\n",
       "      <td>-0.011367</td>\n",
       "      <td>-0.068802</td>\n",
       "    </tr>\n",
       "    <tr>\n",
       "      <th>day</th>\n",
       "      <td>-0.008451</td>\n",
       "      <td>0.005032</td>\n",
       "      <td>0.025957</td>\n",
       "      <td>0.008823</td>\n",
       "      <td>0.004118</td>\n",
       "      <td>-0.029826</td>\n",
       "      <td>0.010957</td>\n",
       "      <td>1.000000</td>\n",
       "      <td>0.105959</td>\n",
       "      <td>-0.030074</td>\n",
       "      <td>0.164982</td>\n",
       "      <td>0.081210</td>\n",
       "      <td>-0.052053</td>\n",
       "      <td>-0.030247</td>\n",
       "    </tr>\n",
       "    <tr>\n",
       "      <th>month</th>\n",
       "      <td>0.094109</td>\n",
       "      <td>0.049605</td>\n",
       "      <td>0.073334</td>\n",
       "      <td>0.015964</td>\n",
       "      <td>0.094138</td>\n",
       "      <td>-0.175594</td>\n",
       "      <td>0.020067</td>\n",
       "      <td>0.105959</td>\n",
       "      <td>1.000000</td>\n",
       "      <td>-0.013339</td>\n",
       "      <td>0.055813</td>\n",
       "      <td>0.044017</td>\n",
       "      <td>-0.037150</td>\n",
       "      <td>0.016888</td>\n",
       "    </tr>\n",
       "    <tr>\n",
       "      <th>duration</th>\n",
       "      <td>-0.004953</td>\n",
       "      <td>-0.013029</td>\n",
       "      <td>0.002482</td>\n",
       "      <td>-0.011040</td>\n",
       "      <td>0.020051</td>\n",
       "      <td>0.004017</td>\n",
       "      <td>-0.013230</td>\n",
       "      <td>-0.030074</td>\n",
       "      <td>-0.013339</td>\n",
       "      <td>1.000000</td>\n",
       "      <td>-0.083118</td>\n",
       "      <td>-0.004431</td>\n",
       "      <td>0.000295</td>\n",
       "      <td>0.397393</td>\n",
       "    </tr>\n",
       "    <tr>\n",
       "      <th>campaign</th>\n",
       "      <td>0.004050</td>\n",
       "      <td>0.007872</td>\n",
       "      <td>0.004201</td>\n",
       "      <td>0.016441</td>\n",
       "      <td>-0.016251</td>\n",
       "      <td>-0.025554</td>\n",
       "      <td>0.010447</td>\n",
       "      <td>0.164982</td>\n",
       "      <td>0.055813</td>\n",
       "      <td>-0.083118</td>\n",
       "      <td>1.000000</td>\n",
       "      <td>0.108676</td>\n",
       "      <td>-0.032381</td>\n",
       "      <td>-0.072465</td>\n",
       "    </tr>\n",
       "    <tr>\n",
       "      <th>pdays</th>\n",
       "      <td>-0.008504</td>\n",
       "      <td>0.025740</td>\n",
       "      <td>-0.050801</td>\n",
       "      <td>0.040092</td>\n",
       "      <td>-0.037482</td>\n",
       "      <td>-0.040879</td>\n",
       "      <td>0.032856</td>\n",
       "      <td>0.081210</td>\n",
       "      <td>0.044017</td>\n",
       "      <td>-0.004431</td>\n",
       "      <td>0.108676</td>\n",
       "      <td>1.000000</td>\n",
       "      <td>-0.525055</td>\n",
       "      <td>-0.175740</td>\n",
       "    </tr>\n",
       "    <tr>\n",
       "      <th>previous</th>\n",
       "      <td>0.001099</td>\n",
       "      <td>-0.014967</td>\n",
       "      <td>0.024938</td>\n",
       "      <td>-0.017893</td>\n",
       "      <td>0.016564</td>\n",
       "      <td>0.036803</td>\n",
       "      <td>-0.011367</td>\n",
       "      <td>-0.052053</td>\n",
       "      <td>-0.037150</td>\n",
       "      <td>0.000295</td>\n",
       "      <td>-0.032381</td>\n",
       "      <td>-0.525055</td>\n",
       "      <td>1.000000</td>\n",
       "      <td>0.091764</td>\n",
       "    </tr>\n",
       "    <tr>\n",
       "      <th>y</th>\n",
       "      <td>0.024760</td>\n",
       "      <td>-0.045749</td>\n",
       "      <td>0.070920</td>\n",
       "      <td>-0.023244</td>\n",
       "      <td>0.051386</td>\n",
       "      <td>-0.138300</td>\n",
       "      <td>-0.068802</td>\n",
       "      <td>-0.030247</td>\n",
       "      <td>0.016888</td>\n",
       "      <td>0.397393</td>\n",
       "      <td>-0.072465</td>\n",
       "      <td>-0.175740</td>\n",
       "      <td>0.091764</td>\n",
       "      <td>1.000000</td>\n",
       "    </tr>\n",
       "  </tbody>\n",
       "</table>\n",
       "</div>"
      ],
      "text/plain": [
       "                age   marital  education   default   balance   housing  \\\n",
       "age        1.000000  0.403288  -0.167092 -0.016245  0.097602 -0.185152   \n",
       "marital    0.403288  1.000000  -0.122251  0.006891 -0.002058  0.013112   \n",
       "education -0.167092 -0.122251   1.000000 -0.012011  0.069432 -0.080456   \n",
       "default   -0.016245  0.006891  -0.012011  1.000000 -0.066458 -0.009031   \n",
       "balance    0.097602 -0.002058   0.069432 -0.066458  1.000000 -0.067037   \n",
       "housing   -0.185152  0.013112  -0.080456 -0.009031 -0.067037  1.000000   \n",
       "loan      -0.010029  0.046938  -0.028293  0.076025 -0.084378  0.037004   \n",
       "day       -0.008451  0.005032   0.025957  0.008823  0.004118 -0.029826   \n",
       "month      0.094109  0.049605   0.073334  0.015964  0.094138 -0.175594   \n",
       "duration  -0.004953 -0.013029   0.002482 -0.011040  0.020051  0.004017   \n",
       "campaign   0.004050  0.007872   0.004201  0.016441 -0.016251 -0.025554   \n",
       "pdays     -0.008504  0.025740  -0.050801  0.040092 -0.037482 -0.040879   \n",
       "previous   0.001099 -0.014967   0.024938 -0.017893  0.016564  0.036803   \n",
       "y          0.024760 -0.045749   0.070920 -0.023244  0.051386 -0.138300   \n",
       "\n",
       "               loan       day     month  duration  campaign     pdays  \\\n",
       "age       -0.010029 -0.008451  0.094109 -0.004953  0.004050 -0.008504   \n",
       "marital    0.046938  0.005032  0.049605 -0.013029  0.007872  0.025740   \n",
       "education -0.028293  0.025957  0.073334  0.002482  0.004201 -0.050801   \n",
       "default    0.076025  0.008823  0.015964 -0.011040  0.016441  0.040092   \n",
       "balance   -0.084378  0.004118  0.094138  0.020051 -0.016251 -0.037482   \n",
       "housing    0.037004 -0.029826 -0.175594  0.004017 -0.025554 -0.040879   \n",
       "loan       1.000000  0.010957  0.020067 -0.013230  0.010447  0.032856   \n",
       "day        0.010957  1.000000  0.105959 -0.030074  0.164982  0.081210   \n",
       "month      0.020067  0.105959  1.000000 -0.013339  0.055813  0.044017   \n",
       "duration  -0.013230 -0.030074 -0.013339  1.000000 -0.083118 -0.004431   \n",
       "campaign   0.010447  0.164982  0.055813 -0.083118  1.000000  0.108676   \n",
       "pdays      0.032856  0.081210  0.044017 -0.004431  0.108676  1.000000   \n",
       "previous  -0.011367 -0.052053 -0.037150  0.000295 -0.032381 -0.525055   \n",
       "y         -0.068802 -0.030247  0.016888  0.397393 -0.072465 -0.175740   \n",
       "\n",
       "           previous         y  \n",
       "age        0.001099  0.024760  \n",
       "marital   -0.014967 -0.045749  \n",
       "education  0.024938  0.070920  \n",
       "default   -0.017893 -0.023244  \n",
       "balance    0.016564  0.051386  \n",
       "housing    0.036803 -0.138300  \n",
       "loan      -0.011367 -0.068802  \n",
       "day       -0.052053 -0.030247  \n",
       "month     -0.037150  0.016888  \n",
       "duration   0.000295  0.397393  \n",
       "campaign  -0.032381 -0.072465  \n",
       "pdays     -0.525055 -0.175740  \n",
       "previous   1.000000  0.091764  \n",
       "y          0.091764  1.000000  "
      ]
     },
     "execution_count": 43,
     "metadata": {},
     "output_type": "execute_result"
    }
   ],
   "source": [
    "df.corr()"
   ]
  },
  {
   "cell_type": "markdown",
   "metadata": {
    "hidden": true
   },
   "source": [
    "As we can there isn't any column highly correlated to another column. \\\n",
    "So we don't need to drop column at this stage"
   ]
  },
  {
   "cell_type": "markdown",
   "metadata": {
    "heading_collapsed": true,
    "hidden": true
   },
   "source": [
    "### Rescale df"
   ]
  },
  {
   "cell_type": "code",
   "execution_count": 44,
   "metadata": {
    "hidden": true
   },
   "outputs": [
    {
     "data": {
      "text/html": [
       "<div>\n",
       "<style scoped>\n",
       "    .dataframe tbody tr th:only-of-type {\n",
       "        vertical-align: middle;\n",
       "    }\n",
       "\n",
       "    .dataframe tbody tr th {\n",
       "        vertical-align: top;\n",
       "    }\n",
       "\n",
       "    .dataframe thead th {\n",
       "        text-align: right;\n",
       "    }\n",
       "</style>\n",
       "<table border=\"1\" class=\"dataframe\">\n",
       "  <thead>\n",
       "    <tr style=\"text-align: right;\">\n",
       "      <th></th>\n",
       "      <th>age</th>\n",
       "      <th>education</th>\n",
       "      <th>default</th>\n",
       "      <th>balance</th>\n",
       "      <th>housing</th>\n",
       "      <th>loan</th>\n",
       "      <th>day</th>\n",
       "      <th>month</th>\n",
       "      <th>duration</th>\n",
       "      <th>campaign</th>\n",
       "      <th>pdays</th>\n",
       "      <th>previous</th>\n",
       "      <th>y</th>\n",
       "      <th>marital_1</th>\n",
       "      <th>marital_2</th>\n",
       "      <th>marital_3</th>\n",
       "    </tr>\n",
       "  </thead>\n",
       "  <tbody>\n",
       "    <tr>\n",
       "      <th>age</th>\n",
       "      <td>1.000000</td>\n",
       "      <td>-0.167092</td>\n",
       "      <td>-0.016245</td>\n",
       "      <td>0.097602</td>\n",
       "      <td>-0.185152</td>\n",
       "      <td>-0.010029</td>\n",
       "      <td>-0.008451</td>\n",
       "      <td>0.094109</td>\n",
       "      <td>-0.004953</td>\n",
       "      <td>0.004050</td>\n",
       "      <td>-0.008504</td>\n",
       "      <td>0.001099</td>\n",
       "      <td>0.024760</td>\n",
       "      <td>-0.425297</td>\n",
       "      <td>0.280298</td>\n",
       "      <td>0.169244</td>\n",
       "    </tr>\n",
       "    <tr>\n",
       "      <th>education</th>\n",
       "      <td>-0.167092</td>\n",
       "      <td>1.000000</td>\n",
       "      <td>-0.012011</td>\n",
       "      <td>0.069432</td>\n",
       "      <td>-0.080456</td>\n",
       "      <td>-0.028293</td>\n",
       "      <td>0.025957</td>\n",
       "      <td>0.073334</td>\n",
       "      <td>0.002482</td>\n",
       "      <td>0.004201</td>\n",
       "      <td>-0.050801</td>\n",
       "      <td>0.024938</td>\n",
       "      <td>0.070920</td>\n",
       "      <td>0.162962</td>\n",
       "      <td>-0.147578</td>\n",
       "      <td>-0.003499</td>\n",
       "    </tr>\n",
       "    <tr>\n",
       "      <th>default</th>\n",
       "      <td>-0.016245</td>\n",
       "      <td>-0.012011</td>\n",
       "      <td>1.000000</td>\n",
       "      <td>-0.066458</td>\n",
       "      <td>-0.009031</td>\n",
       "      <td>0.076025</td>\n",
       "      <td>0.008823</td>\n",
       "      <td>0.015964</td>\n",
       "      <td>-0.011040</td>\n",
       "      <td>0.016441</td>\n",
       "      <td>0.040092</td>\n",
       "      <td>-0.017893</td>\n",
       "      <td>-0.023244</td>\n",
       "      <td>0.002998</td>\n",
       "      <td>-0.014092</td>\n",
       "      <td>0.017309</td>\n",
       "    </tr>\n",
       "    <tr>\n",
       "      <th>balance</th>\n",
       "      <td>0.097602</td>\n",
       "      <td>0.069432</td>\n",
       "      <td>-0.066458</td>\n",
       "      <td>1.000000</td>\n",
       "      <td>-0.067037</td>\n",
       "      <td>-0.084378</td>\n",
       "      <td>0.004118</td>\n",
       "      <td>0.094138</td>\n",
       "      <td>0.020051</td>\n",
       "      <td>-0.016251</td>\n",
       "      <td>-0.037482</td>\n",
       "      <td>0.016564</td>\n",
       "      <td>0.051386</td>\n",
       "      <td>-0.012897</td>\n",
       "      <td>0.026283</td>\n",
       "      <td>-0.022024</td>\n",
       "    </tr>\n",
       "    <tr>\n",
       "      <th>housing</th>\n",
       "      <td>-0.185152</td>\n",
       "      <td>-0.080456</td>\n",
       "      <td>-0.009031</td>\n",
       "      <td>-0.067037</td>\n",
       "      <td>1.000000</td>\n",
       "      <td>0.037004</td>\n",
       "      <td>-0.029826</td>\n",
       "      <td>-0.175594</td>\n",
       "      <td>0.004017</td>\n",
       "      <td>-0.025554</td>\n",
       "      <td>-0.040879</td>\n",
       "      <td>0.036803</td>\n",
       "      <td>-0.138300</td>\n",
       "      <td>-0.018758</td>\n",
       "      <td>0.018183</td>\n",
       "      <td>-0.001423</td>\n",
       "    </tr>\n",
       "    <tr>\n",
       "      <th>loan</th>\n",
       "      <td>-0.010029</td>\n",
       "      <td>-0.028293</td>\n",
       "      <td>0.076025</td>\n",
       "      <td>-0.084378</td>\n",
       "      <td>0.037004</td>\n",
       "      <td>1.000000</td>\n",
       "      <td>0.010957</td>\n",
       "      <td>0.020067</td>\n",
       "      <td>-0.013230</td>\n",
       "      <td>0.010447</td>\n",
       "      <td>0.032856</td>\n",
       "      <td>-0.011367</td>\n",
       "      <td>-0.068802</td>\n",
       "      <td>-0.052478</td>\n",
       "      <td>0.038101</td>\n",
       "      <td>0.015516</td>\n",
       "    </tr>\n",
       "    <tr>\n",
       "      <th>day</th>\n",
       "      <td>-0.008451</td>\n",
       "      <td>0.025957</td>\n",
       "      <td>0.008823</td>\n",
       "      <td>0.004118</td>\n",
       "      <td>-0.029826</td>\n",
       "      <td>0.010957</td>\n",
       "      <td>1.000000</td>\n",
       "      <td>0.105959</td>\n",
       "      <td>-0.030074</td>\n",
       "      <td>0.164982</td>\n",
       "      <td>0.081210</td>\n",
       "      <td>-0.052053</td>\n",
       "      <td>-0.030247</td>\n",
       "      <td>-0.006778</td>\n",
       "      <td>0.006203</td>\n",
       "      <td>0.000046</td>\n",
       "    </tr>\n",
       "    <tr>\n",
       "      <th>month</th>\n",
       "      <td>0.094109</td>\n",
       "      <td>0.073334</td>\n",
       "      <td>0.015964</td>\n",
       "      <td>0.094138</td>\n",
       "      <td>-0.175594</td>\n",
       "      <td>0.020067</td>\n",
       "      <td>0.105959</td>\n",
       "      <td>1.000000</td>\n",
       "      <td>-0.013339</td>\n",
       "      <td>0.055813</td>\n",
       "      <td>0.044017</td>\n",
       "      <td>-0.037150</td>\n",
       "      <td>0.016888</td>\n",
       "      <td>-0.067555</td>\n",
       "      <td>0.062512</td>\n",
       "      <td>-0.000589</td>\n",
       "    </tr>\n",
       "    <tr>\n",
       "      <th>duration</th>\n",
       "      <td>-0.004953</td>\n",
       "      <td>0.002482</td>\n",
       "      <td>-0.011040</td>\n",
       "      <td>0.020051</td>\n",
       "      <td>0.004017</td>\n",
       "      <td>-0.013230</td>\n",
       "      <td>-0.030074</td>\n",
       "      <td>-0.013339</td>\n",
       "      <td>1.000000</td>\n",
       "      <td>-0.083118</td>\n",
       "      <td>-0.004431</td>\n",
       "      <td>0.000295</td>\n",
       "      <td>0.397393</td>\n",
       "      <td>0.020835</td>\n",
       "      <td>-0.022105</td>\n",
       "      <td>0.004496</td>\n",
       "    </tr>\n",
       "    <tr>\n",
       "      <th>campaign</th>\n",
       "      <td>0.004050</td>\n",
       "      <td>0.004201</td>\n",
       "      <td>0.016441</td>\n",
       "      <td>-0.016251</td>\n",
       "      <td>-0.025554</td>\n",
       "      <td>0.010447</td>\n",
       "      <td>0.164982</td>\n",
       "      <td>0.055813</td>\n",
       "      <td>-0.083118</td>\n",
       "      <td>1.000000</td>\n",
       "      <td>0.108676</td>\n",
       "      <td>-0.032381</td>\n",
       "      <td>-0.072465</td>\n",
       "      <td>-0.021829</td>\n",
       "      <td>0.030353</td>\n",
       "      <td>-0.015694</td>\n",
       "    </tr>\n",
       "    <tr>\n",
       "      <th>pdays</th>\n",
       "      <td>-0.008504</td>\n",
       "      <td>-0.050801</td>\n",
       "      <td>0.040092</td>\n",
       "      <td>-0.037482</td>\n",
       "      <td>-0.040879</td>\n",
       "      <td>0.032856</td>\n",
       "      <td>0.081210</td>\n",
       "      <td>0.044017</td>\n",
       "      <td>-0.004431</td>\n",
       "      <td>0.108676</td>\n",
       "      <td>1.000000</td>\n",
       "      <td>-0.525055</td>\n",
       "      <td>-0.175740</td>\n",
       "      <td>-0.030499</td>\n",
       "      <td>0.024060</td>\n",
       "      <td>0.006091</td>\n",
       "    </tr>\n",
       "    <tr>\n",
       "      <th>previous</th>\n",
       "      <td>0.001099</td>\n",
       "      <td>0.024938</td>\n",
       "      <td>-0.017893</td>\n",
       "      <td>0.016564</td>\n",
       "      <td>0.036803</td>\n",
       "      <td>-0.011367</td>\n",
       "      <td>-0.052053</td>\n",
       "      <td>-0.037150</td>\n",
       "      <td>0.000295</td>\n",
       "      <td>-0.032381</td>\n",
       "      <td>-0.525055</td>\n",
       "      <td>1.000000</td>\n",
       "      <td>0.091764</td>\n",
       "      <td>0.016892</td>\n",
       "      <td>-0.012440</td>\n",
       "      <td>-0.004725</td>\n",
       "    </tr>\n",
       "    <tr>\n",
       "      <th>y</th>\n",
       "      <td>0.024760</td>\n",
       "      <td>0.070920</td>\n",
       "      <td>-0.023244</td>\n",
       "      <td>0.051386</td>\n",
       "      <td>-0.138300</td>\n",
       "      <td>-0.068802</td>\n",
       "      <td>-0.030247</td>\n",
       "      <td>0.016888</td>\n",
       "      <td>0.397393</td>\n",
       "      <td>-0.072465</td>\n",
       "      <td>-0.175740</td>\n",
       "      <td>0.091764</td>\n",
       "      <td>1.000000</td>\n",
       "      <td>0.064084</td>\n",
       "      <td>-0.060928</td>\n",
       "      <td>0.003044</td>\n",
       "    </tr>\n",
       "    <tr>\n",
       "      <th>marital_1</th>\n",
       "      <td>-0.425297</td>\n",
       "      <td>0.162962</td>\n",
       "      <td>0.002998</td>\n",
       "      <td>-0.012897</td>\n",
       "      <td>-0.018758</td>\n",
       "      <td>-0.052478</td>\n",
       "      <td>-0.006778</td>\n",
       "      <td>-0.067555</td>\n",
       "      <td>0.020835</td>\n",
       "      <td>-0.021829</td>\n",
       "      <td>-0.030499</td>\n",
       "      <td>0.016892</td>\n",
       "      <td>0.064084</td>\n",
       "      <td>1.000000</td>\n",
       "      <td>-0.770367</td>\n",
       "      <td>-0.227973</td>\n",
       "    </tr>\n",
       "    <tr>\n",
       "      <th>marital_2</th>\n",
       "      <td>0.280298</td>\n",
       "      <td>-0.147578</td>\n",
       "      <td>-0.014092</td>\n",
       "      <td>0.026283</td>\n",
       "      <td>0.018183</td>\n",
       "      <td>0.038101</td>\n",
       "      <td>0.006203</td>\n",
       "      <td>0.062512</td>\n",
       "      <td>-0.022105</td>\n",
       "      <td>0.030353</td>\n",
       "      <td>0.024060</td>\n",
       "      <td>-0.012440</td>\n",
       "      <td>-0.060928</td>\n",
       "      <td>-0.770367</td>\n",
       "      <td>1.000000</td>\n",
       "      <td>-0.445188</td>\n",
       "    </tr>\n",
       "    <tr>\n",
       "      <th>marital_3</th>\n",
       "      <td>0.169244</td>\n",
       "      <td>-0.003499</td>\n",
       "      <td>0.017309</td>\n",
       "      <td>-0.022024</td>\n",
       "      <td>-0.001423</td>\n",
       "      <td>0.015516</td>\n",
       "      <td>0.000046</td>\n",
       "      <td>-0.000589</td>\n",
       "      <td>0.004496</td>\n",
       "      <td>-0.015694</td>\n",
       "      <td>0.006091</td>\n",
       "      <td>-0.004725</td>\n",
       "      <td>0.003044</td>\n",
       "      <td>-0.227973</td>\n",
       "      <td>-0.445188</td>\n",
       "      <td>1.000000</td>\n",
       "    </tr>\n",
       "  </tbody>\n",
       "</table>\n",
       "</div>"
      ],
      "text/plain": [
       "                age  education   default   balance   housing      loan  \\\n",
       "age        1.000000  -0.167092 -0.016245  0.097602 -0.185152 -0.010029   \n",
       "education -0.167092   1.000000 -0.012011  0.069432 -0.080456 -0.028293   \n",
       "default   -0.016245  -0.012011  1.000000 -0.066458 -0.009031  0.076025   \n",
       "balance    0.097602   0.069432 -0.066458  1.000000 -0.067037 -0.084378   \n",
       "housing   -0.185152  -0.080456 -0.009031 -0.067037  1.000000  0.037004   \n",
       "loan      -0.010029  -0.028293  0.076025 -0.084378  0.037004  1.000000   \n",
       "day       -0.008451   0.025957  0.008823  0.004118 -0.029826  0.010957   \n",
       "month      0.094109   0.073334  0.015964  0.094138 -0.175594  0.020067   \n",
       "duration  -0.004953   0.002482 -0.011040  0.020051  0.004017 -0.013230   \n",
       "campaign   0.004050   0.004201  0.016441 -0.016251 -0.025554  0.010447   \n",
       "pdays     -0.008504  -0.050801  0.040092 -0.037482 -0.040879  0.032856   \n",
       "previous   0.001099   0.024938 -0.017893  0.016564  0.036803 -0.011367   \n",
       "y          0.024760   0.070920 -0.023244  0.051386 -0.138300 -0.068802   \n",
       "marital_1 -0.425297   0.162962  0.002998 -0.012897 -0.018758 -0.052478   \n",
       "marital_2  0.280298  -0.147578 -0.014092  0.026283  0.018183  0.038101   \n",
       "marital_3  0.169244  -0.003499  0.017309 -0.022024 -0.001423  0.015516   \n",
       "\n",
       "                day     month  duration  campaign     pdays  previous  \\\n",
       "age       -0.008451  0.094109 -0.004953  0.004050 -0.008504  0.001099   \n",
       "education  0.025957  0.073334  0.002482  0.004201 -0.050801  0.024938   \n",
       "default    0.008823  0.015964 -0.011040  0.016441  0.040092 -0.017893   \n",
       "balance    0.004118  0.094138  0.020051 -0.016251 -0.037482  0.016564   \n",
       "housing   -0.029826 -0.175594  0.004017 -0.025554 -0.040879  0.036803   \n",
       "loan       0.010957  0.020067 -0.013230  0.010447  0.032856 -0.011367   \n",
       "day        1.000000  0.105959 -0.030074  0.164982  0.081210 -0.052053   \n",
       "month      0.105959  1.000000 -0.013339  0.055813  0.044017 -0.037150   \n",
       "duration  -0.030074 -0.013339  1.000000 -0.083118 -0.004431  0.000295   \n",
       "campaign   0.164982  0.055813 -0.083118  1.000000  0.108676 -0.032381   \n",
       "pdays      0.081210  0.044017 -0.004431  0.108676  1.000000 -0.525055   \n",
       "previous  -0.052053 -0.037150  0.000295 -0.032381 -0.525055  1.000000   \n",
       "y         -0.030247  0.016888  0.397393 -0.072465 -0.175740  0.091764   \n",
       "marital_1 -0.006778 -0.067555  0.020835 -0.021829 -0.030499  0.016892   \n",
       "marital_2  0.006203  0.062512 -0.022105  0.030353  0.024060 -0.012440   \n",
       "marital_3  0.000046 -0.000589  0.004496 -0.015694  0.006091 -0.004725   \n",
       "\n",
       "                  y  marital_1  marital_2  marital_3  \n",
       "age        0.024760  -0.425297   0.280298   0.169244  \n",
       "education  0.070920   0.162962  -0.147578  -0.003499  \n",
       "default   -0.023244   0.002998  -0.014092   0.017309  \n",
       "balance    0.051386  -0.012897   0.026283  -0.022024  \n",
       "housing   -0.138300  -0.018758   0.018183  -0.001423  \n",
       "loan      -0.068802  -0.052478   0.038101   0.015516  \n",
       "day       -0.030247  -0.006778   0.006203   0.000046  \n",
       "month      0.016888  -0.067555   0.062512  -0.000589  \n",
       "duration   0.397393   0.020835  -0.022105   0.004496  \n",
       "campaign  -0.072465  -0.021829   0.030353  -0.015694  \n",
       "pdays     -0.175740  -0.030499   0.024060   0.006091  \n",
       "previous   0.091764   0.016892  -0.012440  -0.004725  \n",
       "y          1.000000   0.064084  -0.060928   0.003044  \n",
       "marital_1  0.064084   1.000000  -0.770367  -0.227973  \n",
       "marital_2 -0.060928  -0.770367   1.000000  -0.445188  \n",
       "marital_3  0.003044  -0.227973  -0.445188   1.000000  "
      ]
     },
     "execution_count": 44,
     "metadata": {},
     "output_type": "execute_result"
    }
   ],
   "source": [
    "df_dum.corr()"
   ]
  },
  {
   "cell_type": "markdown",
   "metadata": {
    "hidden": true
   },
   "source": [
    "Same as df1, no need to drop column at this stage"
   ]
  },
  {
   "cell_type": "markdown",
   "metadata": {},
   "source": [
    "## Filters"
   ]
  },
  {
   "cell_type": "code",
   "execution_count": 45,
   "metadata": {},
   "outputs": [],
   "source": [
    "from sklearn.feature_selection import SelectKBest, chi2, f_classif\n",
    "from sklearn.model_selection import train_test_split"
   ]
  },
  {
   "cell_type": "code",
   "execution_count": 46,
   "metadata": {},
   "outputs": [
    {
     "data": {
      "text/html": [
       "<div>\n",
       "<style scoped>\n",
       "    .dataframe tbody tr th:only-of-type {\n",
       "        vertical-align: middle;\n",
       "    }\n",
       "\n",
       "    .dataframe tbody tr th {\n",
       "        vertical-align: top;\n",
       "    }\n",
       "\n",
       "    .dataframe thead th {\n",
       "        text-align: right;\n",
       "    }\n",
       "</style>\n",
       "<table border=\"1\" class=\"dataframe\">\n",
       "  <thead>\n",
       "    <tr style=\"text-align: right;\">\n",
       "      <th></th>\n",
       "      <th>age</th>\n",
       "      <th>marital</th>\n",
       "      <th>education</th>\n",
       "      <th>default</th>\n",
       "      <th>balance</th>\n",
       "      <th>housing</th>\n",
       "      <th>loan</th>\n",
       "      <th>day</th>\n",
       "      <th>month</th>\n",
       "      <th>duration</th>\n",
       "      <th>campaign</th>\n",
       "      <th>pdays</th>\n",
       "      <th>previous</th>\n",
       "      <th>y</th>\n",
       "    </tr>\n",
       "  </thead>\n",
       "  <tbody>\n",
       "    <tr>\n",
       "      <th>0</th>\n",
       "      <td>58</td>\n",
       "      <td>2</td>\n",
       "      <td>3</td>\n",
       "      <td>False</td>\n",
       "      <td>2143</td>\n",
       "      <td>True</td>\n",
       "      <td>False</td>\n",
       "      <td>5</td>\n",
       "      <td>5</td>\n",
       "      <td>261</td>\n",
       "      <td>1</td>\n",
       "      <td>999</td>\n",
       "      <td>0</td>\n",
       "      <td>False</td>\n",
       "    </tr>\n",
       "    <tr>\n",
       "      <th>1</th>\n",
       "      <td>44</td>\n",
       "      <td>1</td>\n",
       "      <td>2</td>\n",
       "      <td>False</td>\n",
       "      <td>29</td>\n",
       "      <td>True</td>\n",
       "      <td>False</td>\n",
       "      <td>5</td>\n",
       "      <td>5</td>\n",
       "      <td>151</td>\n",
       "      <td>1</td>\n",
       "      <td>999</td>\n",
       "      <td>0</td>\n",
       "      <td>False</td>\n",
       "    </tr>\n",
       "    <tr>\n",
       "      <th>2</th>\n",
       "      <td>33</td>\n",
       "      <td>2</td>\n",
       "      <td>2</td>\n",
       "      <td>False</td>\n",
       "      <td>2</td>\n",
       "      <td>True</td>\n",
       "      <td>True</td>\n",
       "      <td>5</td>\n",
       "      <td>5</td>\n",
       "      <td>76</td>\n",
       "      <td>1</td>\n",
       "      <td>999</td>\n",
       "      <td>0</td>\n",
       "      <td>False</td>\n",
       "    </tr>\n",
       "    <tr>\n",
       "      <th>5</th>\n",
       "      <td>35</td>\n",
       "      <td>2</td>\n",
       "      <td>3</td>\n",
       "      <td>False</td>\n",
       "      <td>231</td>\n",
       "      <td>True</td>\n",
       "      <td>False</td>\n",
       "      <td>5</td>\n",
       "      <td>5</td>\n",
       "      <td>139</td>\n",
       "      <td>1</td>\n",
       "      <td>999</td>\n",
       "      <td>0</td>\n",
       "      <td>False</td>\n",
       "    </tr>\n",
       "    <tr>\n",
       "      <th>6</th>\n",
       "      <td>28</td>\n",
       "      <td>1</td>\n",
       "      <td>3</td>\n",
       "      <td>False</td>\n",
       "      <td>447</td>\n",
       "      <td>True</td>\n",
       "      <td>True</td>\n",
       "      <td>5</td>\n",
       "      <td>5</td>\n",
       "      <td>217</td>\n",
       "      <td>1</td>\n",
       "      <td>999</td>\n",
       "      <td>0</td>\n",
       "      <td>False</td>\n",
       "    </tr>\n",
       "  </tbody>\n",
       "</table>\n",
       "</div>"
      ],
      "text/plain": [
       "   age  marital  education  default  balance  housing   loan  day  month  \\\n",
       "0   58        2          3    False     2143     True  False    5      5   \n",
       "1   44        1          2    False       29     True  False    5      5   \n",
       "2   33        2          2    False        2     True   True    5      5   \n",
       "5   35        2          3    False      231     True  False    5      5   \n",
       "6   28        1          3    False      447     True   True    5      5   \n",
       "\n",
       "   duration  campaign  pdays  previous      y  \n",
       "0       261         1    999         0  False  \n",
       "1       151         1    999         0  False  \n",
       "2        76         1    999         0  False  \n",
       "5       139         1    999         0  False  \n",
       "6       217         1    999         0  False  "
      ]
     },
     "execution_count": 46,
     "metadata": {},
     "output_type": "execute_result"
    }
   ],
   "source": [
    "df.head()"
   ]
  },
  {
   "cell_type": "markdown",
   "metadata": {},
   "source": [
    "### Categorical variables"
   ]
  },
  {
   "cell_type": "markdown",
   "metadata": {},
   "source": [
    "We extract every categorical columns"
   ]
  },
  {
   "cell_type": "code",
   "execution_count": 47,
   "metadata": {},
   "outputs": [],
   "source": [
    "X_cat=df[['marital','education','default','housing','loan','day','month']]\n",
    "y_cat=df.y"
   ]
  },
  {
   "cell_type": "code",
   "execution_count": 48,
   "metadata": {},
   "outputs": [],
   "source": [
    "X_train_cat, X_test_cat, y_train_cat, y_test_cat = train_test_split(X_cat, \\\n",
    "                                                  y_cat, \\\n",
    "                                                  train_size=0.8, \\\n",
    "                                                  random_state=42, \\\n",
    "                                                  stratify=df.y)"
   ]
  },
  {
   "cell_type": "code",
   "execution_count": 49,
   "metadata": {},
   "outputs": [],
   "source": [
    "fs_cat = SelectKBest(score_func=chi2, k=3)\n",
    "fs_cat.fit(X_train_cat, y_train_cat)\n",
    "X_train_fs_cat = fs_cat.transform(X_train_cat)\n",
    "X_test_fs_cat = fs_cat.transform(X_test_cat)"
   ]
  },
  {
   "cell_type": "code",
   "execution_count": 52,
   "metadata": {},
   "outputs": [
    {
     "name": "stdout",
     "output_type": "stream",
     "text": [
      "Feature 0: 13.788202\n",
      "Feature 1: 35.075733\n",
      "Feature 2: 18.680025\n",
      "Feature 3: 299.014909\n",
      "Feature 4: 129.915657\n",
      "Feature 5: 123.822665\n",
      "Feature 6: 7.696064\n"
     ]
    }
   ],
   "source": [
    "for i in range(len(fs_cat.scores_)):\n",
    "    print('Feature %d: %f' % (i, fs_cat.scores_[i]))"
   ]
  },
  {
   "cell_type": "code",
   "execution_count": 53,
   "metadata": {},
   "outputs": [
    {
     "data": {
      "text/plain": [
       "array([[True, False, 15],\n",
       "       [True, False, 15],\n",
       "       [False, False, 6],\n",
       "       ...,\n",
       "       [True, True, 10],\n",
       "       [False, False, 9],\n",
       "       [True, False, 27]], dtype=object)"
      ]
     },
     "execution_count": 53,
     "metadata": {},
     "output_type": "execute_result"
    }
   ],
   "source": [
    "X_test_fs_cat"
   ]
  },
  {
   "cell_type": "code",
   "execution_count": 54,
   "metadata": {},
   "outputs": [
    {
     "data": {
      "text/plain": [
       "Index(['housing', 'loan', 'day'], dtype='object')"
      ]
     },
     "execution_count": 54,
     "metadata": {},
     "output_type": "execute_result"
    }
   ],
   "source": [
    "selection_cat=X_cat.columns[fs_cat.get_support()]\n",
    "selection_cat"
   ]
  },
  {
   "cell_type": "markdown",
   "metadata": {},
   "source": [
    "### Numerical variables"
   ]
  },
  {
   "cell_type": "code",
   "execution_count": 55,
   "metadata": {},
   "outputs": [],
   "source": [
    "X_num=df[['age','balance','duration','campaign','pdays','previous']]\n",
    "y_num=df.y"
   ]
  },
  {
   "cell_type": "code",
   "execution_count": 56,
   "metadata": {},
   "outputs": [],
   "source": [
    "X_train_num, X_test_num, y_train_num, y_test_num = train_test_split(X_num, \\\n",
    "                                                  y_num, \\\n",
    "                                                  train_size=0.8, \\\n",
    "                                                  random_state=42, \\\n",
    "                                                  stratify=df.y)"
   ]
  },
  {
   "cell_type": "code",
   "execution_count": 57,
   "metadata": {},
   "outputs": [],
   "source": [
    "fs_num = SelectKBest(score_func=f_classif, k=3)\n",
    "fs_num.fit(X_train_num, y_train_num)\n",
    "X_train_fs_num = fs_num.transform(X_train_num)\n",
    "X_test_fs_num = fs_num.transform(X_test_num)"
   ]
  },
  {
   "cell_type": "code",
   "execution_count": 58,
   "metadata": {},
   "outputs": [
    {
     "name": "stdout",
     "output_type": "stream",
     "text": [
      "Feature 0: 19.951249\n",
      "Feature 1: 90.345891\n",
      "Feature 2: 6302.925929\n",
      "Feature 3: 175.407283\n",
      "Feature 4: 1143.872550\n",
      "Feature 5: 285.030393\n"
     ]
    }
   ],
   "source": [
    "for i in range(len(fs_num.scores_)):\n",
    "    print('Feature %d: %f' % (i, fs_num.scores_[i]))"
   ]
  },
  {
   "cell_type": "code",
   "execution_count": 59,
   "metadata": {},
   "outputs": [
    {
     "data": {
      "text/plain": [
       "Index(['duration', 'pdays', 'previous'], dtype='object')"
      ]
     },
     "execution_count": 59,
     "metadata": {},
     "output_type": "execute_result"
    }
   ],
   "source": [
    "selection_num=X_num.columns[fs_num.get_support()]\n",
    "selection_num"
   ]
  },
  {
   "cell_type": "markdown",
   "metadata": {},
   "source": [
    "### Merging features selections"
   ]
  },
  {
   "cell_type": "code",
   "execution_count": 73,
   "metadata": {},
   "outputs": [],
   "source": [
    "X_fs=df[['duration', 'pdays', 'previous','housing', 'loan', 'day']]\n",
    "y_fs=df.y"
   ]
  },
  {
   "cell_type": "code",
   "execution_count": 74,
   "metadata": {},
   "outputs": [],
   "source": [
    "X_train_fs, X_test_fs, y_train_fs, y_test_fs = train_test_split(X_fs, \\\n",
    "                                                  y_fs, \\\n",
    "                                                  train_size=0.8, \\\n",
    "                                                  random_state=42, \\\n",
    "                                                  stratify=df.y)"
   ]
  },
  {
   "cell_type": "markdown",
   "metadata": {},
   "source": [
    "# Modelling"
   ]
  },
  {
   "cell_type": "code",
   "execution_count": 62,
   "metadata": {},
   "outputs": [],
   "source": [
    "from sklearn.metrics import confusion_matrix, accuracy_score, recall_score, f1_score, precision_score, r2_score"
   ]
  },
  {
   "cell_type": "code",
   "execution_count": 63,
   "metadata": {},
   "outputs": [],
   "source": [
    "X=df.drop('y', axis=1)\n",
    "y=df.y\n",
    "\n",
    "X_sca=df_sca.drop('y', axis=1)\n",
    "y_sca=df_sca.y"
   ]
  },
  {
   "cell_type": "code",
   "execution_count": 64,
   "metadata": {},
   "outputs": [],
   "source": [
    "X_train, X_test, y_train, y_test = train_test_split(X, \\\n",
    "                                                  y, \\\n",
    "                                                  train_size=0.8, \\\n",
    "                                                  random_state=42, \\\n",
    "                                                  stratify=df.y)\n",
    "\n",
    "X_train_sca, X_test_sca, y_train_sca, y_test_sca = train_test_split(X_sca, \\\n",
    "                                                  y_sca, \\\n",
    "                                                  train_size=0.8, \\\n",
    "                                                  random_state=42, \\\n",
    "                                                  stratify=df_sca.y)"
   ]
  },
  {
   "cell_type": "markdown",
   "metadata": {},
   "source": [
    "## Decision Tree"
   ]
  },
  {
   "cell_type": "code",
   "execution_count": 65,
   "metadata": {},
   "outputs": [],
   "source": [
    "from sklearn.tree import DecisionTreeClassifier"
   ]
  },
  {
   "cell_type": "markdown",
   "metadata": {},
   "source": [
    "### Original df"
   ]
  },
  {
   "cell_type": "code",
   "execution_count": 66,
   "metadata": {},
   "outputs": [
    {
     "data": {
      "text/plain": [
       "array([[7058,  577],\n",
       "       [ 522,  482]])"
      ]
     },
     "metadata": {},
     "output_type": "display_data"
    },
    {
     "name": "stdout",
     "output_type": "stream",
     "text": [
      "Accuracy 0.8727862021067253\n",
      "Recall 0.4800796812749004\n",
      "Precision 0.45514636449480644\n",
      "F1 0.4672806592341251\n"
     ]
    }
   ],
   "source": [
    "model1=DecisionTreeClassifier()\n",
    "model1.fit(X_train, y_train)\n",
    "y_pred1=model1.predict(X_test)\n",
    "conf1=confusion_matrix(y_test, y_pred1)\n",
    "acc1=accuracy_score(y_test, y_pred1)\n",
    "rec1=recall_score(y_test, y_pred1)\n",
    "pre1=precision_score(y_test, y_pred1)\n",
    "f11=f1_score(y_test, y_pred1)\n",
    "display(conf1)\n",
    "print('Accuracy', acc1)\n",
    "print('Recall', rec1)\n",
    "print('Precision', pre1)\n",
    "print('F1', f11)"
   ]
  },
  {
   "cell_type": "markdown",
   "metadata": {},
   "source": [
    "### Original df with rescale"
   ]
  },
  {
   "cell_type": "code",
   "execution_count": 67,
   "metadata": {},
   "outputs": [
    {
     "data": {
      "text/plain": [
       "array([[7060,  575],\n",
       "       [ 527,  477]])"
      ]
     },
     "metadata": {},
     "output_type": "display_data"
    },
    {
     "name": "stdout",
     "output_type": "stream",
     "text": [
      "Accuracy 0.872438939692094\n",
      "Recall 0.4750996015936255\n",
      "Precision 0.4534220532319392\n",
      "F1 0.46400778210116733\n"
     ]
    }
   ],
   "source": [
    "model1_sca=DecisionTreeClassifier()\n",
    "model1_sca.fit(X_train_sca, y_train_sca)\n",
    "y_pred1_sca=model1_sca.predict(X_test_sca)\n",
    "conf1_sca=confusion_matrix(y_test_sca, y_pred1_sca)\n",
    "acc1_sca=accuracy_score(y_test_sca, y_pred1_sca)\n",
    "rec1_sca=recall_score(y_test_sca, y_pred1_sca)\n",
    "pre1_sca=precision_score(y_test_sca, y_pred1_sca)\n",
    "f11_sca=f1_score(y_test_sca, y_pred1_sca)\n",
    "display(conf1_sca)\n",
    "print('Accuracy', acc1_sca)\n",
    "print('Recall', rec1_sca)\n",
    "print('Precision', pre1_sca)\n",
    "print('F1', f11_sca)"
   ]
  },
  {
   "cell_type": "markdown",
   "metadata": {},
   "source": [
    "### Features selection df"
   ]
  },
  {
   "cell_type": "code",
   "execution_count": 76,
   "metadata": {},
   "outputs": [
    {
     "data": {
      "text/plain": [
       "array([[7068,  567],\n",
       "       [ 603,  401]])"
      ]
     },
     "metadata": {},
     "output_type": "display_data"
    },
    {
     "name": "stdout",
     "output_type": "stream",
     "text": [
      "Accuracy 0.864567658293784\n",
      "Recall 0.399402390438247\n",
      "Precision 0.4142561983471074\n",
      "F1 0.4066937119675456\n"
     ]
    }
   ],
   "source": [
    "model1_fs=DecisionTreeClassifier()\n",
    "model1_fs.fit(X_train_fs, y_train_fs)\n",
    "y_pred1_fs=model1_fs.predict(X_test_fs)\n",
    "conf1_fs=confusion_matrix(y_test_fs, y_pred1_fs)\n",
    "acc1_fs=accuracy_score(y_test_fs, y_pred1_fs)\n",
    "rec1_fs=recall_score(y_test_fs, y_pred1_fs)\n",
    "pre1_fs=precision_score(y_test_fs, y_pred1_fs)\n",
    "f11_fs=f1_score(y_test_fs, y_pred1_fs)\n",
    "display(conf1_fs)\n",
    "print('Accuracy', acc1_fs)\n",
    "print('Recall', rec1_fs)\n",
    "print('Precision', pre1_fs)\n",
    "print('F1', f11_fs)"
   ]
  },
  {
   "cell_type": "markdown",
   "metadata": {
    "heading_collapsed": true
   },
   "source": [
    "## Random Forest"
   ]
  },
  {
   "cell_type": "code",
   "execution_count": 69,
   "metadata": {
    "hidden": true
   },
   "outputs": [],
   "source": [
    "from sklearn.ensemble import AdaBoostClassifier, RandomForestClassifier"
   ]
  },
  {
   "cell_type": "markdown",
   "metadata": {
    "heading_collapsed": true,
    "hidden": true
   },
   "source": [
    "### Original df"
   ]
  },
  {
   "cell_type": "code",
   "execution_count": 70,
   "metadata": {
    "hidden": true
   },
   "outputs": [
    {
     "data": {
      "text/plain": [
       "array([[7389,  246],\n",
       "       [ 601,  403]])"
      ]
     },
     "metadata": {},
     "output_type": "display_data"
    },
    {
     "name": "stdout",
     "output_type": "stream",
     "text": [
      "Accuracy 0.9019562449357564\n",
      "Recall 0.40139442231075695\n",
      "Precision 0.6209553158705701\n",
      "F1 0.48759830611010285\n"
     ]
    }
   ],
   "source": [
    "model2=RandomForestClassifier()\n",
    "model2.fit(X_train, y_train)\n",
    "y_pred2=model2.predict(X_test)\n",
    "conf2=confusion_matrix(y_test, y_pred2)\n",
    "acc2=accuracy_score(y_test, y_pred2)\n",
    "rec2=recall_score(y_test, y_pred2)\n",
    "pre2=precision_score(y_test, y_pred2)\n",
    "f12=f1_score(y_test, y_pred2)\n",
    "display(conf2)\n",
    "print('Accuracy', acc2)\n",
    "print('Recall', rec2)\n",
    "print('Precision', pre2)\n",
    "print('F1', f12)"
   ]
  },
  {
   "cell_type": "markdown",
   "metadata": {
    "hidden": true
   },
   "source": [
    "### Original df with rescale"
   ]
  },
  {
   "cell_type": "code",
   "execution_count": 71,
   "metadata": {
    "hidden": true
   },
   "outputs": [
    {
     "data": {
      "text/plain": [
       "array([[7403,  232],\n",
       "       [ 610,  394]])"
      ]
     },
     "metadata": {},
     "output_type": "display_data"
    },
    {
     "name": "stdout",
     "output_type": "stream",
     "text": [
      "Accuracy 0.9025350156268087\n",
      "Recall 0.39243027888446214\n",
      "Precision 0.6293929712460063\n",
      "F1 0.4834355828220859\n"
     ]
    }
   ],
   "source": [
    "model2_sca=RandomForestClassifier()\n",
    "model2_sca.fit(X_train_sca, y_train_sca)\n",
    "y_pred2_sca=model2_sca.predict(X_test_sca)\n",
    "conf2_sca=confusion_matrix(y_test_sca, y_pred2_sca)\n",
    "acc2_sca=accuracy_score(y_test_sca, y_pred2_sca)\n",
    "rec2_sca=recall_score(y_test_sca, y_pred2_sca)\n",
    "pre2_sca=precision_score(y_test_sca, y_pred2_sca)\n",
    "f12_sca=f1_score(y_test_sca, y_pred2_sca)\n",
    "display(conf2_sca)\n",
    "print('Accuracy', acc2_sca)\n",
    "print('Recall', rec2_sca)\n",
    "print('Precision', pre2_sca)\n",
    "print('F1', f12_sca)"
   ]
  },
  {
   "cell_type": "markdown",
   "metadata": {
    "hidden": true
   },
   "source": [
    "### Features selection df"
   ]
  },
  {
   "cell_type": "code",
   "execution_count": 77,
   "metadata": {
    "hidden": true
   },
   "outputs": [
    {
     "data": {
      "text/plain": [
       "array([[7221,  414],\n",
       "       [ 619,  385]])"
      ]
     },
     "metadata": {},
     "output_type": "display_data"
    },
    {
     "name": "stdout",
     "output_type": "stream",
     "text": [
      "Accuracy 0.8804259752286144\n",
      "Recall 0.3834661354581673\n",
      "Precision 0.4818523153942428\n",
      "F1 0.42706600110926235\n"
     ]
    }
   ],
   "source": [
    "model2_fs=RandomForestClassifier()\n",
    "model2_fs.fit(X_train_fs, y_train_fs)\n",
    "y_pred2_fs=model2_fs.predict(X_test_fs)\n",
    "conf2_fs=confusion_matrix(y_test_fs, y_pred2_fs)\n",
    "acc2_fs=accuracy_score(y_test_fs, y_pred2_fs)\n",
    "rec2_fs=recall_score(y_test_fs, y_pred2_fs)\n",
    "pre2_fs=precision_score(y_test_fs, y_pred2_fs)\n",
    "f12_fs=f1_score(y_test_fs, y_pred2_fs)\n",
    "display(conf2_fs)\n",
    "print('Accuracy', acc2_fs)\n",
    "print('Recall', rec2_fs)\n",
    "print('Precision', pre2_fs)\n",
    "print('F1', f12_fs)"
   ]
  },
  {
   "cell_type": "markdown",
   "metadata": {
    "heading_collapsed": true
   },
   "source": [
    "## Random Forest balanced"
   ]
  },
  {
   "cell_type": "markdown",
   "metadata": {
    "hidden": true
   },
   "source": [
    "### Orginal df"
   ]
  },
  {
   "cell_type": "code",
   "execution_count": 143,
   "metadata": {
    "hidden": true
   },
   "outputs": [
    {
     "data": {
      "text/plain": [
       "array([[7445,  190],\n",
       "       [ 675,  329]])"
      ]
     },
     "metadata": {},
     "output_type": "display_data"
    },
    {
     "name": "stdout",
     "output_type": "stream",
     "text": [
      "Accuracy 0.8998726704479685\n",
      "Recall 0.32768924302788843\n",
      "Precision 0.6339113680154143\n",
      "F1 0.43204202232435984\n"
     ]
    }
   ],
   "source": [
    "model3=RandomForestClassifier(class_weight='balanced')\n",
    "model3.fit(X_train, y_train)\n",
    "y_pred3=model3.predict(X_test)\n",
    "conf3=confusion_matrix(y_test, y_pred3)\n",
    "acc3=accuracy_score(y_test, y_pred3)\n",
    "rec3=recall_score(y_test, y_pred3)\n",
    "pre3=precision_score(y_test, y_pred3)\n",
    "f13=f1_score(y_test, y_pred3)\n",
    "display(conf3)\n",
    "print('Accuracy', acc3)\n",
    "print('Recall', rec3)\n",
    "print('Precision', pre3)\n",
    "print('F1', f13)"
   ]
  },
  {
   "cell_type": "markdown",
   "metadata": {
    "hidden": true
   },
   "source": [
    "### Original df with rescale"
   ]
  },
  {
   "cell_type": "code",
   "execution_count": 142,
   "metadata": {
    "hidden": true
   },
   "outputs": [
    {
     "data": {
      "text/plain": [
       "array([[7449,  186],\n",
       "       [ 656,  348]])"
      ]
     },
     "metadata": {},
     "output_type": "display_data"
    },
    {
     "name": "stdout",
     "output_type": "stream",
     "text": [
      "Accuracy 0.9025350156268087\n",
      "Recall 0.3466135458167331\n",
      "Precision 0.651685393258427\n",
      "F1 0.45253576072821855\n"
     ]
    }
   ],
   "source": [
    "model3_sca=RandomForestClassifier(class_weight='balanced')\n",
    "model3_sca.fit(X_train_sca, y_train_sca)\n",
    "y_pred3_sca=model3_sca.predict(X_test_sca)\n",
    "conf3_sca=confusion_matrix(y_test_sca, y_pred3_sca)\n",
    "acc3_sca=accuracy_score(y_test_sca, y_pred3_sca)\n",
    "rec3_sca=recall_score(y_test_sca, y_pred3_sca)\n",
    "pre3_sca=precision_score(y_test_sca, y_pred3_sca)\n",
    "f13_sca=f1_score(y_test_sca, y_pred3_sca)\n",
    "display(conf3_sca)\n",
    "print('Accuracy', acc3_sca)\n",
    "print('Recall', rec3_sca)\n",
    "print('Precision', pre3_sca)\n",
    "print('F1', f13_sca)"
   ]
  },
  {
   "cell_type": "markdown",
   "metadata": {
    "hidden": true
   },
   "source": [
    "### Features selection df"
   ]
  },
  {
   "cell_type": "code",
   "execution_count": 140,
   "metadata": {
    "hidden": true
   },
   "outputs": [
    {
     "data": {
      "text/plain": [
       "array([[7156,  479],\n",
       "       [ 619,  385]])"
      ]
     },
     "metadata": {},
     "output_type": "display_data"
    },
    {
     "name": "stdout",
     "output_type": "stream",
     "text": [
      "Accuracy 0.8729019562449357\n",
      "Recall 0.3834661354581673\n",
      "Precision 0.44560185185185186\n",
      "F1 0.4122055674518201\n"
     ]
    }
   ],
   "source": [
    "model3_fs=RandomForestClassifier(class_weight='balanced')\n",
    "model3_fs.fit(X_train_fs, y_train_fs)\n",
    "y_pred3_fs=model3_fs.predict(X_test_fs)\n",
    "conf3_fs=confusion_matrix(y_test_fs, y_pred3_fs)\n",
    "acc3_fs=accuracy_score(y_test_fs, y_pred3_fs)\n",
    "rec3_fs=recall_score(y_test_fs, y_pred3_fs)\n",
    "pre3_fs=precision_score(y_test_fs, y_pred3_fs)\n",
    "f13_fs=f1_score(y_test_fs, y_pred3_fs)\n",
    "display(conf3_fs)\n",
    "print('Accuracy', acc3_fs)\n",
    "print('Recall', rec3_fs)\n",
    "print('Precision', pre3_fs)\n",
    "print('F1', f13_fs)"
   ]
  },
  {
   "cell_type": "markdown",
   "metadata": {},
   "source": [
    "## XGBoost"
   ]
  },
  {
   "cell_type": "code",
   "execution_count": 79,
   "metadata": {},
   "outputs": [],
   "source": [
    "from xgboost import XGBClassifier"
   ]
  },
  {
   "cell_type": "markdown",
   "metadata": {},
   "source": [
    "### Original df"
   ]
  },
  {
   "cell_type": "code",
   "execution_count": 80,
   "metadata": {},
   "outputs": [
    {
     "data": {
      "text/plain": [
       "array([[7058,  577],\n",
       "       [ 522,  482]])"
      ]
     },
     "metadata": {},
     "output_type": "display_data"
    },
    {
     "name": "stdout",
     "output_type": "stream",
     "text": [
      "Accuracy 0.8727862021067253\n",
      "Recall 0.4800796812749004\n",
      "Precision 0.45514636449480644\n",
      "F1 0.4672806592341251\n"
     ]
    }
   ],
   "source": [
    "model4=XGBClassifier()\n",
    "model4.fit(X_train, y_train)\n",
    "y_pred4=model1.predict(X_test)\n",
    "conf4=confusion_matrix(y_test, y_pred4)\n",
    "acc4=accuracy_score(y_test, y_pred4)\n",
    "rec4=recall_score(y_test, y_pred4)\n",
    "pre4=precision_score(y_test, y_pred4)\n",
    "f14=f1_score(y_test, y_pred4)\n",
    "display(conf4)\n",
    "print('Accuracy', acc4)\n",
    "print('Recall', rec4)\n",
    "print('Precision', pre4)\n",
    "print('F1', f14)"
   ]
  },
  {
   "cell_type": "markdown",
   "metadata": {},
   "source": [
    "### Original df with rescale"
   ]
  },
  {
   "cell_type": "code",
   "execution_count": 81,
   "metadata": {},
   "outputs": [
    {
     "data": {
      "text/plain": [
       "array([[7368,  267],\n",
       "       [ 518,  486]])"
      ]
     },
     "metadata": {},
     "output_type": "display_data"
    },
    {
     "name": "stdout",
     "output_type": "stream",
     "text": [
      "Accuracy 0.9091330015048038\n",
      "Recall 0.48406374501992033\n",
      "Precision 0.6454183266932271\n",
      "F1 0.5532157085941948\n"
     ]
    }
   ],
   "source": [
    "model4_sca=XGBClassifier()\n",
    "model4_sca.fit(X_train_sca, y_train_sca)\n",
    "y_pred4_sca=model4_sca.predict(X_test_sca)\n",
    "conf4_sca=confusion_matrix(y_test_sca, y_pred4_sca)\n",
    "acc4_sca=accuracy_score(y_test_sca, y_pred4_sca)\n",
    "rec4_sca=recall_score(y_test_sca, y_pred4_sca)\n",
    "pre4_sca=precision_score(y_test_sca, y_pred4_sca)\n",
    "f14_sca=f1_score(y_test_sca, y_pred4_sca)\n",
    "display(conf4_sca)\n",
    "print('Accuracy', acc4_sca)\n",
    "print('Recall', rec4_sca)\n",
    "print('Precision', pre4_sca)\n",
    "print('F1', f14_sca)"
   ]
  },
  {
   "cell_type": "code",
   "execution_count": 215,
   "metadata": {},
   "outputs": [
    {
     "data": {
      "text/plain": [
       "False    0.883783\n",
       "True     0.116217\n",
       "Name: y, dtype: float64"
      ]
     },
     "execution_count": 215,
     "metadata": {},
     "output_type": "execute_result"
    }
   ],
   "source": [
    "y_test.value_counts(normalize=True)"
   ]
  },
  {
   "cell_type": "markdown",
   "metadata": {},
   "source": [
    "### Features selection df"
   ]
  },
  {
   "cell_type": "code",
   "execution_count": 82,
   "metadata": {},
   "outputs": [
    {
     "data": {
      "text/plain": [
       "array([[7395,  240],\n",
       "       [ 645,  359]])"
      ]
     },
     "metadata": {},
     "output_type": "display_data"
    },
    {
     "name": "stdout",
     "output_type": "stream",
     "text": [
      "Accuracy 0.8975575876837597\n",
      "Recall 0.35756972111553786\n",
      "Precision 0.5993322203672788\n",
      "F1 0.44791016843418596\n"
     ]
    }
   ],
   "source": [
    "model4_fs=XGBClassifier()\n",
    "model4_fs.fit(X_train_fs, y_train_fs)\n",
    "y_pred4_fs=model4_fs.predict(X_test_fs)\n",
    "conf4_fs=confusion_matrix(y_test_fs, y_pred4_fs)\n",
    "acc4_fs=accuracy_score(y_test_fs, y_pred4_fs)\n",
    "rec4_fs=recall_score(y_test_fs, y_pred4_fs)\n",
    "pre4_fs=precision_score(y_test_fs, y_pred4_fs)\n",
    "f14_fs=f1_score(y_test_fs, y_pred4_fs)\n",
    "display(conf4_fs)\n",
    "print('Accuracy', acc4_fs)\n",
    "print('Recall', rec4_fs)\n",
    "print('Precision', pre4_fs)\n",
    "print('F1', f14_fs)"
   ]
  },
  {
   "cell_type": "markdown",
   "metadata": {
    "heading_collapsed": true
   },
   "source": [
    "## AdaBoost"
   ]
  },
  {
   "cell_type": "markdown",
   "metadata": {
    "heading_collapsed": true,
    "hidden": true
   },
   "source": [
    "### Original df"
   ]
  },
  {
   "cell_type": "code",
   "execution_count": 83,
   "metadata": {
    "hidden": true
   },
   "outputs": [
    {
     "data": {
      "text/plain": [
       "array([[7395,  240],\n",
       "       [ 663,  341]])"
      ]
     },
     "metadata": {},
     "output_type": "display_data"
    },
    {
     "name": "stdout",
     "output_type": "stream",
     "text": [
      "Accuracy 0.8954740131959718\n",
      "Recall 0.3396414342629482\n",
      "Precision 0.5869191049913941\n",
      "F1 0.4302839116719242\n"
     ]
    }
   ],
   "source": [
    "model5=AdaBoostClassifier()\n",
    "model5.fit(X_train, y_train)\n",
    "y_pred5=model5.predict(X_test)\n",
    "conf5=confusion_matrix(y_test, y_pred5)\n",
    "acc5=accuracy_score(y_test, y_pred5)\n",
    "rec5=recall_score(y_test, y_pred5)\n",
    "pre5=precision_score(y_test, y_pred5)\n",
    "f15=f1_score(y_test, y_pred5)\n",
    "display(conf5)\n",
    "print('Accuracy', acc5)\n",
    "print('Recall', rec5)\n",
    "print('Precision', pre5)\n",
    "print('F1', f15)"
   ]
  },
  {
   "cell_type": "markdown",
   "metadata": {
    "heading_collapsed": true,
    "hidden": true
   },
   "source": [
    "### Original df with rescale"
   ]
  },
  {
   "cell_type": "code",
   "execution_count": 84,
   "metadata": {
    "hidden": true
   },
   "outputs": [
    {
     "data": {
      "text/plain": [
       "array([[7395,  240],\n",
       "       [ 663,  341]])"
      ]
     },
     "metadata": {},
     "output_type": "display_data"
    },
    {
     "name": "stdout",
     "output_type": "stream",
     "text": [
      "Accuracy 0.8954740131959718\n",
      "Recall 0.3396414342629482\n",
      "Precision 0.5869191049913941\n",
      "F1 0.4302839116719242\n"
     ]
    }
   ],
   "source": [
    "model5_sca=AdaBoostClassifier()\n",
    "model5_sca.fit(X_train_sca, y_train_sca)\n",
    "y_pred5_sca=model5_sca.predict(X_test_sca)\n",
    "conf5_sca=confusion_matrix(y_test_sca, y_pred5_sca)\n",
    "acc5_sca=accuracy_score(y_test_sca, y_pred5_sca)\n",
    "rec5_sca=recall_score(y_test_sca, y_pred5_sca)\n",
    "pre5_sca=precision_score(y_test_sca, y_pred5_sca)\n",
    "f15_sca=f1_score(y_test_sca, y_pred5_sca)\n",
    "display(conf5_sca)\n",
    "print('Accuracy', acc5_sca)\n",
    "print('Recall', rec5_sca)\n",
    "print('Precision', pre5_sca)\n",
    "print('F1', f15_sca)"
   ]
  },
  {
   "cell_type": "markdown",
   "metadata": {
    "hidden": true
   },
   "source": [
    "### Features selection df"
   ]
  },
  {
   "cell_type": "code",
   "execution_count": 85,
   "metadata": {
    "hidden": true
   },
   "outputs": [
    {
     "data": {
      "text/plain": [
       "array([[7410,  225],\n",
       "       [ 707,  297]])"
      ]
     },
     "metadata": {},
     "output_type": "display_data"
    },
    {
     "name": "stdout",
     "output_type": "stream",
     "text": [
      "Accuracy 0.8921171431878689\n",
      "Recall 0.2958167330677291\n",
      "Precision 0.5689655172413793\n",
      "F1 0.38925294888597645\n"
     ]
    }
   ],
   "source": [
    "model5_fs=AdaBoostClassifier()\n",
    "model5_fs.fit(X_train_fs, y_train_fs)\n",
    "y_pred5_fs=model5_fs.predict(X_test_fs)\n",
    "conf5_fs=confusion_matrix(y_test_fs, y_pred5_fs)\n",
    "acc5_fs=accuracy_score(y_test_fs, y_pred5_fs)\n",
    "rec5_fs=recall_score(y_test_fs, y_pred5_fs)\n",
    "pre5_fs=precision_score(y_test_fs, y_pred5_fs)\n",
    "f15_fs=f1_score(y_test_fs, y_pred5_fs)\n",
    "display(conf5_fs)\n",
    "print('Accuracy', acc5_fs)\n",
    "print('Recall', rec5_fs)\n",
    "print('Precision', pre5_fs)\n",
    "print('F1', f15_fs)"
   ]
  },
  {
   "cell_type": "markdown",
   "metadata": {},
   "source": [
    "## CatBoost"
   ]
  },
  {
   "cell_type": "code",
   "execution_count": 86,
   "metadata": {},
   "outputs": [],
   "source": [
    "from catboost import CatBoostClassifier"
   ]
  },
  {
   "cell_type": "markdown",
   "metadata": {},
   "source": [
    "### Original df"
   ]
  },
  {
   "cell_type": "code",
   "execution_count": 87,
   "metadata": {},
   "outputs": [
    {
     "name": "stdout",
     "output_type": "stream",
     "text": [
      "Learning rate set to 0.04676\n",
      "0:\tlearn: 0.6351737\ttotal: 76.6ms\tremaining: 1m 16s\n",
      "1:\tlearn: 0.5873604\ttotal: 90.9ms\tremaining: 45.4s\n",
      "2:\tlearn: 0.5468958\ttotal: 105ms\tremaining: 34.8s\n",
      "3:\tlearn: 0.5143567\ttotal: 118ms\tremaining: 29.4s\n",
      "4:\tlearn: 0.4818544\ttotal: 131ms\tremaining: 26s\n",
      "5:\tlearn: 0.4549818\ttotal: 145ms\tremaining: 23.9s\n",
      "6:\tlearn: 0.4309298\ttotal: 159ms\tremaining: 22.5s\n",
      "7:\tlearn: 0.4098023\ttotal: 172ms\tremaining: 21.4s\n",
      "8:\tlearn: 0.3914715\ttotal: 186ms\tremaining: 20.5s\n",
      "9:\tlearn: 0.3760344\ttotal: 208ms\tremaining: 20.6s\n",
      "10:\tlearn: 0.3601785\ttotal: 235ms\tremaining: 21.2s\n",
      "11:\tlearn: 0.3464369\ttotal: 263ms\tremaining: 21.7s\n",
      "12:\tlearn: 0.3378181\ttotal: 297ms\tremaining: 22.6s\n",
      "13:\tlearn: 0.3286389\ttotal: 316ms\tremaining: 22.3s\n",
      "14:\tlearn: 0.3199528\ttotal: 339ms\tremaining: 22.3s\n",
      "15:\tlearn: 0.3116207\ttotal: 359ms\tremaining: 22.1s\n",
      "16:\tlearn: 0.3050435\ttotal: 376ms\tremaining: 21.7s\n",
      "17:\tlearn: 0.3010721\ttotal: 390ms\tremaining: 21.3s\n",
      "18:\tlearn: 0.2952676\ttotal: 404ms\tremaining: 20.9s\n",
      "19:\tlearn: 0.2917493\ttotal: 436ms\tremaining: 21.4s\n",
      "20:\tlearn: 0.2883981\ttotal: 462ms\tremaining: 21.6s\n",
      "21:\tlearn: 0.2843612\ttotal: 489ms\tremaining: 21.8s\n",
      "22:\tlearn: 0.2807564\ttotal: 524ms\tremaining: 22.3s\n",
      "23:\tlearn: 0.2773377\ttotal: 563ms\tremaining: 22.9s\n",
      "24:\tlearn: 0.2738502\ttotal: 589ms\tremaining: 23s\n",
      "25:\tlearn: 0.2712011\ttotal: 615ms\tremaining: 23s\n",
      "26:\tlearn: 0.2683449\ttotal: 645ms\tremaining: 23.3s\n",
      "27:\tlearn: 0.2648632\ttotal: 672ms\tremaining: 23.3s\n",
      "28:\tlearn: 0.2627975\ttotal: 699ms\tremaining: 23.4s\n",
      "29:\tlearn: 0.2609916\ttotal: 737ms\tremaining: 23.8s\n",
      "30:\tlearn: 0.2596105\ttotal: 756ms\tremaining: 23.6s\n",
      "31:\tlearn: 0.2576068\ttotal: 779ms\tremaining: 23.6s\n",
      "32:\tlearn: 0.2560713\ttotal: 794ms\tremaining: 23.3s\n",
      "33:\tlearn: 0.2546154\ttotal: 808ms\tremaining: 22.9s\n",
      "34:\tlearn: 0.2527483\ttotal: 822ms\tremaining: 22.7s\n",
      "35:\tlearn: 0.2514983\ttotal: 835ms\tremaining: 22.4s\n",
      "36:\tlearn: 0.2495816\ttotal: 855ms\tremaining: 22.2s\n",
      "37:\tlearn: 0.2480538\ttotal: 882ms\tremaining: 22.3s\n",
      "38:\tlearn: 0.2471160\ttotal: 908ms\tremaining: 22.4s\n",
      "39:\tlearn: 0.2464240\ttotal: 943ms\tremaining: 22.6s\n",
      "40:\tlearn: 0.2452964\ttotal: 963ms\tremaining: 22.5s\n",
      "41:\tlearn: 0.2442842\ttotal: 981ms\tremaining: 22.4s\n",
      "42:\tlearn: 0.2434261\ttotal: 995ms\tremaining: 22.1s\n",
      "43:\tlearn: 0.2429364\ttotal: 1.01s\tremaining: 21.9s\n",
      "44:\tlearn: 0.2421375\ttotal: 1.02s\tremaining: 21.7s\n",
      "45:\tlearn: 0.2415437\ttotal: 1.04s\tremaining: 21.5s\n",
      "46:\tlearn: 0.2406752\ttotal: 1.05s\tremaining: 21.4s\n",
      "47:\tlearn: 0.2397604\ttotal: 1.08s\tremaining: 21.5s\n",
      "48:\tlearn: 0.2391453\ttotal: 1.11s\tremaining: 21.5s\n",
      "49:\tlearn: 0.2381192\ttotal: 1.15s\tremaining: 21.8s\n",
      "50:\tlearn: 0.2371034\ttotal: 1.17s\tremaining: 21.8s\n",
      "51:\tlearn: 0.2364151\ttotal: 1.19s\tremaining: 21.6s\n",
      "52:\tlearn: 0.2358389\ttotal: 1.21s\tremaining: 21.6s\n",
      "53:\tlearn: 0.2352533\ttotal: 1.22s\tremaining: 21.4s\n",
      "54:\tlearn: 0.2342854\ttotal: 1.24s\tremaining: 21.2s\n",
      "55:\tlearn: 0.2337319\ttotal: 1.25s\tremaining: 21.1s\n",
      "56:\tlearn: 0.2329239\ttotal: 1.28s\tremaining: 21.2s\n",
      "57:\tlearn: 0.2323434\ttotal: 1.31s\tremaining: 21.2s\n",
      "58:\tlearn: 0.2317129\ttotal: 1.34s\tremaining: 21.4s\n",
      "59:\tlearn: 0.2310534\ttotal: 1.36s\tremaining: 21.3s\n",
      "60:\tlearn: 0.2304696\ttotal: 1.38s\tremaining: 21.3s\n",
      "61:\tlearn: 0.2300510\ttotal: 1.4s\tremaining: 21.2s\n",
      "62:\tlearn: 0.2292309\ttotal: 1.41s\tremaining: 21s\n",
      "63:\tlearn: 0.2288190\ttotal: 1.43s\tremaining: 20.9s\n",
      "64:\tlearn: 0.2282156\ttotal: 1.44s\tremaining: 20.7s\n",
      "65:\tlearn: 0.2277761\ttotal: 1.46s\tremaining: 20.6s\n",
      "66:\tlearn: 0.2273427\ttotal: 1.47s\tremaining: 20.5s\n",
      "67:\tlearn: 0.2267688\ttotal: 1.49s\tremaining: 20.4s\n",
      "68:\tlearn: 0.2263363\ttotal: 1.52s\tremaining: 20.5s\n",
      "69:\tlearn: 0.2259465\ttotal: 1.54s\tremaining: 20.5s\n",
      "70:\tlearn: 0.2255722\ttotal: 1.58s\tremaining: 20.6s\n",
      "71:\tlearn: 0.2249712\ttotal: 1.59s\tremaining: 20.5s\n",
      "72:\tlearn: 0.2245728\ttotal: 1.61s\tremaining: 20.5s\n",
      "73:\tlearn: 0.2243361\ttotal: 1.63s\tremaining: 20.4s\n",
      "74:\tlearn: 0.2238082\ttotal: 1.64s\tremaining: 20.3s\n",
      "75:\tlearn: 0.2234566\ttotal: 1.66s\tremaining: 20.2s\n",
      "76:\tlearn: 0.2229674\ttotal: 1.67s\tremaining: 20s\n",
      "77:\tlearn: 0.2224609\ttotal: 1.69s\tremaining: 19.9s\n",
      "78:\tlearn: 0.2218705\ttotal: 1.71s\tremaining: 20s\n",
      "79:\tlearn: 0.2215732\ttotal: 1.74s\tremaining: 20s\n",
      "80:\tlearn: 0.2213695\ttotal: 1.77s\tremaining: 20.1s\n",
      "81:\tlearn: 0.2212496\ttotal: 1.79s\tremaining: 20s\n",
      "82:\tlearn: 0.2209840\ttotal: 1.8s\tremaining: 19.9s\n",
      "83:\tlearn: 0.2205796\ttotal: 1.83s\tremaining: 19.9s\n",
      "84:\tlearn: 0.2203329\ttotal: 1.84s\tremaining: 19.8s\n",
      "85:\tlearn: 0.2200005\ttotal: 1.86s\tremaining: 19.7s\n",
      "86:\tlearn: 0.2197027\ttotal: 1.87s\tremaining: 19.6s\n",
      "87:\tlearn: 0.2196814\ttotal: 1.88s\tremaining: 19.5s\n",
      "88:\tlearn: 0.2192642\ttotal: 1.89s\tremaining: 19.4s\n",
      "89:\tlearn: 0.2191022\ttotal: 1.91s\tremaining: 19.3s\n",
      "90:\tlearn: 0.2187707\ttotal: 1.93s\tremaining: 19.3s\n",
      "91:\tlearn: 0.2186356\ttotal: 1.96s\tremaining: 19.3s\n",
      "92:\tlearn: 0.2184494\ttotal: 1.99s\tremaining: 19.4s\n",
      "93:\tlearn: 0.2180651\ttotal: 2.01s\tremaining: 19.4s\n",
      "94:\tlearn: 0.2175869\ttotal: 2.04s\tremaining: 19.4s\n",
      "95:\tlearn: 0.2173018\ttotal: 2.05s\tremaining: 19.3s\n",
      "96:\tlearn: 0.2168932\ttotal: 2.07s\tremaining: 19.2s\n",
      "97:\tlearn: 0.2165922\ttotal: 2.08s\tremaining: 19.1s\n",
      "98:\tlearn: 0.2163958\ttotal: 2.1s\tremaining: 19.1s\n",
      "99:\tlearn: 0.2162241\ttotal: 2.11s\tremaining: 19s\n",
      "100:\tlearn: 0.2157654\ttotal: 2.12s\tremaining: 18.9s\n",
      "101:\tlearn: 0.2155395\ttotal: 2.27s\tremaining: 20s\n",
      "102:\tlearn: 0.2153661\ttotal: 2.29s\tremaining: 20s\n",
      "103:\tlearn: 0.2152108\ttotal: 2.31s\tremaining: 19.9s\n",
      "104:\tlearn: 0.2150147\ttotal: 2.32s\tremaining: 19.8s\n",
      "105:\tlearn: 0.2148873\ttotal: 2.34s\tremaining: 19.7s\n",
      "106:\tlearn: 0.2146462\ttotal: 2.35s\tremaining: 19.6s\n",
      "107:\tlearn: 0.2143995\ttotal: 2.37s\tremaining: 19.5s\n",
      "108:\tlearn: 0.2141643\ttotal: 2.38s\tremaining: 19.5s\n",
      "109:\tlearn: 0.2139874\ttotal: 2.39s\tremaining: 19.4s\n",
      "110:\tlearn: 0.2137334\ttotal: 2.4s\tremaining: 19.3s\n",
      "111:\tlearn: 0.2136024\ttotal: 2.42s\tremaining: 19.2s\n",
      "112:\tlearn: 0.2134711\ttotal: 2.43s\tremaining: 19.1s\n",
      "113:\tlearn: 0.2133699\ttotal: 2.45s\tremaining: 19s\n",
      "114:\tlearn: 0.2132232\ttotal: 2.46s\tremaining: 18.9s\n",
      "115:\tlearn: 0.2130716\ttotal: 2.48s\tremaining: 18.9s\n",
      "116:\tlearn: 0.2129131\ttotal: 2.51s\tremaining: 19s\n",
      "117:\tlearn: 0.2127109\ttotal: 2.54s\tremaining: 19s\n",
      "118:\tlearn: 0.2124688\ttotal: 2.59s\tremaining: 19.2s\n",
      "119:\tlearn: 0.2123111\ttotal: 2.62s\tremaining: 19.2s\n",
      "120:\tlearn: 0.2121915\ttotal: 2.68s\tremaining: 19.5s\n",
      "121:\tlearn: 0.2120945\ttotal: 2.75s\tremaining: 19.8s\n",
      "122:\tlearn: 0.2118924\ttotal: 2.77s\tremaining: 19.8s\n",
      "123:\tlearn: 0.2117349\ttotal: 2.79s\tremaining: 19.7s\n",
      "124:\tlearn: 0.2116013\ttotal: 2.8s\tremaining: 19.6s\n",
      "125:\tlearn: 0.2114418\ttotal: 2.82s\tremaining: 19.5s\n",
      "126:\tlearn: 0.2111232\ttotal: 2.83s\tremaining: 19.5s\n",
      "127:\tlearn: 0.2109130\ttotal: 2.85s\tremaining: 19.4s\n",
      "128:\tlearn: 0.2107496\ttotal: 2.86s\tremaining: 19.3s\n",
      "129:\tlearn: 0.2106336\ttotal: 2.87s\tremaining: 19.2s\n",
      "130:\tlearn: 0.2105024\ttotal: 2.9s\tremaining: 19.2s\n",
      "131:\tlearn: 0.2103939\ttotal: 2.93s\tremaining: 19.2s\n",
      "132:\tlearn: 0.2101807\ttotal: 2.94s\tremaining: 19.2s\n",
      "133:\tlearn: 0.2100326\ttotal: 2.96s\tremaining: 19.1s\n",
      "134:\tlearn: 0.2098273\ttotal: 2.97s\tremaining: 19.1s\n",
      "135:\tlearn: 0.2095899\ttotal: 2.99s\tremaining: 19s\n",
      "136:\tlearn: 0.2093746\ttotal: 3s\tremaining: 18.9s\n",
      "137:\tlearn: 0.2091271\ttotal: 3.02s\tremaining: 18.9s\n",
      "138:\tlearn: 0.2088604\ttotal: 3.03s\tremaining: 18.8s\n",
      "139:\tlearn: 0.2087377\ttotal: 3.05s\tremaining: 18.7s\n",
      "140:\tlearn: 0.2085887\ttotal: 3.06s\tremaining: 18.6s\n",
      "141:\tlearn: 0.2084327\ttotal: 3.08s\tremaining: 18.6s\n",
      "142:\tlearn: 0.2082841\ttotal: 3.09s\tremaining: 18.5s\n",
      "143:\tlearn: 0.2081028\ttotal: 3.11s\tremaining: 18.5s\n",
      "144:\tlearn: 0.2079235\ttotal: 3.14s\tremaining: 18.5s\n",
      "145:\tlearn: 0.2077932\ttotal: 3.16s\tremaining: 18.5s\n",
      "146:\tlearn: 0.2076544\ttotal: 3.17s\tremaining: 18.4s\n",
      "147:\tlearn: 0.2075512\ttotal: 3.19s\tremaining: 18.4s\n",
      "148:\tlearn: 0.2072926\ttotal: 3.21s\tremaining: 18.3s\n",
      "149:\tlearn: 0.2071716\ttotal: 3.22s\tremaining: 18.2s\n",
      "150:\tlearn: 0.2068996\ttotal: 3.23s\tremaining: 18.2s\n",
      "151:\tlearn: 0.2068002\ttotal: 3.25s\tremaining: 18.1s\n",
      "152:\tlearn: 0.2065715\ttotal: 3.26s\tremaining: 18.1s\n",
      "153:\tlearn: 0.2063176\ttotal: 3.28s\tremaining: 18s\n",
      "154:\tlearn: 0.2060742\ttotal: 3.29s\tremaining: 17.9s\n",
      "155:\tlearn: 0.2058914\ttotal: 3.31s\tremaining: 17.9s\n",
      "156:\tlearn: 0.2057692\ttotal: 3.33s\tremaining: 17.9s\n",
      "157:\tlearn: 0.2056086\ttotal: 3.36s\tremaining: 17.9s\n",
      "158:\tlearn: 0.2054790\ttotal: 3.38s\tremaining: 17.9s\n",
      "159:\tlearn: 0.2053368\ttotal: 3.4s\tremaining: 17.8s\n",
      "160:\tlearn: 0.2052248\ttotal: 3.41s\tremaining: 17.8s\n",
      "161:\tlearn: 0.2051136\ttotal: 3.42s\tremaining: 17.7s\n",
      "162:\tlearn: 0.2050199\ttotal: 3.44s\tremaining: 17.6s\n",
      "163:\tlearn: 0.2048731\ttotal: 3.45s\tremaining: 17.6s\n",
      "164:\tlearn: 0.2047836\ttotal: 3.46s\tremaining: 17.5s\n",
      "165:\tlearn: 0.2046357\ttotal: 3.48s\tremaining: 17.5s\n",
      "166:\tlearn: 0.2044882\ttotal: 3.49s\tremaining: 17.4s\n",
      "167:\tlearn: 0.2042960\ttotal: 3.51s\tremaining: 17.4s\n",
      "168:\tlearn: 0.2042095\ttotal: 3.52s\tremaining: 17.3s\n"
     ]
    },
    {
     "name": "stdout",
     "output_type": "stream",
     "text": [
      "169:\tlearn: 0.2041285\ttotal: 3.54s\tremaining: 17.3s\n",
      "170:\tlearn: 0.2040197\ttotal: 3.57s\tremaining: 17.3s\n",
      "171:\tlearn: 0.2038615\ttotal: 3.59s\tremaining: 17.3s\n",
      "172:\tlearn: 0.2036099\ttotal: 3.61s\tremaining: 17.3s\n",
      "173:\tlearn: 0.2035222\ttotal: 3.62s\tremaining: 17.2s\n",
      "174:\tlearn: 0.2034244\ttotal: 3.64s\tremaining: 17.2s\n",
      "175:\tlearn: 0.2033213\ttotal: 3.65s\tremaining: 17.1s\n",
      "176:\tlearn: 0.2032260\ttotal: 3.67s\tremaining: 17.1s\n",
      "177:\tlearn: 0.2030948\ttotal: 3.68s\tremaining: 17s\n",
      "178:\tlearn: 0.2029810\ttotal: 3.7s\tremaining: 17s\n",
      "179:\tlearn: 0.2028623\ttotal: 3.71s\tremaining: 16.9s\n",
      "180:\tlearn: 0.2027936\ttotal: 3.73s\tremaining: 16.9s\n",
      "181:\tlearn: 0.2027287\ttotal: 3.74s\tremaining: 16.8s\n",
      "182:\tlearn: 0.2026119\ttotal: 3.77s\tremaining: 16.8s\n",
      "183:\tlearn: 0.2025155\ttotal: 3.8s\tremaining: 16.9s\n",
      "184:\tlearn: 0.2023929\ttotal: 3.84s\tremaining: 16.9s\n",
      "185:\tlearn: 0.2022243\ttotal: 3.87s\tremaining: 16.9s\n",
      "186:\tlearn: 0.2020613\ttotal: 3.89s\tremaining: 16.9s\n",
      "187:\tlearn: 0.2019293\ttotal: 3.91s\tremaining: 16.9s\n",
      "188:\tlearn: 0.2018177\ttotal: 3.93s\tremaining: 16.9s\n",
      "189:\tlearn: 0.2016932\ttotal: 3.95s\tremaining: 16.8s\n",
      "190:\tlearn: 0.2016089\ttotal: 3.98s\tremaining: 16.8s\n",
      "191:\tlearn: 0.2015364\ttotal: 4.01s\tremaining: 16.9s\n",
      "192:\tlearn: 0.2014082\ttotal: 4.03s\tremaining: 16.9s\n",
      "193:\tlearn: 0.2013383\ttotal: 4.05s\tremaining: 16.8s\n",
      "194:\tlearn: 0.2012752\ttotal: 4.07s\tremaining: 16.8s\n",
      "195:\tlearn: 0.2011418\ttotal: 4.09s\tremaining: 16.8s\n",
      "196:\tlearn: 0.2009758\ttotal: 4.11s\tremaining: 16.7s\n",
      "197:\tlearn: 0.2008445\ttotal: 4.12s\tremaining: 16.7s\n",
      "198:\tlearn: 0.2006823\ttotal: 4.14s\tremaining: 16.7s\n",
      "199:\tlearn: 0.2005763\ttotal: 4.17s\tremaining: 16.7s\n",
      "200:\tlearn: 0.2005240\ttotal: 4.19s\tremaining: 16.7s\n",
      "201:\tlearn: 0.2004561\ttotal: 4.21s\tremaining: 16.6s\n",
      "202:\tlearn: 0.2003195\ttotal: 4.23s\tremaining: 16.6s\n",
      "203:\tlearn: 0.2002589\ttotal: 4.24s\tremaining: 16.5s\n",
      "204:\tlearn: 0.2000867\ttotal: 4.25s\tremaining: 16.5s\n",
      "205:\tlearn: 0.2000054\ttotal: 4.27s\tremaining: 16.5s\n",
      "206:\tlearn: 0.1999029\ttotal: 4.28s\tremaining: 16.4s\n",
      "207:\tlearn: 0.1997491\ttotal: 4.3s\tremaining: 16.4s\n",
      "208:\tlearn: 0.1996308\ttotal: 4.31s\tremaining: 16.3s\n",
      "209:\tlearn: 0.1994974\ttotal: 4.33s\tremaining: 16.3s\n",
      "210:\tlearn: 0.1993552\ttotal: 4.35s\tremaining: 16.3s\n",
      "211:\tlearn: 0.1992678\ttotal: 4.39s\tremaining: 16.3s\n",
      "212:\tlearn: 0.1991243\ttotal: 4.41s\tremaining: 16.3s\n",
      "213:\tlearn: 0.1990438\ttotal: 4.46s\tremaining: 16.4s\n",
      "214:\tlearn: 0.1989614\ttotal: 4.5s\tremaining: 16.4s\n",
      "215:\tlearn: 0.1988531\ttotal: 4.53s\tremaining: 16.4s\n",
      "216:\tlearn: 0.1987061\ttotal: 4.57s\tremaining: 16.5s\n",
      "217:\tlearn: 0.1986398\ttotal: 4.61s\tremaining: 16.5s\n",
      "218:\tlearn: 0.1985755\ttotal: 4.65s\tremaining: 16.6s\n",
      "219:\tlearn: 0.1984411\ttotal: 4.67s\tremaining: 16.6s\n",
      "220:\tlearn: 0.1983384\ttotal: 4.7s\tremaining: 16.6s\n",
      "221:\tlearn: 0.1982859\ttotal: 4.73s\tremaining: 16.6s\n",
      "222:\tlearn: 0.1981333\ttotal: 4.77s\tremaining: 16.6s\n",
      "223:\tlearn: 0.1980776\ttotal: 4.79s\tremaining: 16.6s\n",
      "224:\tlearn: 0.1980059\ttotal: 4.82s\tremaining: 16.6s\n",
      "225:\tlearn: 0.1979364\ttotal: 4.84s\tremaining: 16.6s\n",
      "226:\tlearn: 0.1977736\ttotal: 4.88s\tremaining: 16.6s\n",
      "227:\tlearn: 0.1976443\ttotal: 4.91s\tremaining: 16.6s\n",
      "228:\tlearn: 0.1975063\ttotal: 4.93s\tremaining: 16.6s\n",
      "229:\tlearn: 0.1974069\ttotal: 4.96s\tremaining: 16.6s\n",
      "230:\tlearn: 0.1972633\ttotal: 4.98s\tremaining: 16.6s\n",
      "231:\tlearn: 0.1971873\ttotal: 5s\tremaining: 16.5s\n",
      "232:\tlearn: 0.1970935\ttotal: 5.01s\tremaining: 16.5s\n",
      "233:\tlearn: 0.1970532\ttotal: 5.03s\tremaining: 16.5s\n",
      "234:\tlearn: 0.1969376\ttotal: 5.06s\tremaining: 16.5s\n",
      "235:\tlearn: 0.1967508\ttotal: 5.09s\tremaining: 16.5s\n",
      "236:\tlearn: 0.1965833\ttotal: 5.12s\tremaining: 16.5s\n",
      "237:\tlearn: 0.1965098\ttotal: 5.16s\tremaining: 16.5s\n",
      "238:\tlearn: 0.1964889\ttotal: 5.17s\tremaining: 16.5s\n",
      "239:\tlearn: 0.1963521\ttotal: 5.2s\tremaining: 16.5s\n",
      "240:\tlearn: 0.1962263\ttotal: 5.22s\tremaining: 16.4s\n",
      "241:\tlearn: 0.1961518\ttotal: 5.24s\tremaining: 16.4s\n",
      "242:\tlearn: 0.1960401\ttotal: 5.26s\tremaining: 16.4s\n",
      "243:\tlearn: 0.1959103\ttotal: 5.29s\tremaining: 16.4s\n",
      "244:\tlearn: 0.1958388\ttotal: 5.32s\tremaining: 16.4s\n",
      "245:\tlearn: 0.1956479\ttotal: 5.36s\tremaining: 16.4s\n",
      "246:\tlearn: 0.1955793\ttotal: 5.39s\tremaining: 16.4s\n",
      "247:\tlearn: 0.1953993\ttotal: 5.42s\tremaining: 16.5s\n",
      "248:\tlearn: 0.1953267\ttotal: 5.45s\tremaining: 16.4s\n",
      "249:\tlearn: 0.1952271\ttotal: 5.5s\tremaining: 16.5s\n",
      "250:\tlearn: 0.1951379\ttotal: 5.54s\tremaining: 16.5s\n",
      "251:\tlearn: 0.1950615\ttotal: 5.56s\tremaining: 16.5s\n",
      "252:\tlearn: 0.1949848\ttotal: 5.59s\tremaining: 16.5s\n",
      "253:\tlearn: 0.1948735\ttotal: 5.63s\tremaining: 16.5s\n",
      "254:\tlearn: 0.1947670\ttotal: 5.67s\tremaining: 16.6s\n",
      "255:\tlearn: 0.1947357\ttotal: 5.71s\tremaining: 16.6s\n",
      "256:\tlearn: 0.1946812\ttotal: 5.74s\tremaining: 16.6s\n",
      "257:\tlearn: 0.1945577\ttotal: 5.77s\tremaining: 16.6s\n",
      "258:\tlearn: 0.1944441\ttotal: 5.81s\tremaining: 16.6s\n",
      "259:\tlearn: 0.1943532\ttotal: 5.84s\tremaining: 16.6s\n",
      "260:\tlearn: 0.1942575\ttotal: 5.88s\tremaining: 16.7s\n",
      "261:\tlearn: 0.1941766\ttotal: 5.92s\tremaining: 16.7s\n",
      "262:\tlearn: 0.1940595\ttotal: 6s\tremaining: 16.8s\n",
      "263:\tlearn: 0.1939608\ttotal: 6.03s\tremaining: 16.8s\n",
      "264:\tlearn: 0.1938944\ttotal: 6.07s\tremaining: 16.8s\n",
      "265:\tlearn: 0.1938528\ttotal: 6.1s\tremaining: 16.8s\n",
      "266:\tlearn: 0.1937782\ttotal: 6.12s\tremaining: 16.8s\n",
      "267:\tlearn: 0.1937251\ttotal: 6.16s\tremaining: 16.8s\n",
      "268:\tlearn: 0.1936238\ttotal: 6.21s\tremaining: 16.9s\n",
      "269:\tlearn: 0.1935334\ttotal: 6.24s\tremaining: 16.9s\n",
      "270:\tlearn: 0.1933664\ttotal: 6.27s\tremaining: 16.9s\n",
      "271:\tlearn: 0.1932380\ttotal: 6.29s\tremaining: 16.8s\n",
      "272:\tlearn: 0.1931693\ttotal: 6.33s\tremaining: 16.9s\n",
      "273:\tlearn: 0.1931222\ttotal: 6.38s\tremaining: 16.9s\n",
      "274:\tlearn: 0.1930250\ttotal: 6.43s\tremaining: 16.9s\n",
      "275:\tlearn: 0.1928786\ttotal: 6.47s\tremaining: 17s\n",
      "276:\tlearn: 0.1927844\ttotal: 6.54s\tremaining: 17.1s\n",
      "277:\tlearn: 0.1927077\ttotal: 6.63s\tremaining: 17.2s\n",
      "278:\tlearn: 0.1925681\ttotal: 6.69s\tremaining: 17.3s\n",
      "279:\tlearn: 0.1925311\ttotal: 6.74s\tremaining: 17.3s\n",
      "280:\tlearn: 0.1924193\ttotal: 6.83s\tremaining: 17.5s\n",
      "281:\tlearn: 0.1922899\ttotal: 6.89s\tremaining: 17.6s\n",
      "282:\tlearn: 0.1922126\ttotal: 6.95s\tremaining: 17.6s\n",
      "283:\tlearn: 0.1921277\ttotal: 6.99s\tremaining: 17.6s\n",
      "284:\tlearn: 0.1919838\ttotal: 7.04s\tremaining: 17.7s\n",
      "285:\tlearn: 0.1918689\ttotal: 7.09s\tremaining: 17.7s\n",
      "286:\tlearn: 0.1917224\ttotal: 7.12s\tremaining: 17.7s\n",
      "287:\tlearn: 0.1916484\ttotal: 7.15s\tremaining: 17.7s\n",
      "288:\tlearn: 0.1916051\ttotal: 7.17s\tremaining: 17.6s\n",
      "289:\tlearn: 0.1915078\ttotal: 7.19s\tremaining: 17.6s\n",
      "290:\tlearn: 0.1914534\ttotal: 7.21s\tremaining: 17.6s\n",
      "291:\tlearn: 0.1913620\ttotal: 7.24s\tremaining: 17.5s\n",
      "292:\tlearn: 0.1912686\ttotal: 7.29s\tremaining: 17.6s\n",
      "293:\tlearn: 0.1911707\ttotal: 7.32s\tremaining: 17.6s\n",
      "294:\tlearn: 0.1910661\ttotal: 7.34s\tremaining: 17.5s\n",
      "295:\tlearn: 0.1909100\ttotal: 7.36s\tremaining: 17.5s\n",
      "296:\tlearn: 0.1908634\ttotal: 7.39s\tremaining: 17.5s\n",
      "297:\tlearn: 0.1907812\ttotal: 7.41s\tremaining: 17.5s\n",
      "298:\tlearn: 0.1906785\ttotal: 7.43s\tremaining: 17.4s\n",
      "299:\tlearn: 0.1906233\ttotal: 7.48s\tremaining: 17.5s\n",
      "300:\tlearn: 0.1905817\ttotal: 7.51s\tremaining: 17.4s\n",
      "301:\tlearn: 0.1904897\ttotal: 7.53s\tremaining: 17.4s\n",
      "302:\tlearn: 0.1904309\ttotal: 7.57s\tremaining: 17.4s\n",
      "303:\tlearn: 0.1903778\ttotal: 7.61s\tremaining: 17.4s\n",
      "304:\tlearn: 0.1903150\ttotal: 7.65s\tremaining: 17.4s\n",
      "305:\tlearn: 0.1902374\ttotal: 7.71s\tremaining: 17.5s\n",
      "306:\tlearn: 0.1901475\ttotal: 7.78s\tremaining: 17.6s\n",
      "307:\tlearn: 0.1901076\ttotal: 7.86s\tremaining: 17.7s\n",
      "308:\tlearn: 0.1900350\ttotal: 7.9s\tremaining: 17.7s\n",
      "309:\tlearn: 0.1899518\ttotal: 7.95s\tremaining: 17.7s\n",
      "310:\tlearn: 0.1898415\ttotal: 7.98s\tremaining: 17.7s\n",
      "311:\tlearn: 0.1897547\ttotal: 8.01s\tremaining: 17.7s\n",
      "312:\tlearn: 0.1897138\ttotal: 8.03s\tremaining: 17.6s\n",
      "313:\tlearn: 0.1896543\ttotal: 8.06s\tremaining: 17.6s\n",
      "314:\tlearn: 0.1895604\ttotal: 8.08s\tremaining: 17.6s\n",
      "315:\tlearn: 0.1894624\ttotal: 8.11s\tremaining: 17.5s\n",
      "316:\tlearn: 0.1893817\ttotal: 8.13s\tremaining: 17.5s\n",
      "317:\tlearn: 0.1893039\ttotal: 8.31s\tremaining: 17.8s\n",
      "318:\tlearn: 0.1892214\ttotal: 8.36s\tremaining: 17.8s\n",
      "319:\tlearn: 0.1891645\ttotal: 8.42s\tremaining: 17.9s\n",
      "320:\tlearn: 0.1890788\ttotal: 8.45s\tremaining: 17.9s\n",
      "321:\tlearn: 0.1889721\ttotal: 8.47s\tremaining: 17.8s\n",
      "322:\tlearn: 0.1889263\ttotal: 8.49s\tremaining: 17.8s\n",
      "323:\tlearn: 0.1888528\ttotal: 8.53s\tremaining: 17.8s\n",
      "324:\tlearn: 0.1888233\ttotal: 8.61s\tremaining: 17.9s\n",
      "325:\tlearn: 0.1887438\ttotal: 8.67s\tremaining: 17.9s\n",
      "326:\tlearn: 0.1887286\ttotal: 8.7s\tremaining: 17.9s\n"
     ]
    },
    {
     "name": "stdout",
     "output_type": "stream",
     "text": [
      "327:\tlearn: 0.1886414\ttotal: 8.76s\tremaining: 17.9s\n",
      "328:\tlearn: 0.1885764\ttotal: 8.87s\tremaining: 18.1s\n",
      "329:\tlearn: 0.1884881\ttotal: 8.93s\tremaining: 18.1s\n",
      "330:\tlearn: 0.1884116\ttotal: 8.99s\tremaining: 18.2s\n",
      "331:\tlearn: 0.1883174\ttotal: 9.02s\tremaining: 18.1s\n",
      "332:\tlearn: 0.1882370\ttotal: 9.04s\tremaining: 18.1s\n",
      "333:\tlearn: 0.1881372\ttotal: 9.05s\tremaining: 18.1s\n",
      "334:\tlearn: 0.1880556\ttotal: 9.07s\tremaining: 18s\n",
      "335:\tlearn: 0.1880254\ttotal: 9.08s\tremaining: 17.9s\n",
      "336:\tlearn: 0.1880106\ttotal: 9.09s\tremaining: 17.9s\n",
      "337:\tlearn: 0.1878827\ttotal: 9.11s\tremaining: 17.8s\n",
      "338:\tlearn: 0.1878102\ttotal: 9.13s\tremaining: 17.8s\n",
      "339:\tlearn: 0.1877415\ttotal: 9.14s\tremaining: 17.7s\n",
      "340:\tlearn: 0.1876620\ttotal: 9.15s\tremaining: 17.7s\n",
      "341:\tlearn: 0.1876089\ttotal: 9.17s\tremaining: 17.6s\n",
      "342:\tlearn: 0.1875389\ttotal: 9.18s\tremaining: 17.6s\n",
      "343:\tlearn: 0.1873923\ttotal: 9.2s\tremaining: 17.5s\n",
      "344:\tlearn: 0.1873125\ttotal: 9.22s\tremaining: 17.5s\n",
      "345:\tlearn: 0.1872426\ttotal: 9.24s\tremaining: 17.5s\n",
      "346:\tlearn: 0.1871640\ttotal: 9.26s\tremaining: 17.4s\n",
      "347:\tlearn: 0.1870798\ttotal: 9.28s\tremaining: 17.4s\n",
      "348:\tlearn: 0.1869883\ttotal: 9.29s\tremaining: 17.3s\n",
      "349:\tlearn: 0.1869075\ttotal: 9.3s\tremaining: 17.3s\n",
      "350:\tlearn: 0.1868031\ttotal: 9.32s\tremaining: 17.2s\n",
      "351:\tlearn: 0.1867002\ttotal: 9.33s\tremaining: 17.2s\n",
      "352:\tlearn: 0.1866484\ttotal: 9.35s\tremaining: 17.1s\n",
      "353:\tlearn: 0.1865469\ttotal: 9.36s\tremaining: 17.1s\n",
      "354:\tlearn: 0.1864525\ttotal: 9.38s\tremaining: 17s\n",
      "355:\tlearn: 0.1863413\ttotal: 9.39s\tremaining: 17s\n",
      "356:\tlearn: 0.1862544\ttotal: 9.42s\tremaining: 17s\n",
      "357:\tlearn: 0.1861805\ttotal: 9.44s\tremaining: 16.9s\n",
      "358:\tlearn: 0.1860949\ttotal: 9.46s\tremaining: 16.9s\n",
      "359:\tlearn: 0.1860174\ttotal: 9.49s\tremaining: 16.9s\n",
      "360:\tlearn: 0.1859604\ttotal: 9.52s\tremaining: 16.9s\n",
      "361:\tlearn: 0.1858894\ttotal: 9.58s\tremaining: 16.9s\n",
      "362:\tlearn: 0.1857888\ttotal: 9.65s\tremaining: 16.9s\n",
      "363:\tlearn: 0.1856811\ttotal: 9.69s\tremaining: 16.9s\n",
      "364:\tlearn: 0.1856247\ttotal: 9.71s\tremaining: 16.9s\n",
      "365:\tlearn: 0.1855655\ttotal: 9.73s\tremaining: 16.9s\n",
      "366:\tlearn: 0.1854734\ttotal: 9.76s\tremaining: 16.8s\n",
      "367:\tlearn: 0.1853941\ttotal: 9.77s\tremaining: 16.8s\n",
      "368:\tlearn: 0.1852998\ttotal: 9.79s\tremaining: 16.7s\n",
      "369:\tlearn: 0.1852446\ttotal: 9.8s\tremaining: 16.7s\n",
      "370:\tlearn: 0.1851978\ttotal: 9.82s\tremaining: 16.6s\n",
      "371:\tlearn: 0.1851117\ttotal: 9.83s\tremaining: 16.6s\n",
      "372:\tlearn: 0.1850405\ttotal: 9.85s\tremaining: 16.5s\n",
      "373:\tlearn: 0.1849906\ttotal: 9.87s\tremaining: 16.5s\n",
      "374:\tlearn: 0.1849310\ttotal: 9.9s\tremaining: 16.5s\n",
      "375:\tlearn: 0.1848529\ttotal: 9.91s\tremaining: 16.4s\n",
      "376:\tlearn: 0.1847627\ttotal: 9.93s\tremaining: 16.4s\n",
      "377:\tlearn: 0.1846845\ttotal: 9.94s\tremaining: 16.4s\n",
      "378:\tlearn: 0.1846391\ttotal: 9.96s\tremaining: 16.3s\n",
      "379:\tlearn: 0.1845593\ttotal: 9.97s\tremaining: 16.3s\n",
      "380:\tlearn: 0.1844759\ttotal: 9.98s\tremaining: 16.2s\n",
      "381:\tlearn: 0.1844078\ttotal: 10s\tremaining: 16.2s\n",
      "382:\tlearn: 0.1842848\ttotal: 10s\tremaining: 16.1s\n",
      "383:\tlearn: 0.1842085\ttotal: 10s\tremaining: 16.1s\n",
      "384:\tlearn: 0.1841167\ttotal: 10s\tremaining: 16s\n",
      "385:\tlearn: 0.1840407\ttotal: 10.1s\tremaining: 16s\n",
      "386:\tlearn: 0.1839765\ttotal: 10.1s\tremaining: 16s\n",
      "387:\tlearn: 0.1839027\ttotal: 10.1s\tremaining: 15.9s\n",
      "388:\tlearn: 0.1838452\ttotal: 10.1s\tremaining: 15.9s\n",
      "389:\tlearn: 0.1837689\ttotal: 10.1s\tremaining: 15.9s\n",
      "390:\tlearn: 0.1837110\ttotal: 10.2s\tremaining: 15.8s\n",
      "391:\tlearn: 0.1836474\ttotal: 10.2s\tremaining: 15.8s\n",
      "392:\tlearn: 0.1836162\ttotal: 10.2s\tremaining: 15.7s\n",
      "393:\tlearn: 0.1835458\ttotal: 10.2s\tremaining: 15.7s\n",
      "394:\tlearn: 0.1834485\ttotal: 10.2s\tremaining: 15.6s\n",
      "395:\tlearn: 0.1833245\ttotal: 10.2s\tremaining: 15.6s\n",
      "396:\tlearn: 0.1832670\ttotal: 10.3s\tremaining: 15.6s\n",
      "397:\tlearn: 0.1832339\ttotal: 10.3s\tremaining: 15.6s\n",
      "398:\tlearn: 0.1831531\ttotal: 10.3s\tremaining: 15.5s\n",
      "399:\tlearn: 0.1830406\ttotal: 10.3s\tremaining: 15.5s\n",
      "400:\tlearn: 0.1829629\ttotal: 10.4s\tremaining: 15.5s\n",
      "401:\tlearn: 0.1829213\ttotal: 10.4s\tremaining: 15.5s\n",
      "402:\tlearn: 0.1828115\ttotal: 10.4s\tremaining: 15.4s\n",
      "403:\tlearn: 0.1827550\ttotal: 10.5s\tremaining: 15.4s\n",
      "404:\tlearn: 0.1826879\ttotal: 10.5s\tremaining: 15.4s\n",
      "405:\tlearn: 0.1825803\ttotal: 10.6s\tremaining: 15.5s\n",
      "406:\tlearn: 0.1825160\ttotal: 10.6s\tremaining: 15.5s\n",
      "407:\tlearn: 0.1824371\ttotal: 10.7s\tremaining: 15.5s\n",
      "408:\tlearn: 0.1823801\ttotal: 10.7s\tremaining: 15.5s\n",
      "409:\tlearn: 0.1823282\ttotal: 10.8s\tremaining: 15.5s\n",
      "410:\tlearn: 0.1822530\ttotal: 10.8s\tremaining: 15.5s\n",
      "411:\tlearn: 0.1821806\ttotal: 10.8s\tremaining: 15.5s\n",
      "412:\tlearn: 0.1820898\ttotal: 10.9s\tremaining: 15.4s\n",
      "413:\tlearn: 0.1820582\ttotal: 10.9s\tremaining: 15.4s\n",
      "414:\tlearn: 0.1820003\ttotal: 10.9s\tremaining: 15.4s\n",
      "415:\tlearn: 0.1819150\ttotal: 10.9s\tremaining: 15.4s\n",
      "416:\tlearn: 0.1818284\ttotal: 11s\tremaining: 15.3s\n",
      "417:\tlearn: 0.1817568\ttotal: 11s\tremaining: 15.3s\n",
      "418:\tlearn: 0.1816660\ttotal: 11s\tremaining: 15.3s\n",
      "419:\tlearn: 0.1816191\ttotal: 11.1s\tremaining: 15.3s\n",
      "420:\tlearn: 0.1814958\ttotal: 11.1s\tremaining: 15.3s\n",
      "421:\tlearn: 0.1814371\ttotal: 11.1s\tremaining: 15.2s\n",
      "422:\tlearn: 0.1813533\ttotal: 11.1s\tremaining: 15.2s\n",
      "423:\tlearn: 0.1812882\ttotal: 11.1s\tremaining: 15.1s\n",
      "424:\tlearn: 0.1812234\ttotal: 11.2s\tremaining: 15.1s\n",
      "425:\tlearn: 0.1811428\ttotal: 11.2s\tremaining: 15.1s\n",
      "426:\tlearn: 0.1810585\ttotal: 11.2s\tremaining: 15.1s\n",
      "427:\tlearn: 0.1809821\ttotal: 11.3s\tremaining: 15.1s\n",
      "428:\tlearn: 0.1809394\ttotal: 11.4s\tremaining: 15.1s\n",
      "429:\tlearn: 0.1808994\ttotal: 11.4s\tremaining: 15.1s\n",
      "430:\tlearn: 0.1808354\ttotal: 11.4s\tremaining: 15.1s\n",
      "431:\tlearn: 0.1807749\ttotal: 11.5s\tremaining: 15.1s\n",
      "432:\tlearn: 0.1806762\ttotal: 11.5s\tremaining: 15.1s\n",
      "433:\tlearn: 0.1805870\ttotal: 11.5s\tremaining: 15.1s\n",
      "434:\tlearn: 0.1805211\ttotal: 11.6s\tremaining: 15s\n",
      "435:\tlearn: 0.1804289\ttotal: 11.6s\tremaining: 15s\n",
      "436:\tlearn: 0.1803831\ttotal: 11.6s\tremaining: 14.9s\n",
      "437:\tlearn: 0.1802947\ttotal: 11.6s\tremaining: 14.9s\n",
      "438:\tlearn: 0.1802263\ttotal: 11.6s\tremaining: 14.8s\n",
      "439:\tlearn: 0.1802075\ttotal: 11.6s\tremaining: 14.8s\n",
      "440:\tlearn: 0.1801457\ttotal: 11.6s\tremaining: 14.8s\n",
      "441:\tlearn: 0.1800690\ttotal: 11.7s\tremaining: 14.7s\n",
      "442:\tlearn: 0.1800202\ttotal: 11.7s\tremaining: 14.7s\n",
      "443:\tlearn: 0.1799575\ttotal: 11.7s\tremaining: 14.7s\n",
      "444:\tlearn: 0.1799012\ttotal: 11.7s\tremaining: 14.6s\n",
      "445:\tlearn: 0.1798759\ttotal: 11.7s\tremaining: 14.6s\n",
      "446:\tlearn: 0.1798053\ttotal: 11.8s\tremaining: 14.6s\n",
      "447:\tlearn: 0.1797593\ttotal: 11.8s\tremaining: 14.5s\n",
      "448:\tlearn: 0.1796545\ttotal: 11.9s\tremaining: 14.5s\n",
      "449:\tlearn: 0.1795700\ttotal: 11.9s\tremaining: 14.5s\n",
      "450:\tlearn: 0.1795138\ttotal: 12s\tremaining: 14.6s\n",
      "451:\tlearn: 0.1794509\ttotal: 12s\tremaining: 14.5s\n",
      "452:\tlearn: 0.1793721\ttotal: 12s\tremaining: 14.5s\n",
      "453:\tlearn: 0.1792679\ttotal: 12.1s\tremaining: 14.5s\n",
      "454:\tlearn: 0.1792263\ttotal: 12.1s\tremaining: 14.5s\n",
      "455:\tlearn: 0.1791862\ttotal: 12.1s\tremaining: 14.5s\n",
      "456:\tlearn: 0.1791626\ttotal: 12.1s\tremaining: 14.4s\n",
      "457:\tlearn: 0.1791170\ttotal: 12.2s\tremaining: 14.4s\n",
      "458:\tlearn: 0.1790977\ttotal: 12.2s\tremaining: 14.4s\n",
      "459:\tlearn: 0.1790034\ttotal: 12.2s\tremaining: 14.3s\n",
      "460:\tlearn: 0.1789393\ttotal: 12.2s\tremaining: 14.3s\n",
      "461:\tlearn: 0.1788709\ttotal: 12.2s\tremaining: 14.2s\n",
      "462:\tlearn: 0.1788319\ttotal: 12.2s\tremaining: 14.2s\n",
      "463:\tlearn: 0.1787674\ttotal: 12.3s\tremaining: 14.2s\n",
      "464:\tlearn: 0.1786849\ttotal: 12.3s\tremaining: 14.1s\n",
      "465:\tlearn: 0.1786371\ttotal: 12.3s\tremaining: 14.1s\n",
      "466:\tlearn: 0.1785870\ttotal: 12.3s\tremaining: 14.1s\n",
      "467:\tlearn: 0.1785345\ttotal: 12.3s\tremaining: 14s\n",
      "468:\tlearn: 0.1784730\ttotal: 12.3s\tremaining: 14s\n",
      "469:\tlearn: 0.1784353\ttotal: 12.4s\tremaining: 13.9s\n",
      "470:\tlearn: 0.1783721\ttotal: 12.4s\tremaining: 13.9s\n",
      "471:\tlearn: 0.1782814\ttotal: 12.4s\tremaining: 13.9s\n",
      "472:\tlearn: 0.1782252\ttotal: 12.4s\tremaining: 13.8s\n",
      "473:\tlearn: 0.1781502\ttotal: 12.4s\tremaining: 13.8s\n",
      "474:\tlearn: 0.1780873\ttotal: 12.4s\tremaining: 13.7s\n",
      "475:\tlearn: 0.1780356\ttotal: 12.5s\tremaining: 13.7s\n",
      "476:\tlearn: 0.1780198\ttotal: 12.5s\tremaining: 13.7s\n",
      "477:\tlearn: 0.1779612\ttotal: 12.5s\tremaining: 13.6s\n",
      "478:\tlearn: 0.1778865\ttotal: 12.5s\tremaining: 13.6s\n",
      "479:\tlearn: 0.1778091\ttotal: 12.5s\tremaining: 13.6s\n",
      "480:\tlearn: 0.1777056\ttotal: 12.5s\tremaining: 13.5s\n",
      "481:\tlearn: 0.1776639\ttotal: 12.6s\tremaining: 13.5s\n",
      "482:\tlearn: 0.1775804\ttotal: 12.6s\tremaining: 13.5s\n",
      "483:\tlearn: 0.1775175\ttotal: 12.6s\tremaining: 13.4s\n",
      "484:\tlearn: 0.1774732\ttotal: 12.6s\tremaining: 13.4s\n",
      "485:\tlearn: 0.1773768\ttotal: 12.7s\tremaining: 13.4s\n",
      "486:\tlearn: 0.1773434\ttotal: 12.7s\tremaining: 13.4s\n",
      "487:\tlearn: 0.1772622\ttotal: 12.7s\tremaining: 13.3s\n"
     ]
    },
    {
     "name": "stdout",
     "output_type": "stream",
     "text": [
      "488:\tlearn: 0.1772168\ttotal: 12.7s\tremaining: 13.3s\n",
      "489:\tlearn: 0.1771770\ttotal: 12.8s\tremaining: 13.3s\n",
      "490:\tlearn: 0.1771316\ttotal: 12.8s\tremaining: 13.3s\n",
      "491:\tlearn: 0.1770644\ttotal: 12.8s\tremaining: 13.2s\n",
      "492:\tlearn: 0.1769991\ttotal: 12.8s\tremaining: 13.2s\n",
      "493:\tlearn: 0.1769261\ttotal: 12.9s\tremaining: 13.2s\n",
      "494:\tlearn: 0.1769059\ttotal: 12.9s\tremaining: 13.1s\n",
      "495:\tlearn: 0.1768649\ttotal: 12.9s\tremaining: 13.1s\n",
      "496:\tlearn: 0.1767920\ttotal: 12.9s\tremaining: 13.1s\n",
      "497:\tlearn: 0.1767388\ttotal: 12.9s\tremaining: 13s\n",
      "498:\tlearn: 0.1766576\ttotal: 12.9s\tremaining: 13s\n",
      "499:\tlearn: 0.1766014\ttotal: 13s\tremaining: 13s\n",
      "500:\tlearn: 0.1765534\ttotal: 13s\tremaining: 12.9s\n",
      "501:\tlearn: 0.1765090\ttotal: 13s\tremaining: 12.9s\n",
      "502:\tlearn: 0.1764503\ttotal: 13s\tremaining: 12.9s\n",
      "503:\tlearn: 0.1763772\ttotal: 13s\tremaining: 12.8s\n",
      "504:\tlearn: 0.1762973\ttotal: 13s\tremaining: 12.8s\n",
      "505:\tlearn: 0.1762535\ttotal: 13.1s\tremaining: 12.7s\n",
      "506:\tlearn: 0.1761886\ttotal: 13.1s\tremaining: 12.7s\n",
      "507:\tlearn: 0.1761599\ttotal: 13.1s\tremaining: 12.7s\n",
      "508:\tlearn: 0.1760714\ttotal: 13.1s\tremaining: 12.6s\n",
      "509:\tlearn: 0.1760026\ttotal: 13.1s\tremaining: 12.6s\n",
      "510:\tlearn: 0.1759653\ttotal: 13.1s\tremaining: 12.6s\n",
      "511:\tlearn: 0.1758974\ttotal: 13.2s\tremaining: 12.5s\n",
      "512:\tlearn: 0.1758610\ttotal: 13.2s\tremaining: 12.5s\n",
      "513:\tlearn: 0.1758032\ttotal: 13.2s\tremaining: 12.5s\n",
      "514:\tlearn: 0.1757799\ttotal: 13.2s\tremaining: 12.4s\n",
      "515:\tlearn: 0.1757046\ttotal: 13.2s\tremaining: 12.4s\n",
      "516:\tlearn: 0.1756293\ttotal: 13.2s\tremaining: 12.4s\n",
      "517:\tlearn: 0.1755739\ttotal: 13.3s\tremaining: 12.3s\n",
      "518:\tlearn: 0.1755210\ttotal: 13.3s\tremaining: 12.3s\n",
      "519:\tlearn: 0.1754835\ttotal: 13.3s\tremaining: 12.3s\n",
      "520:\tlearn: 0.1754236\ttotal: 13.3s\tremaining: 12.2s\n",
      "521:\tlearn: 0.1753664\ttotal: 13.3s\tremaining: 12.2s\n",
      "522:\tlearn: 0.1752843\ttotal: 13.3s\tremaining: 12.2s\n",
      "523:\tlearn: 0.1752101\ttotal: 13.3s\tremaining: 12.1s\n",
      "524:\tlearn: 0.1751582\ttotal: 13.4s\tremaining: 12.1s\n",
      "525:\tlearn: 0.1751058\ttotal: 13.4s\tremaining: 12.1s\n",
      "526:\tlearn: 0.1750645\ttotal: 13.4s\tremaining: 12s\n",
      "527:\tlearn: 0.1749839\ttotal: 13.4s\tremaining: 12s\n",
      "528:\tlearn: 0.1749145\ttotal: 13.4s\tremaining: 12s\n",
      "529:\tlearn: 0.1748141\ttotal: 13.4s\tremaining: 11.9s\n",
      "530:\tlearn: 0.1747732\ttotal: 13.5s\tremaining: 11.9s\n",
      "531:\tlearn: 0.1747164\ttotal: 13.5s\tremaining: 11.9s\n",
      "532:\tlearn: 0.1746598\ttotal: 13.5s\tremaining: 11.8s\n",
      "533:\tlearn: 0.1745735\ttotal: 13.5s\tremaining: 11.8s\n",
      "534:\tlearn: 0.1744992\ttotal: 13.5s\tremaining: 11.7s\n",
      "535:\tlearn: 0.1744557\ttotal: 13.5s\tremaining: 11.7s\n",
      "536:\tlearn: 0.1743798\ttotal: 13.5s\tremaining: 11.7s\n",
      "537:\tlearn: 0.1743151\ttotal: 13.6s\tremaining: 11.7s\n",
      "538:\tlearn: 0.1742778\ttotal: 13.6s\tremaining: 11.6s\n",
      "539:\tlearn: 0.1742124\ttotal: 13.6s\tremaining: 11.6s\n",
      "540:\tlearn: 0.1741506\ttotal: 13.6s\tremaining: 11.6s\n",
      "541:\tlearn: 0.1740764\ttotal: 13.6s\tremaining: 11.5s\n",
      "542:\tlearn: 0.1740542\ttotal: 13.7s\tremaining: 11.5s\n",
      "543:\tlearn: 0.1739952\ttotal: 13.7s\tremaining: 11.5s\n",
      "544:\tlearn: 0.1739378\ttotal: 13.7s\tremaining: 11.4s\n",
      "545:\tlearn: 0.1738575\ttotal: 13.7s\tremaining: 11.4s\n",
      "546:\tlearn: 0.1738489\ttotal: 13.7s\tremaining: 11.4s\n",
      "547:\tlearn: 0.1737933\ttotal: 13.7s\tremaining: 11.3s\n",
      "548:\tlearn: 0.1737261\ttotal: 13.7s\tremaining: 11.3s\n",
      "549:\tlearn: 0.1736859\ttotal: 13.8s\tremaining: 11.3s\n",
      "550:\tlearn: 0.1736509\ttotal: 13.8s\tremaining: 11.2s\n",
      "551:\tlearn: 0.1736049\ttotal: 13.8s\tremaining: 11.2s\n",
      "552:\tlearn: 0.1735297\ttotal: 13.8s\tremaining: 11.2s\n",
      "553:\tlearn: 0.1734705\ttotal: 13.8s\tremaining: 11.1s\n",
      "554:\tlearn: 0.1733948\ttotal: 13.9s\tremaining: 11.1s\n",
      "555:\tlearn: 0.1733343\ttotal: 13.9s\tremaining: 11.1s\n",
      "556:\tlearn: 0.1732495\ttotal: 13.9s\tremaining: 11s\n",
      "557:\tlearn: 0.1731744\ttotal: 13.9s\tremaining: 11s\n",
      "558:\tlearn: 0.1731079\ttotal: 13.9s\tremaining: 11s\n",
      "559:\tlearn: 0.1730803\ttotal: 13.9s\tremaining: 10.9s\n",
      "560:\tlearn: 0.1730282\ttotal: 13.9s\tremaining: 10.9s\n",
      "561:\tlearn: 0.1729627\ttotal: 14s\tremaining: 10.9s\n",
      "562:\tlearn: 0.1728963\ttotal: 14s\tremaining: 10.8s\n",
      "563:\tlearn: 0.1728496\ttotal: 14s\tremaining: 10.8s\n",
      "564:\tlearn: 0.1728112\ttotal: 14s\tremaining: 10.8s\n",
      "565:\tlearn: 0.1727541\ttotal: 14s\tremaining: 10.8s\n",
      "566:\tlearn: 0.1727358\ttotal: 14.1s\tremaining: 10.7s\n",
      "567:\tlearn: 0.1726945\ttotal: 14.1s\tremaining: 10.7s\n",
      "568:\tlearn: 0.1726527\ttotal: 14.1s\tremaining: 10.7s\n",
      "569:\tlearn: 0.1725904\ttotal: 14.1s\tremaining: 10.6s\n",
      "570:\tlearn: 0.1725437\ttotal: 14.1s\tremaining: 10.6s\n",
      "571:\tlearn: 0.1724796\ttotal: 14.1s\tremaining: 10.6s\n",
      "572:\tlearn: 0.1724260\ttotal: 14.1s\tremaining: 10.5s\n",
      "573:\tlearn: 0.1723879\ttotal: 14.2s\tremaining: 10.5s\n",
      "574:\tlearn: 0.1723535\ttotal: 14.2s\tremaining: 10.5s\n",
      "575:\tlearn: 0.1722889\ttotal: 14.2s\tremaining: 10.4s\n",
      "576:\tlearn: 0.1722236\ttotal: 14.2s\tremaining: 10.4s\n",
      "577:\tlearn: 0.1721594\ttotal: 14.2s\tremaining: 10.4s\n",
      "578:\tlearn: 0.1720936\ttotal: 14.3s\tremaining: 10.4s\n",
      "579:\tlearn: 0.1720310\ttotal: 14.3s\tremaining: 10.3s\n",
      "580:\tlearn: 0.1719772\ttotal: 14.3s\tremaining: 10.3s\n",
      "581:\tlearn: 0.1719228\ttotal: 14.3s\tremaining: 10.3s\n",
      "582:\tlearn: 0.1718713\ttotal: 14.3s\tremaining: 10.2s\n",
      "583:\tlearn: 0.1718180\ttotal: 14.3s\tremaining: 10.2s\n",
      "584:\tlearn: 0.1717708\ttotal: 14.3s\tremaining: 10.2s\n",
      "585:\tlearn: 0.1717170\ttotal: 14.4s\tremaining: 10.1s\n",
      "586:\tlearn: 0.1716924\ttotal: 14.4s\tremaining: 10.1s\n",
      "587:\tlearn: 0.1716672\ttotal: 14.4s\tremaining: 10.1s\n",
      "588:\tlearn: 0.1716095\ttotal: 14.4s\tremaining: 10.1s\n",
      "589:\tlearn: 0.1715635\ttotal: 14.4s\tremaining: 10s\n",
      "590:\tlearn: 0.1715274\ttotal: 14.5s\tremaining: 10s\n",
      "591:\tlearn: 0.1714707\ttotal: 14.5s\tremaining: 9.97s\n",
      "592:\tlearn: 0.1714084\ttotal: 14.5s\tremaining: 9.94s\n",
      "593:\tlearn: 0.1713433\ttotal: 14.5s\tremaining: 9.91s\n",
      "594:\tlearn: 0.1712698\ttotal: 14.5s\tremaining: 9.88s\n",
      "595:\tlearn: 0.1712061\ttotal: 14.5s\tremaining: 9.85s\n",
      "596:\tlearn: 0.1711664\ttotal: 14.5s\tremaining: 9.82s\n",
      "597:\tlearn: 0.1711166\ttotal: 14.6s\tremaining: 9.79s\n",
      "598:\tlearn: 0.1710663\ttotal: 14.6s\tremaining: 9.76s\n",
      "599:\tlearn: 0.1710074\ttotal: 14.6s\tremaining: 9.72s\n",
      "600:\tlearn: 0.1709282\ttotal: 14.6s\tremaining: 9.69s\n",
      "601:\tlearn: 0.1708768\ttotal: 14.6s\tremaining: 9.67s\n",
      "602:\tlearn: 0.1708258\ttotal: 14.7s\tremaining: 9.65s\n",
      "603:\tlearn: 0.1707809\ttotal: 14.7s\tremaining: 9.62s\n",
      "604:\tlearn: 0.1707476\ttotal: 14.7s\tremaining: 9.59s\n",
      "605:\tlearn: 0.1707034\ttotal: 14.7s\tremaining: 9.56s\n",
      "606:\tlearn: 0.1706485\ttotal: 14.7s\tremaining: 9.53s\n",
      "607:\tlearn: 0.1705874\ttotal: 14.7s\tremaining: 9.5s\n",
      "608:\tlearn: 0.1705421\ttotal: 14.7s\tremaining: 9.46s\n",
      "609:\tlearn: 0.1704956\ttotal: 14.8s\tremaining: 9.44s\n",
      "610:\tlearn: 0.1704449\ttotal: 14.8s\tremaining: 9.4s\n",
      "611:\tlearn: 0.1703983\ttotal: 14.8s\tremaining: 9.37s\n",
      "612:\tlearn: 0.1703321\ttotal: 14.8s\tremaining: 9.35s\n",
      "613:\tlearn: 0.1702839\ttotal: 14.8s\tremaining: 9.32s\n",
      "614:\tlearn: 0.1702488\ttotal: 14.9s\tremaining: 9.3s\n",
      "615:\tlearn: 0.1702100\ttotal: 14.9s\tremaining: 9.27s\n",
      "616:\tlearn: 0.1701694\ttotal: 14.9s\tremaining: 9.24s\n",
      "617:\tlearn: 0.1701260\ttotal: 14.9s\tremaining: 9.21s\n",
      "618:\tlearn: 0.1700484\ttotal: 14.9s\tremaining: 9.18s\n",
      "619:\tlearn: 0.1699958\ttotal: 14.9s\tremaining: 9.15s\n",
      "620:\tlearn: 0.1699306\ttotal: 14.9s\tremaining: 9.12s\n",
      "621:\tlearn: 0.1699171\ttotal: 15s\tremaining: 9.09s\n",
      "622:\tlearn: 0.1698659\ttotal: 15s\tremaining: 9.06s\n",
      "623:\tlearn: 0.1698096\ttotal: 15s\tremaining: 9.03s\n",
      "624:\tlearn: 0.1697753\ttotal: 15s\tremaining: 9.01s\n",
      "625:\tlearn: 0.1697246\ttotal: 15s\tremaining: 8.98s\n",
      "626:\tlearn: 0.1696670\ttotal: 15.1s\tremaining: 8.96s\n",
      "627:\tlearn: 0.1696030\ttotal: 15.1s\tremaining: 8.93s\n",
      "628:\tlearn: 0.1695634\ttotal: 15.1s\tremaining: 8.9s\n",
      "629:\tlearn: 0.1695029\ttotal: 15.1s\tremaining: 8.87s\n",
      "630:\tlearn: 0.1694441\ttotal: 15.1s\tremaining: 8.84s\n",
      "631:\tlearn: 0.1693814\ttotal: 15.1s\tremaining: 8.81s\n",
      "632:\tlearn: 0.1693400\ttotal: 15.1s\tremaining: 8.78s\n",
      "633:\tlearn: 0.1692834\ttotal: 15.2s\tremaining: 8.75s\n",
      "634:\tlearn: 0.1692253\ttotal: 15.2s\tremaining: 8.72s\n",
      "635:\tlearn: 0.1691847\ttotal: 15.2s\tremaining: 8.69s\n",
      "636:\tlearn: 0.1691439\ttotal: 15.2s\tremaining: 8.66s\n",
      "637:\tlearn: 0.1691118\ttotal: 15.2s\tremaining: 8.64s\n",
      "638:\tlearn: 0.1690852\ttotal: 15.3s\tremaining: 8.62s\n",
      "639:\tlearn: 0.1690219\ttotal: 15.3s\tremaining: 8.59s\n",
      "640:\tlearn: 0.1689637\ttotal: 15.3s\tremaining: 8.56s\n",
      "641:\tlearn: 0.1689041\ttotal: 15.3s\tremaining: 8.53s\n",
      "642:\tlearn: 0.1688796\ttotal: 15.3s\tremaining: 8.51s\n",
      "643:\tlearn: 0.1688243\ttotal: 15.3s\tremaining: 8.48s\n",
      "644:\tlearn: 0.1687866\ttotal: 15.3s\tremaining: 8.45s\n",
      "645:\tlearn: 0.1687496\ttotal: 15.4s\tremaining: 8.42s\n",
      "646:\tlearn: 0.1687247\ttotal: 15.4s\tremaining: 8.39s\n",
      "647:\tlearn: 0.1686994\ttotal: 15.4s\tremaining: 8.36s\n"
     ]
    },
    {
     "name": "stdout",
     "output_type": "stream",
     "text": [
      "648:\tlearn: 0.1686347\ttotal: 15.4s\tremaining: 8.33s\n",
      "649:\tlearn: 0.1685762\ttotal: 15.4s\tremaining: 8.31s\n",
      "650:\tlearn: 0.1685122\ttotal: 15.5s\tremaining: 8.29s\n",
      "651:\tlearn: 0.1684697\ttotal: 15.5s\tremaining: 8.26s\n",
      "652:\tlearn: 0.1684103\ttotal: 15.5s\tremaining: 8.23s\n",
      "653:\tlearn: 0.1683509\ttotal: 15.5s\tremaining: 8.2s\n",
      "654:\tlearn: 0.1683086\ttotal: 15.5s\tremaining: 8.17s\n",
      "655:\tlearn: 0.1682761\ttotal: 15.5s\tremaining: 8.15s\n",
      "656:\tlearn: 0.1682305\ttotal: 15.5s\tremaining: 8.12s\n",
      "657:\tlearn: 0.1681971\ttotal: 15.6s\tremaining: 8.09s\n",
      "658:\tlearn: 0.1681557\ttotal: 15.6s\tremaining: 8.06s\n",
      "659:\tlearn: 0.1681073\ttotal: 15.6s\tremaining: 8.03s\n",
      "660:\tlearn: 0.1680659\ttotal: 15.6s\tremaining: 8.01s\n",
      "661:\tlearn: 0.1680296\ttotal: 15.6s\tremaining: 7.98s\n",
      "662:\tlearn: 0.1679746\ttotal: 15.7s\tremaining: 7.96s\n",
      "663:\tlearn: 0.1679255\ttotal: 15.7s\tremaining: 7.93s\n",
      "664:\tlearn: 0.1678903\ttotal: 15.7s\tremaining: 7.9s\n",
      "665:\tlearn: 0.1678354\ttotal: 15.7s\tremaining: 7.88s\n",
      "666:\tlearn: 0.1677788\ttotal: 15.7s\tremaining: 7.85s\n",
      "667:\tlearn: 0.1677478\ttotal: 15.7s\tremaining: 7.82s\n",
      "668:\tlearn: 0.1677011\ttotal: 15.7s\tremaining: 7.79s\n",
      "669:\tlearn: 0.1676369\ttotal: 15.8s\tremaining: 7.76s\n",
      "670:\tlearn: 0.1676004\ttotal: 15.8s\tremaining: 7.74s\n",
      "671:\tlearn: 0.1675510\ttotal: 15.8s\tremaining: 7.71s\n",
      "672:\tlearn: 0.1675146\ttotal: 15.8s\tremaining: 7.68s\n",
      "673:\tlearn: 0.1674663\ttotal: 15.8s\tremaining: 7.66s\n",
      "674:\tlearn: 0.1674113\ttotal: 15.9s\tremaining: 7.63s\n",
      "675:\tlearn: 0.1673628\ttotal: 15.9s\tremaining: 7.61s\n",
      "676:\tlearn: 0.1673302\ttotal: 15.9s\tremaining: 7.58s\n",
      "677:\tlearn: 0.1672897\ttotal: 15.9s\tremaining: 7.55s\n",
      "678:\tlearn: 0.1672444\ttotal: 15.9s\tremaining: 7.53s\n",
      "679:\tlearn: 0.1671877\ttotal: 15.9s\tremaining: 7.5s\n",
      "680:\tlearn: 0.1671237\ttotal: 15.9s\tremaining: 7.47s\n",
      "681:\tlearn: 0.1670637\ttotal: 16s\tremaining: 7.44s\n",
      "682:\tlearn: 0.1669895\ttotal: 16s\tremaining: 7.42s\n",
      "683:\tlearn: 0.1669451\ttotal: 16s\tremaining: 7.39s\n",
      "684:\tlearn: 0.1669000\ttotal: 16s\tremaining: 7.36s\n",
      "685:\tlearn: 0.1668434\ttotal: 16s\tremaining: 7.33s\n",
      "686:\tlearn: 0.1667844\ttotal: 16s\tremaining: 7.31s\n",
      "687:\tlearn: 0.1667105\ttotal: 16.1s\tremaining: 7.29s\n",
      "688:\tlearn: 0.1666478\ttotal: 16.1s\tremaining: 7.26s\n",
      "689:\tlearn: 0.1666036\ttotal: 16.1s\tremaining: 7.23s\n",
      "690:\tlearn: 0.1665633\ttotal: 16.1s\tremaining: 7.21s\n",
      "691:\tlearn: 0.1665200\ttotal: 16.1s\tremaining: 7.18s\n",
      "692:\tlearn: 0.1664706\ttotal: 16.1s\tremaining: 7.15s\n",
      "693:\tlearn: 0.1664030\ttotal: 16.2s\tremaining: 7.13s\n",
      "694:\tlearn: 0.1663493\ttotal: 16.2s\tremaining: 7.1s\n",
      "695:\tlearn: 0.1662932\ttotal: 16.2s\tremaining: 7.07s\n",
      "696:\tlearn: 0.1662147\ttotal: 16.2s\tremaining: 7.04s\n",
      "697:\tlearn: 0.1661734\ttotal: 16.2s\tremaining: 7.02s\n",
      "698:\tlearn: 0.1661176\ttotal: 16.2s\tremaining: 6.99s\n",
      "699:\tlearn: 0.1660562\ttotal: 16.3s\tremaining: 6.97s\n",
      "700:\tlearn: 0.1660148\ttotal: 16.3s\tremaining: 6.94s\n",
      "701:\tlearn: 0.1659747\ttotal: 16.3s\tremaining: 6.92s\n",
      "702:\tlearn: 0.1659193\ttotal: 16.3s\tremaining: 6.89s\n",
      "703:\tlearn: 0.1658786\ttotal: 16.3s\tremaining: 6.87s\n",
      "704:\tlearn: 0.1658388\ttotal: 16.3s\tremaining: 6.84s\n",
      "705:\tlearn: 0.1657952\ttotal: 16.4s\tremaining: 6.81s\n",
      "706:\tlearn: 0.1657602\ttotal: 16.4s\tremaining: 6.78s\n",
      "707:\tlearn: 0.1657200\ttotal: 16.4s\tremaining: 6.76s\n",
      "708:\tlearn: 0.1656765\ttotal: 16.4s\tremaining: 6.73s\n",
      "709:\tlearn: 0.1656264\ttotal: 16.4s\tremaining: 6.7s\n",
      "710:\tlearn: 0.1655742\ttotal: 16.4s\tremaining: 6.68s\n",
      "711:\tlearn: 0.1655435\ttotal: 16.4s\tremaining: 6.65s\n",
      "712:\tlearn: 0.1655116\ttotal: 16.5s\tremaining: 6.62s\n",
      "713:\tlearn: 0.1654726\ttotal: 16.5s\tremaining: 6.6s\n",
      "714:\tlearn: 0.1654174\ttotal: 16.5s\tremaining: 6.58s\n",
      "715:\tlearn: 0.1653566\ttotal: 16.5s\tremaining: 6.55s\n",
      "716:\tlearn: 0.1653172\ttotal: 16.5s\tremaining: 6.53s\n",
      "717:\tlearn: 0.1652892\ttotal: 16.5s\tremaining: 6.5s\n",
      "718:\tlearn: 0.1652528\ttotal: 16.6s\tremaining: 6.47s\n",
      "719:\tlearn: 0.1651987\ttotal: 16.6s\tremaining: 6.45s\n",
      "720:\tlearn: 0.1651477\ttotal: 16.6s\tremaining: 6.42s\n",
      "721:\tlearn: 0.1651023\ttotal: 16.6s\tremaining: 6.39s\n",
      "722:\tlearn: 0.1650513\ttotal: 16.6s\tremaining: 6.37s\n",
      "723:\tlearn: 0.1650021\ttotal: 16.6s\tremaining: 6.34s\n",
      "724:\tlearn: 0.1649478\ttotal: 16.6s\tremaining: 6.32s\n",
      "725:\tlearn: 0.1649177\ttotal: 16.7s\tremaining: 6.29s\n",
      "726:\tlearn: 0.1648604\ttotal: 16.7s\tremaining: 6.26s\n",
      "727:\tlearn: 0.1648191\ttotal: 16.7s\tremaining: 6.24s\n",
      "728:\tlearn: 0.1647541\ttotal: 16.7s\tremaining: 6.22s\n",
      "729:\tlearn: 0.1647025\ttotal: 16.7s\tremaining: 6.19s\n",
      "730:\tlearn: 0.1646530\ttotal: 16.8s\tremaining: 6.17s\n",
      "731:\tlearn: 0.1646173\ttotal: 16.8s\tremaining: 6.14s\n",
      "732:\tlearn: 0.1645733\ttotal: 16.8s\tremaining: 6.11s\n",
      "733:\tlearn: 0.1645293\ttotal: 16.8s\tremaining: 6.09s\n",
      "734:\tlearn: 0.1644882\ttotal: 16.8s\tremaining: 6.06s\n",
      "735:\tlearn: 0.1644696\ttotal: 16.8s\tremaining: 6.04s\n",
      "736:\tlearn: 0.1644284\ttotal: 16.8s\tremaining: 6.01s\n",
      "737:\tlearn: 0.1643948\ttotal: 16.9s\tremaining: 5.98s\n",
      "738:\tlearn: 0.1643606\ttotal: 16.9s\tremaining: 5.96s\n",
      "739:\tlearn: 0.1643223\ttotal: 16.9s\tremaining: 5.93s\n",
      "740:\tlearn: 0.1642823\ttotal: 16.9s\tremaining: 5.91s\n",
      "741:\tlearn: 0.1642439\ttotal: 16.9s\tremaining: 5.88s\n",
      "742:\tlearn: 0.1641897\ttotal: 16.9s\tremaining: 5.86s\n",
      "743:\tlearn: 0.1641562\ttotal: 17s\tremaining: 5.84s\n",
      "744:\tlearn: 0.1641150\ttotal: 17s\tremaining: 5.81s\n",
      "745:\tlearn: 0.1640717\ttotal: 17s\tremaining: 5.79s\n",
      "746:\tlearn: 0.1640248\ttotal: 17s\tremaining: 5.76s\n",
      "747:\tlearn: 0.1639775\ttotal: 17s\tremaining: 5.74s\n",
      "748:\tlearn: 0.1639415\ttotal: 17s\tremaining: 5.71s\n",
      "749:\tlearn: 0.1638806\ttotal: 17.1s\tremaining: 5.68s\n",
      "750:\tlearn: 0.1638665\ttotal: 17.1s\tremaining: 5.66s\n",
      "751:\tlearn: 0.1638074\ttotal: 17.1s\tremaining: 5.63s\n",
      "752:\tlearn: 0.1637587\ttotal: 17.1s\tremaining: 5.61s\n",
      "753:\tlearn: 0.1637108\ttotal: 17.1s\tremaining: 5.58s\n",
      "754:\tlearn: 0.1636753\ttotal: 17.1s\tremaining: 5.56s\n",
      "755:\tlearn: 0.1636492\ttotal: 17.2s\tremaining: 5.54s\n",
      "756:\tlearn: 0.1635968\ttotal: 17.2s\tremaining: 5.51s\n",
      "757:\tlearn: 0.1635544\ttotal: 17.2s\tremaining: 5.49s\n",
      "758:\tlearn: 0.1635088\ttotal: 17.2s\tremaining: 5.46s\n",
      "759:\tlearn: 0.1634720\ttotal: 17.2s\tremaining: 5.44s\n",
      "760:\tlearn: 0.1634410\ttotal: 17.2s\tremaining: 5.41s\n",
      "761:\tlearn: 0.1634140\ttotal: 17.3s\tremaining: 5.39s\n",
      "762:\tlearn: 0.1633499\ttotal: 17.3s\tremaining: 5.36s\n",
      "763:\tlearn: 0.1633029\ttotal: 17.3s\tremaining: 5.34s\n",
      "764:\tlearn: 0.1632578\ttotal: 17.3s\tremaining: 5.31s\n",
      "765:\tlearn: 0.1632221\ttotal: 17.3s\tremaining: 5.29s\n",
      "766:\tlearn: 0.1632094\ttotal: 17.3s\tremaining: 5.26s\n",
      "767:\tlearn: 0.1631645\ttotal: 17.3s\tremaining: 5.24s\n",
      "768:\tlearn: 0.1631072\ttotal: 17.4s\tremaining: 5.22s\n",
      "769:\tlearn: 0.1630638\ttotal: 17.4s\tremaining: 5.2s\n",
      "770:\tlearn: 0.1630279\ttotal: 17.4s\tremaining: 5.17s\n",
      "771:\tlearn: 0.1629765\ttotal: 17.4s\tremaining: 5.14s\n",
      "772:\tlearn: 0.1629450\ttotal: 17.4s\tremaining: 5.12s\n",
      "773:\tlearn: 0.1629104\ttotal: 17.4s\tremaining: 5.09s\n",
      "774:\tlearn: 0.1628912\ttotal: 17.5s\tremaining: 5.07s\n",
      "775:\tlearn: 0.1628377\ttotal: 17.5s\tremaining: 5.04s\n",
      "776:\tlearn: 0.1627938\ttotal: 17.5s\tremaining: 5.02s\n",
      "777:\tlearn: 0.1627573\ttotal: 17.5s\tremaining: 5s\n",
      "778:\tlearn: 0.1627133\ttotal: 17.5s\tremaining: 4.97s\n",
      "779:\tlearn: 0.1626894\ttotal: 17.5s\tremaining: 4.95s\n",
      "780:\tlearn: 0.1626435\ttotal: 17.6s\tremaining: 4.92s\n",
      "781:\tlearn: 0.1626006\ttotal: 17.6s\tremaining: 4.9s\n",
      "782:\tlearn: 0.1625460\ttotal: 17.6s\tremaining: 4.88s\n",
      "783:\tlearn: 0.1624952\ttotal: 17.6s\tremaining: 4.85s\n",
      "784:\tlearn: 0.1624752\ttotal: 17.6s\tremaining: 4.83s\n",
      "785:\tlearn: 0.1624506\ttotal: 17.6s\tremaining: 4.8s\n",
      "786:\tlearn: 0.1623820\ttotal: 17.7s\tremaining: 4.78s\n",
      "787:\tlearn: 0.1623285\ttotal: 17.7s\tremaining: 4.75s\n",
      "788:\tlearn: 0.1622934\ttotal: 17.7s\tremaining: 4.73s\n",
      "789:\tlearn: 0.1622571\ttotal: 17.7s\tremaining: 4.71s\n",
      "790:\tlearn: 0.1621989\ttotal: 17.7s\tremaining: 4.68s\n",
      "791:\tlearn: 0.1621814\ttotal: 17.7s\tremaining: 4.66s\n",
      "792:\tlearn: 0.1621310\ttotal: 17.8s\tremaining: 4.63s\n",
      "793:\tlearn: 0.1620601\ttotal: 17.8s\tremaining: 4.62s\n",
      "794:\tlearn: 0.1620346\ttotal: 17.8s\tremaining: 4.59s\n",
      "795:\tlearn: 0.1619797\ttotal: 17.8s\tremaining: 4.57s\n",
      "796:\tlearn: 0.1619620\ttotal: 17.9s\tremaining: 4.55s\n",
      "797:\tlearn: 0.1619267\ttotal: 17.9s\tremaining: 4.52s\n",
      "798:\tlearn: 0.1618822\ttotal: 17.9s\tremaining: 4.5s\n",
      "799:\tlearn: 0.1618545\ttotal: 17.9s\tremaining: 4.48s\n",
      "800:\tlearn: 0.1618050\ttotal: 17.9s\tremaining: 4.45s\n",
      "801:\tlearn: 0.1617584\ttotal: 18s\tremaining: 4.43s\n",
      "802:\tlearn: 0.1617284\ttotal: 18s\tremaining: 4.41s\n",
      "803:\tlearn: 0.1616967\ttotal: 18s\tremaining: 4.39s\n",
      "804:\tlearn: 0.1616578\ttotal: 18s\tremaining: 4.37s\n",
      "805:\tlearn: 0.1616217\ttotal: 18.1s\tremaining: 4.34s\n",
      "806:\tlearn: 0.1615802\ttotal: 18.1s\tremaining: 4.32s\n",
      "807:\tlearn: 0.1615184\ttotal: 18.1s\tremaining: 4.3s\n",
      "808:\tlearn: 0.1614976\ttotal: 18.1s\tremaining: 4.27s\n",
      "809:\tlearn: 0.1614567\ttotal: 18.1s\tremaining: 4.25s\n",
      "810:\tlearn: 0.1614028\ttotal: 18.1s\tremaining: 4.22s\n",
      "811:\tlearn: 0.1613651\ttotal: 18.1s\tremaining: 4.2s\n"
     ]
    },
    {
     "name": "stdout",
     "output_type": "stream",
     "text": [
      "812:\tlearn: 0.1613060\ttotal: 18.2s\tremaining: 4.18s\n",
      "813:\tlearn: 0.1612884\ttotal: 18.2s\tremaining: 4.16s\n",
      "814:\tlearn: 0.1612530\ttotal: 18.2s\tremaining: 4.13s\n",
      "815:\tlearn: 0.1612231\ttotal: 18.2s\tremaining: 4.11s\n",
      "816:\tlearn: 0.1611617\ttotal: 18.2s\tremaining: 4.09s\n",
      "817:\tlearn: 0.1611180\ttotal: 18.3s\tremaining: 4.06s\n",
      "818:\tlearn: 0.1610755\ttotal: 18.3s\tremaining: 4.04s\n",
      "819:\tlearn: 0.1610098\ttotal: 18.3s\tremaining: 4.01s\n",
      "820:\tlearn: 0.1609768\ttotal: 18.3s\tremaining: 3.99s\n",
      "821:\tlearn: 0.1609381\ttotal: 18.3s\tremaining: 3.97s\n",
      "822:\tlearn: 0.1608858\ttotal: 18.3s\tremaining: 3.94s\n",
      "823:\tlearn: 0.1608453\ttotal: 18.4s\tremaining: 3.92s\n",
      "824:\tlearn: 0.1607946\ttotal: 18.4s\tremaining: 3.9s\n",
      "825:\tlearn: 0.1607595\ttotal: 18.4s\tremaining: 3.87s\n",
      "826:\tlearn: 0.1607481\ttotal: 18.4s\tremaining: 3.85s\n",
      "827:\tlearn: 0.1607190\ttotal: 18.4s\tremaining: 3.83s\n",
      "828:\tlearn: 0.1606819\ttotal: 18.4s\tremaining: 3.81s\n",
      "829:\tlearn: 0.1606643\ttotal: 18.5s\tremaining: 3.78s\n",
      "830:\tlearn: 0.1606089\ttotal: 18.5s\tremaining: 3.76s\n",
      "831:\tlearn: 0.1605878\ttotal: 18.5s\tremaining: 3.73s\n",
      "832:\tlearn: 0.1605547\ttotal: 18.5s\tremaining: 3.71s\n",
      "833:\tlearn: 0.1605045\ttotal: 18.5s\tremaining: 3.69s\n",
      "834:\tlearn: 0.1604627\ttotal: 18.5s\tremaining: 3.66s\n",
      "835:\tlearn: 0.1604168\ttotal: 18.5s\tremaining: 3.64s\n",
      "836:\tlearn: 0.1603785\ttotal: 18.6s\tremaining: 3.61s\n",
      "837:\tlearn: 0.1603288\ttotal: 18.6s\tremaining: 3.59s\n",
      "838:\tlearn: 0.1602896\ttotal: 18.6s\tremaining: 3.57s\n",
      "839:\tlearn: 0.1602496\ttotal: 18.6s\tremaining: 3.55s\n",
      "840:\tlearn: 0.1602106\ttotal: 18.6s\tremaining: 3.52s\n",
      "841:\tlearn: 0.1601636\ttotal: 18.7s\tremaining: 3.5s\n",
      "842:\tlearn: 0.1601560\ttotal: 18.7s\tremaining: 3.48s\n",
      "843:\tlearn: 0.1601074\ttotal: 18.7s\tremaining: 3.45s\n",
      "844:\tlearn: 0.1601001\ttotal: 18.7s\tremaining: 3.43s\n",
      "845:\tlearn: 0.1600573\ttotal: 18.7s\tremaining: 3.41s\n",
      "846:\tlearn: 0.1600234\ttotal: 18.7s\tremaining: 3.38s\n",
      "847:\tlearn: 0.1599468\ttotal: 18.7s\tremaining: 3.36s\n",
      "848:\tlearn: 0.1598947\ttotal: 18.8s\tremaining: 3.33s\n",
      "849:\tlearn: 0.1598668\ttotal: 18.8s\tremaining: 3.31s\n",
      "850:\tlearn: 0.1598072\ttotal: 18.8s\tremaining: 3.29s\n",
      "851:\tlearn: 0.1597748\ttotal: 18.8s\tremaining: 3.27s\n",
      "852:\tlearn: 0.1597249\ttotal: 18.8s\tremaining: 3.25s\n",
      "853:\tlearn: 0.1596978\ttotal: 18.8s\tremaining: 3.22s\n",
      "854:\tlearn: 0.1596499\ttotal: 18.9s\tremaining: 3.2s\n",
      "855:\tlearn: 0.1595787\ttotal: 18.9s\tremaining: 3.17s\n",
      "856:\tlearn: 0.1595339\ttotal: 18.9s\tremaining: 3.15s\n",
      "857:\tlearn: 0.1594606\ttotal: 18.9s\tremaining: 3.13s\n",
      "858:\tlearn: 0.1594086\ttotal: 18.9s\tremaining: 3.1s\n",
      "859:\tlearn: 0.1593625\ttotal: 18.9s\tremaining: 3.08s\n",
      "860:\tlearn: 0.1593455\ttotal: 19s\tremaining: 3.06s\n",
      "861:\tlearn: 0.1593069\ttotal: 19s\tremaining: 3.04s\n",
      "862:\tlearn: 0.1592630\ttotal: 19s\tremaining: 3.01s\n",
      "863:\tlearn: 0.1592218\ttotal: 19s\tremaining: 2.99s\n",
      "864:\tlearn: 0.1591906\ttotal: 19s\tremaining: 2.97s\n",
      "865:\tlearn: 0.1591565\ttotal: 19s\tremaining: 2.94s\n",
      "866:\tlearn: 0.1591221\ttotal: 19.1s\tremaining: 2.92s\n",
      "867:\tlearn: 0.1591043\ttotal: 19.1s\tremaining: 2.9s\n",
      "868:\tlearn: 0.1590637\ttotal: 19.1s\tremaining: 2.88s\n",
      "869:\tlearn: 0.1590158\ttotal: 19.1s\tremaining: 2.85s\n",
      "870:\tlearn: 0.1589558\ttotal: 19.1s\tremaining: 2.83s\n",
      "871:\tlearn: 0.1589153\ttotal: 19.1s\tremaining: 2.81s\n",
      "872:\tlearn: 0.1588735\ttotal: 19.1s\tremaining: 2.79s\n",
      "873:\tlearn: 0.1588376\ttotal: 19.2s\tremaining: 2.76s\n",
      "874:\tlearn: 0.1588120\ttotal: 19.2s\tremaining: 2.74s\n",
      "875:\tlearn: 0.1587692\ttotal: 19.2s\tremaining: 2.72s\n",
      "876:\tlearn: 0.1587065\ttotal: 19.2s\tremaining: 2.69s\n",
      "877:\tlearn: 0.1586510\ttotal: 19.2s\tremaining: 2.67s\n",
      "878:\tlearn: 0.1586101\ttotal: 19.2s\tremaining: 2.65s\n",
      "879:\tlearn: 0.1585818\ttotal: 19.3s\tremaining: 2.63s\n",
      "880:\tlearn: 0.1585316\ttotal: 19.3s\tremaining: 2.6s\n",
      "881:\tlearn: 0.1584849\ttotal: 19.3s\tremaining: 2.58s\n",
      "882:\tlearn: 0.1584208\ttotal: 19.3s\tremaining: 2.56s\n",
      "883:\tlearn: 0.1583901\ttotal: 19.3s\tremaining: 2.54s\n",
      "884:\tlearn: 0.1583397\ttotal: 19.4s\tremaining: 2.52s\n",
      "885:\tlearn: 0.1582977\ttotal: 19.4s\tremaining: 2.49s\n",
      "886:\tlearn: 0.1582441\ttotal: 19.4s\tremaining: 2.47s\n",
      "887:\tlearn: 0.1581985\ttotal: 19.4s\tremaining: 2.45s\n",
      "888:\tlearn: 0.1581593\ttotal: 19.4s\tremaining: 2.42s\n",
      "889:\tlearn: 0.1581398\ttotal: 19.4s\tremaining: 2.4s\n",
      "890:\tlearn: 0.1580933\ttotal: 19.5s\tremaining: 2.38s\n",
      "891:\tlearn: 0.1580605\ttotal: 19.5s\tremaining: 2.36s\n",
      "892:\tlearn: 0.1580115\ttotal: 19.5s\tremaining: 2.33s\n",
      "893:\tlearn: 0.1579531\ttotal: 19.5s\tremaining: 2.31s\n",
      "894:\tlearn: 0.1578898\ttotal: 19.5s\tremaining: 2.29s\n",
      "895:\tlearn: 0.1578464\ttotal: 19.5s\tremaining: 2.27s\n",
      "896:\tlearn: 0.1578141\ttotal: 19.6s\tremaining: 2.25s\n",
      "897:\tlearn: 0.1577955\ttotal: 19.6s\tremaining: 2.22s\n",
      "898:\tlearn: 0.1577561\ttotal: 19.6s\tremaining: 2.2s\n",
      "899:\tlearn: 0.1577529\ttotal: 19.6s\tremaining: 2.18s\n",
      "900:\tlearn: 0.1576803\ttotal: 19.6s\tremaining: 2.15s\n",
      "901:\tlearn: 0.1576356\ttotal: 19.6s\tremaining: 2.13s\n",
      "902:\tlearn: 0.1575862\ttotal: 19.7s\tremaining: 2.11s\n",
      "903:\tlearn: 0.1575494\ttotal: 19.7s\tremaining: 2.09s\n",
      "904:\tlearn: 0.1575215\ttotal: 19.7s\tremaining: 2.07s\n",
      "905:\tlearn: 0.1574844\ttotal: 19.7s\tremaining: 2.04s\n",
      "906:\tlearn: 0.1574246\ttotal: 19.7s\tremaining: 2.02s\n",
      "907:\tlearn: 0.1573838\ttotal: 19.7s\tremaining: 2s\n",
      "908:\tlearn: 0.1573388\ttotal: 19.8s\tremaining: 1.98s\n",
      "909:\tlearn: 0.1573043\ttotal: 19.8s\tremaining: 1.96s\n",
      "910:\tlearn: 0.1572681\ttotal: 19.8s\tremaining: 1.93s\n",
      "911:\tlearn: 0.1572368\ttotal: 19.8s\tremaining: 1.91s\n",
      "912:\tlearn: 0.1571773\ttotal: 19.8s\tremaining: 1.89s\n",
      "913:\tlearn: 0.1571397\ttotal: 19.8s\tremaining: 1.87s\n",
      "914:\tlearn: 0.1570972\ttotal: 19.9s\tremaining: 1.84s\n",
      "915:\tlearn: 0.1570323\ttotal: 19.9s\tremaining: 1.82s\n",
      "916:\tlearn: 0.1569722\ttotal: 19.9s\tremaining: 1.8s\n",
      "917:\tlearn: 0.1569341\ttotal: 19.9s\tremaining: 1.78s\n",
      "918:\tlearn: 0.1568896\ttotal: 19.9s\tremaining: 1.76s\n",
      "919:\tlearn: 0.1568546\ttotal: 20s\tremaining: 1.74s\n",
      "920:\tlearn: 0.1567900\ttotal: 20s\tremaining: 1.71s\n",
      "921:\tlearn: 0.1567446\ttotal: 20s\tremaining: 1.69s\n",
      "922:\tlearn: 0.1567188\ttotal: 20s\tremaining: 1.67s\n",
      "923:\tlearn: 0.1566809\ttotal: 20s\tremaining: 1.65s\n",
      "924:\tlearn: 0.1566570\ttotal: 20s\tremaining: 1.62s\n",
      "925:\tlearn: 0.1566120\ttotal: 20s\tremaining: 1.6s\n",
      "926:\tlearn: 0.1565811\ttotal: 20.1s\tremaining: 1.58s\n",
      "927:\tlearn: 0.1565529\ttotal: 20.1s\tremaining: 1.56s\n",
      "928:\tlearn: 0.1565198\ttotal: 20.1s\tremaining: 1.54s\n",
      "929:\tlearn: 0.1564978\ttotal: 20.1s\tremaining: 1.51s\n",
      "930:\tlearn: 0.1564674\ttotal: 20.1s\tremaining: 1.49s\n",
      "931:\tlearn: 0.1564517\ttotal: 20.2s\tremaining: 1.47s\n",
      "932:\tlearn: 0.1564231\ttotal: 20.2s\tremaining: 1.45s\n",
      "933:\tlearn: 0.1563892\ttotal: 20.2s\tremaining: 1.43s\n",
      "934:\tlearn: 0.1563542\ttotal: 20.2s\tremaining: 1.4s\n",
      "935:\tlearn: 0.1563106\ttotal: 20.2s\tremaining: 1.38s\n",
      "936:\tlearn: 0.1562778\ttotal: 20.2s\tremaining: 1.36s\n",
      "937:\tlearn: 0.1562457\ttotal: 20.2s\tremaining: 1.34s\n",
      "938:\tlearn: 0.1561997\ttotal: 20.3s\tremaining: 1.32s\n",
      "939:\tlearn: 0.1561379\ttotal: 20.3s\tremaining: 1.29s\n",
      "940:\tlearn: 0.1560944\ttotal: 20.3s\tremaining: 1.27s\n",
      "941:\tlearn: 0.1560203\ttotal: 20.3s\tremaining: 1.25s\n",
      "942:\tlearn: 0.1559564\ttotal: 20.3s\tremaining: 1.23s\n",
      "943:\tlearn: 0.1559384\ttotal: 20.4s\tremaining: 1.21s\n",
      "944:\tlearn: 0.1558871\ttotal: 20.4s\tremaining: 1.19s\n",
      "945:\tlearn: 0.1558387\ttotal: 20.4s\tremaining: 1.16s\n",
      "946:\tlearn: 0.1557846\ttotal: 20.4s\tremaining: 1.14s\n",
      "947:\tlearn: 0.1557824\ttotal: 20.4s\tremaining: 1.12s\n",
      "948:\tlearn: 0.1557442\ttotal: 20.4s\tremaining: 1.1s\n",
      "949:\tlearn: 0.1556946\ttotal: 20.4s\tremaining: 1.07s\n",
      "950:\tlearn: 0.1556655\ttotal: 20.5s\tremaining: 1.05s\n",
      "951:\tlearn: 0.1556300\ttotal: 20.5s\tremaining: 1.03s\n",
      "952:\tlearn: 0.1555926\ttotal: 20.5s\tremaining: 1.01s\n",
      "953:\tlearn: 0.1555694\ttotal: 20.5s\tremaining: 989ms\n",
      "954:\tlearn: 0.1555375\ttotal: 20.5s\tremaining: 968ms\n",
      "955:\tlearn: 0.1554872\ttotal: 20.6s\tremaining: 946ms\n",
      "956:\tlearn: 0.1554411\ttotal: 20.6s\tremaining: 924ms\n",
      "957:\tlearn: 0.1554055\ttotal: 20.6s\tremaining: 902ms\n",
      "958:\tlearn: 0.1553558\ttotal: 20.6s\tremaining: 881ms\n",
      "959:\tlearn: 0.1553182\ttotal: 20.6s\tremaining: 859ms\n",
      "960:\tlearn: 0.1552865\ttotal: 20.6s\tremaining: 837ms\n",
      "961:\tlearn: 0.1552493\ttotal: 20.6s\tremaining: 815ms\n",
      "962:\tlearn: 0.1552205\ttotal: 20.7s\tremaining: 794ms\n",
      "963:\tlearn: 0.1551780\ttotal: 20.7s\tremaining: 772ms\n",
      "964:\tlearn: 0.1551421\ttotal: 20.7s\tremaining: 750ms\n",
      "965:\tlearn: 0.1550990\ttotal: 20.7s\tremaining: 729ms\n",
      "966:\tlearn: 0.1550792\ttotal: 20.7s\tremaining: 708ms\n",
      "967:\tlearn: 0.1550468\ttotal: 20.8s\tremaining: 686ms\n",
      "968:\tlearn: 0.1549974\ttotal: 20.8s\tremaining: 664ms\n",
      "969:\tlearn: 0.1549618\ttotal: 20.8s\tremaining: 643ms\n",
      "970:\tlearn: 0.1549295\ttotal: 20.8s\tremaining: 621ms\n",
      "971:\tlearn: 0.1549026\ttotal: 20.8s\tremaining: 600ms\n",
      "972:\tlearn: 0.1548508\ttotal: 20.8s\tremaining: 578ms\n",
      "973:\tlearn: 0.1547745\ttotal: 20.8s\tremaining: 556ms\n",
      "974:\tlearn: 0.1547731\ttotal: 20.9s\tremaining: 535ms\n",
      "975:\tlearn: 0.1547421\ttotal: 20.9s\tremaining: 513ms\n",
      "976:\tlearn: 0.1547217\ttotal: 20.9s\tremaining: 492ms\n",
      "977:\tlearn: 0.1547032\ttotal: 20.9s\tremaining: 470ms\n"
     ]
    },
    {
     "name": "stdout",
     "output_type": "stream",
     "text": [
      "978:\tlearn: 0.1546429\ttotal: 20.9s\tremaining: 449ms\n",
      "979:\tlearn: 0.1546048\ttotal: 21s\tremaining: 428ms\n",
      "980:\tlearn: 0.1545614\ttotal: 21s\tremaining: 406ms\n",
      "981:\tlearn: 0.1545198\ttotal: 21s\tremaining: 385ms\n",
      "982:\tlearn: 0.1544886\ttotal: 21s\tremaining: 363ms\n",
      "983:\tlearn: 0.1544580\ttotal: 21s\tremaining: 342ms\n",
      "984:\tlearn: 0.1544030\ttotal: 21s\tremaining: 321ms\n",
      "985:\tlearn: 0.1543612\ttotal: 21.1s\tremaining: 299ms\n",
      "986:\tlearn: 0.1543205\ttotal: 21.1s\tremaining: 278ms\n",
      "987:\tlearn: 0.1542916\ttotal: 21.1s\tremaining: 256ms\n",
      "988:\tlearn: 0.1542578\ttotal: 21.1s\tremaining: 235ms\n",
      "989:\tlearn: 0.1542081\ttotal: 21.2s\tremaining: 214ms\n",
      "990:\tlearn: 0.1541759\ttotal: 21.2s\tremaining: 193ms\n",
      "991:\tlearn: 0.1541413\ttotal: 21.2s\tremaining: 171ms\n",
      "992:\tlearn: 0.1540764\ttotal: 21.2s\tremaining: 150ms\n",
      "993:\tlearn: 0.1540254\ttotal: 21.3s\tremaining: 128ms\n",
      "994:\tlearn: 0.1539896\ttotal: 21.3s\tremaining: 107ms\n",
      "995:\tlearn: 0.1539568\ttotal: 21.3s\tremaining: 85.5ms\n",
      "996:\tlearn: 0.1539383\ttotal: 21.3s\tremaining: 64.1ms\n",
      "997:\tlearn: 0.1538750\ttotal: 21.3s\tremaining: 42.7ms\n",
      "998:\tlearn: 0.1538472\ttotal: 21.3s\tremaining: 21.4ms\n",
      "999:\tlearn: 0.1538120\ttotal: 21.4s\tremaining: 0us\n"
     ]
    },
    {
     "data": {
      "text/plain": [
       "array([[7384,  251],\n",
       "       [ 539,  465]])"
      ]
     },
     "metadata": {},
     "output_type": "display_data"
    },
    {
     "name": "stdout",
     "output_type": "stream",
     "text": [
      "Accuracy 0.9085542308137516\n",
      "Recall 0.4631474103585657\n",
      "Precision 0.6494413407821229\n",
      "F1 0.5406976744186046\n"
     ]
    }
   ],
   "source": [
    "model6=CatBoostClassifier()\n",
    "model6.fit(X_train, y_train)\n",
    "y_pred6=model6.predict(X_test)\n",
    "conf6=confusion_matrix(y_test, [eval(i) for i in y_pred6])\n",
    "acc6=accuracy_score(y_test, [eval(i) for i in y_pred6])\n",
    "rec6=recall_score(y_test, [eval(i) for i in y_pred6])\n",
    "pre6=precision_score(y_test, [eval(i) for i in y_pred6])\n",
    "f16=f1_score(y_test, [eval(i) for i in y_pred6])\n",
    "display(conf6)\n",
    "print('Accuracy', acc6)\n",
    "print('Recall', rec6)\n",
    "print('Precision', pre6)\n",
    "print('F1', f16)"
   ]
  },
  {
   "cell_type": "markdown",
   "metadata": {},
   "source": [
    "### Original df with rescale"
   ]
  },
  {
   "cell_type": "code",
   "execution_count": 88,
   "metadata": {},
   "outputs": [
    {
     "name": "stdout",
     "output_type": "stream",
     "text": [
      "Learning rate set to 0.04676\n",
      "0:\tlearn: 0.6351737\ttotal: 20.5ms\tremaining: 20.4s\n",
      "1:\tlearn: 0.5873604\ttotal: 37.8ms\tremaining: 18.9s\n",
      "2:\tlearn: 0.5468958\ttotal: 62.6ms\tremaining: 20.8s\n",
      "3:\tlearn: 0.5143567\ttotal: 78.1ms\tremaining: 19.5s\n",
      "4:\tlearn: 0.4818544\ttotal: 94.3ms\tremaining: 18.8s\n",
      "5:\tlearn: 0.4549818\ttotal: 111ms\tremaining: 18.4s\n",
      "6:\tlearn: 0.4309298\ttotal: 125ms\tremaining: 17.8s\n",
      "7:\tlearn: 0.4098023\ttotal: 142ms\tremaining: 17.7s\n",
      "8:\tlearn: 0.3914715\ttotal: 159ms\tremaining: 17.5s\n",
      "9:\tlearn: 0.3760344\ttotal: 173ms\tremaining: 17.2s\n",
      "10:\tlearn: 0.3601785\ttotal: 191ms\tremaining: 17.1s\n",
      "11:\tlearn: 0.3464369\ttotal: 217ms\tremaining: 17.8s\n",
      "12:\tlearn: 0.3378181\ttotal: 249ms\tremaining: 18.9s\n",
      "13:\tlearn: 0.3286389\ttotal: 280ms\tremaining: 19.7s\n",
      "14:\tlearn: 0.3199528\ttotal: 306ms\tremaining: 20.1s\n",
      "15:\tlearn: 0.3116207\ttotal: 324ms\tremaining: 19.9s\n",
      "16:\tlearn: 0.3050435\ttotal: 348ms\tremaining: 20.1s\n",
      "17:\tlearn: 0.3010721\ttotal: 372ms\tremaining: 20.3s\n",
      "18:\tlearn: 0.2952676\ttotal: 387ms\tremaining: 20s\n",
      "19:\tlearn: 0.2917493\ttotal: 402ms\tremaining: 19.7s\n",
      "20:\tlearn: 0.2883981\ttotal: 433ms\tremaining: 20.2s\n",
      "21:\tlearn: 0.2843612\ttotal: 468ms\tremaining: 20.8s\n",
      "22:\tlearn: 0.2807564\ttotal: 526ms\tremaining: 22.3s\n",
      "23:\tlearn: 0.2773377\ttotal: 570ms\tremaining: 23.2s\n",
      "24:\tlearn: 0.2738502\ttotal: 600ms\tremaining: 23.4s\n",
      "25:\tlearn: 0.2712011\ttotal: 619ms\tremaining: 23.2s\n",
      "26:\tlearn: 0.2683449\ttotal: 640ms\tremaining: 23.1s\n",
      "27:\tlearn: 0.2648632\ttotal: 677ms\tremaining: 23.5s\n",
      "28:\tlearn: 0.2627975\ttotal: 729ms\tremaining: 24.4s\n",
      "29:\tlearn: 0.2609916\ttotal: 779ms\tremaining: 25.2s\n",
      "30:\tlearn: 0.2596105\ttotal: 801ms\tremaining: 25s\n",
      "31:\tlearn: 0.2576068\ttotal: 825ms\tremaining: 25s\n",
      "32:\tlearn: 0.2560713\ttotal: 850ms\tremaining: 24.9s\n",
      "33:\tlearn: 0.2546154\ttotal: 890ms\tremaining: 25.3s\n",
      "34:\tlearn: 0.2527483\ttotal: 926ms\tremaining: 25.5s\n",
      "35:\tlearn: 0.2514983\ttotal: 954ms\tremaining: 25.5s\n",
      "36:\tlearn: 0.2495816\ttotal: 976ms\tremaining: 25.4s\n",
      "37:\tlearn: 0.2480538\ttotal: 994ms\tremaining: 25.2s\n",
      "38:\tlearn: 0.2471160\ttotal: 1.01s\tremaining: 24.9s\n",
      "39:\tlearn: 0.2464240\ttotal: 1.02s\tremaining: 24.6s\n",
      "40:\tlearn: 0.2452964\ttotal: 1.04s\tremaining: 24.3s\n",
      "41:\tlearn: 0.2442842\ttotal: 1.07s\tremaining: 24.3s\n",
      "42:\tlearn: 0.2434261\ttotal: 1.09s\tremaining: 24.3s\n",
      "43:\tlearn: 0.2429364\ttotal: 1.13s\tremaining: 24.4s\n",
      "44:\tlearn: 0.2421375\ttotal: 1.21s\tremaining: 25.7s\n",
      "45:\tlearn: 0.2415437\ttotal: 1.24s\tremaining: 25.7s\n",
      "46:\tlearn: 0.2406752\ttotal: 1.3s\tremaining: 26.3s\n",
      "47:\tlearn: 0.2397604\ttotal: 1.34s\tremaining: 26.5s\n",
      "48:\tlearn: 0.2391453\ttotal: 1.37s\tremaining: 26.6s\n",
      "49:\tlearn: 0.2381192\ttotal: 1.39s\tremaining: 26.5s\n",
      "50:\tlearn: 0.2371034\ttotal: 1.42s\tremaining: 26.4s\n",
      "51:\tlearn: 0.2364151\ttotal: 1.44s\tremaining: 26.2s\n",
      "52:\tlearn: 0.2358389\ttotal: 1.45s\tremaining: 26s\n",
      "53:\tlearn: 0.2352533\ttotal: 1.47s\tremaining: 25.7s\n",
      "54:\tlearn: 0.2342854\ttotal: 1.48s\tremaining: 25.5s\n",
      "55:\tlearn: 0.2337319\ttotal: 1.5s\tremaining: 25.4s\n",
      "56:\tlearn: 0.2329239\ttotal: 1.53s\tremaining: 25.4s\n",
      "57:\tlearn: 0.2323434\ttotal: 1.56s\tremaining: 25.4s\n",
      "58:\tlearn: 0.2317129\ttotal: 1.61s\tremaining: 25.7s\n",
      "59:\tlearn: 0.2310534\ttotal: 1.69s\tremaining: 26.5s\n",
      "60:\tlearn: 0.2304696\ttotal: 1.75s\tremaining: 27s\n",
      "61:\tlearn: 0.2300510\ttotal: 1.8s\tremaining: 27.2s\n",
      "62:\tlearn: 0.2292309\ttotal: 1.87s\tremaining: 27.8s\n",
      "63:\tlearn: 0.2288190\ttotal: 1.9s\tremaining: 27.8s\n",
      "64:\tlearn: 0.2282156\ttotal: 1.92s\tremaining: 27.6s\n",
      "65:\tlearn: 0.2277761\ttotal: 1.94s\tremaining: 27.4s\n",
      "66:\tlearn: 0.2273427\ttotal: 1.97s\tremaining: 27.5s\n",
      "67:\tlearn: 0.2267688\ttotal: 2.01s\tremaining: 27.6s\n",
      "68:\tlearn: 0.2263363\ttotal: 2.08s\tremaining: 28s\n",
      "69:\tlearn: 0.2259465\ttotal: 2.11s\tremaining: 28s\n",
      "70:\tlearn: 0.2255722\ttotal: 2.14s\tremaining: 28.1s\n",
      "71:\tlearn: 0.2249712\ttotal: 2.16s\tremaining: 27.9s\n",
      "72:\tlearn: 0.2245728\ttotal: 2.19s\tremaining: 27.8s\n",
      "73:\tlearn: 0.2243361\ttotal: 2.21s\tremaining: 27.7s\n",
      "74:\tlearn: 0.2238082\ttotal: 2.24s\tremaining: 27.7s\n",
      "75:\tlearn: 0.2234566\ttotal: 2.34s\tremaining: 28.4s\n",
      "76:\tlearn: 0.2229674\ttotal: 2.37s\tremaining: 28.4s\n",
      "77:\tlearn: 0.2224609\ttotal: 2.4s\tremaining: 28.3s\n",
      "78:\tlearn: 0.2218705\ttotal: 2.43s\tremaining: 28.3s\n",
      "79:\tlearn: 0.2215732\ttotal: 2.45s\tremaining: 28.2s\n",
      "80:\tlearn: 0.2213695\ttotal: 2.53s\tremaining: 28.7s\n",
      "81:\tlearn: 0.2212496\ttotal: 2.56s\tremaining: 28.6s\n",
      "82:\tlearn: 0.2209840\ttotal: 2.63s\tremaining: 29.1s\n",
      "83:\tlearn: 0.2205796\ttotal: 2.67s\tremaining: 29.1s\n",
      "84:\tlearn: 0.2203329\ttotal: 2.73s\tremaining: 29.4s\n",
      "85:\tlearn: 0.2200005\ttotal: 2.79s\tremaining: 29.7s\n",
      "86:\tlearn: 0.2197027\ttotal: 2.81s\tremaining: 29.5s\n",
      "87:\tlearn: 0.2196814\ttotal: 2.83s\tremaining: 29.3s\n",
      "88:\tlearn: 0.2192642\ttotal: 2.85s\tremaining: 29.2s\n",
      "89:\tlearn: 0.2191022\ttotal: 2.88s\tremaining: 29.1s\n",
      "90:\tlearn: 0.2187707\ttotal: 2.9s\tremaining: 29s\n",
      "91:\tlearn: 0.2186356\ttotal: 2.94s\tremaining: 29s\n",
      "92:\tlearn: 0.2184494\ttotal: 2.96s\tremaining: 28.9s\n",
      "93:\tlearn: 0.2180651\ttotal: 2.98s\tremaining: 28.7s\n",
      "94:\tlearn: 0.2175869\ttotal: 3.01s\tremaining: 28.6s\n",
      "95:\tlearn: 0.2173018\ttotal: 3.04s\tremaining: 28.6s\n",
      "96:\tlearn: 0.2168932\ttotal: 3.08s\tremaining: 28.7s\n",
      "97:\tlearn: 0.2165922\ttotal: 3.12s\tremaining: 28.7s\n",
      "98:\tlearn: 0.2163958\ttotal: 3.17s\tremaining: 28.9s\n",
      "99:\tlearn: 0.2162241\ttotal: 3.22s\tremaining: 29s\n",
      "100:\tlearn: 0.2157654\ttotal: 3.3s\tremaining: 29.4s\n",
      "101:\tlearn: 0.2155395\ttotal: 3.34s\tremaining: 29.4s\n",
      "102:\tlearn: 0.2153661\ttotal: 3.4s\tremaining: 29.6s\n",
      "103:\tlearn: 0.2152108\ttotal: 3.44s\tremaining: 29.6s\n",
      "104:\tlearn: 0.2150147\ttotal: 3.47s\tremaining: 29.6s\n",
      "105:\tlearn: 0.2148873\ttotal: 3.5s\tremaining: 29.5s\n",
      "106:\tlearn: 0.2146462\ttotal: 3.52s\tremaining: 29.4s\n",
      "107:\tlearn: 0.2143995\ttotal: 3.55s\tremaining: 29.3s\n",
      "108:\tlearn: 0.2141643\ttotal: 3.58s\tremaining: 29.3s\n",
      "109:\tlearn: 0.2139874\ttotal: 3.62s\tremaining: 29.3s\n",
      "110:\tlearn: 0.2137334\ttotal: 3.66s\tremaining: 29.3s\n",
      "111:\tlearn: 0.2136024\ttotal: 3.72s\tremaining: 29.5s\n",
      "112:\tlearn: 0.2134711\ttotal: 3.76s\tremaining: 29.5s\n",
      "113:\tlearn: 0.2133699\ttotal: 3.78s\tremaining: 29.4s\n",
      "114:\tlearn: 0.2132232\ttotal: 3.8s\tremaining: 29.3s\n",
      "115:\tlearn: 0.2130716\ttotal: 3.82s\tremaining: 29.1s\n",
      "116:\tlearn: 0.2129131\ttotal: 3.83s\tremaining: 28.9s\n",
      "117:\tlearn: 0.2127109\ttotal: 3.85s\tremaining: 28.8s\n",
      "118:\tlearn: 0.2124688\ttotal: 3.86s\tremaining: 28.6s\n",
      "119:\tlearn: 0.2123111\ttotal: 3.88s\tremaining: 28.5s\n",
      "120:\tlearn: 0.2121915\ttotal: 3.9s\tremaining: 28.4s\n",
      "121:\tlearn: 0.2120945\ttotal: 3.92s\tremaining: 28.2s\n",
      "122:\tlearn: 0.2118924\ttotal: 3.95s\tremaining: 28.2s\n",
      "123:\tlearn: 0.2117349\ttotal: 4s\tremaining: 28.3s\n",
      "124:\tlearn: 0.2116013\ttotal: 4.04s\tremaining: 28.3s\n",
      "125:\tlearn: 0.2114418\ttotal: 4.08s\tremaining: 28.3s\n",
      "126:\tlearn: 0.2111232\ttotal: 4.11s\tremaining: 28.2s\n",
      "127:\tlearn: 0.2109130\ttotal: 4.16s\tremaining: 28.3s\n",
      "128:\tlearn: 0.2107496\ttotal: 4.19s\tremaining: 28.3s\n",
      "129:\tlearn: 0.2106336\ttotal: 4.22s\tremaining: 28.2s\n",
      "130:\tlearn: 0.2105024\ttotal: 4.24s\tremaining: 28.1s\n",
      "131:\tlearn: 0.2103939\ttotal: 4.26s\tremaining: 28s\n",
      "132:\tlearn: 0.2101807\ttotal: 4.27s\tremaining: 27.8s\n",
      "133:\tlearn: 0.2100326\ttotal: 4.29s\tremaining: 27.7s\n",
      "134:\tlearn: 0.2098273\ttotal: 4.3s\tremaining: 27.6s\n",
      "135:\tlearn: 0.2095899\ttotal: 4.32s\tremaining: 27.4s\n",
      "136:\tlearn: 0.2093746\ttotal: 4.33s\tremaining: 27.3s\n",
      "137:\tlearn: 0.2091271\ttotal: 4.36s\tremaining: 27.3s\n",
      "138:\tlearn: 0.2088604\ttotal: 4.39s\tremaining: 27.2s\n",
      "139:\tlearn: 0.2087377\ttotal: 4.42s\tremaining: 27.1s\n",
      "140:\tlearn: 0.2085887\ttotal: 4.46s\tremaining: 27.2s\n",
      "141:\tlearn: 0.2084327\ttotal: 4.49s\tremaining: 27.1s\n",
      "142:\tlearn: 0.2082841\ttotal: 4.51s\tremaining: 27s\n",
      "143:\tlearn: 0.2081028\ttotal: 4.52s\tremaining: 26.9s\n",
      "144:\tlearn: 0.2079235\ttotal: 4.54s\tremaining: 26.8s\n",
      "145:\tlearn: 0.2077932\ttotal: 4.55s\tremaining: 26.6s\n",
      "146:\tlearn: 0.2076544\ttotal: 4.58s\tremaining: 26.6s\n",
      "147:\tlearn: 0.2075512\ttotal: 4.6s\tremaining: 26.5s\n",
      "148:\tlearn: 0.2072926\ttotal: 4.63s\tremaining: 26.5s\n",
      "149:\tlearn: 0.2071716\ttotal: 4.65s\tremaining: 26.4s\n",
      "150:\tlearn: 0.2068996\ttotal: 4.67s\tremaining: 26.2s\n",
      "151:\tlearn: 0.2068002\ttotal: 4.68s\tremaining: 26.1s\n",
      "152:\tlearn: 0.2065715\ttotal: 4.7s\tremaining: 26s\n",
      "153:\tlearn: 0.2063176\ttotal: 4.71s\tremaining: 25.9s\n",
      "154:\tlearn: 0.2060742\ttotal: 4.73s\tremaining: 25.8s\n",
      "155:\tlearn: 0.2058914\ttotal: 4.74s\tremaining: 25.6s\n",
      "156:\tlearn: 0.2057692\ttotal: 4.76s\tremaining: 25.6s\n",
      "157:\tlearn: 0.2056086\ttotal: 4.78s\tremaining: 25.5s\n",
      "158:\tlearn: 0.2054790\ttotal: 4.81s\tremaining: 25.4s\n",
      "159:\tlearn: 0.2053368\ttotal: 4.83s\tremaining: 25.4s\n",
      "160:\tlearn: 0.2052248\ttotal: 4.85s\tremaining: 25.3s\n",
      "161:\tlearn: 0.2051136\ttotal: 4.87s\tremaining: 25.2s\n",
      "162:\tlearn: 0.2050199\ttotal: 4.88s\tremaining: 25.1s\n",
      "163:\tlearn: 0.2048731\ttotal: 4.9s\tremaining: 25s\n",
      "164:\tlearn: 0.2047836\ttotal: 4.92s\tremaining: 24.9s\n",
      "165:\tlearn: 0.2046357\ttotal: 4.97s\tremaining: 25s\n"
     ]
    },
    {
     "name": "stdout",
     "output_type": "stream",
     "text": [
      "166:\tlearn: 0.2044882\ttotal: 5.02s\tremaining: 25s\n",
      "167:\tlearn: 0.2042960\ttotal: 5.05s\tremaining: 25s\n",
      "168:\tlearn: 0.2042095\ttotal: 5.07s\tremaining: 24.9s\n",
      "169:\tlearn: 0.2041285\ttotal: 5.09s\tremaining: 24.8s\n",
      "170:\tlearn: 0.2040197\ttotal: 5.1s\tremaining: 24.7s\n",
      "171:\tlearn: 0.2038615\ttotal: 5.12s\tremaining: 24.6s\n",
      "172:\tlearn: 0.2036099\ttotal: 5.14s\tremaining: 24.6s\n",
      "173:\tlearn: 0.2035222\ttotal: 5.17s\tremaining: 24.5s\n",
      "174:\tlearn: 0.2034244\ttotal: 5.19s\tremaining: 24.5s\n",
      "175:\tlearn: 0.2033213\ttotal: 5.21s\tremaining: 24.4s\n",
      "176:\tlearn: 0.2032260\ttotal: 5.23s\tremaining: 24.3s\n",
      "177:\tlearn: 0.2030948\ttotal: 5.25s\tremaining: 24.3s\n",
      "178:\tlearn: 0.2029810\ttotal: 5.29s\tremaining: 24.3s\n",
      "179:\tlearn: 0.2028623\ttotal: 5.31s\tremaining: 24.2s\n",
      "180:\tlearn: 0.2027936\ttotal: 5.33s\tremaining: 24.1s\n",
      "181:\tlearn: 0.2027287\ttotal: 5.35s\tremaining: 24.1s\n",
      "182:\tlearn: 0.2026119\ttotal: 5.37s\tremaining: 24s\n",
      "183:\tlearn: 0.2025155\ttotal: 5.38s\tremaining: 23.9s\n",
      "184:\tlearn: 0.2023929\ttotal: 5.4s\tremaining: 23.8s\n",
      "185:\tlearn: 0.2022243\ttotal: 5.41s\tremaining: 23.7s\n",
      "186:\tlearn: 0.2020613\ttotal: 5.43s\tremaining: 23.6s\n",
      "187:\tlearn: 0.2019293\ttotal: 5.45s\tremaining: 23.6s\n",
      "188:\tlearn: 0.2018177\ttotal: 5.47s\tremaining: 23.5s\n",
      "189:\tlearn: 0.2016932\ttotal: 5.49s\tremaining: 23.4s\n",
      "190:\tlearn: 0.2016089\ttotal: 5.51s\tremaining: 23.3s\n",
      "191:\tlearn: 0.2015364\ttotal: 5.52s\tremaining: 23.2s\n",
      "192:\tlearn: 0.2014082\ttotal: 5.54s\tremaining: 23.1s\n",
      "193:\tlearn: 0.2013383\ttotal: 5.55s\tremaining: 23.1s\n",
      "194:\tlearn: 0.2012752\ttotal: 5.56s\tremaining: 23s\n",
      "195:\tlearn: 0.2011418\ttotal: 5.58s\tremaining: 22.9s\n",
      "196:\tlearn: 0.2009758\ttotal: 5.59s\tremaining: 22.8s\n",
      "197:\tlearn: 0.2008445\ttotal: 5.61s\tremaining: 22.7s\n",
      "198:\tlearn: 0.2006823\ttotal: 5.62s\tremaining: 22.6s\n",
      "199:\tlearn: 0.2005763\ttotal: 5.65s\tremaining: 22.6s\n",
      "200:\tlearn: 0.2005240\ttotal: 5.67s\tremaining: 22.5s\n",
      "201:\tlearn: 0.2004561\ttotal: 5.69s\tremaining: 22.5s\n",
      "202:\tlearn: 0.2003195\ttotal: 5.71s\tremaining: 22.4s\n",
      "203:\tlearn: 0.2002589\ttotal: 5.72s\tremaining: 22.3s\n",
      "204:\tlearn: 0.2000867\ttotal: 5.74s\tremaining: 22.2s\n",
      "205:\tlearn: 0.2000054\ttotal: 5.75s\tremaining: 22.2s\n",
      "206:\tlearn: 0.1999029\ttotal: 5.77s\tremaining: 22.1s\n",
      "207:\tlearn: 0.1997491\ttotal: 5.79s\tremaining: 22.1s\n",
      "208:\tlearn: 0.1996308\ttotal: 5.82s\tremaining: 22s\n",
      "209:\tlearn: 0.1994974\ttotal: 5.84s\tremaining: 22s\n",
      "210:\tlearn: 0.1993552\ttotal: 5.86s\tremaining: 21.9s\n",
      "211:\tlearn: 0.1992678\ttotal: 5.88s\tremaining: 21.9s\n",
      "212:\tlearn: 0.1991243\ttotal: 5.91s\tremaining: 21.8s\n",
      "213:\tlearn: 0.1990438\ttotal: 5.92s\tremaining: 21.8s\n",
      "214:\tlearn: 0.1989614\ttotal: 5.94s\tremaining: 21.7s\n",
      "215:\tlearn: 0.1988531\ttotal: 5.95s\tremaining: 21.6s\n",
      "216:\tlearn: 0.1987061\ttotal: 5.97s\tremaining: 21.5s\n",
      "217:\tlearn: 0.1986398\ttotal: 5.98s\tremaining: 21.5s\n",
      "218:\tlearn: 0.1985755\ttotal: 6s\tremaining: 21.4s\n",
      "219:\tlearn: 0.1984411\ttotal: 6.01s\tremaining: 21.3s\n",
      "220:\tlearn: 0.1983384\ttotal: 6.03s\tremaining: 21.3s\n",
      "221:\tlearn: 0.1982859\ttotal: 6.06s\tremaining: 21.3s\n",
      "222:\tlearn: 0.1981333\ttotal: 6.11s\tremaining: 21.3s\n",
      "223:\tlearn: 0.1980776\ttotal: 6.13s\tremaining: 21.2s\n",
      "224:\tlearn: 0.1980059\ttotal: 6.14s\tremaining: 21.2s\n",
      "225:\tlearn: 0.1979364\ttotal: 6.16s\tremaining: 21.1s\n",
      "226:\tlearn: 0.1977736\ttotal: 6.17s\tremaining: 21s\n",
      "227:\tlearn: 0.1976443\ttotal: 6.19s\tremaining: 20.9s\n",
      "228:\tlearn: 0.1975063\ttotal: 6.2s\tremaining: 20.9s\n",
      "229:\tlearn: 0.1974069\ttotal: 6.22s\tremaining: 20.8s\n",
      "230:\tlearn: 0.1972633\ttotal: 6.23s\tremaining: 20.7s\n",
      "231:\tlearn: 0.1971873\ttotal: 6.25s\tremaining: 20.7s\n",
      "232:\tlearn: 0.1970935\ttotal: 6.26s\tremaining: 20.6s\n",
      "233:\tlearn: 0.1970532\ttotal: 6.29s\tremaining: 20.6s\n",
      "234:\tlearn: 0.1969376\ttotal: 6.31s\tremaining: 20.5s\n",
      "235:\tlearn: 0.1967508\ttotal: 6.33s\tremaining: 20.5s\n",
      "236:\tlearn: 0.1965833\ttotal: 6.34s\tremaining: 20.4s\n",
      "237:\tlearn: 0.1965098\ttotal: 6.36s\tremaining: 20.3s\n",
      "238:\tlearn: 0.1964889\ttotal: 6.37s\tremaining: 20.3s\n",
      "239:\tlearn: 0.1963521\ttotal: 6.38s\tremaining: 20.2s\n",
      "240:\tlearn: 0.1962263\ttotal: 6.39s\tremaining: 20.1s\n",
      "241:\tlearn: 0.1961518\ttotal: 6.41s\tremaining: 20.1s\n",
      "242:\tlearn: 0.1960401\ttotal: 6.42s\tremaining: 20s\n",
      "243:\tlearn: 0.1959103\ttotal: 6.44s\tremaining: 19.9s\n",
      "244:\tlearn: 0.1958388\ttotal: 6.45s\tremaining: 19.9s\n",
      "245:\tlearn: 0.1956479\ttotal: 6.47s\tremaining: 19.8s\n",
      "246:\tlearn: 0.1955793\ttotal: 6.48s\tremaining: 19.8s\n",
      "247:\tlearn: 0.1953993\ttotal: 6.51s\tremaining: 19.7s\n",
      "248:\tlearn: 0.1953267\ttotal: 6.54s\tremaining: 19.7s\n",
      "249:\tlearn: 0.1952271\ttotal: 6.57s\tremaining: 19.7s\n",
      "250:\tlearn: 0.1951379\ttotal: 6.59s\tremaining: 19.7s\n",
      "251:\tlearn: 0.1950615\ttotal: 6.61s\tremaining: 19.6s\n",
      "252:\tlearn: 0.1949848\ttotal: 6.62s\tremaining: 19.6s\n",
      "253:\tlearn: 0.1948735\ttotal: 6.64s\tremaining: 19.5s\n",
      "254:\tlearn: 0.1947670\ttotal: 6.65s\tremaining: 19.4s\n",
      "255:\tlearn: 0.1947357\ttotal: 6.67s\tremaining: 19.4s\n",
      "256:\tlearn: 0.1946812\ttotal: 6.68s\tremaining: 19.3s\n",
      "257:\tlearn: 0.1945577\ttotal: 6.7s\tremaining: 19.3s\n",
      "258:\tlearn: 0.1944441\ttotal: 6.71s\tremaining: 19.2s\n",
      "259:\tlearn: 0.1943532\ttotal: 6.74s\tremaining: 19.2s\n",
      "260:\tlearn: 0.1942575\ttotal: 6.76s\tremaining: 19.1s\n",
      "261:\tlearn: 0.1941766\ttotal: 6.78s\tremaining: 19.1s\n",
      "262:\tlearn: 0.1940595\ttotal: 6.79s\tremaining: 19s\n",
      "263:\tlearn: 0.1939608\ttotal: 6.81s\tremaining: 19s\n",
      "264:\tlearn: 0.1938944\ttotal: 6.82s\tremaining: 18.9s\n",
      "265:\tlearn: 0.1938528\ttotal: 6.83s\tremaining: 18.9s\n",
      "266:\tlearn: 0.1937782\ttotal: 6.86s\tremaining: 18.8s\n",
      "267:\tlearn: 0.1937251\ttotal: 6.88s\tremaining: 18.8s\n",
      "268:\tlearn: 0.1936238\ttotal: 6.91s\tremaining: 18.8s\n",
      "269:\tlearn: 0.1935334\ttotal: 6.94s\tremaining: 18.8s\n",
      "270:\tlearn: 0.1933664\ttotal: 6.97s\tremaining: 18.7s\n",
      "271:\tlearn: 0.1932380\ttotal: 7s\tremaining: 18.7s\n",
      "272:\tlearn: 0.1931693\ttotal: 7.03s\tremaining: 18.7s\n",
      "273:\tlearn: 0.1931222\ttotal: 7.04s\tremaining: 18.7s\n",
      "274:\tlearn: 0.1930250\ttotal: 7.06s\tremaining: 18.6s\n",
      "275:\tlearn: 0.1928786\ttotal: 7.08s\tremaining: 18.6s\n",
      "276:\tlearn: 0.1927844\ttotal: 7.1s\tremaining: 18.5s\n",
      "277:\tlearn: 0.1927077\ttotal: 7.13s\tremaining: 18.5s\n",
      "278:\tlearn: 0.1925681\ttotal: 7.2s\tremaining: 18.6s\n",
      "279:\tlearn: 0.1925311\ttotal: 7.22s\tremaining: 18.6s\n",
      "280:\tlearn: 0.1924193\ttotal: 7.24s\tremaining: 18.5s\n",
      "281:\tlearn: 0.1922899\ttotal: 7.26s\tremaining: 18.5s\n",
      "282:\tlearn: 0.1922126\ttotal: 7.28s\tremaining: 18.4s\n",
      "283:\tlearn: 0.1921277\ttotal: 7.29s\tremaining: 18.4s\n",
      "284:\tlearn: 0.1919838\ttotal: 7.31s\tremaining: 18.3s\n",
      "285:\tlearn: 0.1918689\ttotal: 7.34s\tremaining: 18.3s\n",
      "286:\tlearn: 0.1917224\ttotal: 7.38s\tremaining: 18.3s\n",
      "287:\tlearn: 0.1916484\ttotal: 7.43s\tremaining: 18.4s\n",
      "288:\tlearn: 0.1916051\ttotal: 7.46s\tremaining: 18.4s\n",
      "289:\tlearn: 0.1915078\ttotal: 7.48s\tremaining: 18.3s\n",
      "290:\tlearn: 0.1914534\ttotal: 7.49s\tremaining: 18.3s\n",
      "291:\tlearn: 0.1913620\ttotal: 7.53s\tremaining: 18.2s\n",
      "292:\tlearn: 0.1912686\ttotal: 7.57s\tremaining: 18.3s\n",
      "293:\tlearn: 0.1911707\ttotal: 7.59s\tremaining: 18.2s\n",
      "294:\tlearn: 0.1910661\ttotal: 7.62s\tremaining: 18.2s\n",
      "295:\tlearn: 0.1909100\ttotal: 7.63s\tremaining: 18.1s\n",
      "296:\tlearn: 0.1908634\ttotal: 7.65s\tremaining: 18.1s\n",
      "297:\tlearn: 0.1907812\ttotal: 7.68s\tremaining: 18.1s\n",
      "298:\tlearn: 0.1906785\ttotal: 7.71s\tremaining: 18.1s\n",
      "299:\tlearn: 0.1906233\ttotal: 7.72s\tremaining: 18s\n",
      "300:\tlearn: 0.1905817\ttotal: 7.74s\tremaining: 18s\n",
      "301:\tlearn: 0.1904897\ttotal: 7.75s\tremaining: 17.9s\n",
      "302:\tlearn: 0.1904309\ttotal: 7.77s\tremaining: 17.9s\n",
      "303:\tlearn: 0.1903778\ttotal: 7.79s\tremaining: 17.8s\n",
      "304:\tlearn: 0.1903150\ttotal: 7.82s\tremaining: 17.8s\n",
      "305:\tlearn: 0.1902374\ttotal: 7.83s\tremaining: 17.8s\n",
      "306:\tlearn: 0.1901475\ttotal: 7.85s\tremaining: 17.7s\n",
      "307:\tlearn: 0.1901076\ttotal: 7.86s\tremaining: 17.7s\n",
      "308:\tlearn: 0.1900350\ttotal: 7.88s\tremaining: 17.6s\n",
      "309:\tlearn: 0.1899518\ttotal: 7.89s\tremaining: 17.6s\n",
      "310:\tlearn: 0.1898415\ttotal: 7.91s\tremaining: 17.5s\n",
      "311:\tlearn: 0.1897547\ttotal: 7.94s\tremaining: 17.5s\n",
      "312:\tlearn: 0.1897138\ttotal: 7.97s\tremaining: 17.5s\n",
      "313:\tlearn: 0.1896543\ttotal: 8s\tremaining: 17.5s\n",
      "314:\tlearn: 0.1895604\ttotal: 8.02s\tremaining: 17.4s\n",
      "315:\tlearn: 0.1894624\ttotal: 8.04s\tremaining: 17.4s\n",
      "316:\tlearn: 0.1893817\ttotal: 8.07s\tremaining: 17.4s\n",
      "317:\tlearn: 0.1893039\ttotal: 8.1s\tremaining: 17.4s\n",
      "318:\tlearn: 0.1892214\ttotal: 8.12s\tremaining: 17.3s\n",
      "319:\tlearn: 0.1891645\ttotal: 8.13s\tremaining: 17.3s\n",
      "320:\tlearn: 0.1890788\ttotal: 8.15s\tremaining: 17.2s\n",
      "321:\tlearn: 0.1889721\ttotal: 8.17s\tremaining: 17.2s\n",
      "322:\tlearn: 0.1889263\ttotal: 8.2s\tremaining: 17.2s\n",
      "323:\tlearn: 0.1888528\ttotal: 8.25s\tremaining: 17.2s\n",
      "324:\tlearn: 0.1888233\ttotal: 8.27s\tremaining: 17.2s\n",
      "325:\tlearn: 0.1887438\ttotal: 8.28s\tremaining: 17.1s\n",
      "326:\tlearn: 0.1887286\ttotal: 8.31s\tremaining: 17.1s\n",
      "327:\tlearn: 0.1886414\ttotal: 8.33s\tremaining: 17.1s\n",
      "328:\tlearn: 0.1885764\ttotal: 8.36s\tremaining: 17s\n"
     ]
    },
    {
     "name": "stdout",
     "output_type": "stream",
     "text": [
      "329:\tlearn: 0.1884881\ttotal: 8.41s\tremaining: 17.1s\n",
      "330:\tlearn: 0.1884116\ttotal: 8.45s\tremaining: 17.1s\n",
      "331:\tlearn: 0.1883174\ttotal: 8.48s\tremaining: 17.1s\n",
      "332:\tlearn: 0.1882370\ttotal: 8.5s\tremaining: 17s\n",
      "333:\tlearn: 0.1881372\ttotal: 8.52s\tremaining: 17s\n",
      "334:\tlearn: 0.1880556\ttotal: 8.54s\tremaining: 17s\n",
      "335:\tlearn: 0.1880254\ttotal: 8.57s\tremaining: 16.9s\n",
      "336:\tlearn: 0.1880106\ttotal: 8.59s\tremaining: 16.9s\n",
      "337:\tlearn: 0.1878827\ttotal: 8.62s\tremaining: 16.9s\n",
      "338:\tlearn: 0.1878102\ttotal: 8.64s\tremaining: 16.8s\n",
      "339:\tlearn: 0.1877415\ttotal: 8.66s\tremaining: 16.8s\n",
      "340:\tlearn: 0.1876620\ttotal: 8.68s\tremaining: 16.8s\n",
      "341:\tlearn: 0.1876089\ttotal: 8.7s\tremaining: 16.7s\n",
      "342:\tlearn: 0.1875389\ttotal: 8.71s\tremaining: 16.7s\n",
      "343:\tlearn: 0.1873923\ttotal: 8.72s\tremaining: 16.6s\n",
      "344:\tlearn: 0.1873125\ttotal: 8.74s\tremaining: 16.6s\n",
      "345:\tlearn: 0.1872426\ttotal: 8.75s\tremaining: 16.5s\n",
      "346:\tlearn: 0.1871640\ttotal: 8.77s\tremaining: 16.5s\n",
      "347:\tlearn: 0.1870798\ttotal: 8.78s\tremaining: 16.5s\n",
      "348:\tlearn: 0.1869883\ttotal: 8.79s\tremaining: 16.4s\n",
      "349:\tlearn: 0.1869075\ttotal: 8.81s\tremaining: 16.4s\n",
      "350:\tlearn: 0.1868031\ttotal: 8.83s\tremaining: 16.3s\n",
      "351:\tlearn: 0.1867002\ttotal: 8.86s\tremaining: 16.3s\n",
      "352:\tlearn: 0.1866484\ttotal: 8.87s\tremaining: 16.3s\n",
      "353:\tlearn: 0.1865469\ttotal: 8.89s\tremaining: 16.2s\n",
      "354:\tlearn: 0.1864525\ttotal: 8.9s\tremaining: 16.2s\n",
      "355:\tlearn: 0.1863413\ttotal: 8.92s\tremaining: 16.1s\n",
      "356:\tlearn: 0.1862544\ttotal: 8.94s\tremaining: 16.1s\n",
      "357:\tlearn: 0.1861805\ttotal: 8.96s\tremaining: 16.1s\n",
      "358:\tlearn: 0.1860949\ttotal: 8.99s\tremaining: 16.1s\n",
      "359:\tlearn: 0.1860174\ttotal: 9.02s\tremaining: 16s\n",
      "360:\tlearn: 0.1859604\ttotal: 9.03s\tremaining: 16s\n",
      "361:\tlearn: 0.1858894\ttotal: 9.05s\tremaining: 15.9s\n",
      "362:\tlearn: 0.1857888\ttotal: 9.08s\tremaining: 15.9s\n",
      "363:\tlearn: 0.1856811\ttotal: 9.1s\tremaining: 15.9s\n",
      "364:\tlearn: 0.1856247\ttotal: 9.11s\tremaining: 15.9s\n",
      "365:\tlearn: 0.1855655\ttotal: 9.13s\tremaining: 15.8s\n",
      "366:\tlearn: 0.1854734\ttotal: 9.14s\tremaining: 15.8s\n",
      "367:\tlearn: 0.1853941\ttotal: 9.16s\tremaining: 15.7s\n",
      "368:\tlearn: 0.1852998\ttotal: 9.19s\tremaining: 15.7s\n",
      "369:\tlearn: 0.1852446\ttotal: 9.22s\tremaining: 15.7s\n",
      "370:\tlearn: 0.1851978\ttotal: 9.24s\tremaining: 15.7s\n",
      "371:\tlearn: 0.1851117\ttotal: 9.25s\tremaining: 15.6s\n",
      "372:\tlearn: 0.1850405\ttotal: 9.28s\tremaining: 15.6s\n",
      "373:\tlearn: 0.1849906\ttotal: 9.31s\tremaining: 15.6s\n",
      "374:\tlearn: 0.1849310\ttotal: 9.5s\tremaining: 15.8s\n",
      "375:\tlearn: 0.1848529\ttotal: 9.55s\tremaining: 15.9s\n",
      "376:\tlearn: 0.1847627\ttotal: 9.58s\tremaining: 15.8s\n",
      "377:\tlearn: 0.1846845\ttotal: 9.6s\tremaining: 15.8s\n",
      "378:\tlearn: 0.1846391\ttotal: 9.63s\tremaining: 15.8s\n",
      "379:\tlearn: 0.1845593\ttotal: 9.66s\tremaining: 15.8s\n",
      "380:\tlearn: 0.1844759\ttotal: 9.8s\tremaining: 15.9s\n",
      "381:\tlearn: 0.1844078\ttotal: 9.85s\tremaining: 15.9s\n",
      "382:\tlearn: 0.1842848\ttotal: 9.88s\tremaining: 15.9s\n",
      "383:\tlearn: 0.1842085\ttotal: 9.9s\tremaining: 15.9s\n",
      "384:\tlearn: 0.1841167\ttotal: 9.94s\tremaining: 15.9s\n",
      "385:\tlearn: 0.1840407\ttotal: 9.97s\tremaining: 15.9s\n",
      "386:\tlearn: 0.1839765\ttotal: 9.99s\tremaining: 15.8s\n",
      "387:\tlearn: 0.1839027\ttotal: 10s\tremaining: 15.8s\n",
      "388:\tlearn: 0.1838452\ttotal: 10s\tremaining: 15.8s\n",
      "389:\tlearn: 0.1837689\ttotal: 10.1s\tremaining: 15.8s\n",
      "390:\tlearn: 0.1837110\ttotal: 10.1s\tremaining: 15.7s\n",
      "391:\tlearn: 0.1836474\ttotal: 10.1s\tremaining: 15.7s\n",
      "392:\tlearn: 0.1836162\ttotal: 10.1s\tremaining: 15.6s\n",
      "393:\tlearn: 0.1835458\ttotal: 10.1s\tremaining: 15.6s\n",
      "394:\tlearn: 0.1834485\ttotal: 10.2s\tremaining: 15.5s\n",
      "395:\tlearn: 0.1833245\ttotal: 10.2s\tremaining: 15.5s\n",
      "396:\tlearn: 0.1832670\ttotal: 10.2s\tremaining: 15.5s\n",
      "397:\tlearn: 0.1832339\ttotal: 10.2s\tremaining: 15.4s\n",
      "398:\tlearn: 0.1831531\ttotal: 10.2s\tremaining: 15.4s\n",
      "399:\tlearn: 0.1830406\ttotal: 10.2s\tremaining: 15.4s\n",
      "400:\tlearn: 0.1829629\ttotal: 10.3s\tremaining: 15.3s\n",
      "401:\tlearn: 0.1829213\ttotal: 10.3s\tremaining: 15.3s\n",
      "402:\tlearn: 0.1828115\ttotal: 10.3s\tremaining: 15.3s\n",
      "403:\tlearn: 0.1827550\ttotal: 10.3s\tremaining: 15.2s\n",
      "404:\tlearn: 0.1826879\ttotal: 10.4s\tremaining: 15.2s\n",
      "405:\tlearn: 0.1825803\ttotal: 10.4s\tremaining: 15.2s\n",
      "406:\tlearn: 0.1825160\ttotal: 10.4s\tremaining: 15.1s\n",
      "407:\tlearn: 0.1824371\ttotal: 10.4s\tremaining: 15.1s\n",
      "408:\tlearn: 0.1823801\ttotal: 10.4s\tremaining: 15s\n",
      "409:\tlearn: 0.1823282\ttotal: 10.4s\tremaining: 15s\n",
      "410:\tlearn: 0.1822530\ttotal: 10.4s\tremaining: 15s\n",
      "411:\tlearn: 0.1821806\ttotal: 10.5s\tremaining: 15s\n",
      "412:\tlearn: 0.1820898\ttotal: 10.5s\tremaining: 15s\n",
      "413:\tlearn: 0.1820582\ttotal: 10.5s\tremaining: 14.9s\n",
      "414:\tlearn: 0.1820003\ttotal: 10.7s\tremaining: 15.1s\n",
      "415:\tlearn: 0.1819150\ttotal: 11s\tremaining: 15.5s\n",
      "416:\tlearn: 0.1818284\ttotal: 11.1s\tremaining: 15.5s\n",
      "417:\tlearn: 0.1817568\ttotal: 11.1s\tremaining: 15.5s\n",
      "418:\tlearn: 0.1816660\ttotal: 11.2s\tremaining: 15.5s\n",
      "419:\tlearn: 0.1816191\ttotal: 11.2s\tremaining: 15.4s\n",
      "420:\tlearn: 0.1814958\ttotal: 11.2s\tremaining: 15.4s\n",
      "421:\tlearn: 0.1814371\ttotal: 11.2s\tremaining: 15.4s\n",
      "422:\tlearn: 0.1813533\ttotal: 11.2s\tremaining: 15.3s\n",
      "423:\tlearn: 0.1812882\ttotal: 11.3s\tremaining: 15.3s\n",
      "424:\tlearn: 0.1812234\ttotal: 11.3s\tremaining: 15.3s\n",
      "425:\tlearn: 0.1811428\ttotal: 11.3s\tremaining: 15.3s\n",
      "426:\tlearn: 0.1810585\ttotal: 11.3s\tremaining: 15.2s\n",
      "427:\tlearn: 0.1809821\ttotal: 11.3s\tremaining: 15.2s\n",
      "428:\tlearn: 0.1809394\ttotal: 11.4s\tremaining: 15.1s\n",
      "429:\tlearn: 0.1808994\ttotal: 11.4s\tremaining: 15.1s\n",
      "430:\tlearn: 0.1808354\ttotal: 11.4s\tremaining: 15.1s\n",
      "431:\tlearn: 0.1807749\ttotal: 11.4s\tremaining: 15s\n",
      "432:\tlearn: 0.1806762\ttotal: 11.5s\tremaining: 15s\n",
      "433:\tlearn: 0.1805870\ttotal: 11.5s\tremaining: 15s\n",
      "434:\tlearn: 0.1805211\ttotal: 11.5s\tremaining: 15s\n",
      "435:\tlearn: 0.1804289\ttotal: 11.5s\tremaining: 14.9s\n",
      "436:\tlearn: 0.1803831\ttotal: 11.5s\tremaining: 14.9s\n",
      "437:\tlearn: 0.1802947\ttotal: 11.6s\tremaining: 14.9s\n",
      "438:\tlearn: 0.1802263\ttotal: 11.6s\tremaining: 14.8s\n",
      "439:\tlearn: 0.1802075\ttotal: 11.6s\tremaining: 14.8s\n",
      "440:\tlearn: 0.1801457\ttotal: 11.6s\tremaining: 14.7s\n",
      "441:\tlearn: 0.1800690\ttotal: 11.7s\tremaining: 14.7s\n",
      "442:\tlearn: 0.1800202\ttotal: 11.7s\tremaining: 14.7s\n",
      "443:\tlearn: 0.1799575\ttotal: 11.7s\tremaining: 14.7s\n",
      "444:\tlearn: 0.1799012\ttotal: 11.8s\tremaining: 14.7s\n",
      "445:\tlearn: 0.1798759\ttotal: 11.8s\tremaining: 14.6s\n",
      "446:\tlearn: 0.1798053\ttotal: 11.8s\tremaining: 14.6s\n",
      "447:\tlearn: 0.1797593\ttotal: 11.8s\tremaining: 14.6s\n",
      "448:\tlearn: 0.1796545\ttotal: 11.8s\tremaining: 14.5s\n",
      "449:\tlearn: 0.1795700\ttotal: 11.9s\tremaining: 14.5s\n",
      "450:\tlearn: 0.1795138\ttotal: 11.9s\tremaining: 14.5s\n",
      "451:\tlearn: 0.1794509\ttotal: 11.9s\tremaining: 14.4s\n",
      "452:\tlearn: 0.1793721\ttotal: 11.9s\tremaining: 14.4s\n",
      "453:\tlearn: 0.1792679\ttotal: 12s\tremaining: 14.4s\n",
      "454:\tlearn: 0.1792263\ttotal: 12s\tremaining: 14.4s\n",
      "455:\tlearn: 0.1791862\ttotal: 12s\tremaining: 14.3s\n",
      "456:\tlearn: 0.1791626\ttotal: 12s\tremaining: 14.3s\n",
      "457:\tlearn: 0.1791170\ttotal: 12s\tremaining: 14.3s\n",
      "458:\tlearn: 0.1790977\ttotal: 12.1s\tremaining: 14.2s\n",
      "459:\tlearn: 0.1790034\ttotal: 12.1s\tremaining: 14.2s\n",
      "460:\tlearn: 0.1789393\ttotal: 12.1s\tremaining: 14.1s\n",
      "461:\tlearn: 0.1788709\ttotal: 12.1s\tremaining: 14.1s\n",
      "462:\tlearn: 0.1788319\ttotal: 12.1s\tremaining: 14.1s\n",
      "463:\tlearn: 0.1787674\ttotal: 12.2s\tremaining: 14s\n",
      "464:\tlearn: 0.1786849\ttotal: 12.2s\tremaining: 14s\n",
      "465:\tlearn: 0.1786371\ttotal: 12.2s\tremaining: 14s\n",
      "466:\tlearn: 0.1785870\ttotal: 12.2s\tremaining: 13.9s\n",
      "467:\tlearn: 0.1785345\ttotal: 12.2s\tremaining: 13.9s\n",
      "468:\tlearn: 0.1784730\ttotal: 12.2s\tremaining: 13.9s\n",
      "469:\tlearn: 0.1784353\ttotal: 12.2s\tremaining: 13.8s\n",
      "470:\tlearn: 0.1783721\ttotal: 12.3s\tremaining: 13.8s\n",
      "471:\tlearn: 0.1782814\ttotal: 12.3s\tremaining: 13.7s\n",
      "472:\tlearn: 0.1782252\ttotal: 12.3s\tremaining: 13.7s\n",
      "473:\tlearn: 0.1781502\ttotal: 12.3s\tremaining: 13.7s\n",
      "474:\tlearn: 0.1780873\ttotal: 12.3s\tremaining: 13.6s\n",
      "475:\tlearn: 0.1780356\ttotal: 12.4s\tremaining: 13.6s\n",
      "476:\tlearn: 0.1780198\ttotal: 12.4s\tremaining: 13.6s\n",
      "477:\tlearn: 0.1779612\ttotal: 12.4s\tremaining: 13.5s\n",
      "478:\tlearn: 0.1778865\ttotal: 12.4s\tremaining: 13.5s\n",
      "479:\tlearn: 0.1778091\ttotal: 12.4s\tremaining: 13.5s\n",
      "480:\tlearn: 0.1777056\ttotal: 12.4s\tremaining: 13.4s\n",
      "481:\tlearn: 0.1776639\ttotal: 12.4s\tremaining: 13.4s\n",
      "482:\tlearn: 0.1775804\ttotal: 12.5s\tremaining: 13.3s\n",
      "483:\tlearn: 0.1775175\ttotal: 12.5s\tremaining: 13.3s\n",
      "484:\tlearn: 0.1774732\ttotal: 12.5s\tremaining: 13.3s\n",
      "485:\tlearn: 0.1773768\ttotal: 12.6s\tremaining: 13.3s\n",
      "486:\tlearn: 0.1773434\ttotal: 12.6s\tremaining: 13.2s\n",
      "487:\tlearn: 0.1772622\ttotal: 12.6s\tremaining: 13.2s\n",
      "488:\tlearn: 0.1772168\ttotal: 12.6s\tremaining: 13.2s\n",
      "489:\tlearn: 0.1771770\ttotal: 12.7s\tremaining: 13.2s\n",
      "490:\tlearn: 0.1771316\ttotal: 12.7s\tremaining: 13.1s\n",
      "491:\tlearn: 0.1770644\ttotal: 12.7s\tremaining: 13.1s\n",
      "492:\tlearn: 0.1769991\ttotal: 12.7s\tremaining: 13.1s\n"
     ]
    },
    {
     "name": "stdout",
     "output_type": "stream",
     "text": [
      "493:\tlearn: 0.1769261\ttotal: 12.7s\tremaining: 13s\n",
      "494:\tlearn: 0.1769059\ttotal: 12.8s\tremaining: 13s\n",
      "495:\tlearn: 0.1768649\ttotal: 12.8s\tremaining: 13s\n",
      "496:\tlearn: 0.1767920\ttotal: 12.8s\tremaining: 13s\n",
      "497:\tlearn: 0.1767388\ttotal: 12.8s\tremaining: 12.9s\n",
      "498:\tlearn: 0.1766576\ttotal: 12.9s\tremaining: 12.9s\n",
      "499:\tlearn: 0.1766014\ttotal: 12.9s\tremaining: 12.9s\n",
      "500:\tlearn: 0.1765534\ttotal: 12.9s\tremaining: 12.9s\n",
      "501:\tlearn: 0.1765090\ttotal: 12.9s\tremaining: 12.8s\n",
      "502:\tlearn: 0.1764503\ttotal: 13s\tremaining: 12.8s\n",
      "503:\tlearn: 0.1763772\ttotal: 13s\tremaining: 12.8s\n",
      "504:\tlearn: 0.1762973\ttotal: 13s\tremaining: 12.7s\n",
      "505:\tlearn: 0.1762535\ttotal: 13s\tremaining: 12.7s\n",
      "506:\tlearn: 0.1761886\ttotal: 13s\tremaining: 12.7s\n",
      "507:\tlearn: 0.1761599\ttotal: 13s\tremaining: 12.6s\n",
      "508:\tlearn: 0.1760714\ttotal: 13.1s\tremaining: 12.6s\n",
      "509:\tlearn: 0.1760026\ttotal: 13.1s\tremaining: 12.6s\n",
      "510:\tlearn: 0.1759653\ttotal: 13.1s\tremaining: 12.5s\n",
      "511:\tlearn: 0.1758974\ttotal: 13.1s\tremaining: 12.5s\n",
      "512:\tlearn: 0.1758610\ttotal: 13.1s\tremaining: 12.5s\n",
      "513:\tlearn: 0.1758032\ttotal: 13.1s\tremaining: 12.4s\n",
      "514:\tlearn: 0.1757799\ttotal: 13.2s\tremaining: 12.4s\n",
      "515:\tlearn: 0.1757046\ttotal: 13.2s\tremaining: 12.4s\n",
      "516:\tlearn: 0.1756293\ttotal: 13.2s\tremaining: 12.4s\n",
      "517:\tlearn: 0.1755739\ttotal: 13.3s\tremaining: 12.3s\n",
      "518:\tlearn: 0.1755210\ttotal: 13.3s\tremaining: 12.3s\n",
      "519:\tlearn: 0.1754835\ttotal: 13.3s\tremaining: 12.3s\n",
      "520:\tlearn: 0.1754236\ttotal: 13.4s\tremaining: 12.3s\n",
      "521:\tlearn: 0.1753664\ttotal: 13.4s\tremaining: 12.3s\n",
      "522:\tlearn: 0.1752843\ttotal: 13.5s\tremaining: 12.3s\n",
      "523:\tlearn: 0.1752101\ttotal: 13.5s\tremaining: 12.3s\n",
      "524:\tlearn: 0.1751582\ttotal: 13.5s\tremaining: 12.2s\n",
      "525:\tlearn: 0.1751058\ttotal: 13.5s\tremaining: 12.2s\n",
      "526:\tlearn: 0.1750645\ttotal: 13.6s\tremaining: 12.2s\n",
      "527:\tlearn: 0.1749839\ttotal: 13.6s\tremaining: 12.2s\n",
      "528:\tlearn: 0.1749145\ttotal: 13.6s\tremaining: 12.1s\n",
      "529:\tlearn: 0.1748141\ttotal: 13.7s\tremaining: 12.1s\n",
      "530:\tlearn: 0.1747732\ttotal: 13.7s\tremaining: 12.1s\n",
      "531:\tlearn: 0.1747164\ttotal: 13.7s\tremaining: 12.1s\n",
      "532:\tlearn: 0.1746598\ttotal: 13.7s\tremaining: 12s\n",
      "533:\tlearn: 0.1745735\ttotal: 13.7s\tremaining: 12s\n",
      "534:\tlearn: 0.1744992\ttotal: 13.7s\tremaining: 11.9s\n",
      "535:\tlearn: 0.1744557\ttotal: 13.8s\tremaining: 11.9s\n",
      "536:\tlearn: 0.1743798\ttotal: 13.8s\tremaining: 11.9s\n",
      "537:\tlearn: 0.1743151\ttotal: 13.8s\tremaining: 11.9s\n",
      "538:\tlearn: 0.1742778\ttotal: 13.8s\tremaining: 11.8s\n",
      "539:\tlearn: 0.1742124\ttotal: 13.8s\tremaining: 11.8s\n",
      "540:\tlearn: 0.1741506\ttotal: 13.9s\tremaining: 11.8s\n",
      "541:\tlearn: 0.1740764\ttotal: 13.9s\tremaining: 11.8s\n",
      "542:\tlearn: 0.1740542\ttotal: 14s\tremaining: 11.8s\n",
      "543:\tlearn: 0.1739952\ttotal: 14s\tremaining: 11.8s\n",
      "544:\tlearn: 0.1739378\ttotal: 14.1s\tremaining: 11.8s\n",
      "545:\tlearn: 0.1738575\ttotal: 14.1s\tremaining: 11.7s\n",
      "546:\tlearn: 0.1738489\ttotal: 14.1s\tremaining: 11.7s\n",
      "547:\tlearn: 0.1737933\ttotal: 14.1s\tremaining: 11.7s\n",
      "548:\tlearn: 0.1737261\ttotal: 14.2s\tremaining: 11.6s\n",
      "549:\tlearn: 0.1736859\ttotal: 14.2s\tremaining: 11.6s\n",
      "550:\tlearn: 0.1736509\ttotal: 14.2s\tremaining: 11.6s\n",
      "551:\tlearn: 0.1736049\ttotal: 14.2s\tremaining: 11.5s\n",
      "552:\tlearn: 0.1735297\ttotal: 14.2s\tremaining: 11.5s\n",
      "553:\tlearn: 0.1734705\ttotal: 14.3s\tremaining: 11.5s\n",
      "554:\tlearn: 0.1733948\ttotal: 14.3s\tremaining: 11.4s\n",
      "555:\tlearn: 0.1733343\ttotal: 14.3s\tremaining: 11.4s\n",
      "556:\tlearn: 0.1732495\ttotal: 14.3s\tremaining: 11.4s\n",
      "557:\tlearn: 0.1731744\ttotal: 14.3s\tremaining: 11.3s\n",
      "558:\tlearn: 0.1731079\ttotal: 14.3s\tremaining: 11.3s\n",
      "559:\tlearn: 0.1730803\ttotal: 14.4s\tremaining: 11.3s\n",
      "560:\tlearn: 0.1730282\ttotal: 14.4s\tremaining: 11.3s\n",
      "561:\tlearn: 0.1729627\ttotal: 14.4s\tremaining: 11.2s\n",
      "562:\tlearn: 0.1728963\ttotal: 14.4s\tremaining: 11.2s\n",
      "563:\tlearn: 0.1728496\ttotal: 14.4s\tremaining: 11.2s\n",
      "564:\tlearn: 0.1728112\ttotal: 14.5s\tremaining: 11.1s\n",
      "565:\tlearn: 0.1727541\ttotal: 14.5s\tremaining: 11.1s\n",
      "566:\tlearn: 0.1727358\ttotal: 14.5s\tremaining: 11.1s\n",
      "567:\tlearn: 0.1726945\ttotal: 14.5s\tremaining: 11s\n",
      "568:\tlearn: 0.1726527\ttotal: 14.5s\tremaining: 11s\n",
      "569:\tlearn: 0.1725904\ttotal: 14.5s\tremaining: 11s\n",
      "570:\tlearn: 0.1725437\ttotal: 14.6s\tremaining: 10.9s\n",
      "571:\tlearn: 0.1724796\ttotal: 14.6s\tremaining: 10.9s\n",
      "572:\tlearn: 0.1724260\ttotal: 14.6s\tremaining: 10.9s\n",
      "573:\tlearn: 0.1723879\ttotal: 14.6s\tremaining: 10.9s\n",
      "574:\tlearn: 0.1723535\ttotal: 14.7s\tremaining: 10.8s\n",
      "575:\tlearn: 0.1722889\ttotal: 14.7s\tremaining: 10.8s\n",
      "576:\tlearn: 0.1722236\ttotal: 14.7s\tremaining: 10.8s\n",
      "577:\tlearn: 0.1721594\ttotal: 14.7s\tremaining: 10.7s\n",
      "578:\tlearn: 0.1720936\ttotal: 14.7s\tremaining: 10.7s\n",
      "579:\tlearn: 0.1720310\ttotal: 14.7s\tremaining: 10.7s\n",
      "580:\tlearn: 0.1719772\ttotal: 14.8s\tremaining: 10.6s\n",
      "581:\tlearn: 0.1719228\ttotal: 14.8s\tremaining: 10.6s\n",
      "582:\tlearn: 0.1718713\ttotal: 14.8s\tremaining: 10.6s\n",
      "583:\tlearn: 0.1718180\ttotal: 14.8s\tremaining: 10.5s\n",
      "584:\tlearn: 0.1717708\ttotal: 14.8s\tremaining: 10.5s\n",
      "585:\tlearn: 0.1717170\ttotal: 14.9s\tremaining: 10.5s\n",
      "586:\tlearn: 0.1716924\ttotal: 14.9s\tremaining: 10.5s\n",
      "587:\tlearn: 0.1716672\ttotal: 14.9s\tremaining: 10.5s\n",
      "588:\tlearn: 0.1716095\ttotal: 15s\tremaining: 10.4s\n",
      "589:\tlearn: 0.1715635\ttotal: 15s\tremaining: 10.4s\n",
      "590:\tlearn: 0.1715274\ttotal: 15s\tremaining: 10.4s\n",
      "591:\tlearn: 0.1714707\ttotal: 15.1s\tremaining: 10.4s\n",
      "592:\tlearn: 0.1714084\ttotal: 15.1s\tremaining: 10.4s\n",
      "593:\tlearn: 0.1713433\ttotal: 15.1s\tremaining: 10.3s\n",
      "594:\tlearn: 0.1712698\ttotal: 15.1s\tremaining: 10.3s\n",
      "595:\tlearn: 0.1712061\ttotal: 15.2s\tremaining: 10.3s\n",
      "596:\tlearn: 0.1711664\ttotal: 15.2s\tremaining: 10.3s\n",
      "597:\tlearn: 0.1711166\ttotal: 15.2s\tremaining: 10.2s\n",
      "598:\tlearn: 0.1710663\ttotal: 15.3s\tremaining: 10.2s\n",
      "599:\tlearn: 0.1710074\ttotal: 15.3s\tremaining: 10.2s\n",
      "600:\tlearn: 0.1709282\ttotal: 15.3s\tremaining: 10.2s\n",
      "601:\tlearn: 0.1708768\ttotal: 15.4s\tremaining: 10.2s\n",
      "602:\tlearn: 0.1708258\ttotal: 15.4s\tremaining: 10.1s\n",
      "603:\tlearn: 0.1707809\ttotal: 15.4s\tremaining: 10.1s\n",
      "604:\tlearn: 0.1707476\ttotal: 15.4s\tremaining: 10.1s\n",
      "605:\tlearn: 0.1707034\ttotal: 15.5s\tremaining: 10.1s\n",
      "606:\tlearn: 0.1706485\ttotal: 15.5s\tremaining: 10s\n",
      "607:\tlearn: 0.1705874\ttotal: 15.5s\tremaining: 10s\n",
      "608:\tlearn: 0.1705421\ttotal: 15.6s\tremaining: 9.98s\n",
      "609:\tlearn: 0.1704956\ttotal: 15.6s\tremaining: 9.96s\n",
      "610:\tlearn: 0.1704449\ttotal: 15.6s\tremaining: 9.94s\n",
      "611:\tlearn: 0.1703983\ttotal: 15.6s\tremaining: 9.92s\n",
      "612:\tlearn: 0.1703321\ttotal: 15.7s\tremaining: 9.89s\n",
      "613:\tlearn: 0.1702839\ttotal: 15.7s\tremaining: 9.87s\n",
      "614:\tlearn: 0.1702488\ttotal: 15.7s\tremaining: 9.85s\n",
      "615:\tlearn: 0.1702100\ttotal: 15.8s\tremaining: 9.84s\n",
      "616:\tlearn: 0.1701694\ttotal: 15.9s\tremaining: 9.85s\n",
      "617:\tlearn: 0.1701260\ttotal: 15.9s\tremaining: 9.84s\n",
      "618:\tlearn: 0.1700484\ttotal: 16s\tremaining: 9.82s\n",
      "619:\tlearn: 0.1699958\ttotal: 16s\tremaining: 9.8s\n",
      "620:\tlearn: 0.1699306\ttotal: 16s\tremaining: 9.77s\n",
      "621:\tlearn: 0.1699171\ttotal: 16s\tremaining: 9.73s\n",
      "622:\tlearn: 0.1698659\ttotal: 16s\tremaining: 9.7s\n",
      "623:\tlearn: 0.1698096\ttotal: 16s\tremaining: 9.67s\n",
      "624:\tlearn: 0.1697753\ttotal: 16.1s\tremaining: 9.64s\n",
      "625:\tlearn: 0.1697246\ttotal: 16.1s\tremaining: 9.61s\n",
      "626:\tlearn: 0.1696670\ttotal: 16.1s\tremaining: 9.58s\n",
      "627:\tlearn: 0.1696030\ttotal: 16.1s\tremaining: 9.55s\n",
      "628:\tlearn: 0.1695634\ttotal: 16.1s\tremaining: 9.52s\n",
      "629:\tlearn: 0.1695029\ttotal: 16.2s\tremaining: 9.49s\n",
      "630:\tlearn: 0.1694441\ttotal: 16.2s\tremaining: 9.46s\n",
      "631:\tlearn: 0.1693814\ttotal: 16.2s\tremaining: 9.43s\n",
      "632:\tlearn: 0.1693400\ttotal: 16.2s\tremaining: 9.4s\n",
      "633:\tlearn: 0.1692834\ttotal: 16.2s\tremaining: 9.37s\n",
      "634:\tlearn: 0.1692253\ttotal: 16.3s\tremaining: 9.35s\n",
      "635:\tlearn: 0.1691847\ttotal: 16.3s\tremaining: 9.32s\n",
      "636:\tlearn: 0.1691439\ttotal: 16.3s\tremaining: 9.29s\n",
      "637:\tlearn: 0.1691118\ttotal: 16.3s\tremaining: 9.27s\n",
      "638:\tlearn: 0.1690852\ttotal: 16.4s\tremaining: 9.25s\n",
      "639:\tlearn: 0.1690219\ttotal: 16.4s\tremaining: 9.22s\n",
      "640:\tlearn: 0.1689637\ttotal: 16.4s\tremaining: 9.19s\n",
      "641:\tlearn: 0.1689041\ttotal: 16.4s\tremaining: 9.16s\n",
      "642:\tlearn: 0.1688796\ttotal: 16.4s\tremaining: 9.13s\n",
      "643:\tlearn: 0.1688243\ttotal: 16.5s\tremaining: 9.1s\n",
      "644:\tlearn: 0.1687866\ttotal: 16.5s\tremaining: 9.07s\n",
      "645:\tlearn: 0.1687496\ttotal: 16.5s\tremaining: 9.05s\n",
      "646:\tlearn: 0.1687247\ttotal: 16.5s\tremaining: 9.03s\n",
      "647:\tlearn: 0.1686994\ttotal: 16.6s\tremaining: 9.01s\n",
      "648:\tlearn: 0.1686347\ttotal: 16.6s\tremaining: 8.98s\n",
      "649:\tlearn: 0.1685762\ttotal: 16.6s\tremaining: 8.96s\n",
      "650:\tlearn: 0.1685122\ttotal: 16.7s\tremaining: 8.93s\n",
      "651:\tlearn: 0.1684697\ttotal: 16.7s\tremaining: 8.9s\n"
     ]
    },
    {
     "name": "stdout",
     "output_type": "stream",
     "text": [
      "652:\tlearn: 0.1684103\ttotal: 16.7s\tremaining: 8.87s\n",
      "653:\tlearn: 0.1683509\ttotal: 16.7s\tremaining: 8.85s\n",
      "654:\tlearn: 0.1683086\ttotal: 16.7s\tremaining: 8.82s\n",
      "655:\tlearn: 0.1682761\ttotal: 16.8s\tremaining: 8.79s\n",
      "656:\tlearn: 0.1682305\ttotal: 16.8s\tremaining: 8.76s\n",
      "657:\tlearn: 0.1681971\ttotal: 16.8s\tremaining: 8.72s\n",
      "658:\tlearn: 0.1681557\ttotal: 16.8s\tremaining: 8.7s\n",
      "659:\tlearn: 0.1681073\ttotal: 16.8s\tremaining: 8.67s\n",
      "660:\tlearn: 0.1680659\ttotal: 16.9s\tremaining: 8.65s\n",
      "661:\tlearn: 0.1680296\ttotal: 16.9s\tremaining: 8.62s\n",
      "662:\tlearn: 0.1679746\ttotal: 16.9s\tremaining: 8.6s\n",
      "663:\tlearn: 0.1679255\ttotal: 17s\tremaining: 8.58s\n",
      "664:\tlearn: 0.1678903\ttotal: 17s\tremaining: 8.55s\n",
      "665:\tlearn: 0.1678354\ttotal: 17s\tremaining: 8.52s\n",
      "666:\tlearn: 0.1677788\ttotal: 17s\tremaining: 8.49s\n",
      "667:\tlearn: 0.1677478\ttotal: 17s\tremaining: 8.46s\n",
      "668:\tlearn: 0.1677011\ttotal: 17s\tremaining: 8.43s\n",
      "669:\tlearn: 0.1676369\ttotal: 17s\tremaining: 8.39s\n",
      "670:\tlearn: 0.1676004\ttotal: 17.1s\tremaining: 8.36s\n",
      "671:\tlearn: 0.1675510\ttotal: 17.1s\tremaining: 8.34s\n",
      "672:\tlearn: 0.1675146\ttotal: 17.1s\tremaining: 8.31s\n",
      "673:\tlearn: 0.1674663\ttotal: 17.1s\tremaining: 8.28s\n",
      "674:\tlearn: 0.1674113\ttotal: 17.2s\tremaining: 8.26s\n",
      "675:\tlearn: 0.1673628\ttotal: 17.2s\tremaining: 8.25s\n",
      "676:\tlearn: 0.1673302\ttotal: 17.2s\tremaining: 8.23s\n",
      "677:\tlearn: 0.1672897\ttotal: 17.3s\tremaining: 8.21s\n",
      "678:\tlearn: 0.1672444\ttotal: 17.3s\tremaining: 8.18s\n",
      "679:\tlearn: 0.1671877\ttotal: 17.3s\tremaining: 8.15s\n",
      "680:\tlearn: 0.1671237\ttotal: 17.4s\tremaining: 8.13s\n",
      "681:\tlearn: 0.1670637\ttotal: 17.4s\tremaining: 8.12s\n",
      "682:\tlearn: 0.1669895\ttotal: 17.4s\tremaining: 8.09s\n",
      "683:\tlearn: 0.1669451\ttotal: 17.4s\tremaining: 8.06s\n",
      "684:\tlearn: 0.1669000\ttotal: 17.5s\tremaining: 8.03s\n",
      "685:\tlearn: 0.1668434\ttotal: 17.5s\tremaining: 8.01s\n",
      "686:\tlearn: 0.1667844\ttotal: 17.6s\tremaining: 8.01s\n",
      "687:\tlearn: 0.1667105\ttotal: 17.6s\tremaining: 7.99s\n",
      "688:\tlearn: 0.1666478\ttotal: 17.6s\tremaining: 7.96s\n",
      "689:\tlearn: 0.1666036\ttotal: 17.7s\tremaining: 7.93s\n",
      "690:\tlearn: 0.1665633\ttotal: 17.7s\tremaining: 7.9s\n",
      "691:\tlearn: 0.1665200\ttotal: 17.7s\tremaining: 7.87s\n",
      "692:\tlearn: 0.1664706\ttotal: 17.7s\tremaining: 7.84s\n",
      "693:\tlearn: 0.1664030\ttotal: 17.7s\tremaining: 7.81s\n",
      "694:\tlearn: 0.1663493\ttotal: 17.7s\tremaining: 7.78s\n",
      "695:\tlearn: 0.1662932\ttotal: 17.7s\tremaining: 7.75s\n",
      "696:\tlearn: 0.1662147\ttotal: 17.8s\tremaining: 7.72s\n",
      "697:\tlearn: 0.1661734\ttotal: 17.8s\tremaining: 7.69s\n",
      "698:\tlearn: 0.1661176\ttotal: 17.8s\tremaining: 7.67s\n",
      "699:\tlearn: 0.1660562\ttotal: 17.9s\tremaining: 7.66s\n",
      "700:\tlearn: 0.1660148\ttotal: 17.9s\tremaining: 7.64s\n",
      "701:\tlearn: 0.1659747\ttotal: 17.9s\tremaining: 7.62s\n",
      "702:\tlearn: 0.1659193\ttotal: 18s\tremaining: 7.59s\n",
      "703:\tlearn: 0.1658786\ttotal: 18s\tremaining: 7.57s\n",
      "704:\tlearn: 0.1658388\ttotal: 18.1s\tremaining: 7.55s\n",
      "705:\tlearn: 0.1657952\ttotal: 18.1s\tremaining: 7.54s\n",
      "706:\tlearn: 0.1657602\ttotal: 18.1s\tremaining: 7.51s\n",
      "707:\tlearn: 0.1657200\ttotal: 18.2s\tremaining: 7.5s\n",
      "708:\tlearn: 0.1656765\ttotal: 18.2s\tremaining: 7.47s\n",
      "709:\tlearn: 0.1656264\ttotal: 18.2s\tremaining: 7.45s\n",
      "710:\tlearn: 0.1655742\ttotal: 18.3s\tremaining: 7.42s\n",
      "711:\tlearn: 0.1655435\ttotal: 18.3s\tremaining: 7.4s\n",
      "712:\tlearn: 0.1655116\ttotal: 18.3s\tremaining: 7.37s\n",
      "713:\tlearn: 0.1654726\ttotal: 18.3s\tremaining: 7.34s\n",
      "714:\tlearn: 0.1654174\ttotal: 18.3s\tremaining: 7.31s\n",
      "715:\tlearn: 0.1653566\ttotal: 18.4s\tremaining: 7.28s\n",
      "716:\tlearn: 0.1653172\ttotal: 18.4s\tremaining: 7.25s\n",
      "717:\tlearn: 0.1652892\ttotal: 18.4s\tremaining: 7.22s\n",
      "718:\tlearn: 0.1652528\ttotal: 18.4s\tremaining: 7.19s\n",
      "719:\tlearn: 0.1651987\ttotal: 18.4s\tremaining: 7.17s\n",
      "720:\tlearn: 0.1651477\ttotal: 18.4s\tremaining: 7.13s\n",
      "721:\tlearn: 0.1651023\ttotal: 18.5s\tremaining: 7.11s\n",
      "722:\tlearn: 0.1650513\ttotal: 18.5s\tremaining: 7.08s\n",
      "723:\tlearn: 0.1650021\ttotal: 18.5s\tremaining: 7.05s\n",
      "724:\tlearn: 0.1649478\ttotal: 18.5s\tremaining: 7.03s\n",
      "725:\tlearn: 0.1649177\ttotal: 18.5s\tremaining: 7s\n",
      "726:\tlearn: 0.1648604\ttotal: 18.6s\tremaining: 6.97s\n",
      "727:\tlearn: 0.1648191\ttotal: 18.6s\tremaining: 6.94s\n",
      "728:\tlearn: 0.1647541\ttotal: 18.6s\tremaining: 6.91s\n",
      "729:\tlearn: 0.1647025\ttotal: 18.6s\tremaining: 6.88s\n",
      "730:\tlearn: 0.1646530\ttotal: 18.6s\tremaining: 6.85s\n",
      "731:\tlearn: 0.1646173\ttotal: 18.6s\tremaining: 6.82s\n",
      "732:\tlearn: 0.1645733\ttotal: 18.7s\tremaining: 6.79s\n",
      "733:\tlearn: 0.1645293\ttotal: 18.7s\tremaining: 6.78s\n",
      "734:\tlearn: 0.1644882\ttotal: 18.8s\tremaining: 6.77s\n",
      "735:\tlearn: 0.1644696\ttotal: 18.9s\tremaining: 6.77s\n",
      "736:\tlearn: 0.1644284\ttotal: 18.9s\tremaining: 6.75s\n",
      "737:\tlearn: 0.1643948\ttotal: 19s\tremaining: 6.74s\n",
      "738:\tlearn: 0.1643606\ttotal: 19s\tremaining: 6.72s\n",
      "739:\tlearn: 0.1643223\ttotal: 19.1s\tremaining: 6.71s\n",
      "740:\tlearn: 0.1642823\ttotal: 19.1s\tremaining: 6.68s\n",
      "741:\tlearn: 0.1642439\ttotal: 19.2s\tremaining: 6.68s\n",
      "742:\tlearn: 0.1641897\ttotal: 19.3s\tremaining: 6.67s\n",
      "743:\tlearn: 0.1641562\ttotal: 19.3s\tremaining: 6.64s\n",
      "744:\tlearn: 0.1641150\ttotal: 19.3s\tremaining: 6.62s\n",
      "745:\tlearn: 0.1640717\ttotal: 19.4s\tremaining: 6.6s\n",
      "746:\tlearn: 0.1640248\ttotal: 19.4s\tremaining: 6.58s\n",
      "747:\tlearn: 0.1639775\ttotal: 19.5s\tremaining: 6.56s\n",
      "748:\tlearn: 0.1639415\ttotal: 19.5s\tremaining: 6.55s\n",
      "749:\tlearn: 0.1638806\ttotal: 19.6s\tremaining: 6.53s\n",
      "750:\tlearn: 0.1638665\ttotal: 19.7s\tremaining: 6.53s\n",
      "751:\tlearn: 0.1638074\ttotal: 19.7s\tremaining: 6.51s\n",
      "752:\tlearn: 0.1637587\ttotal: 19.8s\tremaining: 6.49s\n",
      "753:\tlearn: 0.1637108\ttotal: 19.8s\tremaining: 6.46s\n",
      "754:\tlearn: 0.1636753\ttotal: 19.9s\tremaining: 6.46s\n",
      "755:\tlearn: 0.1636492\ttotal: 19.9s\tremaining: 6.44s\n",
      "756:\tlearn: 0.1635968\ttotal: 20s\tremaining: 6.43s\n",
      "757:\tlearn: 0.1635544\ttotal: 20.1s\tremaining: 6.41s\n",
      "758:\tlearn: 0.1635088\ttotal: 20.1s\tremaining: 6.39s\n",
      "759:\tlearn: 0.1634720\ttotal: 20.2s\tremaining: 6.37s\n",
      "760:\tlearn: 0.1634410\ttotal: 20.2s\tremaining: 6.35s\n",
      "761:\tlearn: 0.1634140\ttotal: 20.3s\tremaining: 6.33s\n",
      "762:\tlearn: 0.1633499\ttotal: 20.3s\tremaining: 6.31s\n",
      "763:\tlearn: 0.1633029\ttotal: 20.4s\tremaining: 6.29s\n",
      "764:\tlearn: 0.1632578\ttotal: 20.5s\tremaining: 6.28s\n",
      "765:\tlearn: 0.1632221\ttotal: 20.5s\tremaining: 6.26s\n",
      "766:\tlearn: 0.1632094\ttotal: 20.5s\tremaining: 6.23s\n",
      "767:\tlearn: 0.1631645\ttotal: 20.5s\tremaining: 6.21s\n",
      "768:\tlearn: 0.1631072\ttotal: 20.6s\tremaining: 6.18s\n",
      "769:\tlearn: 0.1630638\ttotal: 20.6s\tremaining: 6.15s\n",
      "770:\tlearn: 0.1630279\ttotal: 20.6s\tremaining: 6.12s\n",
      "771:\tlearn: 0.1629765\ttotal: 20.6s\tremaining: 6.09s\n",
      "772:\tlearn: 0.1629450\ttotal: 20.7s\tremaining: 6.08s\n",
      "773:\tlearn: 0.1629104\ttotal: 20.8s\tremaining: 6.07s\n",
      "774:\tlearn: 0.1628912\ttotal: 20.9s\tremaining: 6.06s\n",
      "775:\tlearn: 0.1628377\ttotal: 21s\tremaining: 6.05s\n",
      "776:\tlearn: 0.1627938\ttotal: 21s\tremaining: 6.03s\n",
      "777:\tlearn: 0.1627573\ttotal: 21.1s\tremaining: 6.01s\n",
      "778:\tlearn: 0.1627133\ttotal: 21.1s\tremaining: 5.98s\n",
      "779:\tlearn: 0.1626894\ttotal: 21.2s\tremaining: 5.97s\n",
      "780:\tlearn: 0.1626435\ttotal: 21.2s\tremaining: 5.94s\n",
      "781:\tlearn: 0.1626006\ttotal: 21.2s\tremaining: 5.92s\n",
      "782:\tlearn: 0.1625460\ttotal: 21.3s\tremaining: 5.89s\n",
      "783:\tlearn: 0.1624952\ttotal: 21.3s\tremaining: 5.86s\n",
      "784:\tlearn: 0.1624752\ttotal: 21.3s\tremaining: 5.83s\n",
      "785:\tlearn: 0.1624506\ttotal: 21.3s\tremaining: 5.8s\n",
      "786:\tlearn: 0.1623820\ttotal: 21.3s\tremaining: 5.78s\n",
      "787:\tlearn: 0.1623285\ttotal: 21.4s\tremaining: 5.75s\n",
      "788:\tlearn: 0.1622934\ttotal: 21.4s\tremaining: 5.72s\n",
      "789:\tlearn: 0.1622571\ttotal: 21.4s\tremaining: 5.69s\n",
      "790:\tlearn: 0.1621989\ttotal: 21.4s\tremaining: 5.66s\n",
      "791:\tlearn: 0.1621814\ttotal: 21.4s\tremaining: 5.63s\n",
      "792:\tlearn: 0.1621310\ttotal: 21.5s\tremaining: 5.61s\n",
      "793:\tlearn: 0.1620601\ttotal: 21.5s\tremaining: 5.58s\n",
      "794:\tlearn: 0.1620346\ttotal: 21.5s\tremaining: 5.55s\n",
      "795:\tlearn: 0.1619797\ttotal: 21.6s\tremaining: 5.52s\n",
      "796:\tlearn: 0.1619620\ttotal: 21.6s\tremaining: 5.49s\n",
      "797:\tlearn: 0.1619267\ttotal: 21.6s\tremaining: 5.46s\n",
      "798:\tlearn: 0.1618822\ttotal: 21.6s\tremaining: 5.43s\n",
      "799:\tlearn: 0.1618545\ttotal: 21.6s\tremaining: 5.41s\n",
      "800:\tlearn: 0.1618050\ttotal: 21.6s\tremaining: 5.38s\n",
      "801:\tlearn: 0.1617584\ttotal: 21.7s\tremaining: 5.35s\n",
      "802:\tlearn: 0.1617284\ttotal: 21.7s\tremaining: 5.33s\n",
      "803:\tlearn: 0.1616967\ttotal: 21.7s\tremaining: 5.3s\n",
      "804:\tlearn: 0.1616578\ttotal: 21.8s\tremaining: 5.27s\n",
      "805:\tlearn: 0.1616217\ttotal: 21.8s\tremaining: 5.25s\n",
      "806:\tlearn: 0.1615802\ttotal: 21.8s\tremaining: 5.22s\n",
      "807:\tlearn: 0.1615184\ttotal: 21.9s\tremaining: 5.2s\n",
      "808:\tlearn: 0.1614976\ttotal: 21.9s\tremaining: 5.17s\n",
      "809:\tlearn: 0.1614567\ttotal: 21.9s\tremaining: 5.14s\n",
      "810:\tlearn: 0.1614028\ttotal: 21.9s\tremaining: 5.12s\n",
      "811:\tlearn: 0.1613651\ttotal: 22s\tremaining: 5.09s\n",
      "812:\tlearn: 0.1613060\ttotal: 22s\tremaining: 5.06s\n",
      "813:\tlearn: 0.1612884\ttotal: 22s\tremaining: 5.03s\n",
      "814:\tlearn: 0.1612530\ttotal: 22s\tremaining: 5s\n",
      "815:\tlearn: 0.1612231\ttotal: 22s\tremaining: 4.97s\n",
      "816:\tlearn: 0.1611617\ttotal: 22.1s\tremaining: 4.94s\n"
     ]
    },
    {
     "name": "stdout",
     "output_type": "stream",
     "text": [
      "817:\tlearn: 0.1611180\ttotal: 22.1s\tremaining: 4.91s\n",
      "818:\tlearn: 0.1610755\ttotal: 22.1s\tremaining: 4.89s\n",
      "819:\tlearn: 0.1610098\ttotal: 22.1s\tremaining: 4.86s\n",
      "820:\tlearn: 0.1609768\ttotal: 22.2s\tremaining: 4.83s\n",
      "821:\tlearn: 0.1609381\ttotal: 22.2s\tremaining: 4.81s\n",
      "822:\tlearn: 0.1608858\ttotal: 22.3s\tremaining: 4.79s\n",
      "823:\tlearn: 0.1608453\ttotal: 22.3s\tremaining: 4.77s\n",
      "824:\tlearn: 0.1607946\ttotal: 22.4s\tremaining: 4.75s\n",
      "825:\tlearn: 0.1607595\ttotal: 22.4s\tremaining: 4.73s\n",
      "826:\tlearn: 0.1607481\ttotal: 22.5s\tremaining: 4.7s\n",
      "827:\tlearn: 0.1607190\ttotal: 22.5s\tremaining: 4.67s\n",
      "828:\tlearn: 0.1606819\ttotal: 22.5s\tremaining: 4.64s\n",
      "829:\tlearn: 0.1606643\ttotal: 22.5s\tremaining: 4.61s\n",
      "830:\tlearn: 0.1606089\ttotal: 22.5s\tremaining: 4.58s\n",
      "831:\tlearn: 0.1605878\ttotal: 22.5s\tremaining: 4.55s\n",
      "832:\tlearn: 0.1605547\ttotal: 22.6s\tremaining: 4.53s\n",
      "833:\tlearn: 0.1605045\ttotal: 22.7s\tremaining: 4.51s\n",
      "834:\tlearn: 0.1604627\ttotal: 22.7s\tremaining: 4.49s\n",
      "835:\tlearn: 0.1604168\ttotal: 22.8s\tremaining: 4.46s\n",
      "836:\tlearn: 0.1603785\ttotal: 22.8s\tremaining: 4.44s\n",
      "837:\tlearn: 0.1603288\ttotal: 22.9s\tremaining: 4.42s\n",
      "838:\tlearn: 0.1602896\ttotal: 22.9s\tremaining: 4.39s\n",
      "839:\tlearn: 0.1602496\ttotal: 22.9s\tremaining: 4.36s\n",
      "840:\tlearn: 0.1602106\ttotal: 22.9s\tremaining: 4.33s\n",
      "841:\tlearn: 0.1601636\ttotal: 23s\tremaining: 4.31s\n",
      "842:\tlearn: 0.1601560\ttotal: 23s\tremaining: 4.28s\n",
      "843:\tlearn: 0.1601074\ttotal: 23s\tremaining: 4.25s\n",
      "844:\tlearn: 0.1601001\ttotal: 23s\tremaining: 4.22s\n",
      "845:\tlearn: 0.1600573\ttotal: 23s\tremaining: 4.19s\n",
      "846:\tlearn: 0.1600234\ttotal: 23.1s\tremaining: 4.17s\n",
      "847:\tlearn: 0.1599468\ttotal: 23.1s\tremaining: 4.13s\n",
      "848:\tlearn: 0.1598947\ttotal: 23.1s\tremaining: 4.11s\n",
      "849:\tlearn: 0.1598668\ttotal: 23.1s\tremaining: 4.08s\n",
      "850:\tlearn: 0.1598072\ttotal: 23.1s\tremaining: 4.05s\n",
      "851:\tlearn: 0.1597748\ttotal: 23.1s\tremaining: 4.02s\n",
      "852:\tlearn: 0.1597249\ttotal: 23.1s\tremaining: 3.99s\n",
      "853:\tlearn: 0.1596978\ttotal: 23.2s\tremaining: 3.96s\n",
      "854:\tlearn: 0.1596499\ttotal: 23.2s\tremaining: 3.93s\n",
      "855:\tlearn: 0.1595787\ttotal: 23.2s\tremaining: 3.9s\n",
      "856:\tlearn: 0.1595339\ttotal: 23.2s\tremaining: 3.88s\n",
      "857:\tlearn: 0.1594606\ttotal: 23.3s\tremaining: 3.85s\n",
      "858:\tlearn: 0.1594086\ttotal: 23.3s\tremaining: 3.82s\n",
      "859:\tlearn: 0.1593625\ttotal: 23.3s\tremaining: 3.79s\n",
      "860:\tlearn: 0.1593455\ttotal: 23.3s\tremaining: 3.76s\n",
      "861:\tlearn: 0.1593069\ttotal: 23.3s\tremaining: 3.73s\n",
      "862:\tlearn: 0.1592630\ttotal: 23.3s\tremaining: 3.7s\n",
      "863:\tlearn: 0.1592218\ttotal: 23.3s\tremaining: 3.67s\n",
      "864:\tlearn: 0.1591906\ttotal: 23.4s\tremaining: 3.65s\n",
      "865:\tlearn: 0.1591565\ttotal: 23.4s\tremaining: 3.62s\n",
      "866:\tlearn: 0.1591221\ttotal: 23.4s\tremaining: 3.59s\n",
      "867:\tlearn: 0.1591043\ttotal: 23.4s\tremaining: 3.56s\n",
      "868:\tlearn: 0.1590637\ttotal: 23.5s\tremaining: 3.54s\n",
      "869:\tlearn: 0.1590158\ttotal: 23.5s\tremaining: 3.51s\n",
      "870:\tlearn: 0.1589558\ttotal: 23.5s\tremaining: 3.48s\n",
      "871:\tlearn: 0.1589153\ttotal: 23.5s\tremaining: 3.45s\n",
      "872:\tlearn: 0.1588735\ttotal: 23.5s\tremaining: 3.42s\n",
      "873:\tlearn: 0.1588376\ttotal: 23.5s\tremaining: 3.39s\n",
      "874:\tlearn: 0.1588120\ttotal: 23.5s\tremaining: 3.36s\n",
      "875:\tlearn: 0.1587692\ttotal: 23.6s\tremaining: 3.33s\n",
      "876:\tlearn: 0.1587065\ttotal: 23.6s\tremaining: 3.31s\n",
      "877:\tlearn: 0.1586510\ttotal: 23.6s\tremaining: 3.28s\n",
      "878:\tlearn: 0.1586101\ttotal: 23.6s\tremaining: 3.25s\n",
      "879:\tlearn: 0.1585818\ttotal: 23.6s\tremaining: 3.22s\n",
      "880:\tlearn: 0.1585316\ttotal: 23.7s\tremaining: 3.19s\n",
      "881:\tlearn: 0.1584849\ttotal: 23.7s\tremaining: 3.17s\n",
      "882:\tlearn: 0.1584208\ttotal: 23.7s\tremaining: 3.14s\n",
      "883:\tlearn: 0.1583901\ttotal: 23.7s\tremaining: 3.11s\n",
      "884:\tlearn: 0.1583397\ttotal: 23.7s\tremaining: 3.08s\n",
      "885:\tlearn: 0.1582977\ttotal: 23.7s\tremaining: 3.06s\n",
      "886:\tlearn: 0.1582441\ttotal: 23.8s\tremaining: 3.03s\n",
      "887:\tlearn: 0.1581985\ttotal: 23.8s\tremaining: 3s\n",
      "888:\tlearn: 0.1581593\ttotal: 23.8s\tremaining: 2.97s\n",
      "889:\tlearn: 0.1581398\ttotal: 23.9s\tremaining: 2.95s\n",
      "890:\tlearn: 0.1580933\ttotal: 23.9s\tremaining: 2.93s\n",
      "891:\tlearn: 0.1580605\ttotal: 23.9s\tremaining: 2.9s\n",
      "892:\tlearn: 0.1580115\ttotal: 24s\tremaining: 2.87s\n",
      "893:\tlearn: 0.1579531\ttotal: 24s\tremaining: 2.84s\n",
      "894:\tlearn: 0.1578898\ttotal: 24s\tremaining: 2.82s\n",
      "895:\tlearn: 0.1578464\ttotal: 24s\tremaining: 2.79s\n",
      "896:\tlearn: 0.1578141\ttotal: 24.1s\tremaining: 2.76s\n",
      "897:\tlearn: 0.1577955\ttotal: 24.1s\tremaining: 2.73s\n",
      "898:\tlearn: 0.1577561\ttotal: 24.1s\tremaining: 2.71s\n",
      "899:\tlearn: 0.1577529\ttotal: 24.1s\tremaining: 2.68s\n",
      "900:\tlearn: 0.1576803\ttotal: 24.2s\tremaining: 2.66s\n",
      "901:\tlearn: 0.1576356\ttotal: 24.3s\tremaining: 2.64s\n",
      "902:\tlearn: 0.1575862\ttotal: 24.3s\tremaining: 2.61s\n",
      "903:\tlearn: 0.1575494\ttotal: 24.4s\tremaining: 2.59s\n",
      "904:\tlearn: 0.1575215\ttotal: 24.4s\tremaining: 2.56s\n",
      "905:\tlearn: 0.1574844\ttotal: 24.4s\tremaining: 2.54s\n",
      "906:\tlearn: 0.1574246\ttotal: 24.5s\tremaining: 2.51s\n",
      "907:\tlearn: 0.1573838\ttotal: 24.5s\tremaining: 2.49s\n",
      "908:\tlearn: 0.1573388\ttotal: 24.6s\tremaining: 2.46s\n",
      "909:\tlearn: 0.1573043\ttotal: 24.6s\tremaining: 2.44s\n",
      "910:\tlearn: 0.1572681\ttotal: 24.7s\tremaining: 2.41s\n",
      "911:\tlearn: 0.1572368\ttotal: 24.7s\tremaining: 2.39s\n",
      "912:\tlearn: 0.1571773\ttotal: 24.8s\tremaining: 2.36s\n",
      "913:\tlearn: 0.1571397\ttotal: 24.8s\tremaining: 2.33s\n",
      "914:\tlearn: 0.1570972\ttotal: 24.8s\tremaining: 2.31s\n",
      "915:\tlearn: 0.1570323\ttotal: 24.8s\tremaining: 2.28s\n",
      "916:\tlearn: 0.1569722\ttotal: 24.9s\tremaining: 2.25s\n",
      "917:\tlearn: 0.1569341\ttotal: 24.9s\tremaining: 2.22s\n",
      "918:\tlearn: 0.1568896\ttotal: 24.9s\tremaining: 2.2s\n",
      "919:\tlearn: 0.1568546\ttotal: 25s\tremaining: 2.17s\n",
      "920:\tlearn: 0.1567900\ttotal: 25.1s\tremaining: 2.15s\n",
      "921:\tlearn: 0.1567446\ttotal: 25.1s\tremaining: 2.12s\n",
      "922:\tlearn: 0.1567188\ttotal: 25.1s\tremaining: 2.1s\n",
      "923:\tlearn: 0.1566809\ttotal: 25.2s\tremaining: 2.07s\n",
      "924:\tlearn: 0.1566570\ttotal: 25.2s\tremaining: 2.04s\n",
      "925:\tlearn: 0.1566120\ttotal: 25.2s\tremaining: 2.01s\n",
      "926:\tlearn: 0.1565811\ttotal: 25.2s\tremaining: 1.99s\n",
      "927:\tlearn: 0.1565529\ttotal: 25.2s\tremaining: 1.96s\n",
      "928:\tlearn: 0.1565198\ttotal: 25.3s\tremaining: 1.93s\n",
      "929:\tlearn: 0.1564978\ttotal: 25.3s\tremaining: 1.9s\n",
      "930:\tlearn: 0.1564674\ttotal: 25.3s\tremaining: 1.87s\n",
      "931:\tlearn: 0.1564517\ttotal: 25.3s\tremaining: 1.85s\n",
      "932:\tlearn: 0.1564231\ttotal: 25.4s\tremaining: 1.82s\n",
      "933:\tlearn: 0.1563892\ttotal: 25.4s\tremaining: 1.8s\n",
      "934:\tlearn: 0.1563542\ttotal: 25.5s\tremaining: 1.77s\n",
      "935:\tlearn: 0.1563106\ttotal: 25.5s\tremaining: 1.74s\n",
      "936:\tlearn: 0.1562778\ttotal: 25.5s\tremaining: 1.72s\n",
      "937:\tlearn: 0.1562457\ttotal: 25.6s\tremaining: 1.69s\n",
      "938:\tlearn: 0.1561997\ttotal: 25.6s\tremaining: 1.66s\n",
      "939:\tlearn: 0.1561379\ttotal: 25.6s\tremaining: 1.63s\n",
      "940:\tlearn: 0.1560944\ttotal: 25.6s\tremaining: 1.6s\n",
      "941:\tlearn: 0.1560203\ttotal: 25.6s\tremaining: 1.58s\n",
      "942:\tlearn: 0.1559564\ttotal: 25.6s\tremaining: 1.55s\n",
      "943:\tlearn: 0.1559384\ttotal: 25.7s\tremaining: 1.52s\n",
      "944:\tlearn: 0.1558871\ttotal: 25.8s\tremaining: 1.5s\n",
      "945:\tlearn: 0.1558387\ttotal: 25.8s\tremaining: 1.47s\n",
      "946:\tlearn: 0.1557846\ttotal: 25.9s\tremaining: 1.45s\n",
      "947:\tlearn: 0.1557824\ttotal: 25.9s\tremaining: 1.42s\n",
      "948:\tlearn: 0.1557442\ttotal: 26s\tremaining: 1.39s\n",
      "949:\tlearn: 0.1556946\ttotal: 26s\tremaining: 1.37s\n",
      "950:\tlearn: 0.1556655\ttotal: 26.1s\tremaining: 1.34s\n",
      "951:\tlearn: 0.1556300\ttotal: 26.1s\tremaining: 1.31s\n",
      "952:\tlearn: 0.1555926\ttotal: 26.2s\tremaining: 1.29s\n",
      "953:\tlearn: 0.1555694\ttotal: 26.2s\tremaining: 1.26s\n",
      "954:\tlearn: 0.1555375\ttotal: 26.3s\tremaining: 1.24s\n",
      "955:\tlearn: 0.1554872\ttotal: 26.4s\tremaining: 1.21s\n",
      "956:\tlearn: 0.1554411\ttotal: 26.4s\tremaining: 1.19s\n",
      "957:\tlearn: 0.1554055\ttotal: 26.5s\tremaining: 1.16s\n",
      "958:\tlearn: 0.1553558\ttotal: 26.5s\tremaining: 1.13s\n",
      "959:\tlearn: 0.1553182\ttotal: 26.5s\tremaining: 1.11s\n",
      "960:\tlearn: 0.1552865\ttotal: 26.6s\tremaining: 1.08s\n",
      "961:\tlearn: 0.1552493\ttotal: 26.6s\tremaining: 1.05s\n",
      "962:\tlearn: 0.1552205\ttotal: 26.7s\tremaining: 1.02s\n",
      "963:\tlearn: 0.1551780\ttotal: 26.7s\tremaining: 996ms\n",
      "964:\tlearn: 0.1551421\ttotal: 26.7s\tremaining: 968ms\n",
      "965:\tlearn: 0.1550990\ttotal: 26.7s\tremaining: 940ms\n",
      "966:\tlearn: 0.1550792\ttotal: 26.7s\tremaining: 912ms\n",
      "967:\tlearn: 0.1550468\ttotal: 26.8s\tremaining: 885ms\n",
      "968:\tlearn: 0.1549974\ttotal: 26.8s\tremaining: 857ms\n",
      "969:\tlearn: 0.1549618\ttotal: 26.8s\tremaining: 830ms\n",
      "970:\tlearn: 0.1549295\ttotal: 26.9s\tremaining: 802ms\n",
      "971:\tlearn: 0.1549026\ttotal: 26.9s\tremaining: 774ms\n",
      "972:\tlearn: 0.1548508\ttotal: 26.9s\tremaining: 746ms\n",
      "973:\tlearn: 0.1547745\ttotal: 26.9s\tremaining: 719ms\n",
      "974:\tlearn: 0.1547731\ttotal: 26.9s\tremaining: 691ms\n",
      "975:\tlearn: 0.1547421\ttotal: 27s\tremaining: 663ms\n"
     ]
    },
    {
     "name": "stdout",
     "output_type": "stream",
     "text": [
      "976:\tlearn: 0.1547217\ttotal: 27s\tremaining: 635ms\n",
      "977:\tlearn: 0.1547032\ttotal: 27s\tremaining: 608ms\n",
      "978:\tlearn: 0.1546429\ttotal: 27.1s\tremaining: 581ms\n",
      "979:\tlearn: 0.1546048\ttotal: 27.1s\tremaining: 553ms\n",
      "980:\tlearn: 0.1545614\ttotal: 27.1s\tremaining: 525ms\n",
      "981:\tlearn: 0.1545198\ttotal: 27.1s\tremaining: 497ms\n",
      "982:\tlearn: 0.1544886\ttotal: 27.1s\tremaining: 470ms\n",
      "983:\tlearn: 0.1544580\ttotal: 27.2s\tremaining: 442ms\n",
      "984:\tlearn: 0.1544030\ttotal: 27.2s\tremaining: 414ms\n",
      "985:\tlearn: 0.1543612\ttotal: 27.2s\tremaining: 387ms\n",
      "986:\tlearn: 0.1543205\ttotal: 27.3s\tremaining: 359ms\n",
      "987:\tlearn: 0.1542916\ttotal: 27.3s\tremaining: 331ms\n",
      "988:\tlearn: 0.1542578\ttotal: 27.3s\tremaining: 304ms\n",
      "989:\tlearn: 0.1542081\ttotal: 27.3s\tremaining: 276ms\n",
      "990:\tlearn: 0.1541759\ttotal: 27.4s\tremaining: 248ms\n",
      "991:\tlearn: 0.1541413\ttotal: 27.4s\tremaining: 221ms\n",
      "992:\tlearn: 0.1540764\ttotal: 27.4s\tremaining: 193ms\n",
      "993:\tlearn: 0.1540254\ttotal: 27.5s\tremaining: 166ms\n",
      "994:\tlearn: 0.1539896\ttotal: 27.5s\tremaining: 138ms\n",
      "995:\tlearn: 0.1539568\ttotal: 27.5s\tremaining: 110ms\n",
      "996:\tlearn: 0.1539383\ttotal: 27.5s\tremaining: 82.9ms\n",
      "997:\tlearn: 0.1538750\ttotal: 27.6s\tremaining: 55.3ms\n",
      "998:\tlearn: 0.1538472\ttotal: 27.7s\tremaining: 27.7ms\n",
      "999:\tlearn: 0.1538120\ttotal: 27.7s\tremaining: 0us\n"
     ]
    },
    {
     "data": {
      "text/plain": [
       "array([[7384,  251],\n",
       "       [ 539,  465]])"
      ]
     },
     "metadata": {},
     "output_type": "display_data"
    },
    {
     "name": "stdout",
     "output_type": "stream",
     "text": [
      "Accuracy 0.9085542308137516\n",
      "Recall 0.4631474103585657\n",
      "Precision 0.6494413407821229\n",
      "F1 0.5406976744186046\n"
     ]
    }
   ],
   "source": [
    "model6_sca=CatBoostClassifier()\n",
    "model6_sca.fit(X_train_sca, y_train_sca)\n",
    "y_pred6_sca=model6_sca.predict(X_test_sca)\n",
    "conf6_sca=confusion_matrix(y_test_sca, [eval(i) for i in y_pred6_sca])\n",
    "acc6_sca=accuracy_score(y_test_sca, [eval(i) for i in y_pred6_sca])\n",
    "rec6_sca=recall_score(y_test_sca, [eval(i) for i in y_pred6_sca])\n",
    "pre6_sca=precision_score(y_test_sca, [eval(i) for i in y_pred6_sca])\n",
    "f16_sca=f1_score(y_test_sca, [eval(i) for i in y_pred6_sca])\n",
    "display(conf6_sca)\n",
    "print('Accuracy', acc6_sca)\n",
    "print('Recall', rec6_sca)\n",
    "print('Precision', pre6_sca)\n",
    "print('F1', f16_sca)"
   ]
  },
  {
   "cell_type": "markdown",
   "metadata": {},
   "source": [
    "### Features selection df"
   ]
  },
  {
   "cell_type": "code",
   "execution_count": 93,
   "metadata": {},
   "outputs": [
    {
     "name": "stdout",
     "output_type": "stream",
     "text": [
      "Learning rate set to 0.04676\n",
      "0:\tlearn: 0.6345969\ttotal: 33ms\tremaining: 33s\n",
      "1:\tlearn: 0.5845117\ttotal: 50.1ms\tremaining: 25s\n",
      "2:\tlearn: 0.5443026\ttotal: 72.4ms\tremaining: 24.1s\n",
      "3:\tlearn: 0.5079618\ttotal: 84.3ms\tremaining: 21s\n",
      "4:\tlearn: 0.4780989\ttotal: 98ms\tremaining: 19.5s\n",
      "5:\tlearn: 0.4510036\ttotal: 113ms\tremaining: 18.7s\n",
      "6:\tlearn: 0.4278777\ttotal: 128ms\tremaining: 18.1s\n",
      "7:\tlearn: 0.4083333\ttotal: 141ms\tremaining: 17.5s\n",
      "8:\tlearn: 0.3896445\ttotal: 158ms\tremaining: 17.4s\n",
      "9:\tlearn: 0.3752356\ttotal: 173ms\tremaining: 17.1s\n",
      "10:\tlearn: 0.3630776\ttotal: 200ms\tremaining: 17.9s\n",
      "11:\tlearn: 0.3504789\ttotal: 223ms\tremaining: 18.4s\n",
      "12:\tlearn: 0.3399402\ttotal: 252ms\tremaining: 19.1s\n",
      "13:\tlearn: 0.3301602\ttotal: 276ms\tremaining: 19.4s\n",
      "14:\tlearn: 0.3213909\ttotal: 299ms\tremaining: 19.6s\n",
      "15:\tlearn: 0.3139021\ttotal: 324ms\tremaining: 19.9s\n",
      "16:\tlearn: 0.3079688\ttotal: 345ms\tremaining: 19.9s\n",
      "17:\tlearn: 0.3029963\ttotal: 365ms\tremaining: 19.9s\n",
      "18:\tlearn: 0.2976133\ttotal: 398ms\tremaining: 20.5s\n",
      "19:\tlearn: 0.2937480\ttotal: 436ms\tremaining: 21.4s\n",
      "20:\tlearn: 0.2904275\ttotal: 485ms\tremaining: 22.6s\n",
      "21:\tlearn: 0.2859999\ttotal: 501ms\tremaining: 22.3s\n",
      "22:\tlearn: 0.2831312\ttotal: 523ms\tremaining: 22.2s\n",
      "23:\tlearn: 0.2801750\ttotal: 537ms\tremaining: 21.8s\n",
      "24:\tlearn: 0.2776295\ttotal: 550ms\tremaining: 21.5s\n",
      "25:\tlearn: 0.2754151\ttotal: 564ms\tremaining: 21.1s\n",
      "26:\tlearn: 0.2732613\ttotal: 577ms\tremaining: 20.8s\n",
      "27:\tlearn: 0.2710579\ttotal: 591ms\tremaining: 20.5s\n",
      "28:\tlearn: 0.2696430\ttotal: 608ms\tremaining: 20.4s\n",
      "29:\tlearn: 0.2681612\ttotal: 634ms\tremaining: 20.5s\n",
      "30:\tlearn: 0.2667687\ttotal: 663ms\tremaining: 20.7s\n",
      "31:\tlearn: 0.2650276\ttotal: 702ms\tremaining: 21.2s\n",
      "32:\tlearn: 0.2636548\ttotal: 726ms\tremaining: 21.3s\n",
      "33:\tlearn: 0.2621531\ttotal: 751ms\tremaining: 21.3s\n",
      "34:\tlearn: 0.2610812\ttotal: 773ms\tremaining: 21.3s\n",
      "35:\tlearn: 0.2599268\ttotal: 789ms\tremaining: 21.1s\n",
      "36:\tlearn: 0.2589736\ttotal: 803ms\tremaining: 20.9s\n",
      "37:\tlearn: 0.2579417\ttotal: 832ms\tremaining: 21.1s\n",
      "38:\tlearn: 0.2572606\ttotal: 860ms\tremaining: 21.2s\n",
      "39:\tlearn: 0.2564592\ttotal: 897ms\tremaining: 21.5s\n",
      "40:\tlearn: 0.2558902\ttotal: 935ms\tremaining: 21.9s\n",
      "41:\tlearn: 0.2551940\ttotal: 991ms\tremaining: 22.6s\n",
      "42:\tlearn: 0.2543733\ttotal: 1.14s\tremaining: 25.3s\n",
      "43:\tlearn: 0.2536967\ttotal: 1.26s\tremaining: 27.5s\n",
      "44:\tlearn: 0.2533335\ttotal: 1.33s\tremaining: 28.2s\n",
      "45:\tlearn: 0.2528008\ttotal: 1.4s\tremaining: 29.1s\n",
      "46:\tlearn: 0.2523425\ttotal: 1.43s\tremaining: 29s\n",
      "47:\tlearn: 0.2517211\ttotal: 1.48s\tremaining: 29.3s\n",
      "48:\tlearn: 0.2513169\ttotal: 1.51s\tremaining: 29.4s\n",
      "49:\tlearn: 0.2509393\ttotal: 1.54s\tremaining: 29.3s\n",
      "50:\tlearn: 0.2506129\ttotal: 1.56s\tremaining: 29s\n",
      "51:\tlearn: 0.2502243\ttotal: 1.57s\tremaining: 28.7s\n",
      "52:\tlearn: 0.2499445\ttotal: 1.59s\tremaining: 28.4s\n",
      "53:\tlearn: 0.2496939\ttotal: 1.6s\tremaining: 28.1s\n",
      "54:\tlearn: 0.2493724\ttotal: 1.63s\tremaining: 28s\n",
      "55:\tlearn: 0.2491217\ttotal: 1.67s\tremaining: 28.2s\n",
      "56:\tlearn: 0.2488358\ttotal: 1.7s\tremaining: 28.1s\n",
      "57:\tlearn: 0.2486273\ttotal: 1.75s\tremaining: 28.5s\n",
      "58:\tlearn: 0.2483587\ttotal: 1.8s\tremaining: 28.7s\n",
      "59:\tlearn: 0.2480662\ttotal: 1.85s\tremaining: 29s\n",
      "60:\tlearn: 0.2477467\ttotal: 1.93s\tremaining: 29.8s\n",
      "61:\tlearn: 0.2474142\ttotal: 1.98s\tremaining: 29.9s\n",
      "62:\tlearn: 0.2472004\ttotal: 2.01s\tremaining: 29.9s\n",
      "63:\tlearn: 0.2469714\ttotal: 2.03s\tremaining: 29.7s\n",
      "64:\tlearn: 0.2465960\ttotal: 2.04s\tremaining: 29.4s\n",
      "65:\tlearn: 0.2464631\ttotal: 2.06s\tremaining: 29.2s\n",
      "66:\tlearn: 0.2462762\ttotal: 2.08s\tremaining: 29s\n",
      "67:\tlearn: 0.2461315\ttotal: 2.11s\tremaining: 29s\n",
      "68:\tlearn: 0.2459255\ttotal: 2.14s\tremaining: 28.9s\n",
      "69:\tlearn: 0.2457197\ttotal: 2.16s\tremaining: 28.7s\n",
      "70:\tlearn: 0.2454687\ttotal: 2.18s\tremaining: 28.5s\n",
      "71:\tlearn: 0.2452952\ttotal: 2.2s\tremaining: 28.3s\n",
      "72:\tlearn: 0.2451728\ttotal: 2.21s\tremaining: 28.1s\n",
      "73:\tlearn: 0.2449831\ttotal: 2.23s\tremaining: 27.9s\n",
      "74:\tlearn: 0.2448224\ttotal: 2.24s\tremaining: 27.7s\n",
      "75:\tlearn: 0.2446846\ttotal: 2.26s\tremaining: 27.4s\n",
      "76:\tlearn: 0.2445237\ttotal: 2.29s\tremaining: 27.5s\n",
      "77:\tlearn: 0.2443615\ttotal: 2.33s\tremaining: 27.5s\n",
      "78:\tlearn: 0.2442372\ttotal: 2.37s\tremaining: 27.6s\n",
      "79:\tlearn: 0.2440651\ttotal: 2.41s\tremaining: 27.7s\n",
      "80:\tlearn: 0.2439557\ttotal: 2.42s\tremaining: 27.5s\n",
      "81:\tlearn: 0.2437390\ttotal: 2.44s\tremaining: 27.3s\n",
      "82:\tlearn: 0.2435769\ttotal: 2.45s\tremaining: 27.1s\n",
      "83:\tlearn: 0.2434421\ttotal: 2.46s\tremaining: 26.9s\n",
      "84:\tlearn: 0.2432776\ttotal: 2.48s\tremaining: 26.7s\n",
      "85:\tlearn: 0.2431217\ttotal: 2.5s\tremaining: 26.5s\n",
      "86:\tlearn: 0.2429948\ttotal: 2.52s\tremaining: 26.5s\n",
      "87:\tlearn: 0.2428633\ttotal: 2.55s\tremaining: 26.5s\n",
      "88:\tlearn: 0.2427726\ttotal: 2.59s\tremaining: 26.5s\n",
      "89:\tlearn: 0.2426304\ttotal: 2.64s\tremaining: 26.7s\n",
      "90:\tlearn: 0.2425017\ttotal: 2.67s\tremaining: 26.6s\n",
      "91:\tlearn: 0.2424353\ttotal: 2.71s\tremaining: 26.7s\n",
      "92:\tlearn: 0.2422964\ttotal: 2.75s\tremaining: 26.9s\n",
      "93:\tlearn: 0.2421922\ttotal: 2.79s\tremaining: 26.9s\n",
      "94:\tlearn: 0.2420398\ttotal: 2.82s\tremaining: 26.9s\n",
      "95:\tlearn: 0.2419573\ttotal: 2.85s\tremaining: 26.8s\n",
      "96:\tlearn: 0.2418640\ttotal: 2.86s\tremaining: 26.6s\n",
      "97:\tlearn: 0.2417163\ttotal: 2.87s\tremaining: 26.5s\n",
      "98:\tlearn: 0.2416713\ttotal: 2.89s\tremaining: 26.3s\n",
      "99:\tlearn: 0.2416110\ttotal: 2.9s\tremaining: 26.1s\n",
      "100:\tlearn: 0.2415396\ttotal: 2.93s\tremaining: 26.1s\n",
      "101:\tlearn: 0.2414006\ttotal: 2.96s\tremaining: 26s\n",
      "102:\tlearn: 0.2413217\ttotal: 2.99s\tremaining: 26s\n",
      "103:\tlearn: 0.2412613\ttotal: 3.02s\tremaining: 26s\n",
      "104:\tlearn: 0.2411880\ttotal: 3.05s\tremaining: 26s\n",
      "105:\tlearn: 0.2411172\ttotal: 3.07s\tremaining: 25.9s\n",
      "106:\tlearn: 0.2410652\ttotal: 3.08s\tremaining: 25.7s\n",
      "107:\tlearn: 0.2409245\ttotal: 3.1s\tremaining: 25.6s\n",
      "108:\tlearn: 0.2407567\ttotal: 3.12s\tremaining: 25.5s\n",
      "109:\tlearn: 0.2407074\ttotal: 3.15s\tremaining: 25.5s\n",
      "110:\tlearn: 0.2406489\ttotal: 3.18s\tremaining: 25.5s\n",
      "111:\tlearn: 0.2405546\ttotal: 3.21s\tremaining: 25.4s\n",
      "112:\tlearn: 0.2404382\ttotal: 3.24s\tremaining: 25.4s\n",
      "113:\tlearn: 0.2403475\ttotal: 3.27s\tremaining: 25.4s\n",
      "114:\tlearn: 0.2401759\ttotal: 3.28s\tremaining: 25.2s\n",
      "115:\tlearn: 0.2400791\ttotal: 3.3s\tremaining: 25.2s\n",
      "116:\tlearn: 0.2399767\ttotal: 3.31s\tremaining: 25s\n",
      "117:\tlearn: 0.2398824\ttotal: 3.33s\tremaining: 24.9s\n",
      "118:\tlearn: 0.2398489\ttotal: 3.35s\tremaining: 24.8s\n",
      "119:\tlearn: 0.2397869\ttotal: 3.37s\tremaining: 24.7s\n",
      "120:\tlearn: 0.2397043\ttotal: 3.4s\tremaining: 24.7s\n",
      "121:\tlearn: 0.2396159\ttotal: 3.42s\tremaining: 24.6s\n",
      "122:\tlearn: 0.2395574\ttotal: 3.44s\tremaining: 24.5s\n",
      "123:\tlearn: 0.2395026\ttotal: 3.46s\tremaining: 24.4s\n",
      "124:\tlearn: 0.2394495\ttotal: 3.48s\tremaining: 24.3s\n",
      "125:\tlearn: 0.2393743\ttotal: 3.49s\tremaining: 24.2s\n",
      "126:\tlearn: 0.2392825\ttotal: 3.51s\tremaining: 24.1s\n",
      "127:\tlearn: 0.2392426\ttotal: 3.53s\tremaining: 24s\n",
      "128:\tlearn: 0.2391856\ttotal: 3.55s\tremaining: 23.9s\n",
      "129:\tlearn: 0.2391142\ttotal: 3.56s\tremaining: 23.8s\n",
      "130:\tlearn: 0.2390097\ttotal: 3.58s\tremaining: 23.8s\n",
      "131:\tlearn: 0.2389120\ttotal: 3.62s\tremaining: 23.8s\n",
      "132:\tlearn: 0.2388020\ttotal: 3.65s\tremaining: 23.8s\n",
      "133:\tlearn: 0.2387344\ttotal: 3.66s\tremaining: 23.7s\n",
      "134:\tlearn: 0.2386754\ttotal: 3.68s\tremaining: 23.6s\n",
      "135:\tlearn: 0.2386231\ttotal: 3.7s\tremaining: 23.5s\n",
      "136:\tlearn: 0.2385591\ttotal: 3.71s\tremaining: 23.4s\n",
      "137:\tlearn: 0.2384654\ttotal: 3.73s\tremaining: 23.3s\n",
      "138:\tlearn: 0.2383896\ttotal: 3.75s\tremaining: 23.2s\n",
      "139:\tlearn: 0.2383501\ttotal: 3.77s\tremaining: 23.1s\n",
      "140:\tlearn: 0.2383114\ttotal: 3.79s\tremaining: 23.1s\n",
      "141:\tlearn: 0.2382148\ttotal: 3.81s\tremaining: 23s\n",
      "142:\tlearn: 0.2381256\ttotal: 3.85s\tremaining: 23.1s\n",
      "143:\tlearn: 0.2380447\ttotal: 3.87s\tremaining: 23s\n",
      "144:\tlearn: 0.2379566\ttotal: 3.88s\tremaining: 22.9s\n",
      "145:\tlearn: 0.2379086\ttotal: 3.9s\tremaining: 22.8s\n",
      "146:\tlearn: 0.2378661\ttotal: 3.92s\tremaining: 22.8s\n",
      "147:\tlearn: 0.2378205\ttotal: 3.94s\tremaining: 22.7s\n",
      "148:\tlearn: 0.2377617\ttotal: 3.96s\tremaining: 22.6s\n",
      "149:\tlearn: 0.2377041\ttotal: 3.97s\tremaining: 22.5s\n",
      "150:\tlearn: 0.2376692\ttotal: 3.99s\tremaining: 22.4s\n",
      "151:\tlearn: 0.2375962\ttotal: 4.01s\tremaining: 22.4s\n",
      "152:\tlearn: 0.2375405\ttotal: 4.04s\tremaining: 22.4s\n",
      "153:\tlearn: 0.2374417\ttotal: 4.06s\tremaining: 22.3s\n",
      "154:\tlearn: 0.2373373\ttotal: 4.07s\tremaining: 22.2s\n",
      "155:\tlearn: 0.2373063\ttotal: 4.08s\tremaining: 22.1s\n",
      "156:\tlearn: 0.2372593\ttotal: 4.1s\tremaining: 22s\n",
      "157:\tlearn: 0.2371922\ttotal: 4.11s\tremaining: 21.9s\n",
      "158:\tlearn: 0.2371667\ttotal: 4.13s\tremaining: 21.8s\n",
      "159:\tlearn: 0.2371495\ttotal: 4.14s\tremaining: 21.7s\n",
      "160:\tlearn: 0.2370842\ttotal: 4.15s\tremaining: 21.6s\n",
      "161:\tlearn: 0.2370477\ttotal: 4.17s\tremaining: 21.6s\n",
      "162:\tlearn: 0.2369751\ttotal: 4.18s\tremaining: 21.5s\n"
     ]
    },
    {
     "name": "stdout",
     "output_type": "stream",
     "text": [
      "163:\tlearn: 0.2369233\ttotal: 4.2s\tremaining: 21.4s\n",
      "164:\tlearn: 0.2368463\ttotal: 4.23s\tremaining: 21.4s\n",
      "165:\tlearn: 0.2367833\ttotal: 4.25s\tremaining: 21.4s\n",
      "166:\tlearn: 0.2367339\ttotal: 4.27s\tremaining: 21.3s\n",
      "167:\tlearn: 0.2366841\ttotal: 4.28s\tremaining: 21.2s\n",
      "168:\tlearn: 0.2366062\ttotal: 4.3s\tremaining: 21.1s\n",
      "169:\tlearn: 0.2365562\ttotal: 4.31s\tremaining: 21.1s\n",
      "170:\tlearn: 0.2365260\ttotal: 4.33s\tremaining: 21s\n",
      "171:\tlearn: 0.2364635\ttotal: 4.34s\tremaining: 20.9s\n",
      "172:\tlearn: 0.2364040\ttotal: 4.35s\tremaining: 20.8s\n",
      "173:\tlearn: 0.2363358\ttotal: 4.37s\tremaining: 20.7s\n",
      "174:\tlearn: 0.2362995\ttotal: 4.38s\tremaining: 20.6s\n",
      "175:\tlearn: 0.2362466\ttotal: 4.39s\tremaining: 20.6s\n",
      "176:\tlearn: 0.2361534\ttotal: 4.42s\tremaining: 20.6s\n",
      "177:\tlearn: 0.2361076\ttotal: 4.45s\tremaining: 20.5s\n",
      "178:\tlearn: 0.2360541\ttotal: 4.46s\tremaining: 20.5s\n",
      "179:\tlearn: 0.2360312\ttotal: 4.47s\tremaining: 20.4s\n",
      "180:\tlearn: 0.2359840\ttotal: 4.48s\tremaining: 20.3s\n",
      "181:\tlearn: 0.2359504\ttotal: 4.5s\tremaining: 20.2s\n",
      "182:\tlearn: 0.2358985\ttotal: 4.51s\tremaining: 20.1s\n",
      "183:\tlearn: 0.2358245\ttotal: 4.53s\tremaining: 20.1s\n",
      "184:\tlearn: 0.2357726\ttotal: 4.54s\tremaining: 20s\n",
      "185:\tlearn: 0.2357194\ttotal: 4.55s\tremaining: 19.9s\n",
      "186:\tlearn: 0.2356530\ttotal: 4.57s\tremaining: 19.9s\n",
      "187:\tlearn: 0.2355903\ttotal: 4.58s\tremaining: 19.8s\n",
      "188:\tlearn: 0.2355496\ttotal: 4.59s\tremaining: 19.7s\n",
      "189:\tlearn: 0.2355405\ttotal: 4.61s\tremaining: 19.7s\n",
      "190:\tlearn: 0.2354907\ttotal: 4.64s\tremaining: 19.6s\n",
      "191:\tlearn: 0.2354262\ttotal: 4.67s\tremaining: 19.7s\n",
      "192:\tlearn: 0.2353881\ttotal: 4.69s\tremaining: 19.6s\n",
      "193:\tlearn: 0.2353355\ttotal: 4.71s\tremaining: 19.6s\n",
      "194:\tlearn: 0.2352992\ttotal: 4.73s\tremaining: 19.5s\n",
      "195:\tlearn: 0.2351985\ttotal: 4.74s\tremaining: 19.5s\n",
      "196:\tlearn: 0.2351291\ttotal: 4.76s\tremaining: 19.4s\n",
      "197:\tlearn: 0.2350961\ttotal: 4.78s\tremaining: 19.3s\n",
      "198:\tlearn: 0.2350526\ttotal: 4.79s\tremaining: 19.3s\n",
      "199:\tlearn: 0.2350022\ttotal: 4.81s\tremaining: 19.2s\n",
      "200:\tlearn: 0.2349405\ttotal: 4.82s\tremaining: 19.2s\n",
      "201:\tlearn: 0.2348838\ttotal: 4.84s\tremaining: 19.1s\n",
      "202:\tlearn: 0.2348261\ttotal: 4.86s\tremaining: 19.1s\n",
      "203:\tlearn: 0.2347863\ttotal: 4.88s\tremaining: 19.1s\n",
      "204:\tlearn: 0.2347601\ttotal: 4.9s\tremaining: 19s\n",
      "205:\tlearn: 0.2346940\ttotal: 4.92s\tremaining: 19s\n",
      "206:\tlearn: 0.2346376\ttotal: 4.93s\tremaining: 18.9s\n",
      "207:\tlearn: 0.2346032\ttotal: 4.95s\tremaining: 18.8s\n",
      "208:\tlearn: 0.2345195\ttotal: 4.96s\tremaining: 18.8s\n",
      "209:\tlearn: 0.2344113\ttotal: 4.97s\tremaining: 18.7s\n",
      "210:\tlearn: 0.2343441\ttotal: 4.99s\tremaining: 18.7s\n",
      "211:\tlearn: 0.2343186\ttotal: 5s\tremaining: 18.6s\n",
      "212:\tlearn: 0.2342465\ttotal: 5.02s\tremaining: 18.5s\n",
      "213:\tlearn: 0.2342275\ttotal: 5.03s\tremaining: 18.5s\n",
      "214:\tlearn: 0.2341679\ttotal: 5.05s\tremaining: 18.4s\n",
      "215:\tlearn: 0.2341272\ttotal: 5.07s\tremaining: 18.4s\n",
      "216:\tlearn: 0.2341068\ttotal: 5.09s\tremaining: 18.4s\n",
      "217:\tlearn: 0.2340461\ttotal: 5.11s\tremaining: 18.3s\n",
      "218:\tlearn: 0.2340102\ttotal: 5.12s\tremaining: 18.3s\n",
      "219:\tlearn: 0.2339506\ttotal: 5.13s\tremaining: 18.2s\n",
      "220:\tlearn: 0.2338875\ttotal: 5.15s\tremaining: 18.2s\n",
      "221:\tlearn: 0.2338381\ttotal: 5.16s\tremaining: 18.1s\n",
      "222:\tlearn: 0.2338041\ttotal: 5.18s\tremaining: 18s\n",
      "223:\tlearn: 0.2337337\ttotal: 5.19s\tremaining: 18s\n",
      "224:\tlearn: 0.2336865\ttotal: 5.21s\tremaining: 17.9s\n",
      "225:\tlearn: 0.2336235\ttotal: 5.22s\tremaining: 17.9s\n",
      "226:\tlearn: 0.2335699\ttotal: 5.23s\tremaining: 17.8s\n",
      "227:\tlearn: 0.2335350\ttotal: 5.25s\tremaining: 17.8s\n",
      "228:\tlearn: 0.2334650\ttotal: 5.27s\tremaining: 17.8s\n",
      "229:\tlearn: 0.2333774\ttotal: 5.3s\tremaining: 17.7s\n",
      "230:\tlearn: 0.2333192\ttotal: 5.31s\tremaining: 17.7s\n",
      "231:\tlearn: 0.2332810\ttotal: 5.33s\tremaining: 17.6s\n",
      "232:\tlearn: 0.2332279\ttotal: 5.34s\tremaining: 17.6s\n",
      "233:\tlearn: 0.2331674\ttotal: 5.36s\tremaining: 17.5s\n",
      "234:\tlearn: 0.2331119\ttotal: 5.37s\tremaining: 17.5s\n",
      "235:\tlearn: 0.2330330\ttotal: 5.38s\tremaining: 17.4s\n",
      "236:\tlearn: 0.2329832\ttotal: 5.39s\tremaining: 17.4s\n",
      "237:\tlearn: 0.2329310\ttotal: 5.41s\tremaining: 17.3s\n",
      "238:\tlearn: 0.2328912\ttotal: 5.42s\tremaining: 17.3s\n",
      "239:\tlearn: 0.2328419\ttotal: 5.44s\tremaining: 17.2s\n",
      "240:\tlearn: 0.2328182\ttotal: 5.45s\tremaining: 17.2s\n",
      "241:\tlearn: 0.2327629\ttotal: 5.46s\tremaining: 17.1s\n",
      "242:\tlearn: 0.2327216\ttotal: 5.49s\tremaining: 17.1s\n",
      "243:\tlearn: 0.2326564\ttotal: 5.51s\tremaining: 17.1s\n",
      "244:\tlearn: 0.2326055\ttotal: 5.53s\tremaining: 17s\n",
      "245:\tlearn: 0.2325808\ttotal: 5.55s\tremaining: 17s\n",
      "246:\tlearn: 0.2325328\ttotal: 5.57s\tremaining: 17s\n",
      "247:\tlearn: 0.2324800\ttotal: 5.58s\tremaining: 16.9s\n",
      "248:\tlearn: 0.2324256\ttotal: 5.6s\tremaining: 16.9s\n",
      "249:\tlearn: 0.2323595\ttotal: 5.62s\tremaining: 16.9s\n",
      "250:\tlearn: 0.2323164\ttotal: 5.64s\tremaining: 16.8s\n",
      "251:\tlearn: 0.2322629\ttotal: 5.66s\tremaining: 16.8s\n",
      "252:\tlearn: 0.2322126\ttotal: 5.68s\tremaining: 16.8s\n",
      "253:\tlearn: 0.2321597\ttotal: 5.7s\tremaining: 16.7s\n",
      "254:\tlearn: 0.2321157\ttotal: 5.73s\tremaining: 16.7s\n",
      "255:\tlearn: 0.2320697\ttotal: 5.75s\tremaining: 16.7s\n",
      "256:\tlearn: 0.2320405\ttotal: 5.77s\tremaining: 16.7s\n",
      "257:\tlearn: 0.2319856\ttotal: 5.78s\tremaining: 16.6s\n",
      "258:\tlearn: 0.2319485\ttotal: 5.79s\tremaining: 16.6s\n",
      "259:\tlearn: 0.2319024\ttotal: 5.81s\tremaining: 16.5s\n",
      "260:\tlearn: 0.2318768\ttotal: 5.82s\tremaining: 16.5s\n",
      "261:\tlearn: 0.2318339\ttotal: 5.83s\tremaining: 16.4s\n",
      "262:\tlearn: 0.2317704\ttotal: 5.85s\tremaining: 16.4s\n",
      "263:\tlearn: 0.2317389\ttotal: 5.86s\tremaining: 16.3s\n",
      "264:\tlearn: 0.2317264\ttotal: 5.87s\tremaining: 16.3s\n",
      "265:\tlearn: 0.2316835\ttotal: 5.89s\tremaining: 16.2s\n",
      "266:\tlearn: 0.2316302\ttotal: 5.91s\tremaining: 16.2s\n",
      "267:\tlearn: 0.2315650\ttotal: 5.93s\tremaining: 16.2s\n",
      "268:\tlearn: 0.2315179\ttotal: 5.95s\tremaining: 16.2s\n",
      "269:\tlearn: 0.2314832\ttotal: 5.97s\tremaining: 16.1s\n",
      "270:\tlearn: 0.2314309\ttotal: 5.98s\tremaining: 16.1s\n",
      "271:\tlearn: 0.2313795\ttotal: 5.99s\tremaining: 16s\n",
      "272:\tlearn: 0.2313162\ttotal: 6.01s\tremaining: 16s\n",
      "273:\tlearn: 0.2312801\ttotal: 6.02s\tremaining: 16s\n",
      "274:\tlearn: 0.2312417\ttotal: 6.05s\tremaining: 15.9s\n",
      "275:\tlearn: 0.2311949\ttotal: 6.09s\tremaining: 16s\n",
      "276:\tlearn: 0.2311509\ttotal: 6.14s\tremaining: 16s\n",
      "277:\tlearn: 0.2310945\ttotal: 6.25s\tremaining: 16.2s\n",
      "278:\tlearn: 0.2310685\ttotal: 6.29s\tremaining: 16.3s\n",
      "279:\tlearn: 0.2310292\ttotal: 6.32s\tremaining: 16.2s\n",
      "280:\tlearn: 0.2310000\ttotal: 6.34s\tremaining: 16.2s\n",
      "281:\tlearn: 0.2309820\ttotal: 6.36s\tremaining: 16.2s\n",
      "282:\tlearn: 0.2309474\ttotal: 6.38s\tremaining: 16.2s\n",
      "283:\tlearn: 0.2308963\ttotal: 6.4s\tremaining: 16.1s\n",
      "284:\tlearn: 0.2308453\ttotal: 6.42s\tremaining: 16.1s\n",
      "285:\tlearn: 0.2307864\ttotal: 6.43s\tremaining: 16.1s\n",
      "286:\tlearn: 0.2307309\ttotal: 6.45s\tremaining: 16s\n",
      "287:\tlearn: 0.2306773\ttotal: 6.46s\tremaining: 16s\n",
      "288:\tlearn: 0.2306401\ttotal: 6.48s\tremaining: 15.9s\n",
      "289:\tlearn: 0.2305611\ttotal: 6.49s\tremaining: 15.9s\n",
      "290:\tlearn: 0.2305179\ttotal: 6.51s\tremaining: 15.9s\n",
      "291:\tlearn: 0.2304620\ttotal: 6.56s\tremaining: 15.9s\n",
      "292:\tlearn: 0.2304271\ttotal: 6.67s\tremaining: 16.1s\n",
      "293:\tlearn: 0.2303625\ttotal: 6.7s\tremaining: 16.1s\n",
      "294:\tlearn: 0.2303085\ttotal: 6.74s\tremaining: 16.1s\n",
      "295:\tlearn: 0.2302549\ttotal: 6.77s\tremaining: 16.1s\n",
      "296:\tlearn: 0.2302059\ttotal: 6.79s\tremaining: 16.1s\n",
      "297:\tlearn: 0.2301612\ttotal: 6.82s\tremaining: 16.1s\n",
      "298:\tlearn: 0.2301333\ttotal: 6.84s\tremaining: 16s\n",
      "299:\tlearn: 0.2300774\ttotal: 6.86s\tremaining: 16s\n",
      "300:\tlearn: 0.2300332\ttotal: 6.87s\tremaining: 16s\n",
      "301:\tlearn: 0.2299937\ttotal: 6.88s\tremaining: 15.9s\n",
      "302:\tlearn: 0.2299713\ttotal: 6.9s\tremaining: 15.9s\n",
      "303:\tlearn: 0.2299035\ttotal: 6.92s\tremaining: 15.8s\n",
      "304:\tlearn: 0.2298525\ttotal: 6.93s\tremaining: 15.8s\n",
      "305:\tlearn: 0.2297918\ttotal: 6.94s\tremaining: 15.7s\n",
      "306:\tlearn: 0.2297395\ttotal: 6.96s\tremaining: 15.7s\n",
      "307:\tlearn: 0.2296973\ttotal: 7.01s\tremaining: 15.8s\n",
      "308:\tlearn: 0.2296562\ttotal: 7.07s\tremaining: 15.8s\n",
      "309:\tlearn: 0.2296036\ttotal: 7.13s\tremaining: 15.9s\n",
      "310:\tlearn: 0.2295604\ttotal: 7.16s\tremaining: 15.9s\n",
      "311:\tlearn: 0.2295030\ttotal: 7.19s\tremaining: 15.9s\n",
      "312:\tlearn: 0.2294499\ttotal: 7.22s\tremaining: 15.8s\n",
      "313:\tlearn: 0.2293720\ttotal: 7.24s\tremaining: 15.8s\n",
      "314:\tlearn: 0.2293291\ttotal: 7.3s\tremaining: 15.9s\n",
      "315:\tlearn: 0.2293001\ttotal: 7.32s\tremaining: 15.8s\n",
      "316:\tlearn: 0.2292553\ttotal: 7.4s\tremaining: 15.9s\n",
      "317:\tlearn: 0.2292182\ttotal: 7.48s\tremaining: 16s\n",
      "318:\tlearn: 0.2291698\ttotal: 7.53s\tremaining: 16.1s\n",
      "319:\tlearn: 0.2291359\ttotal: 7.56s\tremaining: 16.1s\n",
      "320:\tlearn: 0.2291038\ttotal: 7.62s\tremaining: 16.1s\n",
      "321:\tlearn: 0.2290733\ttotal: 7.66s\tremaining: 16.1s\n",
      "322:\tlearn: 0.2290445\ttotal: 7.69s\tremaining: 16.1s\n",
      "323:\tlearn: 0.2289994\ttotal: 7.71s\tremaining: 16.1s\n",
      "324:\tlearn: 0.2289361\ttotal: 7.73s\tremaining: 16s\n",
      "325:\tlearn: 0.2288836\ttotal: 7.74s\tremaining: 16s\n",
      "326:\tlearn: 0.2288267\ttotal: 7.76s\tremaining: 16s\n",
      "327:\tlearn: 0.2287933\ttotal: 7.78s\tremaining: 15.9s\n",
      "328:\tlearn: 0.2287548\ttotal: 7.79s\tremaining: 15.9s\n",
      "329:\tlearn: 0.2287238\ttotal: 7.82s\tremaining: 15.9s\n"
     ]
    },
    {
     "name": "stdout",
     "output_type": "stream",
     "text": [
      "330:\tlearn: 0.2286840\ttotal: 7.85s\tremaining: 15.9s\n",
      "331:\tlearn: 0.2286448\ttotal: 7.88s\tremaining: 15.9s\n",
      "332:\tlearn: 0.2285955\ttotal: 7.92s\tremaining: 15.9s\n",
      "333:\tlearn: 0.2285497\ttotal: 7.94s\tremaining: 15.8s\n",
      "334:\tlearn: 0.2285270\ttotal: 7.96s\tremaining: 15.8s\n",
      "335:\tlearn: 0.2284940\ttotal: 7.98s\tremaining: 15.8s\n",
      "336:\tlearn: 0.2284588\ttotal: 8s\tremaining: 15.7s\n",
      "337:\tlearn: 0.2284156\ttotal: 8.02s\tremaining: 15.7s\n",
      "338:\tlearn: 0.2283807\ttotal: 8.04s\tremaining: 15.7s\n",
      "339:\tlearn: 0.2283333\ttotal: 8.06s\tremaining: 15.6s\n",
      "340:\tlearn: 0.2283030\ttotal: 8.08s\tremaining: 15.6s\n",
      "341:\tlearn: 0.2282770\ttotal: 8.1s\tremaining: 15.6s\n",
      "342:\tlearn: 0.2282459\ttotal: 8.13s\tremaining: 15.6s\n",
      "343:\tlearn: 0.2282063\ttotal: 8.14s\tremaining: 15.5s\n",
      "344:\tlearn: 0.2281693\ttotal: 8.15s\tremaining: 15.5s\n",
      "345:\tlearn: 0.2281305\ttotal: 8.17s\tremaining: 15.4s\n",
      "346:\tlearn: 0.2280900\ttotal: 8.19s\tremaining: 15.4s\n",
      "347:\tlearn: 0.2280626\ttotal: 8.21s\tremaining: 15.4s\n",
      "348:\tlearn: 0.2280229\ttotal: 8.24s\tremaining: 15.4s\n",
      "349:\tlearn: 0.2279780\ttotal: 8.27s\tremaining: 15.4s\n",
      "350:\tlearn: 0.2279390\ttotal: 8.31s\tremaining: 15.4s\n",
      "351:\tlearn: 0.2279006\ttotal: 8.34s\tremaining: 15.4s\n",
      "352:\tlearn: 0.2278514\ttotal: 8.37s\tremaining: 15.3s\n",
      "353:\tlearn: 0.2278196\ttotal: 8.41s\tremaining: 15.4s\n",
      "354:\tlearn: 0.2277762\ttotal: 8.45s\tremaining: 15.3s\n",
      "355:\tlearn: 0.2277309\ttotal: 8.48s\tremaining: 15.3s\n",
      "356:\tlearn: 0.2277103\ttotal: 8.5s\tremaining: 15.3s\n",
      "357:\tlearn: 0.2276778\ttotal: 8.52s\tremaining: 15.3s\n",
      "358:\tlearn: 0.2276231\ttotal: 8.54s\tremaining: 15.2s\n",
      "359:\tlearn: 0.2275769\ttotal: 8.55s\tremaining: 15.2s\n",
      "360:\tlearn: 0.2275330\ttotal: 8.57s\tremaining: 15.2s\n",
      "361:\tlearn: 0.2275102\ttotal: 8.58s\tremaining: 15.1s\n",
      "362:\tlearn: 0.2274824\ttotal: 8.6s\tremaining: 15.1s\n",
      "363:\tlearn: 0.2274431\ttotal: 8.61s\tremaining: 15s\n",
      "364:\tlearn: 0.2273979\ttotal: 8.63s\tremaining: 15s\n",
      "365:\tlearn: 0.2273502\ttotal: 8.64s\tremaining: 15s\n",
      "366:\tlearn: 0.2273177\ttotal: 8.66s\tremaining: 14.9s\n",
      "367:\tlearn: 0.2272709\ttotal: 8.67s\tremaining: 14.9s\n",
      "368:\tlearn: 0.2272361\ttotal: 8.69s\tremaining: 14.9s\n",
      "369:\tlearn: 0.2272161\ttotal: 8.72s\tremaining: 14.8s\n",
      "370:\tlearn: 0.2271827\ttotal: 8.73s\tremaining: 14.8s\n",
      "371:\tlearn: 0.2271462\ttotal: 8.75s\tremaining: 14.8s\n",
      "372:\tlearn: 0.2271166\ttotal: 8.76s\tremaining: 14.7s\n",
      "373:\tlearn: 0.2270929\ttotal: 8.78s\tremaining: 14.7s\n",
      "374:\tlearn: 0.2270715\ttotal: 8.79s\tremaining: 14.7s\n",
      "375:\tlearn: 0.2270397\ttotal: 8.81s\tremaining: 14.6s\n",
      "376:\tlearn: 0.2270094\ttotal: 8.82s\tremaining: 14.6s\n",
      "377:\tlearn: 0.2269835\ttotal: 8.84s\tremaining: 14.5s\n",
      "378:\tlearn: 0.2269499\ttotal: 8.85s\tremaining: 14.5s\n",
      "379:\tlearn: 0.2269113\ttotal: 8.87s\tremaining: 14.5s\n",
      "380:\tlearn: 0.2268744\ttotal: 8.89s\tremaining: 14.4s\n",
      "381:\tlearn: 0.2268534\ttotal: 8.92s\tremaining: 14.4s\n",
      "382:\tlearn: 0.2267980\ttotal: 8.94s\tremaining: 14.4s\n",
      "383:\tlearn: 0.2267663\ttotal: 8.96s\tremaining: 14.4s\n",
      "384:\tlearn: 0.2267410\ttotal: 8.99s\tremaining: 14.4s\n",
      "385:\tlearn: 0.2267072\ttotal: 9s\tremaining: 14.3s\n",
      "386:\tlearn: 0.2266583\ttotal: 9.02s\tremaining: 14.3s\n",
      "387:\tlearn: 0.2266369\ttotal: 9.04s\tremaining: 14.3s\n",
      "388:\tlearn: 0.2266054\ttotal: 9.05s\tremaining: 14.2s\n",
      "389:\tlearn: 0.2265767\ttotal: 9.07s\tremaining: 14.2s\n",
      "390:\tlearn: 0.2265535\ttotal: 9.09s\tremaining: 14.2s\n",
      "391:\tlearn: 0.2265337\ttotal: 9.1s\tremaining: 14.1s\n",
      "392:\tlearn: 0.2264867\ttotal: 9.13s\tremaining: 14.1s\n",
      "393:\tlearn: 0.2264442\ttotal: 9.15s\tremaining: 14.1s\n",
      "394:\tlearn: 0.2263991\ttotal: 9.16s\tremaining: 14s\n",
      "395:\tlearn: 0.2263678\ttotal: 9.18s\tremaining: 14s\n",
      "396:\tlearn: 0.2263162\ttotal: 9.2s\tremaining: 14s\n",
      "397:\tlearn: 0.2262958\ttotal: 9.21s\tremaining: 13.9s\n",
      "398:\tlearn: 0.2262495\ttotal: 9.23s\tremaining: 13.9s\n",
      "399:\tlearn: 0.2262255\ttotal: 9.24s\tremaining: 13.9s\n",
      "400:\tlearn: 0.2262057\ttotal: 9.27s\tremaining: 13.8s\n",
      "401:\tlearn: 0.2261564\ttotal: 9.29s\tremaining: 13.8s\n",
      "402:\tlearn: 0.2261186\ttotal: 9.32s\tremaining: 13.8s\n",
      "403:\tlearn: 0.2260902\ttotal: 9.35s\tremaining: 13.8s\n",
      "404:\tlearn: 0.2260600\ttotal: 9.38s\tremaining: 13.8s\n",
      "405:\tlearn: 0.2260340\ttotal: 9.45s\tremaining: 13.8s\n",
      "406:\tlearn: 0.2259912\ttotal: 9.47s\tremaining: 13.8s\n",
      "407:\tlearn: 0.2259580\ttotal: 9.48s\tremaining: 13.8s\n",
      "408:\tlearn: 0.2259267\ttotal: 9.5s\tremaining: 13.7s\n",
      "409:\tlearn: 0.2258786\ttotal: 9.51s\tremaining: 13.7s\n",
      "410:\tlearn: 0.2258415\ttotal: 9.52s\tremaining: 13.6s\n",
      "411:\tlearn: 0.2257920\ttotal: 9.54s\tremaining: 13.6s\n",
      "412:\tlearn: 0.2257381\ttotal: 9.56s\tremaining: 13.6s\n",
      "413:\tlearn: 0.2257192\ttotal: 9.59s\tremaining: 13.6s\n",
      "414:\tlearn: 0.2256820\ttotal: 9.62s\tremaining: 13.6s\n",
      "415:\tlearn: 0.2256582\ttotal: 9.64s\tremaining: 13.5s\n",
      "416:\tlearn: 0.2256280\ttotal: 9.67s\tremaining: 13.5s\n",
      "417:\tlearn: 0.2256003\ttotal: 9.68s\tremaining: 13.5s\n",
      "418:\tlearn: 0.2255477\ttotal: 9.7s\tremaining: 13.4s\n",
      "419:\tlearn: 0.2255109\ttotal: 9.71s\tremaining: 13.4s\n",
      "420:\tlearn: 0.2254669\ttotal: 9.73s\tremaining: 13.4s\n",
      "421:\tlearn: 0.2254212\ttotal: 9.74s\tremaining: 13.3s\n",
      "422:\tlearn: 0.2253745\ttotal: 9.76s\tremaining: 13.3s\n",
      "423:\tlearn: 0.2253364\ttotal: 9.78s\tremaining: 13.3s\n",
      "424:\tlearn: 0.2253129\ttotal: 9.8s\tremaining: 13.3s\n",
      "425:\tlearn: 0.2252672\ttotal: 9.82s\tremaining: 13.2s\n",
      "426:\tlearn: 0.2252288\ttotal: 9.84s\tremaining: 13.2s\n",
      "427:\tlearn: 0.2252032\ttotal: 9.85s\tremaining: 13.2s\n",
      "428:\tlearn: 0.2251696\ttotal: 9.88s\tremaining: 13.1s\n",
      "429:\tlearn: 0.2251485\ttotal: 9.9s\tremaining: 13.1s\n",
      "430:\tlearn: 0.2251089\ttotal: 9.93s\tremaining: 13.1s\n",
      "431:\tlearn: 0.2250691\ttotal: 9.95s\tremaining: 13.1s\n",
      "432:\tlearn: 0.2250470\ttotal: 9.96s\tremaining: 13s\n",
      "433:\tlearn: 0.2250280\ttotal: 9.98s\tremaining: 13s\n",
      "434:\tlearn: 0.2249977\ttotal: 10s\tremaining: 13s\n",
      "435:\tlearn: 0.2249654\ttotal: 10s\tremaining: 13s\n",
      "436:\tlearn: 0.2249215\ttotal: 10s\tremaining: 12.9s\n",
      "437:\tlearn: 0.2249040\ttotal: 10.1s\tremaining: 12.9s\n",
      "438:\tlearn: 0.2248747\ttotal: 10.1s\tremaining: 12.9s\n",
      "439:\tlearn: 0.2248255\ttotal: 10.1s\tremaining: 12.8s\n",
      "440:\tlearn: 0.2247861\ttotal: 10.1s\tremaining: 12.8s\n",
      "441:\tlearn: 0.2247597\ttotal: 10.1s\tremaining: 12.8s\n",
      "442:\tlearn: 0.2247174\ttotal: 10.1s\tremaining: 12.7s\n",
      "443:\tlearn: 0.2246714\ttotal: 10.1s\tremaining: 12.7s\n",
      "444:\tlearn: 0.2246293\ttotal: 10.2s\tremaining: 12.7s\n",
      "445:\tlearn: 0.2245975\ttotal: 10.2s\tremaining: 12.6s\n",
      "446:\tlearn: 0.2245653\ttotal: 10.2s\tremaining: 12.6s\n",
      "447:\tlearn: 0.2245372\ttotal: 10.2s\tremaining: 12.6s\n",
      "448:\tlearn: 0.2245196\ttotal: 10.2s\tremaining: 12.6s\n",
      "449:\tlearn: 0.2244975\ttotal: 10.3s\tremaining: 12.5s\n",
      "450:\tlearn: 0.2244579\ttotal: 10.3s\tremaining: 12.5s\n",
      "451:\tlearn: 0.2244313\ttotal: 10.3s\tremaining: 12.5s\n",
      "452:\tlearn: 0.2244007\ttotal: 10.3s\tremaining: 12.4s\n",
      "453:\tlearn: 0.2243733\ttotal: 10.3s\tremaining: 12.4s\n",
      "454:\tlearn: 0.2243372\ttotal: 10.3s\tremaining: 12.4s\n",
      "455:\tlearn: 0.2242969\ttotal: 10.3s\tremaining: 12.3s\n",
      "456:\tlearn: 0.2242738\ttotal: 10.4s\tremaining: 12.3s\n",
      "457:\tlearn: 0.2242245\ttotal: 10.4s\tremaining: 12.3s\n",
      "458:\tlearn: 0.2241947\ttotal: 10.4s\tremaining: 12.3s\n",
      "459:\tlearn: 0.2241583\ttotal: 10.4s\tremaining: 12.2s\n",
      "460:\tlearn: 0.2241281\ttotal: 10.5s\tremaining: 12.2s\n",
      "461:\tlearn: 0.2240894\ttotal: 10.5s\tremaining: 12.2s\n",
      "462:\tlearn: 0.2240469\ttotal: 10.5s\tremaining: 12.2s\n",
      "463:\tlearn: 0.2240053\ttotal: 10.5s\tremaining: 12.2s\n",
      "464:\tlearn: 0.2239631\ttotal: 10.5s\tremaining: 12.1s\n",
      "465:\tlearn: 0.2239149\ttotal: 10.6s\tremaining: 12.1s\n",
      "466:\tlearn: 0.2238855\ttotal: 10.6s\tremaining: 12.1s\n",
      "467:\tlearn: 0.2238608\ttotal: 10.6s\tremaining: 12.1s\n",
      "468:\tlearn: 0.2238357\ttotal: 10.6s\tremaining: 12s\n",
      "469:\tlearn: 0.2237873\ttotal: 10.6s\tremaining: 12s\n",
      "470:\tlearn: 0.2237647\ttotal: 10.7s\tremaining: 12s\n",
      "471:\tlearn: 0.2237204\ttotal: 10.7s\tremaining: 12s\n",
      "472:\tlearn: 0.2237056\ttotal: 10.7s\tremaining: 12s\n",
      "473:\tlearn: 0.2236641\ttotal: 10.7s\tremaining: 11.9s\n",
      "474:\tlearn: 0.2236202\ttotal: 10.8s\tremaining: 11.9s\n",
      "475:\tlearn: 0.2235993\ttotal: 10.8s\tremaining: 11.9s\n",
      "476:\tlearn: 0.2235755\ttotal: 10.8s\tremaining: 11.8s\n",
      "477:\tlearn: 0.2235383\ttotal: 10.8s\tremaining: 11.8s\n",
      "478:\tlearn: 0.2234980\ttotal: 10.8s\tremaining: 11.8s\n",
      "479:\tlearn: 0.2234825\ttotal: 10.9s\tremaining: 11.8s\n",
      "480:\tlearn: 0.2234539\ttotal: 10.9s\tremaining: 11.8s\n",
      "481:\tlearn: 0.2234272\ttotal: 10.9s\tremaining: 11.7s\n",
      "482:\tlearn: 0.2233911\ttotal: 10.9s\tremaining: 11.7s\n",
      "483:\tlearn: 0.2233620\ttotal: 11s\tremaining: 11.7s\n",
      "484:\tlearn: 0.2233364\ttotal: 11s\tremaining: 11.7s\n",
      "485:\tlearn: 0.2233159\ttotal: 11s\tremaining: 11.7s\n",
      "486:\tlearn: 0.2232854\ttotal: 11s\tremaining: 11.6s\n",
      "487:\tlearn: 0.2232609\ttotal: 11.1s\tremaining: 11.6s\n",
      "488:\tlearn: 0.2232323\ttotal: 11.1s\tremaining: 11.6s\n",
      "489:\tlearn: 0.2232088\ttotal: 11.1s\tremaining: 11.6s\n",
      "490:\tlearn: 0.2231872\ttotal: 11.1s\tremaining: 11.5s\n",
      "491:\tlearn: 0.2231629\ttotal: 11.1s\tremaining: 11.5s\n",
      "492:\tlearn: 0.2231327\ttotal: 11.2s\tremaining: 11.5s\n",
      "493:\tlearn: 0.2230830\ttotal: 11.2s\tremaining: 11.4s\n",
      "494:\tlearn: 0.2230580\ttotal: 11.2s\tremaining: 11.4s\n",
      "495:\tlearn: 0.2230318\ttotal: 11.2s\tremaining: 11.4s\n",
      "496:\tlearn: 0.2229956\ttotal: 11.2s\tremaining: 11.3s\n",
      "497:\tlearn: 0.2229407\ttotal: 11.2s\tremaining: 11.3s\n"
     ]
    },
    {
     "name": "stdout",
     "output_type": "stream",
     "text": [
      "498:\tlearn: 0.2229145\ttotal: 11.2s\tremaining: 11.3s\n",
      "499:\tlearn: 0.2228815\ttotal: 11.3s\tremaining: 11.3s\n",
      "500:\tlearn: 0.2228469\ttotal: 11.3s\tremaining: 11.3s\n",
      "501:\tlearn: 0.2228128\ttotal: 11.3s\tremaining: 11.2s\n",
      "502:\tlearn: 0.2227730\ttotal: 11.3s\tremaining: 11.2s\n",
      "503:\tlearn: 0.2227470\ttotal: 11.3s\tremaining: 11.2s\n",
      "504:\tlearn: 0.2227266\ttotal: 11.4s\tremaining: 11.1s\n",
      "505:\tlearn: 0.2226987\ttotal: 11.4s\tremaining: 11.1s\n",
      "506:\tlearn: 0.2226644\ttotal: 11.4s\tremaining: 11.1s\n",
      "507:\tlearn: 0.2226317\ttotal: 11.4s\tremaining: 11s\n",
      "508:\tlearn: 0.2225887\ttotal: 11.4s\tremaining: 11s\n",
      "509:\tlearn: 0.2225637\ttotal: 11.4s\tremaining: 11s\n",
      "510:\tlearn: 0.2225400\ttotal: 11.5s\tremaining: 11s\n",
      "511:\tlearn: 0.2225140\ttotal: 11.5s\tremaining: 10.9s\n",
      "512:\tlearn: 0.2224986\ttotal: 11.5s\tremaining: 10.9s\n",
      "513:\tlearn: 0.2224729\ttotal: 11.5s\tremaining: 10.9s\n",
      "514:\tlearn: 0.2224508\ttotal: 11.6s\tremaining: 10.9s\n",
      "515:\tlearn: 0.2224248\ttotal: 11.6s\tremaining: 10.9s\n",
      "516:\tlearn: 0.2223865\ttotal: 11.6s\tremaining: 10.8s\n",
      "517:\tlearn: 0.2223589\ttotal: 11.6s\tremaining: 10.8s\n",
      "518:\tlearn: 0.2223102\ttotal: 11.6s\tremaining: 10.8s\n",
      "519:\tlearn: 0.2222731\ttotal: 11.6s\tremaining: 10.8s\n",
      "520:\tlearn: 0.2222511\ttotal: 11.7s\tremaining: 10.7s\n",
      "521:\tlearn: 0.2222284\ttotal: 11.7s\tremaining: 10.7s\n",
      "522:\tlearn: 0.2222005\ttotal: 11.7s\tremaining: 10.7s\n",
      "523:\tlearn: 0.2221606\ttotal: 11.7s\tremaining: 10.6s\n",
      "524:\tlearn: 0.2221442\ttotal: 11.7s\tremaining: 10.6s\n",
      "525:\tlearn: 0.2221083\ttotal: 11.7s\tremaining: 10.6s\n",
      "526:\tlearn: 0.2220862\ttotal: 11.8s\tremaining: 10.6s\n",
      "527:\tlearn: 0.2220458\ttotal: 11.8s\tremaining: 10.5s\n",
      "528:\tlearn: 0.2220141\ttotal: 11.8s\tremaining: 10.5s\n",
      "529:\tlearn: 0.2219713\ttotal: 11.8s\tremaining: 10.5s\n",
      "530:\tlearn: 0.2219392\ttotal: 11.8s\tremaining: 10.5s\n",
      "531:\tlearn: 0.2219014\ttotal: 11.9s\tremaining: 10.4s\n",
      "532:\tlearn: 0.2218655\ttotal: 11.9s\tremaining: 10.4s\n",
      "533:\tlearn: 0.2218350\ttotal: 11.9s\tremaining: 10.4s\n",
      "534:\tlearn: 0.2217985\ttotal: 11.9s\tremaining: 10.4s\n",
      "535:\tlearn: 0.2217668\ttotal: 12s\tremaining: 10.3s\n",
      "536:\tlearn: 0.2217371\ttotal: 12s\tremaining: 10.3s\n",
      "537:\tlearn: 0.2216972\ttotal: 12s\tremaining: 10.3s\n",
      "538:\tlearn: 0.2216539\ttotal: 12s\tremaining: 10.3s\n",
      "539:\tlearn: 0.2216287\ttotal: 12s\tremaining: 10.2s\n",
      "540:\tlearn: 0.2216136\ttotal: 12s\tremaining: 10.2s\n",
      "541:\tlearn: 0.2215817\ttotal: 12s\tremaining: 10.2s\n",
      "542:\tlearn: 0.2215557\ttotal: 12s\tremaining: 10.1s\n",
      "543:\tlearn: 0.2215367\ttotal: 12.1s\tremaining: 10.1s\n",
      "544:\tlearn: 0.2215061\ttotal: 12.1s\tremaining: 10.1s\n",
      "545:\tlearn: 0.2214786\ttotal: 12.1s\tremaining: 10.1s\n",
      "546:\tlearn: 0.2214554\ttotal: 12.1s\tremaining: 10s\n",
      "547:\tlearn: 0.2214264\ttotal: 12.1s\tremaining: 10s\n",
      "548:\tlearn: 0.2213900\ttotal: 12.2s\tremaining: 9.98s\n",
      "549:\tlearn: 0.2213670\ttotal: 12.2s\tremaining: 9.95s\n",
      "550:\tlearn: 0.2213413\ttotal: 12.2s\tremaining: 9.93s\n",
      "551:\tlearn: 0.2213167\ttotal: 12.2s\tremaining: 9.9s\n",
      "552:\tlearn: 0.2212841\ttotal: 12.2s\tremaining: 9.87s\n",
      "553:\tlearn: 0.2212518\ttotal: 12.2s\tremaining: 9.84s\n",
      "554:\tlearn: 0.2212065\ttotal: 12.2s\tremaining: 9.81s\n",
      "555:\tlearn: 0.2211752\ttotal: 12.3s\tremaining: 9.78s\n",
      "556:\tlearn: 0.2211335\ttotal: 12.3s\tremaining: 9.75s\n",
      "557:\tlearn: 0.2210836\ttotal: 12.3s\tremaining: 9.72s\n",
      "558:\tlearn: 0.2210504\ttotal: 12.3s\tremaining: 9.71s\n",
      "559:\tlearn: 0.2210062\ttotal: 12.3s\tremaining: 9.69s\n",
      "560:\tlearn: 0.2209659\ttotal: 12.4s\tremaining: 9.68s\n",
      "561:\tlearn: 0.2209508\ttotal: 12.4s\tremaining: 9.66s\n",
      "562:\tlearn: 0.2209278\ttotal: 12.4s\tremaining: 9.66s\n",
      "563:\tlearn: 0.2209137\ttotal: 12.5s\tremaining: 9.65s\n",
      "564:\tlearn: 0.2208838\ttotal: 12.5s\tremaining: 9.63s\n",
      "565:\tlearn: 0.2208499\ttotal: 12.5s\tremaining: 9.61s\n",
      "566:\tlearn: 0.2208279\ttotal: 12.6s\tremaining: 9.59s\n",
      "567:\tlearn: 0.2208022\ttotal: 12.6s\tremaining: 9.56s\n",
      "568:\tlearn: 0.2207634\ttotal: 12.6s\tremaining: 9.54s\n",
      "569:\tlearn: 0.2207238\ttotal: 12.6s\tremaining: 9.51s\n",
      "570:\tlearn: 0.2206818\ttotal: 12.6s\tremaining: 9.48s\n",
      "571:\tlearn: 0.2206579\ttotal: 12.6s\tremaining: 9.45s\n",
      "572:\tlearn: 0.2206096\ttotal: 12.6s\tremaining: 9.42s\n",
      "573:\tlearn: 0.2205745\ttotal: 12.7s\tremaining: 9.4s\n",
      "574:\tlearn: 0.2205483\ttotal: 12.7s\tremaining: 9.37s\n",
      "575:\tlearn: 0.2205242\ttotal: 12.7s\tremaining: 9.34s\n",
      "576:\tlearn: 0.2204956\ttotal: 12.7s\tremaining: 9.31s\n",
      "577:\tlearn: 0.2204612\ttotal: 12.7s\tremaining: 9.29s\n",
      "578:\tlearn: 0.2204369\ttotal: 12.7s\tremaining: 9.27s\n",
      "579:\tlearn: 0.2204200\ttotal: 12.8s\tremaining: 9.25s\n",
      "580:\tlearn: 0.2203766\ttotal: 12.8s\tremaining: 9.22s\n",
      "581:\tlearn: 0.2203503\ttotal: 12.8s\tremaining: 9.2s\n",
      "582:\tlearn: 0.2203218\ttotal: 12.8s\tremaining: 9.18s\n",
      "583:\tlearn: 0.2202753\ttotal: 12.8s\tremaining: 9.15s\n",
      "584:\tlearn: 0.2202047\ttotal: 12.9s\tremaining: 9.13s\n",
      "585:\tlearn: 0.2201823\ttotal: 12.9s\tremaining: 9.11s\n",
      "586:\tlearn: 0.2201412\ttotal: 12.9s\tremaining: 9.08s\n",
      "587:\tlearn: 0.2201026\ttotal: 12.9s\tremaining: 9.06s\n",
      "588:\tlearn: 0.2200729\ttotal: 13s\tremaining: 9.04s\n",
      "589:\tlearn: 0.2200569\ttotal: 13s\tremaining: 9.03s\n",
      "590:\tlearn: 0.2200281\ttotal: 13s\tremaining: 9.01s\n",
      "591:\tlearn: 0.2200015\ttotal: 13s\tremaining: 8.98s\n",
      "592:\tlearn: 0.2199804\ttotal: 13.1s\tremaining: 8.96s\n",
      "593:\tlearn: 0.2199558\ttotal: 13.1s\tremaining: 8.93s\n",
      "594:\tlearn: 0.2199431\ttotal: 13.1s\tremaining: 8.91s\n",
      "595:\tlearn: 0.2199063\ttotal: 13.1s\tremaining: 8.88s\n",
      "596:\tlearn: 0.2198741\ttotal: 13.1s\tremaining: 8.86s\n",
      "597:\tlearn: 0.2198573\ttotal: 13.1s\tremaining: 8.84s\n",
      "598:\tlearn: 0.2198285\ttotal: 13.2s\tremaining: 8.82s\n",
      "599:\tlearn: 0.2197959\ttotal: 13.2s\tremaining: 8.8s\n",
      "600:\tlearn: 0.2197584\ttotal: 13.2s\tremaining: 8.78s\n",
      "601:\tlearn: 0.2197359\ttotal: 13.2s\tremaining: 8.76s\n",
      "602:\tlearn: 0.2197234\ttotal: 13.3s\tremaining: 8.73s\n",
      "603:\tlearn: 0.2197039\ttotal: 13.3s\tremaining: 8.71s\n",
      "604:\tlearn: 0.2196874\ttotal: 13.3s\tremaining: 8.68s\n",
      "605:\tlearn: 0.2196670\ttotal: 13.3s\tremaining: 8.66s\n",
      "606:\tlearn: 0.2196403\ttotal: 13.3s\tremaining: 8.63s\n",
      "607:\tlearn: 0.2196250\ttotal: 13.3s\tremaining: 8.61s\n",
      "608:\tlearn: 0.2196012\ttotal: 13.4s\tremaining: 8.59s\n",
      "609:\tlearn: 0.2195824\ttotal: 13.4s\tremaining: 8.57s\n",
      "610:\tlearn: 0.2195620\ttotal: 13.4s\tremaining: 8.55s\n",
      "611:\tlearn: 0.2195388\ttotal: 13.5s\tremaining: 8.53s\n",
      "612:\tlearn: 0.2195132\ttotal: 13.5s\tremaining: 8.51s\n",
      "613:\tlearn: 0.2194916\ttotal: 13.5s\tremaining: 8.5s\n",
      "614:\tlearn: 0.2194568\ttotal: 13.5s\tremaining: 8.47s\n",
      "615:\tlearn: 0.2194246\ttotal: 13.6s\tremaining: 8.46s\n",
      "616:\tlearn: 0.2194096\ttotal: 13.6s\tremaining: 8.44s\n",
      "617:\tlearn: 0.2193816\ttotal: 13.6s\tremaining: 8.42s\n",
      "618:\tlearn: 0.2193523\ttotal: 13.6s\tremaining: 8.39s\n",
      "619:\tlearn: 0.2193259\ttotal: 13.6s\tremaining: 8.36s\n",
      "620:\tlearn: 0.2192999\ttotal: 13.7s\tremaining: 8.34s\n",
      "621:\tlearn: 0.2192615\ttotal: 13.7s\tremaining: 8.31s\n",
      "622:\tlearn: 0.2192181\ttotal: 13.7s\tremaining: 8.28s\n",
      "623:\tlearn: 0.2191885\ttotal: 13.7s\tremaining: 8.26s\n",
      "624:\tlearn: 0.2191561\ttotal: 13.7s\tremaining: 8.23s\n",
      "625:\tlearn: 0.2191271\ttotal: 13.7s\tremaining: 8.2s\n",
      "626:\tlearn: 0.2191062\ttotal: 13.7s\tremaining: 8.18s\n",
      "627:\tlearn: 0.2190742\ttotal: 13.8s\tremaining: 8.15s\n",
      "628:\tlearn: 0.2190431\ttotal: 13.8s\tremaining: 8.13s\n",
      "629:\tlearn: 0.2190164\ttotal: 13.8s\tremaining: 8.12s\n",
      "630:\tlearn: 0.2189655\ttotal: 13.8s\tremaining: 8.1s\n",
      "631:\tlearn: 0.2189360\ttotal: 13.9s\tremaining: 8.08s\n",
      "632:\tlearn: 0.2189141\ttotal: 13.9s\tremaining: 8.06s\n",
      "633:\tlearn: 0.2188885\ttotal: 13.9s\tremaining: 8.04s\n",
      "634:\tlearn: 0.2188587\ttotal: 13.9s\tremaining: 8.01s\n",
      "635:\tlearn: 0.2188358\ttotal: 14s\tremaining: 7.99s\n",
      "636:\tlearn: 0.2188010\ttotal: 14s\tremaining: 7.96s\n",
      "637:\tlearn: 0.2187787\ttotal: 14s\tremaining: 7.94s\n",
      "638:\tlearn: 0.2187525\ttotal: 14s\tremaining: 7.92s\n",
      "639:\tlearn: 0.2187287\ttotal: 14s\tremaining: 7.89s\n",
      "640:\tlearn: 0.2186985\ttotal: 14.1s\tremaining: 7.87s\n",
      "641:\tlearn: 0.2186511\ttotal: 14.1s\tremaining: 7.84s\n",
      "642:\tlearn: 0.2186299\ttotal: 14.1s\tremaining: 7.82s\n",
      "643:\tlearn: 0.2186086\ttotal: 14.1s\tremaining: 7.79s\n",
      "644:\tlearn: 0.2185914\ttotal: 14.1s\tremaining: 7.77s\n",
      "645:\tlearn: 0.2185780\ttotal: 14.1s\tremaining: 7.74s\n",
      "646:\tlearn: 0.2185430\ttotal: 14.1s\tremaining: 7.71s\n",
      "647:\tlearn: 0.2185279\ttotal: 14.2s\tremaining: 7.69s\n",
      "648:\tlearn: 0.2185073\ttotal: 14.2s\tremaining: 7.66s\n",
      "649:\tlearn: 0.2184736\ttotal: 14.2s\tremaining: 7.63s\n",
      "650:\tlearn: 0.2184532\ttotal: 14.2s\tremaining: 7.62s\n",
      "651:\tlearn: 0.2184401\ttotal: 14.2s\tremaining: 7.6s\n",
      "652:\tlearn: 0.2184238\ttotal: 14.2s\tremaining: 7.57s\n",
      "653:\tlearn: 0.2183822\ttotal: 14.3s\tremaining: 7.54s\n",
      "654:\tlearn: 0.2183625\ttotal: 14.3s\tremaining: 7.52s\n",
      "655:\tlearn: 0.2183470\ttotal: 14.3s\tremaining: 7.49s\n",
      "656:\tlearn: 0.2183249\ttotal: 14.3s\tremaining: 7.47s\n",
      "657:\tlearn: 0.2182843\ttotal: 14.3s\tremaining: 7.45s\n",
      "658:\tlearn: 0.2182576\ttotal: 14.4s\tremaining: 7.43s\n",
      "659:\tlearn: 0.2182328\ttotal: 14.4s\tremaining: 7.41s\n",
      "660:\tlearn: 0.2181969\ttotal: 14.4s\tremaining: 7.38s\n"
     ]
    },
    {
     "name": "stdout",
     "output_type": "stream",
     "text": [
      "661:\tlearn: 0.2181677\ttotal: 14.4s\tremaining: 7.35s\n",
      "662:\tlearn: 0.2181422\ttotal: 14.4s\tremaining: 7.33s\n",
      "663:\tlearn: 0.2181264\ttotal: 14.5s\tremaining: 7.31s\n",
      "664:\tlearn: 0.2180978\ttotal: 14.5s\tremaining: 7.29s\n",
      "665:\tlearn: 0.2180754\ttotal: 14.5s\tremaining: 7.26s\n",
      "666:\tlearn: 0.2180456\ttotal: 14.5s\tremaining: 7.24s\n",
      "667:\tlearn: 0.2180155\ttotal: 14.5s\tremaining: 7.21s\n",
      "668:\tlearn: 0.2180032\ttotal: 14.5s\tremaining: 7.19s\n",
      "669:\tlearn: 0.2179815\ttotal: 14.5s\tremaining: 7.16s\n",
      "670:\tlearn: 0.2179529\ttotal: 14.6s\tremaining: 7.14s\n",
      "671:\tlearn: 0.2179165\ttotal: 14.6s\tremaining: 7.11s\n",
      "672:\tlearn: 0.2178789\ttotal: 14.6s\tremaining: 7.09s\n",
      "673:\tlearn: 0.2178616\ttotal: 14.6s\tremaining: 7.06s\n",
      "674:\tlearn: 0.2178468\ttotal: 14.6s\tremaining: 7.04s\n",
      "675:\tlearn: 0.2178262\ttotal: 14.6s\tremaining: 7.02s\n",
      "676:\tlearn: 0.2178057\ttotal: 14.7s\tremaining: 7s\n",
      "677:\tlearn: 0.2177911\ttotal: 14.7s\tremaining: 6.97s\n",
      "678:\tlearn: 0.2177760\ttotal: 14.7s\tremaining: 6.95s\n",
      "679:\tlearn: 0.2177513\ttotal: 14.7s\tremaining: 6.92s\n",
      "680:\tlearn: 0.2177219\ttotal: 14.7s\tremaining: 6.89s\n",
      "681:\tlearn: 0.2176897\ttotal: 14.7s\tremaining: 6.87s\n",
      "682:\tlearn: 0.2176664\ttotal: 14.7s\tremaining: 6.84s\n",
      "683:\tlearn: 0.2176532\ttotal: 14.8s\tremaining: 6.82s\n",
      "684:\tlearn: 0.2176324\ttotal: 14.8s\tremaining: 6.79s\n",
      "685:\tlearn: 0.2176132\ttotal: 14.8s\tremaining: 6.78s\n",
      "686:\tlearn: 0.2175855\ttotal: 14.8s\tremaining: 6.75s\n",
      "687:\tlearn: 0.2175679\ttotal: 14.8s\tremaining: 6.73s\n",
      "688:\tlearn: 0.2175412\ttotal: 14.9s\tremaining: 6.71s\n",
      "689:\tlearn: 0.2175153\ttotal: 14.9s\tremaining: 6.69s\n",
      "690:\tlearn: 0.2174860\ttotal: 14.9s\tremaining: 6.67s\n",
      "691:\tlearn: 0.2174576\ttotal: 14.9s\tremaining: 6.65s\n",
      "692:\tlearn: 0.2174332\ttotal: 15s\tremaining: 6.63s\n",
      "693:\tlearn: 0.2174103\ttotal: 15s\tremaining: 6.6s\n",
      "694:\tlearn: 0.2173881\ttotal: 15s\tremaining: 6.58s\n",
      "695:\tlearn: 0.2173663\ttotal: 15s\tremaining: 6.55s\n",
      "696:\tlearn: 0.2173402\ttotal: 15s\tremaining: 6.53s\n",
      "697:\tlearn: 0.2173215\ttotal: 15s\tremaining: 6.51s\n",
      "698:\tlearn: 0.2173020\ttotal: 15.1s\tremaining: 6.49s\n",
      "699:\tlearn: 0.2172723\ttotal: 15.1s\tremaining: 6.46s\n",
      "700:\tlearn: 0.2172386\ttotal: 15.1s\tremaining: 6.44s\n",
      "701:\tlearn: 0.2172083\ttotal: 15.1s\tremaining: 6.42s\n",
      "702:\tlearn: 0.2171967\ttotal: 15.1s\tremaining: 6.39s\n",
      "703:\tlearn: 0.2171717\ttotal: 15.1s\tremaining: 6.37s\n",
      "704:\tlearn: 0.2171438\ttotal: 15.2s\tremaining: 6.35s\n",
      "705:\tlearn: 0.2171264\ttotal: 15.2s\tremaining: 6.33s\n",
      "706:\tlearn: 0.2171063\ttotal: 15.2s\tremaining: 6.3s\n",
      "707:\tlearn: 0.2170812\ttotal: 15.2s\tremaining: 6.29s\n",
      "708:\tlearn: 0.2170567\ttotal: 15.3s\tremaining: 6.26s\n",
      "709:\tlearn: 0.2170353\ttotal: 15.3s\tremaining: 6.24s\n",
      "710:\tlearn: 0.2170089\ttotal: 15.3s\tremaining: 6.22s\n",
      "711:\tlearn: 0.2169949\ttotal: 15.3s\tremaining: 6.2s\n",
      "712:\tlearn: 0.2169639\ttotal: 15.3s\tremaining: 6.17s\n",
      "713:\tlearn: 0.2169428\ttotal: 15.4s\tremaining: 6.15s\n",
      "714:\tlearn: 0.2169141\ttotal: 15.4s\tremaining: 6.12s\n",
      "715:\tlearn: 0.2168875\ttotal: 15.4s\tremaining: 6.1s\n",
      "716:\tlearn: 0.2168634\ttotal: 15.4s\tremaining: 6.08s\n",
      "717:\tlearn: 0.2168151\ttotal: 15.4s\tremaining: 6.05s\n",
      "718:\tlearn: 0.2167968\ttotal: 15.4s\tremaining: 6.03s\n",
      "719:\tlearn: 0.2167747\ttotal: 15.4s\tremaining: 6s\n",
      "720:\tlearn: 0.2167517\ttotal: 15.5s\tremaining: 5.98s\n",
      "721:\tlearn: 0.2167253\ttotal: 15.5s\tremaining: 5.96s\n",
      "722:\tlearn: 0.2167059\ttotal: 15.5s\tremaining: 5.94s\n",
      "723:\tlearn: 0.2166872\ttotal: 15.5s\tremaining: 5.92s\n",
      "724:\tlearn: 0.2166529\ttotal: 15.5s\tremaining: 5.89s\n",
      "725:\tlearn: 0.2166175\ttotal: 15.6s\tremaining: 5.87s\n",
      "726:\tlearn: 0.2166018\ttotal: 15.6s\tremaining: 5.85s\n",
      "727:\tlearn: 0.2165799\ttotal: 15.6s\tremaining: 5.83s\n",
      "728:\tlearn: 0.2165692\ttotal: 15.6s\tremaining: 5.81s\n",
      "729:\tlearn: 0.2165318\ttotal: 15.6s\tremaining: 5.79s\n",
      "730:\tlearn: 0.2164918\ttotal: 15.7s\tremaining: 5.76s\n",
      "731:\tlearn: 0.2164525\ttotal: 15.7s\tremaining: 5.74s\n",
      "732:\tlearn: 0.2164285\ttotal: 15.7s\tremaining: 5.71s\n",
      "733:\tlearn: 0.2164059\ttotal: 15.7s\tremaining: 5.69s\n",
      "734:\tlearn: 0.2163800\ttotal: 15.7s\tremaining: 5.67s\n",
      "735:\tlearn: 0.2163500\ttotal: 15.8s\tremaining: 5.65s\n",
      "736:\tlearn: 0.2163133\ttotal: 15.8s\tremaining: 5.63s\n",
      "737:\tlearn: 0.2162915\ttotal: 15.8s\tremaining: 5.6s\n",
      "738:\tlearn: 0.2162759\ttotal: 15.8s\tremaining: 5.58s\n",
      "739:\tlearn: 0.2162426\ttotal: 15.8s\tremaining: 5.55s\n",
      "740:\tlearn: 0.2162219\ttotal: 15.8s\tremaining: 5.53s\n",
      "741:\tlearn: 0.2162005\ttotal: 15.8s\tremaining: 5.51s\n",
      "742:\tlearn: 0.2161893\ttotal: 15.9s\tremaining: 5.48s\n",
      "743:\tlearn: 0.2161624\ttotal: 15.9s\tremaining: 5.46s\n",
      "744:\tlearn: 0.2161420\ttotal: 15.9s\tremaining: 5.43s\n",
      "745:\tlearn: 0.2161224\ttotal: 15.9s\tremaining: 5.41s\n",
      "746:\tlearn: 0.2161025\ttotal: 15.9s\tremaining: 5.39s\n",
      "747:\tlearn: 0.2160806\ttotal: 15.9s\tremaining: 5.37s\n",
      "748:\tlearn: 0.2160623\ttotal: 16s\tremaining: 5.35s\n",
      "749:\tlearn: 0.2160409\ttotal: 16s\tremaining: 5.33s\n",
      "750:\tlearn: 0.2160251\ttotal: 16s\tremaining: 5.3s\n",
      "751:\tlearn: 0.2159917\ttotal: 16s\tremaining: 5.28s\n",
      "752:\tlearn: 0.2159577\ttotal: 16s\tremaining: 5.26s\n",
      "753:\tlearn: 0.2159277\ttotal: 16.1s\tremaining: 5.24s\n",
      "754:\tlearn: 0.2159081\ttotal: 16.1s\tremaining: 5.22s\n",
      "755:\tlearn: 0.2158863\ttotal: 16.1s\tremaining: 5.2s\n",
      "756:\tlearn: 0.2158670\ttotal: 16.2s\tremaining: 5.19s\n",
      "757:\tlearn: 0.2158438\ttotal: 16.2s\tremaining: 5.17s\n",
      "758:\tlearn: 0.2158189\ttotal: 16.2s\tremaining: 5.14s\n",
      "759:\tlearn: 0.2158008\ttotal: 16.2s\tremaining: 5.12s\n",
      "760:\tlearn: 0.2157712\ttotal: 16.2s\tremaining: 5.09s\n",
      "761:\tlearn: 0.2157574\ttotal: 16.2s\tremaining: 5.07s\n",
      "762:\tlearn: 0.2157289\ttotal: 16.2s\tremaining: 5.05s\n",
      "763:\tlearn: 0.2157033\ttotal: 16.3s\tremaining: 5.02s\n",
      "764:\tlearn: 0.2156799\ttotal: 16.3s\tremaining: 5s\n",
      "765:\tlearn: 0.2156506\ttotal: 16.3s\tremaining: 4.98s\n",
      "766:\tlearn: 0.2156175\ttotal: 16.3s\tremaining: 4.95s\n",
      "767:\tlearn: 0.2156005\ttotal: 16.3s\tremaining: 4.93s\n",
      "768:\tlearn: 0.2155684\ttotal: 16.3s\tremaining: 4.91s\n",
      "769:\tlearn: 0.2155408\ttotal: 16.4s\tremaining: 4.89s\n",
      "770:\tlearn: 0.2155111\ttotal: 16.4s\tremaining: 4.87s\n",
      "771:\tlearn: 0.2154796\ttotal: 16.4s\tremaining: 4.85s\n",
      "772:\tlearn: 0.2154545\ttotal: 16.4s\tremaining: 4.83s\n",
      "773:\tlearn: 0.2154328\ttotal: 16.5s\tremaining: 4.81s\n",
      "774:\tlearn: 0.2154071\ttotal: 16.5s\tremaining: 4.79s\n",
      "775:\tlearn: 0.2153921\ttotal: 16.5s\tremaining: 4.76s\n",
      "776:\tlearn: 0.2153556\ttotal: 16.5s\tremaining: 4.74s\n",
      "777:\tlearn: 0.2153343\ttotal: 16.5s\tremaining: 4.72s\n",
      "778:\tlearn: 0.2153095\ttotal: 16.6s\tremaining: 4.7s\n",
      "779:\tlearn: 0.2152838\ttotal: 16.6s\tremaining: 4.68s\n",
      "780:\tlearn: 0.2152620\ttotal: 16.6s\tremaining: 4.67s\n",
      "781:\tlearn: 0.2152316\ttotal: 16.7s\tremaining: 4.65s\n",
      "782:\tlearn: 0.2151963\ttotal: 16.7s\tremaining: 4.63s\n",
      "783:\tlearn: 0.2151777\ttotal: 16.7s\tremaining: 4.61s\n",
      "784:\tlearn: 0.2151414\ttotal: 16.7s\tremaining: 4.58s\n",
      "785:\tlearn: 0.2151049\ttotal: 16.8s\tremaining: 4.56s\n",
      "786:\tlearn: 0.2150669\ttotal: 16.8s\tremaining: 4.54s\n",
      "787:\tlearn: 0.2150434\ttotal: 16.8s\tremaining: 4.51s\n",
      "788:\tlearn: 0.2150209\ttotal: 16.8s\tremaining: 4.49s\n",
      "789:\tlearn: 0.2149979\ttotal: 16.8s\tremaining: 4.47s\n",
      "790:\tlearn: 0.2149712\ttotal: 16.8s\tremaining: 4.45s\n",
      "791:\tlearn: 0.2149552\ttotal: 16.9s\tremaining: 4.43s\n",
      "792:\tlearn: 0.2149167\ttotal: 16.9s\tremaining: 4.41s\n",
      "793:\tlearn: 0.2148675\ttotal: 16.9s\tremaining: 4.38s\n",
      "794:\tlearn: 0.2148445\ttotal: 16.9s\tremaining: 4.36s\n",
      "795:\tlearn: 0.2148187\ttotal: 16.9s\tremaining: 4.34s\n",
      "796:\tlearn: 0.2147894\ttotal: 16.9s\tremaining: 4.32s\n",
      "797:\tlearn: 0.2147498\ttotal: 17s\tremaining: 4.29s\n",
      "798:\tlearn: 0.2147351\ttotal: 17s\tremaining: 4.27s\n",
      "799:\tlearn: 0.2147211\ttotal: 17s\tremaining: 4.25s\n",
      "800:\tlearn: 0.2147000\ttotal: 17s\tremaining: 4.23s\n",
      "801:\tlearn: 0.2146831\ttotal: 17s\tremaining: 4.21s\n",
      "802:\tlearn: 0.2146740\ttotal: 17.1s\tremaining: 4.19s\n",
      "803:\tlearn: 0.2146579\ttotal: 17.1s\tremaining: 4.16s\n",
      "804:\tlearn: 0.2146382\ttotal: 17.1s\tremaining: 4.14s\n",
      "805:\tlearn: 0.2146210\ttotal: 17.1s\tremaining: 4.12s\n",
      "806:\tlearn: 0.2146043\ttotal: 17.1s\tremaining: 4.1s\n",
      "807:\tlearn: 0.2145806\ttotal: 17.2s\tremaining: 4.08s\n",
      "808:\tlearn: 0.2145539\ttotal: 17.2s\tremaining: 4.06s\n",
      "809:\tlearn: 0.2145365\ttotal: 17.2s\tremaining: 4.04s\n",
      "810:\tlearn: 0.2145302\ttotal: 17.3s\tremaining: 4.03s\n",
      "811:\tlearn: 0.2145090\ttotal: 17.3s\tremaining: 4.01s\n",
      "812:\tlearn: 0.2144861\ttotal: 17.3s\tremaining: 3.98s\n",
      "813:\tlearn: 0.2144644\ttotal: 17.3s\tremaining: 3.96s\n",
      "814:\tlearn: 0.2144316\ttotal: 17.4s\tremaining: 3.94s\n",
      "815:\tlearn: 0.2144072\ttotal: 17.4s\tremaining: 3.92s\n",
      "816:\tlearn: 0.2143783\ttotal: 17.4s\tremaining: 3.89s\n",
      "817:\tlearn: 0.2143504\ttotal: 17.4s\tremaining: 3.87s\n",
      "818:\tlearn: 0.2143339\ttotal: 17.4s\tremaining: 3.85s\n",
      "819:\tlearn: 0.2143175\ttotal: 17.5s\tremaining: 3.84s\n",
      "820:\tlearn: 0.2142768\ttotal: 17.5s\tremaining: 3.82s\n",
      "821:\tlearn: 0.2142629\ttotal: 17.6s\tremaining: 3.81s\n",
      "822:\tlearn: 0.2142351\ttotal: 17.6s\tremaining: 3.78s\n",
      "823:\tlearn: 0.2142092\ttotal: 17.6s\tremaining: 3.76s\n",
      "824:\tlearn: 0.2141958\ttotal: 17.6s\tremaining: 3.74s\n",
      "825:\tlearn: 0.2141707\ttotal: 17.7s\tremaining: 3.72s\n",
      "826:\tlearn: 0.2141461\ttotal: 17.7s\tremaining: 3.7s\n"
     ]
    },
    {
     "name": "stdout",
     "output_type": "stream",
     "text": [
      "827:\tlearn: 0.2141088\ttotal: 17.7s\tremaining: 3.68s\n",
      "828:\tlearn: 0.2140830\ttotal: 17.8s\tremaining: 3.66s\n",
      "829:\tlearn: 0.2140708\ttotal: 17.8s\tremaining: 3.64s\n",
      "830:\tlearn: 0.2140378\ttotal: 17.8s\tremaining: 3.62s\n",
      "831:\tlearn: 0.2140093\ttotal: 17.8s\tremaining: 3.6s\n",
      "832:\tlearn: 0.2139934\ttotal: 17.8s\tremaining: 3.58s\n",
      "833:\tlearn: 0.2139780\ttotal: 17.9s\tremaining: 3.55s\n",
      "834:\tlearn: 0.2139484\ttotal: 17.9s\tremaining: 3.53s\n",
      "835:\tlearn: 0.2139191\ttotal: 17.9s\tremaining: 3.51s\n",
      "836:\tlearn: 0.2138985\ttotal: 17.9s\tremaining: 3.49s\n",
      "837:\tlearn: 0.2138590\ttotal: 17.9s\tremaining: 3.46s\n",
      "838:\tlearn: 0.2138332\ttotal: 17.9s\tremaining: 3.44s\n",
      "839:\tlearn: 0.2138081\ttotal: 18s\tremaining: 3.42s\n",
      "840:\tlearn: 0.2137948\ttotal: 18s\tremaining: 3.4s\n",
      "841:\tlearn: 0.2137757\ttotal: 18s\tremaining: 3.38s\n",
      "842:\tlearn: 0.2137598\ttotal: 18s\tremaining: 3.35s\n",
      "843:\tlearn: 0.2137431\ttotal: 18s\tremaining: 3.33s\n",
      "844:\tlearn: 0.2137213\ttotal: 18s\tremaining: 3.31s\n",
      "845:\tlearn: 0.2137022\ttotal: 18s\tremaining: 3.29s\n",
      "846:\tlearn: 0.2136757\ttotal: 18.1s\tremaining: 3.26s\n",
      "847:\tlearn: 0.2136598\ttotal: 18.1s\tremaining: 3.24s\n",
      "848:\tlearn: 0.2136409\ttotal: 18.1s\tremaining: 3.22s\n",
      "849:\tlearn: 0.2136107\ttotal: 18.1s\tremaining: 3.2s\n",
      "850:\tlearn: 0.2135758\ttotal: 18.1s\tremaining: 3.17s\n",
      "851:\tlearn: 0.2135622\ttotal: 18.2s\tremaining: 3.15s\n",
      "852:\tlearn: 0.2135249\ttotal: 18.2s\tremaining: 3.13s\n",
      "853:\tlearn: 0.2135132\ttotal: 18.2s\tremaining: 3.11s\n",
      "854:\tlearn: 0.2134959\ttotal: 18.2s\tremaining: 3.09s\n",
      "855:\tlearn: 0.2134696\ttotal: 18.3s\tremaining: 3.07s\n",
      "856:\tlearn: 0.2134338\ttotal: 18.3s\tremaining: 3.05s\n",
      "857:\tlearn: 0.2134049\ttotal: 18.3s\tremaining: 3.03s\n",
      "858:\tlearn: 0.2133705\ttotal: 18.3s\tremaining: 3.01s\n",
      "859:\tlearn: 0.2133566\ttotal: 18.3s\tremaining: 2.98s\n",
      "860:\tlearn: 0.2133377\ttotal: 18.3s\tremaining: 2.96s\n",
      "861:\tlearn: 0.2133256\ttotal: 18.4s\tremaining: 2.94s\n",
      "862:\tlearn: 0.2133005\ttotal: 18.4s\tremaining: 2.92s\n",
      "863:\tlearn: 0.2132831\ttotal: 18.4s\tremaining: 2.9s\n",
      "864:\tlearn: 0.2132614\ttotal: 18.4s\tremaining: 2.88s\n",
      "865:\tlearn: 0.2132498\ttotal: 18.4s\tremaining: 2.85s\n",
      "866:\tlearn: 0.2132293\ttotal: 18.5s\tremaining: 2.83s\n",
      "867:\tlearn: 0.2132075\ttotal: 18.5s\tremaining: 2.81s\n",
      "868:\tlearn: 0.2131846\ttotal: 18.5s\tremaining: 2.79s\n",
      "869:\tlearn: 0.2131570\ttotal: 18.5s\tremaining: 2.77s\n",
      "870:\tlearn: 0.2131465\ttotal: 18.5s\tremaining: 2.74s\n",
      "871:\tlearn: 0.2131231\ttotal: 18.6s\tremaining: 2.72s\n",
      "872:\tlearn: 0.2131047\ttotal: 18.6s\tremaining: 2.7s\n",
      "873:\tlearn: 0.2130834\ttotal: 18.6s\tremaining: 2.68s\n",
      "874:\tlearn: 0.2130608\ttotal: 18.6s\tremaining: 2.66s\n",
      "875:\tlearn: 0.2130444\ttotal: 18.7s\tremaining: 2.64s\n",
      "876:\tlearn: 0.2130195\ttotal: 18.7s\tremaining: 2.62s\n",
      "877:\tlearn: 0.2130002\ttotal: 18.7s\tremaining: 2.6s\n",
      "878:\tlearn: 0.2129789\ttotal: 18.7s\tremaining: 2.57s\n",
      "879:\tlearn: 0.2129470\ttotal: 18.7s\tremaining: 2.55s\n",
      "880:\tlearn: 0.2129291\ttotal: 18.7s\tremaining: 2.53s\n",
      "881:\tlearn: 0.2129115\ttotal: 18.8s\tremaining: 2.51s\n",
      "882:\tlearn: 0.2128728\ttotal: 18.8s\tremaining: 2.49s\n",
      "883:\tlearn: 0.2128515\ttotal: 18.8s\tremaining: 2.47s\n",
      "884:\tlearn: 0.2128242\ttotal: 18.9s\tremaining: 2.45s\n",
      "885:\tlearn: 0.2128144\ttotal: 18.9s\tremaining: 2.43s\n",
      "886:\tlearn: 0.2127892\ttotal: 18.9s\tremaining: 2.41s\n",
      "887:\tlearn: 0.2127564\ttotal: 18.9s\tremaining: 2.39s\n",
      "888:\tlearn: 0.2127384\ttotal: 18.9s\tremaining: 2.36s\n",
      "889:\tlearn: 0.2127073\ttotal: 19s\tremaining: 2.34s\n",
      "890:\tlearn: 0.2126943\ttotal: 19s\tremaining: 2.32s\n",
      "891:\tlearn: 0.2126674\ttotal: 19s\tremaining: 2.3s\n",
      "892:\tlearn: 0.2126593\ttotal: 19s\tremaining: 2.28s\n",
      "893:\tlearn: 0.2126278\ttotal: 19.1s\tremaining: 2.26s\n",
      "894:\tlearn: 0.2125974\ttotal: 19.1s\tremaining: 2.24s\n",
      "895:\tlearn: 0.2125832\ttotal: 19.1s\tremaining: 2.21s\n",
      "896:\tlearn: 0.2125507\ttotal: 19.1s\tremaining: 2.19s\n",
      "897:\tlearn: 0.2125347\ttotal: 19.1s\tremaining: 2.17s\n",
      "898:\tlearn: 0.2125010\ttotal: 19.1s\tremaining: 2.15s\n",
      "899:\tlearn: 0.2124767\ttotal: 19.2s\tremaining: 2.13s\n",
      "900:\tlearn: 0.2124462\ttotal: 19.2s\tremaining: 2.1s\n",
      "901:\tlearn: 0.2124171\ttotal: 19.2s\tremaining: 2.08s\n",
      "902:\tlearn: 0.2123915\ttotal: 19.2s\tremaining: 2.06s\n",
      "903:\tlearn: 0.2123649\ttotal: 19.2s\tremaining: 2.04s\n",
      "904:\tlearn: 0.2123245\ttotal: 19.3s\tremaining: 2.02s\n",
      "905:\tlearn: 0.2123003\ttotal: 19.3s\tremaining: 2s\n",
      "906:\tlearn: 0.2122788\ttotal: 19.3s\tremaining: 1.98s\n",
      "907:\tlearn: 0.2122559\ttotal: 19.3s\tremaining: 1.96s\n",
      "908:\tlearn: 0.2122358\ttotal: 19.4s\tremaining: 1.94s\n",
      "909:\tlearn: 0.2122132\ttotal: 19.4s\tremaining: 1.92s\n",
      "910:\tlearn: 0.2121906\ttotal: 19.4s\tremaining: 1.9s\n",
      "911:\tlearn: 0.2121573\ttotal: 19.4s\tremaining: 1.88s\n",
      "912:\tlearn: 0.2121517\ttotal: 19.5s\tremaining: 1.85s\n",
      "913:\tlearn: 0.2121339\ttotal: 19.5s\tremaining: 1.83s\n",
      "914:\tlearn: 0.2121160\ttotal: 19.5s\tremaining: 1.81s\n",
      "915:\tlearn: 0.2120843\ttotal: 19.5s\tremaining: 1.79s\n",
      "916:\tlearn: 0.2120707\ttotal: 19.5s\tremaining: 1.77s\n",
      "917:\tlearn: 0.2120574\ttotal: 19.5s\tremaining: 1.74s\n",
      "918:\tlearn: 0.2120326\ttotal: 19.5s\tremaining: 1.72s\n",
      "919:\tlearn: 0.2120118\ttotal: 19.6s\tremaining: 1.7s\n",
      "920:\tlearn: 0.2119773\ttotal: 19.6s\tremaining: 1.68s\n",
      "921:\tlearn: 0.2119581\ttotal: 19.6s\tremaining: 1.66s\n",
      "922:\tlearn: 0.2119269\ttotal: 19.6s\tremaining: 1.64s\n",
      "923:\tlearn: 0.2119007\ttotal: 19.6s\tremaining: 1.61s\n",
      "924:\tlearn: 0.2118806\ttotal: 19.6s\tremaining: 1.59s\n",
      "925:\tlearn: 0.2118564\ttotal: 19.7s\tremaining: 1.57s\n",
      "926:\tlearn: 0.2118336\ttotal: 19.7s\tremaining: 1.55s\n",
      "927:\tlearn: 0.2117933\ttotal: 19.7s\tremaining: 1.53s\n",
      "928:\tlearn: 0.2117712\ttotal: 19.7s\tremaining: 1.51s\n",
      "929:\tlearn: 0.2117443\ttotal: 19.7s\tremaining: 1.48s\n",
      "930:\tlearn: 0.2117331\ttotal: 19.7s\tremaining: 1.46s\n",
      "931:\tlearn: 0.2117185\ttotal: 19.8s\tremaining: 1.44s\n",
      "932:\tlearn: 0.2117019\ttotal: 19.8s\tremaining: 1.42s\n",
      "933:\tlearn: 0.2116639\ttotal: 19.8s\tremaining: 1.4s\n",
      "934:\tlearn: 0.2116330\ttotal: 19.8s\tremaining: 1.38s\n",
      "935:\tlearn: 0.2116207\ttotal: 19.9s\tremaining: 1.36s\n",
      "936:\tlearn: 0.2116012\ttotal: 19.9s\tremaining: 1.34s\n",
      "937:\tlearn: 0.2115837\ttotal: 19.9s\tremaining: 1.32s\n",
      "938:\tlearn: 0.2115511\ttotal: 19.9s\tremaining: 1.29s\n",
      "939:\tlearn: 0.2115273\ttotal: 20s\tremaining: 1.27s\n",
      "940:\tlearn: 0.2115121\ttotal: 20s\tremaining: 1.25s\n",
      "941:\tlearn: 0.2114987\ttotal: 20s\tremaining: 1.23s\n",
      "942:\tlearn: 0.2114605\ttotal: 20s\tremaining: 1.21s\n",
      "943:\tlearn: 0.2114504\ttotal: 20s\tremaining: 1.19s\n",
      "944:\tlearn: 0.2114318\ttotal: 20s\tremaining: 1.17s\n",
      "945:\tlearn: 0.2114198\ttotal: 20.1s\tremaining: 1.15s\n",
      "946:\tlearn: 0.2114031\ttotal: 20.1s\tremaining: 1.12s\n",
      "947:\tlearn: 0.2113764\ttotal: 20.1s\tremaining: 1.1s\n",
      "948:\tlearn: 0.2113661\ttotal: 20.1s\tremaining: 1.08s\n",
      "949:\tlearn: 0.2113364\ttotal: 20.1s\tremaining: 1.06s\n",
      "950:\tlearn: 0.2113195\ttotal: 20.1s\tremaining: 1.04s\n",
      "951:\tlearn: 0.2113041\ttotal: 20.2s\tremaining: 1.02s\n",
      "952:\tlearn: 0.2112739\ttotal: 20.2s\tremaining: 995ms\n",
      "953:\tlearn: 0.2112389\ttotal: 20.2s\tremaining: 973ms\n",
      "954:\tlearn: 0.2112238\ttotal: 20.2s\tremaining: 952ms\n",
      "955:\tlearn: 0.2112023\ttotal: 20.2s\tremaining: 931ms\n",
      "956:\tlearn: 0.2111866\ttotal: 20.3s\tremaining: 911ms\n",
      "957:\tlearn: 0.2111680\ttotal: 20.3s\tremaining: 890ms\n",
      "958:\tlearn: 0.2111413\ttotal: 20.3s\tremaining: 869ms\n",
      "959:\tlearn: 0.2111243\ttotal: 20.3s\tremaining: 847ms\n",
      "960:\tlearn: 0.2111026\ttotal: 20.3s\tremaining: 826ms\n",
      "961:\tlearn: 0.2110820\ttotal: 20.4s\tremaining: 804ms\n",
      "962:\tlearn: 0.2110643\ttotal: 20.4s\tremaining: 783ms\n",
      "963:\tlearn: 0.2110237\ttotal: 20.4s\tremaining: 762ms\n",
      "964:\tlearn: 0.2110094\ttotal: 20.4s\tremaining: 740ms\n",
      "965:\tlearn: 0.2109859\ttotal: 20.4s\tremaining: 719ms\n",
      "966:\tlearn: 0.2109718\ttotal: 20.4s\tremaining: 698ms\n",
      "967:\tlearn: 0.2109461\ttotal: 20.5s\tremaining: 677ms\n",
      "968:\tlearn: 0.2109284\ttotal: 20.5s\tremaining: 655ms\n",
      "969:\tlearn: 0.2109064\ttotal: 20.5s\tremaining: 634ms\n",
      "970:\tlearn: 0.2108937\ttotal: 20.5s\tremaining: 613ms\n",
      "971:\tlearn: 0.2108813\ttotal: 20.5s\tremaining: 592ms\n",
      "972:\tlearn: 0.2108660\ttotal: 20.5s\tremaining: 570ms\n",
      "973:\tlearn: 0.2108601\ttotal: 20.6s\tremaining: 549ms\n",
      "974:\tlearn: 0.2108368\ttotal: 20.6s\tremaining: 528ms\n",
      "975:\tlearn: 0.2108182\ttotal: 20.6s\tremaining: 506ms\n",
      "976:\tlearn: 0.2107905\ttotal: 20.6s\tremaining: 485ms\n",
      "977:\tlearn: 0.2107726\ttotal: 20.6s\tremaining: 464ms\n",
      "978:\tlearn: 0.2107607\ttotal: 20.7s\tremaining: 443ms\n",
      "979:\tlearn: 0.2107405\ttotal: 20.7s\tremaining: 422ms\n",
      "980:\tlearn: 0.2107247\ttotal: 20.7s\tremaining: 401ms\n",
      "981:\tlearn: 0.2107027\ttotal: 20.7s\tremaining: 380ms\n",
      "982:\tlearn: 0.2106816\ttotal: 20.7s\tremaining: 359ms\n",
      "983:\tlearn: 0.2106515\ttotal: 20.8s\tremaining: 337ms\n",
      "984:\tlearn: 0.2106256\ttotal: 20.8s\tremaining: 316ms\n",
      "985:\tlearn: 0.2106048\ttotal: 20.8s\tremaining: 295ms\n",
      "986:\tlearn: 0.2105927\ttotal: 20.8s\tremaining: 274ms\n",
      "987:\tlearn: 0.2105725\ttotal: 20.8s\tremaining: 253ms\n"
     ]
    },
    {
     "name": "stdout",
     "output_type": "stream",
     "text": [
      "988:\tlearn: 0.2105546\ttotal: 20.8s\tremaining: 232ms\n",
      "989:\tlearn: 0.2105364\ttotal: 20.9s\tremaining: 211ms\n",
      "990:\tlearn: 0.2105053\ttotal: 20.9s\tremaining: 190ms\n",
      "991:\tlearn: 0.2104913\ttotal: 20.9s\tremaining: 169ms\n",
      "992:\tlearn: 0.2104763\ttotal: 20.9s\tremaining: 147ms\n",
      "993:\tlearn: 0.2104671\ttotal: 20.9s\tremaining: 126ms\n",
      "994:\tlearn: 0.2104524\ttotal: 20.9s\tremaining: 105ms\n",
      "995:\tlearn: 0.2104297\ttotal: 21s\tremaining: 84.1ms\n",
      "996:\tlearn: 0.2104084\ttotal: 21s\tremaining: 63.1ms\n",
      "997:\tlearn: 0.2103976\ttotal: 21s\tremaining: 42.1ms\n",
      "998:\tlearn: 0.2103711\ttotal: 21s\tremaining: 21ms\n",
      "999:\tlearn: 0.2103557\ttotal: 21s\tremaining: 0us\n"
     ]
    },
    {
     "ename": "TypeError",
     "evalue": "'<' not supported between instances of 'str' and 'bool'",
     "output_type": "error",
     "traceback": [
      "\u001b[0;31m---------------------------------------------------------------------------\u001b[0m",
      "\u001b[0;31mTypeError\u001b[0m                                 Traceback (most recent call last)",
      "\u001b[0;32m<ipython-input-93-ebf43833c77a>\u001b[0m in \u001b[0;36m<module>\u001b[0;34m\u001b[0m\n\u001b[1;32m      2\u001b[0m \u001b[0mmodel6_fs\u001b[0m\u001b[0;34m.\u001b[0m\u001b[0mfit\u001b[0m\u001b[0;34m(\u001b[0m\u001b[0mX_train_fs\u001b[0m\u001b[0;34m,\u001b[0m \u001b[0my_train_fs\u001b[0m\u001b[0;34m)\u001b[0m\u001b[0;34m\u001b[0m\u001b[0;34m\u001b[0m\u001b[0m\n\u001b[1;32m      3\u001b[0m \u001b[0my_pred6_fs\u001b[0m\u001b[0;34m=\u001b[0m\u001b[0mmodel6_fs\u001b[0m\u001b[0;34m.\u001b[0m\u001b[0mpredict\u001b[0m\u001b[0;34m(\u001b[0m\u001b[0mX_test_fs\u001b[0m\u001b[0;34m)\u001b[0m\u001b[0;34m\u001b[0m\u001b[0;34m\u001b[0m\u001b[0m\n\u001b[0;32m----> 4\u001b[0;31m \u001b[0mconf6_fs\u001b[0m\u001b[0;34m=\u001b[0m\u001b[0mconfusion_matrix\u001b[0m\u001b[0;34m(\u001b[0m\u001b[0my_test_fs\u001b[0m\u001b[0;34m,\u001b[0m \u001b[0my_pred6_fs\u001b[0m\u001b[0;34m)\u001b[0m\u001b[0;34m\u001b[0m\u001b[0;34m\u001b[0m\u001b[0m\n\u001b[0m\u001b[1;32m      5\u001b[0m \u001b[0macc6_fs\u001b[0m\u001b[0;34m=\u001b[0m\u001b[0maccuracy_score\u001b[0m\u001b[0;34m(\u001b[0m\u001b[0my_test_fs\u001b[0m\u001b[0;34m,\u001b[0m \u001b[0my_pred6_fs\u001b[0m\u001b[0;34m)\u001b[0m\u001b[0;34m\u001b[0m\u001b[0;34m\u001b[0m\u001b[0m\n\u001b[1;32m      6\u001b[0m \u001b[0mrec6_fs\u001b[0m\u001b[0;34m=\u001b[0m\u001b[0mrecall_score\u001b[0m\u001b[0;34m(\u001b[0m\u001b[0my_test_fs\u001b[0m\u001b[0;34m,\u001b[0m \u001b[0my_pred6_fs\u001b[0m\u001b[0;34m)\u001b[0m\u001b[0;34m\u001b[0m\u001b[0;34m\u001b[0m\u001b[0m\n",
      "\u001b[0;32m/usr/local/Cellar/jupyterlab/2.2.0/libexec/lib/python3.8/site-packages/sklearn/utils/validation.py\u001b[0m in \u001b[0;36minner_f\u001b[0;34m(*args, **kwargs)\u001b[0m\n\u001b[1;32m     70\u001b[0m                           FutureWarning)\n\u001b[1;32m     71\u001b[0m         \u001b[0mkwargs\u001b[0m\u001b[0;34m.\u001b[0m\u001b[0mupdate\u001b[0m\u001b[0;34m(\u001b[0m\u001b[0;34m{\u001b[0m\u001b[0mk\u001b[0m\u001b[0;34m:\u001b[0m \u001b[0marg\u001b[0m \u001b[0;32mfor\u001b[0m \u001b[0mk\u001b[0m\u001b[0;34m,\u001b[0m \u001b[0marg\u001b[0m \u001b[0;32min\u001b[0m \u001b[0mzip\u001b[0m\u001b[0;34m(\u001b[0m\u001b[0msig\u001b[0m\u001b[0;34m.\u001b[0m\u001b[0mparameters\u001b[0m\u001b[0;34m,\u001b[0m \u001b[0margs\u001b[0m\u001b[0;34m)\u001b[0m\u001b[0;34m}\u001b[0m\u001b[0;34m)\u001b[0m\u001b[0;34m\u001b[0m\u001b[0;34m\u001b[0m\u001b[0m\n\u001b[0;32m---> 72\u001b[0;31m         \u001b[0;32mreturn\u001b[0m \u001b[0mf\u001b[0m\u001b[0;34m(\u001b[0m\u001b[0;34m**\u001b[0m\u001b[0mkwargs\u001b[0m\u001b[0;34m)\u001b[0m\u001b[0;34m\u001b[0m\u001b[0;34m\u001b[0m\u001b[0m\n\u001b[0m\u001b[1;32m     73\u001b[0m     \u001b[0;32mreturn\u001b[0m \u001b[0minner_f\u001b[0m\u001b[0;34m\u001b[0m\u001b[0;34m\u001b[0m\u001b[0m\n\u001b[1;32m     74\u001b[0m \u001b[0;34m\u001b[0m\u001b[0m\n",
      "\u001b[0;32m/usr/local/Cellar/jupyterlab/2.2.0/libexec/lib/python3.8/site-packages/sklearn/metrics/_classification.py\u001b[0m in \u001b[0;36mconfusion_matrix\u001b[0;34m(y_true, y_pred, labels, sample_weight, normalize)\u001b[0m\n\u001b[1;32m    274\u001b[0m \u001b[0;34m\u001b[0m\u001b[0m\n\u001b[1;32m    275\u001b[0m     \"\"\"\n\u001b[0;32m--> 276\u001b[0;31m     \u001b[0my_type\u001b[0m\u001b[0;34m,\u001b[0m \u001b[0my_true\u001b[0m\u001b[0;34m,\u001b[0m \u001b[0my_pred\u001b[0m \u001b[0;34m=\u001b[0m \u001b[0m_check_targets\u001b[0m\u001b[0;34m(\u001b[0m\u001b[0my_true\u001b[0m\u001b[0;34m,\u001b[0m \u001b[0my_pred\u001b[0m\u001b[0;34m)\u001b[0m\u001b[0;34m\u001b[0m\u001b[0;34m\u001b[0m\u001b[0m\n\u001b[0m\u001b[1;32m    277\u001b[0m     \u001b[0;32mif\u001b[0m \u001b[0my_type\u001b[0m \u001b[0;32mnot\u001b[0m \u001b[0;32min\u001b[0m \u001b[0;34m(\u001b[0m\u001b[0;34m\"binary\"\u001b[0m\u001b[0;34m,\u001b[0m \u001b[0;34m\"multiclass\"\u001b[0m\u001b[0;34m)\u001b[0m\u001b[0;34m:\u001b[0m\u001b[0;34m\u001b[0m\u001b[0;34m\u001b[0m\u001b[0m\n\u001b[1;32m    278\u001b[0m         \u001b[0;32mraise\u001b[0m \u001b[0mValueError\u001b[0m\u001b[0;34m(\u001b[0m\u001b[0;34m\"%s is not supported\"\u001b[0m \u001b[0;34m%\u001b[0m \u001b[0my_type\u001b[0m\u001b[0;34m)\u001b[0m\u001b[0;34m\u001b[0m\u001b[0;34m\u001b[0m\u001b[0m\n",
      "\u001b[0;32m/usr/local/Cellar/jupyterlab/2.2.0/libexec/lib/python3.8/site-packages/sklearn/metrics/_classification.py\u001b[0m in \u001b[0;36m_check_targets\u001b[0;34m(y_true, y_pred)\u001b[0m\n\u001b[1;32m    102\u001b[0m         \u001b[0my_pred\u001b[0m \u001b[0;34m=\u001b[0m \u001b[0mcolumn_or_1d\u001b[0m\u001b[0;34m(\u001b[0m\u001b[0my_pred\u001b[0m\u001b[0;34m)\u001b[0m\u001b[0;34m\u001b[0m\u001b[0;34m\u001b[0m\u001b[0m\n\u001b[1;32m    103\u001b[0m         \u001b[0;32mif\u001b[0m \u001b[0my_type\u001b[0m \u001b[0;34m==\u001b[0m \u001b[0;34m\"binary\"\u001b[0m\u001b[0;34m:\u001b[0m\u001b[0;34m\u001b[0m\u001b[0;34m\u001b[0m\u001b[0m\n\u001b[0;32m--> 104\u001b[0;31m             \u001b[0munique_values\u001b[0m \u001b[0;34m=\u001b[0m \u001b[0mnp\u001b[0m\u001b[0;34m.\u001b[0m\u001b[0munion1d\u001b[0m\u001b[0;34m(\u001b[0m\u001b[0my_true\u001b[0m\u001b[0;34m,\u001b[0m \u001b[0my_pred\u001b[0m\u001b[0;34m)\u001b[0m\u001b[0;34m\u001b[0m\u001b[0;34m\u001b[0m\u001b[0m\n\u001b[0m\u001b[1;32m    105\u001b[0m             \u001b[0;32mif\u001b[0m \u001b[0mlen\u001b[0m\u001b[0;34m(\u001b[0m\u001b[0munique_values\u001b[0m\u001b[0;34m)\u001b[0m \u001b[0;34m>\u001b[0m \u001b[0;36m2\u001b[0m\u001b[0;34m:\u001b[0m\u001b[0;34m\u001b[0m\u001b[0;34m\u001b[0m\u001b[0m\n\u001b[1;32m    106\u001b[0m                 \u001b[0my_type\u001b[0m \u001b[0;34m=\u001b[0m \u001b[0;34m\"multiclass\"\u001b[0m\u001b[0;34m\u001b[0m\u001b[0;34m\u001b[0m\u001b[0m\n",
      "\u001b[0;32m<__array_function__ internals>\u001b[0m in \u001b[0;36munion1d\u001b[0;34m(*args, **kwargs)\u001b[0m\n",
      "\u001b[0;32m/usr/local/Cellar/jupyterlab/2.2.0/libexec/lib/python3.8/site-packages/numpy/lib/arraysetops.py\u001b[0m in \u001b[0;36munion1d\u001b[0;34m(ar1, ar2)\u001b[0m\n\u001b[1;32m    747\u001b[0m     \u001b[0marray\u001b[0m\u001b[0;34m(\u001b[0m\u001b[0;34m[\u001b[0m\u001b[0;36m1\u001b[0m\u001b[0;34m,\u001b[0m \u001b[0;36m2\u001b[0m\u001b[0;34m,\u001b[0m \u001b[0;36m3\u001b[0m\u001b[0;34m,\u001b[0m \u001b[0;36m4\u001b[0m\u001b[0;34m,\u001b[0m \u001b[0;36m6\u001b[0m\u001b[0;34m]\u001b[0m\u001b[0;34m)\u001b[0m\u001b[0;34m\u001b[0m\u001b[0;34m\u001b[0m\u001b[0m\n\u001b[1;32m    748\u001b[0m     \"\"\"\n\u001b[0;32m--> 749\u001b[0;31m     \u001b[0;32mreturn\u001b[0m \u001b[0munique\u001b[0m\u001b[0;34m(\u001b[0m\u001b[0mnp\u001b[0m\u001b[0;34m.\u001b[0m\u001b[0mconcatenate\u001b[0m\u001b[0;34m(\u001b[0m\u001b[0;34m(\u001b[0m\u001b[0mar1\u001b[0m\u001b[0;34m,\u001b[0m \u001b[0mar2\u001b[0m\u001b[0;34m)\u001b[0m\u001b[0;34m,\u001b[0m \u001b[0maxis\u001b[0m\u001b[0;34m=\u001b[0m\u001b[0;32mNone\u001b[0m\u001b[0;34m)\u001b[0m\u001b[0;34m)\u001b[0m\u001b[0;34m\u001b[0m\u001b[0;34m\u001b[0m\u001b[0m\n\u001b[0m\u001b[1;32m    750\u001b[0m \u001b[0;34m\u001b[0m\u001b[0m\n\u001b[1;32m    751\u001b[0m \u001b[0;34m\u001b[0m\u001b[0m\n",
      "\u001b[0;32m<__array_function__ internals>\u001b[0m in \u001b[0;36munique\u001b[0;34m(*args, **kwargs)\u001b[0m\n",
      "\u001b[0;32m/usr/local/Cellar/jupyterlab/2.2.0/libexec/lib/python3.8/site-packages/numpy/lib/arraysetops.py\u001b[0m in \u001b[0;36munique\u001b[0;34m(ar, return_index, return_inverse, return_counts, axis)\u001b[0m\n\u001b[1;32m    259\u001b[0m     \u001b[0mar\u001b[0m \u001b[0;34m=\u001b[0m \u001b[0mnp\u001b[0m\u001b[0;34m.\u001b[0m\u001b[0masanyarray\u001b[0m\u001b[0;34m(\u001b[0m\u001b[0mar\u001b[0m\u001b[0;34m)\u001b[0m\u001b[0;34m\u001b[0m\u001b[0;34m\u001b[0m\u001b[0m\n\u001b[1;32m    260\u001b[0m     \u001b[0;32mif\u001b[0m \u001b[0maxis\u001b[0m \u001b[0;32mis\u001b[0m \u001b[0;32mNone\u001b[0m\u001b[0;34m:\u001b[0m\u001b[0;34m\u001b[0m\u001b[0;34m\u001b[0m\u001b[0m\n\u001b[0;32m--> 261\u001b[0;31m         \u001b[0mret\u001b[0m \u001b[0;34m=\u001b[0m \u001b[0m_unique1d\u001b[0m\u001b[0;34m(\u001b[0m\u001b[0mar\u001b[0m\u001b[0;34m,\u001b[0m \u001b[0mreturn_index\u001b[0m\u001b[0;34m,\u001b[0m \u001b[0mreturn_inverse\u001b[0m\u001b[0;34m,\u001b[0m \u001b[0mreturn_counts\u001b[0m\u001b[0;34m)\u001b[0m\u001b[0;34m\u001b[0m\u001b[0;34m\u001b[0m\u001b[0m\n\u001b[0m\u001b[1;32m    262\u001b[0m         \u001b[0;32mreturn\u001b[0m \u001b[0m_unpack_tuple\u001b[0m\u001b[0;34m(\u001b[0m\u001b[0mret\u001b[0m\u001b[0;34m)\u001b[0m\u001b[0;34m\u001b[0m\u001b[0;34m\u001b[0m\u001b[0m\n\u001b[1;32m    263\u001b[0m \u001b[0;34m\u001b[0m\u001b[0m\n",
      "\u001b[0;32m/usr/local/Cellar/jupyterlab/2.2.0/libexec/lib/python3.8/site-packages/numpy/lib/arraysetops.py\u001b[0m in \u001b[0;36m_unique1d\u001b[0;34m(ar, return_index, return_inverse, return_counts)\u001b[0m\n\u001b[1;32m    320\u001b[0m         \u001b[0maux\u001b[0m \u001b[0;34m=\u001b[0m \u001b[0mar\u001b[0m\u001b[0;34m[\u001b[0m\u001b[0mperm\u001b[0m\u001b[0;34m]\u001b[0m\u001b[0;34m\u001b[0m\u001b[0;34m\u001b[0m\u001b[0m\n\u001b[1;32m    321\u001b[0m     \u001b[0;32melse\u001b[0m\u001b[0;34m:\u001b[0m\u001b[0;34m\u001b[0m\u001b[0;34m\u001b[0m\u001b[0m\n\u001b[0;32m--> 322\u001b[0;31m         \u001b[0mar\u001b[0m\u001b[0;34m.\u001b[0m\u001b[0msort\u001b[0m\u001b[0;34m(\u001b[0m\u001b[0;34m)\u001b[0m\u001b[0;34m\u001b[0m\u001b[0;34m\u001b[0m\u001b[0m\n\u001b[0m\u001b[1;32m    323\u001b[0m         \u001b[0maux\u001b[0m \u001b[0;34m=\u001b[0m \u001b[0mar\u001b[0m\u001b[0;34m\u001b[0m\u001b[0;34m\u001b[0m\u001b[0m\n\u001b[1;32m    324\u001b[0m     \u001b[0mmask\u001b[0m \u001b[0;34m=\u001b[0m \u001b[0mnp\u001b[0m\u001b[0;34m.\u001b[0m\u001b[0mempty\u001b[0m\u001b[0;34m(\u001b[0m\u001b[0maux\u001b[0m\u001b[0;34m.\u001b[0m\u001b[0mshape\u001b[0m\u001b[0;34m,\u001b[0m \u001b[0mdtype\u001b[0m\u001b[0;34m=\u001b[0m\u001b[0mnp\u001b[0m\u001b[0;34m.\u001b[0m\u001b[0mbool_\u001b[0m\u001b[0;34m)\u001b[0m\u001b[0;34m\u001b[0m\u001b[0;34m\u001b[0m\u001b[0m\n",
      "\u001b[0;31mTypeError\u001b[0m: '<' not supported between instances of 'str' and 'bool'"
     ]
    }
   ],
   "source": [
    "model6_fs=CatBoostClassifier()\n",
    "model6_fs.fit(X_train_fs, y_train_fs)\n",
    "y_pred6_fs=model6_fs.predict(X_test_fs)\n",
    "conf6_fs=confusion_matrix(y_test_fs, y_pred6_fs)\n",
    "acc6_fs=accuracy_score(y_test_fs, y_pred6_fs)\n",
    "rec6_fs=recall_score(y_test_fs, y_pred6_fs)\n",
    "pre6_fs=precision_score(y_test_fs, y_pred6_fs)\n",
    "f16_fs=f1_score(y_test_fs, y_pred6_fs)\n",
    "display(conf6_fs)\n",
    "print('Accuracy', acc6_fs)\n",
    "print('Recall', rec6_fs)\n",
    "print('Precision', pre6_fs)\n",
    "print('F1', f16_fs)"
   ]
  },
  {
   "cell_type": "markdown",
   "metadata": {},
   "source": [
    "## KNeighbors"
   ]
  },
  {
   "cell_type": "code",
   "execution_count": 90,
   "metadata": {},
   "outputs": [],
   "source": [
    "from sklearn.neighbors import KNeighborsClassifier"
   ]
  },
  {
   "cell_type": "markdown",
   "metadata": {},
   "source": [
    "### Original df"
   ]
  },
  {
   "cell_type": "code",
   "execution_count": 91,
   "metadata": {},
   "outputs": [
    {
     "data": {
      "text/plain": [
       "array([[7346,  289],\n",
       "       [ 729,  275]])"
      ]
     },
     "metadata": {},
     "output_type": "display_data"
    },
    {
     "name": "stdout",
     "output_type": "stream",
     "text": [
      "Accuracy 0.882162287301771\n",
      "Recall 0.2739043824701195\n",
      "Precision 0.4875886524822695\n",
      "F1 0.350765306122449\n"
     ]
    }
   ],
   "source": [
    "model7=KNeighborsClassifier(5)\n",
    "model7.fit(X_train, y_train)\n",
    "y_pred7=model7.predict(X_test)\n",
    "conf7=confusion_matrix(y_test, y_pred7)\n",
    "acc7=accuracy_score(y_test, y_pred7)\n",
    "rec7=recall_score(y_test, y_pred7)\n",
    "pre7=precision_score(y_test, y_pred7)\n",
    "f17=f1_score(y_test, y_pred7)\n",
    "display(conf7)\n",
    "print('Accuracy', acc7)\n",
    "print('Recall', rec7)\n",
    "print('Precision', pre7)\n",
    "print('F1', f17)"
   ]
  },
  {
   "cell_type": "markdown",
   "metadata": {},
   "source": [
    "### Original df with rescale"
   ]
  },
  {
   "cell_type": "code",
   "execution_count": 92,
   "metadata": {},
   "outputs": [
    {
     "data": {
      "text/plain": [
       "array([[7395,  240],\n",
       "       [ 751,  253]])"
      ]
     },
     "metadata": {},
     "output_type": "display_data"
    },
    {
     "name": "stdout",
     "output_type": "stream",
     "text": [
      "Accuracy 0.8852876490334529\n",
      "Recall 0.25199203187250996\n",
      "Precision 0.513184584178499\n",
      "F1 0.3380093520374082\n"
     ]
    }
   ],
   "source": [
    "model7_sca=KNeighborsClassifier(5)\n",
    "model7_sca.fit(X_train_sca, y_train_sca)\n",
    "y_pred7_sca=model7_sca.predict(X_test_sca)\n",
    "conf7_sca=confusion_matrix(y_test_sca, y_pred7_sca)\n",
    "acc7_sca=accuracy_score(y_test_sca, y_pred7_sca)\n",
    "rec7_sca=recall_score(y_test_sca, y_pred7_sca)\n",
    "pre7_sca=precision_score(y_test_sca, y_pred7_sca)\n",
    "f17_sca=f1_score(y_test_sca, y_pred7_sca)\n",
    "display(conf7_sca)\n",
    "print('Accuracy', acc7_sca)\n",
    "print('Recall', rec7_sca)\n",
    "print('Precision', pre7_sca)\n",
    "print('F1', f17_sca)"
   ]
  },
  {
   "cell_type": "markdown",
   "metadata": {
    "heading_collapsed": true
   },
   "source": [
    "### Features selection df"
   ]
  },
  {
   "cell_type": "code",
   "execution_count": 94,
   "metadata": {
    "hidden": true
   },
   "outputs": [
    {
     "data": {
      "text/plain": [
       "array([[7351,  284],\n",
       "       [ 671,  333]])"
      ]
     },
     "metadata": {},
     "output_type": "display_data"
    },
    {
     "name": "stdout",
     "output_type": "stream",
     "text": [
      "Accuracy 0.8894547980090288\n",
      "Recall 0.33167330677290835\n",
      "Precision 0.539708265802269\n",
      "F1 0.41085749537322636\n"
     ]
    }
   ],
   "source": [
    "model7_fs=KNeighborsClassifier(5)\n",
    "model7_fs.fit(X_train_fs, y_train_fs)\n",
    "y_pred7_fs=model7_fs.predict(X_test_fs)\n",
    "conf7_fs=confusion_matrix(y_test_fs, y_pred7_fs)\n",
    "acc7_fs=accuracy_score(y_test_fs, y_pred7_fs)\n",
    "rec7_fs=recall_score(y_test_fs, y_pred7_fs)\n",
    "pre7_fs=precision_score(y_test_fs, y_pred7_fs)\n",
    "f17_fs=f1_score(y_test_fs, y_pred7_fs)\n",
    "display(conf7_fs)\n",
    "print('Accuracy', acc7_fs)\n",
    "print('Recall', rec7_fs)\n",
    "print('Precision', pre7_fs)\n",
    "print('F1', f17_fs)"
   ]
  },
  {
   "cell_type": "markdown",
   "metadata": {},
   "source": [
    "## Logistic regression"
   ]
  },
  {
   "cell_type": "code",
   "execution_count": 95,
   "metadata": {},
   "outputs": [],
   "source": [
    "from sklearn.linear_model import LogisticRegression"
   ]
  },
  {
   "cell_type": "markdown",
   "metadata": {},
   "source": [
    "For logistic regression, we will use the df with dummies (df_dum)"
   ]
  },
  {
   "cell_type": "code",
   "execution_count": 96,
   "metadata": {},
   "outputs": [],
   "source": [
    "X_dum=df_dum.drop('y', axis=1)\n",
    "y_dum=df_dum.y\n",
    "\n",
    "X_dum_sca=df_dum_sca.drop('y', axis=1)\n",
    "y_dum_sca=df_dum_sca.y"
   ]
  },
  {
   "cell_type": "code",
   "execution_count": 97,
   "metadata": {},
   "outputs": [],
   "source": [
    "X_train_dum, X_test_dum, y_train_dum, y_test_dum = train_test_split(X_dum, \\\n",
    "                                                  y_dum, \\\n",
    "                                                  train_size=0.8, \\\n",
    "                                                  random_state=42, \\\n",
    "                                                  stratify=df_dum.y)\n",
    "\n",
    "X_train_dum_sca, X_test_dum_sca, y_train_dum_sca, y_test_dum_sca = train_test_split(X_dum_sca, \\\n",
    "                                                  y_dum_sca, \\\n",
    "                                                  train_size=0.8, \\\n",
    "                                                  random_state=42, \\\n",
    "                                                  stratify=df_dum_sca.y)"
   ]
  },
  {
   "cell_type": "markdown",
   "metadata": {},
   "source": [
    "### Original df with dummies"
   ]
  },
  {
   "cell_type": "code",
   "execution_count": 216,
   "metadata": {},
   "outputs": [
    {
     "data": {
      "text/plain": [
       "array([[6171, 1464],\n",
       "       [ 204,  800]])"
      ]
     },
     "metadata": {},
     "output_type": "display_data"
    },
    {
     "name": "stdout",
     "output_type": "stream",
     "text": [
      "Accuracy 0.8069220974649843\n",
      "Recall 0.796812749003984\n",
      "Precision 0.35335689045936397\n",
      "F1 0.4895960832313341\n"
     ]
    }
   ],
   "source": [
    "model8=LogisticRegression(max_iter=10000, class_weight='balanced')\n",
    "model8.fit(X_train_dum, y_train_dum)\n",
    "y_pred8=model8.predict(X_test_dum)\n",
    "conf8=confusion_matrix(y_test_dum, y_pred8)\n",
    "acc8=accuracy_score(y_test_dum, y_pred8)\n",
    "rec8=recall_score(y_test_dum, y_pred8)\n",
    "pre8=precision_score(y_test_dum, y_pred8)\n",
    "f18=f1_score(y_test_dum, y_pred8)\n",
    "display(conf8)\n",
    "print('Accuracy', acc8)\n",
    "print('Recall', rec8)\n",
    "print('Precision', pre8)\n",
    "print('F1', f18)"
   ]
  },
  {
   "cell_type": "markdown",
   "metadata": {},
   "source": [
    "### Original df with dummies and rescale"
   ]
  },
  {
   "cell_type": "code",
   "execution_count": 99,
   "metadata": {},
   "outputs": [
    {
     "data": {
      "text/plain": [
       "array([[7507,  128],\n",
       "       [ 800,  204]])"
      ]
     },
     "metadata": {},
     "output_type": "display_data"
    },
    {
     "name": "stdout",
     "output_type": "stream",
     "text": [
      "Accuracy 0.8925801597407107\n",
      "Recall 0.20318725099601595\n",
      "Precision 0.6144578313253012\n",
      "F1 0.3053892215568862\n"
     ]
    }
   ],
   "source": [
    "model8_sca=LogisticRegression(max_iter=10000)\n",
    "model8_sca.fit(X_train_dum_sca, y_train_dum_sca)\n",
    "y_pred8_sca=model8_sca.predict(X_test_dum_sca)\n",
    "conf8_sca=confusion_matrix(y_test_dum_sca, y_pred8_sca)\n",
    "acc8_sca=accuracy_score(y_test_dum_sca, y_pred8_sca)\n",
    "rec8_sca=recall_score(y_test_dum_sca, y_pred8_sca)\n",
    "pre8_sca=precision_score(y_test_dum_sca, y_pred8_sca)\n",
    "f18_sca=f1_score(y_test_dum_sca, y_pred8_sca)\n",
    "display(conf8_sca)\n",
    "print('Accuracy', acc8_sca)\n",
    "print('Recall', rec8_sca)\n",
    "print('Precision', pre8_sca)\n",
    "print('F1', f18_sca)"
   ]
  },
  {
   "cell_type": "markdown",
   "metadata": {},
   "source": [
    "### Features selection df"
   ]
  },
  {
   "cell_type": "code",
   "execution_count": 100,
   "metadata": {},
   "outputs": [
    {
     "data": {
      "text/plain": [
       "array([[7488,  147],\n",
       "       [ 777,  227]])"
      ]
     },
     "metadata": {},
     "output_type": "display_data"
    },
    {
     "name": "stdout",
     "output_type": "stream",
     "text": [
      "Accuracy 0.8930431762935525\n",
      "Recall 0.22609561752988047\n",
      "Precision 0.606951871657754\n",
      "F1 0.3294629898403483\n"
     ]
    }
   ],
   "source": [
    "model8_fs=LogisticRegression(max_iter=10000)\n",
    "model8_fs.fit(X_train_fs, y_train_fs)\n",
    "y_pred8_fs=model8_fs.predict(X_test_fs)\n",
    "conf8_fs=confusion_matrix(y_test_fs, y_pred8_fs)\n",
    "acc8_fs=accuracy_score(y_test_fs, y_pred8_fs)\n",
    "rec8_fs=recall_score(y_test_fs, y_pred8_fs)\n",
    "pre8_fs=precision_score(y_test_fs, y_pred8_fs)\n",
    "f18_fs=f1_score(y_test_fs, y_pred8_fs)\n",
    "display(conf8_fs)\n",
    "print('Accuracy', acc8_fs)\n",
    "print('Recall', rec8_fs)\n",
    "print('Precision', pre8_fs)\n",
    "print('F1', f18_fs)"
   ]
  },
  {
   "cell_type": "markdown",
   "metadata": {
    "heading_collapsed": true
   },
   "source": [
    "## SVC"
   ]
  },
  {
   "cell_type": "code",
   "execution_count": 101,
   "metadata": {
    "hidden": true
   },
   "outputs": [],
   "source": [
    "from sklearn.svm import SVC"
   ]
  },
  {
   "cell_type": "markdown",
   "metadata": {
    "hidden": true
   },
   "source": [
    "### Original df"
   ]
  },
  {
   "cell_type": "code",
   "execution_count": 102,
   "metadata": {
    "hidden": true
   },
   "outputs": [
    {
     "data": {
      "text/plain": [
       "array([[7625,   10],\n",
       "       [ 996,    8]])"
      ]
     },
     "metadata": {},
     "output_type": "display_data"
    },
    {
     "name": "stdout",
     "output_type": "stream",
     "text": [
      "Accuracy 0.8835513369602963\n",
      "Recall 0.00796812749003984\n",
      "Precision 0.4444444444444444\n",
      "F1 0.015655577299412915\n"
     ]
    }
   ],
   "source": [
    "model9=SVC()\n",
    "model9.fit(X_train, y_train)\n",
    "y_pred9=model9.predict(X_test)\n",
    "conf9=confusion_matrix(y_test, y_pred9)\n",
    "acc9=accuracy_score(y_test, y_pred9)\n",
    "rec9=recall_score(y_test, y_pred9)\n",
    "pre9=precision_score(y_test, y_pred9)\n",
    "f19=f1_score(y_test, y_pred9)\n",
    "display(conf9)\n",
    "print('Accuracy', acc9)\n",
    "print('Recall', rec9)\n",
    "print('Precision', pre9)\n",
    "print('F1', f19)"
   ]
  },
  {
   "cell_type": "markdown",
   "metadata": {
    "hidden": true
   },
   "source": [
    "### Original df with rescale"
   ]
  },
  {
   "cell_type": "code",
   "execution_count": 103,
   "metadata": {
    "hidden": true
   },
   "outputs": [
    {
     "name": "stderr",
     "output_type": "stream",
     "text": [
      "/usr/local/Cellar/jupyterlab/2.2.0/libexec/lib/python3.8/site-packages/sklearn/metrics/_classification.py:1221: UndefinedMetricWarning: Precision is ill-defined and being set to 0.0 due to no predicted samples. Use `zero_division` parameter to control this behavior.\n",
      "  _warn_prf(average, modifier, msg_start, len(result))\n"
     ]
    },
    {
     "data": {
      "text/plain": [
       "array([[7635,    0],\n",
       "       [1004,    0]])"
      ]
     },
     "metadata": {},
     "output_type": "display_data"
    },
    {
     "name": "stdout",
     "output_type": "stream",
     "text": [
      "Accuracy 0.8837828452367172\n",
      "Recall 0.0\n",
      "Precision 0.0\n",
      "F1 0.0\n"
     ]
    }
   ],
   "source": [
    "model9_sca=SVC()\n",
    "model9_sca.fit(X_train_sca, y_train_sca)\n",
    "y_pred9_sca=model9_sca.predict(X_test_sca)\n",
    "conf9_sca=confusion_matrix(y_test_sca, y_pred9_sca)\n",
    "acc9_sca=accuracy_score(y_test_sca, y_pred9_sca)\n",
    "rec9_sca=recall_score(y_test_sca, y_pred9_sca)\n",
    "pre9_sca=precision_score(y_test_sca, y_pred9_sca)\n",
    "f19_sca=f1_score(y_test_sca, y_pred9_sca)\n",
    "display(conf9_sca)\n",
    "print('Accuracy', acc9_sca)\n",
    "print('Recall', rec9_sca)\n",
    "print('Precision', pre9_sca)\n",
    "print('F1', f19_sca)"
   ]
  },
  {
   "cell_type": "markdown",
   "metadata": {
    "hidden": true
   },
   "source": [
    "### Features selection df"
   ]
  },
  {
   "cell_type": "code",
   "execution_count": 104,
   "metadata": {
    "hidden": true
   },
   "outputs": [
    {
     "data": {
      "text/plain": [
       "array([[7544,   91],\n",
       "       [ 863,  141]])"
      ]
     },
     "metadata": {},
     "output_type": "display_data"
    },
    {
     "name": "stdout",
     "output_type": "stream",
     "text": [
      "Accuracy 0.8895705521472392\n",
      "Recall 0.14043824701195218\n",
      "Precision 0.6077586206896551\n",
      "F1 0.22815533980582522\n"
     ]
    }
   ],
   "source": [
    "model9_fs=SVC()\n",
    "model9_fs.fit(X_train_fs, y_train_fs)\n",
    "y_pred9_fs=model9_fs.predict(X_test_fs)\n",
    "conf9_fs=confusion_matrix(y_test_fs, y_pred9_fs)\n",
    "acc9_fs=accuracy_score(y_test_fs, y_pred9_fs)\n",
    "rec9_fs=recall_score(y_test_fs, y_pred9_fs)\n",
    "pre9_fs=precision_score(y_test_fs, y_pred9_fs)\n",
    "f19_fs=f1_score(y_test_fs, y_pred9_fs)\n",
    "display(conf9_fs)\n",
    "print('Accuracy', acc9_fs)\n",
    "print('Recall', rec9_fs)\n",
    "print('Precision', pre9_fs)\n",
    "print('F1', f19_fs)"
   ]
  },
  {
   "cell_type": "markdown",
   "metadata": {
    "heading_collapsed": true
   },
   "source": [
    "## Gaussian"
   ]
  },
  {
   "cell_type": "code",
   "execution_count": 105,
   "metadata": {
    "hidden": true
   },
   "outputs": [],
   "source": [
    "from sklearn.naive_bayes import GaussianNB"
   ]
  },
  {
   "cell_type": "markdown",
   "metadata": {
    "heading_collapsed": true,
    "hidden": true
   },
   "source": [
    "### Original df"
   ]
  },
  {
   "cell_type": "code",
   "execution_count": 106,
   "metadata": {
    "hidden": true
   },
   "outputs": [
    {
     "data": {
      "text/plain": [
       "array([[6982,  653],\n",
       "       [ 512,  492]])"
      ]
     },
     "metadata": {},
     "output_type": "display_data"
    },
    {
     "name": "stdout",
     "output_type": "stream",
     "text": [
      "Accuracy 0.8651464289848362\n",
      "Recall 0.4900398406374502\n",
      "Precision 0.42969432314410483\n",
      "F1 0.4578873894834807\n"
     ]
    }
   ],
   "source": [
    "model10=GaussianNB()\n",
    "model10.fit(X_train, y_train)\n",
    "y_pred10=model10.predict(X_test)\n",
    "conf10=confusion_matrix(y_test, y_pred10)\n",
    "acc10=accuracy_score(y_test, y_pred10)\n",
    "rec10=recall_score(y_test, y_pred10)\n",
    "pre10=precision_score(y_test, y_pred10)\n",
    "f110=f1_score(y_test, y_pred10)\n",
    "display(conf10)\n",
    "print('Accuracy', acc10)\n",
    "print('Recall', rec10)\n",
    "print('Precision', pre10)\n",
    "print('F1', f110)"
   ]
  },
  {
   "cell_type": "markdown",
   "metadata": {
    "heading_collapsed": true,
    "hidden": true
   },
   "source": [
    "### Original df with rescale"
   ]
  },
  {
   "cell_type": "code",
   "execution_count": 107,
   "metadata": {
    "hidden": true
   },
   "outputs": [
    {
     "data": {
      "text/plain": [
       "array([[6935,  700],\n",
       "       [ 490,  514]])"
      ]
     },
     "metadata": {},
     "output_type": "display_data"
    },
    {
     "name": "stdout",
     "output_type": "stream",
     "text": [
      "Accuracy 0.8622525755295751\n",
      "Recall 0.5119521912350598\n",
      "Precision 0.4233937397034596\n",
      "F1 0.4634806131650135\n"
     ]
    }
   ],
   "source": [
    "model10_sca=GaussianNB()\n",
    "model10_sca.fit(X_train_sca, y_train_sca)\n",
    "y_pred10_sca=model10_sca.predict(X_test_sca)\n",
    "conf10_sca=confusion_matrix(y_test_sca, y_pred10_sca)\n",
    "acc10_sca=accuracy_score(y_test_sca, y_pred10_sca)\n",
    "rec10_sca=recall_score(y_test_sca, y_pred10_sca)\n",
    "pre10_sca=precision_score(y_test_sca, y_pred10_sca)\n",
    "f110_sca=f1_score(y_test_sca, y_pred10_sca)\n",
    "display(conf10_sca)\n",
    "print('Accuracy', acc10_sca)\n",
    "print('Recall', rec10_sca)\n",
    "print('Precision', pre10_sca)\n",
    "print('F1', f110_sca)"
   ]
  },
  {
   "cell_type": "markdown",
   "metadata": {
    "heading_collapsed": true,
    "hidden": true
   },
   "source": [
    "### Features selection df"
   ]
  },
  {
   "cell_type": "code",
   "execution_count": 108,
   "metadata": {
    "hidden": true
   },
   "outputs": [
    {
     "data": {
      "text/plain": [
       "array([[7228,  407],\n",
       "       [ 614,  390]])"
      ]
     },
     "metadata": {},
     "output_type": "display_data"
    },
    {
     "name": "stdout",
     "output_type": "stream",
     "text": [
      "Accuracy 0.8818150248871397\n",
      "Recall 0.3884462151394422\n",
      "Precision 0.4893350062735257\n",
      "F1 0.4330927262631871\n"
     ]
    }
   ],
   "source": [
    "model10_fs=GaussianNB()\n",
    "model10_fs.fit(X_train_fs, y_train_fs)\n",
    "y_pred10_fs=model10_fs.predict(X_test_fs)\n",
    "conf10_fs=confusion_matrix(y_test_fs, y_pred10_fs)\n",
    "acc10_fs=accuracy_score(y_test_fs, y_pred10_fs)\n",
    "rec10_fs=recall_score(y_test_fs, y_pred10_fs)\n",
    "pre10_fs=precision_score(y_test_fs, y_pred10_fs)\n",
    "f110_fs=f1_score(y_test_fs, y_pred10_fs)\n",
    "display(conf10_fs)\n",
    "print('Accuracy', acc10_fs)\n",
    "print('Recall', rec10_fs)\n",
    "print('Precision', pre10_fs)\n",
    "print('F1', f110_fs)"
   ]
  },
  {
   "cell_type": "markdown",
   "metadata": {},
   "source": [
    "# Models world competition"
   ]
  },
  {
   "cell_type": "markdown",
   "metadata": {},
   "source": [
    "## Group phase"
   ]
  },
  {
   "cell_type": "code",
   "execution_count": 145,
   "metadata": {},
   "outputs": [],
   "source": [
    "data={'df_type': pd.Series(['original','original','original','original','rescale','rescale','rescale','rescale','feature','feature','feature','feature']),\n",
    "     'indice': pd.Series(['accuracy','recall','precision','f1','accuracy','recall','precision','f1','accuracy','recall','precision','f1']),\n",
    "     'decision_tree': pd.Series([acc1, rec1, pre1, f11, acc1_sca, rec1_sca, pre1_sca, f11_sca, acc1_fs, rec1_fs, pre1_fs, f11_fs]),\n",
    "     'random_forest': pd.Series([acc2, rec2, pre2, f12, acc2_sca, rec2_sca, pre2_sca, f12_sca, acc2_fs, rec2_fs, pre2_fs, f12_fs]),\n",
    "     'random_forest_balanced': pd.Series([acc3, rec3, pre3, f13, acc3_sca, rec3_sca, pre3_sca, f13_sca, acc3_fs, rec3_fs, pre3_fs, f13_fs]),\n",
    "     'xgboost': pd.Series([acc4, rec4, pre4, f14, acc4_sca, rec4_sca, pre4_sca, f14_sca, acc4_fs, rec4_fs, pre4_fs, f14_fs]),\n",
    "     'adaboost': pd.Series([acc5, rec5, pre5, f15, acc5_sca, rec5_sca, pre5_sca, f15_sca, acc5_fs, rec5_fs, pre5_fs, f15_fs]),\n",
    "     'catboost': pd.Series([acc6, rec6, pre6, f16, acc6_sca, rec6_sca, pre6_sca, f16_sca, acc6_fs, rec6_fs, pre6_fs, f16_fs]),\n",
    "     'kneighbors': pd.Series([acc7, rec7, pre7, f17, acc7_sca, rec7_sca, pre7_sca, f17_sca, acc7_fs, rec7_fs, pre7_fs, f17_fs]),\n",
    "     'logistic_regression': pd.Series([acc8, rec8, pre8, f18, acc8_sca, rec8_sca, pre8_sca, f18_sca, acc8_fs, rec8_fs, pre8_fs, f18_fs]),\n",
    "     'svc': pd.Series([acc9, rec9, pre9, f19, acc9_sca, rec9_sca, pre9_sca, f19_sca, acc9_fs, rec9_fs, pre9_fs, f19_fs]),\n",
    "     'gaussian': pd.Series([acc10, rec10, pre10, f110, acc10_sca, rec10_sca, pre10_sca, f110_sca, acc10_fs, rec10_fs, pre10_fs, f110_fs])}\n"
   ]
  },
  {
   "cell_type": "code",
   "execution_count": 146,
   "metadata": {},
   "outputs": [],
   "source": [
    "df_models=pd.DataFrame(data)"
   ]
  },
  {
   "cell_type": "code",
   "execution_count": 147,
   "metadata": {},
   "outputs": [
    {
     "data": {
      "text/html": [
       "<div>\n",
       "<style scoped>\n",
       "    .dataframe tbody tr th:only-of-type {\n",
       "        vertical-align: middle;\n",
       "    }\n",
       "\n",
       "    .dataframe tbody tr th {\n",
       "        vertical-align: top;\n",
       "    }\n",
       "\n",
       "    .dataframe thead th {\n",
       "        text-align: right;\n",
       "    }\n",
       "</style>\n",
       "<table border=\"1\" class=\"dataframe\">\n",
       "  <thead>\n",
       "    <tr style=\"text-align: right;\">\n",
       "      <th></th>\n",
       "      <th>df_type</th>\n",
       "      <th>indice</th>\n",
       "      <th>decision_tree</th>\n",
       "      <th>random_forest</th>\n",
       "      <th>random_forest_balanced</th>\n",
       "      <th>xgboost</th>\n",
       "      <th>adaboost</th>\n",
       "      <th>catboost</th>\n",
       "      <th>kneighbors</th>\n",
       "      <th>logistic_regression</th>\n",
       "      <th>svc</th>\n",
       "      <th>gaussian</th>\n",
       "    </tr>\n",
       "  </thead>\n",
       "  <tbody>\n",
       "    <tr>\n",
       "      <th>0</th>\n",
       "      <td>original</td>\n",
       "      <td>accuracy</td>\n",
       "      <td>0.872786</td>\n",
       "      <td>0.901956</td>\n",
       "      <td>0.899873</td>\n",
       "      <td>0.872786</td>\n",
       "      <td>0.895474</td>\n",
       "      <td>0.908554</td>\n",
       "      <td>0.882162</td>\n",
       "      <td>0.893043</td>\n",
       "      <td>0.883551</td>\n",
       "      <td>0.865146</td>\n",
       "    </tr>\n",
       "    <tr>\n",
       "      <th>1</th>\n",
       "      <td>original</td>\n",
       "      <td>recall</td>\n",
       "      <td>0.480080</td>\n",
       "      <td>0.401394</td>\n",
       "      <td>0.327689</td>\n",
       "      <td>0.480080</td>\n",
       "      <td>0.339641</td>\n",
       "      <td>0.463147</td>\n",
       "      <td>0.273904</td>\n",
       "      <td>0.241036</td>\n",
       "      <td>0.007968</td>\n",
       "      <td>0.490040</td>\n",
       "    </tr>\n",
       "    <tr>\n",
       "      <th>2</th>\n",
       "      <td>original</td>\n",
       "      <td>precision</td>\n",
       "      <td>0.455146</td>\n",
       "      <td>0.620955</td>\n",
       "      <td>0.633911</td>\n",
       "      <td>0.455146</td>\n",
       "      <td>0.586919</td>\n",
       "      <td>0.649441</td>\n",
       "      <td>0.487589</td>\n",
       "      <td>0.599010</td>\n",
       "      <td>0.444444</td>\n",
       "      <td>0.429694</td>\n",
       "    </tr>\n",
       "    <tr>\n",
       "      <th>3</th>\n",
       "      <td>original</td>\n",
       "      <td>f1</td>\n",
       "      <td>0.467281</td>\n",
       "      <td>0.487598</td>\n",
       "      <td>0.432042</td>\n",
       "      <td>0.467281</td>\n",
       "      <td>0.430284</td>\n",
       "      <td>0.540698</td>\n",
       "      <td>0.350765</td>\n",
       "      <td>0.343750</td>\n",
       "      <td>0.015656</td>\n",
       "      <td>0.457887</td>\n",
       "    </tr>\n",
       "    <tr>\n",
       "      <th>4</th>\n",
       "      <td>rescale</td>\n",
       "      <td>accuracy</td>\n",
       "      <td>0.872439</td>\n",
       "      <td>0.902535</td>\n",
       "      <td>0.902535</td>\n",
       "      <td>0.909133</td>\n",
       "      <td>0.895474</td>\n",
       "      <td>0.908554</td>\n",
       "      <td>0.885288</td>\n",
       "      <td>0.892580</td>\n",
       "      <td>0.883783</td>\n",
       "      <td>0.862253</td>\n",
       "    </tr>\n",
       "    <tr>\n",
       "      <th>5</th>\n",
       "      <td>rescale</td>\n",
       "      <td>recall</td>\n",
       "      <td>0.475100</td>\n",
       "      <td>0.392430</td>\n",
       "      <td>0.346614</td>\n",
       "      <td>0.484064</td>\n",
       "      <td>0.339641</td>\n",
       "      <td>0.463147</td>\n",
       "      <td>0.251992</td>\n",
       "      <td>0.203187</td>\n",
       "      <td>0.000000</td>\n",
       "      <td>0.511952</td>\n",
       "    </tr>\n",
       "    <tr>\n",
       "      <th>6</th>\n",
       "      <td>rescale</td>\n",
       "      <td>precision</td>\n",
       "      <td>0.453422</td>\n",
       "      <td>0.629393</td>\n",
       "      <td>0.651685</td>\n",
       "      <td>0.645418</td>\n",
       "      <td>0.586919</td>\n",
       "      <td>0.649441</td>\n",
       "      <td>0.513185</td>\n",
       "      <td>0.614458</td>\n",
       "      <td>0.000000</td>\n",
       "      <td>0.423394</td>\n",
       "    </tr>\n",
       "    <tr>\n",
       "      <th>7</th>\n",
       "      <td>rescale</td>\n",
       "      <td>f1</td>\n",
       "      <td>0.464008</td>\n",
       "      <td>0.483436</td>\n",
       "      <td>0.452536</td>\n",
       "      <td>0.553216</td>\n",
       "      <td>0.430284</td>\n",
       "      <td>0.540698</td>\n",
       "      <td>0.338009</td>\n",
       "      <td>0.305389</td>\n",
       "      <td>0.000000</td>\n",
       "      <td>0.463481</td>\n",
       "    </tr>\n",
       "    <tr>\n",
       "      <th>8</th>\n",
       "      <td>feature</td>\n",
       "      <td>accuracy</td>\n",
       "      <td>0.864568</td>\n",
       "      <td>0.880426</td>\n",
       "      <td>0.872902</td>\n",
       "      <td>0.897558</td>\n",
       "      <td>0.892117</td>\n",
       "      <td>0.892117</td>\n",
       "      <td>0.889455</td>\n",
       "      <td>0.893043</td>\n",
       "      <td>0.889571</td>\n",
       "      <td>0.881815</td>\n",
       "    </tr>\n",
       "    <tr>\n",
       "      <th>9</th>\n",
       "      <td>feature</td>\n",
       "      <td>recall</td>\n",
       "      <td>0.399402</td>\n",
       "      <td>0.383466</td>\n",
       "      <td>0.383466</td>\n",
       "      <td>0.357570</td>\n",
       "      <td>0.295817</td>\n",
       "      <td>0.295817</td>\n",
       "      <td>0.331673</td>\n",
       "      <td>0.226096</td>\n",
       "      <td>0.140438</td>\n",
       "      <td>0.388446</td>\n",
       "    </tr>\n",
       "    <tr>\n",
       "      <th>10</th>\n",
       "      <td>feature</td>\n",
       "      <td>precision</td>\n",
       "      <td>0.414256</td>\n",
       "      <td>0.481852</td>\n",
       "      <td>0.445602</td>\n",
       "      <td>0.599332</td>\n",
       "      <td>0.568966</td>\n",
       "      <td>0.568966</td>\n",
       "      <td>0.539708</td>\n",
       "      <td>0.606952</td>\n",
       "      <td>0.607759</td>\n",
       "      <td>0.489335</td>\n",
       "    </tr>\n",
       "    <tr>\n",
       "      <th>11</th>\n",
       "      <td>feature</td>\n",
       "      <td>f1</td>\n",
       "      <td>0.406694</td>\n",
       "      <td>0.427066</td>\n",
       "      <td>0.412206</td>\n",
       "      <td>0.447910</td>\n",
       "      <td>0.389253</td>\n",
       "      <td>0.389253</td>\n",
       "      <td>0.410857</td>\n",
       "      <td>0.329463</td>\n",
       "      <td>0.228155</td>\n",
       "      <td>0.433093</td>\n",
       "    </tr>\n",
       "  </tbody>\n",
       "</table>\n",
       "</div>"
      ],
      "text/plain": [
       "     df_type     indice  decision_tree  random_forest  random_forest_balanced  \\\n",
       "0   original   accuracy       0.872786       0.901956                0.899873   \n",
       "1   original     recall       0.480080       0.401394                0.327689   \n",
       "2   original  precision       0.455146       0.620955                0.633911   \n",
       "3   original         f1       0.467281       0.487598                0.432042   \n",
       "4    rescale   accuracy       0.872439       0.902535                0.902535   \n",
       "5    rescale     recall       0.475100       0.392430                0.346614   \n",
       "6    rescale  precision       0.453422       0.629393                0.651685   \n",
       "7    rescale         f1       0.464008       0.483436                0.452536   \n",
       "8    feature   accuracy       0.864568       0.880426                0.872902   \n",
       "9    feature     recall       0.399402       0.383466                0.383466   \n",
       "10   feature  precision       0.414256       0.481852                0.445602   \n",
       "11   feature         f1       0.406694       0.427066                0.412206   \n",
       "\n",
       "     xgboost  adaboost  catboost  kneighbors  logistic_regression       svc  \\\n",
       "0   0.872786  0.895474  0.908554    0.882162             0.893043  0.883551   \n",
       "1   0.480080  0.339641  0.463147    0.273904             0.241036  0.007968   \n",
       "2   0.455146  0.586919  0.649441    0.487589             0.599010  0.444444   \n",
       "3   0.467281  0.430284  0.540698    0.350765             0.343750  0.015656   \n",
       "4   0.909133  0.895474  0.908554    0.885288             0.892580  0.883783   \n",
       "5   0.484064  0.339641  0.463147    0.251992             0.203187  0.000000   \n",
       "6   0.645418  0.586919  0.649441    0.513185             0.614458  0.000000   \n",
       "7   0.553216  0.430284  0.540698    0.338009             0.305389  0.000000   \n",
       "8   0.897558  0.892117  0.892117    0.889455             0.893043  0.889571   \n",
       "9   0.357570  0.295817  0.295817    0.331673             0.226096  0.140438   \n",
       "10  0.599332  0.568966  0.568966    0.539708             0.606952  0.607759   \n",
       "11  0.447910  0.389253  0.389253    0.410857             0.329463  0.228155   \n",
       "\n",
       "    gaussian  \n",
       "0   0.865146  \n",
       "1   0.490040  \n",
       "2   0.429694  \n",
       "3   0.457887  \n",
       "4   0.862253  \n",
       "5   0.511952  \n",
       "6   0.423394  \n",
       "7   0.463481  \n",
       "8   0.881815  \n",
       "9   0.388446  \n",
       "10  0.489335  \n",
       "11  0.433093  "
      ]
     },
     "execution_count": 147,
     "metadata": {},
     "output_type": "execute_result"
    }
   ],
   "source": [
    "df_models"
   ]
  },
  {
   "cell_type": "markdown",
   "metadata": {},
   "source": [
    "### Group decision tree"
   ]
  },
  {
   "cell_type": "code",
   "execution_count": 148,
   "metadata": {},
   "outputs": [
    {
     "data": {
      "text/plain": [
       "<AxesSubplot:xlabel='indice', ylabel='decision_tree'>"
      ]
     },
     "execution_count": 148,
     "metadata": {},
     "output_type": "execute_result"
    },
    {
     "data": {
      "image/png": "[encoded data removed]",
      "text/plain": [
       "<Figure size 432x288 with 1 Axes>"
      ]
     },
     "metadata": {
      "needs_background": "light"
     },
     "output_type": "display_data"
    }
   ],
   "source": [
    "sns.barplot(df_models.indice, df_models.decision_tree, hue=df_tree.df_type)"
   ]
  },
  {
   "cell_type": "markdown",
   "metadata": {},
   "source": [
    "And the winner is : \\\n",
    "\\\n",
    "**Original tree**"
   ]
  },
  {
   "cell_type": "markdown",
   "metadata": {},
   "source": [
    "### Group random forest"
   ]
  },
  {
   "cell_type": "code",
   "execution_count": 149,
   "metadata": {},
   "outputs": [
    {
     "data": {
      "text/plain": [
       "<AxesSubplot:xlabel='indice', ylabel='random_forest'>"
      ]
     },
     "execution_count": 149,
     "metadata": {},
     "output_type": "execute_result"
    },
    {
     "data": {
      "image/png": "[encoded data removed]",
      "text/plain": [
       "<Figure size 432x288 with 1 Axes>"
      ]
     },
     "metadata": {
      "needs_background": "light"
     },
     "output_type": "display_data"
    }
   ],
   "source": [
    "sns.barplot(df_models.indice, df_models.random_forest, hue=df_tree.df_type)"
   ]
  },
  {
   "cell_type": "markdown",
   "metadata": {},
   "source": [
    "And the winner is : \\\n",
    "\\\n",
    "**Original random forest**"
   ]
  },
  {
   "cell_type": "markdown",
   "metadata": {},
   "source": [
    "### Group random forest balanced"
   ]
  },
  {
   "cell_type": "code",
   "execution_count": 150,
   "metadata": {},
   "outputs": [
    {
     "data": {
      "text/plain": [
       "<AxesSubplot:xlabel='indice', ylabel='random_forest_balanced'>"
      ]
     },
     "execution_count": 150,
     "metadata": {},
     "output_type": "execute_result"
    },
    {
     "data": {
      "image/png": "[encoded data removed]",
      "text/plain": [
       "<Figure size 432x288 with 1 Axes>"
      ]
     },
     "metadata": {
      "needs_background": "light"
     },
     "output_type": "display_data"
    }
   ],
   "source": [
    "sns.barplot(df_models.indice, df_models.random_forest_balanced, hue=df_tree.df_type)"
   ]
  },
  {
   "cell_type": "markdown",
   "metadata": {},
   "source": [
    "And the winner is : \\\n",
    "\\\n",
    "**Rescale random forest balanced**"
   ]
  },
  {
   "cell_type": "markdown",
   "metadata": {},
   "source": [
    "### Group XGBoost"
   ]
  },
  {
   "cell_type": "code",
   "execution_count": 151,
   "metadata": {},
   "outputs": [
    {
     "data": {
      "text/plain": [
       "<AxesSubplot:xlabel='indice', ylabel='xgboost'>"
      ]
     },
     "execution_count": 151,
     "metadata": {},
     "output_type": "execute_result"
    },
    {
     "data": {
      "image/png": "[encoded data removed]",
      "text/plain": [
       "<Figure size 432x288 with 1 Axes>"
      ]
     },
     "metadata": {
      "needs_background": "light"
     },
     "output_type": "display_data"
    }
   ],
   "source": [
    "sns.barplot(df_models.indice, df_models.xgboost, hue=df_tree.df_type)"
   ]
  },
  {
   "cell_type": "markdown",
   "metadata": {},
   "source": [
    "And the winner is : \\\n",
    "\\\n",
    "**Rescale XGBoost**"
   ]
  },
  {
   "cell_type": "markdown",
   "metadata": {},
   "source": [
    "### Group Adaboost"
   ]
  },
  {
   "cell_type": "code",
   "execution_count": 153,
   "metadata": {},
   "outputs": [
    {
     "data": {
      "text/plain": [
       "<AxesSubplot:xlabel='indice', ylabel='adaboost'>"
      ]
     },
     "execution_count": 153,
     "metadata": {},
     "output_type": "execute_result"
    },
    {
     "data": {
      "image/png": "[encoded data removed]",
      "text/plain": [
       "<Figure size 432x288 with 1 Axes>"
      ]
     },
     "metadata": {
      "needs_background": "light"
     },
     "output_type": "display_data"
    }
   ],
   "source": [
    "sns.barplot(df_models.indice, df_models.adaboost, hue=df_tree.df_type)"
   ]
  },
  {
   "cell_type": "markdown",
   "metadata": {},
   "source": [
    "And the winner is : \\\n",
    "\\\n",
    "**Original Adaboost**"
   ]
  },
  {
   "cell_type": "markdown",
   "metadata": {},
   "source": [
    "### Group Catboost"
   ]
  },
  {
   "cell_type": "code",
   "execution_count": 156,
   "metadata": {},
   "outputs": [
    {
     "data": {
      "text/plain": [
       "<AxesSubplot:xlabel='indice', ylabel='catboost'>"
      ]
     },
     "execution_count": 156,
     "metadata": {},
     "output_type": "execute_result"
    },
    {
     "data": {
      "image/png": "[encoded data removed]",
      "text/plain": [
       "<Figure size 432x288 with 1 Axes>"
      ]
     },
     "metadata": {
      "needs_background": "light"
     },
     "output_type": "display_data"
    }
   ],
   "source": [
    "sns.barplot(df_models.indice, df_models.catboost, hue=df_tree.df_type)"
   ]
  },
  {
   "cell_type": "markdown",
   "metadata": {},
   "source": [
    "And the winner is : \\\n",
    "\\\n",
    "**Original Catboost**"
   ]
  },
  {
   "cell_type": "markdown",
   "metadata": {},
   "source": [
    "### Group KNeighbors"
   ]
  },
  {
   "cell_type": "code",
   "execution_count": 157,
   "metadata": {},
   "outputs": [
    {
     "data": {
      "text/plain": [
       "<AxesSubplot:xlabel='indice', ylabel='kneighbors'>"
      ]
     },
     "execution_count": 157,
     "metadata": {},
     "output_type": "execute_result"
    },
    {
     "data": {
      "image/png": "[encoded data removed]",
      "text/plain": [
       "<Figure size 432x288 with 1 Axes>"
      ]
     },
     "metadata": {
      "needs_background": "light"
     },
     "output_type": "display_data"
    }
   ],
   "source": [
    "sns.barplot(df_models.indice, df_models.kneighbors, hue=df_tree.df_type)"
   ]
  },
  {
   "cell_type": "markdown",
   "metadata": {},
   "source": [
    "And the winner is : \\\n",
    "\\\n",
    "**Feature KNeighbors**"
   ]
  },
  {
   "cell_type": "markdown",
   "metadata": {},
   "source": [
    "### Logistic regression"
   ]
  },
  {
   "cell_type": "code",
   "execution_count": 159,
   "metadata": {},
   "outputs": [
    {
     "data": {
      "text/plain": [
       "<AxesSubplot:xlabel='indice', ylabel='logistic_regression'>"
      ]
     },
     "execution_count": 159,
     "metadata": {},
     "output_type": "execute_result"
    },
    {
     "data": {
      "image/png": "[encoded data removed]",
      "text/plain": [
       "<Figure size 432x288 with 1 Axes>"
      ]
     },
     "metadata": {
      "needs_background": "light"
     },
     "output_type": "display_data"
    }
   ],
   "source": [
    "sns.barplot(df_models.indice, df_models.logistic_regression, hue=df_tree.df_type)"
   ]
  },
  {
   "cell_type": "markdown",
   "metadata": {},
   "source": [
    "And the winner is : \\\n",
    "\\\n",
    "**Original Logistic regression**"
   ]
  },
  {
   "cell_type": "markdown",
   "metadata": {},
   "source": [
    "### Group SVC"
   ]
  },
  {
   "cell_type": "code",
   "execution_count": 160,
   "metadata": {},
   "outputs": [
    {
     "data": {
      "text/plain": [
       "<AxesSubplot:xlabel='indice', ylabel='svc'>"
      ]
     },
     "execution_count": 160,
     "metadata": {},
     "output_type": "execute_result"
    },
    {
     "data": {
      "image/png": "[encoded data removed]",
      "text/plain": [
       "<Figure size 432x288 with 1 Axes>"
      ]
     },
     "metadata": {
      "needs_background": "light"
     },
     "output_type": "display_data"
    }
   ],
   "source": [
    "sns.barplot(df_models.indice, df_models.svc, hue=df_tree.df_type)"
   ]
  },
  {
   "cell_type": "markdown",
   "metadata": {},
   "source": [
    "And the winner is : \\\n",
    "\\\n",
    "**Feature SVC**"
   ]
  },
  {
   "cell_type": "markdown",
   "metadata": {},
   "source": [
    "### Group Gaussian"
   ]
  },
  {
   "cell_type": "code",
   "execution_count": 161,
   "metadata": {},
   "outputs": [
    {
     "data": {
      "text/plain": [
       "<AxesSubplot:xlabel='indice', ylabel='gaussian'>"
      ]
     },
     "execution_count": 161,
     "metadata": {},
     "output_type": "execute_result"
    },
    {
     "data": {
      "image/png": "[encoded data removed]",
      "text/plain": [
       "<Figure size 432x288 with 1 Axes>"
      ]
     },
     "metadata": {
      "needs_background": "light"
     },
     "output_type": "display_data"
    }
   ],
   "source": [
    "sns.barplot(df_models.indice, df_models.gaussian, hue=df_tree.df_type)"
   ]
  },
  {
   "cell_type": "markdown",
   "metadata": {},
   "source": [
    "And the winner is : \\\n",
    "\\\n",
    "**Feature Gaussian**"
   ]
  },
  {
   "cell_type": "markdown",
   "metadata": {},
   "source": [
    "## final phase"
   ]
  },
  {
   "cell_type": "markdown",
   "metadata": {},
   "source": [
    "Quick recap of our 10 competitors:\n",
    "* Original tree\n",
    "* Original random forest\n",
    "* Rescale random forest balanced\n",
    "* Rescale XGBoost\n",
    "* Original Adaboost\n",
    "* Original Catboost\n",
    "* Feature KNeighbors\n",
    "* Original Logistic regression\n",
    "* Feature SVC\n",
    "* Feature Gaussian"
   ]
  },
  {
   "cell_type": "code",
   "execution_count": 168,
   "metadata": {},
   "outputs": [],
   "source": [
    "data_f={'indice': pd.Series(['accuracy','recall','precision','f1','accuracy','recall','precision','f1','accuracy','recall','precision','f1','accuracy','recall','precision','f1','accuracy','recall','precision','f1','accuracy','recall','precision','f1','accuracy','recall','precision','f1','accuracy','recall','precision','f1','accuracy','recall','precision','f1','accuracy','recall','precision','f1']),\n",
    "     'competitors': pd.Series(['original_tree','original_tree','original_tree','original_tree','original_random_forest','original_random_forest','original_random_forest','original_random_forest','rescale_random_forest_balanced','rescale_random_forest_balanced','rescale_random_forest_balanced','rescale_random_forest_balanced','rescale_xgboost','rescale_xgboost','rescale_xgboost','rescale_xgboost','original_adaboost','original_adaboost','original_adaboost','original_adaboost','original_catboost','original_catboost','original_catboost','original_catboost','feature_kneighbors','feature_kneighbors','feature_kneighbors','feature_kneighbors','original_logistic_regression','original_logistic_regression','original_logistic_regression','original_logistic_regression','feature_svc','feature_svc','feature_svc','feature_svc','feature_gaussian','feature_gaussian','feature_gaussian','feature_gaussian']), \n",
    "     'amount': pd.Series([acc1, rec1, pre1, f11, acc2, rec2, pre2, f12, acc3_sca, rec3_sca, pre3_sca, f13_sca, acc4_sca, rec4_sca, pre4_sca, f14_sca, acc5, rec5, pre5, f15, acc6, rec6, pre6, f16, acc7_fs, rec7_fs, pre7_fs, f17_fs, acc8, rec8, pre8, f18, acc9_fs, rec9_fs, pre9_fs, f19_fs, acc10_fs, rec10_fs, pre10_fs, f110_fs])}\n"
   ]
  },
  {
   "cell_type": "code",
   "execution_count": 169,
   "metadata": {},
   "outputs": [],
   "source": [
    "df_models_f=pd.DataFrame(data_f)"
   ]
  },
  {
   "cell_type": "code",
   "execution_count": 170,
   "metadata": {},
   "outputs": [
    {
     "data": {
      "text/html": [
       "<div>\n",
       "<style scoped>\n",
       "    .dataframe tbody tr th:only-of-type {\n",
       "        vertical-align: middle;\n",
       "    }\n",
       "\n",
       "    .dataframe tbody tr th {\n",
       "        vertical-align: top;\n",
       "    }\n",
       "\n",
       "    .dataframe thead th {\n",
       "        text-align: right;\n",
       "    }\n",
       "</style>\n",
       "<table border=\"1\" class=\"dataframe\">\n",
       "  <thead>\n",
       "    <tr style=\"text-align: right;\">\n",
       "      <th></th>\n",
       "      <th>indice</th>\n",
       "      <th>competitors</th>\n",
       "      <th>amount</th>\n",
       "    </tr>\n",
       "  </thead>\n",
       "  <tbody>\n",
       "    <tr>\n",
       "      <th>0</th>\n",
       "      <td>accuracy</td>\n",
       "      <td>original_tree</td>\n",
       "      <td>0.872786</td>\n",
       "    </tr>\n",
       "    <tr>\n",
       "      <th>1</th>\n",
       "      <td>recall</td>\n",
       "      <td>original_tree</td>\n",
       "      <td>0.480080</td>\n",
       "    </tr>\n",
       "    <tr>\n",
       "      <th>2</th>\n",
       "      <td>precision</td>\n",
       "      <td>original_tree</td>\n",
       "      <td>0.455146</td>\n",
       "    </tr>\n",
       "    <tr>\n",
       "      <th>3</th>\n",
       "      <td>f1</td>\n",
       "      <td>original_tree</td>\n",
       "      <td>0.467281</td>\n",
       "    </tr>\n",
       "    <tr>\n",
       "      <th>4</th>\n",
       "      <td>accuracy</td>\n",
       "      <td>original_random_forest</td>\n",
       "      <td>0.901956</td>\n",
       "    </tr>\n",
       "    <tr>\n",
       "      <th>5</th>\n",
       "      <td>recall</td>\n",
       "      <td>original_random_forest</td>\n",
       "      <td>0.401394</td>\n",
       "    </tr>\n",
       "    <tr>\n",
       "      <th>6</th>\n",
       "      <td>precision</td>\n",
       "      <td>original_random_forest</td>\n",
       "      <td>0.620955</td>\n",
       "    </tr>\n",
       "    <tr>\n",
       "      <th>7</th>\n",
       "      <td>f1</td>\n",
       "      <td>original_random_forest</td>\n",
       "      <td>0.487598</td>\n",
       "    </tr>\n",
       "    <tr>\n",
       "      <th>8</th>\n",
       "      <td>accuracy</td>\n",
       "      <td>rescale_random_forest_balanced</td>\n",
       "      <td>0.902535</td>\n",
       "    </tr>\n",
       "    <tr>\n",
       "      <th>9</th>\n",
       "      <td>recall</td>\n",
       "      <td>rescale_random_forest_balanced</td>\n",
       "      <td>0.346614</td>\n",
       "    </tr>\n",
       "    <tr>\n",
       "      <th>10</th>\n",
       "      <td>precision</td>\n",
       "      <td>rescale_random_forest_balanced</td>\n",
       "      <td>0.651685</td>\n",
       "    </tr>\n",
       "    <tr>\n",
       "      <th>11</th>\n",
       "      <td>f1</td>\n",
       "      <td>rescale_random_forest_balanced</td>\n",
       "      <td>0.452536</td>\n",
       "    </tr>\n",
       "    <tr>\n",
       "      <th>12</th>\n",
       "      <td>accuracy</td>\n",
       "      <td>rescale_xgboost</td>\n",
       "      <td>0.909133</td>\n",
       "    </tr>\n",
       "    <tr>\n",
       "      <th>13</th>\n",
       "      <td>recall</td>\n",
       "      <td>rescale_xgboost</td>\n",
       "      <td>0.484064</td>\n",
       "    </tr>\n",
       "    <tr>\n",
       "      <th>14</th>\n",
       "      <td>precision</td>\n",
       "      <td>rescale_xgboost</td>\n",
       "      <td>0.645418</td>\n",
       "    </tr>\n",
       "    <tr>\n",
       "      <th>15</th>\n",
       "      <td>f1</td>\n",
       "      <td>rescale_xgboost</td>\n",
       "      <td>0.553216</td>\n",
       "    </tr>\n",
       "    <tr>\n",
       "      <th>16</th>\n",
       "      <td>accuracy</td>\n",
       "      <td>original_adaboost</td>\n",
       "      <td>0.895474</td>\n",
       "    </tr>\n",
       "    <tr>\n",
       "      <th>17</th>\n",
       "      <td>recall</td>\n",
       "      <td>original_adaboost</td>\n",
       "      <td>0.339641</td>\n",
       "    </tr>\n",
       "    <tr>\n",
       "      <th>18</th>\n",
       "      <td>precision</td>\n",
       "      <td>original_adaboost</td>\n",
       "      <td>0.586919</td>\n",
       "    </tr>\n",
       "    <tr>\n",
       "      <th>19</th>\n",
       "      <td>f1</td>\n",
       "      <td>original_adaboost</td>\n",
       "      <td>0.430284</td>\n",
       "    </tr>\n",
       "    <tr>\n",
       "      <th>20</th>\n",
       "      <td>accuracy</td>\n",
       "      <td>original_catboost</td>\n",
       "      <td>0.908554</td>\n",
       "    </tr>\n",
       "    <tr>\n",
       "      <th>21</th>\n",
       "      <td>recall</td>\n",
       "      <td>original_catboost</td>\n",
       "      <td>0.463147</td>\n",
       "    </tr>\n",
       "    <tr>\n",
       "      <th>22</th>\n",
       "      <td>precision</td>\n",
       "      <td>original_catboost</td>\n",
       "      <td>0.649441</td>\n",
       "    </tr>\n",
       "    <tr>\n",
       "      <th>23</th>\n",
       "      <td>f1</td>\n",
       "      <td>original_catboost</td>\n",
       "      <td>0.540698</td>\n",
       "    </tr>\n",
       "    <tr>\n",
       "      <th>24</th>\n",
       "      <td>accuracy</td>\n",
       "      <td>feature_kneighbors</td>\n",
       "      <td>0.889455</td>\n",
       "    </tr>\n",
       "    <tr>\n",
       "      <th>25</th>\n",
       "      <td>recall</td>\n",
       "      <td>feature_kneighbors</td>\n",
       "      <td>0.331673</td>\n",
       "    </tr>\n",
       "    <tr>\n",
       "      <th>26</th>\n",
       "      <td>precision</td>\n",
       "      <td>feature_kneighbors</td>\n",
       "      <td>0.539708</td>\n",
       "    </tr>\n",
       "    <tr>\n",
       "      <th>27</th>\n",
       "      <td>f1</td>\n",
       "      <td>feature_kneighbors</td>\n",
       "      <td>0.410857</td>\n",
       "    </tr>\n",
       "    <tr>\n",
       "      <th>28</th>\n",
       "      <td>accuracy</td>\n",
       "      <td>original_logistic_regression</td>\n",
       "      <td>0.893043</td>\n",
       "    </tr>\n",
       "    <tr>\n",
       "      <th>29</th>\n",
       "      <td>recall</td>\n",
       "      <td>original_logistic_regression</td>\n",
       "      <td>0.241036</td>\n",
       "    </tr>\n",
       "    <tr>\n",
       "      <th>30</th>\n",
       "      <td>precision</td>\n",
       "      <td>original_logistic_regression</td>\n",
       "      <td>0.599010</td>\n",
       "    </tr>\n",
       "    <tr>\n",
       "      <th>31</th>\n",
       "      <td>f1</td>\n",
       "      <td>original_logistic_regression</td>\n",
       "      <td>0.343750</td>\n",
       "    </tr>\n",
       "    <tr>\n",
       "      <th>32</th>\n",
       "      <td>accuracy</td>\n",
       "      <td>feature_svc</td>\n",
       "      <td>0.889571</td>\n",
       "    </tr>\n",
       "    <tr>\n",
       "      <th>33</th>\n",
       "      <td>recall</td>\n",
       "      <td>feature_svc</td>\n",
       "      <td>0.140438</td>\n",
       "    </tr>\n",
       "    <tr>\n",
       "      <th>34</th>\n",
       "      <td>precision</td>\n",
       "      <td>feature_svc</td>\n",
       "      <td>0.607759</td>\n",
       "    </tr>\n",
       "    <tr>\n",
       "      <th>35</th>\n",
       "      <td>f1</td>\n",
       "      <td>feature_svc</td>\n",
       "      <td>0.228155</td>\n",
       "    </tr>\n",
       "    <tr>\n",
       "      <th>36</th>\n",
       "      <td>accuracy</td>\n",
       "      <td>feature_gaussian</td>\n",
       "      <td>0.881815</td>\n",
       "    </tr>\n",
       "    <tr>\n",
       "      <th>37</th>\n",
       "      <td>recall</td>\n",
       "      <td>feature_gaussian</td>\n",
       "      <td>0.388446</td>\n",
       "    </tr>\n",
       "    <tr>\n",
       "      <th>38</th>\n",
       "      <td>precision</td>\n",
       "      <td>feature_gaussian</td>\n",
       "      <td>0.489335</td>\n",
       "    </tr>\n",
       "    <tr>\n",
       "      <th>39</th>\n",
       "      <td>f1</td>\n",
       "      <td>feature_gaussian</td>\n",
       "      <td>0.433093</td>\n",
       "    </tr>\n",
       "  </tbody>\n",
       "</table>\n",
       "</div>"
      ],
      "text/plain": [
       "       indice                     competitors    amount\n",
       "0    accuracy                   original_tree  0.872786\n",
       "1      recall                   original_tree  0.480080\n",
       "2   precision                   original_tree  0.455146\n",
       "3          f1                   original_tree  0.467281\n",
       "4    accuracy          original_random_forest  0.901956\n",
       "5      recall          original_random_forest  0.401394\n",
       "6   precision          original_random_forest  0.620955\n",
       "7          f1          original_random_forest  0.487598\n",
       "8    accuracy  rescale_random_forest_balanced  0.902535\n",
       "9      recall  rescale_random_forest_balanced  0.346614\n",
       "10  precision  rescale_random_forest_balanced  0.651685\n",
       "11         f1  rescale_random_forest_balanced  0.452536\n",
       "12   accuracy                 rescale_xgboost  0.909133\n",
       "13     recall                 rescale_xgboost  0.484064\n",
       "14  precision                 rescale_xgboost  0.645418\n",
       "15         f1                 rescale_xgboost  0.553216\n",
       "16   accuracy               original_adaboost  0.895474\n",
       "17     recall               original_adaboost  0.339641\n",
       "18  precision               original_adaboost  0.586919\n",
       "19         f1               original_adaboost  0.430284\n",
       "20   accuracy               original_catboost  0.908554\n",
       "21     recall               original_catboost  0.463147\n",
       "22  precision               original_catboost  0.649441\n",
       "23         f1               original_catboost  0.540698\n",
       "24   accuracy              feature_kneighbors  0.889455\n",
       "25     recall              feature_kneighbors  0.331673\n",
       "26  precision              feature_kneighbors  0.539708\n",
       "27         f1              feature_kneighbors  0.410857\n",
       "28   accuracy    original_logistic_regression  0.893043\n",
       "29     recall    original_logistic_regression  0.241036\n",
       "30  precision    original_logistic_regression  0.599010\n",
       "31         f1    original_logistic_regression  0.343750\n",
       "32   accuracy                     feature_svc  0.889571\n",
       "33     recall                     feature_svc  0.140438\n",
       "34  precision                     feature_svc  0.607759\n",
       "35         f1                     feature_svc  0.228155\n",
       "36   accuracy                feature_gaussian  0.881815\n",
       "37     recall                feature_gaussian  0.388446\n",
       "38  precision                feature_gaussian  0.489335\n",
       "39         f1                feature_gaussian  0.433093"
      ]
     },
     "execution_count": 170,
     "metadata": {},
     "output_type": "execute_result"
    }
   ],
   "source": [
    "df_models_f"
   ]
  },
  {
   "cell_type": "code",
   "execution_count": 212,
   "metadata": {},
   "outputs": [
    {
     "data": {
      "text/plain": [
       "<AxesSubplot:xlabel='indice', ylabel='amount'>"
      ]
     },
     "execution_count": 212,
     "metadata": {},
     "output_type": "execute_result"
    },
    {
     "data": {
      "image/png": "[encoded data removed]",
      "text/plain": [
       "<Figure size 1080x720 with 1 Axes>"
      ]
     },
     "metadata": {
      "needs_background": "light"
     },
     "output_type": "display_data"
    }
   ],
   "source": [
    "dims = (15, 10)\n",
    "fig, ax = plt.subplots(figsize=dims)\n",
    "sns.barplot(x='indice', y='amount', data=df_models_f, hue=df_models_f.competitors) #order=df_models_f.sort_values('amount', ascending=False))\n"
   ]
  },
  {
   "cell_type": "markdown",
   "metadata": {},
   "source": [
    "**Top 5 in accuracy:**\n",
    "* original catboost\n",
    "* rescale xgboost\n",
    "* original random forest\n",
    "* rescale random forest balanced\n",
    "* original adaboost"
   ]
  },
  {
   "cell_type": "markdown",
   "metadata": {},
   "source": [
    "**Top 5 in recall:**\n",
    "* rescale xgboost\n",
    "* original tree\n",
    "* original catboost\n",
    "* original random forest\n",
    "* feature gaussian"
   ]
  },
  {
   "cell_type": "markdown",
   "metadata": {},
   "source": [
    "**Top 5 in precision:**\n",
    "* rescale random forest balanced\n",
    "* original catboost\n",
    "* rescale xgboost\n",
    "* original random forest\n",
    "* feature svc"
   ]
  },
  {
   "cell_type": "markdown",
   "metadata": {},
   "source": [
    "**Top 5 in f1:**\n",
    "* rescale xgboost\n",
    "* original cat boost\n",
    "* original random forest\n",
    "* original tree\n",
    "* rescale random forest balanced"
   ]
  },
  {
   "cell_type": "markdown",
   "metadata": {},
   "source": [
    "AND OUR FINAL WINNER OF 2020 BANK MARKETING DATASET MODELLING COMPETITION IS **RESCALE CATBOOST**"
   ]
  },
  {
   "cell_type": "markdown",
   "metadata": {},
   "source": [
    "Ranking:\n",
    "1. Rescale XGBBoost\n",
    "2. Original CatBoost\n",
    "3. Original random forest\n",
    "4. Rescale random forest balanced\n",
    "5. Original Decision Tree"
   ]
  },
  {
   "cell_type": "code",
   "execution_count": null,
   "metadata": {},
   "outputs": [],
   "source": []
  }
 ],
 "metadata": {
  "kernelspec": {
   "display_name": "Python 3",
   "language": "python",
   "name": "python3"
  },
  "language_info": {
   "codemirror_mode": {
    "name": "ipython",
    "version": 3
   },
   "file_extension": ".py",
   "mimetype": "text/x-python",
   "name": "python",
   "nbconvert_exporter": "python",
   "pygments_lexer": "ipython3",
   "version": "3.8.5"
  },
  "toc": {
   "base_numbering": 1,
   "nav_menu": {},
   "number_sections": true,
   "sideBar": true,
   "skip_h1_title": false,
   "title_cell": "Table of Contents",
   "title_sidebar": "Contents",
   "toc_cell": false,
   "toc_position": {},
   "toc_section_display": true,
   "toc_window_display": false
  }
 },
 "nbformat": 4,
 "nbformat_minor": 4
}
