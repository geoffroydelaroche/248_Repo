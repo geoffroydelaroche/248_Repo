{
 "cells": [
  {
   "cell_type": "code",
   "execution_count": 1,
   "metadata": {},
   "outputs": [
    {
     "data": {
      "text/html": [
       "<img src=\"https://derekmeetsworld.files.wordpress.com/2016/12/world-domination-game-board-2-1-1.jpg\"/>"
      ],
      "text/plain": [
       "<IPython.core.display.Image object>"
      ]
     },
     "execution_count": 1,
     "metadata": {},
     "output_type": "execute_result"
    }
   ],
   "source": [
    "from IPython.display import Image\n",
    "from IPython.core.display import HTML \n",
    "Image(url= \"https://derekmeetsworld.files.wordpress.com/2016/12/world-domination-game-board-2-1-1.jpg\")"
   ]
  },
  {
   "cell_type": "code",
   "execution_count": 2,
   "metadata": {},
   "outputs": [],
   "source": [
    "dice=list(range(1,7))\n",
    "\n",
    "class Player:\n",
    "    \n",
    "    # Local Attributes\n",
    "    \n",
    "    def __init__(self,name):\n",
    "        self.name=name\n",
    "        self.available_soldiers=15\n",
    "        self.territories=dict()\n",
    "        \n",
    "    # Functions\n",
    "    \n",
    "    def take(self,*countries):\n",
    "        for country in countries:\n",
    "            if country.owner==None:\n",
    "                country.owner=self.name\n",
    "                self.territories[country.name]=0\n",
    "                print(f'{self.name} has taken control of {country.name}')\n",
    "            else:\n",
    "                print(f'{country.name} already belongs to {country.owner}! You have to fight to get it.')\n",
    "                \n",
    "    def move_soldiers(self, country, nb_soldier):\n",
    "        if nb_soldier>self.available_soldiers:\n",
    "            print(f'{self.name} doesn\\' have enough soldiers available to make this move')\n",
    "        elif self.name!=country.owner:\n",
    "            print(f'{self.name} is not the owner of {country.name}. You have to fight to get it.')\n",
    "        else:\n",
    "            country.nb_soldier+=nb_soldier\n",
    "            self.available_soldiers-=nb_soldier\n",
    "            self.territories[country.name]+=nb_soldier\n",
    "            print(f'{nb_soldier} have been placed on {country.name}')\n",
    "    \n",
    "    def attack(self, self_country, defense, defense_country):\n",
    "        import random\n",
    "        if self_country.name not in defense_country.neighbours:\n",
    "            print('Sorry, you can\\'t attack this country. You need to be next to the country to attack')\n",
    "        else:\n",
    "            if self_country.nb_soldier <= 1:\n",
    "                print ('Sorry, you don\\'t have enough soldier to attack')\n",
    "            else:\n",
    "                while self_country.nb_soldier > 1 and defense_country.nb_soldier > 0:\n",
    "                    if self_country.nb_soldier-1 >=3:\n",
    "                        nb_dice_attack=3\n",
    "                    else:\n",
    "                        nb_dice_attack=self_country.nb_soldier-1\n",
    "                    if defense_country.nb_soldier >=2:\n",
    "                        nb_dice_defense=2\n",
    "                    else:\n",
    "                        nb_dice_defense=1\n",
    "                    attack_dice = random.choices(dice,k=nb_dice_attack)\n",
    "                    defense_dice = random.choices(dice,k=nb_dice_defense)\n",
    "                    if len(attack_dice)==3:\n",
    "                        attack_dice.remove(min(attack_dice))\n",
    "                    else:\n",
    "                        pass\n",
    "                    while len(attack_dice)>0 and len(defense_dice)>0:\n",
    "                        if max(attack_dice) > max(defense_dice):\n",
    "                            defense_country.nb_soldier += -1\n",
    "                            defense.territories[defense_country.name]-=1\n",
    "                            attack_dice.remove(max(attack_dice))\n",
    "                            defense_dice.remove(min(defense_dice))\n",
    "                            print('Attack wins')\n",
    "                        else:\n",
    "                            self_country.nb_soldier += -1\n",
    "                            self.territories[self_country.name]-=1\n",
    "                            attack_dice.remove(max(attack_dice))\n",
    "                            defense_dice.remove(min(defense_dice))\n",
    "                            print('Defense wins')\n",
    "                        print(f'{self_country.name} has {self_country.nb_soldier} left, {defense_country.name} has {defense_country.nb_soldier} left')\n",
    "                    if defense_country.nb_soldier==0:\n",
    "                        print(f'{self.name} defeated {defense.name} and conquered {defense_country.name}')\n",
    "                        defense_country.owner=self.name\n",
    "                        defense_country.nb_soldier=self_country.nb_soldier-1\n",
    "                        self.territories[defense_country.name]=defense_country.nb_soldier\n",
    "                        self_country.nb_soldier=1\n",
    "                        self.territories[self_country.name]=1\n",
    "                        del defense.territories[defense_country.name]\n",
    "                        break\n",
    "                    else:\n",
    "                        decision=input('Do you want to attack again?')\n",
    "                        while decision not in ['Yes','yes','No','no']:\n",
    "                            decision=input('Do you want to attack again?')\n",
    "                        if (decision == 'No') | (decision == 'no'):\n",
    "                            print('End of the attack - The attack failed')\n",
    "                            break\n",
    "                            \n",
    "            \n",
    "\n",
    "class Continent:\n",
    "    \n",
    "    \n",
    "    # Local Attributes\n",
    "    \n",
    "    def __init__(self,name,continent):\n",
    "        self.name=name\n",
    "        self.continent=continent\n",
    "        self.owner=None\n",
    "        self.neighbours=list()\n",
    "        self.nb_soldier=0\n",
    "    \n",
    "    # Functions\n",
    "    \n",
    "    def create_borders(self,*countries):\n",
    "        for country in countries:\n",
    "            if country.name in self.neighbours:\n",
    "                print('This border already exists')\n",
    "            else:\n",
    "                self.neighbours.append(country.name)\n",
    "                country.neighbours.append(self.name)\n",
    "                print(f'The border have been created between {self.name} and {country.name}')\n",
    "    "
   ]
  },
  {
   "cell_type": "markdown",
   "metadata": {},
   "source": [
    "## Players creation"
   ]
  },
  {
   "cell_type": "code",
   "execution_count": 3,
   "metadata": {},
   "outputs": [],
   "source": [
    "Etienne=Player('Etienne')\n",
    "Geoffroy=Player('Geoffroy')"
   ]
  },
  {
   "cell_type": "markdown",
   "metadata": {},
   "source": [
    "## Countries and borders creation"
   ]
  },
  {
   "cell_type": "code",
   "execution_count": 4,
   "metadata": {},
   "outputs": [],
   "source": [
    "Western_Europe=Continent('Western_Europe','Europe')\n",
    "Eastern_Europe=Continent('Eastern_Europe','Europe')\n",
    "Northern_Europe=Continent('Northern_Europe','Europe')\n",
    "Great_Britain=Continent('Great_Britain','Europe')\n",
    "Island=Continent('Island','Europe')\n",
    "Scandinavia=Continent('Scandinavia','Europe')\n",
    "Ukraine=Continent('Ukraine','Europe')"
   ]
  },
  {
   "cell_type": "code",
   "execution_count": 5,
   "metadata": {},
   "outputs": [
    {
     "name": "stdout",
     "output_type": "stream",
     "text": [
      "The border have been created between Western_Europe and Eastern_Europe\n",
      "The border have been created between Western_Europe and Northern_Europe\n",
      "The border have been created between Western_Europe and Great_Britain\n",
      "The border have been created between Eastern_Europe and Northern_Europe\n",
      "The border have been created between Eastern_Europe and Ukraine\n",
      "The border have been created between Northern_Europe and Ukraine\n",
      "The border have been created between Northern_Europe and Great_Britain\n",
      "The border have been created between Northern_Europe and Scandinavia\n",
      "The border have been created between Ukraine and Scandinavia\n",
      "The border have been created between Scandinavia and Great_Britain\n",
      "The border have been created between Scandinavia and Island\n",
      "The border have been created between Island and Great_Britain\n"
     ]
    }
   ],
   "source": [
    "Western_Europe.create_borders(Eastern_Europe,Northern_Europe,Great_Britain)\n",
    "Eastern_Europe.create_borders(Northern_Europe,Ukraine)\n",
    "Northern_Europe.create_borders(Ukraine,Great_Britain,Scandinavia)\n",
    "Ukraine.create_borders(Scandinavia)\n",
    "Scandinavia.create_borders(Great_Britain,Island)\n",
    "Island.create_borders(Great_Britain)"
   ]
  },
  {
   "cell_type": "markdown",
   "metadata": {},
   "source": [
    "## Players take initial ownership"
   ]
  },
  {
   "cell_type": "code",
   "execution_count": 6,
   "metadata": {},
   "outputs": [
    {
     "name": "stdout",
     "output_type": "stream",
     "text": [
      "Geoffroy has taken control of Western_Europe\n",
      "Geoffroy has taken control of Great_Britain\n",
      "Geoffroy has taken control of Island\n",
      "Geoffroy has taken control of Scandinavia\n"
     ]
    }
   ],
   "source": [
    "Geoffroy.take(Western_Europe,Great_Britain,Island,Scandinavia)"
   ]
  },
  {
   "cell_type": "code",
   "execution_count": 7,
   "metadata": {},
   "outputs": [
    {
     "name": "stdout",
     "output_type": "stream",
     "text": [
      "Etienne has taken control of Ukraine\n",
      "Etienne has taken control of Northern_Europe\n",
      "Etienne has taken control of Eastern_Europe\n",
      "Great_Britain already belongs to Geoffroy! You have to fight to get it.\n"
     ]
    }
   ],
   "source": [
    "Etienne.take(Ukraine,Northern_Europe,Eastern_Europe,Great_Britain)"
   ]
  },
  {
   "cell_type": "markdown",
   "metadata": {},
   "source": [
    "## Players place soldiers on their countries"
   ]
  },
  {
   "cell_type": "code",
   "execution_count": 8,
   "metadata": {},
   "outputs": [
    {
     "name": "stdout",
     "output_type": "stream",
     "text": [
      "2 have been placed on Western_Europe\n"
     ]
    }
   ],
   "source": [
    "Geoffroy.move_soldiers(Western_Europe,2)"
   ]
  },
  {
   "cell_type": "code",
   "execution_count": 9,
   "metadata": {},
   "outputs": [
    {
     "name": "stdout",
     "output_type": "stream",
     "text": [
      "9 have been placed on Eastern_Europe\n"
     ]
    }
   ],
   "source": [
    "Etienne.move_soldiers(Eastern_Europe,9)"
   ]
  },
  {
   "cell_type": "markdown",
   "metadata": {},
   "source": [
    "## GAME TIME"
   ]
  },
  {
   "cell_type": "code",
   "execution_count": 10,
   "metadata": {},
   "outputs": [
    {
     "name": "stdout",
     "output_type": "stream",
     "text": [
      "Sorry, you can't attack this country. You need to be next to the country to attack\n"
     ]
    }
   ],
   "source": [
    "Etienne.attack(Eastern_Europe,Geoffroy,Great_Britain)"
   ]
  },
  {
   "cell_type": "code",
   "execution_count": null,
   "metadata": {},
   "outputs": [],
   "source": []
  }
 ],
 "metadata": {
  "kernelspec": {
   "display_name": "Python 3",
   "language": "python",
   "name": "python3"
  },
  "language_info": {
   "codemirror_mode": {
    "name": "ipython",
    "version": 3
   },
   "file_extension": ".py",
   "mimetype": "text/x-python",
   "name": "python",
   "nbconvert_exporter": "python",
   "pygments_lexer": "ipython3",
   "version": "3.8.5"
  }
 },
 "nbformat": 4,
 "nbformat_minor": 4
}
