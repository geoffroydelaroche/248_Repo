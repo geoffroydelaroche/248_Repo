{
 "cells": [
  {
   "cell_type": "code",
   "execution_count": 1,
   "metadata": {},
   "outputs": [
    {
     "data": {
      "text/html": [
       "<img src=\"https://derekmeetsworld.files.wordpress.com/2016/12/world-domination-game-board-2-1-1.jpg\"/>"
      ],
      "text/plain": [
       "<IPython.core.display.Image object>"
      ]
     },
     "execution_count": 1,
     "metadata": {},
     "output_type": "execute_result"
    }
   ],
   "source": [
    "from IPython.display import Image\n",
    "from IPython.core.display import HTML \n",
    "Image(url= \"https://derekmeetsworld.files.wordpress.com/2016/12/world-domination-game-board-2-1-1.jpg\")"
   ]
  },
  {
   "cell_type": "code",
   "execution_count": 2,
   "metadata": {},
   "outputs": [],
   "source": [
    "dice=list(range(1,7))\n",
    "\n",
    "class Player:\n",
    "    \n",
    "    # Local Attributes\n",
    "    \n",
    "    def __init__(self,name):\n",
    "        self.name=name\n",
    "        self.available_soldiers=15\n",
    "        self.territories=dict()\n",
    "        \n",
    "    # Functions\n",
    "    \n",
    "    def take(self,*countries):\n",
    "        for country in countries:\n",
    "            if country.owner==None:\n",
    "                country.owner=self.name\n",
    "                self.territories[country.name]=0\n",
    "                print(f'{self.name} has taken control of {country.name}')\n",
    "            else:\n",
    "                print(f'{country.name} already belongs to {country.owner}! You have to fight to get it.')\n",
    "                \n",
    "    def move_soldiers(self, country, nb_soldier):\n",
    "        if nb_soldier>self.available_soldiers:\n",
    "            print(f'{self.name} doesn\\' have enough soldiers available to make this move')\n",
    "        elif self.name!=country.owner:\n",
    "            print(f'{self.name} is not the owner of {country.name}. You have to fight to get it.')\n",
    "        else:\n",
    "            country.nb_soldier+=nb_soldier\n",
    "            self.available_soldiers-=nb_soldier\n",
    "            self.territories[country.name]+=nb_soldier\n",
    "            print(f'{nb_soldier} have been placed on {country.name}')\n",
    "    \n",
    "    def attack(self, self_country, defense, defense_country):\n",
    "        import random\n",
    "        if self_country.name not in defense_country.neighbours:\n",
    "            print('Sorry, you can\\'t attack this country. You need to be next to the country to attack')\n",
    "        else:\n",
    "            if self_country.nb_soldier <= 1:\n",
    "                print ('Sorry, you don\\'t have enough soldier to attack')\n",
    "            else:\n",
    "                while self_country.nb_soldier > 1 and defense_country.nb_soldier > 0:\n",
    "                    if self_country.nb_soldier-1 >=3:\n",
    "                        nb_dice_attack=3\n",
    "                    else:\n",
    "                        nb_dice_attack=self_country.nb_soldier-1\n",
    "                    if defense_country.nb_soldier >=2:\n",
    "                        nb_dice_defense=2\n",
    "                    else:\n",
    "                        nb_dice_defense=1\n",
    "                    attack_dice = random.choices(dice,k=nb_dice_attack)\n",
    "                    defense_dice = random.choices(dice,k=nb_dice_defense)\n",
    "                    if len(attack_dice)==3:\n",
    "                        attack_dice.remove(min(attack_dice))\n",
    "                    else:\n",
    "                        pass\n",
    "                    while len(attack_dice)>0 and len(defense_dice)>0:\n",
    "                        if max(attack_dice) > max(defense_dice):\n",
    "                            defense_country.nb_soldier += -1\n",
    "                            defense.territories[defense_country.name]-=1\n",
    "                            attack_dice.remove(max(attack_dice))\n",
    "                            defense_dice.remove(min(defense_dice))\n",
    "                            print('Attack wins')\n",
    "                        else:\n",
    "                            self_country.nb_soldier += -1\n",
    "                            self.territories[self_country.name]-=1\n",
    "                            attack_dice.remove(max(attack_dice))\n",
    "                            defense_dice.remove(min(defense_dice))\n",
    "                            print('Defense wins')\n",
    "                        print(f'{self_country.name} has {self_country.nb_soldier} left, {defense_country.name} has {defense_country.nb_soldier} left')\n",
    "                    if defense_country.nb_soldier==0:\n",
    "                        print(f'{self.name} defeated {defense.name} and conquered {defense_country.name}')\n",
    "                        defense_country.owner=self.name\n",
    "                        defense_country.nb_soldier=self_country.nb_soldier-1\n",
    "                        self.territories[defense_country.name]=defense_country.nb_soldier\n",
    "                        self_country.nb_soldier=1\n",
    "                        self.territories[self_country.name]=1\n",
    "                        del defense.territories[defense_country.name]\n",
    "                        break\n",
    "                    else:\n",
    "                        decision=input('Do you want to attack again?')\n",
    "                        while decision not in ['Yes','yes','No','no']:\n",
    "                            decision=input('Do you want to attack again?')\n",
    "                        if (decision == 'No') | (decision == 'no'):\n",
    "                            print('End of the attack - The attack failed')\n",
    "                            break\n",
    "                            \n",
    "            \n",
    "\n",
    "class Continent:\n",
    "    \n",
    "    \n",
    "    # Local Attributes\n",
    "    \n",
    "    def __init__(self,name,continent):\n",
    "        self.name=name\n",
    "        self.continent=continent\n",
    "        self.owner=None\n",
    "        self.neighbours=list()\n",
    "        self.nb_soldier=0\n",
    "    \n",
    "    # Functions\n",
    "    \n",
    "    def create_borders(self,*countries):\n",
    "        for country in countries:\n",
    "            if country.name in self.neighbours:\n",
    "                print('This border already exists')\n",
    "            else:\n",
    "                self.neighbours.append(country.name)\n",
    "                country.neighbours.append(self.name)\n",
    "                print(f'The border have been created between {self.name} and {country.name}')\n",
    "    "
   ]
  },
  {
   "cell_type": "markdown",
   "metadata": {},
   "source": [
    "## Players creation"
   ]
  },
  {
   "cell_type": "code",
   "execution_count": 3,
   "metadata": {},
   "outputs": [],
   "source": [
    "Etienne=Player('Etienne')\n",
    "Geoffroy=Player('Geoffroy')"
   ]
  },
  {
   "cell_type": "markdown",
   "metadata": {},
   "source": [
    "## Countries and borders creation"
   ]
  },
  {
   "cell_type": "code",
   "execution_count": 4,
   "metadata": {},
   "outputs": [],
   "source": [
    "Western_Europe=Continent('Western_Europe','Europe')\n",
    "Eastern_Europe=Continent('Eastern_Europe','Europe')\n",
    "Northern_Europe=Continent('Northern_Europe','Europe')\n",
    "Great_Britain=Continent('Great_Britain','Europe')\n",
    "Island=Continent('Island','Europe')\n",
    "Scandinavia=Continent('Scandinavia','Europe')\n",
    "Ukraine=Continent('Ukraine','Europe')\n",
    "\n",
    "lst_countries=['Western_Europe', 'Eastern_Europe', 'Northern_Europe', 'Great_Britain', 'Island, Scandinavia', 'Ukraine']"
   ]
  },
  {
   "cell_type": "code",
   "execution_count": 5,
   "metadata": {},
   "outputs": [
    {
     "name": "stdout",
     "output_type": "stream",
     "text": [
      "The border have been created between Western_Europe and Eastern_Europe\n",
      "The border have been created between Western_Europe and Northern_Europe\n",
      "The border have been created between Western_Europe and Great_Britain\n",
      "The border have been created between Eastern_Europe and Northern_Europe\n",
      "The border have been created between Eastern_Europe and Ukraine\n",
      "The border have been created between Northern_Europe and Ukraine\n",
      "The border have been created between Northern_Europe and Great_Britain\n",
      "The border have been created between Northern_Europe and Scandinavia\n",
      "The border have been created between Ukraine and Scandinavia\n",
      "The border have been created between Scandinavia and Great_Britain\n",
      "The border have been created between Scandinavia and Island\n",
      "The border have been created between Island and Great_Britain\n"
     ]
    }
   ],
   "source": [
    "Western_Europe.create_borders(Eastern_Europe,Northern_Europe,Great_Britain)\n",
    "Eastern_Europe.create_borders(Northern_Europe,Ukraine)\n",
    "Northern_Europe.create_borders(Ukraine,Great_Britain,Scandinavia)\n",
    "Ukraine.create_borders(Scandinavia)\n",
    "Scandinavia.create_borders(Great_Britain,Island)\n",
    "Island.create_borders(Great_Britain)"
   ]
  },
  {
   "cell_type": "markdown",
   "metadata": {},
   "source": [
    "## Players take initial ownership"
   ]
  },
  {
   "cell_type": "code",
   "execution_count": 6,
   "metadata": {},
   "outputs": [
    {
     "name": "stdout",
     "output_type": "stream",
     "text": [
      "Geoffroy has taken control of Western_Europe\n",
      "Geoffroy has taken control of Great_Britain\n",
      "Geoffroy has taken control of Island\n",
      "Geoffroy has taken control of Scandinavia\n"
     ]
    }
   ],
   "source": [
    "Geoffroy.take(Western_Europe,Great_Britain,Island,Scandinavia)"
   ]
  },
  {
   "cell_type": "code",
   "execution_count": 7,
   "metadata": {},
   "outputs": [
    {
     "name": "stdout",
     "output_type": "stream",
     "text": [
      "Etienne has taken control of Ukraine\n",
      "Etienne has taken control of Northern_Europe\n",
      "Etienne has taken control of Eastern_Europe\n",
      "Great_Britain already belongs to Geoffroy! You have to fight to get it.\n"
     ]
    }
   ],
   "source": [
    "Etienne.take(Ukraine,Northern_Europe,Eastern_Europe,Great_Britain)"
   ]
  },
  {
   "cell_type": "markdown",
   "metadata": {},
   "source": [
    "## Players place soldiers on their countries"
   ]
  },
  {
   "cell_type": "code",
   "execution_count": null,
   "metadata": {},
   "outputs": [],
   "source": []
  },
  {
   "cell_type": "code",
   "execution_count": null,
   "metadata": {},
   "outputs": [
    {
     "name": "stdout",
     "output_type": "stream",
     "text": [
      "Etienne's turn\n",
      "Choose a country Ukraine\n",
      "Etienne has taken control of Ukraine\n",
      "Geoffroy's turn\n"
     ]
    }
   ],
   "source": [
    "#while utiliser les flag 1 et 0\n",
    "\n",
    "while (Geoffroy.available_soldiers>0) & (Etienne.available_soldiers>0):\n",
    "    \n",
    "    print('Etienne\\'s turn')\n",
    "    choice_Etienne=input('Choose a country ')\n",
    "    while choice_Etienne not in lst_countries :\n",
    "        print('The country doesn\\'t exist, could you please choose a country in the following list? ')\n",
    "        print(lst_countries)\n",
    "        choice_Etienne=input('Choose a country ')\n",
    "    while choice_Etienne in Geoffroy.territories:\n",
    "        print('This country already belong to another player, choose another country')\n",
    "        choice_Etienne=input('Choose a country ')\n",
    "    if choice_Etienne in Etienne.territories:\n",
    "        print(f'You have {Etienne.available_soldiers} soldiers left')\n",
    "        soldiers_Etienne=input(f'How many soldiers do you want to put in {choice_Etienne} ? ')\n",
    "        Etienne.move_soldiers(eval(choice_Etienne), eval(soldiers_Etienne))\n",
    "    elif Etienne.take(eval(choice_Etienne)):\n",
    "        print(f'You have {Etienne.available_soldiers} soldiers left')\n",
    "        soldiers_Etienne=input(f'How many soldiers do you want to put in {choice_Etienne} ? ')\n",
    "        Etienne.move_soldiers(eval(choice_Etienne), eval(soldiers_Etienne))\n",
    "    \n",
    "    print('Geoffroy\\'s turn')\n",
    "    choice_Geoffroy=input('Choose a country ')\n",
    "    while choice_Geoffroy not in lst_countries :\n",
    "        print('The country doesn\\'t exist, could you please choose a country in the following list? ')\n",
    "        print(lst_countries)  \n",
    "        choice_Geoffroy=input('Choose a country ')\n",
    "    while choice_Geoffroy in Geoffroy.territories:\n",
    "        print('This country already belong to another player, choose another country')\n",
    "        choice_Geoffroy=input('Choose a country ')\n",
    "    Geoffroy.take(eval(choice_Geoffroy))\n",
    "    print(f'You have {Geoffroy.available_soldiers} soldiers left')\n",
    "    soldiers_Geoffroy=input(f'How many soldiers do you want to put in {choice_Geoffroy} ? ')\n",
    "    Geoffroy.move_soldiers(eval(choice_Geoffroy), eval(soldiers_Geoffroy))"
   ]
  },
  {
   "cell_type": "code",
   "execution_count": null,
   "metadata": {},
   "outputs": [],
   "source": [
    "Geoffroy.move_soldiers(Western_Europe,2)"
   ]
  },
  {
   "cell_type": "code",
   "execution_count": null,
   "metadata": {},
   "outputs": [],
   "source": [
    "Etienne.move_soldiers(Eastern_Europe,9)"
   ]
  },
  {
   "cell_type": "markdown",
   "metadata": {},
   "source": [
    "## GAME TIME"
   ]
  },
  {
   "cell_type": "code",
   "execution_count": null,
   "metadata": {},
   "outputs": [],
   "source": [
    "Etienne.attack(Eastern_Europe,Geoffroy,Great_Britain)"
   ]
  },
  {
   "cell_type": "code",
   "execution_count": null,
   "metadata": {},
   "outputs": [],
   "source": [
    "game=1\n",
    "while game:\n",
    "    flag=1\n",
    "    attack1=input(f'Etienne, it is your turn to attack! From where do you want to attack? As a reminder, here are your forces: {Etienne.territories}')\n",
    "    while flag:\n",
    "        if eval(attack1).nb_soldier<=1:\n",
    "            attack1=input(f'This country does not have enough soldiers General! From where else do you want to attack? As a reminder, here are your forces: {Etienne.territories}')\n",
    "            continue\n",
    "        else:\n",
    "            flag=0\n",
    "    possible_attacks=[i for i in eval(attack1).neighbours if eval(i).owner==\"Geoffroy\"]\n",
    "    flag=1\n",
    "    attack2=input(f'Very well General! What country should we attack? As a reminder, we can attack these countries: {possible_attacks}')\n",
    "    while flag:\n",
    "        if attack2 not in possible_attacks:\n",
    "            attack2=input(f'This country belongs to us General! Where do you want to attack? As a reminder, we can attack these countries: {possible_attacks}')\n",
    "            continue\n",
    "        else:\n",
    "            flag=0\n",
    "    Etienne.attack(eval(attack1),Geoffroy,eval(attack2))\n",
    "    if (len(Geoffroy.territories)==0):\n",
    "        game=0\n",
    "        print('The winner is Etienne! Congrats to him, he conquered the world!')\n",
    "    else:\n",
    "        flag=1\n",
    "        attack1=input(f'Geoffroy, it is your turn to attack! From where do you want to attack? As a reminder, here are your forces: {Geoffroy.territories}')\n",
    "        while flag:\n",
    "            if eval(attack1).nb_soldier<=1:\n",
    "                attack1=input(f'This country does not have enough soldiers General! From where else do you want to attack? As a reminder, here are your forces: {Geoffroy.territories}')\n",
    "                continue\n",
    "            else:\n",
    "                flag=0\n",
    "        possible_attacks=[i for i in eval(attack1).neighbours if eval(i).owner==\"Etienne\"]\n",
    "        flag=1\n",
    "        attack2=input(f'Very well General! What country should we attack? As a reminder, we can attack these countries: {possible_attacks}')\n",
    "        while flag:\n",
    "            if attack2 not in possible_attacks:\n",
    "                attack2=input(f'This country belongs to us General! Where do you want to attack? As a reminder, here are your forces: {possible_attacks}')\n",
    "                continue\n",
    "            else:\n",
    "                flag=0\n",
    "        Geoffroy.attack(eval(attack1),Etienne,eval(attack2))\n",
    "        if (len(Etienne.territories)==0):\n",
    "            game=0\n",
    "            print('The winner is Geoffroy! Congrats to him, he conquered the world!')\n",
    "        else:\n",
    "            continue"
   ]
  },
  {
   "cell_type": "code",
   "execution_count": null,
   "metadata": {},
   "outputs": [],
   "source": []
  }
 ],
 "metadata": {
  "kernelspec": {
   "display_name": "Python 3",
   "language": "python",
   "name": "python3"
  },
  "language_info": {
   "codemirror_mode": {
    "name": "ipython",
    "version": 3
   },
   "file_extension": ".py",
   "mimetype": "text/x-python",
   "name": "python",
   "nbconvert_exporter": "python",
   "pygments_lexer": "ipython3",
   "version": "3.8.5"
  }
 },
 "nbformat": 4,
 "nbformat_minor": 4
}
