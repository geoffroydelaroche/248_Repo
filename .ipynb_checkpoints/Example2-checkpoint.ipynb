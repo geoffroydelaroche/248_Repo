{
 "cells": [
  {
   "cell_type": "code",
   "execution_count": 1,
   "metadata": {},
   "outputs": [],
   "source": [
    "txt='Ca va bien'"
   ]
  },
  {
   "cell_type": "code",
   "execution_count": 2,
   "metadata": {},
   "outputs": [
    {
     "data": {
      "text/plain": [
       "'Ca va bien. Et toi?'"
      ]
     },
     "execution_count": 2,
     "metadata": {},
     "output_type": "execute_result"
    }
   ],
   "source": [
    "txt + '. Et toi?'"
   ]
  },
  {
   "cell_type": "code",
   "execution_count": 3,
   "metadata": {},
   "outputs": [],
   "source": [
    "hi='Hello'\n",
    "world='World'"
   ]
  },
  {
   "cell_type": "code",
   "execution_count": 6,
   "metadata": {},
   "outputs": [
    {
     "data": {
      "text/plain": [
       "'Hello World'"
      ]
     },
     "execution_count": 6,
     "metadata": {},
     "output_type": "execute_result"
    }
   ],
   "source": [
    "hi + ' ' + world"
   ]
  },
  {
   "cell_type": "code",
   "execution_count": 8,
   "metadata": {},
   "outputs": [
    {
     "name": "stdout",
     "output_type": "stream",
     "text": [
      "Hello World\n"
     ]
    }
   ],
   "source": [
    "print(hi,world)"
   ]
  },
  {
   "cell_type": "code",
   "execution_count": 24,
   "metadata": {},
   "outputs": [],
   "source": [
    "lst=['I', 'really', 'love', 'my', 'sweet', 'thing']"
   ]
  },
  {
   "cell_type": "code",
   "execution_count": 25,
   "metadata": {},
   "outputs": [
    {
     "data": {
      "text/plain": [
       "'I really love my sweet thing.'"
      ]
     },
     "execution_count": 25,
     "metadata": {},
     "output_type": "execute_result"
    }
   ],
   "source": [
    "sentence=''\n",
    "for i in lst:\n",
    "    sentence+=i + ' '\n",
    "sentence[:-1]+'.'"
   ]
  },
  {
   "cell_type": "code",
   "execution_count": 26,
   "metadata": {},
   "outputs": [
    {
     "data": {
      "text/plain": [
       "'I really love my sweet thing.'"
      ]
     },
     "execution_count": 26,
     "metadata": {},
     "output_type": "execute_result"
    }
   ],
   "source": [
    "' '.join(lst) + '.'"
   ]
  },
  {
   "cell_type": "code",
   "execution_count": 27,
   "metadata": {},
   "outputs": [],
   "source": [
    "sentence=' '.join(lst)"
   ]
  },
  {
   "cell_type": "code",
   "execution_count": 28,
   "metadata": {},
   "outputs": [
    {
     "data": {
      "text/plain": [
       "'I really love my sweet thing'"
      ]
     },
     "execution_count": 28,
     "metadata": {},
     "output_type": "execute_result"
    }
   ],
   "source": [
    "sentence"
   ]
  },
  {
   "cell_type": "code",
   "execution_count": 32,
   "metadata": {},
   "outputs": [
    {
     "data": {
      "text/plain": [
       "['I', 'really', 'love', 'my', 'sweet', 'thing']"
      ]
     },
     "execution_count": 32,
     "metadata": {},
     "output_type": "execute_result"
    }
   ],
   "source": [
    "lst=[]\n",
    "word=''\n",
    "\n",
    "for letter in sentence + ' ':\n",
    "    if letter!= ' ':\n",
    "        word+=letter\n",
    "    else:\n",
    "        lst.append(word)\n",
    "        word=''        \n",
    "lst\n",
    "    "
   ]
  },
  {
   "cell_type": "code",
   "execution_count": 33,
   "metadata": {},
   "outputs": [
    {
     "data": {
      "text/plain": [
       "['I', 'really', 'love', 'my', 'sweet', 'thing']"
      ]
     },
     "execution_count": 33,
     "metadata": {},
     "output_type": "execute_result"
    }
   ],
   "source": [
    "sentence.split()"
   ]
  },
  {
   "cell_type": "code",
   "execution_count": 34,
   "metadata": {},
   "outputs": [],
   "source": [
    "sentence='Freds friends fried Fritos for Fridays food'"
   ]
  },
  {
   "cell_type": "code",
   "execution_count": 35,
   "metadata": {},
   "outputs": [
    {
     "data": {
      "text/plain": [
       "'Freds friends fried Fritos for Fridays food'"
      ]
     },
     "execution_count": 35,
     "metadata": {},
     "output_type": "execute_result"
    }
   ],
   "source": [
    "sentence"
   ]
  },
  {
   "cell_type": "code",
   "execution_count": 36,
   "metadata": {},
   "outputs": [
    {
     "data": {
      "text/plain": [
       "['', 'reds friends fried ', 'ritos for ', 'ridays food']"
      ]
     },
     "execution_count": 36,
     "metadata": {},
     "output_type": "execute_result"
    }
   ],
   "source": [
    "sentence.split('F')"
   ]
  },
  {
   "cell_type": "code",
   "execution_count": 37,
   "metadata": {},
   "outputs": [
    {
     "data": {
      "text/plain": [
       "'reds friends fried Fritos for Fridays food'"
      ]
     },
     "execution_count": 37,
     "metadata": {},
     "output_type": "execute_result"
    }
   ],
   "source": [
    "sentence.strip('F')"
   ]
  },
  {
   "cell_type": "code",
   "execution_count": 38,
   "metadata": {},
   "outputs": [
    {
     "data": {
      "text/plain": [
       "'Freds friends fried Fritos for Fridays foo'"
      ]
     },
     "execution_count": 38,
     "metadata": {},
     "output_type": "execute_result"
    }
   ],
   "source": [
    "sentence.strip('d')"
   ]
  },
  {
   "cell_type": "code",
   "execution_count": 39,
   "metadata": {},
   "outputs": [
    {
     "data": {
      "text/plain": [
       "'Freds friends fried Fritos for Fridays food'"
      ]
     },
     "execution_count": 39,
     "metadata": {},
     "output_type": "execute_result"
    }
   ],
   "source": [
    "sentence"
   ]
  },
  {
   "cell_type": "code",
   "execution_count": 40,
   "metadata": {},
   "outputs": [
    {
     "data": {
      "text/plain": [
       "'Freds friends fried Fritos for Fridays '"
      ]
     },
     "execution_count": 40,
     "metadata": {},
     "output_type": "execute_result"
    }
   ],
   "source": [
    "sentence.strip('fod')"
   ]
  },
  {
   "cell_type": "code",
   "execution_count": 46,
   "metadata": {},
   "outputs": [],
   "source": [
    "lyrics=\"\"\"I'm blue da ba dee da ba daa\n",
    "Da ba dee da ba daa, da ba dee da ba daa, da ba dee da ba daa\n",
    "Da ba dee da ba daa, da ba dee da ba daa, da ba dee da ba daa\"\"\""
   ]
  },
  {
   "cell_type": "code",
   "execution_count": 56,
   "metadata": {},
   "outputs": [
    {
     "data": {
      "text/plain": [
       "[\"i'm\",\n",
       " 'blue',\n",
       " 'da',\n",
       " 'ba',\n",
       " 'dee',\n",
       " 'da',\n",
       " 'ba',\n",
       " 'daa',\n",
       " 'da',\n",
       " 'ba',\n",
       " 'dee',\n",
       " 'da',\n",
       " 'ba',\n",
       " 'daa',\n",
       " 'da',\n",
       " 'ba',\n",
       " 'dee',\n",
       " 'da',\n",
       " 'ba',\n",
       " 'daa',\n",
       " 'da',\n",
       " 'ba',\n",
       " 'dee',\n",
       " 'da',\n",
       " 'ba',\n",
       " 'daa',\n",
       " 'da',\n",
       " 'ba',\n",
       " 'dee',\n",
       " 'da',\n",
       " 'ba',\n",
       " 'daa',\n",
       " 'da',\n",
       " 'ba',\n",
       " 'dee',\n",
       " 'da',\n",
       " 'ba',\n",
       " 'daa',\n",
       " 'da',\n",
       " 'ba',\n",
       " 'dee',\n",
       " 'da',\n",
       " 'ba',\n",
       " 'daa']"
      ]
     },
     "execution_count": 56,
     "metadata": {},
     "output_type": "execute_result"
    }
   ],
   "source": [
    "lst1 = [i.strip(',').lower() for i in lyrics.split()]\n",
    "lst1"
   ]
  },
  {
   "cell_type": "code",
   "execution_count": 57,
   "metadata": {},
   "outputs": [
    {
     "data": {
      "text/plain": [
       "{'dee': 7, 'blue': 1, \"i'm\": 1, 'da': 14, 'ba': 14, 'daa': 7}"
      ]
     },
     "execution_count": 57,
     "metadata": {},
     "output_type": "execute_result"
    }
   ],
   "source": [
    "{i:lst1.count(i) for i in set(lst1)}"
   ]
  },
  {
   "cell_type": "code",
   "execution_count": 62,
   "metadata": {},
   "outputs": [],
   "source": [
    "lst2= [i.strip(',') for i in lyrics.split()]"
   ]
  },
  {
   "cell_type": "code",
   "execution_count": 63,
   "metadata": {},
   "outputs": [
    {
     "data": {
      "text/plain": [
       "[\"I'm\",\n",
       " 'blue',\n",
       " 'da',\n",
       " 'ba',\n",
       " 'dee',\n",
       " 'da',\n",
       " 'ba',\n",
       " 'daa',\n",
       " 'Da',\n",
       " 'ba',\n",
       " 'dee',\n",
       " 'da',\n",
       " 'ba',\n",
       " 'daa',\n",
       " 'da',\n",
       " 'ba',\n",
       " 'dee',\n",
       " 'da',\n",
       " 'ba',\n",
       " 'daa',\n",
       " 'da',\n",
       " 'ba',\n",
       " 'dee',\n",
       " 'da',\n",
       " 'ba',\n",
       " 'daa',\n",
       " 'Da',\n",
       " 'ba',\n",
       " 'dee',\n",
       " 'da',\n",
       " 'ba',\n",
       " 'daa',\n",
       " 'da',\n",
       " 'ba',\n",
       " 'dee',\n",
       " 'da',\n",
       " 'ba',\n",
       " 'daa',\n",
       " 'da',\n",
       " 'ba',\n",
       " 'dee',\n",
       " 'da',\n",
       " 'ba',\n",
       " 'daa']"
      ]
     },
     "execution_count": 63,
     "metadata": {},
     "output_type": "execute_result"
    }
   ],
   "source": [
    "lst2"
   ]
  },
  {
   "cell_type": "code",
   "execution_count": 64,
   "metadata": {},
   "outputs": [
    {
     "data": {
      "text/plain": [
       "\"I'm blue aaaaaa ba dee aaaaaa ba aaaaaaa\\nDa ba dee aaaaaa ba aaaaaaa, aaaaaa ba dee aaaaaa ba aaaaaaa, aaaaaa ba dee aaaaaa ba aaaaaaa\\nDa ba dee aaaaaa ba aaaaaaa, aaaaaa ba dee aaaaaa ba aaaaaaa, aaaaaa ba dee aaaaaa ba aaaaaaa\""
      ]
     },
     "execution_count": 64,
     "metadata": {},
     "output_type": "execute_result"
    }
   ],
   "source": [
    "lyrics.replace('da', 'aaaaaa')"
   ]
  },
  {
   "cell_type": "code",
   "execution_count": 65,
   "metadata": {},
   "outputs": [
    {
     "data": {
      "text/plain": [
       "\"I'm blue aaa ba dee aaa ba aaaa\\nDa ba dee da ba daa, da ba dee da ba daa, da ba dee da ba daa\\nDa ba dee da ba daa, da ba dee da ba daa, da ba dee da ba daa\""
      ]
     },
     "execution_count": 65,
     "metadata": {},
     "output_type": "execute_result"
    }
   ],
   "source": [
    "lyrics.replace ('da', 'aaa', 3)"
   ]
  },
  {
   "cell_type": "code",
   "execution_count": 70,
   "metadata": {},
   "outputs": [
    {
     "name": "stdout",
     "output_type": "stream",
     "text": [
      "['da', 'dee', 'da', 'daa', 'dee', 'da', 'daa', 'da', 'dee', 'da', 'daa', 'da', 'dee', 'da', 'daa', 'dee', 'da', 'daa', 'da', 'dee', 'da', 'daa', 'da', 'dee', 'da', 'daa']\n"
     ]
    }
   ],
   "source": [
    "lst3=[]\n",
    "for i in lst2:\n",
    "    if i[0] == 'd':\n",
    "        lst3.append(i)\n",
    "print(lst3)"
   ]
  },
  {
   "cell_type": "code",
   "execution_count": 71,
   "metadata": {},
   "outputs": [
    {
     "data": {
      "text/plain": [
       "['da',\n",
       " 'dee',\n",
       " 'da',\n",
       " 'daa',\n",
       " 'dee',\n",
       " 'da',\n",
       " 'daa',\n",
       " 'da',\n",
       " 'dee',\n",
       " 'da',\n",
       " 'daa',\n",
       " 'da',\n",
       " 'dee',\n",
       " 'da',\n",
       " 'daa',\n",
       " 'dee',\n",
       " 'da',\n",
       " 'daa',\n",
       " 'da',\n",
       " 'dee',\n",
       " 'da',\n",
       " 'daa',\n",
       " 'da',\n",
       " 'dee',\n",
       " 'da',\n",
       " 'daa']"
      ]
     },
     "execution_count": 71,
     "metadata": {},
     "output_type": "execute_result"
    }
   ],
   "source": [
    "lst3=[i for i in lst2 if i[0]=='d']\n",
    "lst3"
   ]
  },
  {
   "cell_type": "code",
   "execution_count": 74,
   "metadata": {},
   "outputs": [
    {
     "data": {
      "text/plain": [
       "['da',\n",
       " 'dee',\n",
       " 'da',\n",
       " 'daa',\n",
       " 'Da',\n",
       " 'dee',\n",
       " 'da',\n",
       " 'daa',\n",
       " 'da',\n",
       " 'dee',\n",
       " 'da',\n",
       " 'daa',\n",
       " 'da',\n",
       " 'dee',\n",
       " 'da',\n",
       " 'daa',\n",
       " 'Da',\n",
       " 'dee',\n",
       " 'da',\n",
       " 'daa',\n",
       " 'da',\n",
       " 'dee',\n",
       " 'da',\n",
       " 'daa',\n",
       " 'da',\n",
       " 'dee',\n",
       " 'da',\n",
       " 'daa']"
      ]
     },
     "execution_count": 74,
     "metadata": {},
     "output_type": "execute_result"
    }
   ],
   "source": [
    "[i for i in lyrics.replace(',','').split() if i.lower()[0]=='d']"
   ]
  },
  {
   "cell_type": "code",
   "execution_count": 75,
   "metadata": {},
   "outputs": [
    {
     "data": {
      "text/plain": [
       "False"
      ]
     },
     "execution_count": 75,
     "metadata": {},
     "output_type": "execute_result"
    }
   ],
   "source": [
    "lyrics.istitle()"
   ]
  },
  {
   "cell_type": "code",
   "execution_count": 76,
   "metadata": {},
   "outputs": [],
   "source": [
    "#3 Text decryption"
   ]
  },
  {
   "cell_type": "code",
   "execution_count": 77,
   "metadata": {},
   "outputs": [],
   "source": [
    "encrypted_text=\"\"\"GFS WMY OG LGDVS MF SFNKYHOSU ESLLMRS, PC WS BFGW POL DMFRQMRS, PL OG CPFU M UPCCSKSFO HDMPFOSXO GC OIS LMES DMFRQMRS DGFR SFGQRI OG CPDD GFS LISSO GK LG, MFU OISF WS NGQFO OIS GNNQKKSFNSL GC SMNI DSOOSK. WS NMDD OIS EGLO CKSJQSFODY GNNQKKPFR DSOOSK OIS 'CPKLO', OIS FSXO EGLO GNNQKKPFR DSOOSK OIS 'LSNGFU' OIS CGDDGWPFR EGLO GNNQKKPFR DSOOSK OIS 'OIPKU', MFU LG GF, QFOPD WS MNNGQFO CGK MDD OIS UPCCSKSFO DSOOSKL PF OIS HDMPFOSXO LMEHDS. OISF WS DGGB MO OIS NPHISK OSXO WS WMFO OG LGDVS MFU WS MDLG NDMLLPCY POL LYEAGDL. WS CPFU OIS EGLO GNNQKKPFR LYEAGD MFU NIMFRS PO OG OIS CGKE GC OIS 'CPKLO' DSOOSK GC OIS HDMPFOSXO LMEHDS, OIS FSXO EGLO NGEEGF LYEAGD PL NIMFRSU OG OIS CGKE GC OIS 'LSNGFU' DSOOSK, MFU OIS CGDDGWPFR EGLO NGEEGF LYEAGD PL NIMFRSU OG OIS CGKE GC OIS 'OIPKU' DSOOSK, MFU LG GF, QFOPD WS MNNGQFO CGK MDD LYEAGDL GC OIS NKYHOGRKME WS WMFO OG LGDVS.\"\"\""
   ]
  },
  {
   "cell_type": "code",
   "execution_count": 78,
   "metadata": {},
   "outputs": [
    {
     "data": {
      "text/plain": [
       "\"GFS WMY OG LGDVS MF SFNKYHOSU ESLLMRS, PC WS BFGW POL DMFRQMRS, PL OG CPFU M UPCCSKSFO HDMPFOSXO GC OIS LMES DMFRQMRS DGFR SFGQRI OG CPDD GFS LISSO GK LG, MFU OISF WS NGQFO OIS GNNQKKSFNSL GC SMNI DSOOSK. WS NMDD OIS EGLO CKSJQSFODY GNNQKKPFR DSOOSK OIS 'CPKLO', OIS FSXO EGLO GNNQKKPFR DSOOSK OIS 'LSNGFU' OIS CGDDGWPFR EGLO GNNQKKPFR DSOOSK OIS 'OIPKU', MFU LG GF, QFOPD WS MNNGQFO CGK MDD OIS UPCCSKSFO DSOOSKL PF OIS HDMPFOSXO LMEHDS. OISF WS DGGB MO OIS NPHISK OSXO WS WMFO OG LGDVS MFU WS MDLG NDMLLPCY POL LYEAGDL. WS CPFU OIS EGLO GNNQKKPFR LYEAGD MFU NIMFRS PO OG OIS CGKE GC OIS 'CPKLO' DSOOSK GC OIS HDMPFOSXO LMEHDS, OIS FSXO EGLO NGEEGF LYEAGD PL NIMFRSU OG OIS CGKE GC OIS 'LSNGFU' DSOOSK, MFU OIS CGDDGWPFR EGLO NGEEGF LYEAGD PL NIMFRSU OG OIS CGKE GC OIS 'OIPKU' DSOOSK, MFU LG GF, QFOPD WS MNNGQFO CGK MDD LYEAGDL GC OIS NKYHOGRKME WS WMFO OG LGDVS.\""
      ]
     },
     "execution_count": 78,
     "metadata": {},
     "output_type": "execute_result"
    }
   ],
   "source": [
    "encrypted_text"
   ]
  },
  {
   "cell_type": "code",
   "execution_count": 80,
   "metadata": {},
   "outputs": [],
   "source": [
    "dct={i:encrypted_text.count(i) for i in encrypted_text}"
   ]
  },
  {
   "cell_type": "code",
   "execution_count": 81,
   "metadata": {},
   "outputs": [],
   "source": [
    "import operator"
   ]
  },
  {
   "cell_type": "code",
   "execution_count": 85,
   "metadata": {},
   "outputs": [
    {
     "data": {
      "text/plain": [
       "{' ': 158,\n",
       " 'S': 88,\n",
       " 'O': 85,\n",
       " 'G': 67,\n",
       " 'F': 51,\n",
       " 'D': 42,\n",
       " 'L': 39,\n",
       " 'M': 35,\n",
       " 'K': 35,\n",
       " 'I': 33,\n",
       " 'P': 30,\n",
       " 'N': 29,\n",
       " 'C': 26,\n",
       " 'E': 23,\n",
       " 'U': 17,\n",
       " 'R': 17,\n",
       " 'W': 16,\n",
       " 'Q': 14,\n",
       " \"'\": 12,\n",
       " 'Y': 10,\n",
       " ',': 10,\n",
       " 'H': 8,\n",
       " 'X': 6,\n",
       " 'A': 5,\n",
       " '.': 4,\n",
       " 'V': 3,\n",
       " 'B': 2,\n",
       " 'J': 1}"
      ]
     },
     "execution_count": 85,
     "metadata": {},
     "output_type": "execute_result"
    }
   ],
   "source": [
    "dict(sorted(dct.items(), key=operator.itemgetter(1), reverse=True))"
   ]
  },
  {
   "cell_type": "code",
   "execution_count": 88,
   "metadata": {},
   "outputs": [],
   "source": [
    "encrypted_text = encrypted_text.replace('S','e')"
   ]
  },
  {
   "cell_type": "code",
   "execution_count": 90,
   "metadata": {},
   "outputs": [],
   "source": [
    "encrypted_text = encrypted_text.replace('O','t').replace('I','h')"
   ]
  },
  {
   "cell_type": "code",
   "execution_count": 92,
   "metadata": {},
   "outputs": [],
   "source": [
    "encrypted_text = encrypted_text.replace('G','o')"
   ]
  },
  {
   "cell_type": "code",
   "execution_count": 95,
   "metadata": {},
   "outputs": [],
   "source": [
    "encrypted_text = encrypted_text.replace('C','f').replace('F','n')"
   ]
  },
  {
   "cell_type": "code",
   "execution_count": 98,
   "metadata": {},
   "outputs": [],
   "source": [
    "encrypted_text = encrypted_text.replace('U','d').replace('P','i').replace('K','r')"
   ]
  },
  {
   "cell_type": "code",
   "execution_count": 101,
   "metadata": {},
   "outputs": [],
   "source": [
    "encrypted_text =encrypted_text.replace('L','s')"
   ]
  },
  {
   "cell_type": "code",
   "execution_count": 103,
   "metadata": {},
   "outputs": [],
   "source": [
    "encrypted_text =encrypted_text.replace('D','l').replace('M','a').replace('N','c').replace('Y','y')"
   ]
  },
  {
   "cell_type": "code",
   "execution_count": 105,
   "metadata": {},
   "outputs": [],
   "source": [
    "encrypted_text =encrypted_text.replace('E','m').replace('W','w').replace('R','g').replace('B','k').replace('V','v')"
   ]
  },
  {
   "cell_type": "code",
   "execution_count": 107,
   "metadata": {},
   "outputs": [],
   "source": [
    "encrypted_text =encrypted_text.replace('A','b').replace('X','x')"
   ]
  },
  {
   "cell_type": "code",
   "execution_count": 110,
   "metadata": {},
   "outputs": [],
   "source": [
    "encrypted_text =encrypted_text.replace('Q','u').replace('H','p')"
   ]
  },
  {
   "cell_type": "code",
   "execution_count": 111,
   "metadata": {},
   "outputs": [
    {
     "data": {
      "text/plain": [
       "\"one way to solve an encrypted message, if we know its language, is to find a different plaintext of the same language long enough to fill one sheet or so, and then we count the occurrences of each letter. we call the most freJuently occurring letter the 'first', the next most occurring letter the 'second' the following most occurring letter the 'third', and so on, until we account for all the different letters in the plaintext sample. then we look at the cipher text we want to solve and we also classify its symbols. we find the most occurring symbol and change it to the form of the 'first' letter of the plaintext sample, the next most common symbol is changed to the form of the 'second' letter, and the following most common symbol is changed to the form of the 'third' letter, and so on, until we account for all symbols of the cryptogram we want to solve.\""
      ]
     },
     "execution_count": 111,
     "metadata": {},
     "output_type": "execute_result"
    }
   ],
   "source": [
    "encrypted_text"
   ]
  },
  {
   "cell_type": "code",
   "execution_count": null,
   "metadata": {},
   "outputs": [],
   "source": []
  }
 ],
 "metadata": {
  "kernelspec": {
   "display_name": "Python 3",
   "language": "python",
   "name": "python3"
  },
  "language_info": {
   "codemirror_mode": {
    "name": "ipython",
    "version": 3
   },
   "file_extension": ".py",
   "mimetype": "text/x-python",
   "name": "python",
   "nbconvert_exporter": "python",
   "pygments_lexer": "ipython3",
   "version": "3.8.5"
  }
 },
 "nbformat": 4,
 "nbformat_minor": 4
}
